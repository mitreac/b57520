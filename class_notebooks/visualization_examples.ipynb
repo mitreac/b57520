{
 "cells": [
  {
   "cell_type": "markdown",
   "metadata": {},
   "source": [
    "### <font color = \"red\">Visualization Examples</font>\n",
    "\n",
    "Load the **iris** dataset from the following url:   \n",
    "\n",
    "https://raw.githubusercontent.com/uiuc-cse/data-fa14/gh-pages/data/iris.csv\n",
    "\n",
    "Plot the `petal_length` versus `sepal_length` separate by species.\n",
    "\n"
   ]
  },
  {
   "cell_type": "code",
   "execution_count": null,
   "metadata": {},
   "outputs": [],
   "source": [
    "import numpy as np\n",
    "import pandas as pd"
   ]
  },
  {
   "cell_type": "code",
   "execution_count": null,
   "metadata": {},
   "outputs": [],
   "source": []
  },
  {
   "cell_type": "code",
   "execution_count": null,
   "metadata": {},
   "outputs": [],
   "source": [
    "# load data from url\n",
    "\n",
    "df_iris = pd.read_csv('https://raw.githubusercontent.com/uiuc-cse/data-fa14/gh-pages/data/iris.csv')\n",
    "df_iris.head()\n",
    "\n"
   ]
  },
  {
   "cell_type": "code",
   "execution_count": null,
   "metadata": {},
   "outputs": [],
   "source": [
    "# using pandas plotting (matplotlib-based)\n",
    "# plot the numeric columns\n",
    "# set plot properties using the arguments in the plot function\n",
    "\n",
    "\n",
    "df_iris.plot(linestyle = \"dashed\", subplots = True)"
   ]
  },
  {
   "cell_type": "code",
   "execution_count": null,
   "metadata": {},
   "outputs": [],
   "source": [
    "# Set plot properties using the arguments in the plot function\n",
    "\n",
    "res = df_iris.groupby(\"species\").plot(x = \"sepal_length\", y = \"petal_length\", \n",
    "                                kind = \"scatter\", subplots = False, #sharex = True, \n",
    "                                xlim = (4,9), ylim = (0,7),\n",
    "                                xlabel = \"Sepal length\", ylabel = \"Petal length\")\n"
   ]
  },
  {
   "cell_type": "code",
   "execution_count": null,
   "metadata": {},
   "outputs": [],
   "source": [
    "# using matplotlib:\n",
    "\n",
    "%matplotlib inline\n",
    "import matplotlib.pyplot as plt\n",
    "\n",
    "# Change plot properties using pyplot functions\n",
    "\n",
    "color = [\"red\", \"green\", \"blue\"]\n",
    "groups = df_iris.groupby(\"species\")\n",
    "i = 0\n",
    "for name, group in groups:\n",
    "    # print(group)\n",
    "    plt.scatter(group[\"sepal_length\"], group[\"petal_length\"], marker=\"o\", \n",
    "                color = color[i], label = name)\n",
    "    #plt.title(name)\n",
    "    plt.xlabel(\"Sepal length\")\n",
    "    plt.ylabel(\"Petal length\")\n",
    "    plt.xlim(4,8)\n",
    "    plt.ylim(0,7)\n",
    "    plt.legend()\n",
    "    plt.show()\n",
    "    i += 1\n",
    "    \n",
    "    "
   ]
  },
  {
   "cell_type": "code",
   "execution_count": null,
   "metadata": {},
   "outputs": [],
   "source": [
    "# dir(df_iris.groupby(\"species\"))"
   ]
  },
  {
   "cell_type": "code",
   "execution_count": null,
   "metadata": {},
   "outputs": [],
   "source": [
    "# Group data by category\n",
    "\n",
    "df_iris.groupby(\"species\").groups"
   ]
  },
  {
   "cell_type": "code",
   "execution_count": null,
   "metadata": {},
   "outputs": [],
   "source": [
    "# Compute statistics per group\n",
    "\n",
    "df_iris.groupby(\"species\").sum()"
   ]
  },
  {
   "cell_type": "code",
   "execution_count": null,
   "metadata": {},
   "outputs": [],
   "source": []
  },
  {
   "cell_type": "code",
   "execution_count": null,
   "metadata": {},
   "outputs": [],
   "source": []
  },
  {
   "cell_type": "code",
   "execution_count": null,
   "metadata": {},
   "outputs": [],
   "source": []
  },
  {
   "cell_type": "code",
   "execution_count": null,
   "metadata": {},
   "outputs": [],
   "source": [
    "# susing the seaborn library\n",
    "\n",
    "import seaborn as sns\n",
    "\n",
    "\n",
    "ax = sns.scatterplot(data = df_iris, x = \"petal_length\", y = \"sepal_length\", \n",
    "                     hue = \"species\")\n",
    "ax.set(xlabel = \"Petal length\", ylabel = \"Sepal length\")\n",
    "plt.show()"
   ]
  },
  {
   "cell_type": "code",
   "execution_count": null,
   "metadata": {},
   "outputs": [],
   "source": [
    "g = sns.FacetGrid(df_iris, col=\"species\", hue=\"species\")\n",
    "g.map(sns.scatterplot, \"sepal_length\", \"petal_length\", alpha=.5)\n",
    "g.add_legend()\n",
    "g.set_axis_labels(\"Sepal length\", \"Sepal length\")\n",
    "plt.show()"
   ]
  },
  {
   "cell_type": "code",
   "execution_count": null,
   "metadata": {},
   "outputs": [],
   "source": []
  },
  {
   "cell_type": "code",
   "execution_count": null,
   "metadata": {},
   "outputs": [],
   "source": []
  },
  {
   "cell_type": "code",
   "execution_count": null,
   "metadata": {},
   "outputs": [],
   "source": [
    "# install plotnine if the import does not work!\n",
    "# (Windows users) run one of the following two commands in the anaconda console\n",
    "# (Mac users) run one of the following two commands in a terminal\n",
    "\n",
    "# pip install plotnine\n",
    "# or\n",
    "# conda install -c conda-forge plotnine\n",
    "\n",
    "from plotnine import *\n"
   ]
  },
  {
   "cell_type": "code",
   "execution_count": null,
   "metadata": {},
   "outputs": [],
   "source": [
    "p = ggplot(df_iris, aes(\"sepal_length\", \"petal_length\", color=\"species\", shape = \"species\")) + geom_point() \n",
    "p"
   ]
  },
  {
   "cell_type": "code",
   "execution_count": null,
   "metadata": {},
   "outputs": [],
   "source": [
    "\n",
    "p = ggplot(df_iris, aes(\"petal_length\", \"sepal_length\", color=\"species\", shape = \"species\")) + geom_point() \\\n",
    "    + facet_wrap(\"~species\", ncol=1)\n",
    "p"
   ]
  },
  {
   "cell_type": "code",
   "execution_count": null,
   "metadata": {},
   "outputs": [],
   "source": []
  },
  {
   "cell_type": "code",
   "execution_count": null,
   "metadata": {},
   "outputs": [],
   "source": []
  },
  {
   "cell_type": "code",
   "execution_count": null,
   "metadata": {},
   "outputs": [],
   "source": []
  },
  {
   "cell_type": "code",
   "execution_count": null,
   "metadata": {},
   "outputs": [],
   "source": []
  }
 ],
 "metadata": {
  "kernelspec": {
   "display_name": "Python 3",
   "language": "python",
   "name": "python3"
  },
  "language_info": {
   "codemirror_mode": {
    "name": "ipython",
    "version": 3
   },
   "file_extension": ".py",
   "mimetype": "text/x-python",
   "name": "python",
   "nbconvert_exporter": "python",
   "pygments_lexer": "ipython3",
   "version": "3.8.3"
  }
 },
 "nbformat": 4,
 "nbformat_minor": 4
}
