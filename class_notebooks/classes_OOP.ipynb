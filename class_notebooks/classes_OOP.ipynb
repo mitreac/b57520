{
 "cells": [
  {
   "cell_type": "markdown",
   "metadata": {},
   "source": [
    "## Object oriented programming \n",
    "### Creating your own object types"
   ]
  },
  {
   "cell_type": "markdown",
   "metadata": {},
   "source": [
    "\n",
    "You can do perfectly good data science _without_ ever writing a `class`. You do not _need_ `class`es to succeed (or even to code). \n",
    "\n",
    "However, using `Object-Oriented Programming` can make your data science <u>easier to write</u>, <u>easier to read</u>, and <u>more intuitive</u> while also making it **more shareable/extensible**."
   ]
  },
  {
   "cell_type": "markdown",
   "metadata": {
    "slideshow": {
     "slide_type": "slide"
    }
   },
   "source": [
    "---\n",
    "#### Object-Oriented Programming"
   ]
  },
  {
   "cell_type": "markdown",
   "metadata": {
    "slideshow": {
     "slide_type": "fragment"
    }
   },
   "source": [
    "Whenever you code in Python, you should always have a similar questions that you ask yourself during your workflow: \"What do I have?\" and \"What do I need?\". While working on subcomponents of a function, you should always ask yourself \"What ***kind*** of object am I working with, and what does it do?\""
   ]
  },
  {
   "cell_type": "markdown",
   "metadata": {
    "slideshow": {
     "slide_type": "slide"
    }
   },
   "source": [
    "In Python, ***EVERYTHING*** is an object!"
   ]
  },
  {
   "cell_type": "code",
   "execution_count": null,
   "metadata": {
    "hidePrompt": true,
    "slideshow": {
     "slide_type": "fragment"
    }
   },
   "outputs": [],
   "source": [
    "# Different types\n",
    "\n"
   ]
  },
  {
   "cell_type": "markdown",
   "metadata": {
    "slideshow": {
     "slide_type": "slide"
    }
   },
   "source": [
    "### So what _are_ objects?"
   ]
  },
  {
   "cell_type": "markdown",
   "metadata": {},
   "source": [
    "<img width = 450 src='https://ih1.redbubble.net/image.9426655.9925/fc,550x550,silver.jpg'/>"
   ]
  },
  {
   "cell_type": "markdown",
   "metadata": {},
   "source": [
    "---\n",
    "### A New Frontier"
   ]
  },
  {
   "cell_type": "markdown",
   "metadata": {
    "slideshow": {
     "slide_type": "slide"
    }
   },
   "source": [
    "Up to this point, we have used objects already defined for us. However, we are not limited by those boundaries, we can *make* our own objects. This is done through the `class` keyword."
   ]
  },
  {
   "cell_type": "markdown",
   "metadata": {
    "slideshow": {
     "slide_type": "subslide"
    }
   },
   "source": [
    "<center><img src='https://ds055uzetaobb.cloudfront.net/image_optimizer/9996aa83f77a2837f41a4de7f2ab517168716532.png'/></center>"
   ]
  },
  {
   "cell_type": "markdown",
   "metadata": {
    "slideshow": {
     "slide_type": "subslide"
    }
   },
   "source": [
    "Using `class` is much like `def` functions. However, later on we get to play around with some of those 'dunder' (\\_\\_) methods we have been steering you away from."
   ]
  },
  {
   "cell_type": "markdown",
   "metadata": {},
   "source": [
    "### First, the syntax"
   ]
  },
  {
   "cell_type": "markdown",
   "metadata": {
    "slideshow": {
     "slide_type": "fragment"
    }
   },
   "source": [
    "<img src='../images/class_def.png' width=700 align='left'/>"
   ]
  },
  {
   "cell_type": "markdown",
   "metadata": {},
   "source": [
    "### The Big Idea \n",
    "> The idea behind objects is to **bundle** coherent <u>methods</u> (things the object can _do_) and <u>attributes</u> (things the object _has_) that logically go together into a well-defined _interface_."
   ]
  },
  {
   "cell_type": "markdown",
   "metadata": {
    "slideshow": {
     "slide_type": "slide"
    }
   },
   "source": [
    "They are a data abstraction that has 2 main jobs:\n",
    "1. Captures internal *representation* of the data it is abstracting\n",
    "2. Creates an *interface* for the abstracted data"
   ]
  },
  {
   "cell_type": "markdown",
   "metadata": {},
   "source": [
    "---\n",
    "### Remember Homework 7: Basically Bioinformatics?\n",
    "As a reminder, each element of our genome length `list` had this structure:\n",
    "```python\n",
    "pileup = {\n",
    "        'counts': Counter(),\n",
    "        'consensus': None\n",
    "         }\n",
    "```"
   ]
  },
  {
   "cell_type": "markdown",
   "metadata": {},
   "source": [
    "While this structure worked perfectly fine, it makes sense that all of these things could be wrapped up into a single object (_mainly because writing it out was somewhat painful and unintuitive_)."
   ]
  },
  {
   "cell_type": "markdown",
   "metadata": {
    "slideshow": {
     "slide_type": "subslide"
    }
   },
   "source": [
    "## Let's make a `Pileup` object "
   ]
  },
  {
   "cell_type": "code",
   "execution_count": null,
   "metadata": {
    "hidePrompt": true
   },
   "outputs": [],
   "source": [
    "# Pileup Object\n",
    "class Pileup:\n",
    "    \"\"\"\n",
    "    Contains a counter of nulceotides aligned at a genomic position and \n",
    "    computes depth and consensus for a genomic position\n",
    "    \n",
    "    Attributes:\n",
    "    counts (Counter):  counter of all nucleotides aligned at the genomic position\n",
    "    depth (int): total number of reads aligned at the genomic position\n",
    "    consensus (str): most common nucleotide\n",
    "    \"\"\"\n",
    "    \n",
    "    \n",
    "    def __init__(self, counts = None):\n",
    "        self.counts = counts\n",
    "        if self.counts == None:\n",
    "            self.counts = Counter()\n",
    "        self.depth = sum(self.counts.values())\n",
    "        if self.depth == 0:\n",
    "            self.__consensus = \"\"        \n",
    "        else:\n",
    "            self.__consensus = self.counts.most_common()[0][0]\n",
    "\n",
    "    @property # getter\n",
    "    def consensus(self):\n",
    "        \"\"\"\n",
    "        Get the consensus nucleotide for the pileup\n",
    "        \"\"\"\n",
    "        return self.__consensus\n",
    "    \n",
    "    # @set.consensus # property setter\n",
    "    # def consensus(self, cons):\n",
    "    #    self.__consensus = consensus\n",
    "        \n",
    "\n",
    "    def __str__(self):\n",
    "        return f\"Pileup({self.counts})\"\n",
    "    \n",
    "    def __repr__(self):\n",
    "        return f\"Pileup({self.counts})\"\n",
    "    \n",
    "    def __add__(self, p):\n",
    "        c = self.counts.copy()\n",
    "        c.update(p.counts)\n",
    "        return Pileup(c)\n",
    "        \n",
    "        \n",
    "    def update(self, seq):\n",
    "        \"\"\"\n",
    "        Update the countes depth and consensus nucleotide for the pileup\n",
    "        given new nucleotides to add to the pileup\n",
    "        \"\"\"\n",
    "        self.counts.update(seq)\n",
    "        self.depth = sum(self.counts.values())\n",
    "        self.__consensus = self.counts.most_common()[0][0]\n",
    "\n"
   ]
  },
  {
   "cell_type": "markdown",
   "metadata": {
    "slideshow": {
     "slide_type": "subslide"
    }
   },
   "source": [
    "---\n",
    "We need to take a second to talk about 3 things real quick:\n",
    "1. Functions within `class`es (like `self.update`) are called ***methods*** or procedural attributes\n",
    "2. `self.depth` and `self.counts` are called ***attributes*** since they only contain data\n",
    "3. What in the world is `self`?"
   ]
  },
  {
   "cell_type": "markdown",
   "metadata": {
    "slideshow": {
     "slide_type": "subslide"
    }
   },
   "source": [
    "**PS**: `self` is a parameter that allows an object to look back at its self. Specifically the current *instance* of itself. However, outside of writing the class, you will never actually have to pass the word `self` into the methods.\n",
    "\n",
    "Let's use our new class."
   ]
  },
  {
   "cell_type": "code",
   "execution_count": null,
   "metadata": {},
   "outputs": [],
   "source": [
    "# should import counter before using our new class\n",
    "# since our Pileup class uses it\n",
    "\n",
    "from collections import Counter"
   ]
  },
  {
   "cell_type": "code",
   "execution_count": null,
   "metadata": {
    "hidePrompt": true
   },
   "outputs": [],
   "source": [
    "# Use Pileup - explore\n",
    "# create/init Pileup objects, we need the __init__ method\n",
    "\n"
   ]
  },
  {
   "cell_type": "code",
   "execution_count": null,
   "metadata": {},
   "outputs": [],
   "source": [
    "# what did we create? type()\n",
    "\n",
    "\n"
   ]
  },
  {
   "cell_type": "code",
   "execution_count": null,
   "metadata": {},
   "outputs": [],
   "source": [
    "# dir\n",
    "\n"
   ]
  },
  {
   "cell_type": "code",
   "execution_count": null,
   "metadata": {},
   "outputs": [],
   "source": [
    "# check attributes\n",
    "\n"
   ]
  },
  {
   "cell_type": "code",
   "execution_count": null,
   "metadata": {},
   "outputs": [],
   "source": [
    "# we need the __repr__ method to display the object value\n",
    "\n"
   ]
  },
  {
   "cell_type": "markdown",
   "metadata": {
    "slideshow": {
     "slide_type": "fragment"
    }
   },
   "source": [
    "See, I didn't need to use `self` on the outside."
   ]
  },
  {
   "cell_type": "code",
   "execution_count": null,
   "metadata": {},
   "outputs": [],
   "source": []
  },
  {
   "cell_type": "markdown",
   "metadata": {
    "slideshow": {
     "slide_type": "subslide"
    }
   },
   "source": [
    "Wait, with just that, we made a new object? I don't believe you..."
   ]
  },
  {
   "cell_type": "code",
   "execution_count": null,
   "metadata": {},
   "outputs": [],
   "source": []
  },
  {
   "cell_type": "code",
   "execution_count": null,
   "metadata": {},
   "outputs": [],
   "source": [
    "# we need the __str__ method to print the object value\n",
    "\n",
    "\n",
    "\n"
   ]
  },
  {
   "cell_type": "code",
   "execution_count": null,
   "metadata": {},
   "outputs": [],
   "source": [
    "# Use the update method to add new nucleotides to the pileup\n",
    "\n"
   ]
  },
  {
   "cell_type": "code",
   "execution_count": null,
   "metadata": {},
   "outputs": [],
   "source": []
  },
  {
   "cell_type": "code",
   "execution_count": null,
   "metadata": {},
   "outputs": [],
   "source": []
  },
  {
   "cell_type": "code",
   "execution_count": null,
   "metadata": {},
   "outputs": [],
   "source": [
    "# add two pileups\n",
    "\n"
   ]
  },
  {
   "cell_type": "code",
   "execution_count": null,
   "metadata": {},
   "outputs": [],
   "source": []
  },
  {
   "cell_type": "code",
   "execution_count": null,
   "metadata": {},
   "outputs": [],
   "source": []
  },
  {
   "cell_type": "markdown",
   "metadata": {},
   "source": [
    "____"
   ]
  },
  {
   "cell_type": "markdown",
   "metadata": {},
   "source": [
    "### Expanding classes \n",
    "#### Create a general base class then a more specific child class\n",
    "\n",
    "\n",
    "Design an object called `Cell`:\n",
    "1. Takes three attributes: \n",
    "    - `type`: epithelial, connective, muscle, or nervous\n",
    "    - `organism`: human, mouse, ....\n",
    "    - `level`: number - division level\n",
    "1. Has a method called `divide` that returns in a tuple two cells of the same type"
   ]
  },
  {
   "cell_type": "code",
   "execution_count": null,
   "metadata": {},
   "outputs": [],
   "source": [
    "class Cell:\n",
    "    def __init__(self, ctype = \"epithelial\", corganism = \"human\", \n",
    "                 clevel = 0, cstatus = \"living\"):\n",
    "        self.type = ctype\n",
    "        self.organism = corganism\n",
    "        self.level = clevel\n",
    "        self.status = cstatus\n",
    "        \n",
    "    def __str__(self):\n",
    "        return f\"Cell('{self.type}','{self.organism}',{self.level},'{self.status}')\"\n",
    "    \n",
    "    def __repr__(self):\n",
    "        return f\"Cell('{self.type}','{self.organism}',{self.level},'{self.status}')\"\n",
    "    \n",
    "    def divide(self):\n",
    "        return (Cell(self.type, self.organism, self.level + 1),\n",
    "                Cell(self.type, self.organism, self.level + 1))\n",
    "        \n",
    "        \n",
    "    "
   ]
  },
  {
   "cell_type": "code",
   "execution_count": null,
   "metadata": {},
   "outputs": [],
   "source": [
    "# Explore the cell\n",
    "\n"
   ]
  },
  {
   "cell_type": "code",
   "execution_count": null,
   "metadata": {},
   "outputs": [],
   "source": [
    "# type, isinstance\n",
    "\n"
   ]
  },
  {
   "cell_type": "code",
   "execution_count": null,
   "metadata": {},
   "outputs": [],
   "source": []
  },
  {
   "cell_type": "markdown",
   "metadata": {},
   "source": [
    "### Expanding the Cell class  \n",
    "\n",
    "Design an object called `ImmuneCell`:\n",
    "1. Takes three attributes: \n",
    "    - `type`: connective\n",
    "    - `organism`: human, mouse, ....\n",
    "    - `level`: number - division level\n",
    "1. Has a method called `divide` that returns in a tuple two cells of the same type\n",
    "1. Has a method called `kill_cell` that deletes the cell given as an argument\n",
    "- Add parent class in parantheses after the class name to build on it's functionality\n",
    "- Uses the super() functions to access functionality form the parent class"
   ]
  },
  {
   "cell_type": "code",
   "execution_count": null,
   "metadata": {},
   "outputs": [],
   "source": [
    "class ImmuneCell(Cell):\n",
    "    def __init__(self, corganism = \"human\", \n",
    "                 clevel = 0, cstatus = \"living\"):\n",
    "        super(ImmuneCell, self).__init__()\n",
    "        self.type = \"epithelial\"\n",
    "        self.organism = corganism\n",
    "        self.level = clevel\n",
    "        self.status = cstatus\n",
    "        \n",
    "        \n",
    "    def __str__(self):\n",
    "        return f\"ImmuneCell('{self.organism}',{self.level})\"\n",
    "    \n",
    "    def __repr__(self):\n",
    "        return f\"ImmuneCell('{self.organism}',{self.level})\"\n",
    "    \n",
    "    def divide(self):\n",
    "        return super(ImmuneCell,self).divide()\n",
    "    \n",
    "    def kill_cell(self, c):\n",
    "        c.status = \"dead\""
   ]
  },
  {
   "cell_type": "code",
   "execution_count": null,
   "metadata": {},
   "outputs": [],
   "source": [
    "# Explore the new type\n",
    "\n"
   ]
  },
  {
   "cell_type": "code",
   "execution_count": null,
   "metadata": {},
   "outputs": [],
   "source": []
  },
  {
   "cell_type": "code",
   "execution_count": null,
   "metadata": {},
   "outputs": [],
   "source": []
  },
  {
   "cell_type": "code",
   "execution_count": null,
   "metadata": {},
   "outputs": [],
   "source": []
  },
  {
   "cell_type": "code",
   "execution_count": null,
   "metadata": {},
   "outputs": [],
   "source": []
  },
  {
   "cell_type": "markdown",
   "metadata": {},
   "source": [
    "---"
   ]
  },
  {
   "cell_type": "markdown",
   "metadata": {},
   "source": [
    "### Extra Practice"
   ]
  },
  {
   "cell_type": "markdown",
   "metadata": {},
   "source": [
    "Design an object called `Point`:\n",
    "1. Takes two attributes: `x` and `y`\n",
    "1. Has a method called `distance` that returns the Euclidean distance from another point "
   ]
  },
  {
   "cell_type": "code",
   "execution_count": null,
   "metadata": {},
   "outputs": [],
   "source": [
    "# Define Point here"
   ]
  },
  {
   "cell_type": "markdown",
   "metadata": {},
   "source": [
    "Design an object called `Line`:\n",
    "1. Takes two attributes that are both `Point`s: `start` and `stop` \n",
    "1. Has a method called `length` that returns the distance between `start` and `stop`"
   ]
  },
  {
   "cell_type": "code",
   "execution_count": null,
   "metadata": {},
   "outputs": [],
   "source": [
    "# Define Line here "
   ]
  },
  {
   "cell_type": "markdown",
   "metadata": {},
   "source": [
    "Design and object called `Rectangle`\n",
    "1. Takes 3 attributes: \n",
    "    * `origin` (the lower left `Point` of the `Rectangle`)\n",
    "    * `height`\n",
    "    * `width`\n",
    "1. Has a method called `perimeter` that returns the length of the perimeter of the `Rectangle`\n",
    "1. Has a method called `area` that returns the area of the `Rectangle`"
   ]
  },
  {
   "cell_type": "code",
   "execution_count": null,
   "metadata": {},
   "outputs": [],
   "source": [
    "# Define Rectangle here"
   ]
  },
  {
   "cell_type": "code",
   "execution_count": null,
   "metadata": {},
   "outputs": [],
   "source": [
    "# check methods\n",
    "\n"
   ]
  }
 ],
 "metadata": {
  "kernelspec": {
   "display_name": "Python 3",
   "language": "python",
   "name": "python3"
  },
  "language_info": {
   "codemirror_mode": {
    "name": "ipython",
    "version": 3
   },
   "file_extension": ".py",
   "mimetype": "text/x-python",
   "name": "python",
   "nbconvert_exporter": "python",
   "pygments_lexer": "ipython3",
   "version": "3.8.3"
  }
 },
 "nbformat": 4,
 "nbformat_minor": 4
}
