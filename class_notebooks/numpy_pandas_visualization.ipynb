{
 "cells": [
  {
   "cell_type": "markdown",
   "metadata": {},
   "source": [
    "## NumPy, Pandas & Visualization\n",
    "### BIOINF 575 - Fall 2020\n",
    "\n"
   ]
  },
  {
   "cell_type": "markdown",
   "metadata": {},
   "source": [
    "_____\n",
    "\n",
    "\n",
    "### RECAP & new info - NumPy - Numeric python <img src=\"https://upload.wikimedia.org/wikipedia/commons/thumb/1/1a/NumPy_logo.svg/1200px-NumPy_logo.svg.png\" alt=\"NumPy logo\" width = \"100\">"
   ]
  },
  {
   "cell_type": "markdown",
   "metadata": {},
   "source": [
    "____\n",
    "#### The list contains refences to each of the values.\n",
    "#### The array refers to a block of memory containg all values one after the other.\n",
    "- <b>that is why we need to know the size of the array and the array size cannot change <br>\n",
    "\n",
    "\n",
    "<img src = \"https://www.python-course.eu/images/list_structure.png\" width = 300 /> &nbsp;&nbsp;&nbsp;&nbsp;&nbsp;&nbsp;&nbsp;&nbsp;&nbsp;&nbsp;<img src = \"https://www.python-course.eu/images/array_structure.png\" width = 350 />\n",
    "____"
   ]
  },
  {
   "cell_type": "markdown",
   "metadata": {},
   "source": [
    "#### Arrays of different dimensions (`shape` gives the number of elements on each dimension):\n",
    "\n",
    "<img src=\"https://www.oreilly.com/library/view/elegant-scipy/9781491922927/assets/elsp_0105.png\" alt=\"data structures\" width=\"450\">  \n",
    "\n",
    "_____\n"
   ]
  },
  {
   "cell_type": "markdown",
   "metadata": {},
   "source": [
    "#### <b>NumPy basics</b>"
   ]
  },
  {
   "cell_type": "markdown",
   "metadata": {},
   "source": [
    "Arrays are designed to:\n",
    "* <b>handle vectorized operations lists are not</b>\n",
    "    - if you apply a function it is performed on every item in the array, rather than on the whole array object\n",
    "    - both arrays and lists have 0-based indexing\n",
    "* <b>store multiple items of the same data type</b>\n",
    "* <b>handle missing values </b>\n",
    "    - missing numerical values are represented using the `np.nan` object (not a number)\n",
    "    - the object `np.inf` represents infinite  \n",
    "* <b>have an unchangeable size</b>\n",
    "    - array size cannot be changed, should create a new array\n",
    "    - you know when you create the array how much space you need for it and that will not change  \n",
    "* <b>have efficient memory usage</b>\n",
    "    - an equivalent numpy array occupies much less space than a python list of lists"
   ]
  },
  {
   "cell_type": "markdown",
   "metadata": {},
   "source": [
    "#### <b>Importing NumPy\n",
    "The recommended convention to import numpy is to use the <b>np</b> alias:"
   ]
  },
  {
   "cell_type": "code",
   "execution_count": null,
   "metadata": {},
   "outputs": [],
   "source": [
    "import numpy as np"
   ]
  },
  {
   "cell_type": "markdown",
   "metadata": {},
   "source": [
    "#### <b>Documentation and help\n",
    "https://numpy.org/doc/"
   ]
  },
  {
   "cell_type": "code",
   "execution_count": null,
   "metadata": {},
   "outputs": [],
   "source": [
    "# np.lookfor('sum') "
   ]
  },
  {
   "cell_type": "code",
   "execution_count": null,
   "metadata": {},
   "outputs": [],
   "source": [
    "np.me*?"
   ]
  },
  {
   "cell_type": "code",
   "execution_count": null,
   "metadata": {},
   "outputs": [],
   "source": [
    "# np.mean?"
   ]
  },
  {
   "cell_type": "code",
   "execution_count": null,
   "metadata": {},
   "outputs": [],
   "source": [
    "# help(np.mean)"
   ]
  },
  {
   "cell_type": "markdown",
   "metadata": {},
   "source": [
    "#### <b>Motivating example</b> - change weight from grams to ounces"
   ]
  },
  {
   "cell_type": "code",
   "execution_count": null,
   "metadata": {},
   "outputs": [],
   "source": [
    "weight_list_g = [20, 5, 30, 100]"
   ]
  },
  {
   "cell_type": "code",
   "execution_count": null,
   "metadata": {},
   "outputs": [],
   "source": [
    "# using lists we need a comprehension to apply the formula to each element of the list\n",
    "weight_list_oz = [weightg*0.03527396195 for weightg in weight_list_g]\n",
    "weight_list_oz"
   ]
  },
  {
   "cell_type": "code",
   "execution_count": null,
   "metadata": {},
   "outputs": [],
   "source": [
    "# using arrays we can apply the formula directly to the array and it will be applied to each element\n",
    "\n",
    "np.array(weight_list_g)"
   ]
  },
  {
   "cell_type": "code",
   "execution_count": null,
   "metadata": {},
   "outputs": [],
   "source": [
    "weight_array_oz = np.array(weight_list_g)*0.03527396195\n",
    "weight_array_oz"
   ]
  },
  {
   "cell_type": "code",
   "execution_count": null,
   "metadata": {},
   "outputs": [],
   "source": [
    "# plot the values\n",
    "#the following command is used to show the plot in the notebook not in a pop-up window\n",
    "%matplotlib inline   \n",
    "\n",
    "# the following command is used to import the module and class used for plorring\n",
    "import matplotlib.pyplot as plt  \n",
    "\n",
    "plt.plot(weight_array_oz)\n",
    "plt.show()"
   ]
  },
  {
   "cell_type": "markdown",
   "metadata": {},
   "source": [
    "#### <b>Functions for creating arrays</b>\n",
    "https://docs.scipy.org/doc/numpy-1.13.0/user/basics.creation.html"
   ]
  },
  {
   "cell_type": "code",
   "execution_count": null,
   "metadata": {},
   "outputs": [],
   "source": [
    "# Creating arrays see the different functions used to create arrays:\n",
    "\n",
    "matrix_list = np.array([[1,2,3,4], [40,60,70,80], [101, 202, 303, 404]])\n",
    "print(\"2D array from a list of lists: \\n\")\n",
    "print(\"np.array([[1,2,3,4], [40,60,70,80], [101, 202, 303, 404]]) \\n\")\n",
    "print(matrix_list)\n",
    "print(\"_______________________________________________________________\\n\")\n",
    "\n",
    "\n",
    "vector_range = np.arange(3, 18, 3) \n",
    "print(\"Vecor of evenly spaced values form a range (arange) given by start, stop and step: \\n\")\n",
    "print(\"np.arange(3, 18, 3) \\n\")\n",
    "print(vector_range)\n",
    "print(\"_______________________________________________________________\\n\")\n",
    "\n",
    "vector_lin = np.linspace(0, 1.5, 7)\n",
    "print(\"Vector of evenly spaced values (known number, linspace) given by start, stop and number of points: \\n\")\n",
    "print(\"np.linspace(0, 1.5, 7) \\n\")\n",
    "print(vector_lin)\n",
    "print(\"_______________________________________________________________\\n\")\n",
    "\n",
    "\n",
    "matrix_zeros = np.zeros((5,4), dtype = int)\n",
    "print(\"2D array of zeros: \\n\")\n",
    "print(\"np.zeros((5,4), dtype = int) \\n\")\n",
    "print(matrix_zeros)\n",
    "print(\"_______________________________________________________________\\n\")\n",
    "\n",
    "\n",
    "matrix_ones = np.ones((4,5,3), dtype = int)\n",
    "print(\"3D array of ones: \\n\")\n",
    "print(\"np.ones((4,5,3), dtype = int) \\n\")\n",
    "print(matrix_ones)\n",
    "print(\"_______________________________________________________________\\n\")\n",
    "\n",
    "\n",
    "val = 42\n",
    "matrix_val = np.full((4,5), val, dtype = int)\n",
    "print(\"2D array filled with a given value: \\n\")\n",
    "print(\"val = 42 \")\n",
    "print(\"np.full((4,5) \\n\")\n",
    "print(matrix_val)\n",
    "print(\"_______________________________________________________________\\n\")\n",
    "\n",
    "\n",
    "\n",
    "matrix_id = np.identity(4)\n",
    "print(\"2D square array filled with 1 on the diagonal: \\n\")\n",
    "print(\"np.identity(4) \\n\")\n",
    "print(matrix_id)\n",
    "print(\"_______________________________________________________________\\n\")\n",
    "\n",
    "\n",
    "\n",
    "# Create a 4x6 matrix with a diagonal of 1s - does not need to be square - k gives the line and col of the first 1\n",
    "matrix_eye = np.eye(4, 6, k = 1) \n",
    "print(\"Create a 4x6 identity matrix - does not need to be square, starting diagonal inxed given by k: \\n\")\n",
    "print(\"np.eye(4, 6, k = 1)  \\n\")\n",
    "print(matrix_eye)\n",
    "print(\"_______________________________________________________________\\n\")\n",
    "\n",
    "\n",
    "# Create a 2D array with the given 1D array on the diagonal starting with index k\n",
    "# help(np.diag)\n",
    "vector_diag = np.array([1,2,3])\n",
    "matrix_diag =  np.diag(vector_diag, k = 1)\n",
    "print(\"Create a 2D array with the given 1D array on the diagonal starting with the given index k: \\n\")\n",
    "print(\"vector_diag = np.array([1,2,3])\")\n",
    "print(\"np.diag(vector_diag, k = 1) \\n\")\n",
    "print(matrix_diag)\n",
    "print(\"_______________________________________________________________\\n\")\n",
    "\n",
    "\n",
    "# Extract the diagonal from a given matrix starting a given index\n",
    "matrix_list = np.array([[1,2,3,4], [40,60,70,80], [101, 202, 303, 404]])\n",
    "vec_diag = np.diag(matrix_list, k = 0)\n",
    "print(\"Extract the diagonal from a given matrix starting a given index: \\n\")\n",
    "print(\"matrix_list = np.array([[1,2,3,4], [40,60,70,80], [101, 202, 303, 404]])\")\n",
    "print(\"matrix_list: \\n\", matrix_list, \"\\n\" )\n",
    "print(\"np.diag(matrix_list, k = 0) \\n\")\n",
    "print(vec_diag)\n",
    "print(\"_______________________________________________________________\\n\")\n",
    "\n",
    "\n"
   ]
  },
  {
   "cell_type": "code",
   "execution_count": null,
   "metadata": {},
   "outputs": [],
   "source": []
  },
  {
   "cell_type": "markdown",
   "metadata": {},
   "source": [
    "_____\n",
    "\n",
    "#### Random data - important for generating synthetic data to test your code\n",
    "https://docs.scipy.org/doc/numpy-1.13.0/reference/routines.random.html"
   ]
  },
  {
   "cell_type": "code",
   "execution_count": null,
   "metadata": {},
   "outputs": [],
   "source": [
    "# help(np.random.random)\n",
    "\n",
    "test_matrix = np.random.random((3,4)) \n",
    "print(\"An array filled with random values from the continuous uniform distribution over the [0,1] interval: \\n\")\n",
    "print(\"np.random.random((3,4)) \\n\")\n",
    "print(test_matrix, \"\\n\")\n",
    "print(\"_______________________________________________________________\\n\")\n",
    "\n",
    "\n",
    "# Multiply by the standard deviation and add the mean if the normal distribution is not standard \n",
    "test_matrix = np.random.randn(3,4) \n",
    "print(\"An array filled with random values from the standard normal distribution (mean = 0, standard deviation = 1) interval: \\n\")\n",
    "print(\"np.random.randn(3,4) \\n\")\n",
    "print(test_matrix, \"\\n\")\n",
    "print(\"_______________________________________________________________\\n\")\n",
    "\n",
    "\n",
    "# Set a seed to get the same random numbers\n",
    "np.random.seed(10)\n",
    "test_matrix = np.random.randn(3,4) \n",
    "print(\"Set a seed to get the same random numbers: \\n\")\n",
    "print(\"np.random.randn(3,4) \\n\")\n",
    "print(test_matrix, \"\\n\")\n",
    "print(\"_______________________________________________________________\\n\")\n",
    "\n",
    "\n",
    "np.random.seed(10)\n",
    "test_matrix = np.random.randn(3,4) \n",
    "print(\"\\nSet a seed to get the same random numbers: \\n\")\n",
    "print(\"np.random.randn(3,4) \\n\")\n",
    "print(test_matrix, \"\\n\")\n",
    "print(\"_______________________________________________________________\\n\")\n",
    "\n"
   ]
  },
  {
   "cell_type": "code",
   "execution_count": null,
   "metadata": {},
   "outputs": [],
   "source": []
  },
  {
   "cell_type": "markdown",
   "metadata": {},
   "source": [
    "_____\n",
    "#### <b>Basic array attributes (important to understand the data you are working with):</b>\n",
    "* <b>shape</b>: array dimension\n",
    "* <b>size</b>: Number of elements in array\n",
    "* <b>ndim</b>: Number of array dimension (len(arr.shape))\n",
    "* <b>dtype</b>: Data-type of the array"
   ]
  },
  {
   "cell_type": "code",
   "execution_count": null,
   "metadata": {},
   "outputs": [],
   "source": [
    "# nested lists give us multi dimensional arrays\n",
    "\n",
    "matrix = np.array([[1,2,3],[4,5,6],[7,8,9],[10,11,12]])\n",
    "# dir(matrix)\n",
    "print(\"Create matrix array from lists of lists: \\n\")\n",
    "print(\"np.array([[1,2,3],[4,5,6],[7,8,9],[10,11,12]]) \\n\")\n",
    "print(matrix)\n",
    "print(\"_______________________________________________________________\\n\")\n",
    "\n",
    "\n",
    "print(\"Size of the array (total number of elements): \\n\")\n",
    "print(\"matrix.size \\n\")\n",
    "print(matrix.size)\n",
    "print(\"_______________________________________________________________\\n\")\n",
    "\n",
    "print(\"Shape of the array (tuple of number of elements on each dimension): \\n\")\n",
    "print(\"matrix.shape \\n\")\n",
    "print(matrix.shape)\n",
    "print(\"_______________________________________________________________\\n\")\n",
    "\n",
    "print(\"Type of the array data (type of the array elements): \\n\")\n",
    "print(\"Examples include int64, int32 (int and the number of bits it is represented on), <U5 (unicode and number of characters) \\n\")\n",
    "print(\"matrix.dtype \\n\")\n",
    "print(matrix.dtype)\n",
    "print(\"_______________________________________________________________\\n\")"
   ]
  },
  {
   "cell_type": "code",
   "execution_count": null,
   "metadata": {},
   "outputs": [],
   "source": []
  },
  {
   "cell_type": "markdown",
   "metadata": {},
   "source": [
    "____\n",
    "#### <b>Reshaping</b> - changing the numbers of rows and columns - data and size stay the same\n",
    "#### Important for matrix operations used to compute statistics from your data\n",
    "* <b>T</b>: transpose of a 2D array (rows and columns switched)\n",
    "* <b>reshape(rowno, colno)</b>: change the number of rows and columns, but NOT the data or the size\n"
   ]
  },
  {
   "cell_type": "code",
   "execution_count": null,
   "metadata": {},
   "outputs": [],
   "source": [
    "print(\"matrix: \\n\")\n",
    "print(matrix)\n",
    "print(\"_______________________________________________________________\\n\")\n",
    "\n",
    "\n",
    "print(\"Transpose of the array (rows and columns switched): \\n\")\n",
    "print(\"matrix.T \\n\")\n",
    "print(matrix.T)\n",
    "print(\"_______________________________________________________________\\n\")\n",
    "\n",
    "print(\"Matrix reshaped from 3 by 4 to 6 by 2 (notice the product is the same = 12 so we keep the same size) \\n\")\n",
    "print(\"matrix.reshape(6, 2) \\n\")\n",
    "print(matrix.reshape(6, 2))\n",
    "print(\"_______________________________________________________________\\n\")\n",
    "\n",
    "# help(np.reshape)\n"
   ]
  },
  {
   "cell_type": "code",
   "execution_count": null,
   "metadata": {},
   "outputs": [],
   "source": []
  },
  {
   "cell_type": "markdown",
   "metadata": {},
   "source": [
    "____\n",
    "#### <b>Indexing/Slicing(subsetting)</b> (important to work with subsets of your data): \n",
    "* <b>list-like</b>: [start:stop:step][start:stop:step] \n",
    "* <b>rows and cols index/range</b>: [start:stop:step, start:stop:step]\n",
    "\n",
    "* <b>change array type</b> - vector = vector.<b>astype</b>(new_type)\n",
    "___\n"
   ]
  },
  {
   "cell_type": "code",
   "execution_count": null,
   "metadata": {},
   "outputs": [],
   "source": [
    "print(\"Create a matrix with 6 rows and 6 columns \\n\")\n",
    "a_row = np.arange(6)\n",
    "a = np.zeros((6,6)) + a_row + (10 * a_row).reshape(6,1)\n",
    "# change array type\n",
    "a = a.astype(int)\n",
    "\n",
    "print(\"a_row = np.arange(6)\")\n",
    "print(\"a = np.zeros(6,6) + a_row + (10 * a_row).reshape(6,1)\")\n",
    "print(\"a = a.astype(int) \\n\")\n",
    "print(a)\n",
    "print(\"_______________________________________________________________\\n\")\n",
    "\n",
    "print(\"a[0, 3:5] \\n\")\n",
    "print(a[0, 3:5])\n",
    "print(\"_______________________________________________________________\\n\")\n",
    "\n"
   ]
  },
  {
   "cell_type": "markdown",
   "metadata": {},
   "source": [
    "___\n",
    "The code color in the left corresponds to the result in the matrix to the right highlighted with the same color: \n",
    "\n",
    "<img src = \"http://scipy-lectures.org/_images/numpy_indexing.png\" width = 400/>"
   ]
  },
  {
   "cell_type": "markdown",
   "metadata": {},
   "source": [
    "____\n",
    "#### <font color = \"red\">Exercise</font>\n",
    "Try the above subsetting exmaples.\n",
    "\n"
   ]
  },
  {
   "cell_type": "code",
   "execution_count": null,
   "metadata": {},
   "outputs": [],
   "source": []
  },
  {
   "cell_type": "code",
   "execution_count": null,
   "metadata": {},
   "outputs": [],
   "source": []
  },
  {
   "cell_type": "code",
   "execution_count": null,
   "metadata": {},
   "outputs": [],
   "source": [
    "print(\"Create a matrix with 5 rows and 8 columns with numbers from 0 to 40 (40 not included) \\n\")\n",
    "matrix = np.arange(40).reshape(5,8)\n",
    "\n",
    "print(\"matrix = np.arange(40).reshape(5,8) \\n\")\n",
    "print(matrix)\n",
    "print(\"_______________________________________________________________\\n\")\n",
    "\n",
    "print(\"\")\n",
    "\n"
   ]
  },
  {
   "cell_type": "code",
   "execution_count": null,
   "metadata": {},
   "outputs": [],
   "source": [
    "# List-like indexing - second element second column (indices start from 0)\n",
    "\n",
    "matrix[1][1]\n"
   ]
  },
  {
   "cell_type": "code",
   "execution_count": null,
   "metadata": {},
   "outputs": [],
   "source": [
    "# Using both rows and columns indices to get a value\n",
    "\n",
    "matrix[1,1]\n"
   ]
  },
  {
   "cell_type": "code",
   "execution_count": null,
   "metadata": {},
   "outputs": [],
   "source": [
    "# Using both rows and columns indices to get a sub-matrix\n",
    "# List-like indexing will not work in this case \n",
    "\n",
    "matrix[:2, :3]\n"
   ]
  },
  {
   "cell_type": "markdown",
   "metadata": {},
   "source": [
    "#### Array of indeces subsetting - use array of indices to subset array with only the elements given by the indices"
   ]
  },
  {
   "cell_type": "code",
   "execution_count": null,
   "metadata": {},
   "outputs": [],
   "source": [
    "#________\n",
    "\n",
    "matrix"
   ]
  },
  {
   "cell_type": "code",
   "execution_count": null,
   "metadata": {},
   "outputs": [],
   "source": [
    "# Take only the second and fourth rows and the third forurth and fifth columns. \n",
    "# (indices start from 0)\n",
    "\n",
    "matrix[[1,3],2:5]\n",
    "\n"
   ]
  },
  {
   "cell_type": "code",
   "execution_count": null,
   "metadata": {},
   "outputs": [],
   "source": [
    "matrix"
   ]
  },
  {
   "cell_type": "markdown",
   "metadata": {},
   "source": [
    "____\n",
    "\n",
    "#### <font color = \"red\">Exercise</font>\n",
    "From the above matrix take only the first, fourth and fifth row and the second, third and sixth column\n",
    "\n",
    "\n"
   ]
  },
  {
   "cell_type": "code",
   "execution_count": null,
   "metadata": {},
   "outputs": [],
   "source": []
  },
  {
   "cell_type": "code",
   "execution_count": null,
   "metadata": {},
   "outputs": [],
   "source": []
  },
  {
   "cell_type": "code",
   "execution_count": null,
   "metadata": {},
   "outputs": [],
   "source": []
  },
  {
   "cell_type": "markdown",
   "metadata": {},
   "source": [
    "#### Conditional subsetting - use array of booleans to subset array with only the elements where the bool array is True"
   ]
  },
  {
   "cell_type": "code",
   "execution_count": null,
   "metadata": {},
   "outputs": [],
   "source": [
    "matrix"
   ]
  },
  {
   "cell_type": "code",
   "execution_count": null,
   "metadata": {},
   "outputs": [],
   "source": [
    "# Using a list of boolean values will select the rows where the list is True\n",
    "# The list should have the same number of elements as the number of rows\n",
    "\n",
    "matrix[[False, True,  True,  False,  True]]"
   ]
  },
  {
   "cell_type": "code",
   "execution_count": null,
   "metadata": {},
   "outputs": [],
   "source": [
    "# Applying a conditional operator on a 1D array returns a 1D array of True False values\n",
    "\n",
    "matrix[:,0] < 10 "
   ]
  },
  {
   "cell_type": "code",
   "execution_count": null,
   "metadata": {},
   "outputs": [],
   "source": [
    "# Conditional subsetting - select only rows that meet the condition\n",
    "# Select rows that have numbers < 10 on the first column [:,0] => rows 1 and 2\n",
    "\n",
    "matrix[matrix[:,0] < 10]"
   ]
  },
  {
   "cell_type": "code",
   "execution_count": null,
   "metadata": {},
   "outputs": [],
   "source": [
    "cond = matrix[:,0] < 10\n",
    "matrix[cond]"
   ]
  },
  {
   "cell_type": "code",
   "execution_count": null,
   "metadata": {},
   "outputs": [],
   "source": [
    "# Select columns that have numbers > 10 on the second row [1,:] => cols 4 and above\n",
    "\n",
    "cond1 = matrix[1,] > 10\n",
    "matrix[:,cond1]"
   ]
  },
  {
   "cell_type": "code",
   "execution_count": null,
   "metadata": {},
   "outputs": [],
   "source": [
    "# Put the two conditions together\n",
    "\n",
    "matrix[cond,][:,cond1]\n"
   ]
  },
  {
   "cell_type": "code",
   "execution_count": null,
   "metadata": {},
   "outputs": [],
   "source": [
    "# Copy an array - just assignment would not make a copy \n",
    "# so any changes would be refelcted in both variables\n",
    "matrix1 = matrix.copy()\n",
    "matrix1\n"
   ]
  },
  {
   "cell_type": "code",
   "execution_count": null,
   "metadata": {},
   "outputs": [],
   "source": [
    "matrix"
   ]
  },
  {
   "cell_type": "code",
   "execution_count": null,
   "metadata": {},
   "outputs": [],
   "source": [
    "# We can put conditions on all elements of a matrix to select a subset of elements\n",
    "# For compound conditions use () to separate them and bit-wise operations\n",
    "(matrix1 > 10) & (matrix1 < 30)"
   ]
  },
  {
   "cell_type": "code",
   "execution_count": null,
   "metadata": {},
   "outputs": [],
   "source": [
    "matrix1[(matrix1 > 10) & (matrix1 < 30)]"
   ]
  },
  {
   "cell_type": "code",
   "execution_count": null,
   "metadata": {},
   "outputs": [],
   "source": [
    "# We can change a subset of values through conditional subsetting and ASSIGNMENT\n",
    "# Change all values that meet the condition to 100\n",
    "\n",
    "matrix1[(matrix1 > 10) & (matrix1 < 30)] = 100\n"
   ]
  },
  {
   "cell_type": "code",
   "execution_count": null,
   "metadata": {},
   "outputs": [],
   "source": [
    "matrix1"
   ]
  },
  {
   "cell_type": "code",
   "execution_count": null,
   "metadata": {},
   "outputs": [],
   "source": [
    "# due to copy the first matrix is not changed:\n",
    "\n",
    "matrix\n"
   ]
  },
  {
   "cell_type": "code",
   "execution_count": null,
   "metadata": {},
   "outputs": [],
   "source": []
  },
  {
   "cell_type": "code",
   "execution_count": null,
   "metadata": {},
   "outputs": [],
   "source": []
  },
  {
   "cell_type": "markdown",
   "metadata": {},
   "source": [
    "____\n",
    "\n",
    "## RECAP END - new information  \n",
    "\n",
    "#### <b>Matrix operations</b>\n",
    "\n",
    "https://www.tutorialspoint.com/matrix-manipulation-in-python<br>\n",
    "Arithmetic operators on arrays apply element-wise. <br> \n",
    "A new array is created and filled with the result.\n",
    "\n",
    "\n",
    "#### <b>Array broadcasting</b> - for compatible arrays\n",
    "\n",
    "https://docs.scipy.org/doc/numpy/user/basics.broadcasting.html<br>\n",
    "The term broadcasting describes how numpy treats arrays with different shapes during arithmetic operations. <br>\n",
    "Subject to certain constraints, the smaller array is “broadcast” across the larger array so that they have compatible shapes."
   ]
  },
  {
   "cell_type": "markdown",
   "metadata": {},
   "source": [
    "<img src = \"https://www.tutorialspoint.com/numpy/images/array.jpg\" height=10/>\n"
   ]
  },
  {
   "cell_type": "markdown",
   "metadata": {},
   "source": [
    "https://www.tutorialspoint.com/numpy/numpy_broadcasting.htm"
   ]
  },
  {
   "cell_type": "code",
   "execution_count": null,
   "metadata": {},
   "outputs": [],
   "source": [
    "# Let's look at our matrix again\n",
    "\n",
    "matrix\n"
   ]
  },
  {
   "cell_type": "code",
   "execution_count": null,
   "metadata": {},
   "outputs": [],
   "source": [
    "# Adding a number - it is added to all elements of a matrix\n",
    "# - The same applies for any arithmetic operation\n",
    "\n",
    "matrix + 100\n",
    "\n"
   ]
  },
  {
   "cell_type": "code",
   "execution_count": null,
   "metadata": {},
   "outputs": [],
   "source": [
    "########\n",
    "# Let's look at our matrix again\n",
    "\n",
    "matrix\n"
   ]
  },
  {
   "cell_type": "code",
   "execution_count": null,
   "metadata": {},
   "outputs": [],
   "source": [
    "# Create array of length 5 that starts from 1 and reshape it to make it a column\n",
    "# The new column is compatible with the matrix columns (same number of elements)\n",
    "\n",
    "col_vec = np.arange(1,6).reshape(5,1)\n",
    "col_vec"
   ]
  },
  {
   "cell_type": "markdown",
   "metadata": {},
   "source": [
    "##### Addittion between an array and a compatible 1D array\n",
    "##### The elements are added one by one for each column\n",
    "      - The same applies for all arithmetic operations\n",
    "\n",
    "\n",
    "`Example for the first column (the same way all columns are updated):\n",
    " 0 + 1 = 1  \n",
    " 8 + 2 = 10  \n",
    "16 + 3 = 19   \n",
    "24 + 4 = 28   \n",
    "32 + 5 = 37`  \n"
   ]
  },
  {
   "cell_type": "code",
   "execution_count": null,
   "metadata": {},
   "outputs": [],
   "source": [
    "# Addittion between an array and a compatible 1D array\n",
    "# The elements are added one by one for each column\n",
    "print(matrix, \"\\n\")\n",
    "print(col_vec, \"\\n\")\n",
    "matrix + col_vec"
   ]
  },
  {
   "cell_type": "code",
   "execution_count": null,
   "metadata": {},
   "outputs": [],
   "source": [
    "# Addittion with a data row - adds each element of the new row \n",
    "# to the respective element of each row of the matrix\n",
    "\n",
    "print(matrix, \"\\n\")\n",
    "print(np.arange(8), \"\\n\")\n",
    "matrix + np.arange(8)"
   ]
  },
  {
   "cell_type": "code",
   "execution_count": null,
   "metadata": {},
   "outputs": [],
   "source": [
    "##########\n",
    "# For compatible matrices (same number of rows and columns) \n",
    "# the arithmatic operations will be done element by element\n",
    "\n",
    "print(\"matrix: \\n\", matrix, \"\\n\")\n",
    "print(\"matrix + matrix: \\n\", matrix + matrix, \"\\n\" )\n",
    "print(\"matrix * matrix: \\n\", matrix * matrix )"
   ]
  },
  {
   "cell_type": "markdown",
   "metadata": {},
   "source": [
    "_____\n",
    "#### Matrix multiplication\n",
    "\n",
    "<img src = \"https://miro.medium.com/max/1400/1*YGcMQSr0ge_DGn96WnEkZw.png\" width = 370/>"
   ]
  },
  {
   "cell_type": "code",
   "execution_count": null,
   "metadata": {},
   "outputs": [],
   "source": [
    "# matrix multiplication\n",
    "mat1 = np.arange(1,7).reshape(2,3)\n",
    "mat2 = np.array([[10, 11], [20, 21], [30, 31]])\n",
    "mat1.dot(mat2)"
   ]
  },
  {
   "cell_type": "code",
   "execution_count": null,
   "metadata": {},
   "outputs": [],
   "source": [
    "# matrix multiplication - more recently\n",
    "mat1@mat2"
   ]
  },
  {
   "cell_type": "markdown",
   "metadata": {},
   "source": [
    "___\n",
    "\n",
    "#### Combining arrays into a larger array - vstack, hstack, vsplit, hsplit"
   ]
  },
  {
   "cell_type": "code",
   "execution_count": null,
   "metadata": {},
   "outputs": [],
   "source": [
    "##########\n",
    "\n",
    "mat1"
   ]
  },
  {
   "cell_type": "code",
   "execution_count": null,
   "metadata": {},
   "outputs": [],
   "source": [
    "mat2"
   ]
  },
  {
   "cell_type": "code",
   "execution_count": null,
   "metadata": {},
   "outputs": [],
   "source": [
    "# stacking arrays together - vertically\n",
    "vmatrix = np.vstack((mat1, mat2.T))\n",
    "vmatrix"
   ]
  },
  {
   "cell_type": "code",
   "execution_count": null,
   "metadata": {},
   "outputs": [],
   "source": [
    "# stacking arrays together - horizontally\n",
    "hmatrix = np.hstack((mat1.T,mat2))\n",
    "hmatrix"
   ]
  },
  {
   "cell_type": "code",
   "execution_count": null,
   "metadata": {},
   "outputs": [],
   "source": [
    "##########\n",
    "\n",
    "vmatrix\n"
   ]
  },
  {
   "cell_type": "code",
   "execution_count": null,
   "metadata": {},
   "outputs": [],
   "source": [
    "# splitting arrays - results in a list of arrays\n",
    "\n",
    "np.vsplit(vmatrix,2)\n"
   ]
  },
  {
   "cell_type": "code",
   "execution_count": null,
   "metadata": {},
   "outputs": [],
   "source": [
    "##########\n",
    "\n",
    "hmatrix\n"
   ]
  },
  {
   "cell_type": "code",
   "execution_count": null,
   "metadata": {},
   "outputs": [],
   "source": [
    "# splitting arrays - results in a list of arrays\n",
    "\n",
    "np.hsplit(hmatrix,2)\n"
   ]
  },
  {
   "cell_type": "markdown",
   "metadata": {},
   "source": [
    "#### <b>More matrix computation</b> - basic aggregate functions are available - min, max, sum, mean, std"
   ]
  },
  {
   "cell_type": "code",
   "execution_count": null,
   "metadata": {},
   "outputs": [],
   "source": [
    "# Let's look at our matrix again\n",
    "matrix"
   ]
  },
  {
   "cell_type": "markdown",
   "metadata": {},
   "source": [
    "#### Use the axis argument to compute mean for each column or row\n",
    "    - axis = 0 - columns\n",
    "    - axis = 1 - rows"
   ]
  },
  {
   "cell_type": "code",
   "execution_count": null,
   "metadata": {},
   "outputs": [],
   "source": [
    "# compute sum for each column \n",
    "# using the array sum method (np.ndarray.sum)\n",
    "\n",
    "matrix.sum(axis = 0)\n"
   ]
  },
  {
   "cell_type": "code",
   "execution_count": null,
   "metadata": {},
   "outputs": [],
   "source": [
    "# using the np.sum function\n",
    "\n",
    "np.sum(matrix, axis = 0)"
   ]
  },
  {
   "cell_type": "code",
   "execution_count": null,
   "metadata": {},
   "outputs": [],
   "source": [
    "####\n",
    "matrix "
   ]
  },
  {
   "cell_type": "code",
   "execution_count": null,
   "metadata": {},
   "outputs": [],
   "source": [
    "# Compute the row mean\n",
    "\n",
    "matrix.mean(axis = 1)\n",
    " "
   ]
  },
  {
   "cell_type": "markdown",
   "metadata": {},
   "source": [
    "#### Compute unique values and counts for matrix elements\n",
    "\n"
   ]
  },
  {
   "cell_type": "code",
   "execution_count": null,
   "metadata": {},
   "outputs": [],
   "source": [
    "# Compute unique values and counts\n",
    "# Results are a list of two lists values and corresponding counts\n",
    "\n",
    "test_matrix = np.array([[ 5,  2,  3],\n",
    "       [ 4,  5,  6],\n",
    "       [ 3,  3,  2],\n",
    "       [4, 2, 3]])\n",
    "uvals, counts = np.unique(test_matrix, return_counts=True)\n",
    "print(uvals,counts)"
   ]
  },
  {
   "cell_type": "markdown",
   "metadata": {},
   "source": [
    "https://www.w3resource.com/python-exercises/numpy/index.php\n"
   ]
  },
  {
   "cell_type": "markdown",
   "metadata": {},
   "source": [
    "___\n",
    "#### <font color = \"red\">Exercise</font>\n",
    "\n",
    "Add substract 4 from values of the matrix array that are divisible by 4.\n",
    "- Hint: use conditional subsetting to get the required values then assignment to remove 4 from those values"
   ]
  },
  {
   "cell_type": "code",
   "execution_count": null,
   "metadata": {},
   "outputs": [],
   "source": [
    "matrix "
   ]
  },
  {
   "cell_type": "code",
   "execution_count": null,
   "metadata": {},
   "outputs": [],
   "source": []
  },
  {
   "cell_type": "code",
   "execution_count": null,
   "metadata": {},
   "outputs": [],
   "source": []
  },
  {
   "cell_type": "markdown",
   "metadata": {},
   "source": [
    "___\n",
    "#### <font color = \"red\">Exercise</font>\n",
    "\n",
    "Normalize the matrix values.    \n",
    "For each row, substract the mean and divide by the standard deviation."
   ]
  },
  {
   "cell_type": "code",
   "execution_count": null,
   "metadata": {},
   "outputs": [],
   "source": [
    "matrix"
   ]
  },
  {
   "cell_type": "code",
   "execution_count": null,
   "metadata": {},
   "outputs": [],
   "source": []
  },
  {
   "cell_type": "code",
   "execution_count": null,
   "metadata": {},
   "outputs": [],
   "source": []
  },
  {
   "cell_type": "code",
   "execution_count": null,
   "metadata": {},
   "outputs": [],
   "source": []
  },
  {
   "cell_type": "markdown",
   "metadata": {},
   "source": [
    "____\n",
    "#### <font color = \"red\">Exercise</font>\n",
    "\n",
    "Create a random array (5 by 7) from the standard normal distribution and compute: \n",
    "   * the mean of all elements \n",
    "   * the max of the rows  \n",
    "   * the sum of the columns"
   ]
  },
  {
   "cell_type": "code",
   "execution_count": null,
   "metadata": {},
   "outputs": [],
   "source": []
  },
  {
   "cell_type": "code",
   "execution_count": null,
   "metadata": {},
   "outputs": [],
   "source": []
  },
  {
   "cell_type": "code",
   "execution_count": null,
   "metadata": {},
   "outputs": [],
   "source": []
  },
  {
   "cell_type": "markdown",
   "metadata": {},
   "source": [
    "#### Find indices of elements that meet condition - where function"
   ]
  },
  {
   "cell_type": "code",
   "execution_count": null,
   "metadata": {},
   "outputs": [],
   "source": [
    "# where function finds the indices of elelmets that meet condition\n",
    "# it returns a tuple of n arrays (n no of dimensions)\n",
    "# in our example the arrays in the tuple contain the row indices \n",
    "# and resoectively the column indices for the elements\n",
    "\n",
    "positions = np.where(matrix  < 20) \n",
    "positions"
   ]
  },
  {
   "cell_type": "code",
   "execution_count": null,
   "metadata": {},
   "outputs": [],
   "source": [
    "matrix[positions]"
   ]
  },
  {
   "cell_type": "code",
   "execution_count": null,
   "metadata": {},
   "outputs": [],
   "source": [
    "# help(np.where)"
   ]
  },
  {
   "cell_type": "code",
   "execution_count": null,
   "metadata": {},
   "outputs": [],
   "source": [
    "pos = np.where(matrix == 3)\n",
    "pos"
   ]
  },
  {
   "cell_type": "code",
   "execution_count": null,
   "metadata": {},
   "outputs": [],
   "source": [
    "matrix[pos]"
   ]
  },
  {
   "cell_type": "code",
   "execution_count": null,
   "metadata": {},
   "outputs": [],
   "source": []
  },
  {
   "cell_type": "markdown",
   "metadata": {},
   "source": [
    "#### RESOURCES\n",
    "\n",
    "http://scipy-lectures.org/intro/numpy/array_object.html#what-are-numpy-and-numpy-arrays   \n",
    "https://www.python-course.eu/numpy.php   \n",
    "https://numpy.org/devdocs/user/quickstart.html#universal-functions   \n",
    "https://www.geeksforgeeks.org/python-numpy/"
   ]
  },
  {
   "cell_type": "markdown",
   "metadata": {},
   "source": [
    "_____\n",
    "\n",
    "<img src = \"https://blog.thedataincubator.com/wp-content/uploads/2018/02/Numpypandas.png\" width = 300/>\n",
    "\n",
    "### Pandas\n",
    "\n"
   ]
  },
  {
   "cell_type": "markdown",
   "metadata": {},
   "source": [
    "[Pandas](https://pandas.pydata.org/) is a high-performance library that makes familiar data structures, like `data.frame` from R, and appropriate data analysis tools available to Python users."
   ]
  },
  {
   "cell_type": "markdown",
   "metadata": {},
   "source": [
    "#### How does pandas work?"
   ]
  },
  {
   "cell_type": "markdown",
   "metadata": {},
   "source": [
    "Pandas is built off of [Numpy](http://www.numpy.org/), and therefore leverages Numpy's C-level speed for its data analysis."
   ]
  },
  {
   "cell_type": "markdown",
   "metadata": {},
   "source": [
    "* Numpy can only make data structures of a single type.\n",
    "* Pandas can use many types. \n",
    "* Think of a table, where each column can be whatever type you want it to be, so long as every item in the column is that same type."
   ]
  },
  {
   "cell_type": "markdown",
   "metadata": {},
   "source": [
    "#### Why use pandas?"
   ]
  },
  {
   "cell_type": "markdown",
   "metadata": {},
   "source": [
    "1. Data munging/wrangling: the cleaning and preprocessing of data\n",
    "2. Loading data into memory from disparate data formats (SQL, CSV, TSV, JSON)"
   ]
  },
  {
   "cell_type": "markdown",
   "metadata": {},
   "source": [
    "#### Importing"
   ]
  },
  {
   "cell_type": "markdown",
   "metadata": {},
   "source": [
    "Pandas is built off of numpy, it is usefull to import numpy at the same time, but not necessary."
   ]
  },
  {
   "cell_type": "markdown",
   "metadata": {},
   "source": [
    "```python\n",
    "import numpy as np\n",
    "import pandas as pd\n",
    "\n",
    "\n",
    "```"
   ]
  },
  {
   "cell_type": "markdown",
   "metadata": {},
   "source": [
    "___\n",
    "#### 1. `pd.Series`"
   ]
  },
  {
   "cell_type": "markdown",
   "metadata": {},
   "source": [
    "#### **One-dimensional** labeled array (or vector) "
   ]
  },
  {
   "cell_type": "markdown",
   "metadata": {},
   "source": [
    "```python\n",
    "# Initialization Syntax\n",
    "series = pd.Series(data, index, dtype) \n",
    "```"
   ]
  },
  {
   "cell_type": "markdown",
   "metadata": {},
   "source": [
    "* **`data`** : what is going inside the Series (array-like, dict, or scalar value)\n",
    "* **`index`**: row identifiers (doesn't have to be unique--think foreign key. Defaults to row number)\n",
    "* **`dytpe`**: numpy/python based data types"
   ]
  },
  {
   "cell_type": "markdown",
   "metadata": {},
   "source": [
    "Attributes \n",
    "\n",
    "['T',\n",
    " 'array',\n",
    " 'at',\n",
    " 'axes',\n",
    " 'base',\n",
    " 'data',\n",
    " 'dtype',\n",
    " 'dtypes',\n",
    " 'empty',\n",
    " 'flags',\n",
    " 'ftype',\n",
    " 'ftypes',\n",
    " 'hasnans',\n",
    " 'iat',\n",
    " 'iloc',\n",
    " 'imag',\n",
    " 'index',\n",
    " 'is_monotonic',\n",
    " 'is_monotonic_decreasing',\n",
    " 'is_monotonic_increasing',\n",
    " 'is_unique',\n",
    " 'itemsize',\n",
    " 'ix',\n",
    " 'loc',\n",
    " 'name',\n",
    " 'nbytes',\n",
    " 'ndim',\n",
    " 'plot',\n",
    " 'real',\n",
    " 'shape',\n",
    " 'size',\n",
    " 'strides',\n",
    " 'timetuple',\n",
    " 'values']\n",
    " \n",
    " \n",
    " Methods\n",
    " \n",
    " ['abs',\n",
    " 'add',\n",
    " 'add_prefix',\n",
    " 'add_suffix',\n",
    " 'agg',\n",
    " 'aggregate',\n",
    " 'align',\n",
    " 'all',\n",
    " 'any',\n",
    " 'append',\n",
    " 'apply',\n",
    " 'argmax',\n",
    " 'argmin',\n",
    " 'argsort',\n",
    " 'asfreq',\n",
    " 'asof',\n",
    " 'astype',\n",
    " 'at_time',\n",
    " 'autocorr',\n",
    " 'between',\n",
    " 'between_time',\n",
    " 'bfill',\n",
    " 'bool',\n",
    " 'clip',\n",
    " 'combine',\n",
    " 'combine_first',\n",
    " 'convert_dtypes',\n",
    " 'copy',\n",
    " 'corr',\n",
    " 'count',\n",
    " 'cov',\n",
    " 'cummax',\n",
    " 'cummin',\n",
    " 'cumprod',\n",
    " 'cumsum',\n",
    " 'describe',\n",
    " 'diff',\n",
    " 'div',\n",
    " 'divide',\n",
    " 'divmod',\n",
    " 'dot',\n",
    " 'drop',\n",
    " 'drop_duplicates',\n",
    " 'droplevel',\n",
    " 'dropna',\n",
    " 'duplicated',\n",
    " 'eq',\n",
    " 'equals',\n",
    " 'ewm',\n",
    " 'expanding',\n",
    " 'explode',\n",
    " 'factorize',\n",
    " 'ffill',\n",
    " 'fillna',\n",
    " 'filter',\n",
    " 'first',\n",
    " 'first_valid_index',\n",
    " 'floordiv',\n",
    " 'ge',\n",
    " 'get',\n",
    " 'groupby',\n",
    " 'gt',\n",
    " 'head',\n",
    " 'hist',\n",
    " 'idxmax',\n",
    " 'idxmin',\n",
    " 'infer_objects',\n",
    " 'interpolate',\n",
    " 'isin',\n",
    " 'isna',\n",
    " 'isnull',\n",
    " 'item',\n",
    " 'items',\n",
    " 'iteritems',\n",
    " 'keys',\n",
    " 'kurt',\n",
    " 'kurtosis',\n",
    " 'last',\n",
    " 'last_valid_index',\n",
    " 'le',\n",
    " 'lt',\n",
    " 'mad',\n",
    " 'map',\n",
    " 'mask',\n",
    " 'max',\n",
    " 'mean',\n",
    " 'median',\n",
    " 'memory_usage',\n",
    " 'min',\n",
    " 'mod',\n",
    " 'mode',\n",
    " 'mul',\n",
    " 'multiply',\n",
    " 'ne',\n",
    " 'nlargest',\n",
    " 'notna',\n",
    " 'notnull',\n",
    " 'nsmallest',\n",
    " 'nunique',\n",
    " 'pct_change',\n",
    " 'pipe',\n",
    " 'pop',\n",
    " 'pow',\n",
    " 'prod',\n",
    " 'product',\n",
    " 'quantile',\n",
    " 'radd',\n",
    " 'rank',\n",
    " 'ravel',\n",
    " 'rdiv',\n",
    " 'rdivmod',\n",
    " 'reindex',\n",
    " 'reindex_like',\n",
    " 'rename',\n",
    " 'rename_axis',\n",
    " 'reorder_levels',\n",
    " 'repeat',\n",
    " 'replace',\n",
    " 'resample',\n",
    " 'reset_index',\n",
    " 'rfloordiv',\n",
    " 'rmod',\n",
    " 'rmul',\n",
    " 'rolling',\n",
    " 'round',\n",
    " 'rpow',\n",
    " 'rsub',\n",
    " 'rtruediv',\n",
    " 'sample',\n",
    " 'searchsorted',\n",
    " 'sem',\n",
    " 'set_axis',\n",
    " 'shift',\n",
    " 'skew',\n",
    " 'slice_shift',\n",
    " 'sort_index',\n",
    " 'sort_values',\n",
    " 'squeeze',\n",
    " 'std',\n",
    " 'sub',\n",
    " 'subtract',\n",
    " 'sum',\n",
    " 'swapaxes',\n",
    " 'swaplevel',\n",
    " 'tail',\n",
    " 'take',\n",
    " 'to_clipboard',\n",
    " 'to_csv',\n",
    " 'to_dict',\n",
    " 'to_excel',\n",
    " 'to_frame',\n",
    " 'to_hdf',\n",
    " 'to_json',\n",
    " 'to_latex',\n",
    " 'to_list',\n",
    " 'to_markdown',\n",
    " 'to_numpy',\n",
    " 'to_period',\n",
    " 'to_pickle',\n",
    " 'to_sql',\n",
    " 'to_string',\n",
    " 'to_timestamp',\n",
    " 'to_xarray',\n",
    " 'transform',\n",
    " 'transpose',\n",
    " 'truediv',\n",
    " 'truncate',\n",
    " 'tshift',\n",
    " 'tz_convert',\n",
    " 'tz_localize',\n",
    " 'unique',\n",
    " 'unstack',\n",
    " 'update',\n",
    " 'value_counts',\n",
    " 'var',\n",
    " 'view',\n",
    " 'where',\n",
    " 'xs']"
   ]
  },
  {
   "cell_type": "markdown",
   "metadata": {},
   "source": [
    "#### Create Series/data column from a Python list"
   ]
  },
  {
   "cell_type": "code",
   "execution_count": null,
   "metadata": {},
   "outputs": [],
   "source": [
    "import numpy as np\n",
    "import pandas as pd"
   ]
  },
  {
   "cell_type": "code",
   "execution_count": null,
   "metadata": {},
   "outputs": [],
   "source": [
    "labels = [\"gene\",\"protein\",\"miRNA\",\"metabolites\"]\n",
    "values = [3,4,5,6]\n",
    "series_named_val = pd.Series(data = values, index=labels)\n"
   ]
  },
  {
   "cell_type": "markdown",
   "metadata": {},
   "source": [
    "#### Create Series/data column from dictionary"
   ]
  },
  {
   "cell_type": "code",
   "execution_count": null,
   "metadata": {},
   "outputs": [],
   "source": [
    "dict_var = dict(zip(labels, values))\n",
    "pd.Series(dict_var)"
   ]
  },
  {
   "cell_type": "code",
   "execution_count": null,
   "metadata": {},
   "outputs": [],
   "source": [
    "dict_var = {\"EGFR\":2.5, \"IL6\":10.2, \"BRAF\":6.7, \"ABL\":5.3}\n",
    "# Create new series\n",
    "new_series = pd.Series(data = dict_var)\n",
    "new_series"
   ]
  },
  {
   "cell_type": "markdown",
   "metadata": {},
   "source": [
    "#### idxmax() - Return the index of the row with the max value\n",
    "\n"
   ]
  },
  {
   "cell_type": "code",
   "execution_count": null,
   "metadata": {},
   "outputs": [],
   "source": [
    "# help(new_series.idxmax)"
   ]
  },
  {
   "cell_type": "code",
   "execution_count": null,
   "metadata": {},
   "outputs": [],
   "source": [
    "# Return the index of the row with the max value\n",
    "new_series.idxmax()"
   ]
  },
  {
   "cell_type": "markdown",
   "metadata": {},
   "source": [
    "#### describe() - Generate descriptive statistics\n",
    "\n"
   ]
  },
  {
   "cell_type": "code",
   "execution_count": null,
   "metadata": {},
   "outputs": [],
   "source": [
    "# generate descriptive statistics\n",
    "new_series.describe()"
   ]
  },
  {
   "cell_type": "markdown",
   "metadata": {},
   "source": [
    "#### isna() - check for missing values\n",
    "#### other similar function: isnull(), notna(), isin()\n",
    "#### np.info(np.isnan)\n",
    "#### another useful function: dropna() - remove rows with None or missing values form the column\n",
    "#### numpy objects: np.NaN, np.Inf\n",
    "#### help(np.NaN) "
   ]
  },
  {
   "cell_type": "code",
   "execution_count": null,
   "metadata": {},
   "outputs": [],
   "source": [
    "# np.info(np.isnan)\n",
    "# help(pd.isna)"
   ]
  },
  {
   "cell_type": "code",
   "execution_count": null,
   "metadata": {},
   "outputs": [],
   "source": [
    "# check for missing values\n",
    "new_series.isna()"
   ]
  },
  {
   "cell_type": "code",
   "execution_count": null,
   "metadata": {},
   "outputs": [],
   "source": []
  },
  {
   "cell_type": "markdown",
   "metadata": {},
   "source": [
    "_____\n",
    "\n",
    "#### 2. `pd.DataFrame`"
   ]
  },
  {
   "cell_type": "markdown",
   "metadata": {},
   "source": [
    "#### **Multi-dimensional** labeled data structure with columns of *potentially* different types"
   ]
  },
  {
   "cell_type": "markdown",
   "metadata": {},
   "source": [
    "```python\n",
    "# Initialization Syntax\n",
    "df = pd.DataFrame(data, index, columns, dtype)\n",
    "```"
   ]
  },
  {
   "cell_type": "markdown",
   "metadata": {},
   "source": [
    "* **`data`** : what is going inside the DataFrame (numpy ndarray (structured or homogeneous), dict, or DataFrame)\n",
    "* **`index`** : row identifiers (doesn't have to be unique--think foreign key. Defaults to row number)\n",
    "* **`columns`** : column identifiers\n",
    "* **`dtype`** : numpy/python based data types"
   ]
  },
  {
   "cell_type": "markdown",
   "metadata": {},
   "source": [
    "Attributes\n",
    "\n",
    "['T',\n",
    " 'at',\n",
    " 'axes',\n",
    " 'columns',\n",
    " 'dtypes',\n",
    " 'empty',\n",
    " 'ftypes',\n",
    " 'iat',\n",
    " 'iloc',\n",
    " 'index',\n",
    " 'ix',\n",
    " 'loc',\n",
    " 'ndim',\n",
    " 'plot',\n",
    " 'shape',\n",
    " 'size',\n",
    " 'style',\n",
    " 'timetuple',\n",
    " 'values']"
   ]
  },
  {
   "cell_type": "code",
   "execution_count": null,
   "metadata": {},
   "outputs": [],
   "source": [
    "# Labeled 3 x 4 matrix of gene (expression) correlation (%)\n",
    "# - rows and columns are genes and the values in the matrix is \n",
    "# the correlation (in %) between their expression in a given timecourse dataset \n",
    "\n",
    "correlation_array = np.arange(40,52).reshape(3,4) # the data = data argument\n",
    "genes_rows = [\"HER2\",\"PIK3CA\", \"BRAF\"] # row lables = index argument\n",
    "genes_cols = [\"HER1\",\"EGFR\", \"IL6\", \"INSR\"] # column lables = columns argument\n",
    "df_gene_correlation = pd.DataFrame(correlation_array, genes_rows, genes_cols)\n",
    "df_gene_correlation\n"
   ]
  },
  {
   "cell_type": "code",
   "execution_count": null,
   "metadata": {},
   "outputs": [],
   "source": [
    "# Explore DataFrame attributes and methods\n",
    "\n",
    "# Transpose - switch columns and rows\n",
    "\n",
    "df_gene_correlation.T\n"
   ]
  },
  {
   "cell_type": "code",
   "execution_count": null,
   "metadata": {},
   "outputs": [],
   "source": [
    "# Sort the data based on a specific column\n",
    "\n",
    "print(df_gene_correlation, \"\\n\")\n",
    "df_gene_correlation.sort_values(by = 'EGFR', ascending = False)\n"
   ]
  },
  {
   "cell_type": "code",
   "execution_count": null,
   "metadata": {},
   "outputs": [],
   "source": [
    "# Aggregate the data based on an aggregate function and the axis (col = 0, row = 1)\n",
    "# can apply any aggregate function: np.sum, np.min, np.mean, np.std, np.max, np.median ....\n",
    "\n",
    "print(df_gene_correlation, \"\\n\")\n",
    "df_gene_correlation.aggregate(np.mean, 1)\n"
   ]
  },
  {
   "cell_type": "code",
   "execution_count": null,
   "metadata": {},
   "outputs": [],
   "source": [
    "# Number of elements in the dataframe (total)\n",
    "\n",
    "df_gene_correlation.size\n"
   ]
  },
  {
   "cell_type": "code",
   "execution_count": null,
   "metadata": {},
   "outputs": [],
   "source": [
    "# index = row names\n",
    "\n",
    "df_gene_correlation.index\n"
   ]
  },
  {
   "cell_type": "code",
   "execution_count": null,
   "metadata": {},
   "outputs": [],
   "source": [
    "# dtypes - data types for each Series/column\n",
    "\n",
    "df_gene_correlation.dtypes\n"
   ]
  },
  {
   "cell_type": "code",
   "execution_count": null,
   "metadata": {},
   "outputs": [],
   "source": []
  },
  {
   "cell_type": "code",
   "execution_count": null,
   "metadata": {},
   "outputs": [],
   "source": []
  },
  {
   "cell_type": "code",
   "execution_count": null,
   "metadata": {},
   "outputs": [],
   "source": []
  },
  {
   "cell_type": "markdown",
   "metadata": {},
   "source": [
    "___\n",
    "#### <font color = \"red\">Exercise</font>\n",
    "\n",
    "\n",
    "Create a 7 by 5 array with values from 20 to 90 going with a step of 2   \n",
    "Create a list with row names: Gene1, Gene2 ...  \n",
    "Create a list with column names: GO1, GO2 ...  \n",
    "Create a DataFrame from the array created with the row names and column names from the respective lists  \n"
   ]
  },
  {
   "cell_type": "code",
   "execution_count": null,
   "metadata": {},
   "outputs": [],
   "source": []
  },
  {
   "cell_type": "code",
   "execution_count": null,
   "metadata": {},
   "outputs": [],
   "source": []
  },
  {
   "cell_type": "code",
   "execution_count": null,
   "metadata": {},
   "outputs": [],
   "source": []
  },
  {
   "cell_type": "markdown",
   "metadata": {},
   "source": [
    "#### From `pd.Series`"
   ]
  },
  {
   "cell_type": "code",
   "execution_count": null,
   "metadata": {},
   "outputs": [],
   "source": [
    "# Let's look at the gene correlation matrix again \n",
    "\n",
    "df_gene_correlation\n"
   ]
  },
  {
   "cell_type": "code",
   "execution_count": null,
   "metadata": {},
   "outputs": [],
   "source": [
    "# Create a column (Series) with 4 values and the names given by the  df_gene_correlation columns\n",
    "\n",
    "new_row = pd.Series([1,2,3,4], df_gene_correlation.columns, name = \"New Gene\")\n",
    "new_row"
   ]
  },
  {
   "cell_type": "markdown",
   "metadata": {},
   "source": [
    "_____\n",
    "\n",
    "#### Combinig dataframes \n",
    "#### Row-wise (`append`)"
   ]
  },
  {
   "cell_type": "code",
   "execution_count": null,
   "metadata": {},
   "outputs": [],
   "source": [
    "# Now add on a row to the correlation matrix, has to have a name\n",
    "\n",
    "df_gene_correlation.append(new_row)"
   ]
  },
  {
   "cell_type": "markdown",
   "metadata": {},
   "source": [
    "#### Column-wise (`join`/`concat`)"
   ]
  },
  {
   "cell_type": "markdown",
   "metadata": {},
   "source": [
    "#### `join`"
   ]
  },
  {
   "cell_type": "code",
   "execution_count": null,
   "metadata": {},
   "outputs": [],
   "source": [
    "df_gene_correlation"
   ]
  },
  {
   "cell_type": "code",
   "execution_count": null,
   "metadata": {},
   "outputs": [],
   "source": [
    "# Create a new column (Series), provide rownames (index) and name\n",
    "\n",
    "new_col = pd.Series([1,2], index = [\"HER2\", \"BRAF\"], name = \"Gene Col\")\n",
    "new_col\n"
   ]
  },
  {
   "cell_type": "code",
   "execution_count": null,
   "metadata": {},
   "outputs": [],
   "source": [
    "# join a column with a different (smaller) size it will add NaN for the missing values\n",
    "\n",
    "df_gene_correlation.join(new_col)\n"
   ]
  },
  {
   "cell_type": "code",
   "execution_count": null,
   "metadata": {},
   "outputs": [],
   "source": []
  },
  {
   "cell_type": "markdown",
   "metadata": {},
   "source": [
    "#### `concat`"
   ]
  },
  {
   "cell_type": "code",
   "execution_count": null,
   "metadata": {},
   "outputs": [],
   "source": [
    "# Add column with the same size\n",
    "\n",
    "new_col1 = pd.Series([1,2,3], index = df_gene_correlation.index, name = \"New Gene Col\")\n",
    "pd.concat([df_gene_correlation, new_col1], axis = 1)\n"
   ]
  },
  {
   "cell_type": "code",
   "execution_count": null,
   "metadata": {},
   "outputs": [],
   "source": [
    "# Unequal size (remove the last element from the column and try adding it)\n",
    "# It will add NaN for the missing value\n",
    "\n",
    "pd.concat([df_gene_correlation, new_col1[:-1]], axis = 1)\n"
   ]
  },
  {
   "cell_type": "markdown",
   "metadata": {},
   "source": [
    "____ \n",
    "\n",
    "#### <b>Reading and writing files (I/O) with Pandas"
   ]
  },
  {
   "cell_type": "markdown",
   "metadata": {},
   "source": [
    "One of the the most common reasons people use pandas is to bring data in without having to deal with file I/O, delimiters, and type conversion. Pandas deals with a lot of this."
   ]
  },
  {
   "cell_type": "markdown",
   "metadata": {},
   "source": [
    "#### CSV Files"
   ]
  },
  {
   "cell_type": "markdown",
   "metadata": {},
   "source": [
    "#### Output - write to file"
   ]
  },
  {
   "cell_type": "markdown",
   "metadata": {},
   "source": [
    "You can easily save your `DataFrames`"
   ]
  },
  {
   "cell_type": "code",
   "execution_count": null,
   "metadata": {},
   "outputs": [],
   "source": [
    "# write the dataframe to the file\n",
    "\n",
    "df_gene_correlation.to_csv('dataframe_data.csv')\n"
   ]
  },
  {
   "cell_type": "code",
   "execution_count": null,
   "metadata": {},
   "outputs": [],
   "source": [
    "# help(df_gene_correlation.to_csv)"
   ]
  },
  {
   "cell_type": "code",
   "execution_count": null,
   "metadata": {},
   "outputs": [],
   "source": [
    "# write the dataframe from the file - include rownames\n",
    "\n",
    "df_gene_correlation.to_csv('dataframe_data.csv', index = True)\n"
   ]
  },
  {
   "cell_type": "code",
   "execution_count": null,
   "metadata": {},
   "outputs": [],
   "source": [
    "df_gene_go"
   ]
  },
  {
   "cell_type": "markdown",
   "metadata": {},
   "source": [
    "#### Input - read from file"
   ]
  },
  {
   "cell_type": "markdown",
   "metadata": {},
   "source": [
    "You can easily bring data from a file into a `DataFrames`"
   ]
  },
  {
   "cell_type": "code",
   "execution_count": null,
   "metadata": {},
   "outputs": [],
   "source": [
    "# read dataframe from file and also mention the column where the rownames are (0 - first column)\n",
    "\n",
    "pd.read_csv('dataframe_data.csv', index_col = 0)\n"
   ]
  },
  {
   "cell_type": "code",
   "execution_count": null,
   "metadata": {},
   "outputs": [],
   "source": [
    "# help(pd.read_csv)"
   ]
  },
  {
   "cell_type": "markdown",
   "metadata": {},
   "source": [
    "#### Excel Files"
   ]
  },
  {
   "cell_type": "code",
   "execution_count": null,
   "metadata": {},
   "outputs": [],
   "source": [
    "# Output\n",
    "df_gene_correlation.to_excel('excel_output.xlsx')\n",
    "# Input\n",
    "pd.read_excel('excel_output.xlsx')"
   ]
  },
  {
   "cell_type": "markdown",
   "metadata": {},
   "source": [
    "#### TSV Files"
   ]
  },
  {
   "cell_type": "code",
   "execution_count": null,
   "metadata": {},
   "outputs": [],
   "source": [
    "# Output \n",
    "df_gene_correlation.to_csv('tsv_output.tsv', sep=\"\\t\")\n",
    "# Input\n",
    "pd.read_csv('tsv_output.tsv', sep=\"\\t\").tail()"
   ]
  },
  {
   "cell_type": "markdown",
   "metadata": {},
   "source": [
    "#### Clipboard"
   ]
  },
  {
   "cell_type": "markdown",
   "metadata": {},
   "source": [
    "#### Copy"
   ]
  },
  {
   "cell_type": "code",
   "execution_count": null,
   "metadata": {},
   "outputs": [],
   "source": [
    "df_gene_correlation.to_clipboard()"
   ]
  },
  {
   "cell_type": "code",
   "execution_count": null,
   "metadata": {},
   "outputs": [],
   "source": [
    "# Paste here\n"
   ]
  },
  {
   "cell_type": "markdown",
   "metadata": {},
   "source": [
    "#### Paste"
   ]
  },
  {
   "cell_type": "code",
   "execution_count": null,
   "metadata": {},
   "outputs": [],
   "source": [
    "pd.read_clipboard()"
   ]
  },
  {
   "cell_type": "markdown",
   "metadata": {},
   "source": [
    "___\n",
    "### <b>Indexing/Exploring/Manipulating dataframes in Pandas"
   ]
  },
  {
   "cell_type": "markdown",
   "metadata": {},
   "source": [
    "Standard `'[]'` indexing/slicing can be used, as well as `'.'` methods,"
   ]
  },
  {
   "cell_type": "markdown",
   "metadata": {},
   "source": [
    "#### There are 2 pandas-specific methods for indexing:\n",
    "####   1.  ```.loc``` - primarily label/name-based\n",
    "####   2.  `.iloc` - primarily integer/position-based"
   ]
  },
  {
   "cell_type": "code",
   "execution_count": null,
   "metadata": {},
   "outputs": [],
   "source": [
    "# Create some data to work with\n",
    "row_labels = [\"row\"+str(i) for i in range(10)]\n",
    "col_labels = [\"col\"+str(i) for i in range(8)]\n",
    "\n",
    "\"\"\" \n",
    "Create a DataFrame from a 10 by 6 array with values from 1 to 70, \n",
    "add the row_labels and col_labels we just created \n",
    "\"\"\"\n",
    "data_array = np.arange(1,81).reshape(10,8)\n",
    "data_array\n",
    "df_example = pd.DataFrame(data_array,row_labels,col_labels)\n",
    "df_example\n"
   ]
  },
  {
   "cell_type": "markdown",
   "metadata": {},
   "source": [
    "#### Pandas allows you to do random sampling from the dataframe"
   ]
  },
  {
   "cell_type": "code",
   "execution_count": null,
   "metadata": {},
   "outputs": [],
   "source": [
    "# Sample 5 rows and 5 columns\n",
    "\n",
    "df_small = df_example.sample(n=5)\n",
    "df_small"
   ]
  },
  {
   "cell_type": "code",
   "execution_count": null,
   "metadata": {},
   "outputs": [],
   "source": [
    "### \n",
    "\n",
    "df_example"
   ]
  },
  {
   "cell_type": "markdown",
   "metadata": {},
   "source": [
    "_____\n",
    "#### Slicing `'[]'` on a `pd.DataFrame` gives us a slice of **rows**"
   ]
  },
  {
   "cell_type": "code",
   "execution_count": null,
   "metadata": {},
   "outputs": [],
   "source": [
    "df_example[4:8]"
   ]
  },
  {
   "cell_type": "markdown",
   "metadata": {},
   "source": [
    "___\n",
    "\n",
    "#### `'.'` operators and a column name can select a **specific named** column"
   ]
  },
  {
   "cell_type": "code",
   "execution_count": null,
   "metadata": {},
   "outputs": [],
   "source": [
    "### \n",
    "\n",
    "df_example"
   ]
  },
  {
   "cell_type": "code",
   "execution_count": null,
   "metadata": {},
   "outputs": [],
   "source": [
    "df_example.col4"
   ]
  },
  {
   "cell_type": "markdown",
   "metadata": {},
   "source": [
    "`'.'` operator selected columns are now just a `pd.Series` and can be `'[]'` sliced on further"
   ]
  },
  {
   "cell_type": "code",
   "execution_count": null,
   "metadata": {},
   "outputs": [],
   "source": [
    "### \n",
    "\n",
    "df_example"
   ]
  },
  {
   "cell_type": "code",
   "execution_count": null,
   "metadata": {},
   "outputs": [],
   "source": [
    "df_example.col4[4:8]"
   ]
  },
  {
   "cell_type": "markdown",
   "metadata": {},
   "source": [
    "However, if it is a named column that doesn't fit well as a `'.'` name, you can use `'[]'` selection as well"
   ]
  },
  {
   "cell_type": "code",
   "execution_count": null,
   "metadata": {},
   "outputs": [],
   "source": [
    "### \n",
    "\n",
    "df_example"
   ]
  },
  {
   "cell_type": "code",
   "execution_count": null,
   "metadata": {},
   "outputs": [],
   "source": [
    "df_example[\"col4\"][:3]"
   ]
  },
  {
   "cell_type": "code",
   "execution_count": null,
   "metadata": {},
   "outputs": [],
   "source": [
    "### \n",
    "\n",
    "df_example"
   ]
  },
  {
   "cell_type": "markdown",
   "metadata": {},
   "source": [
    "Named rows can be selected by a range of the names"
   ]
  },
  {
   "cell_type": "code",
   "execution_count": null,
   "metadata": {},
   "outputs": [],
   "source": [
    "df_example['row2':'row5']"
   ]
  },
  {
   "cell_type": "markdown",
   "metadata": {},
   "source": [
    "_____\n",
    "\n",
    "#### Selection <b>BY NAME</b>: the `.loc` method"
   ]
  },
  {
   "cell_type": "markdown",
   "metadata": {},
   "source": [
    "```python\n",
    "# .loc syntax\n",
    "df.loc[row indexer, column indexer]\n",
    "```"
   ]
  },
  {
   "cell_type": "markdown",
   "metadata": {},
   "source": [
    "<b>A slice of specific items (based on label) - start and stop included</b>"
   ]
  },
  {
   "cell_type": "code",
   "execution_count": null,
   "metadata": {},
   "outputs": [],
   "source": [
    "### \n",
    "\n",
    "df_example"
   ]
  },
  {
   "cell_type": "code",
   "execution_count": null,
   "metadata": {},
   "outputs": [],
   "source": [
    "df_example.loc['row2':'row5', 'col1':'col6']"
   ]
  },
  {
   "cell_type": "markdown",
   "metadata": {},
   "source": [
    "#### Boolean indexing"
   ]
  },
  {
   "cell_type": "code",
   "execution_count": null,
   "metadata": {},
   "outputs": [],
   "source": [
    "### \n",
    "\n",
    "df_example"
   ]
  },
  {
   "cell_type": "code",
   "execution_count": null,
   "metadata": {},
   "outputs": [],
   "source": [
    "df_example.loc[df_example.col2 < 30]"
   ]
  },
  {
   "cell_type": "markdown",
   "metadata": {},
   "source": [
    "___\n",
    "\n",
    "#### Selection <b>BY POSITION</b>: the `.iloc` method"
   ]
  },
  {
   "cell_type": "markdown",
   "metadata": {},
   "source": [
    "```python\n",
    "# .loc syntax\n",
    "df.iloc[row indices, column indices]\n",
    "```"
   ]
  },
  {
   "cell_type": "markdown",
   "metadata": {},
   "source": [
    "<b>A slice of specific items (based on position)</b>"
   ]
  },
  {
   "cell_type": "code",
   "execution_count": null,
   "metadata": {},
   "outputs": [],
   "source": [
    "### \n",
    "\n",
    "df_example"
   ]
  },
  {
   "cell_type": "code",
   "execution_count": null,
   "metadata": {},
   "outputs": [],
   "source": [
    "df_example.iloc[3:8,2]"
   ]
  },
  {
   "cell_type": "code",
   "execution_count": null,
   "metadata": {},
   "outputs": [],
   "source": [
    "# we can use a list of indices\n",
    "\n",
    "df_example.iloc[3:8,[2,4,6]]"
   ]
  },
  {
   "cell_type": "markdown",
   "metadata": {},
   "source": [
    "____\n",
    "#### Quick <b>Exploration</b> of the data"
   ]
  },
  {
   "cell_type": "code",
   "execution_count": null,
   "metadata": {},
   "outputs": [],
   "source": [
    "### \n",
    "\n",
    "df_example"
   ]
  },
  {
   "cell_type": "code",
   "execution_count": null,
   "metadata": {},
   "outputs": [],
   "source": [
    "# describe() - Summary statistics for a column - describe\n",
    "\n",
    "df_example.col1.describe()\n"
   ]
  },
  {
   "cell_type": "code",
   "execution_count": null,
   "metadata": {},
   "outputs": [],
   "source": [
    "# aggregate - Aggregate the values on a given column using a specific function\n",
    "\n",
    "df_example.col1.aggregate(sum)\n"
   ]
  },
  {
   "cell_type": "markdown",
   "metadata": {},
   "source": [
    "#### Object Manipulation - use conditional subsetting and assignment to change values in a dataframe"
   ]
  },
  {
   "cell_type": "code",
   "execution_count": null,
   "metadata": {},
   "outputs": [],
   "source": [
    "df_example"
   ]
  },
  {
   "cell_type": "code",
   "execution_count": null,
   "metadata": {},
   "outputs": [],
   "source": [
    "# some plotting\n",
    "\n",
    "df_example.col5.plot()"
   ]
  },
  {
   "cell_type": "code",
   "execution_count": null,
   "metadata": {},
   "outputs": [],
   "source": [
    "# Series/column of random numbers for each day for 1000 days\n",
    "ts = pd.Series(np.random.randn(1000),\n",
    "                  index=pd.date_range('1/1/2000', periods=1000))\n",
    "\n",
    "# Check the first 5 rows/elements\n",
    "ts.head()"
   ]
  },
  {
   "cell_type": "code",
   "execution_count": null,
   "metadata": {},
   "outputs": [],
   "source": [
    "# Check the last 5 rows/elements\n",
    "ts.tail()"
   ]
  },
  {
   "cell_type": "code",
   "execution_count": null,
   "metadata": {},
   "outputs": [],
   "source": [
    "ts = ts.cumsum()\n",
    "ts.plot()"
   ]
  },
  {
   "cell_type": "code",
   "execution_count": null,
   "metadata": {},
   "outputs": [],
   "source": [
    "# some plotting\n",
    "\n",
    "# Dataframe of random numbers for each day for 1000 days for 4 categories/columns ABCD\n",
    "df = pd.DataFrame(np.random.randn(1000, 4),\n",
    "                      index=ts.index, columns=list('ABCD'))\n",
    " \n",
    "\n",
    "df = df.cumsum()\n",
    "\n",
    "plt.figure();\n",
    "\n",
    "df.plot();"
   ]
  },
  {
   "cell_type": "code",
   "execution_count": null,
   "metadata": {},
   "outputs": [],
   "source": [
    "# Only rows that meet the condition will be retrieved and \n",
    "# for the columns that are selected the values will be changed to 0\n",
    "\n",
    "df_example.loc[df_example.col2 > 30, ['col2',\"col4\"]] = 0 \n"
   ]
  },
  {
   "cell_type": "code",
   "execution_count": null,
   "metadata": {},
   "outputs": [],
   "source": [
    "df_example"
   ]
  },
  {
   "cell_type": "markdown",
   "metadata": {},
   "source": [
    "____\n",
    "#### <font color = \"red\">Exercise</font>\n",
    "\n",
    "Replace all the 0 values in df_example with 200."
   ]
  },
  {
   "cell_type": "code",
   "execution_count": null,
   "metadata": {},
   "outputs": [],
   "source": []
  },
  {
   "cell_type": "code",
   "execution_count": null,
   "metadata": {},
   "outputs": [],
   "source": []
  },
  {
   "cell_type": "code",
   "execution_count": null,
   "metadata": {},
   "outputs": [],
   "source": [
    "# Reset the exmaple dataframe\n",
    "\n",
    "df_example = pd.DataFrame(data_array,row_labels,col_labels)\n",
    "df_example\n"
   ]
  },
  {
   "cell_type": "code",
   "execution_count": null,
   "metadata": {},
   "outputs": [],
   "source": [
    "df_example[(df_example >= 20) & (df_example <= 60) & (df_example%2 == 0)] = np.nan"
   ]
  },
  {
   "cell_type": "code",
   "execution_count": null,
   "metadata": {},
   "outputs": [],
   "source": [
    "df_example"
   ]
  },
  {
   "cell_type": "code",
   "execution_count": null,
   "metadata": {},
   "outputs": [],
   "source": [
    "# hasnans- Checks missiong values on a column (pd.Series)\n",
    "\n",
    "df_example.col1.hasnans\n"
   ]
  },
  {
   "cell_type": "markdown",
   "metadata": {},
   "source": [
    "___\n",
    "#### Melt a dataframe - convert columns data to row data\n",
    "##### Useful to apply statistics on the long format of the data where the categories of a variable are in values of a column"
   ]
  },
  {
   "cell_type": "code",
   "execution_count": null,
   "metadata": {},
   "outputs": [],
   "source": [
    "df = pd.DataFrame({'A': {0: 'a', 1: 'b', 2: 'c'},\n",
    "                   'B': {0: 11, 1: 33, 2: 55},\n",
    "                   'C': {0: 22, 1: 44, 2: 66}})\n",
    "df"
   ]
  },
  {
   "cell_type": "code",
   "execution_count": null,
   "metadata": {},
   "outputs": [],
   "source": [
    "# melt - Useful function to change a DataFrame into a format where one or more columns are identifier variables (id_vars), \n",
    "# while all other columns, considered measured variables (value_vars), are “unpivoted” to the row axis, \n",
    "# leaving just two non-identifier columns, ‘variable’ and ‘value’.\n",
    "\n",
    "pd.melt(df, id_vars=['A'], value_vars=['B', 'C'])\n"
   ]
  },
  {
   "cell_type": "markdown",
   "metadata": {},
   "source": [
    "____\n",
    "#### Load dataframe from online file \n",
    "\n"
   ]
  },
  {
   "cell_type": "code",
   "execution_count": null,
   "metadata": {},
   "outputs": [],
   "source": [
    "# Iris dataset is a dataset with information about 4 characteristics of 3 species of 150 iris flowers (50 flowers/species) \n",
    "\n",
    "df_iris = pd.read_csv('https://raw.githubusercontent.com/uiuc-cse/data-fa14/gh-pages/data/iris.csv')\n",
    "df_iris\n"
   ]
  },
  {
   "cell_type": "markdown",
   "metadata": {},
   "source": [
    "#### <font color = \"red\">Exercise</font>\n",
    "\n",
    "Answer the following questions by writing code:\n",
    "* How may rows and columns does the dataset have?\n",
    "* How may flowers with petal length > 4 and petal width > 2 are there?\n",
    "\n"
   ]
  },
  {
   "cell_type": "code",
   "execution_count": null,
   "metadata": {},
   "outputs": [],
   "source": []
  },
  {
   "cell_type": "code",
   "execution_count": null,
   "metadata": {},
   "outputs": [],
   "source": []
  },
  {
   "cell_type": "code",
   "execution_count": null,
   "metadata": {},
   "outputs": [],
   "source": []
  },
  {
   "cell_type": "markdown",
   "metadata": {},
   "source": [
    "#### RESOURCES\n",
    "\n",
    "https://www.python-course.eu/pandas.phphttps://www.python-course.eu/numpy.php    \n",
    "https://scipy-lectures.org/packages/statistics/index.html?highlight=pandas  \n",
    "https://www.geeksforgeeks.org/pandas-tutorial/"
   ]
  },
  {
   "cell_type": "markdown",
   "metadata": {},
   "source": [
    "https://pandas.pydata.org/Pandas_Cheat_Sheet.pdf"
   ]
  },
  {
   "cell_type": "markdown",
   "metadata": {},
   "source": [
    "<img src=\"https://pandas.pydata.org/Pandas_Cheat_Sheet.pdf\" width=1000/>"
   ]
  },
  {
   "cell_type": "code",
   "execution_count": null,
   "metadata": {},
   "outputs": [],
   "source": []
  },
  {
   "cell_type": "code",
   "execution_count": null,
   "metadata": {},
   "outputs": [],
   "source": []
  },
  {
   "cell_type": "code",
   "execution_count": null,
   "metadata": {},
   "outputs": [],
   "source": []
  },
  {
   "cell_type": "code",
   "execution_count": null,
   "metadata": {},
   "outputs": [],
   "source": []
  },
  {
   "cell_type": "code",
   "execution_count": null,
   "metadata": {},
   "outputs": [],
   "source": []
  },
  {
   "cell_type": "code",
   "execution_count": null,
   "metadata": {},
   "outputs": [],
   "source": []
  },
  {
   "cell_type": "markdown",
   "metadata": {},
   "source": [
    "____\n",
    "_____\n",
    "## Data Visualization"
   ]
  },
  {
   "cell_type": "markdown",
   "metadata": {},
   "source": [
    "____\n",
    "\n",
    "#### `matplotlib` - powerful basic plotting library\n",
    "https://matplotlib.org/3.1.1/tutorials/introductory/pyplot.html\n",
    "\n",
    "`matplotlib.pyplot` is a collection of command style functions that make matplotlib work like MATLAB. <br>\n",
    "Each pyplot function makes some change to a figure: e.g., creates a figure, creates a plotting area in a figure, plots some lines in a plotting area, decorates the plot with labels, etc.\n",
    "\n",
    "In `matplotlib.pyplot` various states are preserved across function calls, so that it keeps track of things like the current figure and plotting area, and the plotting functions are directed to the current axes.<br>\n",
    "\"axes\" in most places in the documentation refers to the axes part of a figure and not the strict mathematical term for more than one axis).\n",
    "\n",
    "\n",
    "https://github.com/pandas-dev/pandas/blob/v0.25.0/pandas/plotting/_core.py#L504-L1533\n",
    "https://matplotlib.org\n",
    "https://matplotlib.org/tutorials/    \n",
    "https://github.com/rougier/matplotlib-tutorial     \n",
    "https://www.tutorialspoint.com/matplotlib/matplotlib_pyplot_api.htm    \n",
    "https://realpython.com/python-matplotlib-guide/    \n",
    "https://github.com/matplotlib/AnatomyOfMatplotlib    \n",
    "https://www.w3schools.com/python/matplotlib_pyplot.asp   \n",
    "http://scipy-lectures.org/intro/matplotlib/index.html"
   ]
  },
  {
   "cell_type": "code",
   "execution_count": null,
   "metadata": {},
   "outputs": [],
   "source": [
    "%matplotlib inline\n",
    "import matplotlib.pyplot as plt"
   ]
  },
  {
   "cell_type": "markdown",
   "metadata": {},
   "source": [
    "Call signatures::\n",
    "```\n",
    "    plot([x], y, [fmt], data=None, **kwargs)\n",
    "    plot([x], y, [fmt], [x2], y2, [fmt2], ..., **kwargs)\n",
    "```"
   ]
  },
  {
   "cell_type": "markdown",
   "metadata": {},
   "source": [
    "Quick plot"
   ]
  },
  {
   "cell_type": "markdown",
   "metadata": {},
   "source": [
    "The main usage of `plt` is the `plot()` and `show()` functions"
   ]
  },
  {
   "cell_type": "code",
   "execution_count": null,
   "metadata": {},
   "outputs": [],
   "source": [
    "plt.plot()\n",
    "plt.show()"
   ]
  },
  {
   "cell_type": "markdown",
   "metadata": {},
   "source": [
    "List"
   ]
  },
  {
   "cell_type": "code",
   "execution_count": null,
   "metadata": {},
   "outputs": [],
   "source": [
    "plt.plot([8, 24, 27, 42])\n",
    "plt.ylabel('numbers')\n",
    "plt.show()"
   ]
  },
  {
   "cell_type": "code",
   "execution_count": null,
   "metadata": {},
   "outputs": [],
   "source": [
    "# Plot the two lists, add axes labels\n",
    "x=[4,5,6,7]\n",
    "y=[2,5,1,7]\n",
    "plt.plot(x,y)\n",
    "plt.xlabel(\"x numerical values\")\n",
    "plt.ylabel(\"y numerical values\")\n",
    "plt.show()"
   ]
  },
  {
   "cell_type": "markdown",
   "metadata": {},
   "source": [
    "`matplotlib` can use *format strings* to quickly declare the type of plots you want. Here are *some* of those formats:\n",
    "\n",
    "|**Character**|**Description**|\n",
    "|:-----------:|:--------------|\n",
    "|'--'|Dashed line|\n",
    "|':'|Dotted line|\n",
    "|'o'|Circle marker|\n",
    "|'^'|Upwards triangle marker|\n",
    "|'b'|Blue|\n",
    "|'c'|Cyan|\n",
    "|'g'|Green|"
   ]
  },
  {
   "cell_type": "code",
   "execution_count": null,
   "metadata": {},
   "outputs": [],
   "source": [
    "plt.plot([3, 4, 9, 20], 'gs--')\n",
    "plt.axis([-1, 4, 0, 25])\n",
    "plt.show()"
   ]
  },
  {
   "cell_type": "code",
   "execution_count": null,
   "metadata": {},
   "outputs": [],
   "source": [
    "plt.plot([3, 4, 9, 20], '^b--', linewidth=2, markersize=12)\n",
    "plt.show()"
   ]
  },
  {
   "cell_type": "code",
   "execution_count": null,
   "metadata": {},
   "outputs": [],
   "source": [
    "plt.plot([3, 4, 9, 20], color='blue', marker='^', linestyle='dashed', linewidth=2, markersize=12)\n",
    "plt.show()"
   ]
  },
  {
   "cell_type": "code",
   "execution_count": null,
   "metadata": {},
   "outputs": [],
   "source": [
    "#import numpy as np\n",
    "\n",
    "# Plot a list with 10 numbers with a magenta dotted line and circles for points.\n",
    "#numbers = [2,25,16,10,4,5,6,22,19,23]\n",
    "numbers = np.random.rand(10)\n",
    "plt.plot(numbers, \"mo:\")\n",
    "plt.show()"
   ]
  },
  {
   "cell_type": "code",
   "execution_count": null,
   "metadata": {},
   "outputs": [],
   "source": [
    "# help(plt.plot)"
   ]
  },
  {
   "cell_type": "code",
   "execution_count": null,
   "metadata": {},
   "outputs": [],
   "source": [
    "#import numpy as np\n",
    "\n",
    "# evenly sampled time \n",
    "time = np.arange(0, 7, 0.3)\n",
    "# gene expression\n",
    "ge = np.arange(1, 8, 0.3)\n",
    "\n",
    "# red dashes, blue squares and green triangles\n",
    "plt.plot(time, ge, 'r--', time, ge**2, 'bs', time, ge**2.5, 'ms:', time, ge**3, 'g^')\n",
    "plt.show()"
   ]
  },
  {
   "cell_type": "markdown",
   "metadata": {},
   "source": [
    "linestyle or ls\t[ '-' | '--' | '-.' | ':' | "
   ]
  },
  {
   "cell_type": "code",
   "execution_count": null,
   "metadata": {},
   "outputs": [],
   "source": [
    "# Categorical data plotting using categories on the x axis \n",
    "# we also use the figure function to create more complex figure (size = (width,height))\n",
    "# and subplot to plot multiple sub-plots ar different positions in the figure\n",
    "# 131 - *nrows*, *ncols*, and *index*\n",
    "# Different types of plots: bar, scatter, and histogram \n",
    " \n",
    "names = ['A', 'B', 'C', 'D']\n",
    "values = [7, 20, 33, 44]\n",
    "values1 = np.random.rand(100)\n",
    "values2 = np.random.rand(100)\n",
    "\n",
    "plt.figure(figsize=(12, 3))\n",
    "\n",
    "plt.subplot(131)\n",
    "plt.bar(names, values)\n",
    "plt.subplot(132)\n",
    "plt.scatter(names, values)\n",
    "plt.subplot(133)\n",
    "plt.hist(values1)\n",
    "plt.suptitle('Categorical Plotting')\n",
    "plt.show()"
   ]
  },
  {
   "cell_type": "code",
   "execution_count": null,
   "metadata": {},
   "outputs": [],
   "source": [
    "# help(plt.subplot)"
   ]
  },
  {
   "cell_type": "code",
   "execution_count": null,
   "metadata": {},
   "outputs": [],
   "source": [
    "# Add another subplot with another color\n",
    "\n",
    "names = ['A', 'B', 'C', 'D']\n",
    "values = [7, 20, 33, 44]\n",
    "values1 = np.random.rand(100)\n",
    "values2 = np.random.rand(10000)\n",
    "\n",
    "plt.figure(figsize=(15, 3))\n",
    "\n",
    "plt.subplot(141)\n",
    "plt.bar(names, values)\n",
    "plt.subplot(142)\n",
    "plt.scatter(names, values)\n",
    "plt.subplot(143)\n",
    "plt.hist(values1)\n",
    "plt.subplot(144)\n",
    "plt.hist(values2, color = \"green\")\n",
    "plt.suptitle('Categorical Plotting')\n",
    "plt.show()"
   ]
  },
  {
   "cell_type": "code",
   "execution_count": null,
   "metadata": {},
   "outputs": [],
   "source": [
    "# Changing the grid layout\n",
    "\n",
    "names = ['A', 'B', 'C', 'D']\n",
    "values = [7, 20, 33, 44]\n",
    "values1 = np.random.rand(100)\n",
    "values2 = np.random.rand(10000)\n",
    "\n",
    "plt.figure(figsize=(9, 6))\n",
    "\n",
    "plt.subplot(221)\n",
    "plt.bar(names, values)\n",
    "plt.subplot(222)\n",
    "plt.scatter(names, values)\n",
    "plt.subplot(223)\n",
    "plt.hist(values1)\n",
    "plt.subplot(224)\n",
    "plt.hist(values2, color = \"green\")\n",
    "plt.suptitle('Categorical Plotting')\n",
    "plt.show()"
   ]
  },
  {
   "cell_type": "code",
   "execution_count": null,
   "metadata": {},
   "outputs": [],
   "source": []
  },
  {
   "cell_type": "code",
   "execution_count": null,
   "metadata": {},
   "outputs": [],
   "source": [
    "# help(plt.bar)"
   ]
  },
  {
   "cell_type": "code",
   "execution_count": null,
   "metadata": {},
   "outputs": [],
   "source": [
    "import pandas as pd"
   ]
  },
  {
   "cell_type": "code",
   "execution_count": null,
   "metadata": {},
   "outputs": [],
   "source": [
    "df_iris = pd.read_csv('https://raw.githubusercontent.com/uiuc-cse/data-fa14/gh-pages/data/iris.csv')\n",
    "df_iris.head()"
   ]
  },
  {
   "cell_type": "code",
   "execution_count": null,
   "metadata": {},
   "outputs": [],
   "source": [
    "x1 = df_iris.petal_length\n",
    "y1 = df_iris.petal_width\n",
    "\n",
    "x2 = df_iris.sepal_length\n",
    "y2 = df_iris.sepal_width\n",
    "\n",
    "# Plot the data categories from the dataframe with green triangles and blue squares\n",
    "\n",
    "plt.plot(x1, y1, 'g^', x2, y2, 'bs')\n",
    "plt.show()"
   ]
  },
  {
   "cell_type": "markdown",
   "metadata": {},
   "source": [
    "#### Histogram"
   ]
  },
  {
   "cell_type": "code",
   "execution_count": null,
   "metadata": {},
   "outputs": [],
   "source": [
    "# help(plt.hist)"
   ]
  },
  {
   "cell_type": "code",
   "execution_count": null,
   "metadata": {},
   "outputs": [],
   "source": [
    "n, bins, patches = plt.hist(df_iris.petal_length, bins=20,facecolor='#8303A2', alpha=0.8, rwidth=.8, align='mid')\n",
    "print(n)\n",
    "# Add a title\n",
    "plt.title('Iris dataset petal length')\n",
    "\n",
    "# Add y axis label\n",
    "plt.ylabel('number of plants')\n",
    "plt.xlabel('petal length')\n",
    "\n",
    "\n",
    "plt.show()"
   ]
  },
  {
   "cell_type": "markdown",
   "metadata": {},
   "source": [
    "#### Boxplot"
   ]
  },
  {
   "cell_type": "code",
   "execution_count": null,
   "metadata": {},
   "outputs": [],
   "source": [
    "# help(plt.boxplot)"
   ]
  },
  {
   "cell_type": "code",
   "execution_count": null,
   "metadata": {},
   "outputs": [],
   "source": [
    "plt.boxplot(df_iris.petal_length)\n",
    "\n",
    "# Add a title\n",
    "plt.title('Iris dataset petal length')\n",
    "\n",
    "# Add y axis label\n",
    "plt.ylabel('petal length')"
   ]
  },
  {
   "cell_type": "markdown",
   "metadata": {},
   "source": [
    "The biggest issue with `matplotlib` isn't its lack of power...it is that it is too much power. With great power, comes great responsibility. When you are quickly exploring data, you don't want to have to fiddle around with axis limits, colors, figure sizes, etc. Yes, you *can* make good figures with `matplotlib`, but you probably won't."
   ]
  },
  {
   "cell_type": "markdown",
   "metadata": {},
   "source": [
    "https://python-graph-gallery.com/matplotlib/"
   ]
  },
  {
   "cell_type": "markdown",
   "metadata": {},
   "source": [
    "Pandas works off of `matplotlib` by default. You can easily start visualizing dataframs and series just by a simple command."
   ]
  },
  {
   "cell_type": "markdown",
   "metadata": {},
   "source": [
    "#### Using pandas `.plot()`"
   ]
  },
  {
   "cell_type": "markdown",
   "metadata": {},
   "source": [
    "Pandas abstracts some of those initial issues with data visualization. However, it is still a `matplotlib` plot</br></br>\n",
    "Every plot that is returned from `pandas` is subject to `matplotlib` modification."
   ]
  },
  {
   "cell_type": "code",
   "execution_count": null,
   "metadata": {},
   "outputs": [],
   "source": [
    "df_iris.plot.box()\n",
    "plt.show()"
   ]
  },
  {
   "cell_type": "code",
   "execution_count": null,
   "metadata": {},
   "outputs": [],
   "source": [
    "df_iris.head()"
   ]
  },
  {
   "cell_type": "code",
   "execution_count": null,
   "metadata": {},
   "outputs": [],
   "source": [
    "# Plot the histogram of the petal lengths\n",
    "# Plot the histograms of all 4 numerical characteristics in a plot\n",
    "df_iris.petal_length.plot.hist()\n",
    "plt.show()\n",
    "\n"
   ]
  },
  {
   "cell_type": "code",
   "execution_count": null,
   "metadata": {},
   "outputs": [],
   "source": [
    "df_iris.plot.hist()\n",
    "plt.show()"
   ]
  },
  {
   "cell_type": "code",
   "execution_count": null,
   "metadata": {},
   "outputs": [],
   "source": [
    "df_iris.groupby(\"species\")['petal_length'].mean().plot(kind='bar')\n",
    "plt.show()"
   ]
  },
  {
   "cell_type": "code",
   "execution_count": null,
   "metadata": {},
   "outputs": [],
   "source": [
    "df_iris.groupby(\"species\")['sepal_length'].sum().plot(kind='bar',color = \"green\")\n",
    "plt.show()"
   ]
  },
  {
   "cell_type": "code",
   "execution_count": null,
   "metadata": {},
   "outputs": [],
   "source": [
    "df_iris.plot(x='petal_length', y='petal_width', kind = \"scatter\")\n",
    "plt.savefig('output.png')"
   ]
  },
  {
   "cell_type": "code",
   "execution_count": null,
   "metadata": {},
   "outputs": [],
   "source": [
    "plt.savefig('output.png')"
   ]
  },
  {
   "cell_type": "markdown",
   "metadata": {},
   "source": [
    "https://github.com/pandas-dev/pandas/blob/v0.25.0/pandas/plotting/_core.py#L504-L1533"
   ]
  },
  {
   "cell_type": "markdown",
   "metadata": {},
   "source": [
    "#### Multiple Plots"
   ]
  },
  {
   "cell_type": "code",
   "execution_count": null,
   "metadata": {},
   "outputs": [],
   "source": [
    "df_iris.petal_length.plot(kind='density')\n",
    "df_iris.sepal_length.plot(kind='density')\n",
    "df_iris.petal_width.plot(kind='density')\n",
    "plt.show()"
   ]
  },
  {
   "cell_type": "markdown",
   "metadata": {},
   "source": [
    "`matplotlib` allows users to define the regions of their plotting canvas. If the user intends to create a canvas with multiple plots, they would use the `subplot()` function. The `subplot` function sets the number of rows and columns the canvas will have **AND** sets the current index of where the next subplot will be rendered."
   ]
  },
  {
   "cell_type": "code",
   "execution_count": null,
   "metadata": {},
   "outputs": [],
   "source": [
    "plt.figure(1)\n",
    "# Plot all three columns from df in different subplots\n",
    "# Rows first index (top-left)\n",
    "plt.subplot(3, 1, 1)\n",
    "df_iris.petal_length.plot(kind='density')\n",
    "plt.subplot(3, 1, 2)\n",
    "df_iris.sepal_length.plot(kind='density')\n",
    "plt.subplot(3, 1, 3)\n",
    "df_iris.petal_width.plot(kind='density')\n",
    "# Some plot configuration\n",
    "plt.subplots_adjust(top=.92, bottom=.08, left=.1, right=.95, hspace=.25, wspace=.35)\n",
    "plt.show()"
   ]
  },
  {
   "cell_type": "code",
   "execution_count": null,
   "metadata": {},
   "outputs": [],
   "source": [
    "# Temporary styles\n",
    "with plt.style.context(('ggplot')):\n",
    "    plt.figure(1)\n",
    "\n",
    "    # Plot all three columns from df in different subplots\n",
    "    # Rows first index (top-left)\n",
    "    plt.subplot(3, 1, 1)\n",
    "    df_iris.petal_length.plot(kind='density')\n",
    "    plt.subplot(3, 1, 2)\n",
    "    df_iris.sepal_length.plot(kind='density')\n",
    "    plt.subplot(3, 1, 3)\n",
    "    df_iris.petal_width.plot(kind='density')\n",
    "    # Some plot configuration\n",
    "    plt.subplots_adjust(top=.92, bottom=.08, left=.1, right=.95, hspace=.25, wspace=.35)\n",
    "    plt.show()"
   ]
  },
  {
   "cell_type": "code",
   "execution_count": null,
   "metadata": {},
   "outputs": [],
   "source": [
    "# Plot the histograms of the petal length and width and sepal length and width \n",
    "# Display them on the columns of a figure with 2X2 subplots\n",
    "# color them red, green, blue and yellow, respectivelly  \n",
    "\n",
    "\n",
    "with plt.style.context(('ggplot')):\n",
    "    plt.figure(1)\n",
    "\n",
    "    # Plot each of the columns from the df in different subplots\n",
    "    # Rows first index (top-left)\n",
    "    plt.subplot(2, 2, 1)\n",
    "    df_iris.petal_length.plot(kind='hist', color = \"red\")\n",
    "    plt.xlabel(\"petal length\")\n",
    "    plt.subplot(2, 2, 2)\n",
    "    df_iris.sepal_length.plot.hist(color = \"blue\")\n",
    "    plt.xlabel(\"sepal length\")\n",
    "    plt.subplot(2, 2, 3)\n",
    "    df_iris.petal_width.plot(kind='hist', color = \"green\")\n",
    "    plt.xlabel(\"petal width\")\n",
    "    plt.subplot(2, 2, 4)\n",
    "    df_iris.sepal_width.plot.hist(color = \"yellow\")\n",
    "    plt.xlabel(\"sepal width\")\n",
    "    # Some plot configuration\n",
    "    plt.subplots_adjust(top=.92, bottom=.001, left=.1, right=.95, hspace=.30, wspace=.35)\n",
    "    plt.show()"
   ]
  },
  {
   "cell_type": "code",
   "execution_count": null,
   "metadata": {},
   "outputs": [],
   "source": [
    "# Adjusting the plot configuration\n",
    "\n",
    "with plt.style.context(('ggplot')):\n",
    "    plt.figure(1)\n",
    "\n",
    "    # Plot each of the columns from the df in different subplots\n",
    "    # Rows first index (top-left)\n",
    "    plt.subplot(2, 2, 1)\n",
    "    df_iris.petal_length.plot(kind='box', color = \"red\")\n",
    "    plt.subplot(2, 2, 2)\n",
    "    df_iris.sepal_length.plot.box(color = \"blue\")\n",
    "    plt.subplot(2, 2, 3)\n",
    "    df_iris.petal_width.plot(kind='hist', color = \"green\")\n",
    "    plt.xlabel(\"petal width\")\n",
    "    plt.subplot(2, 2, 4)\n",
    "    df_iris.sepal_width.plot.hist(color = \"yellow\")\n",
    "    plt.xlabel(\"sepal width\")\n",
    "    # Some plot configuration\n",
    "    plt.subplots_adjust(top=.92, bottom=.08, left=.1, right=.95, hspace=.25, wspace=.35)\n",
    "    plt.show()"
   ]
  },
  {
   "cell_type": "code",
   "execution_count": null,
   "metadata": {},
   "outputs": [],
   "source": [
    "# dir(df_iris.petal_length.plot)"
   ]
  },
  {
   "cell_type": "markdown",
   "metadata": {},
   "source": [
    "____________\n",
    "\n",
    "### `seaborn` - dataset-oriented plotting"
   ]
  },
  {
   "cell_type": "markdown",
   "metadata": {},
   "source": [
    "Seaborn is a library that specializes in making *prettier* `matplotlib` plots of statistical data. <br>\n",
    "It is built on top of matplotlib and closely integrated with pandas data structures.\n",
    "\n",
    "https://seaborn.pydata.org/introduction.html<br>\n",
    "https://python-graph-gallery.com/seaborn/   \n",
    "https://jakevdp.github.io/PythonDataScienceHandbook/04.14-visualization-with-seaborn.html\n",
    "https://seaborn.pydata.org/tutorial/distributions.html"
   ]
  },
  {
   "cell_type": "code",
   "execution_count": null,
   "metadata": {},
   "outputs": [],
   "source": [
    "import seaborn as sns"
   ]
  },
  {
   "cell_type": "markdown",
   "metadata": {},
   "source": [
    "`seaborn` lets users *style* their plotting environment."
   ]
  },
  {
   "cell_type": "code",
   "execution_count": null,
   "metadata": {},
   "outputs": [],
   "source": [
    "sns.set(style='whitegrid')"
   ]
  },
  {
   "cell_type": "markdown",
   "metadata": {},
   "source": [
    "However, you can always use `matplotlib`'s `plt.style`"
   ]
  },
  {
   "cell_type": "code",
   "execution_count": null,
   "metadata": {},
   "outputs": [],
   "source": [
    "#dir(sns)"
   ]
  },
  {
   "cell_type": "code",
   "execution_count": null,
   "metadata": {},
   "outputs": [],
   "source": [
    "sns.scatterplot(x='petal_length',y='petal_width',data=df_iris)\n",
    "plt.show()"
   ]
  },
  {
   "cell_type": "code",
   "execution_count": null,
   "metadata": {},
   "outputs": [],
   "source": [
    "# hue argument allows you to color dots by category\n",
    "\n",
    "sns.scatterplot(x='petal_length',y='petal_width', hue = \"species\", data=df_iris)\n",
    "plt.show()"
   ]
  },
  {
   "cell_type": "markdown",
   "metadata": {},
   "source": [
    "#### Violin plot"
   ]
  },
  {
   "cell_type": "markdown",
   "metadata": {},
   "source": [
    "Fancier box plot that gets rid of the need for 'jitter' to show the inherent distribution of the data points"
   ]
  },
  {
   "cell_type": "code",
   "execution_count": null,
   "metadata": {},
   "outputs": [],
   "source": [
    "columns = ['petal_length', 'petal_width', 'sepal_length']\n",
    "\n",
    "fig, axes = plt.subplots(figsize=(5, 5))\n",
    "sns.violinplot(data=df_iris.loc[:,columns], ax=axes)\n",
    "axes.set_ylabel('number')\n",
    "axes.set_xlabel('columns', )\n",
    "plt.show()"
   ]
  },
  {
   "cell_type": "markdown",
   "metadata": {},
   "source": [
    "#### Distplot"
   ]
  },
  {
   "cell_type": "code",
   "execution_count": null,
   "metadata": {},
   "outputs": [],
   "source": [
    "# A distplot plots a univariate distribution of observations. \n",
    "# The distplot() function combines the matplotlib hist function with the seaborn kdeplot() and rugplot() functions.\n",
    "\n",
    "sns.set(style='darkgrid', palette='muted')\n",
    "\n",
    "# 4 rows, 1 column - all have the same x axis\n",
    "f, axes = plt.subplots(4,1, figsize=(10,10), sharex=True)\n",
    "sns.despine(left=True)\n",
    "\n",
    "# Regular displot\n",
    "sns.distplot(df_iris.petal_length, ax=axes[0])\n",
    "\n",
    "# Change the color\n",
    "sns.distplot(df_iris.petal_width, kde=False, ax=axes[1], color='orange')\n",
    "\n",
    "# Show the Kernel density estimate\n",
    "sns.distplot(df_iris.sepal_width, hist=False, kde_kws={'shade':True}, ax=axes[2], color='purple')\n",
    "\n",
    "# Show the rug\n",
    "sns.distplot(df_iris.sepal_length, hist=False, rug=True, ax=axes[3], color='green')"
   ]
  },
  {
   "cell_type": "markdown",
   "metadata": {},
   "source": [
    "#### FacetGrid"
   ]
  },
  {
   "cell_type": "code",
   "execution_count": null,
   "metadata": {},
   "outputs": [],
   "source": [
    "sns.set()\n",
    "columns = ['species', 'petal_length', 'petal_width']\n",
    "facet_column = 'species'\n",
    "g = sns.FacetGrid(df_iris.loc[:,columns], col=facet_column, hue=facet_column, col_wrap=5)\n",
    "g.map(plt.scatter, 'petal_length', 'petal_width')"
   ]
  },
  {
   "cell_type": "code",
   "execution_count": null,
   "metadata": {},
   "outputs": [],
   "source": [
    "sns.relplot(x=\"petal_length\", y=\"petal_width\", col=\"species\",\n",
    "            hue=\"species\", style=\"species\", size=\"species\",\n",
    "            data=df_iris)\n",
    "plt.show()"
   ]
  },
  {
   "cell_type": "code",
   "execution_count": null,
   "metadata": {},
   "outputs": [],
   "source": []
  },
  {
   "cell_type": "markdown",
   "metadata": {},
   "source": [
    "____\n",
    "\n",
    "### `plotnine` - grammar of graphics - R ggplot2 in python"
   ]
  },
  {
   "cell_type": "markdown",
   "metadata": {},
   "source": [
    "plotnine is an implementation of a grammar of graphics in Python, it is based on ggplot2. The grammar allows users to compose plots by explicitly mapping data to the visual objects that make up the plot.\n",
    "\n",
    "Plotting with a grammar is powerful, it makes custom (and otherwise complex) plots are easy to think about and then create, while the simple plots remain simple.\n",
    "\n"
   ]
  },
  {
   "cell_type": "markdown",
   "metadata": {},
   "source": [
    "https://plotnine.readthedocs.io/en/stable/   \n",
    "http://cmdlinetips.com/2018/05/plotnine-a-python-library-to-use-ggplot2-in-python/  \n",
    "https://plotnine.readthedocs.io/en/stable/tutorials/miscellaneous-altering-colors.html   \n",
    "https://datascienceworkshops.com/blog/plotnine-grammar-of-graphics-for-python/   \n",
    "https://realpython.com/ggplot-python/"
   ]
  },
  {
   "cell_type": "markdown",
   "metadata": {},
   "source": [
    "\n",
    "\n",
    "### Uncomment and run the following line to install the library"
   ]
  },
  {
   "cell_type": "code",
   "execution_count": null,
   "metadata": {},
   "outputs": [],
   "source": [
    "# !pip install plotnine"
   ]
  },
  {
   "cell_type": "code",
   "execution_count": null,
   "metadata": {},
   "outputs": [],
   "source": [
    "from plotnine import *"
   ]
  },
  {
   "cell_type": "code",
   "execution_count": null,
   "metadata": {},
   "outputs": [],
   "source": [
    "ggplot(data=df_iris) + geom_point(aes(x=\"petal_length\", y = \"petal_width\"))"
   ]
  },
  {
   "cell_type": "code",
   "execution_count": null,
   "metadata": {},
   "outputs": [],
   "source": [
    "# add transparency - to avoid over plotting - alpha argument\n",
    "ggplot(data=df_iris) + aes(x=\"petal_length\", y = \"petal_width\") + geom_point(alpha=0.7)"
   ]
  },
  {
   "cell_type": "code",
   "execution_count": null,
   "metadata": {},
   "outputs": [],
   "source": [
    "# change point size \n",
    "ggplot(data=df_iris) + aes(x=\"petal_length\", y = \"petal_width\") + geom_point(size = 0.7, alpha=0.7)"
   ]
  },
  {
   "cell_type": "code",
   "execution_count": null,
   "metadata": {},
   "outputs": [],
   "source": [
    "# more parameters - scale_x_log10 - transform x axis values to log scale, xlab - add label to x axis\n",
    "ggplot(data=df_iris) + aes(x=\"petal_length\", y = \"petal_width\") \\\n",
    "    + geom_point() + scale_x_log10() + xlab(\"Petal Length\")"
   ]
  },
  {
   "cell_type": "code",
   "execution_count": null,
   "metadata": {},
   "outputs": [],
   "source": [
    "n = \"3\"\n",
    "ft = \"length and width\"\n",
    "title = 'species : ' + n + ', petal : ' + ft  \n",
    "\n",
    "ggplot(data=df_iris) +aes(x='petal_length',y='petal_width',color=\"species\") + \\\n",
    "    geom_point(size=0.7,alpha=0.7) + facet_wrap('~species',nrow=3) + \\\n",
    "    theme(figure_size=(9,5)) + ggtitle(title)\n"
   ]
  },
  {
   "cell_type": "code",
   "execution_count": null,
   "metadata": {},
   "outputs": [],
   "source": [
    "# Set width of bar for histogram and color for the bar line and bar fill color\n",
    "\n",
    "p = ggplot(data=df_iris) + aes(x='petal_length') + geom_histogram(binwidth=1,color='black',fill='grey')\n",
    "p"
   ]
  },
  {
   "cell_type": "code",
   "execution_count": null,
   "metadata": {},
   "outputs": [],
   "source": [
    "# Save the plot to a file\n",
    "\n",
    "ggsave(plot=p, filename='hist_plot_with_plotnine.png')\n"
   ]
  },
  {
   "cell_type": "markdown",
   "metadata": {},
   "source": [
    "#### Quick analysis on the cars dataset:\n",
    "\n",
    "| variable | description                              |\n",
    "|----------|------------------------------------------|\n",
    "| mpg      | Miles/(US) gallon                        |\n",
    "| cyl      | Number of cylinders                      |\n",
    "| disp     | Displacement (cu.in.)                    |\n",
    "| hp       | Gross horsepower                         |\n",
    "| drat     | Rear axle ratio                          |\n",
    "| wt       | Weight (lb/1000)                         |\n",
    "| qsec     | 1/4 mile time                            |\n",
    "| vs       | V/S                                      |\n",
    "| am       | Transmission (0 = automatic, 1 = manual) |\n",
    "| gear     | Number of forward gears                  |\n",
    "| carb     | Number of carburetors                    |"
   ]
  },
  {
   "cell_type": "code",
   "execution_count": null,
   "metadata": {},
   "outputs": [],
   "source": [
    "# Create a linear regression line that uses the weight of the car to explain/predict the miles per gallon\n",
    "# These are broken down in 3 categories by gear\n",
    "# The grey area is the 95% confidence level interval for predictions from a linear model (\"lm\")\n",
    "\n",
    "from plotnine.data import mtcars\n",
    "\n",
    "(ggplot(mtcars, aes('wt', 'mpg', color='factor(gear)'))\n",
    " + geom_point()\n",
    " + stat_smooth(method='lm')\n",
    " + facet_wrap('~gear'))"
   ]
  },
  {
   "cell_type": "markdown",
   "metadata": {},
   "source": [
    "\n",
    "https://www.rstudio.com/wp-content/uploads/2015/03/ggplot2-cheatsheet.pdf"
   ]
  },
  {
   "cell_type": "markdown",
   "metadata": {},
   "source": [
    "<img src = \"https://www.rstudio.com/wp-content/uploads/2015/03/ggplot2-cheatsheet.pdf\" width = \"1000\"/>"
   ]
  },
  {
   "cell_type": "markdown",
   "metadata": {},
   "source": [
    "#### <font color = \"red\">Exercise</font>\n",
    "\n",
    "* Use ggplot to plot the sepal_length in boxplots separated by species, add new axes labels and make the y axis values log10.\n",
    "\n",
    "* Write a function that takes as a parameter a line of the dataframe and if the species is: \n",
    "        - setosa it returns the petal_length \n",
    "        - versicolor it returns the petal_width \n",
    "        - virginica it returns the sepal_length\n",
    "\n",
    "    - Apply this function to every line in the dataset and save the result in an array.  \n",
    "    - Use ggplot to make a histogram of the values.  "
   ]
  },
  {
   "cell_type": "code",
   "execution_count": null,
   "metadata": {},
   "outputs": [],
   "source": []
  },
  {
   "cell_type": "code",
   "execution_count": null,
   "metadata": {},
   "outputs": [],
   "source": []
  }
 ],
 "metadata": {
  "kernelspec": {
   "display_name": "Python 3",
   "language": "python",
   "name": "python3"
  },
  "language_info": {
   "codemirror_mode": {
    "name": "ipython",
    "version": 3
   },
   "file_extension": ".py",
   "mimetype": "text/x-python",
   "name": "python",
   "nbconvert_exporter": "python",
   "pygments_lexer": "ipython3",
   "version": "3.8.3"
  }
 },
 "nbformat": 4,
 "nbformat_minor": 4
}
