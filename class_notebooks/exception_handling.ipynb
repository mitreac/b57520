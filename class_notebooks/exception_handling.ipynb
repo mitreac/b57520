{
 "cells": [
  {
   "cell_type": "markdown",
   "metadata": {},
   "source": [
    "## Exception Handling\n",
    "### BIOINF 575 - Fall 2020"
   ]
  },
  {
   "cell_type": "markdown",
   "metadata": {},
   "source": [
    "Considering and managing exceptional cases."
   ]
  },
  {
   "cell_type": "markdown",
   "metadata": {},
   "source": [
    "https://docs.python.org/3/tutorial/errors.html"
   ]
  },
  {
   "cell_type": "markdown",
   "metadata": {},
   "source": [
    "Python code stops as soon as it encounters an error.<br>\n",
    "Until now error messages haven’t been more than mentioned. <br>\n",
    "We have seen a lot of them over the course. <br>\n",
    "There are (at least) two distinguishable kinds of errors: <b>syntax errors</b> and <b>exceptions</b>."
   ]
  },
  {
   "cell_type": "markdown",
   "metadata": {},
   "source": [
    "<b>Syntax errors</b>, also known as parsing errors, are perhaps the most common kind of complaint you get while you are learning Python."
   ]
  },
  {
   "cell_type": "code",
   "execution_count": null,
   "metadata": {},
   "outputs": [],
   "source": [
    "i=2\n",
    "if i>4\n",
    "    print(i)"
   ]
  },
  {
   "cell_type": "markdown",
   "metadata": {},
   "source": [
    "The parser repeats the offending line and displays a little ‘arrow’ pointing at the earliest point in the line where the error was detected. \n",
    "\n",
    "The error is caused by (or at least detected at) the token preceding the arrow. \n",
    "\n",
    "File name and line number are printed so you know where to look in case the input came from a script."
   ]
  },
  {
   "cell_type": "markdown",
   "metadata": {},
   "source": [
    "##### Generate a syntax error"
   ]
  },
  {
   "cell_type": "code",
   "execution_count": null,
   "metadata": {},
   "outputs": [],
   "source": []
  },
  {
   "cell_type": "code",
   "execution_count": null,
   "metadata": {},
   "outputs": [],
   "source": [
    "\n",
    "    "
   ]
  },
  {
   "cell_type": "code",
   "execution_count": null,
   "metadata": {},
   "outputs": [],
   "source": []
  },
  {
   "cell_type": "code",
   "execution_count": null,
   "metadata": {},
   "outputs": [],
   "source": []
  },
  {
   "cell_type": "markdown",
   "metadata": {},
   "source": [
    "Even if a statement or expression is syntactically correct, it may cause an error when an attempt is made to execute it. \n",
    "\n",
    "<b>Errors detected during execution are called exceptions</b> and are not unconditionally fatal: you will soon learn how to handle them.\n",
    "\n",
    "Most exceptions are not handled by programs, however, and result in error messages."
   ]
  },
  {
   "cell_type": "code",
   "execution_count": null,
   "metadata": {},
   "outputs": [],
   "source": [
    "d = dict()\n",
    "print(d[\"A\"])\n"
   ]
  },
  {
   "cell_type": "code",
   "execution_count": null,
   "metadata": {},
   "outputs": [],
   "source": [
    "\"A\" +3"
   ]
  },
  {
   "cell_type": "code",
   "execution_count": null,
   "metadata": {},
   "outputs": [],
   "source": [
    "i=0\n",
    "5/i"
   ]
  },
  {
   "cell_type": "code",
   "execution_count": null,
   "metadata": {},
   "outputs": [],
   "source": [
    "ZeroDivisionError"
   ]
  },
  {
   "cell_type": "markdown",
   "metadata": {},
   "source": [
    "The last line of the error message indicates what happened. Exceptions come in different types, and the type is printed as part of the message. The string printed as the exception type is the name of the built-in exception that occurred. This is true for all built-in exceptions, but it does not have to be true for user-defined exceptions (although it is a useful convention). Standard exception names are built-in identifiers (not reserved keywords).\n",
    "\n",
    "The rest of the line provides detail based on the type of exception and what caused it.\n",
    "\n",
    "The preceding part of the error message shows the context where the exception happened, in the form of a stack traceback. In general it contains a stack traceback listing source lines; however, it will not display lines read from standard input."
   ]
  },
  {
   "cell_type": "markdown",
   "metadata": {},
   "source": [
    "##### Generate a non-syntactic error"
   ]
  },
  {
   "cell_type": "code",
   "execution_count": null,
   "metadata": {},
   "outputs": [],
   "source": []
  },
  {
   "cell_type": "code",
   "execution_count": null,
   "metadata": {},
   "outputs": [],
   "source": []
  },
  {
   "cell_type": "code",
   "execution_count": null,
   "metadata": {},
   "outputs": [],
   "source": []
  },
  {
   "cell_type": "code",
   "execution_count": null,
   "metadata": {},
   "outputs": [],
   "source": []
  },
  {
   "cell_type": "markdown",
   "metadata": {},
   "source": [
    "https://docs.python.org/3/library/exceptions.html#exception-hierarchy"
   ]
  },
  {
   "cell_type": "code",
   "execution_count": null,
   "metadata": {},
   "outputs": [],
   "source": [
    "for e in dir(__builtin__):\n",
    "    if \"Error\" in e:\n",
    "        print(e)"
   ]
  },
  {
   "cell_type": "markdown",
   "metadata": {},
   "source": [
    "#### <b>Warning messages</b> are typically issued in situations where it is useful to alert the user of some condition in a program, where that condition (normally) doesn’t warrant raising an exception and terminating the program. \n",
    "\n",
    "For example, one might want to issue a warning when a program uses an obsolete module.\n",
    "\n",
    "Python programmers issue warnings by calling the warn() function defined in the warnings module.\n",
    "\n",
    "https://docs.python.org/3/library/warnings.html"
   ]
  },
  {
   "cell_type": "code",
   "execution_count": null,
   "metadata": {},
   "outputs": [],
   "source": [
    "for w in dir(__builtin__):\n",
    "    if \"Warning\" in w:\n",
    "        print(w)\n",
    "    "
   ]
  },
  {
   "cell_type": "code",
   "execution_count": null,
   "metadata": {},
   "outputs": [],
   "source": [
    "import warnings\n",
    "help(warnings.warn)"
   ]
  },
  {
   "cell_type": "code",
   "execution_count": null,
   "metadata": {},
   "outputs": [],
   "source": [
    "i=7\n",
    "if i>2:\n",
    "    warnings.warn(\"Testing warning\", UserWarning)\n",
    "    print(\"This runs\")\n",
    "else:\n",
    "    print(i)"
   ]
  },
  {
   "cell_type": "markdown",
   "metadata": {},
   "source": [
    "___ \n",
    "\n",
    "#### It is possible to <b>handle selected exceptions</b>\n",
    "#### Easier to ask for forgiveness than for permission\n",
    "#### <b>try except else finally</b>\n"
   ]
  },
  {
   "cell_type": "markdown",
   "metadata": {},
   "source": [
    "<img src=\"https://files.realpython.com/media/try_except_else_finally.a7fac6c36c55.png\" width=\"600\"/>"
   ]
  },
  {
   "cell_type": "markdown",
   "metadata": {},
   "source": [
    "#### The try statement works as follows.\n",
    "\n",
    "* First, the try clause (the statement(s) between the try and except keywords) is executed.\n",
    "* If no exception occurs, the except clause is skipped and execution of the try statement is finished.\n",
    "* If an exception occurs during execution of the try clause, the rest of the clause is skipped. Then if its type matches the exception named after the except keyword, the except clause is executed, and then execution continues after the try statement.\n",
    "* If an exception occurs which does not match the exception named in the except clause, it is passed on to outer try statements; if no handler is found, it is an unhandled exception and execution stops with a message as shown above."
   ]
  },
  {
   "cell_type": "code",
   "execution_count": null,
   "metadata": {},
   "outputs": [],
   "source": [
    "# a good use for the pass statement\n",
    "try:\n",
    "    3/0\n",
    "except ZeroDivisionError:\n",
    "    pass"
   ]
  },
  {
   "cell_type": "code",
   "execution_count": null,
   "metadata": {},
   "outputs": [],
   "source": [
    "try:\n",
    "    3/0\n",
    "except ZeroDivisionError:\n",
    "    print(\"Zero division error handled\")\n",
    "    print(\"Should not divide by 0 ... it does not make sense ...\")\n",
    "    print(\"e.g. you have 3$ ... divided among 0 people ... it's a waste\")"
   ]
  },
  {
   "cell_type": "markdown",
   "metadata": {},
   "source": [
    "#### A try statement may have more than one except clause, to specify handlers for different exceptions. At most one handler will be executed. Handlers only handle exceptions that occur in the corresponding try clause, not in other handlers of the same try statement."
   ]
  },
  {
   "cell_type": "code",
   "execution_count": null,
   "metadata": {},
   "outputs": [],
   "source": [
    "3/0\n",
    "3 + \"A\"\n",
    "var"
   ]
  },
  {
   "cell_type": "code",
   "execution_count": null,
   "metadata": {},
   "outputs": [],
   "source": [
    "try:\n",
    "    3/0\n",
    "    3+\"A\"\n",
    "    var\n",
    "except ZeroDivisionError:\n",
    "    print(\"Zero division error handled\")\n",
    "\n"
   ]
  },
  {
   "cell_type": "code",
   "execution_count": null,
   "metadata": {},
   "outputs": [],
   "source": [
    "# Handle the other errors \n",
    "\n",
    "try:\n",
    "    3/2\n",
    "    3+\"A\"\n",
    "    var\n",
    "except ZeroDivisionError:\n",
    "    print(\"Zero division error handled\")"
   ]
  },
  {
   "cell_type": "code",
   "execution_count": null,
   "metadata": {},
   "outputs": [],
   "source": []
  },
  {
   "cell_type": "code",
   "execution_count": null,
   "metadata": {},
   "outputs": [],
   "source": []
  },
  {
   "cell_type": "code",
   "execution_count": null,
   "metadata": {},
   "outputs": [],
   "source": []
  },
  {
   "cell_type": "code",
   "execution_count": null,
   "metadata": {},
   "outputs": [],
   "source": []
  },
  {
   "cell_type": "markdown",
   "metadata": {},
   "source": [
    "#### An except clause may name multiple exceptions as a parenthesized tuple"
   ]
  },
  {
   "cell_type": "code",
   "execution_count": null,
   "metadata": {},
   "outputs": [],
   "source": [
    "try:\n",
    "    3/0\n",
    "    3+\"A\"\n",
    "except (ZeroDivisionError,TypeError) as err:\n",
    "    if (isinstance(err,ZeroDivisionError)):\n",
    "        print(\"Zero division error handled\")\n",
    "    else:\n",
    "        print(\"Type error handled\")\n",
    "    x = 3\n",
    "    print(x)\n",
    "    "
   ]
  },
  {
   "cell_type": "code",
   "execution_count": null,
   "metadata": {},
   "outputs": [],
   "source": [
    "try:\n",
    "    3/1\n",
    "    3+\"A\"\n",
    "except (ZeroDivisionError,TypeError) as err:\n",
    "    print(err)\n",
    "    print(err.args)\n",
    "    if (isinstance(err,ZeroDivisionError)):\n",
    "        print(\"Zero division error handled\")\n",
    "    else:\n",
    "        print(\"Type error handled\")"
   ]
  },
  {
   "cell_type": "markdown",
   "metadata": {},
   "source": [
    "    "
   ]
  },
  {
   "cell_type": "markdown",
   "metadata": {},
   "source": [
    "#### The try except statement has an optional <b>else</b> clause, which, when present, must follow all except clauses. It is useful for code that must be executed if the try clause does not raise an exception."
   ]
  },
  {
   "cell_type": "code",
   "execution_count": null,
   "metadata": {},
   "outputs": [],
   "source": [
    "try:\n",
    "    x = 3/0\n",
    "    c = 4\n",
    "    y = x + c\n",
    "except (ZeroDivisionError,TypeError) as err:\n",
    "    print(\"Zero division error and Type error handled\")\n",
    "else:\n",
    "    z = 2*y\n",
    "    print(z)\n"
   ]
  },
  {
   "cell_type": "markdown",
   "metadata": {},
   "source": [
    "#### Clean-up options"
   ]
  },
  {
   "cell_type": "code",
   "execution_count": null,
   "metadata": {},
   "outputs": [],
   "source": [
    "# no need to close the file, with does that\n",
    "with open(\"testing_file.txt\",\"w\") as f:\n",
    "    f.write(\"test file\")\n"
   ]
  },
  {
   "cell_type": "markdown",
   "metadata": {},
   "source": [
    "#### The try except statement has another optional clause, <b>finally</b>, which is intended to define clean-up actions that must be executed under all circumstances."
   ]
  },
  {
   "cell_type": "code",
   "execution_count": null,
   "metadata": {},
   "outputs": [],
   "source": [
    "try:\n",
    "    x = 3/0\n",
    "finally:\n",
    "    print(\"printed anyway\")"
   ]
  },
  {
   "cell_type": "markdown",
   "metadata": {},
   "source": [
    "#### If a finally clause is present, the finally clause will execute as the last task before the try statement completes. The finally clause runs whether or not the try statement produces an exception. The following points discuss more complex cases when an exception occurs:\n",
    "\n",
    "* If an exception occurs during execution of the try clause, the exception may be handled by an except clause. If the exception is not handled by an except clause, the exception is re-raised after the finally clause has been executed.\n",
    "* An exception could occur during execution of an except or else clause. Again, the exception is re-raised after the finally clause has been executed.\n",
    "* If the try statement reaches a break, continue or return statement, the finally clause will execute just prior to the break, continue or return statement’s execution.\n",
    "* If a finally clause includes a return statement, the finally clause’s return statement will execute before, and instead of, the return statement in a try clause."
   ]
  },
  {
   "cell_type": "code",
   "execution_count": null,
   "metadata": {},
   "outputs": [],
   "source": [
    "# If an exception occurs during execution of the try clause, \n",
    "# the exception may be handled by an except clause. \n",
    "# If the exception is not handled by an except clause, \n",
    "# the exception is re-raised after the finally clause has been executed.\n",
    "\n",
    "# Let's handle the exception\n",
    "try:\n",
    "    x = 3/0\n",
    "finally:\n",
    "    print(\"printed anyway\")\n"
   ]
  },
  {
   "cell_type": "code",
   "execution_count": null,
   "metadata": {},
   "outputs": [],
   "source": [
    "# An exception could occur during execution of an except or else clause. \n",
    "# Again, the exception is re-raised after the finally clause has been executed.\n",
    "\n",
    "try:\n",
    "    x = 3/0\n",
    "except: # Not recommanded, avoid using general exept clause\n",
    "    3/\"A\"\n",
    "finally:\n",
    "    print(\"printed anyway\")\n"
   ]
  },
  {
   "cell_type": "code",
   "execution_count": null,
   "metadata": {},
   "outputs": [],
   "source": [
    "# If the try statement reaches a break, continue or return statement, \n",
    "# the finally clause will execute just prior to the break, continue or return statement’s execution.\n",
    "\n",
    "def test_return():\n",
    "    try:\n",
    "        return True\n",
    "    finally:\n",
    "        print(\"printed anyway\")\n"
   ]
  },
  {
   "cell_type": "code",
   "execution_count": null,
   "metadata": {},
   "outputs": [],
   "source": [
    "test_return()"
   ]
  },
  {
   "cell_type": "code",
   "execution_count": null,
   "metadata": {},
   "outputs": [],
   "source": [
    "# If a finally clause includes a return statement, \n",
    "# the finally clause’s return statement will execute before, \n",
    "# and instead of, the return statement in a try clause.\n",
    "\n",
    "def test_return():\n",
    "    try:    \n",
    "        return True\n",
    "    finally:\n",
    "        return False\n"
   ]
  },
  {
   "cell_type": "code",
   "execution_count": null,
   "metadata": {},
   "outputs": [],
   "source": [
    "test_return()"
   ]
  },
  {
   "cell_type": "markdown",
   "metadata": {},
   "source": [
    "#### Raising an exception"
   ]
  },
  {
   "cell_type": "markdown",
   "metadata": {},
   "source": [
    "#### The <b>raise</b> statement allows the programmer to force a specified exception to occur. "
   ]
  },
  {
   "cell_type": "code",
   "execution_count": null,
   "metadata": {},
   "outputs": [],
   "source": [
    "raise ValueError"
   ]
  },
  {
   "cell_type": "code",
   "execution_count": null,
   "metadata": {},
   "outputs": [],
   "source": [
    "raise ValueError(\"Error message to the user\")\n",
    "print(\"test\")"
   ]
  },
  {
   "cell_type": "code",
   "execution_count": null,
   "metadata": {},
   "outputs": [],
   "source": [
    "# we can also raise warnings\n",
    "raise UserWarning\n",
    "print(\"test\")"
   ]
  },
  {
   "cell_type": "code",
   "execution_count": null,
   "metadata": {},
   "outputs": [],
   "source": [
    "warnings.warn(\"Be aware there is an issue.\")\n",
    "print(\"test\")"
   ]
  },
  {
   "cell_type": "code",
   "execution_count": null,
   "metadata": {},
   "outputs": [],
   "source": [
    "raise NameError(\"This is where the relevant message should be\")"
   ]
  },
  {
   "cell_type": "markdown",
   "metadata": {},
   "source": [
    "#### Handling the error by raising it"
   ]
  },
  {
   "cell_type": "code",
   "execution_count": null,
   "metadata": {},
   "outputs": [],
   "source": [
    "try:\n",
    "    raise NameError(\"This is where the relevant message should be\")\n",
    "except NameError:\n",
    "    print(\"Handled the error by raising it\")\n",
    "    raise # raise the error"
   ]
  },
  {
   "cell_type": "markdown",
   "metadata": {},
   "source": [
    "#### User-defined exceptions"
   ]
  },
  {
   "cell_type": "code",
   "execution_count": null,
   "metadata": {},
   "outputs": [],
   "source": [
    "class GrandParentError(Exception):\n",
    "    pass\n",
    "\n",
    "class ParentError(GrandParentError):\n",
    "    pass\n",
    "\n",
    "class ChildError(ParentError):\n",
    "    pass\n",
    "\n",
    "for cls in [GrandParentError, ParentError, ChildError]:\n",
    "    try:\n",
    "        raise cls\n",
    "    except Exception: # Never ever do this!!!!\n",
    "        print(\"done\")\n",
    "    except ChildError:\n",
    "        print(\"ChildError\")\n",
    "    except ParentError:\n",
    "        print(\"ParentError\")\n",
    "    except GrandParentError:\n",
    "        print(\"GrandParentError\")"
   ]
  },
  {
   "cell_type": "code",
   "execution_count": null,
   "metadata": {},
   "outputs": [],
   "source": [
    "class OhNoError(Exception):\n",
    "    def __init__(self,level=10,*args,**kwargs):\n",
    "        self.level = level\n",
    "        Exception.__init__(self,\"This is a showstopper! level = \" + str(level))\n",
    "        # super().__init__(self,\"This is a showstopper! level = \" + str(level))\n",
    "        # super().__init__(*args,**kwargs)\n",
    "\n"
   ]
  },
  {
   "cell_type": "code",
   "execution_count": null,
   "metadata": {},
   "outputs": [],
   "source": [
    "raise OhNoError(5)"
   ]
  },
  {
   "cell_type": "markdown",
   "metadata": {},
   "source": [
    "  "
   ]
  },
  {
   "cell_type": "markdown",
   "metadata": {},
   "source": [
    "Pass messages among parts of the code:<br>\n",
    "https://scipy-lectures.org/intro/language/exceptions.html\n",
    "    "
   ]
  },
  {
   "cell_type": "code",
   "execution_count": null,
   "metadata": {},
   "outputs": [],
   "source": [
    "def pass_message():\n",
    "    raise StopIteration"
   ]
  },
  {
   "cell_type": "code",
   "execution_count": null,
   "metadata": {},
   "outputs": [],
   "source": [
    "while True:\n",
    "    pass_message()"
   ]
  },
  {
   "cell_type": "code",
   "execution_count": null,
   "metadata": {},
   "outputs": [],
   "source": [
    "# nested try statements\n",
    "try:\n",
    "    10**(-500)/10**500\n",
    "except OverflowError:\n",
    "    try:\n",
    "        4/0\n",
    "    except ZeroDivisionError:\n",
    "        print(\"Handled errors\")"
   ]
  },
  {
   "cell_type": "code",
   "execution_count": null,
   "metadata": {},
   "outputs": [],
   "source": [
    "10**(-500)/10**500"
   ]
  },
  {
   "cell_type": "markdown",
   "metadata": {},
   "source": [
    " "
   ]
  },
  {
   "cell_type": "markdown",
   "metadata": {},
   "source": [
    "#### Try to use as few try blocks as possible and try to distinguish the failure conditions by the kinds of exceptions they throw.\n",
    "\n",
    "#### If you don't specify an exception type on the except line, it will catch all exceptions, which is a bad idea, since it means your program will ignore unexpected errors as well as ones which the except block is actually prepared to handle.\n",
    "\n",
    "\n",
    "https://www.pythonforbeginners.com/error-handling/exception-handling-in-python\n"
   ]
  },
  {
   "cell_type": "code",
   "execution_count": null,
   "metadata": {},
   "outputs": [],
   "source": [
    "try:\n",
    "    unknown_variable\n",
    "    print(unknown_variable)\n",
    "    unknown_variable/0\n",
    "except NameError:\n",
    "    print(\"unknown_variable is not defined\")\n",
    "except:\n",
    "    print(\"Other issues need to be handled one at a time not generically!\")"
   ]
  },
  {
   "cell_type": "markdown",
   "metadata": {},
   "source": [
    "https://www.w3schools.com/python/python_try_except.asp"
   ]
  },
  {
   "cell_type": "code",
   "execution_count": null,
   "metadata": {},
   "outputs": [],
   "source": [
    "number_string = \"test\"\n",
    "try:\n",
    "    int(number_string)\n",
    "except ValueError:\n",
    "    print(f\"'{number_string}'\" + \" is not a number\")\n"
   ]
  },
  {
   "cell_type": "markdown",
   "metadata": {},
   "source": [
    "https://www.tutorialspoint.com/python/python_exceptions.htm"
   ]
  },
  {
   "cell_type": "code",
   "execution_count": null,
   "metadata": {},
   "outputs": [],
   "source": [
    "numbers_list = [4,5,2,7,\"a\",10,1]\n",
    "total_value = 0\n",
    "for number in numbers_list: \n",
    "    try:\n",
    "        x = float(number)\n",
    "        y = integer(number)\n",
    "    except Exception as err: # process ValueError only \n",
    "        print('Element skipped: {}, Reason : {}'.format(number, err)) \n",
    "    continue\n",
    "    total_value += x*y\n"
   ]
  },
  {
   "cell_type": "markdown",
   "metadata": {},
   "source": [
    "https://buildmedia.readthedocs.org/media/pdf/pythonguide/latest/pythonguide.pdf"
   ]
  },
  {
   "cell_type": "markdown",
   "metadata": {},
   "source": [
    "##### Try to write code that raises as many of the following errors:\n"
   ]
  },
  {
   "cell_type": "code",
   "execution_count": null,
   "metadata": {},
   "outputs": [],
   "source": [
    "for e in dir(__builtin__):\n",
    "    if \"Error\" in e:\n",
    "        print(e)"
   ]
  },
  {
   "cell_type": "code",
   "execution_count": null,
   "metadata": {},
   "outputs": [],
   "source": [
    "def recursive_function():\n",
    "    return recursive_function()"
   ]
  },
  {
   "cell_type": "code",
   "execution_count": null,
   "metadata": {},
   "outputs": [],
   "source": [
    "# recursive_function()"
   ]
  },
  {
   "cell_type": "code",
   "execution_count": null,
   "metadata": {},
   "outputs": [],
   "source": []
  },
  {
   "cell_type": "code",
   "execution_count": null,
   "metadata": {},
   "outputs": [],
   "source": []
  },
  {
   "cell_type": "code",
   "execution_count": null,
   "metadata": {},
   "outputs": [],
   "source": []
  },
  {
   "cell_type": "code",
   "execution_count": null,
   "metadata": {},
   "outputs": [],
   "source": []
  }
 ],
 "metadata": {
  "kernelspec": {
   "display_name": "Python 3",
   "language": "python",
   "name": "python3"
  },
  "language_info": {
   "codemirror_mode": {
    "name": "ipython",
    "version": 3
   },
   "file_extension": ".py",
   "mimetype": "text/x-python",
   "name": "python",
   "nbconvert_exporter": "python",
   "pygments_lexer": "ipython3",
   "version": "3.8.3"
  }
 },
 "nbformat": 4,
 "nbformat_minor": 4
}
