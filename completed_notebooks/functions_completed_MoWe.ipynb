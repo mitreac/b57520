{
 "cells": [
  {
   "cell_type": "markdown",
   "metadata": {},
   "source": [
    "## Functions and reading/writing files\n",
    "### BIOINF 575 - Fall 2020"
   ]
  },
  {
   "cell_type": "markdown",
   "metadata": {},
   "source": [
    "#### RECAP\n",
    "\n",
    "https://docs.python.org/3/tutorial/introduction.html  \n",
    "https://docs.python.org/3/tutorial/controlflow.html  \n",
    "https://docs.python.org/3/reference/compound_stmts.html\n",
    "\n",
    "##### IF STATEMENT - decision control structure - run code selectively\n",
    "\n",
    "```python\n",
    "if [not] <condition>:\n",
    "    <statements>\n",
    "elif <condition>:\n",
    "    <statements>\n",
    "else:\n",
    "    <statements>\n",
    "```\n",
    "___\n",
    "\n",
    "<img src = \"https://cdn.techbeamers.com/wp-content/uploads/2018/08/Python-If-Elif-Else-Statement-Flowchart.png\" width = \"400\" />\n",
    "\n",
    "https://cdn.techbeamers.com/wp-content/uploads/2018/08/Python-If-Elif-Else-Statement-Flowchart.png  \n",
    "__________\n",
    "\n",
    "##### FOR LOOP - repetitive control structure - execute code multiple times - for each element in a collection \n",
    "\n",
    "```python\n",
    "for var in sequence:\n",
    "    statements\n",
    "```\n",
    "___\n",
    "\n",
    "<img src = \"https://cdn.programiz.com/sites/tutorial2program/files/forLoop.jpg\" width = \"200\" />\n",
    "\n",
    "https://cdn.programiz.com/sites/tutorial2program/files/forLoop.jpg"
   ]
  },
  {
   "cell_type": "code",
   "execution_count": 1,
   "metadata": {},
   "outputs": [
    {
     "data": {
      "text/plain": [
       "{'Ser': 'Serine', 'Lys': 'Lysine', 'Ala': 'Alanine', 'Leu': 'Leucine'}"
      ]
     },
     "execution_count": 1,
     "metadata": {},
     "output_type": "execute_result"
    }
   ],
   "source": [
    "amino_acids = {'Ser': 'Serine', 'Lys': 'Lysine', 'Ala': 'Alanine', 'Leu': 'Leucine'}\n",
    "amino_acids"
   ]
  },
  {
   "cell_type": "code",
   "execution_count": 2,
   "metadata": {},
   "outputs": [],
   "source": [
    "amino_acids.update([(\"Tyr\", \"Tyrosine\"),(\"Ser\",\"Serine new\")])"
   ]
  },
  {
   "cell_type": "code",
   "execution_count": 3,
   "metadata": {},
   "outputs": [
    {
     "data": {
      "text/plain": [
       "{'Ser': 'Serine new',\n",
       " 'Lys': 'Lysine',\n",
       " 'Ala': 'Alanine',\n",
       " 'Leu': 'Leucine',\n",
       " 'Tyr': 'Tyrosine'}"
      ]
     },
     "execution_count": 3,
     "metadata": {},
     "output_type": "execute_result"
    }
   ],
   "source": [
    "amino_acids"
   ]
  },
  {
   "cell_type": "code",
   "execution_count": 6,
   "metadata": {},
   "outputs": [
    {
     "data": {
      "text/plain": [
       "{'Tyr': 'Tyrosine', 'Ser': 'Serine new', 'Lys': 'Lysine'}"
      ]
     },
     "execution_count": 6,
     "metadata": {},
     "output_type": "execute_result"
    }
   ],
   "source": [
    "dict([(\"Tyr\", \"Tyrosine\"),(\"Ser\",\"Serine new\")], Lys = \"Lysine\")"
   ]
  },
  {
   "cell_type": "code",
   "execution_count": 7,
   "metadata": {},
   "outputs": [],
   "source": [
    "test_set = set()"
   ]
  },
  {
   "cell_type": "code",
   "execution_count": 8,
   "metadata": {},
   "outputs": [
    {
     "data": {
      "text/plain": [
       "set()"
      ]
     },
     "execution_count": 8,
     "metadata": {},
     "output_type": "execute_result"
    }
   ],
   "source": [
    "test_set"
   ]
  },
  {
   "cell_type": "markdown",
   "metadata": {},
   "source": [
    "#### <font color = \"red\">Exercise</font> \n",
    "\n",
    "Go through the dictionay elements and find the elements with values that start with \"Alan\".   \n",
    "Create a list with these elements.\n"
   ]
  },
  {
   "cell_type": "code",
   "execution_count": 9,
   "metadata": {},
   "outputs": [
    {
     "data": {
      "text/plain": [
       "{'Ser': 'Serine new',\n",
       " 'Lys': 'Lysine',\n",
       " 'Ala': 'Alanine',\n",
       " 'Leu': 'Leucine',\n",
       " 'Tyr': 'Tyrosine'}"
      ]
     },
     "execution_count": 9,
     "metadata": {},
     "output_type": "execute_result"
    }
   ],
   "source": [
    "amino_acids"
   ]
  },
  {
   "cell_type": "code",
   "execution_count": 10,
   "metadata": {},
   "outputs": [
    {
     "name": "stdout",
     "output_type": "stream",
     "text": [
      "Ser\n",
      "Lys\n",
      "Ala\n",
      "Leu\n",
      "Tyr\n"
     ]
    }
   ],
   "source": [
    "for item in amino_acids:\n",
    "    print(item)"
   ]
  },
  {
   "cell_type": "code",
   "execution_count": 11,
   "metadata": {},
   "outputs": [
    {
     "data": {
      "text/plain": [
       "dict_keys(['Ser', 'Lys', 'Ala', 'Leu', 'Tyr'])"
      ]
     },
     "execution_count": 11,
     "metadata": {},
     "output_type": "execute_result"
    }
   ],
   "source": [
    "amino_acids.keys()"
   ]
  },
  {
   "cell_type": "code",
   "execution_count": 12,
   "metadata": {},
   "outputs": [
    {
     "name": "stdout",
     "output_type": "stream",
     "text": [
      "Ser\n",
      "Lys\n",
      "Ala\n",
      "Leu\n",
      "Tyr\n"
     ]
    }
   ],
   "source": [
    "for item in amino_acids.keys():\n",
    "    print(item)"
   ]
  },
  {
   "cell_type": "code",
   "execution_count": 13,
   "metadata": {},
   "outputs": [
    {
     "data": {
      "text/plain": [
       "dict_values(['Serine new', 'Lysine', 'Alanine', 'Leucine', 'Tyrosine'])"
      ]
     },
     "execution_count": 13,
     "metadata": {},
     "output_type": "execute_result"
    }
   ],
   "source": [
    "amino_acids.values()"
   ]
  },
  {
   "cell_type": "code",
   "execution_count": 17,
   "metadata": {},
   "outputs": [
    {
     "data": {
      "text/plain": [
       "['Alanine']"
      ]
     },
     "execution_count": 17,
     "metadata": {},
     "output_type": "execute_result"
    }
   ],
   "source": [
    "item_list = []\n",
    "for item in amino_acids.values():\n",
    "    if item[:4] == \"Alan\":\n",
    "        item_list.append(item)\n",
    "        \n",
    "item_list"
   ]
  },
  {
   "cell_type": "code",
   "execution_count": 20,
   "metadata": {},
   "outputs": [
    {
     "name": "stdout",
     "output_type": "stream",
     "text": [
      "['Alanine']\n"
     ]
    }
   ],
   "source": [
    "item_list = []\n",
    "for item in amino_acids.values():\n",
    "    if item.startswith(\"Alan\"):\n",
    "        item_list.append(item)\n",
    "        \n",
    "print(item_list)"
   ]
  },
  {
   "cell_type": "code",
   "execution_count": 19,
   "metadata": {},
   "outputs": [
    {
     "name": "stdout",
     "output_type": "stream",
     "text": [
      "Help on method_descriptor:\n",
      "\n",
      "startswith(...)\n",
      "    S.startswith(prefix[, start[, end]]) -> bool\n",
      "    \n",
      "    Return True if S starts with the specified prefix, False otherwise.\n",
      "    With optional start, test S beginning at that position.\n",
      "    With optional end, stop comparing S at that position.\n",
      "    prefix can also be a tuple of strings to try.\n",
      "\n"
     ]
    }
   ],
   "source": [
    "help(str.startswith)"
   ]
  },
  {
   "cell_type": "markdown",
   "metadata": {},
   "source": [
    "<b>Think of a repetitive case when you could not use a for loop readily</b>"
   ]
  },
  {
   "cell_type": "markdown",
   "metadata": {},
   "source": [
    "### while: the repetitive control structure with unkown number of steps"
   ]
  },
  {
   "cell_type": "markdown",
   "metadata": {},
   "source": [
    "loop stopped by a condition\n",
    "\n",
    "<b>while loops make it easy to cause an 'infinite loop'</b>"
   ]
  },
  {
   "cell_type": "markdown",
   "metadata": {},
   "source": [
    "```python\n",
    "while condition:\n",
    "    statements\n",
    "```"
   ]
  },
  {
   "cell_type": "markdown",
   "metadata": {},
   "source": [
    "```python\n",
    "# Infinite loop - cond is always True - it never changes\n",
    "\n",
    "cond = True\n",
    "while cond:\n",
    "    print('Infinite loop')\n",
    "```"
   ]
  },
  {
   "cell_type": "code",
   "execution_count": 21,
   "metadata": {},
   "outputs": [
    {
     "name": "stdout",
     "output_type": "stream",
     "text": [
      "10\n",
      "12\n",
      "14\n",
      "16\n",
      "18\n",
      "DONE!\n"
     ]
    }
   ],
   "source": [
    "# while - increase a value\n",
    "value = 10 \n",
    "while value != 20:\n",
    "    print(value)\n",
    "    value = value + 2  \n",
    "\n",
    "print(\"DONE!\")"
   ]
  },
  {
   "cell_type": "markdown",
   "metadata": {},
   "source": [
    "#### <font color = \"red\">Demo</font> \n",
    "Assign a variable sequence_length the value 200 <br>\n",
    "Substract powers of 3 (3, 9, 27, 81,...) until the value drops below 0<br>\n",
    "Print the powers of 3 used at each step."
   ]
  },
  {
   "cell_type": "code",
   "execution_count": 22,
   "metadata": {},
   "outputs": [
    {
     "name": "stdout",
     "output_type": "stream",
     "text": [
      "197 1 3\n",
      "188 2 9\n",
      "161 3 27\n",
      "80 4 81\n",
      "-163 5 243\n",
      "-163\n"
     ]
    }
   ],
   "source": [
    "sequence_length = 200\n",
    "power_value = 1\n",
    "while sequence_length > 0:\n",
    "    sequence_length = sequence_length - 3**power_value\n",
    "    print(sequence_length, power_value, 3**power_value)\n",
    "    power_value = power_value + 1\n",
    "print(sequence_length)   "
   ]
  },
  {
   "cell_type": "markdown",
   "metadata": {},
   "source": [
    "### More control statements"
   ]
  },
  {
   "cell_type": "markdown",
   "metadata": {},
   "source": [
    "Control statements are special structures that have control behavior.    \n",
    "They can be represented by a keyword:\n",
    "\n",
    "```python\n",
    "pass\n",
    "break\n",
    "continue\n",
    "```"
   ]
  },
  {
   "cell_type": "markdown",
   "metadata": {},
   "source": [
    "<b>pass: do nothing</b>"
   ]
  },
  {
   "cell_type": "code",
   "execution_count": 23,
   "metadata": {},
   "outputs": [],
   "source": [
    "for i in range(10):\n",
    "    pass"
   ]
  },
  {
   "cell_type": "code",
   "execution_count": 24,
   "metadata": {},
   "outputs": [
    {
     "name": "stdout",
     "output_type": "stream",
     "text": [
      "9\n"
     ]
    }
   ],
   "source": [
    "print(i)"
   ]
  },
  {
   "cell_type": "markdown",
   "metadata": {},
   "source": [
    "<b>break: stops loops - allows the user to stop the closest loop </b>"
   ]
  },
  {
   "cell_type": "code",
   "execution_count": 26,
   "metadata": {},
   "outputs": [
    {
     "name": "stdout",
     "output_type": "stream",
     "text": [
      "0 0\n",
      "1 0\n",
      "2 0\n",
      "3 0\n",
      "4 0\n",
      "5 0\n",
      "6 0\n",
      "7 0\n",
      "8 0\n",
      "9 0\n"
     ]
    }
   ],
   "source": [
    "# for break - it already has a condition that stops it but ...\n",
    "for i in range(10):\n",
    "    for j in range(10):\n",
    "        print(i,j)\n",
    "        break"
   ]
  },
  {
   "cell_type": "code",
   "execution_count": 27,
   "metadata": {},
   "outputs": [
    {
     "name": "stdout",
     "output_type": "stream",
     "text": [
      "(0, True)\n",
      "(1, True)\n",
      "(2, True)\n",
      "(3, True)\n",
      "(4, True)\n",
      "(5, True)\n",
      "(6, True)\n",
      "(7, True)\n",
      "(8, True)\n",
      "(9, True)\n"
     ]
    }
   ],
   "source": [
    "# for break - it already has a condition that stops it but ...\n",
    "for i in range(10):\n",
    "    for j in range(10):\n",
    "        print((i,j==0))\n",
    "        break"
   ]
  },
  {
   "cell_type": "code",
   "execution_count": 29,
   "metadata": {},
   "outputs": [
    {
     "name": "stdout",
     "output_type": "stream",
     "text": [
      "(0, True)\n",
      "(1, True)\n",
      "(2, True)\n",
      "(3, True)\n",
      "(4, True)\n",
      "(5, True)\n",
      "(6, True)\n",
      "(7, True)\n",
      "(8, True)\n",
      "(9, True)\n"
     ]
    }
   ],
   "source": [
    "for i in range(10):\n",
    "    for j in range(10):\n",
    "        print((i,not bool(j)))\n",
    "        break"
   ]
  },
  {
   "cell_type": "markdown",
   "metadata": {},
   "source": [
    "<b>continue: just continue looping - ignores everything in the loop that is after continue</b>"
   ]
  },
  {
   "cell_type": "code",
   "execution_count": 32,
   "metadata": {},
   "outputs": [
    {
     "name": "stdout",
     "output_type": "stream",
     "text": [
      "A\n",
      "2\n",
      "B\n",
      "2\n",
      "C\n",
      "2\n",
      "D\n",
      "2\n",
      "CONTINUE\n",
      "CONTINUE\n",
      "CONTINUE\n",
      "CONTINUE\n",
      "CONTINUE\n",
      "CONTINUE\n",
      "CONTINUE\n",
      "CONTINUE\n",
      "CONTINUE\n",
      "CONTINUE\n",
      "CONTINUE\n",
      "CONTINUE\n",
      "CONTINUE\n",
      "CONTINUE\n",
      "CONTINUE\n",
      "CONTINUE\n",
      "CONTINUE\n",
      "V\n",
      "2\n",
      "W\n",
      "2\n",
      "X\n",
      "2\n",
      "Y\n",
      "2\n"
     ]
    }
   ],
   "source": [
    "# Continue example\n",
    "for i in range(ord(\"A\"),ord(\"Z\")):\n",
    "    if \"D\"<chr(i)<\"V\":\n",
    "        print(\"CONTINUE\")\n",
    "        continue\n",
    "    else:\n",
    "        print(chr(i))\n",
    "    x = 2\n",
    "    print(x)"
   ]
  },
  {
   "cell_type": "code",
   "execution_count": 33,
   "metadata": {},
   "outputs": [
    {
     "name": "stdout",
     "output_type": "stream",
     "text": [
      "65 A\n",
      "66 B\n",
      "67 C\n",
      "68 D\n",
      "69 E\n",
      "70 F\n",
      "71 G\n",
      "72 H\n",
      "73 I\n",
      "74 J\n",
      "75 K\n",
      "76 L\n",
      "77 M\n",
      "78 N\n",
      "79 O\n",
      "80 P\n",
      "81 Q\n",
      "82 R\n",
      "83 S\n",
      "84 T\n",
      "85 U\n",
      "86 V\n",
      "87 W\n",
      "88 X\n",
      "89 Y\n"
     ]
    }
   ],
   "source": [
    "for i in range(ord(\"A\"),ord(\"Z\")):\n",
    "    print(i, chr(i))"
   ]
  },
  {
   "cell_type": "code",
   "execution_count": 35,
   "metadata": {},
   "outputs": [],
   "source": [
    "test_list = [\"elemX\",\"elemY\",\"elemZ\"]"
   ]
  },
  {
   "cell_type": "code",
   "execution_count": 36,
   "metadata": {},
   "outputs": [
    {
     "name": "stdout",
     "output_type": "stream",
     "text": [
      "elemX\n",
      "elemY\n",
      "elemZ\n"
     ]
    }
   ],
   "source": [
    "for element in test_list:\n",
    "    print(element)"
   ]
  },
  {
   "cell_type": "code",
   "execution_count": 40,
   "metadata": {},
   "outputs": [
    {
     "name": "stdout",
     "output_type": "stream",
     "text": [
      "elemX\n",
      "elemY\n",
      "elemZ\n"
     ]
    }
   ],
   "source": [
    "for pos in range(len(test_list)):\n",
    "    print(test_list[pos])"
   ]
  },
  {
   "cell_type": "code",
   "execution_count": 41,
   "metadata": {},
   "outputs": [
    {
     "name": "stdout",
     "output_type": "stream",
     "text": [
      "0 elemX\n",
      "1 elemY\n",
      "2 elemZ\n"
     ]
    }
   ],
   "source": [
    "for pos, element in enumerate(test_list):\n",
    "    print(pos, element)"
   ]
  },
  {
   "cell_type": "code",
   "execution_count": 42,
   "metadata": {},
   "outputs": [
    {
     "name": "stdout",
     "output_type": "stream",
     "text": [
      "key1 value1\n",
      "key2 value2\n"
     ]
    }
   ],
   "source": [
    "test_d = {\"key1\":\"value1\", \"key2\": \"value2\" }\n",
    "\n",
    "for key, value in test_d.items():\n",
    "    print(key,value)"
   ]
  },
  {
   "cell_type": "code",
   "execution_count": 43,
   "metadata": {},
   "outputs": [
    {
     "data": {
      "text/plain": [
       "dict_items([('key1', 'value1'), ('key2', 'value2')])"
      ]
     },
     "execution_count": 43,
     "metadata": {},
     "output_type": "execute_result"
    }
   ],
   "source": [
    "test_d.items()"
   ]
  },
  {
   "cell_type": "code",
   "execution_count": 44,
   "metadata": {},
   "outputs": [
    {
     "name": "stdout",
     "output_type": "stream",
     "text": [
      "3 4\n"
     ]
    }
   ],
   "source": [
    "a,b = (3,4)\n",
    "\n",
    "print(a, b)"
   ]
  },
  {
   "cell_type": "code",
   "execution_count": 45,
   "metadata": {},
   "outputs": [
    {
     "data": {
      "text/plain": [
       "8"
      ]
     },
     "execution_count": 45,
     "metadata": {},
     "output_type": "execute_result"
    }
   ],
   "source": [
    "a + 5 "
   ]
  },
  {
   "cell_type": "markdown",
   "metadata": {},
   "source": [
    "_____________\n",
    "### Functions"
   ]
  },
  {
   "cell_type": "markdown",
   "metadata": {},
   "source": [
    "Think of functions like the **recipe of a cake**. They start with a title (definition). They often require some ingredients (arguments). They need step-wise instructions (code). And, at the end, all is put together in a delicious cake (returned data)."
   ]
  },
  {
   "cell_type": "markdown",
   "metadata": {},
   "source": [
    "Additionally, **functions are the easiest way to be efficiently lazy**.\n",
    "The code is easier to understand and reusable."
   ]
  },
  {
   "cell_type": "markdown",
   "metadata": {},
   "source": [
    "### Function Definition"
   ]
  },
  {
   "cell_type": "markdown",
   "metadata": {},
   "source": [
    "```python\n",
    "def function_name(arg1, arg2, darg=None):\n",
    "    # instructions to compute result\n",
    "    return result\n",
    "```"
   ]
  },
  {
   "cell_type": "markdown",
   "metadata": {},
   "source": [
    "* Each function should have a name. This is declared by using the `def` keyword\n",
    "* A function doesn't need to have arguments to work\n",
    "* The collection of arguments for a given function is called a **signature**\n",
    "* The function works within its own ***scope*** unless it is using something that was passed to it or is global\n",
    "* `return` statments exit the function while passing on the data\n",
    "* if there is no `return` statement None is returned\n",
    "* **Defining a function does not run a function**. \n",
    "* To run a function, it must be called using `([args])` after the function name\n"
   ]
  },
  {
   "cell_type": "markdown",
   "metadata": {},
   "source": [
    "### Function Call - running a function"
   ]
  },
  {
   "cell_type": "markdown",
   "metadata": {},
   "source": [
    "```python\n",
    "function_result = function_name(val1, val2, dval)\n",
    "```"
   ]
  },
  {
   "cell_type": "markdown",
   "metadata": {},
   "source": [
    "---\n",
    "### Function Examples"
   ]
  },
  {
   "cell_type": "code",
   "execution_count": 50,
   "metadata": {},
   "outputs": [],
   "source": [
    "# A function that does nothing\n",
    "def do_pass():\n",
    "    pass\n",
    "\n"
   ]
  },
  {
   "cell_type": "code",
   "execution_count": 52,
   "metadata": {},
   "outputs": [],
   "source": [
    "result = do_pass()"
   ]
  },
  {
   "cell_type": "code",
   "execution_count": 53,
   "metadata": {},
   "outputs": [
    {
     "name": "stdout",
     "output_type": "stream",
     "text": [
      "None\n"
     ]
    }
   ],
   "source": [
    "print(result)"
   ]
  },
  {
   "cell_type": "code",
   "execution_count": 54,
   "metadata": {},
   "outputs": [],
   "source": [
    "# A function that adds 5 and 3 \n",
    "\n",
    "def do_sum():\n",
    "    return 5 + 3\n",
    "\n",
    "\n"
   ]
  },
  {
   "cell_type": "code",
   "execution_count": 56,
   "metadata": {},
   "outputs": [],
   "source": [
    "result1 = do_sum()"
   ]
  },
  {
   "cell_type": "code",
   "execution_count": 57,
   "metadata": {},
   "outputs": [
    {
     "data": {
      "text/plain": [
       "8"
      ]
     },
     "execution_count": 57,
     "metadata": {},
     "output_type": "execute_result"
    }
   ],
   "source": [
    "result1"
   ]
  },
  {
   "cell_type": "markdown",
   "metadata": {},
   "source": [
    "#### Function arguments - internal variables"
   ]
  },
  {
   "cell_type": "code",
   "execution_count": 58,
   "metadata": {},
   "outputs": [],
   "source": [
    "# A function that adds two values\n",
    "\n",
    "\n",
    "def do_sum(x, y):\n",
    "    return x + y\n",
    "\n"
   ]
  },
  {
   "cell_type": "code",
   "execution_count": 59,
   "metadata": {},
   "outputs": [],
   "source": [
    "result2 = do_sum(5,3)"
   ]
  },
  {
   "cell_type": "code",
   "execution_count": 60,
   "metadata": {},
   "outputs": [
    {
     "data": {
      "text/plain": [
       "8"
      ]
     },
     "execution_count": 60,
     "metadata": {},
     "output_type": "execute_result"
    }
   ],
   "source": [
    "result2"
   ]
  },
  {
   "cell_type": "code",
   "execution_count": 61,
   "metadata": {},
   "outputs": [],
   "source": [
    "result2 = do_sum(5,10)"
   ]
  },
  {
   "cell_type": "code",
   "execution_count": 62,
   "metadata": {},
   "outputs": [
    {
     "data": {
      "text/plain": [
       "15"
      ]
     },
     "execution_count": 62,
     "metadata": {},
     "output_type": "execute_result"
    }
   ],
   "source": [
    "result2"
   ]
  },
  {
   "cell_type": "markdown",
   "metadata": {},
   "source": [
    "#### The number and order of arguments is important \n",
    "##### Follows the order in the function definition"
   ]
  },
  {
   "cell_type": "code",
   "execution_count": 64,
   "metadata": {},
   "outputs": [
    {
     "ename": "TypeError",
     "evalue": "do_sum() takes 2 positional arguments but 3 were given",
     "output_type": "error",
     "traceback": [
      "\u001b[0;31m---------------------------------------------------------------------------\u001b[0m",
      "\u001b[0;31mTypeError\u001b[0m                                 Traceback (most recent call last)",
      "\u001b[0;32m<ipython-input-64-edee6a9a2dc2>\u001b[0m in \u001b[0;36m<module>\u001b[0;34m\u001b[0m\n\u001b[0;32m----> 1\u001b[0;31m \u001b[0mdo_sum\u001b[0m\u001b[0;34m(\u001b[0m\u001b[0;36m4\u001b[0m\u001b[0;34m,\u001b[0m\u001b[0;36m6\u001b[0m\u001b[0;34m,\u001b[0m\u001b[0;36m7\u001b[0m\u001b[0;34m)\u001b[0m\u001b[0;34m\u001b[0m\u001b[0;34m\u001b[0m\u001b[0m\n\u001b[0m",
      "\u001b[0;31mTypeError\u001b[0m: do_sum() takes 2 positional arguments but 3 were given"
     ]
    }
   ],
   "source": [
    "do_sum(4,6,7)"
   ]
  },
  {
   "cell_type": "code",
   "execution_count": 65,
   "metadata": {},
   "outputs": [
    {
     "data": {
      "text/plain": [
       "13"
      ]
     },
     "execution_count": 65,
     "metadata": {},
     "output_type": "execute_result"
    }
   ],
   "source": [
    "do_sum(5,8)"
   ]
  },
  {
   "cell_type": "markdown",
   "metadata": {},
   "source": [
    "#### We can use the name of the arguments and then the order is not important"
   ]
  },
  {
   "cell_type": "code",
   "execution_count": 67,
   "metadata": {},
   "outputs": [
    {
     "data": {
      "text/plain": [
       "20"
      ]
     },
     "execution_count": 67,
     "metadata": {},
     "output_type": "execute_result"
    }
   ],
   "source": [
    "do_sum(y = 13, x = 7)"
   ]
  },
  {
   "cell_type": "code",
   "execution_count": 68,
   "metadata": {},
   "outputs": [],
   "source": [
    "def do_division(x, y):\n",
    "    return x/y"
   ]
  },
  {
   "cell_type": "code",
   "execution_count": 69,
   "metadata": {},
   "outputs": [
    {
     "data": {
      "text/plain": [
       "0.5384615384615384"
      ]
     },
     "execution_count": 69,
     "metadata": {},
     "output_type": "execute_result"
    }
   ],
   "source": [
    "do_division(y = 13, x = 7)"
   ]
  },
  {
   "cell_type": "code",
   "execution_count": 70,
   "metadata": {},
   "outputs": [
    {
     "data": {
      "text/plain": [
       "2.0"
      ]
     },
     "execution_count": 70,
     "metadata": {},
     "output_type": "execute_result"
    }
   ],
   "source": [
    "do_division(14, 7)"
   ]
  },
  {
   "cell_type": "code",
   "execution_count": 71,
   "metadata": {},
   "outputs": [
    {
     "data": {
      "text/plain": [
       "0.5"
      ]
     },
     "execution_count": 71,
     "metadata": {},
     "output_type": "execute_result"
    }
   ],
   "source": [
    "do_division(7, 14)"
   ]
  },
  {
   "cell_type": "code",
   "execution_count": 72,
   "metadata": {},
   "outputs": [
    {
     "data": {
      "text/plain": [
       "2.0"
      ]
     },
     "execution_count": 72,
     "metadata": {},
     "output_type": "execute_result"
    }
   ],
   "source": [
    "do_division(y = 7, x = 14)"
   ]
  },
  {
   "cell_type": "markdown",
   "metadata": {},
   "source": [
    "#### We can use external variables in a function\n",
    "##### Not recomanded - makes it harder to reuse the function in a different place/project "
   ]
  },
  {
   "cell_type": "code",
   "execution_count": 73,
   "metadata": {},
   "outputs": [
    {
     "data": {
      "text/plain": [
       "30"
      ]
     },
     "execution_count": 73,
     "metadata": {},
     "output_type": "execute_result"
    }
   ],
   "source": [
    "# external variables\n",
    "int_var1 = 10\n",
    "int_var2 = 20\n",
    "do_sum(int_var1, int_var2)"
   ]
  },
  {
   "cell_type": "code",
   "execution_count": 74,
   "metadata": {},
   "outputs": [],
   "source": [
    "def do_sum(x, y):\n",
    "    return int_var1 + int_var2"
   ]
  },
  {
   "cell_type": "code",
   "execution_count": 75,
   "metadata": {},
   "outputs": [
    {
     "data": {
      "text/plain": [
       "30"
      ]
     },
     "execution_count": 75,
     "metadata": {},
     "output_type": "execute_result"
    }
   ],
   "source": [
    "do_sum(int_var1, int_var2)"
   ]
  },
  {
   "cell_type": "code",
   "execution_count": 76,
   "metadata": {},
   "outputs": [
    {
     "data": {
      "text/plain": [
       "30"
      ]
     },
     "execution_count": 76,
     "metadata": {},
     "output_type": "execute_result"
    }
   ],
   "source": [
    "do_sum(100, 200)"
   ]
  },
  {
   "cell_type": "code",
   "execution_count": 77,
   "metadata": {},
   "outputs": [
    {
     "ename": "TypeError",
     "evalue": "do_sum() missing 1 required positional argument: 'y'",
     "output_type": "error",
     "traceback": [
      "\u001b[0;31m---------------------------------------------------------------------------\u001b[0m",
      "\u001b[0;31mTypeError\u001b[0m                                 Traceback (most recent call last)",
      "\u001b[0;32m<ipython-input-77-ba6a53a9ac46>\u001b[0m in \u001b[0;36m<module>\u001b[0;34m\u001b[0m\n\u001b[1;32m      1\u001b[0m \u001b[0;31m# What if we don't provide one of the arguments?\u001b[0m\u001b[0;34m\u001b[0m\u001b[0;34m\u001b[0m\u001b[0;34m\u001b[0m\u001b[0m\n\u001b[0;32m----> 2\u001b[0;31m \u001b[0mdo_sum\u001b[0m\u001b[0;34m(\u001b[0m\u001b[0;36m5\u001b[0m\u001b[0;34m)\u001b[0m\u001b[0;34m\u001b[0m\u001b[0;34m\u001b[0m\u001b[0m\n\u001b[0m",
      "\u001b[0;31mTypeError\u001b[0m: do_sum() missing 1 required positional argument: 'y'"
     ]
    }
   ],
   "source": [
    "# What if we don't provide one of the arguments?\n",
    "do_sum(5)"
   ]
  },
  {
   "cell_type": "markdown",
   "metadata": {},
   "source": [
    "#### Function arguments - default values\n",
    "##### Default values allow us to call a funtion withour providing those arguments"
   ]
  },
  {
   "cell_type": "code",
   "execution_count": 78,
   "metadata": {},
   "outputs": [
    {
     "data": {
      "text/plain": [
       "8"
      ]
     },
     "execution_count": 78,
     "metadata": {},
     "output_type": "execute_result"
    }
   ],
   "source": [
    "def do_sum(x = 3, y = 5):\n",
    "    return x + y\n",
    "\n",
    "do_sum()"
   ]
  },
  {
   "cell_type": "code",
   "execution_count": 79,
   "metadata": {},
   "outputs": [
    {
     "data": {
      "text/plain": [
       "10"
      ]
     },
     "execution_count": 79,
     "metadata": {},
     "output_type": "execute_result"
    }
   ],
   "source": [
    "do_sum(5)"
   ]
  },
  {
   "cell_type": "code",
   "execution_count": 80,
   "metadata": {},
   "outputs": [
    {
     "data": {
      "text/plain": [
       "23"
      ]
     },
     "execution_count": 80,
     "metadata": {},
     "output_type": "execute_result"
    }
   ],
   "source": [
    "do_sum(y = 20)"
   ]
  },
  {
   "cell_type": "code",
   "execution_count": 81,
   "metadata": {},
   "outputs": [
    {
     "data": {
      "text/plain": [
       "300"
      ]
     },
     "execution_count": 81,
     "metadata": {},
     "output_type": "execute_result"
    }
   ],
   "source": [
    "do_sum(100, 200)"
   ]
  },
  {
   "cell_type": "code",
   "execution_count": 83,
   "metadata": {},
   "outputs": [
    {
     "ename": "NameError",
     "evalue": "name 'y' is not defined",
     "output_type": "error",
     "traceback": [
      "\u001b[0;31m---------------------------------------------------------------------------\u001b[0m",
      "\u001b[0;31mNameError\u001b[0m                                 Traceback (most recent call last)",
      "\u001b[0;32m<ipython-input-83-9063a9f0e032>\u001b[0m in \u001b[0;36m<module>\u001b[0;34m\u001b[0m\n\u001b[0;32m----> 1\u001b[0;31m \u001b[0my\u001b[0m\u001b[0;34m\u001b[0m\u001b[0;34m\u001b[0m\u001b[0m\n\u001b[0m",
      "\u001b[0;31mNameError\u001b[0m: name 'y' is not defined"
     ]
    }
   ],
   "source": [
    "y"
   ]
  },
  {
   "cell_type": "code",
   "execution_count": 84,
   "metadata": {},
   "outputs": [
    {
     "name": "stdout",
     "output_type": "stream",
     "text": [
      "5\n"
     ]
    },
    {
     "data": {
      "text/plain": [
       "8"
      ]
     },
     "execution_count": 84,
     "metadata": {},
     "output_type": "execute_result"
    }
   ],
   "source": [
    "def do_sum(x = 3, y = 5):\n",
    "    print(y)\n",
    "    return x + y\n",
    "\n",
    "do_sum()"
   ]
  },
  {
   "cell_type": "code",
   "execution_count": 85,
   "metadata": {},
   "outputs": [
    {
     "ename": "NameError",
     "evalue": "name 'y' is not defined",
     "output_type": "error",
     "traceback": [
      "\u001b[0;31m---------------------------------------------------------------------------\u001b[0m",
      "\u001b[0;31mNameError\u001b[0m                                 Traceback (most recent call last)",
      "\u001b[0;32m<ipython-input-85-9063a9f0e032>\u001b[0m in \u001b[0;36m<module>\u001b[0;34m\u001b[0m\n\u001b[0;32m----> 1\u001b[0;31m \u001b[0my\u001b[0m\u001b[0;34m\u001b[0m\u001b[0;34m\u001b[0m\u001b[0m\n\u001b[0m",
      "\u001b[0;31mNameError\u001b[0m: name 'y' is not defined"
     ]
    }
   ],
   "source": [
    "y"
   ]
  },
  {
   "cell_type": "code",
   "execution_count": 86,
   "metadata": {},
   "outputs": [
    {
     "data": {
      "text/plain": [
       "5"
      ]
     },
     "execution_count": 86,
     "metadata": {},
     "output_type": "execute_result"
    }
   ],
   "source": [
    "# function arguments - default values\n",
    "def do_sum(x = 3, y = None):\n",
    "    if y == None:\n",
    "        return x\n",
    "    else:\n",
    "        return x + y\n",
    "\n",
    "do_sum(5)"
   ]
  },
  {
   "cell_type": "code",
   "execution_count": 88,
   "metadata": {},
   "outputs": [
    {
     "data": {
      "text/plain": [
       "23"
      ]
     },
     "execution_count": 88,
     "metadata": {},
     "output_type": "execute_result"
    }
   ],
   "source": [
    "do_sum(y = 20)"
   ]
  },
  {
   "cell_type": "markdown",
   "metadata": {},
   "source": [
    "\n",
    "### Function Scope\n",
    "What is in a function, is not available outside it"
   ]
  },
  {
   "cell_type": "code",
   "execution_count": null,
   "metadata": {},
   "outputs": [],
   "source": [
    "def do_product():\n",
    "    var1 = 2\n",
    "    print(var1)\n",
    "    var2 = 3\n",
    "    return var1 * var2\n",
    "\n",
    "do_product()"
   ]
  },
  {
   "cell_type": "code",
   "execution_count": null,
   "metadata": {},
   "outputs": [],
   "source": [
    "print(var1)"
   ]
  },
  {
   "cell_type": "code",
   "execution_count": null,
   "metadata": {},
   "outputs": [],
   "source": [
    "var1 = do_product()\n",
    "var1"
   ]
  },
  {
   "cell_type": "markdown",
   "metadata": {},
   "source": [
    "##### Can anyone describe scope in their own words?"
   ]
  },
  {
   "cell_type": "markdown",
   "metadata": {},
   "source": [
    "#### Function documentation - docstrings added after the header of the funtion definition\n",
    "\n"
   ]
  },
  {
   "cell_type": "code",
   "execution_count": null,
   "metadata": {},
   "outputs": [],
   "source": [
    "def test(x):\n",
    "    '''\n",
    "    Adds 1 to the argument\n",
    "    x: number to which we will add 1\n",
    "    returns: the argument value increased by 1\n",
    "    '''\n",
    "    return(x+1)"
   ]
  },
  {
   "cell_type": "code",
   "execution_count": null,
   "metadata": {},
   "outputs": [],
   "source": [
    "help(test)"
   ]
  },
  {
   "cell_type": "markdown",
   "metadata": {},
   "source": [
    "##### More examples: Let us try to do some shopping"
   ]
  },
  {
   "cell_type": "code",
   "execution_count": null,
   "metadata": {},
   "outputs": [],
   "source": [
    "budget = 100\n",
    "price = 10\n",
    "\n",
    "# place order\n",
    "while (budget >= price):\n",
    "    print(\"Orderred an item, price = \", price, \"budget = \", budget)\n",
    "    budget = budget - price\n",
    "print(\"DONE\")"
   ]
  },
  {
   "cell_type": "code",
   "execution_count": null,
   "metadata": {},
   "outputs": [],
   "source": [
    "#recursive function - function that calls itself\n",
    "def make_order(budget, price):\n",
    "    if budget>=price:\n",
    "        print(\"Orderred an item, price = \", price, \"budget = \", budget)\n",
    "        make_order(budget-price, price)\n",
    "    else:\n",
    "        print(\"DONE\")"
   ]
  },
  {
   "cell_type": "code",
   "execution_count": null,
   "metadata": {},
   "outputs": [],
   "source": [
    "make_order(100, 10)\n",
    "\n"
   ]
  },
  {
   "cell_type": "markdown",
   "metadata": {},
   "source": [
    "### <font color = \"red\">Exercise</font>  \n",
    "Write a function the computes the number of each of the 4 nucleotides (\"A\",\"C\",\"G\",\"T\") in a given sequence.  \n",
    "The function will return a dictionary with the nucleotides as keys and frequency as the value."
   ]
  },
  {
   "cell_type": "code",
   "execution_count": null,
   "metadata": {},
   "outputs": [],
   "source": []
  },
  {
   "cell_type": "markdown",
   "metadata": {},
   "source": [
    "_____\n",
    "\n",
    "### Input/Output and File Handling"
   ]
  },
  {
   "cell_type": "markdown",
   "metadata": {},
   "source": [
    "#### Reading user input: the `input()` function"
   ]
  },
  {
   "cell_type": "code",
   "execution_count": null,
   "metadata": {},
   "outputs": [],
   "source": [
    "# reads text, evaluates expression\n",
    "res = input()\n",
    "while res != \"STOP\":\n",
    "    print(\"input\", res)\n",
    "    res = input()"
   ]
  },
  {
   "cell_type": "markdown",
   "metadata": {},
   "source": [
    "File is a named location on disk to store related information <BR>\n",
    "It is used to permanently store data in a non-volatile memory (e.g. hard disk)<br>\n",
    "https://www.programiz.com/python-programming/file-operation <br><br>\n",
    "#### open – open a file for reading or writing<br>\n",
    "    \n",
    "```python\n",
    "open(file, mode='r', buffering=-1, encoding=None, errors=None, newline=None, closefd=True, opener=None)\n",
    "  \n",
    "fileObj = open(fileName, ‘r’) # open file for reading, r+\n",
    "fileObj = open(fileName, ‘w’) # open file for writing, w+\n",
    "fileObj = open(fileName, ‘a’) # open file for  appending, a+\n",
    "```\n",
    "(Note: fileName must be a string or reference to one)\n",
    "\n",
    "The file object is iterable by line\n"
   ]
  },
  {
   "cell_type": "code",
   "execution_count": null,
   "metadata": {},
   "outputs": [],
   "source": [
    "help(open)"
   ]
  },
  {
   "cell_type": "markdown",
   "metadata": {},
   "source": [
    "<b>Write</b>"
   ]
  },
  {
   "cell_type": "code",
   "execution_count": null,
   "metadata": {},
   "outputs": [],
   "source": [
    "# open file and write lines into a file\n",
    "test_file = open(\"test.txt\", mode = \"w\")\n",
    "test_file.write(\"Writing some text.\\n\")\n",
    "test_file.write(\"Writing another line.\")\n",
    "test_file.close()"
   ]
  },
  {
   "cell_type": "code",
   "execution_count": null,
   "metadata": {},
   "outputs": [],
   "source": [
    "for elem in dir(test_file):\n",
    "    if \"_\" not in elem:\n",
    "        print(elem)"
   ]
  },
  {
   "cell_type": "markdown",
   "metadata": {},
   "source": [
    "<b>Close file</b>"
   ]
  },
  {
   "cell_type": "code",
   "execution_count": null,
   "metadata": {},
   "outputs": [],
   "source": [
    "# close()\n",
    "help(test_file.close)\n"
   ]
  },
  {
   "cell_type": "code",
   "execution_count": null,
   "metadata": {},
   "outputs": [],
   "source": []
  },
  {
   "cell_type": "markdown",
   "metadata": {},
   "source": [
    "<b>Read</b>"
   ]
  },
  {
   "cell_type": "code",
   "execution_count": null,
   "metadata": {},
   "outputs": [],
   "source": [
    "# open file and read file contents\n",
    "test_file = open(\"test.txt\", \"r\")\n",
    "res = test_file.read()\n",
    "print(res)\n",
    "test_file.close()\n",
    "\n"
   ]
  },
  {
   "cell_type": "markdown",
   "metadata": {},
   "source": [
    "<b>Read line</b>"
   ]
  },
  {
   "cell_type": "code",
   "execution_count": null,
   "metadata": {},
   "outputs": [],
   "source": [
    "test_file = open(\"test.txt\", \"r\")\n",
    "res = test_file.readlines()\n",
    "print(res)\n",
    "test_file.close()"
   ]
  },
  {
   "cell_type": "markdown",
   "metadata": {},
   "source": [
    "<b>Go at position</b>"
   ]
  },
  {
   "cell_type": "code",
   "execution_count": null,
   "metadata": {},
   "outputs": [],
   "source": [
    "# seek\n",
    "test_file = open(\"test.txt\", \"r\")\n",
    "test_file.seek(10)\n",
    "res = test_file.readline()\n",
    "print(res)\n",
    "print(test_file.tell())\n",
    "test_file.close()"
   ]
  },
  {
   "cell_type": "markdown",
   "metadata": {},
   "source": [
    "<b>Return current position</b>"
   ]
  },
  {
   "cell_type": "code",
   "execution_count": null,
   "metadata": {},
   "outputs": [],
   "source": [
    "# tell\n"
   ]
  },
  {
   "cell_type": "markdown",
   "metadata": {},
   "source": [
    "### Context manager"
   ]
  },
  {
   "cell_type": "markdown",
   "metadata": {},
   "source": [
    "<b>with: give code context</b>"
   ]
  },
  {
   "cell_type": "markdown",
   "metadata": {},
   "source": [
    "The special part about with is when it is paired with file handling or database access functionality"
   ]
  },
  {
   "cell_type": "code",
   "execution_count": null,
   "metadata": {},
   "outputs": [],
   "source": [
    "# Without with\n",
    "test_file = open(\"test.txt\",'r')\n",
    "print(test_file.read())\n",
    "test_file.close()"
   ]
  },
  {
   "cell_type": "code",
   "execution_count": null,
   "metadata": {},
   "outputs": [],
   "source": [
    "# With with :)\n",
    "with open(\"test.txt\",'r') as test_file:\n",
    "    print(test_file.read())"
   ]
  },
  {
   "cell_type": "markdown",
   "metadata": {},
   "source": [
    "The file is opened and processed. <br>\n",
    "As soon as you exit the with statement, <b>the file is closed automatically</b>."
   ]
  },
  {
   "cell_type": "code",
   "execution_count": null,
   "metadata": {},
   "outputs": [],
   "source": []
  },
  {
   "cell_type": "code",
   "execution_count": null,
   "metadata": {},
   "outputs": [],
   "source": [
    "# parsing files\n",
    "def parse_line(line):\n",
    "    return line.strip().split(\" \")\n",
    "\n",
    "with open(\"test.txt\",'r') as test_file:\n",
    "    line = test_file.readline()\n",
    "    while (line != \"\"):\n",
    "        print(parse_line(line))\n",
    "        line = test_file.readline()"
   ]
  },
  {
   "cell_type": "markdown",
   "metadata": {},
   "source": [
    "### <font color = \"red\">Exercise</font>:   \n",
    "\n",
    "Open the file test.txt and add 10 lines in a for loop.   \n",
    "The line should contain: Line index    \n",
    "Line 0  \n",
    "Line 1  "
   ]
  },
  {
   "cell_type": "code",
   "execution_count": null,
   "metadata": {},
   "outputs": [],
   "source": []
  },
  {
   "cell_type": "code",
   "execution_count": null,
   "metadata": {},
   "outputs": [],
   "source": []
  },
  {
   "cell_type": "markdown",
   "metadata": {},
   "source": [
    "https://www.tutorialspoint.com/python/python_files_io.htm\n",
    "https://www.tutorialspoint.com/python/file_methods.htm"
   ]
  }
 ],
 "metadata": {
  "kernelspec": {
   "display_name": "Python 3",
   "language": "python",
   "name": "python3"
  },
  "language_info": {
   "codemirror_mode": {
    "name": "ipython",
    "version": 3
   },
   "file_extension": ".py",
   "mimetype": "text/x-python",
   "name": "python",
   "nbconvert_exporter": "python",
   "pygments_lexer": "ipython3",
   "version": "3.8.3"
  }
 },
 "nbformat": 4,
 "nbformat_minor": 4
}
