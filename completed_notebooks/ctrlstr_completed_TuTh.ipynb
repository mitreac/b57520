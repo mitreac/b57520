{
 "cells": [
  {
   "cell_type": "markdown",
   "metadata": {},
   "source": [
    "## Control structures \n",
    "### BIOINF 575 - Fall 2020"
   ]
  },
  {
   "cell_type": "markdown",
   "metadata": {},
   "source": [
    "#### DATATYPES RECAP\n",
    "\n",
    "```\n",
    " STRINGS:      \"\" or    '' or   \"\"\"\"\"\" or   ''''''\n",
    " LISTS:        []\n",
    " TUPLES:       ()\n",
    " DICTIONARIES: {}, the item structure is  key:value\n",
    " SETS:         {}, the item structure is value\n",
    "```\n",
    "\n",
    "<img src = \"https://media.cheatography.com/storage/thumb/desmovalvo_python3-data-structures.750.jpg\" width = \"600\" />\n",
    "\n",
    "\n",
    "https://cheatography.com/mariofreitas/cheat-sheets/python-basics-lists-tuples-and-dictionaries/\n",
    "https://www.slideshare.net/gilcohen792/python3-cheatsheet\n",
    "https://github.com/leriomaggio/python-in-a-notebook/blob/master/03%20List%20and%20Tuples%20and%20Sets.ipynb"
   ]
  },
  {
   "cell_type": "code",
   "execution_count": 3,
   "metadata": {},
   "outputs": [],
   "source": [
    "amino_acids = {'Ser': 'Serine', 'Lys': 'Lysine', 'Ala': 'Alanine', 'Leu': 'Leucine'}"
   ]
  },
  {
   "cell_type": "markdown",
   "metadata": {},
   "source": [
    "To add a new dictionary element - subset the dictionay using the new key and assign the value or use the update function"
   ]
  },
  {
   "cell_type": "code",
   "execution_count": 4,
   "metadata": {},
   "outputs": [
    {
     "data": {
      "text/plain": [
       "{'Ser': 'Serine', 'Lys': 'Lysine', 'Ala': 'Alanine', 'Leu': 'Leucine'}"
      ]
     },
     "execution_count": 4,
     "metadata": {},
     "output_type": "execute_result"
    }
   ],
   "source": [
    "amino_acids"
   ]
  },
  {
   "cell_type": "code",
   "execution_count": 5,
   "metadata": {},
   "outputs": [],
   "source": [
    "amino_acids[\"Val\"] = \"Valine\""
   ]
  },
  {
   "cell_type": "code",
   "execution_count": 6,
   "metadata": {},
   "outputs": [
    {
     "data": {
      "text/plain": [
       "{'Ser': 'Serine',\n",
       " 'Lys': 'Lysine',\n",
       " 'Ala': 'Alanine',\n",
       " 'Leu': 'Leucine',\n",
       " 'Val': 'Valine'}"
      ]
     },
     "execution_count": 6,
     "metadata": {},
     "output_type": "execute_result"
    }
   ],
   "source": [
    "amino_acids"
   ]
  },
  {
   "cell_type": "code",
   "execution_count": 7,
   "metadata": {},
   "outputs": [],
   "source": [
    "amino_acids.update({\"Tyr\":\"Tyrosine\", \"Lys\":\"Lysine new\"})"
   ]
  },
  {
   "cell_type": "code",
   "execution_count": 8,
   "metadata": {},
   "outputs": [
    {
     "data": {
      "text/plain": [
       "{'Ser': 'Serine',\n",
       " 'Lys': 'Lysine new',\n",
       " 'Ala': 'Alanine',\n",
       " 'Leu': 'Leucine',\n",
       " 'Val': 'Valine',\n",
       " 'Tyr': 'Tyrosine'}"
      ]
     },
     "execution_count": 8,
     "metadata": {},
     "output_type": "execute_result"
    }
   ],
   "source": [
    "amino_acids"
   ]
  },
  {
   "cell_type": "code",
   "execution_count": 9,
   "metadata": {},
   "outputs": [
    {
     "data": {
      "text/plain": [
       "{1: 'one', 2: 'two'}"
      ]
     },
     "execution_count": 9,
     "metadata": {},
     "output_type": "execute_result"
    }
   ],
   "source": [
    "{1:\"one\",2:\"two\"}"
   ]
  },
  {
   "cell_type": "code",
   "execution_count": 10,
   "metadata": {},
   "outputs": [
    {
     "data": {
      "text/plain": [
       "{1: 'one', 2: 'two'}"
      ]
     },
     "execution_count": 10,
     "metadata": {},
     "output_type": "execute_result"
    }
   ],
   "source": [
    "dict({1:\"one\",2:\"two\"})"
   ]
  },
  {
   "cell_type": "code",
   "execution_count": 11,
   "metadata": {},
   "outputs": [
    {
     "data": {
      "text/plain": [
       "{'one': 'one value', 'two': 'two value'}"
      ]
     },
     "execution_count": 11,
     "metadata": {},
     "output_type": "execute_result"
    }
   ],
   "source": [
    "dict(one = \"one value\", two = \"two value\")"
   ]
  },
  {
   "cell_type": "code",
   "execution_count": 12,
   "metadata": {},
   "outputs": [
    {
     "data": {
      "text/plain": [
       "{'three': 'three value',\n",
       " 'four': 'four value',\n",
       " 'one': 'one value',\n",
       " 'two': 'two value'}"
      ]
     },
     "execution_count": 12,
     "metadata": {},
     "output_type": "execute_result"
    }
   ],
   "source": [
    "dict([(\"three\", \"three value\"), (\"four\", \"four value\")], one = \"one value\", two = \"two value\")"
   ]
  },
  {
   "cell_type": "markdown",
   "metadata": {},
   "source": [
    "#### <font color = \"red\">Exercise</font> \n",
    "\n",
    "Return the value for the key = \"Ala\".   \n",
    "If it does not exist return an empty string.   \n",
    "Create an empty set.   \n",
    "Add the following values to the set: 'Serine', 'Lysine', 'Alanine'.   \n"
   ]
  },
  {
   "cell_type": "code",
   "execution_count": 13,
   "metadata": {},
   "outputs": [
    {
     "data": {
      "text/plain": [
       "{'Ser': 'Serine',\n",
       " 'Lys': 'Lysine new',\n",
       " 'Ala': 'Alanine',\n",
       " 'Leu': 'Leucine',\n",
       " 'Val': 'Valine',\n",
       " 'Tyr': 'Tyrosine'}"
      ]
     },
     "execution_count": 13,
     "metadata": {},
     "output_type": "execute_result"
    }
   ],
   "source": [
    "amino_acids"
   ]
  },
  {
   "cell_type": "code",
   "execution_count": 14,
   "metadata": {},
   "outputs": [
    {
     "data": {
      "text/plain": [
       "'Alanine'"
      ]
     },
     "execution_count": 14,
     "metadata": {},
     "output_type": "execute_result"
    }
   ],
   "source": [
    "key = \"Ala\"\n",
    "amino_acids.get(key)"
   ]
  },
  {
   "cell_type": "code",
   "execution_count": 16,
   "metadata": {},
   "outputs": [
    {
     "name": "stdout",
     "output_type": "stream",
     "text": [
      "None\n"
     ]
    }
   ],
   "source": [
    "key = \"ala\"\n",
    "print(amino_acids.get(key))"
   ]
  },
  {
   "cell_type": "code",
   "execution_count": 17,
   "metadata": {},
   "outputs": [
    {
     "name": "stdout",
     "output_type": "stream",
     "text": [
      "Help on built-in function get:\n",
      "\n",
      "get(key, default=None, /) method of builtins.dict instance\n",
      "    Return the value for key if key is in the dictionary, else default.\n",
      "\n"
     ]
    }
   ],
   "source": [
    "help(amino_acids.get)"
   ]
  },
  {
   "cell_type": "code",
   "execution_count": 19,
   "metadata": {},
   "outputs": [
    {
     "name": "stdout",
     "output_type": "stream",
     "text": [
      "x\n"
     ]
    }
   ],
   "source": [
    "key = \"ala\"\n",
    "print(amino_acids.get(key, \"x\"))"
   ]
  },
  {
   "cell_type": "code",
   "execution_count": 20,
   "metadata": {},
   "outputs": [
    {
     "name": "stdout",
     "output_type": "stream",
     "text": [
      "Alanine\n"
     ]
    }
   ],
   "source": [
    "key = \"Ala\"\n",
    "print(amino_acids.get(key, \"\"))"
   ]
  },
  {
   "cell_type": "code",
   "execution_count": 21,
   "metadata": {},
   "outputs": [
    {
     "ename": "KeyError",
     "evalue": "'ala'",
     "output_type": "error",
     "traceback": [
      "\u001b[0;31m---------------------------------------------------------------------------\u001b[0m",
      "\u001b[0;31mKeyError\u001b[0m                                  Traceback (most recent call last)",
      "\u001b[0;32m<ipython-input-21-a2083a7e2b87>\u001b[0m in \u001b[0;36m<module>\u001b[0;34m\u001b[0m\n\u001b[1;32m      1\u001b[0m \u001b[0mkey\u001b[0m \u001b[0;34m=\u001b[0m \u001b[0;34m\"ala\"\u001b[0m\u001b[0;34m\u001b[0m\u001b[0;34m\u001b[0m\u001b[0m\n\u001b[0;32m----> 2\u001b[0;31m \u001b[0mamino_acids\u001b[0m\u001b[0;34m[\u001b[0m\u001b[0mkey\u001b[0m\u001b[0;34m]\u001b[0m\u001b[0;34m\u001b[0m\u001b[0;34m\u001b[0m\u001b[0m\n\u001b[0m",
      "\u001b[0;31mKeyError\u001b[0m: 'ala'"
     ]
    }
   ],
   "source": [
    "key = \"ala\"\n",
    "amino_acids[key]"
   ]
  },
  {
   "cell_type": "code",
   "execution_count": 22,
   "metadata": {},
   "outputs": [
    {
     "data": {
      "text/plain": [
       "'Alanine'"
      ]
     },
     "execution_count": 22,
     "metadata": {},
     "output_type": "execute_result"
    }
   ],
   "source": [
    "key = \"Ala\"\n",
    "amino_acids[key]"
   ]
  },
  {
   "cell_type": "code",
   "execution_count": 23,
   "metadata": {},
   "outputs": [
    {
     "name": "stdout",
     "output_type": "stream",
     "text": [
      "values is:  Alanine\n"
     ]
    }
   ],
   "source": [
    "key = \"Ala\"\n",
    "result = \"\"\n",
    "if key in amino_acids:\n",
    "    result = amino_acids[key]\n",
    "\n",
    "print(\"values is: \", result)"
   ]
  },
  {
   "cell_type": "code",
   "execution_count": 25,
   "metadata": {},
   "outputs": [
    {
     "name": "stdout",
     "output_type": "stream",
     "text": [
      "values is: -  -\n"
     ]
    }
   ],
   "source": [
    "key = \"ala\"\n",
    "result = \"\"\n",
    "if key in amino_acids:\n",
    "    result = amino_acids[key]\n",
    "\n",
    "print(\"values is: -\", result,\"-\")"
   ]
  },
  {
   "cell_type": "code",
   "execution_count": 26,
   "metadata": {},
   "outputs": [],
   "source": [
    "aa_set = {}"
   ]
  },
  {
   "cell_type": "code",
   "execution_count": 27,
   "metadata": {},
   "outputs": [
    {
     "data": {
      "text/plain": [
       "dict"
      ]
     },
     "execution_count": 27,
     "metadata": {},
     "output_type": "execute_result"
    }
   ],
   "source": [
    "type(aa_set)"
   ]
  },
  {
   "cell_type": "code",
   "execution_count": 28,
   "metadata": {},
   "outputs": [],
   "source": [
    "aa_set = set()"
   ]
  },
  {
   "cell_type": "code",
   "execution_count": 29,
   "metadata": {},
   "outputs": [
    {
     "data": {
      "text/plain": [
       "set"
      ]
     },
     "execution_count": 29,
     "metadata": {},
     "output_type": "execute_result"
    }
   ],
   "source": [
    "type(aa_set)"
   ]
  },
  {
   "cell_type": "code",
   "execution_count": 30,
   "metadata": {},
   "outputs": [],
   "source": [
    "aa_set.update(('Serine', 'Lysine', 'Alanine'))"
   ]
  },
  {
   "cell_type": "code",
   "execution_count": 31,
   "metadata": {},
   "outputs": [
    {
     "data": {
      "text/plain": [
       "{'Alanine', 'Lysine', 'Serine'}"
      ]
     },
     "execution_count": 31,
     "metadata": {},
     "output_type": "execute_result"
    }
   ],
   "source": [
    "aa_set"
   ]
  },
  {
   "cell_type": "code",
   "execution_count": 32,
   "metadata": {},
   "outputs": [],
   "source": [
    "aa_set.update([1,2,3])"
   ]
  },
  {
   "cell_type": "code",
   "execution_count": 33,
   "metadata": {},
   "outputs": [
    {
     "data": {
      "text/plain": [
       "{1, 2, 3, 'Alanine', 'Lysine', 'Serine'}"
      ]
     },
     "execution_count": 33,
     "metadata": {},
     "output_type": "execute_result"
    }
   ],
   "source": [
    "aa_set"
   ]
  },
  {
   "cell_type": "code",
   "execution_count": 34,
   "metadata": {},
   "outputs": [],
   "source": [
    "aa_set.update({4,\"Set\",6})"
   ]
  },
  {
   "cell_type": "code",
   "execution_count": 35,
   "metadata": {},
   "outputs": [
    {
     "data": {
      "text/plain": [
       "{1, 2, 3, 4, 6, 'Alanine', 'Lysine', 'Serine', 'Set'}"
      ]
     },
     "execution_count": 35,
     "metadata": {},
     "output_type": "execute_result"
    }
   ],
   "source": [
    "aa_set"
   ]
  },
  {
   "cell_type": "code",
   "execution_count": 36,
   "metadata": {},
   "outputs": [],
   "source": [
    "aa_set.update(\"ACGTAACT\")"
   ]
  },
  {
   "cell_type": "code",
   "execution_count": 37,
   "metadata": {},
   "outputs": [
    {
     "data": {
      "text/plain": [
       "{1, 2, 3, 4, 6, 'A', 'Alanine', 'C', 'G', 'Lysine', 'Serine', 'Set', 'T'}"
      ]
     },
     "execution_count": 37,
     "metadata": {},
     "output_type": "execute_result"
    }
   ],
   "source": [
    "aa_set"
   ]
  },
  {
   "cell_type": "code",
   "execution_count": 38,
   "metadata": {},
   "outputs": [],
   "source": [
    "aa_set.add(\"ACGTAACT\")"
   ]
  },
  {
   "cell_type": "code",
   "execution_count": 39,
   "metadata": {},
   "outputs": [
    {
     "data": {
      "text/plain": [
       "{1,\n",
       " 2,\n",
       " 3,\n",
       " 4,\n",
       " 6,\n",
       " 'A',\n",
       " 'ACGTAACT',\n",
       " 'Alanine',\n",
       " 'C',\n",
       " 'G',\n",
       " 'Lysine',\n",
       " 'Serine',\n",
       " 'Set',\n",
       " 'T'}"
      ]
     },
     "execution_count": 39,
     "metadata": {},
     "output_type": "execute_result"
    }
   ],
   "source": [
    "aa_set"
   ]
  },
  {
   "cell_type": "code",
   "execution_count": 40,
   "metadata": {},
   "outputs": [
    {
     "ename": "TypeError",
     "evalue": "unhashable type: 'list'",
     "output_type": "error",
     "traceback": [
      "\u001b[0;31m---------------------------------------------------------------------------\u001b[0m",
      "\u001b[0;31mTypeError\u001b[0m                                 Traceback (most recent call last)",
      "\u001b[0;32m<ipython-input-40-b223e624583d>\u001b[0m in \u001b[0;36m<module>\u001b[0;34m\u001b[0m\n\u001b[0;32m----> 1\u001b[0;31m \u001b[0maa_set\u001b[0m\u001b[0;34m.\u001b[0m\u001b[0madd\u001b[0m\u001b[0;34m(\u001b[0m\u001b[0;34m[\u001b[0m\u001b[0;36m7\u001b[0m\u001b[0;34m,\u001b[0m\u001b[0;36m8\u001b[0m\u001b[0;34m]\u001b[0m\u001b[0;34m)\u001b[0m\u001b[0;34m\u001b[0m\u001b[0;34m\u001b[0m\u001b[0m\n\u001b[0m",
      "\u001b[0;31mTypeError\u001b[0m: unhashable type: 'list'"
     ]
    }
   ],
   "source": [
    "aa_set.add([7,8])"
   ]
  },
  {
   "cell_type": "code",
   "execution_count": 41,
   "metadata": {},
   "outputs": [],
   "source": [
    "aa_set.add((7,8))"
   ]
  },
  {
   "cell_type": "code",
   "execution_count": 42,
   "metadata": {},
   "outputs": [
    {
     "data": {
      "text/plain": [
       "{(7, 8),\n",
       " 1,\n",
       " 2,\n",
       " 3,\n",
       " 4,\n",
       " 6,\n",
       " 'A',\n",
       " 'ACGTAACT',\n",
       " 'Alanine',\n",
       " 'C',\n",
       " 'G',\n",
       " 'Lysine',\n",
       " 'Serine',\n",
       " 'Set',\n",
       " 'T'}"
      ]
     },
     "execution_count": 42,
     "metadata": {},
     "output_type": "execute_result"
    }
   ],
   "source": [
    "aa_set"
   ]
  },
  {
   "cell_type": "code",
   "execution_count": 95,
   "metadata": {},
   "outputs": [
    {
     "data": {
      "text/plain": [
       "True"
      ]
     },
     "execution_count": 95,
     "metadata": {},
     "output_type": "execute_result"
    }
   ],
   "source": [
    "{\"a\",\"b\"} == {\"b\",\"a\"}"
   ]
  },
  {
   "cell_type": "code",
   "execution_count": 96,
   "metadata": {},
   "outputs": [
    {
     "data": {
      "text/plain": [
       "{'a', 'b'}"
      ]
     },
     "execution_count": 96,
     "metadata": {},
     "output_type": "execute_result"
    }
   ],
   "source": [
    "{\"b\",\"a\"}"
   ]
  },
  {
   "cell_type": "code",
   "execution_count": 97,
   "metadata": {},
   "outputs": [
    {
     "name": "stdout",
     "output_type": "stream",
     "text": [
      "{'a', 'b'}\n"
     ]
    }
   ],
   "source": [
    "print({\"b\",\"a\"})"
   ]
  },
  {
   "cell_type": "markdown",
   "metadata": {},
   "source": [
    "____________\n",
    "\n",
    "### Control Structures"
   ]
  },
  {
   "cell_type": "markdown",
   "metadata": {},
   "source": [
    "**Control Structures** are constructs that **give a block of code context as well as help repeat or selectivelly run it**.\n",
    "\n",
    "Control Structures control how the associated code works by \"wrapping\" it within its structure."
   ]
  },
  {
   "cell_type": "markdown",
   "metadata": {},
   "source": [
    "Types of control structures:\n",
    "* Sequential: default mode - execution of statements line by line - like reading a book or following a recipe\n",
    "* Selection: decisions, branching - allows the distinction between two or more disjunct situations in which different sets of statements should be executed <br>\n",
    "Selection structures:\n",
    "    * if &emsp;&emsp;&emsp;&emsp;&emsp;&emsp; - considers additional code on only one branch\n",
    "    * if-else &emsp; &emsp;&emsp;  - considers two branches\n",
    "    * if-elif-else &emsp;&nbsp;    - considers three branches\n",
    "* Repetition: looping - allows the repeatition of a set of statements multiple times <br>\n",
    "Loop structures:\n",
    "    * while &emsp;  &emsp;   &emsp; - number of repetitions **unknown**\n",
    "    * for &emsp;&emsp;&emsp;&emsp;&emsp; - number of repetitions **known**"
   ]
  },
  {
   "cell_type": "markdown",
   "metadata": {},
   "source": [
    "Selection and repetition statements typically rely on conditions that are evaluated as either true or false."
   ]
  },
  {
   "cell_type": "markdown",
   "metadata": {},
   "source": [
    "### if: selection/decision control structure"
   ]
  },
  {
   "cell_type": "markdown",
   "metadata": {},
   "source": [
    "if statements check specific conditions through the processing of the code <br>\n",
    "The syntax is as follows:"
   ]
  },
  {
   "cell_type": "markdown",
   "metadata": {},
   "source": [
    "```python\n",
    "if [not] <condition>:\n",
    "    <statements>\n",
    "elif <condition>:\n",
    "    <statements>\n",
    "else:\n",
    "    <statements>\n",
    "```"
   ]
  },
  {
   "cell_type": "code",
   "execution_count": 43,
   "metadata": {},
   "outputs": [
    {
     "name": "stdout",
     "output_type": "stream",
     "text": [
      "Equal to or greater than 10\n"
     ]
    }
   ],
   "source": [
    "# Comprehensive if-elif-else statement\n",
    "int_var = 20\n",
    "if int_var < 5:\n",
    "    print(\"Less than 5\")\n",
    "elif int_var < 10:\n",
    "    print(\"Between 5 and 10\")\n",
    "else:\n",
    "    print(\"Equal to or greater than 10\")"
   ]
  },
  {
   "cell_type": "code",
   "execution_count": 45,
   "metadata": {},
   "outputs": [
    {
     "name": "stdout",
     "output_type": "stream",
     "text": [
      "Less than 5\n"
     ]
    }
   ],
   "source": [
    "int_var = 3\n",
    "if int_var < 5:\n",
    "    print(\"Less than 5\")\n",
    "elif int_var < 10:\n",
    "    print(\"Between 5 and 10\")\n",
    "else:\n",
    "    print(\"Equal to or greater than 10\")"
   ]
  },
  {
   "cell_type": "code",
   "execution_count": 46,
   "metadata": {},
   "outputs": [
    {
     "ename": "SyntaxError",
     "evalue": "invalid syntax (<ipython-input-46-55c8ff28668d>, line 2)",
     "output_type": "error",
     "traceback": [
      "\u001b[0;36m  File \u001b[0;32m\"<ipython-input-46-55c8ff28668d>\"\u001b[0;36m, line \u001b[0;32m2\u001b[0m\n\u001b[0;31m    if int_var < 5\u001b[0m\n\u001b[0m                  ^\u001b[0m\n\u001b[0;31mSyntaxError\u001b[0m\u001b[0;31m:\u001b[0m invalid syntax\n"
     ]
    }
   ],
   "source": [
    "int_var = 3\n",
    "if int_var < 5\n",
    "    print(\"Less than 5\")\n",
    "elif int_var < 10:\n",
    "    print(\"Between 5 and 10\")\n",
    "else:\n",
    "    print(\"Equal to or greater than 10\")"
   ]
  },
  {
   "cell_type": "code",
   "execution_count": 48,
   "metadata": {},
   "outputs": [
    {
     "ename": "IndentationError",
     "evalue": "expected an indented block (<ipython-input-48-6d889ca5b870>, line 3)",
     "output_type": "error",
     "traceback": [
      "\u001b[0;36m  File \u001b[0;32m\"<ipython-input-48-6d889ca5b870>\"\u001b[0;36m, line \u001b[0;32m3\u001b[0m\n\u001b[0;31m    print(\"test\")\u001b[0m\n\u001b[0m    ^\u001b[0m\n\u001b[0;31mIndentationError\u001b[0m\u001b[0;31m:\u001b[0m expected an indented block\n"
     ]
    }
   ],
   "source": [
    "int_var = 3\n",
    "if int_var < 5:\n",
    "print(\"test\")\n",
    "    print(\"Less than 5\")\n",
    "elif int_var < 10:\n",
    "    print(\"Between 5 and 10\")\n",
    "else:\n",
    "    print(\"Equal to or greater than 10\")"
   ]
  },
  {
   "cell_type": "code",
   "execution_count": 49,
   "metadata": {},
   "outputs": [
    {
     "name": "stdout",
     "output_type": "stream",
     "text": [
      "Less than 5\n",
      "test\n"
     ]
    }
   ],
   "source": [
    "int_var = 3\n",
    "if int_var < 5:\n",
    "    print(\"Less than 5\")\n",
    "elif int_var < 10:\n",
    "    print(\"Between 5 and 10\")\n",
    "else:\n",
    "    print(\"Equal to or greater than 10\")\n",
    "    \n",
    "print(\"test\")"
   ]
  },
  {
   "cell_type": "code",
   "execution_count": 50,
   "metadata": {},
   "outputs": [
    {
     "name": "stdout",
     "output_type": "stream",
     "text": [
      "Less than 5\n"
     ]
    }
   ],
   "source": [
    "int_var = 3\n",
    "if int_var < 5:\n",
    "    print(\"Less than 5\")\n",
    "elif int_var < 10:\n",
    "    print(\"Between 5 and 10\")\n",
    "else:\n",
    "    print(\"Equal to or greater than 10\")\n",
    "    \n",
    "    print(\"test\")"
   ]
  },
  {
   "cell_type": "code",
   "execution_count": 51,
   "metadata": {},
   "outputs": [
    {
     "name": "stdout",
     "output_type": "stream",
     "text": [
      "Equal to or greater than 10\n",
      "test\n"
     ]
    }
   ],
   "source": [
    "int_var = 30\n",
    "if int_var < 5:\n",
    "    print(\"Less than 5\")\n",
    "elif int_var < 10:\n",
    "    print(\"Between 5 and 10\")\n",
    "else:\n",
    "    print(\"Equal to or greater than 10\")\n",
    "    \n",
    "    print(\"test\")"
   ]
  },
  {
   "cell_type": "code",
   "execution_count": 52,
   "metadata": {},
   "outputs": [
    {
     "name": "stdout",
     "output_type": "stream",
     "text": [
      "test\n"
     ]
    }
   ],
   "source": [
    "if [1,2,3]:\n",
    "    print(\"test\")"
   ]
  },
  {
   "cell_type": "code",
   "execution_count": 55,
   "metadata": {},
   "outputs": [
    {
     "name": "stdout",
     "output_type": "stream",
     "text": [
      "empty list\n"
     ]
    }
   ],
   "source": [
    "if []:\n",
    "    print(\"test\")\n",
    "else:\n",
    "    print(\"empty list\")"
   ]
  },
  {
   "cell_type": "code",
   "execution_count": 53,
   "metadata": {},
   "outputs": [
    {
     "data": {
      "text/plain": [
       "True"
      ]
     },
     "execution_count": 53,
     "metadata": {},
     "output_type": "execute_result"
    }
   ],
   "source": [
    "bool([1,2,3])"
   ]
  },
  {
   "cell_type": "code",
   "execution_count": 56,
   "metadata": {},
   "outputs": [
    {
     "data": {
      "text/plain": [
       "False"
      ]
     },
     "execution_count": 56,
     "metadata": {},
     "output_type": "execute_result"
    }
   ],
   "source": [
    "bool([])"
   ]
  },
  {
   "cell_type": "code",
   "execution_count": null,
   "metadata": {},
   "outputs": [],
   "source": []
  },
  {
   "cell_type": "markdown",
   "metadata": {},
   "source": [
    "#### <font color = \"red\">Exercise</font>\n",
    "Write an if statement to check who is the youngest of three people with ages:\n",
    "age1, age2, age3\n"
   ]
  },
  {
   "cell_type": "code",
   "execution_count": 68,
   "metadata": {},
   "outputs": [],
   "source": [
    "age1 = 60\n",
    "age2 = 20\n",
    "age3 = 34"
   ]
  },
  {
   "cell_type": "code",
   "execution_count": 69,
   "metadata": {},
   "outputs": [
    {
     "name": "stdout",
     "output_type": "stream",
     "text": [
      "the youngest is 20 years old\n"
     ]
    }
   ],
   "source": [
    "if (age1 <= age2 and age1 <= age3):\n",
    "    print(\"the youngest is\", age1, \"years old\")\n",
    "elif (age2 <= age1 and age2 <= age3):\n",
    "    print(\"the youngest is\", age2, \"years old\")\n",
    "else:\n",
    "    print(\"the youngest is\", age3, \"years old\")\n",
    "\n",
    "\n",
    "\n"
   ]
  },
  {
   "cell_type": "code",
   "execution_count": 71,
   "metadata": {},
   "outputs": [
    {
     "name": "stdout",
     "output_type": "stream",
     "text": [
      "the youngest is 19 years old\n"
     ]
    }
   ],
   "source": [
    "age1 = 60\n",
    "age2 = 20\n",
    "age3 = 19\n",
    "\n",
    "if (age1 <= age2 and age1 <= age3):\n",
    "    print(\"the youngest is\", age1, \"years old\")\n",
    "elif (age2 <= age1 and age2 <= age3):\n",
    "    print(\"the youngest is\", age2, \"years old\")\n",
    "elif (age3 <= age1 and age3 <= age2):\n",
    "    print(\"the youngest is\", age3, \"years old\")"
   ]
  },
  {
   "cell_type": "code",
   "execution_count": 74,
   "metadata": {},
   "outputs": [
    {
     "name": "stdout",
     "output_type": "stream",
     "text": [
      "age2 20 is lower than 60 age1\n"
     ]
    }
   ],
   "source": [
    "if (age1 <= age2):\n",
    "    if (age1 <= age3):\n",
    "        print(\"the youngest is\", age1, \"years old\")\n",
    "    else:    \n",
    "        print(\"age3\", age3, \"is lower than\", age1, \"age1\")\n",
    "else:\n",
    "    print(\"age2\", age2, \"is lower than\", age1, \"age1\")\n",
    "\n"
   ]
  },
  {
   "cell_type": "markdown",
   "metadata": {},
   "source": [
    "### for: the repetitive control structure with a known number of steps"
   ]
  },
  {
   "cell_type": "markdown",
   "metadata": {},
   "source": [
    "To loop through a sequence of elements is to iterate"
   ]
  },
  {
   "cell_type": "markdown",
   "metadata": {},
   "source": [
    "```python\n",
    "for var in sequence:\n",
    "    statements\n",
    "```"
   ]
  },
  {
   "cell_type": "code",
   "execution_count": 75,
   "metadata": {},
   "outputs": [
    {
     "name": "stdout",
     "output_type": "stream",
     "text": [
      "0\n",
      "1\n",
      "2\n"
     ]
    }
   ],
   "source": [
    "# Print elements of a range\n",
    "for i in range(3):\n",
    "    print(i)"
   ]
  },
  {
   "cell_type": "code",
   "execution_count": 76,
   "metadata": {},
   "outputs": [
    {
     "ename": "SyntaxError",
     "evalue": "invalid syntax (<ipython-input-76-ce34593446bc>, line 1)",
     "output_type": "error",
     "traceback": [
      "\u001b[0;36m  File \u001b[0;32m\"<ipython-input-76-ce34593446bc>\"\u001b[0;36m, line \u001b[0;32m1\u001b[0m\n\u001b[0;31m    for i in range(3)\u001b[0m\n\u001b[0m                     ^\u001b[0m\n\u001b[0;31mSyntaxError\u001b[0m\u001b[0;31m:\u001b[0m invalid syntax\n"
     ]
    }
   ],
   "source": [
    "for i in range(3)\n",
    "    print(i)"
   ]
  },
  {
   "cell_type": "code",
   "execution_count": 77,
   "metadata": {},
   "outputs": [
    {
     "ename": "IndentationError",
     "evalue": "expected an indented block (<ipython-input-77-78291925d94f>, line 2)",
     "output_type": "error",
     "traceback": [
      "\u001b[0;36m  File \u001b[0;32m\"<ipython-input-77-78291925d94f>\"\u001b[0;36m, line \u001b[0;32m2\u001b[0m\n\u001b[0;31m    print(i)\u001b[0m\n\u001b[0m    ^\u001b[0m\n\u001b[0;31mIndentationError\u001b[0m\u001b[0;31m:\u001b[0m expected an indented block\n"
     ]
    }
   ],
   "source": [
    "for i in range(3):\n",
    "print(i)"
   ]
  },
  {
   "cell_type": "code",
   "execution_count": 78,
   "metadata": {},
   "outputs": [
    {
     "name": "stdout",
     "output_type": "stream",
     "text": [
      "0\n",
      "1\n",
      "2\n",
      "2\n"
     ]
    }
   ],
   "source": [
    "for i in range(3):\n",
    "    print(i)\n",
    "print(i)"
   ]
  },
  {
   "cell_type": "code",
   "execution_count": 79,
   "metadata": {},
   "outputs": [
    {
     "name": "stdout",
     "output_type": "stream",
     "text": [
      "0 0\n",
      "0 1\n",
      "0 2\n",
      "0 3\n",
      "1 0\n",
      "1 1\n",
      "1 2\n",
      "1 3\n",
      "2 0\n",
      "2 1\n",
      "2 2\n",
      "2 3\n"
     ]
    }
   ],
   "source": [
    "# nested loop\n",
    "for i in range(3):\n",
    "    for j in range(4):\n",
    "        print(i,j)"
   ]
  },
  {
   "cell_type": "code",
   "execution_count": 80,
   "metadata": {},
   "outputs": [
    {
     "name": "stdout",
     "output_type": "stream",
     "text": [
      "0\n",
      "0 0\n",
      "0 1\n",
      "0 2\n",
      "0 3\n",
      "1\n",
      "1 0\n",
      "1 1\n",
      "1 2\n",
      "1 3\n",
      "2\n",
      "2 0\n",
      "2 1\n",
      "2 2\n",
      "2 3\n"
     ]
    }
   ],
   "source": [
    "for i in range(3):\n",
    "    print(i)\n",
    "    for j in range(4):\n",
    "        print(i,j)"
   ]
  },
  {
   "cell_type": "code",
   "execution_count": 81,
   "metadata": {},
   "outputs": [
    {
     "name": "stdout",
     "output_type": "stream",
     "text": [
      "elem1\n",
      "elem2\n",
      "elem3\n"
     ]
    }
   ],
   "source": [
    "list_var = [\"elem1\",\"elem2\",\"elem3\"]\n",
    "for list_elem in list_var:\n",
    "    print(list_elem)"
   ]
  },
  {
   "cell_type": "code",
   "execution_count": 82,
   "metadata": {},
   "outputs": [
    {
     "name": "stdout",
     "output_type": "stream",
     "text": [
      "elem1\n",
      "elem2\n",
      "elem3\n"
     ]
    }
   ],
   "source": [
    "for i in range(len(list_var)):\n",
    "    print(list_var[i])"
   ]
  },
  {
   "cell_type": "code",
   "execution_count": 83,
   "metadata": {},
   "outputs": [
    {
     "name": "stdout",
     "output_type": "stream",
     "text": [
      "0 elem1\n",
      "1 elem2\n",
      "2 elem3\n"
     ]
    }
   ],
   "source": [
    "# use the enumerate to create pairs of index value\n",
    "for i, list_elem in enumerate(list_var):\n",
    "    print(i, list_var[i])"
   ]
  },
  {
   "cell_type": "code",
   "execution_count": 87,
   "metadata": {},
   "outputs": [
    {
     "name": "stdout",
     "output_type": "stream",
     "text": [
      "{'ElEm2', 'ElEm1', 'ElEm3'}\n"
     ]
    }
   ],
   "source": [
    "elem_set = set()\n",
    "list_var = [\"elem1\",\"elem2\",\"elem3\"]\n",
    "for list_elem in list_var:\n",
    "    elem_set.add(list_elem.replace(\"e\",\"E\"))\n",
    "print(elem_set)"
   ]
  },
  {
   "cell_type": "code",
   "execution_count": 88,
   "metadata": {},
   "outputs": [
    {
     "name": "stdout",
     "output_type": "stream",
     "text": [
      "{'ElEm1'}\n",
      "{'ElEm2', 'ElEm1'}\n",
      "{'ElEm2', 'ElEm1', 'ElEm3'}\n"
     ]
    }
   ],
   "source": [
    "elem_set = set()\n",
    "list_var = [\"elem1\",\"elem2\",\"elem3\"]\n",
    "for list_elem in list_var:\n",
    "    elem_set.add(list_elem.replace(\"e\",\"E\"))\n",
    "    print(elem_set)"
   ]
  },
  {
   "cell_type": "code",
   "execution_count": 94,
   "metadata": {},
   "outputs": [
    {
     "ename": "TypeError",
     "evalue": "'set' object is not subscriptable",
     "output_type": "error",
     "traceback": [
      "\u001b[0;31m---------------------------------------------------------------------------\u001b[0m",
      "\u001b[0;31mTypeError\u001b[0m                                 Traceback (most recent call last)",
      "\u001b[0;32m<ipython-input-94-2fc7106dcdc5>\u001b[0m in \u001b[0;36m<module>\u001b[0;34m\u001b[0m\n\u001b[0;32m----> 1\u001b[0;31m \u001b[0melem_set\u001b[0m\u001b[0;34m[\u001b[0m\u001b[0;36m0\u001b[0m\u001b[0;34m]\u001b[0m\u001b[0;34m\u001b[0m\u001b[0;34m\u001b[0m\u001b[0m\n\u001b[0m",
      "\u001b[0;31mTypeError\u001b[0m: 'set' object is not subscriptable"
     ]
    }
   ],
   "source": [
    "elem_set[0]"
   ]
  },
  {
   "cell_type": "markdown",
   "metadata": {},
   "source": [
    "#### <font color = \"red\">Demo</font> \n",
    "Codons are sequences of three nucleotides<br>\n",
    "Nucleotides are: 'A', 'C', 'G', 'T'<br>\n",
    "Write code that outputs all possible combinations of codons<br>\n",
    "Then add a condition to display only the ones that have the group 'AC'"
   ]
  },
  {
   "cell_type": "code",
   "execution_count": 93,
   "metadata": {},
   "outputs": [
    {
     "name": "stdout",
     "output_type": "stream",
     "text": [
      "AAC\n",
      "ACA\n",
      "ACC\n",
      "ACG\n",
      "ACT\n",
      "CAC\n",
      "GAC\n",
      "TAC\n"
     ]
    }
   ],
   "source": [
    "nucleotides = ('A', 'C', 'G', 'T')\n",
    "for n1 in nucleotides:\n",
    "    #print(n1)\n",
    "    for n2 in nucleotides:\n",
    "        for n3 in nucleotides:\n",
    "            codon = n1+n2+n3\n",
    "            if \"AC\" in codon:\n",
    "                print(codon)"
   ]
  },
  {
   "cell_type": "markdown",
   "metadata": {},
   "source": [
    "<b>Think of a repetitive case when you could not use a for loop readily</b>"
   ]
  },
  {
   "cell_type": "markdown",
   "metadata": {},
   "source": [
    "### while: the repetitive control structure with unkown number of steps"
   ]
  },
  {
   "cell_type": "markdown",
   "metadata": {},
   "source": [
    "loop stopped by a condition\n",
    "\n",
    "<b>while loops make it easy to cause an 'infinite loop'</b>"
   ]
  },
  {
   "cell_type": "markdown",
   "metadata": {},
   "source": [
    "```python\n",
    "while condition:\n",
    "    statements\n",
    "```"
   ]
  },
  {
   "cell_type": "code",
   "execution_count": 99,
   "metadata": {},
   "outputs": [
    {
     "name": "stdout",
     "output_type": "stream",
     "text": [
      "Step 1\n",
      "Step 2\n",
      "Step 3\n",
      "Step 4\n",
      "Step 5\n",
      "Step 6\n",
      "Step 7\n",
      "Step 8\n",
      "Step 9\n",
      "10\n"
     ]
    }
   ],
   "source": [
    "# while counting steps\n",
    "step = 1\n",
    "while step < 10:\n",
    "    print('Step ' + str(step))\n",
    "    step = step + 1\n",
    "print(step)"
   ]
  },
  {
   "cell_type": "code",
   "execution_count": 101,
   "metadata": {},
   "outputs": [
    {
     "name": "stdin",
     "output_type": "stream",
     "text": [
      " 1\n"
     ]
    },
    {
     "name": "stdout",
     "output_type": "stream",
     "text": [
      "True 1 Lower than or equal to 10\n"
     ]
    },
    {
     "name": "stdin",
     "output_type": "stream",
     "text": [
      " 4\n"
     ]
    },
    {
     "name": "stdout",
     "output_type": "stream",
     "text": [
      "True 4 Lower than or equal to 10\n"
     ]
    },
    {
     "name": "stdin",
     "output_type": "stream",
     "text": [
      " 30\n"
     ]
    },
    {
     "name": "stdout",
     "output_type": "stream",
     "text": [
      "True 30 Greater than 10\n"
     ]
    }
   ],
   "source": [
    "# while testing input value\n",
    "cond = True\n",
    "while cond:\n",
    "    value = int(input()) \n",
    "    if value > 10:\n",
    "        print(cond, value, 'Greater than 10')\n",
    "    else:\n",
    "        print(cond, value, 'Lower than or equal to 10')\n",
    "    cond = (value <= 10)"
   ]
  },
  {
   "cell_type": "code",
   "execution_count": 102,
   "metadata": {},
   "outputs": [
    {
     "data": {
      "text/plain": [
       "False"
      ]
     },
     "execution_count": 102,
     "metadata": {},
     "output_type": "execute_result"
    }
   ],
   "source": [
    "cond"
   ]
  },
  {
   "cell_type": "markdown",
   "metadata": {},
   "source": [
    "```python\n",
    "# Infinite loop\n",
    "cond = True\n",
    "while cond:\n",
    "    print('Infinite loop')\n",
    "```"
   ]
  },
  {
   "cell_type": "markdown",
   "metadata": {},
   "source": [
    "#### <font color = \"red\">Demo</font> \n",
    "Assign a variable sequence_length the value 100 <br>\n",
    "Substract powers of 2 (2, 4, 8, 16,...) until the value drops below 0<br>\n",
    "Print the power of 2 used in tha last substraction."
   ]
  },
  {
   "cell_type": "code",
   "execution_count": null,
   "metadata": {},
   "outputs": [],
   "source": []
  },
  {
   "cell_type": "markdown",
   "metadata": {},
   "source": [
    "### More control statements"
   ]
  },
  {
   "cell_type": "markdown",
   "metadata": {},
   "source": [
    "Control statements are special structures that have control behavior. \n",
    "They can be represented by a keyword:\n",
    "\n",
    "```python\n",
    "pass\n",
    "break\n",
    "continue\n",
    "```"
   ]
  },
  {
   "cell_type": "markdown",
   "metadata": {},
   "source": [
    "<b>pass: do nothing</b>"
   ]
  },
  {
   "cell_type": "code",
   "execution_count": null,
   "metadata": {},
   "outputs": [],
   "source": [
    "value = 20\n",
    "if value == 20:\n",
    "    pass"
   ]
  },
  {
   "cell_type": "markdown",
   "metadata": {},
   "source": [
    "<b>break: stops loops"
   ]
  },
  {
   "cell_type": "markdown",
   "metadata": {},
   "source": [
    "<b>break: allows the user to stop the closest loop</b>"
   ]
  },
  {
   "cell_type": "code",
   "execution_count": null,
   "metadata": {},
   "outputs": [],
   "source": [
    "# while break - it already has a condition that stops it but ...\n",
    "cond = True\n",
    "i = 0\n",
    "while cond:\n",
    "    if i == 3:\n",
    "        break\n",
    "    else:\n",
    "        print(i)\n",
    "        i = i + 1"
   ]
  },
  {
   "cell_type": "code",
   "execution_count": null,
   "metadata": {},
   "outputs": [],
   "source": [
    "# for break - kind of makes it a while\n",
    "for i in range(10):\n",
    "    if i==3:\n",
    "        break\n",
    "    else:\n",
    "        print(i)"
   ]
  },
  {
   "cell_type": "markdown",
   "metadata": {},
   "source": [
    "<b>continue: just continue looping</b>"
   ]
  },
  {
   "cell_type": "markdown",
   "metadata": {},
   "source": [
    "Forces the loop to move on to the next item, skipping anything after it (that is in the loop) "
   ]
  },
  {
   "cell_type": "code",
   "execution_count": null,
   "metadata": {},
   "outputs": [],
   "source": [
    "# Continue example\n",
    "for i in range(10):\n",
    "    if i > 3 and i < 7:\n",
    "        continue\n",
    "    else:\n",
    "        print(i)\n",
    "    print('This statement gets executed')"
   ]
  },
  {
   "cell_type": "code",
   "execution_count": null,
   "metadata": {},
   "outputs": [],
   "source": []
  },
  {
   "cell_type": "code",
   "execution_count": null,
   "metadata": {},
   "outputs": [],
   "source": []
  },
  {
   "cell_type": "code",
   "execution_count": null,
   "metadata": {},
   "outputs": [],
   "source": []
  },
  {
   "cell_type": "markdown",
   "metadata": {},
   "source": [
    "_____________\n",
    "### Functions"
   ]
  },
  {
   "cell_type": "markdown",
   "metadata": {},
   "source": [
    "Think of functions like the **recipe of a cake**. They start with a title (definition). They often require some ingredients (arguments). They need step-wise instructions (code). And, at the end, all is put together in a delicious cake (returned data)."
   ]
  },
  {
   "cell_type": "markdown",
   "metadata": {},
   "source": [
    "Additionally, **functions are the easiest way to be efficiently lazy**.\n",
    "The code is easier to understand and reusable."
   ]
  },
  {
   "cell_type": "markdown",
   "metadata": {},
   "source": [
    "### Function Definition"
   ]
  },
  {
   "cell_type": "markdown",
   "metadata": {},
   "source": [
    "```python\n",
    "def function_name(arg1, arg2, darg=None):\n",
    "    # instructions to compute result\n",
    "    return result\n",
    "```"
   ]
  },
  {
   "cell_type": "markdown",
   "metadata": {},
   "source": [
    "* Each function should have a name. This is declared by using the `def` keyword\n",
    "* A function doesn't need to have arguments to work\n",
    "* The collection of arguments for a given function is called a **signature**\n",
    "* The function works within its own ***scope*** unless it is using something that was passed to it or is global\n",
    "* `return` statments exit the function while passing on the data\n",
    "* **Defining a function does not run a function**. \n",
    "* To run a function, it must be called using `([args])` after the function name"
   ]
  },
  {
   "cell_type": "markdown",
   "metadata": {},
   "source": [
    "### Function Call - running a function"
   ]
  },
  {
   "cell_type": "markdown",
   "metadata": {},
   "source": [
    "```python\n",
    "function_result = function_name(val1, val2, dval)\n",
    "```"
   ]
  },
  {
   "cell_type": "markdown",
   "metadata": {},
   "source": [
    "---\n",
    "### Function Examples"
   ]
  },
  {
   "cell_type": "code",
   "execution_count": null,
   "metadata": {},
   "outputs": [],
   "source": [
    "# A function that does nothing\n",
    "def do_pass():\n",
    "    pass\n",
    "\n",
    "do_pass()"
   ]
  },
  {
   "cell_type": "code",
   "execution_count": null,
   "metadata": {},
   "outputs": [],
   "source": [
    "def do_sum():\n",
    "    return 5 + 3\n",
    "\n",
    "do_sum()"
   ]
  },
  {
   "cell_type": "code",
   "execution_count": null,
   "metadata": {},
   "outputs": [],
   "source": [
    "# function arguments - internal variables\n",
    "def do_sum(x, y):\n",
    "    return x + y\n",
    "\n",
    "# number and order of arguments is important \n",
    "# followed based on the funtion definition\n",
    "do_sum(5,3)"
   ]
  },
  {
   "cell_type": "code",
   "execution_count": null,
   "metadata": {},
   "outputs": [],
   "source": [
    "do_sum(4,6)"
   ]
  },
  {
   "cell_type": "code",
   "execution_count": null,
   "metadata": {},
   "outputs": [],
   "source": [
    "do_sum(y = 3, x = 7)"
   ]
  },
  {
   "cell_type": "code",
   "execution_count": null,
   "metadata": {},
   "outputs": [],
   "source": [
    "do_sum(\"test\",\"sum\")"
   ]
  },
  {
   "cell_type": "code",
   "execution_count": null,
   "metadata": {},
   "outputs": [],
   "source": [
    "# external variables\n",
    "int_var1 = 10\n",
    "int_var2 = 20\n",
    "do_sum(int_var1, int_var2)"
   ]
  },
  {
   "cell_type": "code",
   "execution_count": null,
   "metadata": {},
   "outputs": [],
   "source": [
    "do_sum(5)"
   ]
  },
  {
   "cell_type": "code",
   "execution_count": null,
   "metadata": {},
   "outputs": [],
   "source": [
    "# function arguments - internal variables\n",
    "def do_sum(x = 3, y =5):\n",
    "    return x + y\n",
    "\n",
    "do_sum()"
   ]
  },
  {
   "cell_type": "code",
   "execution_count": null,
   "metadata": {},
   "outputs": [],
   "source": [
    "do_sum(5)"
   ]
  },
  {
   "cell_type": "code",
   "execution_count": null,
   "metadata": {},
   "outputs": [],
   "source": [
    "# function arguments - default values\n",
    "def do_sum(x = 3, y = None):\n",
    "    if y == None:\n",
    "        return x\n",
    "    else:\n",
    "        return x + y\n",
    "\n",
    "do_sum(5)"
   ]
  },
  {
   "cell_type": "code",
   "execution_count": null,
   "metadata": {},
   "outputs": [],
   "source": [
    "# parsing files\n",
    "def parse_line(line):\n",
    "    return line.strip().split(\" \")\n",
    "\n",
    "with open(\"test.txt\",'r') as test_file:\n",
    "    line = test_file.readline()\n",
    "    while (line != \"\"):\n",
    "        print(parse_line(line))\n",
    "        line = test_file.readline()"
   ]
  },
  {
   "cell_type": "markdown",
   "metadata": {},
   "source": [
    "\n",
    "### Function Scope\n",
    "What is in a function, is not available outside it"
   ]
  },
  {
   "cell_type": "code",
   "execution_count": null,
   "metadata": {},
   "outputs": [],
   "source": [
    "def do_product():\n",
    "    var1 = 2\n",
    "    print(var1)\n",
    "    var2 = 3\n",
    "    return var1 * var2\n",
    "\n",
    "do_product()"
   ]
  },
  {
   "cell_type": "code",
   "execution_count": null,
   "metadata": {},
   "outputs": [],
   "source": [
    "print(var1)"
   ]
  },
  {
   "cell_type": "code",
   "execution_count": null,
   "metadata": {},
   "outputs": [],
   "source": [
    "var1 = do_product()\n",
    "var1"
   ]
  },
  {
   "cell_type": "code",
   "execution_count": null,
   "metadata": {},
   "outputs": [],
   "source": [
    "# string patterns with placeholders\n",
    "print(f'Value of var1: {var1}')"
   ]
  },
  {
   "cell_type": "markdown",
   "metadata": {},
   "source": [
    "Can anyone describe scope in their own words?"
   ]
  },
  {
   "cell_type": "markdown",
   "metadata": {},
   "source": [
    "Let us try to do some shopping"
   ]
  },
  {
   "cell_type": "code",
   "execution_count": null,
   "metadata": {},
   "outputs": [],
   "source": [
    "budget = 100\n",
    "price = 10\n",
    "\n",
    "# place order\n",
    "while (budget >= price):\n",
    "    print(\"Orderred an item\")\n",
    "    budget = budget - price\n",
    "print(\"DONE\")"
   ]
  },
  {
   "cell_type": "code",
   "execution_count": null,
   "metadata": {},
   "outputs": [],
   "source": [
    "#recursive funtion - function that calls itself\n",
    "make_order(budget, price)\n",
    "def make_order(budget, price):\n",
    "    if budget>=price:\n",
    "        print(\"Orderred an item\")\n",
    "        make_order(budget-price, price)\n",
    "    else:\n",
    "        print(\"DONE\")"
   ]
  },
  {
   "cell_type": "markdown",
   "metadata": {},
   "source": [
    "### <font color = \"red\">Exercise</font>  \n",
    "Write a function the computes the number of each of the 4 nucleotides (\"A\",\"C\",\"G\",\"T\") in a given sequence"
   ]
  },
  {
   "cell_type": "code",
   "execution_count": null,
   "metadata": {},
   "outputs": [],
   "source": []
  },
  {
   "cell_type": "markdown",
   "metadata": {},
   "source": [
    "_____\n",
    "\n",
    "### Input/Output and File Handling"
   ]
  },
  {
   "cell_type": "code",
   "execution_count": null,
   "metadata": {},
   "outputs": [],
   "source": [
    "# reading user input: the input() function\n",
    "# reads text, evaluates expression\n",
    "res = input()\n",
    "while res != \"STOP\":\n",
    "    print(\"input\", res)\n",
    "    res = input()"
   ]
  },
  {
   "cell_type": "markdown",
   "metadata": {},
   "source": [
    "File is a named location on disk to store related information <BR>\n",
    "It is used to permanently store data in a non-volatile memory (e.g. hard disk)<br>\n",
    "https://www.programiz.com/python-programming/file-operation <br><br>\n",
    "#### open – open a file for reading or writing<br>\n",
    "    \n",
    "```python\n",
    "open(file, mode='r', buffering=-1, encoding=None, errors=None, newline=None, closefd=True, opener=None)\n",
    "  \n",
    "fileObj = open(fileName, ‘r’) # open file for reading, r+\n",
    "fileObj = open(fileName, ‘w’) # open file for writing, w+\n",
    "fileObj = open(fileName, ‘a’) # open file for  appending, a+\n",
    "```\n",
    "(Note: fileName must be a string or reference to one)\n",
    "\n",
    "The file object is iterable by line\n"
   ]
  },
  {
   "cell_type": "code",
   "execution_count": null,
   "metadata": {},
   "outputs": [],
   "source": [
    "help(open)"
   ]
  },
  {
   "cell_type": "markdown",
   "metadata": {},
   "source": [
    "<b>Write</b>"
   ]
  },
  {
   "cell_type": "code",
   "execution_count": null,
   "metadata": {},
   "outputs": [],
   "source": [
    "# open file and write lines into a file\n",
    "test_file = open(\"test.txt\", mode = \"w\")\n",
    "test_file.write(\"Writing some text.\\n\")\n",
    "test_file.write(\"Writing another line.\")\n",
    "test_file.close()"
   ]
  },
  {
   "cell_type": "code",
   "execution_count": null,
   "metadata": {},
   "outputs": [],
   "source": [
    "for elem in dir(test_file):\n",
    "    if \"_\" not in elem:\n",
    "        print(elem)"
   ]
  },
  {
   "cell_type": "markdown",
   "metadata": {},
   "source": [
    "<b>Close file</b>"
   ]
  },
  {
   "cell_type": "code",
   "execution_count": null,
   "metadata": {},
   "outputs": [],
   "source": [
    "# close()\n",
    "help(test_file.close)\n"
   ]
  },
  {
   "cell_type": "code",
   "execution_count": null,
   "metadata": {},
   "outputs": [],
   "source": []
  },
  {
   "cell_type": "markdown",
   "metadata": {},
   "source": [
    "<b>Read</b>"
   ]
  },
  {
   "cell_type": "code",
   "execution_count": null,
   "metadata": {},
   "outputs": [],
   "source": [
    "# open file and read file contents\n",
    "test_file = open(\"test.txt\", \"r\")\n",
    "res = test_file.read()\n",
    "print(res)\n",
    "test_file.close()\n",
    "\n"
   ]
  },
  {
   "cell_type": "markdown",
   "metadata": {},
   "source": [
    "<b>Read line</b>"
   ]
  },
  {
   "cell_type": "code",
   "execution_count": null,
   "metadata": {},
   "outputs": [],
   "source": [
    "test_file = open(\"test.txt\", \"r\")\n",
    "res = test_file.readlines()\n",
    "print(res)\n",
    "test_file.close()"
   ]
  },
  {
   "cell_type": "markdown",
   "metadata": {},
   "source": [
    "<b>Go at position</b>"
   ]
  },
  {
   "cell_type": "code",
   "execution_count": null,
   "metadata": {},
   "outputs": [],
   "source": [
    "# seek\n",
    "test_file = open(\"test.txt\", \"r\")\n",
    "test_file.seek(10)\n",
    "res = test_file.readline()\n",
    "print(res)\n",
    "print(test_file.tell())\n",
    "test_file.close()"
   ]
  },
  {
   "cell_type": "markdown",
   "metadata": {},
   "source": [
    "<b>Return current position</b>"
   ]
  },
  {
   "cell_type": "code",
   "execution_count": null,
   "metadata": {},
   "outputs": [],
   "source": [
    "# tell\n"
   ]
  },
  {
   "cell_type": "markdown",
   "metadata": {},
   "source": [
    "### Context manager"
   ]
  },
  {
   "cell_type": "markdown",
   "metadata": {},
   "source": [
    "<b>with: give code context</b>"
   ]
  },
  {
   "cell_type": "markdown",
   "metadata": {},
   "source": [
    "The special part about with is when it is paired with file handling or database access functionality"
   ]
  },
  {
   "cell_type": "code",
   "execution_count": null,
   "metadata": {},
   "outputs": [],
   "source": [
    "# Without with\n",
    "test_file = open(\"test.txt\",'r')\n",
    "print(test_file.read())\n",
    "test_file.close()"
   ]
  },
  {
   "cell_type": "code",
   "execution_count": null,
   "metadata": {},
   "outputs": [],
   "source": [
    "# With with :)\n",
    "with open(\"test.txt\",'r') as test_file:\n",
    "    print(test_file.read())"
   ]
  },
  {
   "cell_type": "markdown",
   "metadata": {},
   "source": [
    "The file is opened and processed. <br>\n",
    "As soon as you exit the with statement, <b>the file is closed automatically</b>."
   ]
  },
  {
   "cell_type": "markdown",
   "metadata": {},
   "source": [
    "### <font color = \"red\">Exercise</font>:   \n",
    "\n",
    "Open the file and add 10 lines in a for loop.\n",
    "Line index\n",
    "Line 0\n",
    "Line 1"
   ]
  },
  {
   "cell_type": "code",
   "execution_count": null,
   "metadata": {},
   "outputs": [],
   "source": []
  },
  {
   "cell_type": "code",
   "execution_count": null,
   "metadata": {},
   "outputs": [],
   "source": []
  },
  {
   "cell_type": "markdown",
   "metadata": {},
   "source": [
    "https://www.tutorialspoint.com/python/python_files_io.htm\n",
    "https://www.tutorialspoint.com/python/file_methods.htm"
   ]
  }
 ],
 "metadata": {
  "kernelspec": {
   "display_name": "Python 3",
   "language": "python",
   "name": "python3"
  },
  "language_info": {
   "codemirror_mode": {
    "name": "ipython",
    "version": 3
   },
   "file_extension": ".py",
   "mimetype": "text/x-python",
   "name": "python",
   "nbconvert_exporter": "python",
   "pygments_lexer": "ipython3",
   "version": "3.8.3"
  }
 },
 "nbformat": 4,
 "nbformat_minor": 4
}
