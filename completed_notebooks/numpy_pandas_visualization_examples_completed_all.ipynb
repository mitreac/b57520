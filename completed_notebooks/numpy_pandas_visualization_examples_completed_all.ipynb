{
 "cells": [
  {
   "cell_type": "markdown",
   "metadata": {},
   "source": [
    "## NumPy, Pandas & Visualization - examples\n",
    "### BIOINF 575 - Fall 2020\n",
    "\n"
   ]
  },
  {
   "cell_type": "markdown",
   "metadata": {},
   "source": [
    "_____\n",
    "\n",
    "<img src = \"https://blog.thedataincubator.com/wp-content/uploads/2018/02/Numpypandas.png\" width = 300/>\n"
   ]
  },
  {
   "cell_type": "markdown",
   "metadata": {},
   "source": [
    "____\n",
    "#### Array product - vectorized operations"
   ]
  },
  {
   "cell_type": "code",
   "execution_count": 1,
   "metadata": {},
   "outputs": [],
   "source": [
    "import numpy as np\n",
    "import pandas as pd"
   ]
  },
  {
   "cell_type": "code",
   "execution_count": 2,
   "metadata": {},
   "outputs": [],
   "source": [
    "# dir(np)"
   ]
  },
  {
   "cell_type": "code",
   "execution_count": 3,
   "metadata": {},
   "outputs": [],
   "source": [
    "mat1 = np.arange(1,7).reshape(2,3)\n",
    "mat2 = np.array([[10, 11], [20, 21], [30, 31]])"
   ]
  },
  {
   "cell_type": "code",
   "execution_count": 4,
   "metadata": {},
   "outputs": [
    {
     "data": {
      "text/plain": [
       "array([[1, 2, 3],\n",
       "       [4, 5, 6]])"
      ]
     },
     "execution_count": 4,
     "metadata": {},
     "output_type": "execute_result"
    }
   ],
   "source": [
    "mat1"
   ]
  },
  {
   "cell_type": "code",
   "execution_count": 5,
   "metadata": {},
   "outputs": [
    {
     "data": {
      "text/plain": [
       "array([[1, 4],\n",
       "       [2, 5],\n",
       "       [3, 6]])"
      ]
     },
     "execution_count": 5,
     "metadata": {},
     "output_type": "execute_result"
    }
   ],
   "source": [
    "mat1.T"
   ]
  },
  {
   "cell_type": "code",
   "execution_count": 6,
   "metadata": {},
   "outputs": [
    {
     "data": {
      "text/plain": [
       "array([[10, 11],\n",
       "       [20, 21],\n",
       "       [30, 31]])"
      ]
     },
     "execution_count": 6,
     "metadata": {},
     "output_type": "execute_result"
    }
   ],
   "source": [
    "mat2"
   ]
  },
  {
   "cell_type": "code",
   "execution_count": 7,
   "metadata": {},
   "outputs": [
    {
     "data": {
      "text/plain": [
       "array([[ 10,  44],\n",
       "       [ 40, 105],\n",
       "       [ 90, 186]])"
      ]
     },
     "execution_count": 7,
     "metadata": {},
     "output_type": "execute_result"
    }
   ],
   "source": [
    "mat1.T * mat2"
   ]
  },
  {
   "cell_type": "code",
   "execution_count": 8,
   "metadata": {},
   "outputs": [
    {
     "data": {
      "text/plain": [
       "array([[110, 111],\n",
       "       [120, 121],\n",
       "       [130, 131]])"
      ]
     },
     "execution_count": 8,
     "metadata": {},
     "output_type": "execute_result"
    }
   ],
   "source": [
    "mat2 + 100"
   ]
  },
  {
   "cell_type": "markdown",
   "metadata": {},
   "source": [
    "_____\n",
    "#### Matrix multiplication\n",
    "\n",
    "<img src = \"https://miro.medium.com/max/1400/1*YGcMQSr0ge_DGn96WnEkZw.png\" width = 370/>"
   ]
  },
  {
   "cell_type": "code",
   "execution_count": 9,
   "metadata": {},
   "outputs": [
    {
     "data": {
      "text/plain": [
       "array([[140, 146],\n",
       "       [320, 335]])"
      ]
     },
     "execution_count": 9,
     "metadata": {},
     "output_type": "execute_result"
    }
   ],
   "source": [
    "# matrix multiplication \n",
    "\n",
    "mat1.dot(mat2)\n"
   ]
  },
  {
   "cell_type": "code",
   "execution_count": 10,
   "metadata": {},
   "outputs": [
    {
     "data": {
      "text/plain": [
       "array([[140, 146],\n",
       "       [320, 335]])"
      ]
     },
     "execution_count": 10,
     "metadata": {},
     "output_type": "execute_result"
    }
   ],
   "source": [
    "# matrix multiplication - more recently\n",
    "\n",
    "mat1@mat2\n"
   ]
  },
  {
   "cell_type": "markdown",
   "metadata": {},
   "source": [
    "___\n",
    "\n",
    "#### Combining arrays into a larger array - vstack, hstack, vsplit, hsplit"
   ]
  },
  {
   "cell_type": "code",
   "execution_count": 11,
   "metadata": {},
   "outputs": [
    {
     "data": {
      "text/plain": [
       "array([[1, 2, 3],\n",
       "       [4, 5, 6]])"
      ]
     },
     "execution_count": 11,
     "metadata": {},
     "output_type": "execute_result"
    }
   ],
   "source": [
    "##########\n",
    "\n",
    "mat1"
   ]
  },
  {
   "cell_type": "code",
   "execution_count": 12,
   "metadata": {},
   "outputs": [
    {
     "data": {
      "text/plain": [
       "array([[10, 11],\n",
       "       [20, 21],\n",
       "       [30, 31]])"
      ]
     },
     "execution_count": 12,
     "metadata": {},
     "output_type": "execute_result"
    }
   ],
   "source": [
    "mat2"
   ]
  },
  {
   "cell_type": "code",
   "execution_count": 13,
   "metadata": {},
   "outputs": [
    {
     "data": {
      "text/plain": [
       "array([[10, 20, 30],\n",
       "       [11, 21, 31]])"
      ]
     },
     "execution_count": 13,
     "metadata": {},
     "output_type": "execute_result"
    }
   ],
   "source": [
    "mat2.T"
   ]
  },
  {
   "cell_type": "code",
   "execution_count": 14,
   "metadata": {},
   "outputs": [
    {
     "data": {
      "text/plain": [
       "array([[ 1,  2,  3],\n",
       "       [ 4,  5,  6],\n",
       "       [10, 20, 30],\n",
       "       [11, 21, 31]])"
      ]
     },
     "execution_count": 14,
     "metadata": {},
     "output_type": "execute_result"
    }
   ],
   "source": [
    "# stacking arrays together - vertically\n",
    "vmatrix = np.vstack((mat1, mat2.T))\n",
    "vmatrix"
   ]
  },
  {
   "cell_type": "code",
   "execution_count": 15,
   "metadata": {},
   "outputs": [
    {
     "data": {
      "text/plain": [
       "array([[ 1,  4, 10, 11],\n",
       "       [ 2,  5, 20, 21],\n",
       "       [ 3,  6, 30, 31]])"
      ]
     },
     "execution_count": 15,
     "metadata": {},
     "output_type": "execute_result"
    }
   ],
   "source": [
    "# stacking arrays together - horizontally\n",
    "hmatrix = np.hstack((mat1.T,mat2))\n",
    "hmatrix"
   ]
  },
  {
   "cell_type": "code",
   "execution_count": 16,
   "metadata": {},
   "outputs": [
    {
     "data": {
      "text/plain": [
       "array([[1, 4],\n",
       "       [2, 5],\n",
       "       [3, 6]])"
      ]
     },
     "execution_count": 16,
     "metadata": {},
     "output_type": "execute_result"
    }
   ],
   "source": [
    "mat1.T"
   ]
  },
  {
   "cell_type": "code",
   "execution_count": 17,
   "metadata": {},
   "outputs": [
    {
     "data": {
      "text/plain": [
       "array([[10, 11],\n",
       "       [20, 21],\n",
       "       [30, 31]])"
      ]
     },
     "execution_count": 17,
     "metadata": {},
     "output_type": "execute_result"
    }
   ],
   "source": [
    "mat2"
   ]
  },
  {
   "cell_type": "markdown",
   "metadata": {},
   "source": [
    "#### <b>More matrix computation</b> - basic aggregate functions are available - min, max, sum, mean, std"
   ]
  },
  {
   "cell_type": "code",
   "execution_count": 18,
   "metadata": {},
   "outputs": [
    {
     "data": {
      "text/plain": [
       "array([[1, 2, 3],\n",
       "       [4, 5, 6]])"
      ]
     },
     "execution_count": 18,
     "metadata": {},
     "output_type": "execute_result"
    }
   ],
   "source": [
    "# Let's look at our matrix again\n",
    "mat1"
   ]
  },
  {
   "cell_type": "markdown",
   "metadata": {},
   "source": [
    "#### Use the axis argument to compute mean for each column or row\n",
    "    - axis = 0 - columns\n",
    "    - axis = 1 - rows"
   ]
  },
  {
   "cell_type": "code",
   "execution_count": 19,
   "metadata": {},
   "outputs": [
    {
     "data": {
      "text/plain": [
       "array([4, 5, 6])"
      ]
     },
     "execution_count": 19,
     "metadata": {},
     "output_type": "execute_result"
    }
   ],
   "source": [
    "# compute max for each column \n",
    "# using the array max method (np.ndarray.max)\n",
    "\n",
    "mat1.max(axis = 0)\n"
   ]
  },
  {
   "cell_type": "code",
   "execution_count": 20,
   "metadata": {},
   "outputs": [
    {
     "data": {
      "text/plain": [
       "array([3, 6])"
      ]
     },
     "execution_count": 20,
     "metadata": {},
     "output_type": "execute_result"
    }
   ],
   "source": [
    "mat1.max(axis = 1)"
   ]
  },
  {
   "cell_type": "code",
   "execution_count": 21,
   "metadata": {},
   "outputs": [
    {
     "data": {
      "text/plain": [
       "array([ 6, 15])"
      ]
     },
     "execution_count": 21,
     "metadata": {},
     "output_type": "execute_result"
    }
   ],
   "source": [
    "# compute sum of rows using the np.sum function\n",
    "\n",
    "np.sum(mat1, axis = 1)"
   ]
  },
  {
   "cell_type": "code",
   "execution_count": 22,
   "metadata": {},
   "outputs": [
    {
     "data": {
      "text/plain": [
       "array([ 6, 15])"
      ]
     },
     "execution_count": 22,
     "metadata": {},
     "output_type": "execute_result"
    }
   ],
   "source": [
    "mat1.sum(axis = 1)"
   ]
  },
  {
   "cell_type": "code",
   "execution_count": 23,
   "metadata": {},
   "outputs": [
    {
     "data": {
      "text/plain": [
       "21"
      ]
     },
     "execution_count": 23,
     "metadata": {},
     "output_type": "execute_result"
    }
   ],
   "source": [
    "mat1.sum()"
   ]
  },
  {
   "cell_type": "code",
   "execution_count": 24,
   "metadata": {},
   "outputs": [
    {
     "data": {
      "text/plain": [
       "numpy.ndarray"
      ]
     },
     "execution_count": 24,
     "metadata": {},
     "output_type": "execute_result"
    }
   ],
   "source": [
    "type(mat1)"
   ]
  },
  {
   "cell_type": "code",
   "execution_count": 25,
   "metadata": {},
   "outputs": [],
   "source": [
    "# help(np.ndarray.sum)"
   ]
  },
  {
   "cell_type": "markdown",
   "metadata": {},
   "source": [
    "#### RESOURCES\n",
    "\n",
    "http://scipy-lectures.org/intro/numpy/array_object.html#what-are-numpy-and-numpy-arrays   \n",
    "https://www.python-course.eu/numpy.php   \n",
    "https://numpy.org/devdocs/user/quickstart.html#universal-functions   \n",
    "https://www.geeksforgeeks.org/python-numpy/"
   ]
  },
  {
   "cell_type": "markdown",
   "metadata": {},
   "source": [
    "____ \n",
    "\n",
    "#### [Pandas](https://pandas.pydata.org/) is a high-performance library that makes familiar data structures, like `data.frame` from R, and appropriate data analysis tools available to Python users."
   ]
  },
  {
   "cell_type": "markdown",
   "metadata": {},
   "source": [
    "#### How does pandas work?"
   ]
  },
  {
   "cell_type": "markdown",
   "metadata": {},
   "source": [
    "Pandas is built off of [Numpy](http://www.numpy.org/), and therefore leverages Numpy's C-level speed for its data analysis."
   ]
  },
  {
   "cell_type": "markdown",
   "metadata": {},
   "source": [
    "* Numpy can only make data structures of a single type.\n",
    "* Pandas can use many types. \n",
    "* Think of a table, where each column can be whatever type you want it to be, so long as every item in the column is that same type."
   ]
  },
  {
   "cell_type": "markdown",
   "metadata": {},
   "source": [
    "#### Why use pandas?"
   ]
  },
  {
   "cell_type": "markdown",
   "metadata": {},
   "source": [
    "1. Data munging/wrangling: the cleaning and preprocessing of data\n",
    "2. Loading data into memory from disparate data formats (SQL, CSV, TSV, JSON)"
   ]
  },
  {
   "cell_type": "markdown",
   "metadata": {},
   "source": [
    "___\n",
    "#### 1. `pd.Series` - One-dimensional** labeled array (or vector)"
   ]
  },
  {
   "cell_type": "markdown",
   "metadata": {},
   "source": [
    "```python\n",
    "# Initialization Syntax\n",
    "series = pd.Series(data, index, dtype) \n",
    "```"
   ]
  },
  {
   "cell_type": "markdown",
   "metadata": {},
   "source": [
    "Attributes \n",
    "\n",
    "['T',\n",
    " 'array',\n",
    " 'at',\n",
    " 'axes',\n",
    " 'base',\n",
    " 'data',\n",
    " 'dtype',\n",
    " 'dtypes',\n",
    " 'empty',\n",
    " 'flags',\n",
    " 'ftype',\n",
    " 'ftypes',\n",
    " 'hasnans',\n",
    " 'iat',\n",
    " 'iloc',\n",
    " 'imag',\n",
    " 'index',\n",
    " 'is_monotonic',\n",
    " 'is_monotonic_decreasing',\n",
    " 'is_monotonic_increasing',\n",
    " 'is_unique',\n",
    " 'itemsize',\n",
    " 'ix',\n",
    " 'loc',\n",
    " 'name',\n",
    " 'nbytes',\n",
    " 'ndim',\n",
    " 'plot',\n",
    " 'real',\n",
    " 'shape',\n",
    " 'size',\n",
    " 'strides',\n",
    " 'timetuple',\n",
    " 'values']\n",
    " \n",
    " \n",
    " Methods\n",
    " \n",
    " ['abs',\n",
    " 'add',\n",
    " 'add_prefix',\n",
    " 'add_suffix',\n",
    " 'agg',\n",
    " 'aggregate',\n",
    " 'align',\n",
    " 'all',\n",
    " 'any',\n",
    " 'append',\n",
    " 'apply',\n",
    " 'argmax',\n",
    " 'argmin',\n",
    " 'argsort',\n",
    " 'asfreq',\n",
    " 'asof',\n",
    " 'astype',\n",
    " 'at_time',\n",
    " 'autocorr',\n",
    " 'between',\n",
    " 'between_time',\n",
    " 'bfill',\n",
    " 'bool',\n",
    " 'clip',\n",
    " 'combine',\n",
    " 'combine_first',\n",
    " 'convert_dtypes',\n",
    " 'copy',\n",
    " 'corr',\n",
    " 'count',\n",
    " 'cov',\n",
    " 'cummax',\n",
    " 'cummin',\n",
    " 'cumprod',\n",
    " 'cumsum',\n",
    " 'describe',\n",
    " 'diff',\n",
    " 'div',\n",
    " 'divide',\n",
    " 'divmod',\n",
    " 'dot',\n",
    " 'drop',\n",
    " 'drop_duplicates',\n",
    " 'droplevel',\n",
    " 'dropna',\n",
    " 'duplicated',\n",
    " 'eq',\n",
    " 'equals',\n",
    " 'ewm',\n",
    " 'expanding',\n",
    " 'explode',\n",
    " 'factorize',\n",
    " 'ffill',\n",
    " 'fillna',\n",
    " 'filter',\n",
    " 'first',\n",
    " 'first_valid_index',\n",
    " 'floordiv',\n",
    " 'ge',\n",
    " 'get',\n",
    " 'groupby',\n",
    " 'gt',\n",
    " 'head',\n",
    " 'hist',\n",
    " 'idxmax',\n",
    " 'idxmin',\n",
    " 'infer_objects',\n",
    " 'interpolate',\n",
    " 'isin',\n",
    " 'isna',\n",
    " 'isnull',\n",
    " 'item',\n",
    " 'items',\n",
    " 'iteritems',\n",
    " 'keys',\n",
    " 'kurt',\n",
    " 'kurtosis',\n",
    " 'last',\n",
    " 'last_valid_index',\n",
    " 'le',\n",
    " 'lt',\n",
    " 'mad',\n",
    " 'map',\n",
    " 'mask',\n",
    " 'max',\n",
    " 'mean',\n",
    " 'median',\n",
    " 'memory_usage',\n",
    " 'min',\n",
    " 'mod',\n",
    " 'mode',\n",
    " 'mul',\n",
    " 'multiply',\n",
    " 'ne',\n",
    " 'nlargest',\n",
    " 'notna',\n",
    " 'notnull',\n",
    " 'nsmallest',\n",
    " 'nunique',\n",
    " 'pct_change',\n",
    " 'pipe',\n",
    " 'pop',\n",
    " 'pow',\n",
    " 'prod',\n",
    " 'product',\n",
    " 'quantile',\n",
    " 'radd',\n",
    " 'rank',\n",
    " 'ravel',\n",
    " 'rdiv',\n",
    " 'rdivmod',\n",
    " 'reindex',\n",
    " 'reindex_like',\n",
    " 'rename',\n",
    " 'rename_axis',\n",
    " 'reorder_levels',\n",
    " 'repeat',\n",
    " 'replace',\n",
    " 'resample',\n",
    " 'reset_index',\n",
    " 'rfloordiv',\n",
    " 'rmod',\n",
    " 'rmul',\n",
    " 'rolling',\n",
    " 'round',\n",
    " 'rpow',\n",
    " 'rsub',\n",
    " 'rtruediv',\n",
    " 'sample',\n",
    " 'searchsorted',\n",
    " 'sem',\n",
    " 'set_axis',\n",
    " 'shift',\n",
    " 'skew',\n",
    " 'slice_shift',\n",
    " 'sort_index',\n",
    " 'sort_values',\n",
    " 'squeeze',\n",
    " 'std',\n",
    " 'sub',\n",
    " 'subtract',\n",
    " 'sum',\n",
    " 'swapaxes',\n",
    " 'swaplevel',\n",
    " 'tail',\n",
    " 'take',\n",
    " 'to_clipboard',\n",
    " 'to_csv',\n",
    " 'to_dict',\n",
    " 'to_excel',\n",
    " 'to_frame',\n",
    " 'to_hdf',\n",
    " 'to_json',\n",
    " 'to_latex',\n",
    " 'to_list',\n",
    " 'to_markdown',\n",
    " 'to_numpy',\n",
    " 'to_period',\n",
    " 'to_pickle',\n",
    " 'to_sql',\n",
    " 'to_string',\n",
    " 'to_timestamp',\n",
    " 'to_xarray',\n",
    " 'transform',\n",
    " 'transpose',\n",
    " 'truediv',\n",
    " 'truncate',\n",
    " 'tshift',\n",
    " 'tz_convert',\n",
    " 'tz_localize',\n",
    " 'unique',\n",
    " 'unstack',\n",
    " 'update',\n",
    " 'value_counts',\n",
    " 'var',\n",
    " 'view',\n",
    " 'where',\n",
    " 'xs']"
   ]
  },
  {
   "cell_type": "code",
   "execution_count": 26,
   "metadata": {},
   "outputs": [],
   "source": [
    "import numpy as np\n",
    "import pandas as pd"
   ]
  },
  {
   "cell_type": "code",
   "execution_count": 27,
   "metadata": {},
   "outputs": [
    {
     "data": {
      "text/plain": [
       "EGFR    4\n",
       "IL6     2\n",
       "BRAF    3\n",
       "ABL     2\n",
       "dtype: int64"
      ]
     },
     "execution_count": 27,
     "metadata": {},
     "output_type": "execute_result"
    }
   ],
   "source": [
    "# Create series from dictionary\n",
    "labels = [\"EGFR\",\"IL6\",\"BRAF\",\"ABL\"]\n",
    "values = [4,2,3,2]\n",
    "dict_var = dict(zip(labels, values))\n",
    "new_series = pd.Series(dict_var)\n",
    "new_series"
   ]
  },
  {
   "cell_type": "code",
   "execution_count": 28,
   "metadata": {},
   "outputs": [
    {
     "data": {
      "text/plain": [
       "{'EGFR': 4, 'IL6': 2, 'BRAF': 3, 'ABL': 2}"
      ]
     },
     "execution_count": 28,
     "metadata": {},
     "output_type": "execute_result"
    }
   ],
   "source": [
    "dict_var"
   ]
  },
  {
   "cell_type": "code",
   "execution_count": 29,
   "metadata": {},
   "outputs": [
    {
     "data": {
      "text/plain": [
       "EGFR    4\n",
       "IL6     2\n",
       "dtype: int64"
      ]
     },
     "execution_count": 29,
     "metadata": {},
     "output_type": "execute_result"
    }
   ],
   "source": [
    "# check the first few elements - head, the last few - tail\n",
    "new_series.head(2)"
   ]
  },
  {
   "cell_type": "markdown",
   "metadata": {},
   "source": [
    "#### describe() - Generate descriptive statistics\n",
    "\n"
   ]
  },
  {
   "cell_type": "code",
   "execution_count": 30,
   "metadata": {},
   "outputs": [
    {
     "data": {
      "text/plain": [
       "count    4.000000\n",
       "mean     2.750000\n",
       "std      0.957427\n",
       "min      2.000000\n",
       "25%      2.000000\n",
       "50%      2.500000\n",
       "75%      3.250000\n",
       "max      4.000000\n",
       "dtype: float64"
      ]
     },
     "execution_count": 30,
     "metadata": {},
     "output_type": "execute_result"
    }
   ],
   "source": [
    "# generate descriptive statistics\n",
    "new_series.describe()"
   ]
  },
  {
   "cell_type": "code",
   "execution_count": null,
   "metadata": {},
   "outputs": [],
   "source": []
  },
  {
   "cell_type": "markdown",
   "metadata": {},
   "source": [
    "_____\n",
    "\n",
    "#### 2. `pd.DataFrame` - Multi-dimensional** labeled data structure with columns of *potentially* different types"
   ]
  },
  {
   "cell_type": "markdown",
   "metadata": {},
   "source": [
    "```python\n",
    "# Initialization Syntax\n",
    "df = pd.DataFrame(data, index, columns, dtype)\n",
    "```"
   ]
  },
  {
   "cell_type": "markdown",
   "metadata": {},
   "source": [
    "Attributes\n",
    "\n",
    "['T',\n",
    " 'at',\n",
    " 'axes',\n",
    " 'columns',\n",
    " 'dtypes',\n",
    " 'empty',\n",
    " 'ftypes',\n",
    " 'iat',\n",
    " 'iloc',\n",
    " 'index',\n",
    " 'ix',\n",
    " 'loc',\n",
    " 'ndim',\n",
    " 'plot',\n",
    " 'shape',\n",
    " 'size',\n",
    " 'style',\n",
    " 'timetuple',\n",
    " 'values']"
   ]
  },
  {
   "cell_type": "markdown",
   "metadata": {},
   "source": [
    "___\n",
    "#### <font color = \"green\">Example</font>\n",
    "\n",
    "The file \"GSE22955_small_gene_table.txt\" contains tab-separated data for the normalized gene expresion of about 1200 genes measured for every 3h for 45h to measure the effect of a HER2 inhibitor.   \n",
    "This is a filtered and processed subset of the data available in the Gene Expression Omnibus:   \n",
    "https://www.ncbi.nlm.nih.gov/geo/query/acc.cgi?acc=GSE22955\n"
   ]
  },
  {
   "cell_type": "code",
   "execution_count": 31,
   "metadata": {},
   "outputs": [
    {
     "data": {
      "text/html": [
       "<div>\n",
       "<style scoped>\n",
       "    .dataframe tbody tr th:only-of-type {\n",
       "        vertical-align: middle;\n",
       "    }\n",
       "\n",
       "    .dataframe tbody tr th {\n",
       "        vertical-align: top;\n",
       "    }\n",
       "\n",
       "    .dataframe thead th {\n",
       "        text-align: right;\n",
       "    }\n",
       "</style>\n",
       "<table border=\"1\" class=\"dataframe\">\n",
       "  <thead>\n",
       "    <tr style=\"text-align: right;\">\n",
       "      <th></th>\n",
       "      <th>0</th>\n",
       "      <th>3</th>\n",
       "      <th>6</th>\n",
       "      <th>9</th>\n",
       "      <th>12</th>\n",
       "      <th>15</th>\n",
       "      <th>18</th>\n",
       "      <th>21</th>\n",
       "      <th>24</th>\n",
       "      <th>27</th>\n",
       "      <th>30</th>\n",
       "      <th>33</th>\n",
       "      <th>36</th>\n",
       "      <th>39</th>\n",
       "      <th>42</th>\n",
       "      <th>45</th>\n",
       "    </tr>\n",
       "    <tr>\n",
       "      <th>Symbol</th>\n",
       "      <th></th>\n",
       "      <th></th>\n",
       "      <th></th>\n",
       "      <th></th>\n",
       "      <th></th>\n",
       "      <th></th>\n",
       "      <th></th>\n",
       "      <th></th>\n",
       "      <th></th>\n",
       "      <th></th>\n",
       "      <th></th>\n",
       "      <th></th>\n",
       "      <th></th>\n",
       "      <th></th>\n",
       "      <th></th>\n",
       "      <th></th>\n",
       "    </tr>\n",
       "  </thead>\n",
       "  <tbody>\n",
       "    <tr>\n",
       "      <th>ABCA1</th>\n",
       "      <td>7.497117</td>\n",
       "      <td>8.184737</td>\n",
       "      <td>8.384009</td>\n",
       "      <td>8.654385</td>\n",
       "      <td>8.705771</td>\n",
       "      <td>9.266485</td>\n",
       "      <td>9.097249</td>\n",
       "      <td>8.980061</td>\n",
       "      <td>8.911098</td>\n",
       "      <td>9.377178</td>\n",
       "      <td>9.142381</td>\n",
       "      <td>9.314741</td>\n",
       "      <td>9.622010</td>\n",
       "      <td>9.543455</td>\n",
       "      <td>9.559486</td>\n",
       "      <td>10.094392</td>\n",
       "    </tr>\n",
       "    <tr>\n",
       "      <th>ABCC11</th>\n",
       "      <td>9.681143</td>\n",
       "      <td>9.687135</td>\n",
       "      <td>9.498255</td>\n",
       "      <td>9.357438</td>\n",
       "      <td>9.189169</td>\n",
       "      <td>9.049327</td>\n",
       "      <td>8.976153</td>\n",
       "      <td>8.978854</td>\n",
       "      <td>8.967797</td>\n",
       "      <td>8.912375</td>\n",
       "      <td>8.851690</td>\n",
       "      <td>8.787110</td>\n",
       "      <td>8.679719</td>\n",
       "      <td>8.771382</td>\n",
       "      <td>8.633315</td>\n",
       "      <td>8.703377</td>\n",
       "    </tr>\n",
       "    <tr>\n",
       "      <th>ABCC3</th>\n",
       "      <td>12.834826</td>\n",
       "      <td>12.841947</td>\n",
       "      <td>12.924113</td>\n",
       "      <td>12.810950</td>\n",
       "      <td>12.990568</td>\n",
       "      <td>12.791429</td>\n",
       "      <td>12.410250</td>\n",
       "      <td>12.343846</td>\n",
       "      <td>11.682339</td>\n",
       "      <td>11.369507</td>\n",
       "      <td>11.188391</td>\n",
       "      <td>11.105528</td>\n",
       "      <td>11.343285</td>\n",
       "      <td>11.151681</td>\n",
       "      <td>11.214401</td>\n",
       "      <td>10.928790</td>\n",
       "    </tr>\n",
       "    <tr>\n",
       "      <th>ABLIM1</th>\n",
       "      <td>10.786000</td>\n",
       "      <td>10.912505</td>\n",
       "      <td>11.060394</td>\n",
       "      <td>11.091041</td>\n",
       "      <td>11.166662</td>\n",
       "      <td>11.293522</td>\n",
       "      <td>11.355008</td>\n",
       "      <td>11.331177</td>\n",
       "      <td>11.649917</td>\n",
       "      <td>11.622126</td>\n",
       "      <td>11.733842</td>\n",
       "      <td>11.772563</td>\n",
       "      <td>11.909730</td>\n",
       "      <td>11.724674</td>\n",
       "      <td>11.835192</td>\n",
       "      <td>11.720621</td>\n",
       "    </tr>\n",
       "    <tr>\n",
       "      <th>ABP1</th>\n",
       "      <td>7.943247</td>\n",
       "      <td>8.121638</td>\n",
       "      <td>8.293621</td>\n",
       "      <td>8.314716</td>\n",
       "      <td>8.345499</td>\n",
       "      <td>8.414776</td>\n",
       "      <td>8.368459</td>\n",
       "      <td>8.539609</td>\n",
       "      <td>8.649921</td>\n",
       "      <td>8.698824</td>\n",
       "      <td>8.688555</td>\n",
       "      <td>8.762338</td>\n",
       "      <td>9.098345</td>\n",
       "      <td>9.294049</td>\n",
       "      <td>9.323449</td>\n",
       "      <td>9.729671</td>\n",
       "    </tr>\n",
       "    <tr>\n",
       "      <th>...</th>\n",
       "      <td>...</td>\n",
       "      <td>...</td>\n",
       "      <td>...</td>\n",
       "      <td>...</td>\n",
       "      <td>...</td>\n",
       "      <td>...</td>\n",
       "      <td>...</td>\n",
       "      <td>...</td>\n",
       "      <td>...</td>\n",
       "      <td>...</td>\n",
       "      <td>...</td>\n",
       "      <td>...</td>\n",
       "      <td>...</td>\n",
       "      <td>...</td>\n",
       "      <td>...</td>\n",
       "      <td>...</td>\n",
       "    </tr>\n",
       "    <tr>\n",
       "      <th>ZNF606</th>\n",
       "      <td>8.528510</td>\n",
       "      <td>8.394945</td>\n",
       "      <td>8.560340</td>\n",
       "      <td>8.955600</td>\n",
       "      <td>8.972039</td>\n",
       "      <td>8.858380</td>\n",
       "      <td>8.986870</td>\n",
       "      <td>9.040801</td>\n",
       "      <td>9.199987</td>\n",
       "      <td>9.201530</td>\n",
       "      <td>9.096592</td>\n",
       "      <td>9.201962</td>\n",
       "      <td>9.113082</td>\n",
       "      <td>9.238377</td>\n",
       "      <td>8.999179</td>\n",
       "      <td>9.076324</td>\n",
       "    </tr>\n",
       "    <tr>\n",
       "      <th>ZNF616</th>\n",
       "      <td>9.533892</td>\n",
       "      <td>9.671308</td>\n",
       "      <td>9.998892</td>\n",
       "      <td>10.189743</td>\n",
       "      <td>10.348529</td>\n",
       "      <td>10.293577</td>\n",
       "      <td>10.457835</td>\n",
       "      <td>10.426120</td>\n",
       "      <td>10.290234</td>\n",
       "      <td>10.279000</td>\n",
       "      <td>10.247908</td>\n",
       "      <td>10.289320</td>\n",
       "      <td>10.175219</td>\n",
       "      <td>10.316580</td>\n",
       "      <td>10.406839</td>\n",
       "      <td>10.225305</td>\n",
       "    </tr>\n",
       "    <tr>\n",
       "      <th>ZNF83</th>\n",
       "      <td>9.363751</td>\n",
       "      <td>9.162289</td>\n",
       "      <td>9.199572</td>\n",
       "      <td>9.589662</td>\n",
       "      <td>10.164692</td>\n",
       "      <td>10.039752</td>\n",
       "      <td>10.300014</td>\n",
       "      <td>10.099996</td>\n",
       "      <td>10.102037</td>\n",
       "      <td>9.971016</td>\n",
       "      <td>9.992117</td>\n",
       "      <td>10.033500</td>\n",
       "      <td>10.252678</td>\n",
       "      <td>10.170821</td>\n",
       "      <td>10.269105</td>\n",
       "      <td>9.959197</td>\n",
       "    </tr>\n",
       "    <tr>\n",
       "      <th>ZNFX1</th>\n",
       "      <td>10.854597</td>\n",
       "      <td>10.662256</td>\n",
       "      <td>11.023671</td>\n",
       "      <td>11.415034</td>\n",
       "      <td>11.720743</td>\n",
       "      <td>11.718005</td>\n",
       "      <td>11.795806</td>\n",
       "      <td>11.914836</td>\n",
       "      <td>11.799599</td>\n",
       "      <td>11.675592</td>\n",
       "      <td>11.704008</td>\n",
       "      <td>11.648020</td>\n",
       "      <td>11.661703</td>\n",
       "      <td>11.655686</td>\n",
       "      <td>11.850343</td>\n",
       "      <td>11.629349</td>\n",
       "    </tr>\n",
       "    <tr>\n",
       "      <th>ZWINT</th>\n",
       "      <td>10.024858</td>\n",
       "      <td>9.905496</td>\n",
       "      <td>9.976799</td>\n",
       "      <td>10.133369</td>\n",
       "      <td>9.311503</td>\n",
       "      <td>9.016406</td>\n",
       "      <td>9.000771</td>\n",
       "      <td>8.974313</td>\n",
       "      <td>9.177513</td>\n",
       "      <td>9.123757</td>\n",
       "      <td>8.815139</td>\n",
       "      <td>8.723943</td>\n",
       "      <td>8.396475</td>\n",
       "      <td>8.371781</td>\n",
       "      <td>8.194524</td>\n",
       "      <td>8.141444</td>\n",
       "    </tr>\n",
       "  </tbody>\n",
       "</table>\n",
       "<p>1175 rows × 16 columns</p>\n",
       "</div>"
      ],
      "text/plain": [
       "                0          3          6          9         12         15  \\\n",
       "Symbol                                                                     \n",
       "ABCA1    7.497117   8.184737   8.384009   8.654385   8.705771   9.266485   \n",
       "ABCC11   9.681143   9.687135   9.498255   9.357438   9.189169   9.049327   \n",
       "ABCC3   12.834826  12.841947  12.924113  12.810950  12.990568  12.791429   \n",
       "ABLIM1  10.786000  10.912505  11.060394  11.091041  11.166662  11.293522   \n",
       "ABP1     7.943247   8.121638   8.293621   8.314716   8.345499   8.414776   \n",
       "...           ...        ...        ...        ...        ...        ...   \n",
       "ZNF606   8.528510   8.394945   8.560340   8.955600   8.972039   8.858380   \n",
       "ZNF616   9.533892   9.671308   9.998892  10.189743  10.348529  10.293577   \n",
       "ZNF83    9.363751   9.162289   9.199572   9.589662  10.164692  10.039752   \n",
       "ZNFX1   10.854597  10.662256  11.023671  11.415034  11.720743  11.718005   \n",
       "ZWINT   10.024858   9.905496   9.976799  10.133369   9.311503   9.016406   \n",
       "\n",
       "               18         21         24         27         30         33  \\\n",
       "Symbol                                                                     \n",
       "ABCA1    9.097249   8.980061   8.911098   9.377178   9.142381   9.314741   \n",
       "ABCC11   8.976153   8.978854   8.967797   8.912375   8.851690   8.787110   \n",
       "ABCC3   12.410250  12.343846  11.682339  11.369507  11.188391  11.105528   \n",
       "ABLIM1  11.355008  11.331177  11.649917  11.622126  11.733842  11.772563   \n",
       "ABP1     8.368459   8.539609   8.649921   8.698824   8.688555   8.762338   \n",
       "...           ...        ...        ...        ...        ...        ...   \n",
       "ZNF606   8.986870   9.040801   9.199987   9.201530   9.096592   9.201962   \n",
       "ZNF616  10.457835  10.426120  10.290234  10.279000  10.247908  10.289320   \n",
       "ZNF83   10.300014  10.099996  10.102037   9.971016   9.992117  10.033500   \n",
       "ZNFX1   11.795806  11.914836  11.799599  11.675592  11.704008  11.648020   \n",
       "ZWINT    9.000771   8.974313   9.177513   9.123757   8.815139   8.723943   \n",
       "\n",
       "               36         39         42         45  \n",
       "Symbol                                              \n",
       "ABCA1    9.622010   9.543455   9.559486  10.094392  \n",
       "ABCC11   8.679719   8.771382   8.633315   8.703377  \n",
       "ABCC3   11.343285  11.151681  11.214401  10.928790  \n",
       "ABLIM1  11.909730  11.724674  11.835192  11.720621  \n",
       "ABP1     9.098345   9.294049   9.323449   9.729671  \n",
       "...           ...        ...        ...        ...  \n",
       "ZNF606   9.113082   9.238377   8.999179   9.076324  \n",
       "ZNF616  10.175219  10.316580  10.406839  10.225305  \n",
       "ZNF83   10.252678  10.170821  10.269105   9.959197  \n",
       "ZNFX1   11.661703  11.655686  11.850343  11.629349  \n",
       "ZWINT    8.396475   8.371781   8.194524   8.141444  \n",
       "\n",
       "[1175 rows x 16 columns]"
      ]
     },
     "execution_count": 31,
     "metadata": {},
     "output_type": "execute_result"
    }
   ],
   "source": [
    "file_name = \"GSE22955_small_gene_table.txt\"\n",
    "expression_data = pd.read_csv(file_name, sep = \"\\t\", comment = \"#\", index_col= 0)\n",
    "expression_data"
   ]
  },
  {
   "cell_type": "code",
   "execution_count": 32,
   "metadata": {},
   "outputs": [
    {
     "name": "stdout",
     "output_type": "stream",
     "text": [
      "                0          3          6          9         12         15  \\\n",
      "Symbol                                                                     \n",
      "ABCA1    7.497117   8.184737   8.384009   8.654385   8.705771   9.266485   \n",
      "ABCC11   9.681143   9.687135   9.498255   9.357438   9.189169   9.049327   \n",
      "ABCC3   12.834826  12.841947  12.924113  12.810950  12.990568  12.791429   \n",
      "ABLIM1  10.786000  10.912505  11.060394  11.091041  11.166662  11.293522   \n",
      "ABP1     7.943247   8.121638   8.293621   8.314716   8.345499   8.414776   \n",
      "...           ...        ...        ...        ...        ...        ...   \n",
      "ZNF606   8.528510   8.394945   8.560340   8.955600   8.972039   8.858380   \n",
      "ZNF616   9.533892   9.671308   9.998892  10.189743  10.348529  10.293577   \n",
      "ZNF83    9.363751   9.162289   9.199572   9.589662  10.164692  10.039752   \n",
      "ZNFX1   10.854597  10.662256  11.023671  11.415034  11.720743  11.718005   \n",
      "ZWINT   10.024858   9.905496   9.976799  10.133369   9.311503   9.016406   \n",
      "\n",
      "               18         21         24         27         30         33  \\\n",
      "Symbol                                                                     \n",
      "ABCA1    9.097249   8.980061   8.911098   9.377178   9.142381   9.314741   \n",
      "ABCC11   8.976153   8.978854   8.967797   8.912375   8.851690   8.787110   \n",
      "ABCC3   12.410250  12.343846  11.682339  11.369507  11.188391  11.105528   \n",
      "ABLIM1  11.355008  11.331177  11.649917  11.622126  11.733842  11.772563   \n",
      "ABP1     8.368459   8.539609   8.649921   8.698824   8.688555   8.762338   \n",
      "...           ...        ...        ...        ...        ...        ...   \n",
      "ZNF606   8.986870   9.040801   9.199987   9.201530   9.096592   9.201962   \n",
      "ZNF616  10.457835  10.426120  10.290234  10.279000  10.247908  10.289320   \n",
      "ZNF83   10.300014  10.099996  10.102037   9.971016   9.992117  10.033500   \n",
      "ZNFX1   11.795806  11.914836  11.799599  11.675592  11.704008  11.648020   \n",
      "ZWINT    9.000771   8.974313   9.177513   9.123757   8.815139   8.723943   \n",
      "\n",
      "               36         39         42         45  \n",
      "Symbol                                              \n",
      "ABCA1    9.622010   9.543455   9.559486  10.094392  \n",
      "ABCC11   8.679719   8.771382   8.633315   8.703377  \n",
      "ABCC3   11.343285  11.151681  11.214401  10.928790  \n",
      "ABLIM1  11.909730  11.724674  11.835192  11.720621  \n",
      "ABP1     9.098345   9.294049   9.323449   9.729671  \n",
      "...           ...        ...        ...        ...  \n",
      "ZNF606   9.113082   9.238377   8.999179   9.076324  \n",
      "ZNF616  10.175219  10.316580  10.406839  10.225305  \n",
      "ZNF83   10.252678  10.170821  10.269105   9.959197  \n",
      "ZNFX1   11.661703  11.655686  11.850343  11.629349  \n",
      "ZWINT    8.396475   8.371781   8.194524   8.141444  \n",
      "\n",
      "[1175 rows x 16 columns]\n"
     ]
    }
   ],
   "source": [
    "print(expression_data)"
   ]
  },
  {
   "cell_type": "code",
   "execution_count": 33,
   "metadata": {},
   "outputs": [
    {
     "data": {
      "text/plain": [
       "(1175, 16)"
      ]
     },
     "execution_count": 33,
     "metadata": {},
     "output_type": "execute_result"
    }
   ],
   "source": [
    "expression_data.shape"
   ]
  },
  {
   "cell_type": "code",
   "execution_count": 34,
   "metadata": {},
   "outputs": [
    {
     "data": {
      "text/html": [
       "<div>\n",
       "<style scoped>\n",
       "    .dataframe tbody tr th:only-of-type {\n",
       "        vertical-align: middle;\n",
       "    }\n",
       "\n",
       "    .dataframe tbody tr th {\n",
       "        vertical-align: top;\n",
       "    }\n",
       "\n",
       "    .dataframe thead th {\n",
       "        text-align: right;\n",
       "    }\n",
       "</style>\n",
       "<table border=\"1\" class=\"dataframe\">\n",
       "  <thead>\n",
       "    <tr style=\"text-align: right;\">\n",
       "      <th></th>\n",
       "      <th>0</th>\n",
       "      <th>3</th>\n",
       "      <th>6</th>\n",
       "      <th>9</th>\n",
       "      <th>12</th>\n",
       "      <th>15</th>\n",
       "      <th>18</th>\n",
       "      <th>21</th>\n",
       "      <th>24</th>\n",
       "      <th>27</th>\n",
       "      <th>30</th>\n",
       "      <th>33</th>\n",
       "      <th>36</th>\n",
       "      <th>39</th>\n",
       "      <th>42</th>\n",
       "      <th>45</th>\n",
       "    </tr>\n",
       "    <tr>\n",
       "      <th>Symbol</th>\n",
       "      <th></th>\n",
       "      <th></th>\n",
       "      <th></th>\n",
       "      <th></th>\n",
       "      <th></th>\n",
       "      <th></th>\n",
       "      <th></th>\n",
       "      <th></th>\n",
       "      <th></th>\n",
       "      <th></th>\n",
       "      <th></th>\n",
       "      <th></th>\n",
       "      <th></th>\n",
       "      <th></th>\n",
       "      <th></th>\n",
       "      <th></th>\n",
       "    </tr>\n",
       "  </thead>\n",
       "  <tbody>\n",
       "    <tr>\n",
       "      <th>ABCA1</th>\n",
       "      <td>7.497117</td>\n",
       "      <td>8.184737</td>\n",
       "      <td>8.384009</td>\n",
       "      <td>8.654385</td>\n",
       "      <td>8.705771</td>\n",
       "      <td>9.266485</td>\n",
       "      <td>9.097249</td>\n",
       "      <td>8.980061</td>\n",
       "      <td>8.911098</td>\n",
       "      <td>9.377178</td>\n",
       "      <td>9.142381</td>\n",
       "      <td>9.314741</td>\n",
       "      <td>9.622010</td>\n",
       "      <td>9.543455</td>\n",
       "      <td>9.559486</td>\n",
       "      <td>10.094392</td>\n",
       "    </tr>\n",
       "    <tr>\n",
       "      <th>ABCC11</th>\n",
       "      <td>9.681143</td>\n",
       "      <td>9.687135</td>\n",
       "      <td>9.498255</td>\n",
       "      <td>9.357438</td>\n",
       "      <td>9.189169</td>\n",
       "      <td>9.049327</td>\n",
       "      <td>8.976153</td>\n",
       "      <td>8.978854</td>\n",
       "      <td>8.967797</td>\n",
       "      <td>8.912375</td>\n",
       "      <td>8.851690</td>\n",
       "      <td>8.787110</td>\n",
       "      <td>8.679719</td>\n",
       "      <td>8.771382</td>\n",
       "      <td>8.633315</td>\n",
       "      <td>8.703377</td>\n",
       "    </tr>\n",
       "    <tr>\n",
       "      <th>ABCC3</th>\n",
       "      <td>12.834826</td>\n",
       "      <td>12.841947</td>\n",
       "      <td>12.924113</td>\n",
       "      <td>12.810950</td>\n",
       "      <td>12.990568</td>\n",
       "      <td>12.791429</td>\n",
       "      <td>12.410250</td>\n",
       "      <td>12.343846</td>\n",
       "      <td>11.682339</td>\n",
       "      <td>11.369507</td>\n",
       "      <td>11.188391</td>\n",
       "      <td>11.105528</td>\n",
       "      <td>11.343285</td>\n",
       "      <td>11.151681</td>\n",
       "      <td>11.214401</td>\n",
       "      <td>10.928790</td>\n",
       "    </tr>\n",
       "    <tr>\n",
       "      <th>ABLIM1</th>\n",
       "      <td>10.786000</td>\n",
       "      <td>10.912505</td>\n",
       "      <td>11.060394</td>\n",
       "      <td>11.091041</td>\n",
       "      <td>11.166662</td>\n",
       "      <td>11.293522</td>\n",
       "      <td>11.355008</td>\n",
       "      <td>11.331177</td>\n",
       "      <td>11.649917</td>\n",
       "      <td>11.622126</td>\n",
       "      <td>11.733842</td>\n",
       "      <td>11.772563</td>\n",
       "      <td>11.909730</td>\n",
       "      <td>11.724674</td>\n",
       "      <td>11.835192</td>\n",
       "      <td>11.720621</td>\n",
       "    </tr>\n",
       "    <tr>\n",
       "      <th>ABP1</th>\n",
       "      <td>7.943247</td>\n",
       "      <td>8.121638</td>\n",
       "      <td>8.293621</td>\n",
       "      <td>8.314716</td>\n",
       "      <td>8.345499</td>\n",
       "      <td>8.414776</td>\n",
       "      <td>8.368459</td>\n",
       "      <td>8.539609</td>\n",
       "      <td>8.649921</td>\n",
       "      <td>8.698824</td>\n",
       "      <td>8.688555</td>\n",
       "      <td>8.762338</td>\n",
       "      <td>9.098345</td>\n",
       "      <td>9.294049</td>\n",
       "      <td>9.323449</td>\n",
       "      <td>9.729671</td>\n",
       "    </tr>\n",
       "    <tr>\n",
       "      <th>...</th>\n",
       "      <td>...</td>\n",
       "      <td>...</td>\n",
       "      <td>...</td>\n",
       "      <td>...</td>\n",
       "      <td>...</td>\n",
       "      <td>...</td>\n",
       "      <td>...</td>\n",
       "      <td>...</td>\n",
       "      <td>...</td>\n",
       "      <td>...</td>\n",
       "      <td>...</td>\n",
       "      <td>...</td>\n",
       "      <td>...</td>\n",
       "      <td>...</td>\n",
       "      <td>...</td>\n",
       "      <td>...</td>\n",
       "    </tr>\n",
       "    <tr>\n",
       "      <th>ZNF606</th>\n",
       "      <td>8.528510</td>\n",
       "      <td>8.394945</td>\n",
       "      <td>8.560340</td>\n",
       "      <td>8.955600</td>\n",
       "      <td>8.972039</td>\n",
       "      <td>8.858380</td>\n",
       "      <td>8.986870</td>\n",
       "      <td>9.040801</td>\n",
       "      <td>9.199987</td>\n",
       "      <td>9.201530</td>\n",
       "      <td>9.096592</td>\n",
       "      <td>9.201962</td>\n",
       "      <td>9.113082</td>\n",
       "      <td>9.238377</td>\n",
       "      <td>8.999179</td>\n",
       "      <td>9.076324</td>\n",
       "    </tr>\n",
       "    <tr>\n",
       "      <th>ZNF616</th>\n",
       "      <td>9.533892</td>\n",
       "      <td>9.671308</td>\n",
       "      <td>9.998892</td>\n",
       "      <td>10.189743</td>\n",
       "      <td>10.348529</td>\n",
       "      <td>10.293577</td>\n",
       "      <td>10.457835</td>\n",
       "      <td>10.426120</td>\n",
       "      <td>10.290234</td>\n",
       "      <td>10.279000</td>\n",
       "      <td>10.247908</td>\n",
       "      <td>10.289320</td>\n",
       "      <td>10.175219</td>\n",
       "      <td>10.316580</td>\n",
       "      <td>10.406839</td>\n",
       "      <td>10.225305</td>\n",
       "    </tr>\n",
       "    <tr>\n",
       "      <th>ZNF83</th>\n",
       "      <td>9.363751</td>\n",
       "      <td>9.162289</td>\n",
       "      <td>9.199572</td>\n",
       "      <td>9.589662</td>\n",
       "      <td>10.164692</td>\n",
       "      <td>10.039752</td>\n",
       "      <td>10.300014</td>\n",
       "      <td>10.099996</td>\n",
       "      <td>10.102037</td>\n",
       "      <td>9.971016</td>\n",
       "      <td>9.992117</td>\n",
       "      <td>10.033500</td>\n",
       "      <td>10.252678</td>\n",
       "      <td>10.170821</td>\n",
       "      <td>10.269105</td>\n",
       "      <td>9.959197</td>\n",
       "    </tr>\n",
       "    <tr>\n",
       "      <th>ZNFX1</th>\n",
       "      <td>10.854597</td>\n",
       "      <td>10.662256</td>\n",
       "      <td>11.023671</td>\n",
       "      <td>11.415034</td>\n",
       "      <td>11.720743</td>\n",
       "      <td>11.718005</td>\n",
       "      <td>11.795806</td>\n",
       "      <td>11.914836</td>\n",
       "      <td>11.799599</td>\n",
       "      <td>11.675592</td>\n",
       "      <td>11.704008</td>\n",
       "      <td>11.648020</td>\n",
       "      <td>11.661703</td>\n",
       "      <td>11.655686</td>\n",
       "      <td>11.850343</td>\n",
       "      <td>11.629349</td>\n",
       "    </tr>\n",
       "    <tr>\n",
       "      <th>ZWINT</th>\n",
       "      <td>10.024858</td>\n",
       "      <td>9.905496</td>\n",
       "      <td>9.976799</td>\n",
       "      <td>10.133369</td>\n",
       "      <td>9.311503</td>\n",
       "      <td>9.016406</td>\n",
       "      <td>9.000771</td>\n",
       "      <td>8.974313</td>\n",
       "      <td>9.177513</td>\n",
       "      <td>9.123757</td>\n",
       "      <td>8.815139</td>\n",
       "      <td>8.723943</td>\n",
       "      <td>8.396475</td>\n",
       "      <td>8.371781</td>\n",
       "      <td>8.194524</td>\n",
       "      <td>8.141444</td>\n",
       "    </tr>\n",
       "  </tbody>\n",
       "</table>\n",
       "<p>1175 rows × 16 columns</p>\n",
       "</div>"
      ],
      "text/plain": [
       "                0          3          6          9         12         15  \\\n",
       "Symbol                                                                     \n",
       "ABCA1    7.497117   8.184737   8.384009   8.654385   8.705771   9.266485   \n",
       "ABCC11   9.681143   9.687135   9.498255   9.357438   9.189169   9.049327   \n",
       "ABCC3   12.834826  12.841947  12.924113  12.810950  12.990568  12.791429   \n",
       "ABLIM1  10.786000  10.912505  11.060394  11.091041  11.166662  11.293522   \n",
       "ABP1     7.943247   8.121638   8.293621   8.314716   8.345499   8.414776   \n",
       "...           ...        ...        ...        ...        ...        ...   \n",
       "ZNF606   8.528510   8.394945   8.560340   8.955600   8.972039   8.858380   \n",
       "ZNF616   9.533892   9.671308   9.998892  10.189743  10.348529  10.293577   \n",
       "ZNF83    9.363751   9.162289   9.199572   9.589662  10.164692  10.039752   \n",
       "ZNFX1   10.854597  10.662256  11.023671  11.415034  11.720743  11.718005   \n",
       "ZWINT   10.024858   9.905496   9.976799  10.133369   9.311503   9.016406   \n",
       "\n",
       "               18         21         24         27         30         33  \\\n",
       "Symbol                                                                     \n",
       "ABCA1    9.097249   8.980061   8.911098   9.377178   9.142381   9.314741   \n",
       "ABCC11   8.976153   8.978854   8.967797   8.912375   8.851690   8.787110   \n",
       "ABCC3   12.410250  12.343846  11.682339  11.369507  11.188391  11.105528   \n",
       "ABLIM1  11.355008  11.331177  11.649917  11.622126  11.733842  11.772563   \n",
       "ABP1     8.368459   8.539609   8.649921   8.698824   8.688555   8.762338   \n",
       "...           ...        ...        ...        ...        ...        ...   \n",
       "ZNF606   8.986870   9.040801   9.199987   9.201530   9.096592   9.201962   \n",
       "ZNF616  10.457835  10.426120  10.290234  10.279000  10.247908  10.289320   \n",
       "ZNF83   10.300014  10.099996  10.102037   9.971016   9.992117  10.033500   \n",
       "ZNFX1   11.795806  11.914836  11.799599  11.675592  11.704008  11.648020   \n",
       "ZWINT    9.000771   8.974313   9.177513   9.123757   8.815139   8.723943   \n",
       "\n",
       "               36         39         42         45  \n",
       "Symbol                                              \n",
       "ABCA1    9.622010   9.543455   9.559486  10.094392  \n",
       "ABCC11   8.679719   8.771382   8.633315   8.703377  \n",
       "ABCC3   11.343285  11.151681  11.214401  10.928790  \n",
       "ABLIM1  11.909730  11.724674  11.835192  11.720621  \n",
       "ABP1     9.098345   9.294049   9.323449   9.729671  \n",
       "...           ...        ...        ...        ...  \n",
       "ZNF606   9.113082   9.238377   8.999179   9.076324  \n",
       "ZNF616  10.175219  10.316580  10.406839  10.225305  \n",
       "ZNF83   10.252678  10.170821  10.269105   9.959197  \n",
       "ZNFX1   11.661703  11.655686  11.850343  11.629349  \n",
       "ZWINT    8.396475   8.371781   8.194524   8.141444  \n",
       "\n",
       "[1175 rows x 16 columns]"
      ]
     },
     "execution_count": 34,
     "metadata": {},
     "output_type": "execute_result"
    }
   ],
   "source": [
    "expression_data"
   ]
  },
  {
   "cell_type": "code",
   "execution_count": 35,
   "metadata": {},
   "outputs": [
    {
     "data": {
      "text/plain": [
       "Symbol\n",
       "ABCA1      8.384009\n",
       "ABCC11     9.498255\n",
       "ABCC3     12.924113\n",
       "ABLIM1    11.060394\n",
       "ABP1       8.293621\n",
       "            ...    \n",
       "ZNF606     8.560340\n",
       "ZNF616     9.998892\n",
       "ZNF83      9.199572\n",
       "ZNFX1     11.023671\n",
       "ZWINT      9.976799\n",
       "Name: 6, Length: 1175, dtype: float64"
      ]
     },
     "execution_count": 35,
     "metadata": {},
     "output_type": "execute_result"
    }
   ],
   "source": [
    "# index by column name to get a column\n",
    "expression_data[\"6\"]"
   ]
  },
  {
   "cell_type": "code",
   "execution_count": 36,
   "metadata": {},
   "outputs": [
    {
     "data": {
      "text/plain": [
       "pandas.core.series.Series"
      ]
     },
     "execution_count": 36,
     "metadata": {},
     "output_type": "execute_result"
    }
   ],
   "source": [
    "type(expression_data[\"6\"])"
   ]
  },
  {
   "cell_type": "code",
   "execution_count": 37,
   "metadata": {},
   "outputs": [
    {
     "data": {
      "text/plain": [
       "pandas.core.frame.DataFrame"
      ]
     },
     "execution_count": 37,
     "metadata": {},
     "output_type": "execute_result"
    }
   ],
   "source": [
    "type(expression_data)"
   ]
  },
  {
   "cell_type": "code",
   "execution_count": 38,
   "metadata": {},
   "outputs": [
    {
     "data": {
      "text/html": [
       "<div>\n",
       "<style scoped>\n",
       "    .dataframe tbody tr th:only-of-type {\n",
       "        vertical-align: middle;\n",
       "    }\n",
       "\n",
       "    .dataframe tbody tr th {\n",
       "        vertical-align: top;\n",
       "    }\n",
       "\n",
       "    .dataframe thead th {\n",
       "        text-align: right;\n",
       "    }\n",
       "</style>\n",
       "<table border=\"1\" class=\"dataframe\">\n",
       "  <thead>\n",
       "    <tr style=\"text-align: right;\">\n",
       "      <th></th>\n",
       "      <th>0</th>\n",
       "      <th>3</th>\n",
       "      <th>6</th>\n",
       "      <th>9</th>\n",
       "      <th>12</th>\n",
       "      <th>15</th>\n",
       "      <th>18</th>\n",
       "      <th>21</th>\n",
       "      <th>24</th>\n",
       "      <th>27</th>\n",
       "      <th>30</th>\n",
       "      <th>33</th>\n",
       "      <th>36</th>\n",
       "      <th>39</th>\n",
       "      <th>42</th>\n",
       "      <th>45</th>\n",
       "    </tr>\n",
       "    <tr>\n",
       "      <th>Symbol</th>\n",
       "      <th></th>\n",
       "      <th></th>\n",
       "      <th></th>\n",
       "      <th></th>\n",
       "      <th></th>\n",
       "      <th></th>\n",
       "      <th></th>\n",
       "      <th></th>\n",
       "      <th></th>\n",
       "      <th></th>\n",
       "      <th></th>\n",
       "      <th></th>\n",
       "      <th></th>\n",
       "      <th></th>\n",
       "      <th></th>\n",
       "      <th></th>\n",
       "    </tr>\n",
       "  </thead>\n",
       "  <tbody>\n",
       "    <tr>\n",
       "      <th>ABLIM1</th>\n",
       "      <td>10.786000</td>\n",
       "      <td>10.912505</td>\n",
       "      <td>11.060394</td>\n",
       "      <td>11.091041</td>\n",
       "      <td>11.166662</td>\n",
       "      <td>11.293522</td>\n",
       "      <td>11.355008</td>\n",
       "      <td>11.331177</td>\n",
       "      <td>11.649917</td>\n",
       "      <td>11.622126</td>\n",
       "      <td>11.733842</td>\n",
       "      <td>11.772563</td>\n",
       "      <td>11.909730</td>\n",
       "      <td>11.724674</td>\n",
       "      <td>11.835192</td>\n",
       "      <td>11.720621</td>\n",
       "    </tr>\n",
       "    <tr>\n",
       "      <th>ABP1</th>\n",
       "      <td>7.943247</td>\n",
       "      <td>8.121638</td>\n",
       "      <td>8.293621</td>\n",
       "      <td>8.314716</td>\n",
       "      <td>8.345499</td>\n",
       "      <td>8.414776</td>\n",
       "      <td>8.368459</td>\n",
       "      <td>8.539609</td>\n",
       "      <td>8.649921</td>\n",
       "      <td>8.698824</td>\n",
       "      <td>8.688555</td>\n",
       "      <td>8.762338</td>\n",
       "      <td>9.098345</td>\n",
       "      <td>9.294049</td>\n",
       "      <td>9.323449</td>\n",
       "      <td>9.729671</td>\n",
       "    </tr>\n",
       "    <tr>\n",
       "      <th>ACBD7</th>\n",
       "      <td>8.571854</td>\n",
       "      <td>8.645659</td>\n",
       "      <td>8.178287</td>\n",
       "      <td>8.954513</td>\n",
       "      <td>9.435023</td>\n",
       "      <td>9.078535</td>\n",
       "      <td>9.262488</td>\n",
       "      <td>9.067591</td>\n",
       "      <td>9.194799</td>\n",
       "      <td>9.332175</td>\n",
       "      <td>9.220038</td>\n",
       "      <td>8.932506</td>\n",
       "      <td>8.450138</td>\n",
       "      <td>8.102149</td>\n",
       "      <td>8.139601</td>\n",
       "      <td>8.084120</td>\n",
       "    </tr>\n",
       "    <tr>\n",
       "      <th>ACLY</th>\n",
       "      <td>13.381962</td>\n",
       "      <td>13.246261</td>\n",
       "      <td>13.097285</td>\n",
       "      <td>12.917493</td>\n",
       "      <td>12.430767</td>\n",
       "      <td>12.440158</td>\n",
       "      <td>12.466567</td>\n",
       "      <td>12.180454</td>\n",
       "      <td>12.647535</td>\n",
       "      <td>12.208526</td>\n",
       "      <td>12.503475</td>\n",
       "      <td>12.348018</td>\n",
       "      <td>12.357839</td>\n",
       "      <td>12.326450</td>\n",
       "      <td>12.188990</td>\n",
       "      <td>12.397507</td>\n",
       "    </tr>\n",
       "  </tbody>\n",
       "</table>\n",
       "</div>"
      ],
      "text/plain": [
       "                0          3          6          9         12         15  \\\n",
       "Symbol                                                                     \n",
       "ABLIM1  10.786000  10.912505  11.060394  11.091041  11.166662  11.293522   \n",
       "ABP1     7.943247   8.121638   8.293621   8.314716   8.345499   8.414776   \n",
       "ACBD7    8.571854   8.645659   8.178287   8.954513   9.435023   9.078535   \n",
       "ACLY    13.381962  13.246261  13.097285  12.917493  12.430767  12.440158   \n",
       "\n",
       "               18         21         24         27         30         33  \\\n",
       "Symbol                                                                     \n",
       "ABLIM1  11.355008  11.331177  11.649917  11.622126  11.733842  11.772563   \n",
       "ABP1     8.368459   8.539609   8.649921   8.698824   8.688555   8.762338   \n",
       "ACBD7    9.262488   9.067591   9.194799   9.332175   9.220038   8.932506   \n",
       "ACLY    12.466567  12.180454  12.647535  12.208526  12.503475  12.348018   \n",
       "\n",
       "               36         39         42         45  \n",
       "Symbol                                              \n",
       "ABLIM1  11.909730  11.724674  11.835192  11.720621  \n",
       "ABP1     9.098345   9.294049   9.323449   9.729671  \n",
       "ACBD7    8.450138   8.102149   8.139601   8.084120  \n",
       "ACLY    12.357839  12.326450  12.188990  12.397507  "
      ]
     },
     "execution_count": 38,
     "metadata": {},
     "output_type": "execute_result"
    }
   ],
   "source": [
    "# subset by a range to get specific rows \n",
    "expression_data[3:7]"
   ]
  },
  {
   "cell_type": "code",
   "execution_count": 39,
   "metadata": {},
   "outputs": [
    {
     "data": {
      "text/plain": [
       "Symbol\n",
       "ABCA1      7.497117\n",
       "ABCC11     9.681143\n",
       "ABCC3     12.834826\n",
       "ABLIM1    10.786000\n",
       "ABP1       7.943247\n",
       "            ...    \n",
       "ZNF606     8.528510\n",
       "ZNF616     9.533892\n",
       "ZNF83      9.363751\n",
       "ZNFX1     10.854597\n",
       "ZWINT     10.024858\n",
       "Name: 0, Length: 1175, dtype: float64"
      ]
     },
     "execution_count": 39,
     "metadata": {},
     "output_type": "execute_result"
    }
   ],
   "source": [
    "expression_data[\"0\"]"
   ]
  },
  {
   "cell_type": "code",
   "execution_count": 40,
   "metadata": {},
   "outputs": [
    {
     "data": {
      "text/plain": [
       "Index(['0', '3', '6', '9', '12', '15', '18', '21', '24', '27', '30', '33',\n",
       "       '36', '39', '42', '45'],\n",
       "      dtype='object')"
      ]
     },
     "execution_count": 40,
     "metadata": {},
     "output_type": "execute_result"
    }
   ],
   "source": [
    "expression_data.columns"
   ]
  },
  {
   "cell_type": "code",
   "execution_count": 41,
   "metadata": {},
   "outputs": [],
   "source": [
    "# change column names\n",
    "expression_data.columns = \"Hour\" + expression_data.columns"
   ]
  },
  {
   "cell_type": "code",
   "execution_count": 42,
   "metadata": {},
   "outputs": [
    {
     "data": {
      "text/plain": [
       "Index(['Hour0', 'Hour3', 'Hour6', 'Hour9', 'Hour12', 'Hour15', 'Hour18',\n",
       "       'Hour21', 'Hour24', 'Hour27', 'Hour30', 'Hour33', 'Hour36', 'Hour39',\n",
       "       'Hour42', 'Hour45'],\n",
       "      dtype='object')"
      ]
     },
     "execution_count": 42,
     "metadata": {},
     "output_type": "execute_result"
    }
   ],
   "source": [
    "expression_data.columns"
   ]
  },
  {
   "cell_type": "code",
   "execution_count": 43,
   "metadata": {},
   "outputs": [
    {
     "data": {
      "text/plain": [
       "Symbol\n",
       "ABCA1      9.142381\n",
       "ABCC11     8.851690\n",
       "ABCC3     11.188391\n",
       "ABLIM1    11.733842\n",
       "ABP1       8.688555\n",
       "            ...    \n",
       "ZNF606     9.096592\n",
       "ZNF616    10.247908\n",
       "ZNF83      9.992117\n",
       "ZNFX1     11.704008\n",
       "ZWINT      8.815139\n",
       "Name: Hour30, Length: 1175, dtype: float64"
      ]
     },
     "execution_count": 43,
     "metadata": {},
     "output_type": "execute_result"
    }
   ],
   "source": [
    "expression_data.Hour30"
   ]
  },
  {
   "cell_type": "code",
   "execution_count": 44,
   "metadata": {},
   "outputs": [
    {
     "data": {
      "text/plain": [
       "Symbol\n",
       "ABCA1     2.597276\n",
       "ABCC11   -0.977766\n",
       "ABCC3    -1.906036\n",
       "ABLIM1    0.934620\n",
       "ABP1      1.786424\n",
       "            ...   \n",
       "ZNF606    0.547814\n",
       "ZNF616    0.691413\n",
       "ZNF83     0.595446\n",
       "ZNFX1     0.774753\n",
       "ZWINT    -1.883414\n",
       "Length: 1175, dtype: float64"
      ]
     },
     "execution_count": 44,
     "metadata": {},
     "output_type": "execute_result"
    }
   ],
   "source": [
    "# . notation to get columns and vectorized operations to substract data from two columns\n",
    "\n",
    "expr_diff = expression_data.Hour45 - expression_data.Hour0\n",
    "\n",
    "expr_diff"
   ]
  },
  {
   "cell_type": "code",
   "execution_count": 45,
   "metadata": {},
   "outputs": [],
   "source": [
    "# where method to find the position of values that satisfy a certain condition\n",
    "\n",
    "pos = np.where(abs(expr_diff) == max(abs(expr_diff)))\n"
   ]
  },
  {
   "cell_type": "code",
   "execution_count": 46,
   "metadata": {},
   "outputs": [
    {
     "data": {
      "text/plain": [
       "array([190])"
      ]
     },
     "execution_count": 46,
     "metadata": {},
     "output_type": "execute_result"
    }
   ],
   "source": [
    "pos[0]"
   ]
  },
  {
   "cell_type": "code",
   "execution_count": 47,
   "metadata": {},
   "outputs": [
    {
     "data": {
      "text/plain": [
       "Symbol\n",
       "CCL2   -4.795938\n",
       "dtype: float64"
      ]
     },
     "execution_count": 47,
     "metadata": {},
     "output_type": "execute_result"
    }
   ],
   "source": [
    "expr_diff[pos[0]]"
   ]
  },
  {
   "cell_type": "code",
   "execution_count": 48,
   "metadata": {},
   "outputs": [],
   "source": [
    "# row standard deviation\n",
    "gene_sd = expression_data.std(axis = 1)"
   ]
  },
  {
   "cell_type": "code",
   "execution_count": 49,
   "metadata": {},
   "outputs": [
    {
     "data": {
      "text/plain": [
       "Hour0     1.674171\n",
       "Hour3     1.657662\n",
       "Hour6     1.639572\n",
       "Hour9     1.633384\n",
       "Hour12    1.653671\n",
       "Hour15    1.662806\n",
       "Hour18    1.669169\n",
       "Hour21    1.681597\n",
       "Hour24    1.685060\n",
       "Hour27    1.685051\n",
       "Hour30    1.695271\n",
       "Hour33    1.713556\n",
       "Hour36    1.764251\n",
       "Hour39    1.770367\n",
       "Hour42    1.776620\n",
       "Hour45    1.791799\n",
       "dtype: float64"
      ]
     },
     "execution_count": 49,
     "metadata": {},
     "output_type": "execute_result"
    }
   ],
   "source": [
    "hour_sd = expression_data.std(axis = 0)\n",
    "hour_sd"
   ]
  },
  {
   "cell_type": "code",
   "execution_count": 50,
   "metadata": {},
   "outputs": [
    {
     "data": {
      "text/plain": [
       "Symbol\n",
       "ABCA1     0.634829\n",
       "ABCC11    0.343696\n",
       "ABCC3     0.803495\n",
       "ABLIM1    0.355669\n",
       "ABP1      0.483524\n",
       "            ...   \n",
       "ZNF606    0.257139\n",
       "ZNF616    0.257465\n",
       "ZNF83     0.375355\n",
       "ZNFX1     0.369599\n",
       "ZWINT     0.653463\n",
       "Length: 1175, dtype: float64"
      ]
     },
     "execution_count": 50,
     "metadata": {},
     "output_type": "execute_result"
    }
   ],
   "source": [
    "gene_sd"
   ]
  },
  {
   "cell_type": "code",
   "execution_count": 51,
   "metadata": {},
   "outputs": [
    {
     "data": {
      "text/html": [
       "<div>\n",
       "<style scoped>\n",
       "    .dataframe tbody tr th:only-of-type {\n",
       "        vertical-align: middle;\n",
       "    }\n",
       "\n",
       "    .dataframe tbody tr th {\n",
       "        vertical-align: top;\n",
       "    }\n",
       "\n",
       "    .dataframe thead th {\n",
       "        text-align: right;\n",
       "    }\n",
       "</style>\n",
       "<table border=\"1\" class=\"dataframe\">\n",
       "  <thead>\n",
       "    <tr style=\"text-align: right;\">\n",
       "      <th></th>\n",
       "      <th>Hour0</th>\n",
       "      <th>Hour3</th>\n",
       "      <th>Hour6</th>\n",
       "      <th>Hour9</th>\n",
       "      <th>Hour12</th>\n",
       "      <th>Hour15</th>\n",
       "      <th>Hour18</th>\n",
       "      <th>Hour21</th>\n",
       "      <th>Hour24</th>\n",
       "      <th>Hour27</th>\n",
       "      <th>Hour30</th>\n",
       "      <th>Hour33</th>\n",
       "      <th>Hour36</th>\n",
       "      <th>Hour39</th>\n",
       "      <th>Hour42</th>\n",
       "      <th>Hour45</th>\n",
       "    </tr>\n",
       "    <tr>\n",
       "      <th>Symbol</th>\n",
       "      <th></th>\n",
       "      <th></th>\n",
       "      <th></th>\n",
       "      <th></th>\n",
       "      <th></th>\n",
       "      <th></th>\n",
       "      <th></th>\n",
       "      <th></th>\n",
       "      <th></th>\n",
       "      <th></th>\n",
       "      <th></th>\n",
       "      <th></th>\n",
       "      <th></th>\n",
       "      <th></th>\n",
       "      <th></th>\n",
       "      <th></th>\n",
       "    </tr>\n",
       "  </thead>\n",
       "  <tbody>\n",
       "    <tr>\n",
       "      <th>ADH1A</th>\n",
       "      <td>8.361994</td>\n",
       "      <td>8.827013</td>\n",
       "      <td>9.378511</td>\n",
       "      <td>10.566180</td>\n",
       "      <td>10.256555</td>\n",
       "      <td>10.407172</td>\n",
       "      <td>10.765887</td>\n",
       "      <td>11.121747</td>\n",
       "      <td>11.493566</td>\n",
       "      <td>11.771011</td>\n",
       "      <td>11.687379</td>\n",
       "      <td>12.114453</td>\n",
       "      <td>12.009896</td>\n",
       "      <td>12.204300</td>\n",
       "      <td>12.262426</td>\n",
       "      <td>12.550255</td>\n",
       "    </tr>\n",
       "    <tr>\n",
       "      <th>ADH1C</th>\n",
       "      <td>8.209849</td>\n",
       "      <td>8.367908</td>\n",
       "      <td>9.104123</td>\n",
       "      <td>10.062300</td>\n",
       "      <td>9.829055</td>\n",
       "      <td>10.213800</td>\n",
       "      <td>10.530419</td>\n",
       "      <td>10.707635</td>\n",
       "      <td>11.252292</td>\n",
       "      <td>11.370705</td>\n",
       "      <td>11.445012</td>\n",
       "      <td>11.786950</td>\n",
       "      <td>11.793588</td>\n",
       "      <td>11.939639</td>\n",
       "      <td>11.775485</td>\n",
       "      <td>11.926255</td>\n",
       "    </tr>\n",
       "    <tr>\n",
       "      <th>KRT86</th>\n",
       "      <td>12.692957</td>\n",
       "      <td>12.614833</td>\n",
       "      <td>12.433541</td>\n",
       "      <td>11.656681</td>\n",
       "      <td>11.896951</td>\n",
       "      <td>11.421546</td>\n",
       "      <td>10.828669</td>\n",
       "      <td>10.541145</td>\n",
       "      <td>10.011847</td>\n",
       "      <td>9.622391</td>\n",
       "      <td>9.840739</td>\n",
       "      <td>9.465675</td>\n",
       "      <td>9.301230</td>\n",
       "      <td>9.213962</td>\n",
       "      <td>9.283046</td>\n",
       "      <td>9.169853</td>\n",
       "    </tr>\n",
       "    <tr>\n",
       "      <th>Pfs2</th>\n",
       "      <td>13.955339</td>\n",
       "      <td>14.019325</td>\n",
       "      <td>13.833998</td>\n",
       "      <td>13.264221</td>\n",
       "      <td>11.752669</td>\n",
       "      <td>11.752669</td>\n",
       "      <td>11.539980</td>\n",
       "      <td>11.487975</td>\n",
       "      <td>11.439461</td>\n",
       "      <td>11.316012</td>\n",
       "      <td>10.906532</td>\n",
       "      <td>10.860495</td>\n",
       "      <td>10.511163</td>\n",
       "      <td>10.392196</td>\n",
       "      <td>10.363128</td>\n",
       "      <td>10.592080</td>\n",
       "    </tr>\n",
       "  </tbody>\n",
       "</table>\n",
       "</div>"
      ],
      "text/plain": [
       "            Hour0      Hour3      Hour6      Hour9     Hour12     Hour15  \\\n",
       "Symbol                                                                     \n",
       "ADH1A    8.361994   8.827013   9.378511  10.566180  10.256555  10.407172   \n",
       "ADH1C    8.209849   8.367908   9.104123  10.062300   9.829055  10.213800   \n",
       "KRT86   12.692957  12.614833  12.433541  11.656681  11.896951  11.421546   \n",
       "Pfs2    13.955339  14.019325  13.833998  13.264221  11.752669  11.752669   \n",
       "\n",
       "           Hour18     Hour21     Hour24     Hour27     Hour30     Hour33  \\\n",
       "Symbol                                                                     \n",
       "ADH1A   10.765887  11.121747  11.493566  11.771011  11.687379  12.114453   \n",
       "ADH1C   10.530419  10.707635  11.252292  11.370705  11.445012  11.786950   \n",
       "KRT86   10.828669  10.541145  10.011847   9.622391   9.840739   9.465675   \n",
       "Pfs2    11.539980  11.487975  11.439461  11.316012  10.906532  10.860495   \n",
       "\n",
       "           Hour36     Hour39     Hour42     Hour45  \n",
       "Symbol                                              \n",
       "ADH1A   12.009896  12.204300  12.262426  12.550255  \n",
       "ADH1C   11.793588  11.939639  11.775485  11.926255  \n",
       "KRT86    9.301230   9.213962   9.283046   9.169853  \n",
       "Pfs2    10.511163  10.392196  10.363128  10.592080  "
      ]
     },
     "execution_count": 51,
     "metadata": {},
     "output_type": "execute_result"
    }
   ],
   "source": [
    "expression_data[gene_sd > 1.25]"
   ]
  },
  {
   "cell_type": "code",
   "execution_count": 52,
   "metadata": {},
   "outputs": [
    {
     "data": {
      "text/html": [
       "<div>\n",
       "<style scoped>\n",
       "    .dataframe tbody tr th:only-of-type {\n",
       "        vertical-align: middle;\n",
       "    }\n",
       "\n",
       "    .dataframe tbody tr th {\n",
       "        vertical-align: top;\n",
       "    }\n",
       "\n",
       "    .dataframe thead th {\n",
       "        text-align: right;\n",
       "    }\n",
       "</style>\n",
       "<table border=\"1\" class=\"dataframe\">\n",
       "  <thead>\n",
       "    <tr style=\"text-align: right;\">\n",
       "      <th></th>\n",
       "      <th>Hour0</th>\n",
       "      <th>Hour3</th>\n",
       "      <th>Hour6</th>\n",
       "      <th>Hour9</th>\n",
       "      <th>Hour12</th>\n",
       "      <th>Hour15</th>\n",
       "      <th>Hour18</th>\n",
       "      <th>Hour21</th>\n",
       "      <th>Hour24</th>\n",
       "      <th>Hour27</th>\n",
       "      <th>Hour30</th>\n",
       "      <th>Hour33</th>\n",
       "      <th>Hour36</th>\n",
       "      <th>Hour39</th>\n",
       "      <th>Hour42</th>\n",
       "      <th>Hour45</th>\n",
       "      <th>Gene_sd</th>\n",
       "    </tr>\n",
       "    <tr>\n",
       "      <th>Symbol</th>\n",
       "      <th></th>\n",
       "      <th></th>\n",
       "      <th></th>\n",
       "      <th></th>\n",
       "      <th></th>\n",
       "      <th></th>\n",
       "      <th></th>\n",
       "      <th></th>\n",
       "      <th></th>\n",
       "      <th></th>\n",
       "      <th></th>\n",
       "      <th></th>\n",
       "      <th></th>\n",
       "      <th></th>\n",
       "      <th></th>\n",
       "      <th></th>\n",
       "      <th></th>\n",
       "    </tr>\n",
       "  </thead>\n",
       "  <tbody>\n",
       "    <tr>\n",
       "      <th>ABCA1</th>\n",
       "      <td>7.497117</td>\n",
       "      <td>8.184737</td>\n",
       "      <td>8.384009</td>\n",
       "      <td>8.654385</td>\n",
       "      <td>8.705771</td>\n",
       "      <td>9.266485</td>\n",
       "      <td>9.097249</td>\n",
       "      <td>8.980061</td>\n",
       "      <td>8.911098</td>\n",
       "      <td>9.377178</td>\n",
       "      <td>9.142381</td>\n",
       "      <td>9.314741</td>\n",
       "      <td>9.622010</td>\n",
       "      <td>9.543455</td>\n",
       "      <td>9.559486</td>\n",
       "      <td>10.094392</td>\n",
       "      <td>0.634829</td>\n",
       "    </tr>\n",
       "    <tr>\n",
       "      <th>ABCC11</th>\n",
       "      <td>9.681143</td>\n",
       "      <td>9.687135</td>\n",
       "      <td>9.498255</td>\n",
       "      <td>9.357438</td>\n",
       "      <td>9.189169</td>\n",
       "      <td>9.049327</td>\n",
       "      <td>8.976153</td>\n",
       "      <td>8.978854</td>\n",
       "      <td>8.967797</td>\n",
       "      <td>8.912375</td>\n",
       "      <td>8.851690</td>\n",
       "      <td>8.787110</td>\n",
       "      <td>8.679719</td>\n",
       "      <td>8.771382</td>\n",
       "      <td>8.633315</td>\n",
       "      <td>8.703377</td>\n",
       "      <td>0.343696</td>\n",
       "    </tr>\n",
       "    <tr>\n",
       "      <th>ABCC3</th>\n",
       "      <td>12.834826</td>\n",
       "      <td>12.841947</td>\n",
       "      <td>12.924113</td>\n",
       "      <td>12.810950</td>\n",
       "      <td>12.990568</td>\n",
       "      <td>12.791429</td>\n",
       "      <td>12.410250</td>\n",
       "      <td>12.343846</td>\n",
       "      <td>11.682339</td>\n",
       "      <td>11.369507</td>\n",
       "      <td>11.188391</td>\n",
       "      <td>11.105528</td>\n",
       "      <td>11.343285</td>\n",
       "      <td>11.151681</td>\n",
       "      <td>11.214401</td>\n",
       "      <td>10.928790</td>\n",
       "      <td>0.803495</td>\n",
       "    </tr>\n",
       "    <tr>\n",
       "      <th>ABLIM1</th>\n",
       "      <td>10.786000</td>\n",
       "      <td>10.912505</td>\n",
       "      <td>11.060394</td>\n",
       "      <td>11.091041</td>\n",
       "      <td>11.166662</td>\n",
       "      <td>11.293522</td>\n",
       "      <td>11.355008</td>\n",
       "      <td>11.331177</td>\n",
       "      <td>11.649917</td>\n",
       "      <td>11.622126</td>\n",
       "      <td>11.733842</td>\n",
       "      <td>11.772563</td>\n",
       "      <td>11.909730</td>\n",
       "      <td>11.724674</td>\n",
       "      <td>11.835192</td>\n",
       "      <td>11.720621</td>\n",
       "      <td>0.355669</td>\n",
       "    </tr>\n",
       "    <tr>\n",
       "      <th>ABP1</th>\n",
       "      <td>7.943247</td>\n",
       "      <td>8.121638</td>\n",
       "      <td>8.293621</td>\n",
       "      <td>8.314716</td>\n",
       "      <td>8.345499</td>\n",
       "      <td>8.414776</td>\n",
       "      <td>8.368459</td>\n",
       "      <td>8.539609</td>\n",
       "      <td>8.649921</td>\n",
       "      <td>8.698824</td>\n",
       "      <td>8.688555</td>\n",
       "      <td>8.762338</td>\n",
       "      <td>9.098345</td>\n",
       "      <td>9.294049</td>\n",
       "      <td>9.323449</td>\n",
       "      <td>9.729671</td>\n",
       "      <td>0.483524</td>\n",
       "    </tr>\n",
       "    <tr>\n",
       "      <th>...</th>\n",
       "      <td>...</td>\n",
       "      <td>...</td>\n",
       "      <td>...</td>\n",
       "      <td>...</td>\n",
       "      <td>...</td>\n",
       "      <td>...</td>\n",
       "      <td>...</td>\n",
       "      <td>...</td>\n",
       "      <td>...</td>\n",
       "      <td>...</td>\n",
       "      <td>...</td>\n",
       "      <td>...</td>\n",
       "      <td>...</td>\n",
       "      <td>...</td>\n",
       "      <td>...</td>\n",
       "      <td>...</td>\n",
       "      <td>...</td>\n",
       "    </tr>\n",
       "    <tr>\n",
       "      <th>ZNF606</th>\n",
       "      <td>8.528510</td>\n",
       "      <td>8.394945</td>\n",
       "      <td>8.560340</td>\n",
       "      <td>8.955600</td>\n",
       "      <td>8.972039</td>\n",
       "      <td>8.858380</td>\n",
       "      <td>8.986870</td>\n",
       "      <td>9.040801</td>\n",
       "      <td>9.199987</td>\n",
       "      <td>9.201530</td>\n",
       "      <td>9.096592</td>\n",
       "      <td>9.201962</td>\n",
       "      <td>9.113082</td>\n",
       "      <td>9.238377</td>\n",
       "      <td>8.999179</td>\n",
       "      <td>9.076324</td>\n",
       "      <td>0.257139</td>\n",
       "    </tr>\n",
       "    <tr>\n",
       "      <th>ZNF616</th>\n",
       "      <td>9.533892</td>\n",
       "      <td>9.671308</td>\n",
       "      <td>9.998892</td>\n",
       "      <td>10.189743</td>\n",
       "      <td>10.348529</td>\n",
       "      <td>10.293577</td>\n",
       "      <td>10.457835</td>\n",
       "      <td>10.426120</td>\n",
       "      <td>10.290234</td>\n",
       "      <td>10.279000</td>\n",
       "      <td>10.247908</td>\n",
       "      <td>10.289320</td>\n",
       "      <td>10.175219</td>\n",
       "      <td>10.316580</td>\n",
       "      <td>10.406839</td>\n",
       "      <td>10.225305</td>\n",
       "      <td>0.257465</td>\n",
       "    </tr>\n",
       "    <tr>\n",
       "      <th>ZNF83</th>\n",
       "      <td>9.363751</td>\n",
       "      <td>9.162289</td>\n",
       "      <td>9.199572</td>\n",
       "      <td>9.589662</td>\n",
       "      <td>10.164692</td>\n",
       "      <td>10.039752</td>\n",
       "      <td>10.300014</td>\n",
       "      <td>10.099996</td>\n",
       "      <td>10.102037</td>\n",
       "      <td>9.971016</td>\n",
       "      <td>9.992117</td>\n",
       "      <td>10.033500</td>\n",
       "      <td>10.252678</td>\n",
       "      <td>10.170821</td>\n",
       "      <td>10.269105</td>\n",
       "      <td>9.959197</td>\n",
       "      <td>0.375355</td>\n",
       "    </tr>\n",
       "    <tr>\n",
       "      <th>ZNFX1</th>\n",
       "      <td>10.854597</td>\n",
       "      <td>10.662256</td>\n",
       "      <td>11.023671</td>\n",
       "      <td>11.415034</td>\n",
       "      <td>11.720743</td>\n",
       "      <td>11.718005</td>\n",
       "      <td>11.795806</td>\n",
       "      <td>11.914836</td>\n",
       "      <td>11.799599</td>\n",
       "      <td>11.675592</td>\n",
       "      <td>11.704008</td>\n",
       "      <td>11.648020</td>\n",
       "      <td>11.661703</td>\n",
       "      <td>11.655686</td>\n",
       "      <td>11.850343</td>\n",
       "      <td>11.629349</td>\n",
       "      <td>0.369599</td>\n",
       "    </tr>\n",
       "    <tr>\n",
       "      <th>ZWINT</th>\n",
       "      <td>10.024858</td>\n",
       "      <td>9.905496</td>\n",
       "      <td>9.976799</td>\n",
       "      <td>10.133369</td>\n",
       "      <td>9.311503</td>\n",
       "      <td>9.016406</td>\n",
       "      <td>9.000771</td>\n",
       "      <td>8.974313</td>\n",
       "      <td>9.177513</td>\n",
       "      <td>9.123757</td>\n",
       "      <td>8.815139</td>\n",
       "      <td>8.723943</td>\n",
       "      <td>8.396475</td>\n",
       "      <td>8.371781</td>\n",
       "      <td>8.194524</td>\n",
       "      <td>8.141444</td>\n",
       "      <td>0.653463</td>\n",
       "    </tr>\n",
       "  </tbody>\n",
       "</table>\n",
       "<p>1175 rows × 17 columns</p>\n",
       "</div>"
      ],
      "text/plain": [
       "            Hour0      Hour3      Hour6      Hour9     Hour12     Hour15  \\\n",
       "Symbol                                                                     \n",
       "ABCA1    7.497117   8.184737   8.384009   8.654385   8.705771   9.266485   \n",
       "ABCC11   9.681143   9.687135   9.498255   9.357438   9.189169   9.049327   \n",
       "ABCC3   12.834826  12.841947  12.924113  12.810950  12.990568  12.791429   \n",
       "ABLIM1  10.786000  10.912505  11.060394  11.091041  11.166662  11.293522   \n",
       "ABP1     7.943247   8.121638   8.293621   8.314716   8.345499   8.414776   \n",
       "...           ...        ...        ...        ...        ...        ...   \n",
       "ZNF606   8.528510   8.394945   8.560340   8.955600   8.972039   8.858380   \n",
       "ZNF616   9.533892   9.671308   9.998892  10.189743  10.348529  10.293577   \n",
       "ZNF83    9.363751   9.162289   9.199572   9.589662  10.164692  10.039752   \n",
       "ZNFX1   10.854597  10.662256  11.023671  11.415034  11.720743  11.718005   \n",
       "ZWINT   10.024858   9.905496   9.976799  10.133369   9.311503   9.016406   \n",
       "\n",
       "           Hour18     Hour21     Hour24     Hour27     Hour30     Hour33  \\\n",
       "Symbol                                                                     \n",
       "ABCA1    9.097249   8.980061   8.911098   9.377178   9.142381   9.314741   \n",
       "ABCC11   8.976153   8.978854   8.967797   8.912375   8.851690   8.787110   \n",
       "ABCC3   12.410250  12.343846  11.682339  11.369507  11.188391  11.105528   \n",
       "ABLIM1  11.355008  11.331177  11.649917  11.622126  11.733842  11.772563   \n",
       "ABP1     8.368459   8.539609   8.649921   8.698824   8.688555   8.762338   \n",
       "...           ...        ...        ...        ...        ...        ...   \n",
       "ZNF606   8.986870   9.040801   9.199987   9.201530   9.096592   9.201962   \n",
       "ZNF616  10.457835  10.426120  10.290234  10.279000  10.247908  10.289320   \n",
       "ZNF83   10.300014  10.099996  10.102037   9.971016   9.992117  10.033500   \n",
       "ZNFX1   11.795806  11.914836  11.799599  11.675592  11.704008  11.648020   \n",
       "ZWINT    9.000771   8.974313   9.177513   9.123757   8.815139   8.723943   \n",
       "\n",
       "           Hour36     Hour39     Hour42     Hour45   Gene_sd  \n",
       "Symbol                                                        \n",
       "ABCA1    9.622010   9.543455   9.559486  10.094392  0.634829  \n",
       "ABCC11   8.679719   8.771382   8.633315   8.703377  0.343696  \n",
       "ABCC3   11.343285  11.151681  11.214401  10.928790  0.803495  \n",
       "ABLIM1  11.909730  11.724674  11.835192  11.720621  0.355669  \n",
       "ABP1     9.098345   9.294049   9.323449   9.729671  0.483524  \n",
       "...           ...        ...        ...        ...       ...  \n",
       "ZNF606   9.113082   9.238377   8.999179   9.076324  0.257139  \n",
       "ZNF616  10.175219  10.316580  10.406839  10.225305  0.257465  \n",
       "ZNF83   10.252678  10.170821  10.269105   9.959197  0.375355  \n",
       "ZNFX1   11.661703  11.655686  11.850343  11.629349  0.369599  \n",
       "ZWINT    8.396475   8.371781   8.194524   8.141444  0.653463  \n",
       "\n",
       "[1175 rows x 17 columns]"
      ]
     },
     "execution_count": 52,
     "metadata": {},
     "output_type": "execute_result"
    }
   ],
   "source": [
    "# add a new column using join - the column has to have a name\n",
    "\n",
    "gene_sd.name = \"Gene_sd\"\n",
    "expr_sd_data = expression_data.join(gene_sd)\n",
    "expr_sd_data"
   ]
  },
  {
   "cell_type": "code",
   "execution_count": 53,
   "metadata": {},
   "outputs": [],
   "source": [
    "# help(pd.concat)"
   ]
  },
  {
   "cell_type": "markdown",
   "metadata": {},
   "source": [
    "#### There are 2 pandas-specific methods for indexing:\n",
    "####   1.  ```.loc``` - primarily label/name-based\n",
    "####   2.  `.iloc` - primarily integer/position-based"
   ]
  },
  {
   "cell_type": "code",
   "execution_count": 54,
   "metadata": {},
   "outputs": [
    {
     "data": {
      "text/html": [
       "<div>\n",
       "<style scoped>\n",
       "    .dataframe tbody tr th:only-of-type {\n",
       "        vertical-align: middle;\n",
       "    }\n",
       "\n",
       "    .dataframe tbody tr th {\n",
       "        vertical-align: top;\n",
       "    }\n",
       "\n",
       "    .dataframe thead th {\n",
       "        text-align: right;\n",
       "    }\n",
       "</style>\n",
       "<table border=\"1\" class=\"dataframe\">\n",
       "  <thead>\n",
       "    <tr style=\"text-align: right;\">\n",
       "      <th></th>\n",
       "      <th>Hour30</th>\n",
       "      <th>Hour33</th>\n",
       "      <th>Hour36</th>\n",
       "      <th>Hour39</th>\n",
       "      <th>Hour42</th>\n",
       "      <th>Hour45</th>\n",
       "      <th>Gene_sd</th>\n",
       "    </tr>\n",
       "    <tr>\n",
       "      <th>Symbol</th>\n",
       "      <th></th>\n",
       "      <th></th>\n",
       "      <th></th>\n",
       "      <th></th>\n",
       "      <th></th>\n",
       "      <th></th>\n",
       "      <th></th>\n",
       "    </tr>\n",
       "  </thead>\n",
       "  <tbody>\n",
       "    <tr>\n",
       "      <th>ADH1A</th>\n",
       "      <td>11.687379</td>\n",
       "      <td>12.114453</td>\n",
       "      <td>12.009896</td>\n",
       "      <td>12.204300</td>\n",
       "      <td>12.262426</td>\n",
       "      <td>12.550255</td>\n",
       "      <td>1.277729</td>\n",
       "    </tr>\n",
       "    <tr>\n",
       "      <th>ADH1C</th>\n",
       "      <td>11.445012</td>\n",
       "      <td>11.786950</td>\n",
       "      <td>11.793588</td>\n",
       "      <td>11.939639</td>\n",
       "      <td>11.775485</td>\n",
       "      <td>11.926255</td>\n",
       "      <td>1.250391</td>\n",
       "    </tr>\n",
       "    <tr>\n",
       "      <th>KRT86</th>\n",
       "      <td>9.840739</td>\n",
       "      <td>9.465675</td>\n",
       "      <td>9.301230</td>\n",
       "      <td>9.213962</td>\n",
       "      <td>9.283046</td>\n",
       "      <td>9.169853</td>\n",
       "      <td>1.313364</td>\n",
       "    </tr>\n",
       "    <tr>\n",
       "      <th>Pfs2</th>\n",
       "      <td>10.906532</td>\n",
       "      <td>10.860495</td>\n",
       "      <td>10.511163</td>\n",
       "      <td>10.392196</td>\n",
       "      <td>10.363128</td>\n",
       "      <td>10.592080</td>\n",
       "      <td>1.295943</td>\n",
       "    </tr>\n",
       "  </tbody>\n",
       "</table>\n",
       "</div>"
      ],
      "text/plain": [
       "           Hour30     Hour33     Hour36     Hour39     Hour42     Hour45  \\\n",
       "Symbol                                                                     \n",
       "ADH1A   11.687379  12.114453  12.009896  12.204300  12.262426  12.550255   \n",
       "ADH1C   11.445012  11.786950  11.793588  11.939639  11.775485  11.926255   \n",
       "KRT86    9.840739   9.465675   9.301230   9.213962   9.283046   9.169853   \n",
       "Pfs2    10.906532  10.860495  10.511163  10.392196  10.363128  10.592080   \n",
       "\n",
       "         Gene_sd  \n",
       "Symbol            \n",
       "ADH1A   1.277729  \n",
       "ADH1C   1.250391  \n",
       "KRT86   1.313364  \n",
       "Pfs2    1.295943  "
      ]
     },
     "execution_count": 54,
     "metadata": {},
     "output_type": "execute_result"
    }
   ],
   "source": [
    "# subset dataframe using conditional subsetting and column names\n",
    "gene_var = expr_sd_data.loc[expr_sd_data.Gene_sd > 1.25,\"Hour30\":]\n",
    "gene_var"
   ]
  },
  {
   "cell_type": "code",
   "execution_count": 55,
   "metadata": {},
   "outputs": [
    {
     "data": {
      "text/plain": [
       "Symbol\n",
       "ABCA1     False\n",
       "ABCC11    False\n",
       "ABCC3     False\n",
       "ABLIM1    False\n",
       "ABP1      False\n",
       "          ...  \n",
       "ZNF606    False\n",
       "ZNF616    False\n",
       "ZNF83     False\n",
       "ZNFX1     False\n",
       "ZWINT     False\n",
       "Name: Gene_sd, Length: 1175, dtype: bool"
      ]
     },
     "execution_count": 55,
     "metadata": {},
     "output_type": "execute_result"
    }
   ],
   "source": [
    "expr_sd_data.Gene_sd > 1.25"
   ]
  },
  {
   "cell_type": "code",
   "execution_count": 56,
   "metadata": {},
   "outputs": [
    {
     "data": {
      "text/html": [
       "<div>\n",
       "<style scoped>\n",
       "    .dataframe tbody tr th:only-of-type {\n",
       "        vertical-align: middle;\n",
       "    }\n",
       "\n",
       "    .dataframe tbody tr th {\n",
       "        vertical-align: top;\n",
       "    }\n",
       "\n",
       "    .dataframe thead th {\n",
       "        text-align: right;\n",
       "    }\n",
       "</style>\n",
       "<table border=\"1\" class=\"dataframe\">\n",
       "  <thead>\n",
       "    <tr style=\"text-align: right;\">\n",
       "      <th></th>\n",
       "      <th>Hour6</th>\n",
       "      <th>Hour9</th>\n",
       "      <th>Hour12</th>\n",
       "    </tr>\n",
       "    <tr>\n",
       "      <th>Symbol</th>\n",
       "      <th></th>\n",
       "      <th></th>\n",
       "      <th></th>\n",
       "    </tr>\n",
       "  </thead>\n",
       "  <tbody>\n",
       "    <tr>\n",
       "      <th>ZNF606</th>\n",
       "      <td>8.560340</td>\n",
       "      <td>8.955600</td>\n",
       "      <td>8.972039</td>\n",
       "    </tr>\n",
       "    <tr>\n",
       "      <th>ZNF616</th>\n",
       "      <td>9.998892</td>\n",
       "      <td>10.189743</td>\n",
       "      <td>10.348529</td>\n",
       "    </tr>\n",
       "    <tr>\n",
       "      <th>ZNF83</th>\n",
       "      <td>9.199572</td>\n",
       "      <td>9.589662</td>\n",
       "      <td>10.164692</td>\n",
       "    </tr>\n",
       "    <tr>\n",
       "      <th>ZNFX1</th>\n",
       "      <td>11.023671</td>\n",
       "      <td>11.415034</td>\n",
       "      <td>11.720743</td>\n",
       "    </tr>\n",
       "  </tbody>\n",
       "</table>\n",
       "</div>"
      ],
      "text/plain": [
       "            Hour6      Hour9     Hour12\n",
       "Symbol                                 \n",
       "ZNF606   8.560340   8.955600   8.972039\n",
       "ZNF616   9.998892  10.189743  10.348529\n",
       "ZNF83    9.199572   9.589662  10.164692\n",
       "ZNFX1   11.023671  11.415034  11.720743"
      ]
     },
     "execution_count": 56,
     "metadata": {},
     "output_type": "execute_result"
    }
   ],
   "source": [
    "expr_sd_data.loc[\"ZNF606\":\"ZNFX1\",\"Hour6\":\"Hour12\"]"
   ]
  },
  {
   "cell_type": "code",
   "execution_count": 57,
   "metadata": {},
   "outputs": [],
   "source": [
    "gene_var.to_csv(\"gene_var.txt\", sep = \"\\t\", header = True, index = True)"
   ]
  },
  {
   "cell_type": "code",
   "execution_count": 58,
   "metadata": {},
   "outputs": [
    {
     "data": {
      "text/html": [
       "<div>\n",
       "<style scoped>\n",
       "    .dataframe tbody tr th:only-of-type {\n",
       "        vertical-align: middle;\n",
       "    }\n",
       "\n",
       "    .dataframe tbody tr th {\n",
       "        vertical-align: top;\n",
       "    }\n",
       "\n",
       "    .dataframe thead th {\n",
       "        text-align: right;\n",
       "    }\n",
       "</style>\n",
       "<table border=\"1\" class=\"dataframe\">\n",
       "  <thead>\n",
       "    <tr style=\"text-align: right;\">\n",
       "      <th></th>\n",
       "      <th>Hour3</th>\n",
       "      <th>Hour6</th>\n",
       "      <th>Hour9</th>\n",
       "      <th>Hour12</th>\n",
       "    </tr>\n",
       "    <tr>\n",
       "      <th>Symbol</th>\n",
       "      <th></th>\n",
       "      <th></th>\n",
       "      <th></th>\n",
       "      <th></th>\n",
       "    </tr>\n",
       "  </thead>\n",
       "  <tbody>\n",
       "    <tr>\n",
       "      <th>ALPL</th>\n",
       "      <td>8.778420</td>\n",
       "      <td>8.933452</td>\n",
       "      <td>9.136818</td>\n",
       "      <td>9.144553</td>\n",
       "    </tr>\n",
       "    <tr>\n",
       "      <th>ALPP</th>\n",
       "      <td>12.028321</td>\n",
       "      <td>12.565463</td>\n",
       "      <td>12.374571</td>\n",
       "      <td>12.243421</td>\n",
       "    </tr>\n",
       "    <tr>\n",
       "      <th>ALS2CR4</th>\n",
       "      <td>11.548171</td>\n",
       "      <td>11.526548</td>\n",
       "      <td>11.375472</td>\n",
       "      <td>11.073074</td>\n",
       "    </tr>\n",
       "    <tr>\n",
       "      <th>AMPH</th>\n",
       "      <td>9.110688</td>\n",
       "      <td>9.362058</td>\n",
       "      <td>9.063548</td>\n",
       "      <td>8.109835</td>\n",
       "    </tr>\n",
       "    <tr>\n",
       "      <th>ANKMY1</th>\n",
       "      <td>9.697035</td>\n",
       "      <td>10.136663</td>\n",
       "      <td>10.455586</td>\n",
       "      <td>10.476246</td>\n",
       "    </tr>\n",
       "  </tbody>\n",
       "</table>\n",
       "</div>"
      ],
      "text/plain": [
       "             Hour3      Hour6      Hour9     Hour12\n",
       "Symbol                                             \n",
       "ALPL      8.778420   8.933452   9.136818   9.144553\n",
       "ALPP     12.028321  12.565463  12.374571  12.243421\n",
       "ALS2CR4  11.548171  11.526548  11.375472  11.073074\n",
       "AMPH      9.110688   9.362058   9.063548   8.109835\n",
       "ANKMY1    9.697035  10.136663  10.455586  10.476246"
      ]
     },
     "execution_count": 58,
     "metadata": {},
     "output_type": "execute_result"
    }
   ],
   "source": [
    "expr_data_small = expression_data.iloc[40:45,1:5]\n",
    "expr_data_small"
   ]
  },
  {
   "cell_type": "code",
   "execution_count": 59,
   "metadata": {},
   "outputs": [
    {
     "data": {
      "text/plain": [
       "<matplotlib.axes._subplots.AxesSubplot at 0x123068dc0>"
      ]
     },
     "execution_count": 59,
     "metadata": {},
     "output_type": "execute_result"
    },
    {
     "data": {
      "image/png": "[encoded data removed]",
      "text/plain": [
       "<Figure size 432x288 with 1 Axes>"
      ]
     },
     "metadata": {
      "needs_background": "light"
     },
     "output_type": "display_data"
    }
   ],
   "source": [
    "expr_data_small.loc[\"ALPL\"].plot()"
   ]
  },
  {
   "cell_type": "code",
   "execution_count": 60,
   "metadata": {},
   "outputs": [
    {
     "data": {
      "text/plain": [
       "Hour3     8.778420\n",
       "Hour6     8.933452\n",
       "Hour9     9.136818\n",
       "Hour12    9.144553\n",
       "Name: ALPL, dtype: float64"
      ]
     },
     "execution_count": 60,
     "metadata": {},
     "output_type": "execute_result"
    }
   ],
   "source": [
    "expr_data_small.loc[\"ALPL\"]"
   ]
  },
  {
   "cell_type": "code",
   "execution_count": 61,
   "metadata": {},
   "outputs": [
    {
     "data": {
      "text/plain": [
       "<matplotlib.axes._subplots.AxesSubplot at 0x123353100>"
      ]
     },
     "execution_count": 61,
     "metadata": {},
     "output_type": "execute_result"
    },
    {
     "data": {
      "image/png": "[encoded data removed]",
      "text/plain": [
       "<Figure size 432x288 with 1 Axes>"
      ]
     },
     "metadata": {
      "needs_background": "light"
     },
     "output_type": "display_data"
    }
   ],
   "source": [
    "expr_data_small.T.plot.box()"
   ]
  },
  {
   "cell_type": "code",
   "execution_count": 62,
   "metadata": {},
   "outputs": [
    {
     "data": {
      "text/html": [
       "<div>\n",
       "<style scoped>\n",
       "    .dataframe tbody tr th:only-of-type {\n",
       "        vertical-align: middle;\n",
       "    }\n",
       "\n",
       "    .dataframe tbody tr th {\n",
       "        vertical-align: top;\n",
       "    }\n",
       "\n",
       "    .dataframe thead th {\n",
       "        text-align: right;\n",
       "    }\n",
       "</style>\n",
       "<table border=\"1\" class=\"dataframe\">\n",
       "  <thead>\n",
       "    <tr style=\"text-align: right;\">\n",
       "      <th>Symbol</th>\n",
       "      <th>ALPL</th>\n",
       "      <th>ALPP</th>\n",
       "      <th>ALS2CR4</th>\n",
       "      <th>AMPH</th>\n",
       "      <th>ANKMY1</th>\n",
       "    </tr>\n",
       "  </thead>\n",
       "  <tbody>\n",
       "    <tr>\n",
       "      <th>Hour3</th>\n",
       "      <td>8.778420</td>\n",
       "      <td>12.028321</td>\n",
       "      <td>11.548171</td>\n",
       "      <td>9.110688</td>\n",
       "      <td>9.697035</td>\n",
       "    </tr>\n",
       "    <tr>\n",
       "      <th>Hour6</th>\n",
       "      <td>8.933452</td>\n",
       "      <td>12.565463</td>\n",
       "      <td>11.526548</td>\n",
       "      <td>9.362058</td>\n",
       "      <td>10.136663</td>\n",
       "    </tr>\n",
       "    <tr>\n",
       "      <th>Hour9</th>\n",
       "      <td>9.136818</td>\n",
       "      <td>12.374571</td>\n",
       "      <td>11.375472</td>\n",
       "      <td>9.063548</td>\n",
       "      <td>10.455586</td>\n",
       "    </tr>\n",
       "    <tr>\n",
       "      <th>Hour12</th>\n",
       "      <td>9.144553</td>\n",
       "      <td>12.243421</td>\n",
       "      <td>11.073074</td>\n",
       "      <td>8.109835</td>\n",
       "      <td>10.476246</td>\n",
       "    </tr>\n",
       "  </tbody>\n",
       "</table>\n",
       "</div>"
      ],
      "text/plain": [
       "Symbol      ALPL       ALPP    ALS2CR4      AMPH     ANKMY1\n",
       "Hour3   8.778420  12.028321  11.548171  9.110688   9.697035\n",
       "Hour6   8.933452  12.565463  11.526548  9.362058  10.136663\n",
       "Hour9   9.136818  12.374571  11.375472  9.063548  10.455586\n",
       "Hour12  9.144553  12.243421  11.073074  8.109835  10.476246"
      ]
     },
     "execution_count": 62,
     "metadata": {},
     "output_type": "execute_result"
    }
   ],
   "source": [
    "expr_data_small.T"
   ]
  },
  {
   "cell_type": "code",
   "execution_count": 63,
   "metadata": {},
   "outputs": [
    {
     "data": {
      "text/plain": [
       "array([2.        , 3.33333333])"
      ]
     },
     "execution_count": 63,
     "metadata": {},
     "output_type": "execute_result"
    }
   ],
   "source": [
    "mat = np.array([[1,2],[1,3],[4,5]])\n",
    "mat.mean(axis = 0)"
   ]
  },
  {
   "cell_type": "code",
   "execution_count": 64,
   "metadata": {},
   "outputs": [
    {
     "data": {
      "text/plain": [
       "array([[1, 2],\n",
       "       [1, 3],\n",
       "       [4, 5]])"
      ]
     },
     "execution_count": 64,
     "metadata": {},
     "output_type": "execute_result"
    }
   ],
   "source": [
    "mat"
   ]
  },
  {
   "cell_type": "markdown",
   "metadata": {},
   "source": [
    "#### RESOURCES\n",
    "\n",
    "https://www.python-course.eu/pandas.phphttps://www.python-course.eu/numpy.php    \n",
    "https://scipy-lectures.org/packages/statistics/index.html?highlight=pandas  \n",
    "https://www.geeksforgeeks.org/pandas-tutorial/"
   ]
  },
  {
   "cell_type": "markdown",
   "metadata": {},
   "source": [
    "https://pandas.pydata.org/Pandas_Cheat_Sheet.pdf"
   ]
  },
  {
   "cell_type": "markdown",
   "metadata": {},
   "source": [
    "<img src=\"https://pandas.pydata.org/Pandas_Cheat_Sheet.pdf\" width=1000/>"
   ]
  },
  {
   "cell_type": "code",
   "execution_count": null,
   "metadata": {},
   "outputs": [],
   "source": []
  },
  {
   "cell_type": "code",
   "execution_count": null,
   "metadata": {},
   "outputs": [],
   "source": []
  },
  {
   "cell_type": "code",
   "execution_count": null,
   "metadata": {},
   "outputs": [],
   "source": []
  },
  {
   "cell_type": "code",
   "execution_count": null,
   "metadata": {},
   "outputs": [],
   "source": []
  },
  {
   "cell_type": "markdown",
   "metadata": {},
   "source": [
    "____\n",
    "_____\n",
    "## Data Visualization"
   ]
  },
  {
   "cell_type": "markdown",
   "metadata": {},
   "source": [
    "____\n",
    "\n",
    "#### `matplotlib` - powerful basic plotting library - pandas plots are matplotlib plots\n",
    "https://matplotlib.org/3.1.1/tutorials/introductory/pyplot.html\n",
    "\n",
    "`matplotlib.pyplot` is a collection of command style functions that make matplotlib work like MATLAB. <br>\n",
    "Each pyplot function makes some change to a figure: e.g., creates a figure, creates a plotting area in a figure, plots some lines in a plotting area, decorates the plot with labels, etc.\n",
    "\n",
    "In `matplotlib.pyplot` various states are preserved across function calls, so that it keeps track of things like the current figure and plotting area, and the plotting functions are directed to the current axes.<br>\n",
    "\"axes\" in most places in the documentation refers to the axes part of a figure and not the strict mathematical term for more than one axis).\n",
    "\n",
    "\n",
    "https://github.com/pandas-dev/pandas/blob/v0.25.0/pandas/plotting/_core.py#L504-L1533\n",
    "https://matplotlib.org\n",
    "https://matplotlib.org/tutorials/    \n",
    "https://github.com/rougier/matplotlib-tutorial     \n",
    "https://www.tutorialspoint.com/matplotlib/matplotlib_pyplot_api.htm    \n",
    "https://realpython.com/python-matplotlib-guide/    \n",
    "https://github.com/matplotlib/AnatomyOfMatplotlib    \n",
    "https://www.w3schools.com/python/matplotlib_pyplot.asp   \n",
    "http://scipy-lectures.org/intro/matplotlib/index.html"
   ]
  },
  {
   "cell_type": "code",
   "execution_count": 65,
   "metadata": {},
   "outputs": [],
   "source": [
    "%matplotlib inline\n",
    "import matplotlib.pyplot as plt"
   ]
  },
  {
   "cell_type": "code",
   "execution_count": 66,
   "metadata": {},
   "outputs": [
    {
     "data": {
      "text/plain": [
       "[<matplotlib.lines.Line2D at 0x1234d79a0>]"
      ]
     },
     "execution_count": 66,
     "metadata": {},
     "output_type": "execute_result"
    },
    {
     "data": {
      "image/png": "[encoded data removed]",
      "text/plain": [
       "<Figure size 432x288 with 1 Axes>"
      ]
     },
     "metadata": {
      "needs_background": "light"
     },
     "output_type": "display_data"
    }
   ],
   "source": [
    "plt.plot([10,20,30], [4,5,6])"
   ]
  },
  {
   "cell_type": "markdown",
   "metadata": {},
   "source": [
    "Call signatures::\n",
    "```\n",
    "    plot([x], y, [fmt], data=None, **kwargs)\n",
    "    plot([x], y, [fmt], [x2], y2, [fmt2], ..., **kwargs)\n",
    "```"
   ]
  },
  {
   "cell_type": "markdown",
   "metadata": {},
   "source": [
    "The main usage of `plt` is the `plot()` and `show()` functions"
   ]
  },
  {
   "cell_type": "code",
   "execution_count": 67,
   "metadata": {},
   "outputs": [
    {
     "data": {
      "text/html": [
       "<div>\n",
       "<style scoped>\n",
       "    .dataframe tbody tr th:only-of-type {\n",
       "        vertical-align: middle;\n",
       "    }\n",
       "\n",
       "    .dataframe tbody tr th {\n",
       "        vertical-align: top;\n",
       "    }\n",
       "\n",
       "    .dataframe thead th {\n",
       "        text-align: right;\n",
       "    }\n",
       "</style>\n",
       "<table border=\"1\" class=\"dataframe\">\n",
       "  <thead>\n",
       "    <tr style=\"text-align: right;\">\n",
       "      <th>Symbol</th>\n",
       "      <th>ALPL</th>\n",
       "      <th>ALPP</th>\n",
       "      <th>ALS2CR4</th>\n",
       "      <th>AMPH</th>\n",
       "      <th>ANKMY1</th>\n",
       "    </tr>\n",
       "  </thead>\n",
       "  <tbody>\n",
       "    <tr>\n",
       "      <th>Hour3</th>\n",
       "      <td>8.778420</td>\n",
       "      <td>12.028321</td>\n",
       "      <td>11.548171</td>\n",
       "      <td>9.110688</td>\n",
       "      <td>9.697035</td>\n",
       "    </tr>\n",
       "    <tr>\n",
       "      <th>Hour6</th>\n",
       "      <td>8.933452</td>\n",
       "      <td>12.565463</td>\n",
       "      <td>11.526548</td>\n",
       "      <td>9.362058</td>\n",
       "      <td>10.136663</td>\n",
       "    </tr>\n",
       "    <tr>\n",
       "      <th>Hour9</th>\n",
       "      <td>9.136818</td>\n",
       "      <td>12.374571</td>\n",
       "      <td>11.375472</td>\n",
       "      <td>9.063548</td>\n",
       "      <td>10.455586</td>\n",
       "    </tr>\n",
       "    <tr>\n",
       "      <th>Hour12</th>\n",
       "      <td>9.144553</td>\n",
       "      <td>12.243421</td>\n",
       "      <td>11.073074</td>\n",
       "      <td>8.109835</td>\n",
       "      <td>10.476246</td>\n",
       "    </tr>\n",
       "  </tbody>\n",
       "</table>\n",
       "</div>"
      ],
      "text/plain": [
       "Symbol      ALPL       ALPP    ALS2CR4      AMPH     ANKMY1\n",
       "Hour3   8.778420  12.028321  11.548171  9.110688   9.697035\n",
       "Hour6   8.933452  12.565463  11.526548  9.362058  10.136663\n",
       "Hour9   9.136818  12.374571  11.375472  9.063548  10.455586\n",
       "Hour12  9.144553  12.243421  11.073074  8.109835  10.476246"
      ]
     },
     "execution_count": 67,
     "metadata": {},
     "output_type": "execute_result"
    }
   ],
   "source": [
    "expr_data_small.T"
   ]
  },
  {
   "cell_type": "code",
   "execution_count": 68,
   "metadata": {},
   "outputs": [
    {
     "data": {
      "text/html": [
       "<div>\n",
       "<style scoped>\n",
       "    .dataframe tbody tr th:only-of-type {\n",
       "        vertical-align: middle;\n",
       "    }\n",
       "\n",
       "    .dataframe tbody tr th {\n",
       "        vertical-align: top;\n",
       "    }\n",
       "\n",
       "    .dataframe thead th {\n",
       "        text-align: right;\n",
       "    }\n",
       "</style>\n",
       "<table border=\"1\" class=\"dataframe\">\n",
       "  <thead>\n",
       "    <tr style=\"text-align: right;\">\n",
       "      <th></th>\n",
       "      <th>Hour3</th>\n",
       "      <th>Hour6</th>\n",
       "      <th>Hour9</th>\n",
       "      <th>Hour12</th>\n",
       "    </tr>\n",
       "    <tr>\n",
       "      <th>Symbol</th>\n",
       "      <th></th>\n",
       "      <th></th>\n",
       "      <th></th>\n",
       "      <th></th>\n",
       "    </tr>\n",
       "  </thead>\n",
       "  <tbody>\n",
       "    <tr>\n",
       "      <th>ALPL</th>\n",
       "      <td>8.778420</td>\n",
       "      <td>8.933452</td>\n",
       "      <td>9.136818</td>\n",
       "      <td>9.144553</td>\n",
       "    </tr>\n",
       "    <tr>\n",
       "      <th>ALPP</th>\n",
       "      <td>12.028321</td>\n",
       "      <td>12.565463</td>\n",
       "      <td>12.374571</td>\n",
       "      <td>12.243421</td>\n",
       "    </tr>\n",
       "    <tr>\n",
       "      <th>ALS2CR4</th>\n",
       "      <td>11.548171</td>\n",
       "      <td>11.526548</td>\n",
       "      <td>11.375472</td>\n",
       "      <td>11.073074</td>\n",
       "    </tr>\n",
       "    <tr>\n",
       "      <th>AMPH</th>\n",
       "      <td>9.110688</td>\n",
       "      <td>9.362058</td>\n",
       "      <td>9.063548</td>\n",
       "      <td>8.109835</td>\n",
       "    </tr>\n",
       "    <tr>\n",
       "      <th>ANKMY1</th>\n",
       "      <td>9.697035</td>\n",
       "      <td>10.136663</td>\n",
       "      <td>10.455586</td>\n",
       "      <td>10.476246</td>\n",
       "    </tr>\n",
       "  </tbody>\n",
       "</table>\n",
       "</div>"
      ],
      "text/plain": [
       "             Hour3      Hour6      Hour9     Hour12\n",
       "Symbol                                             \n",
       "ALPL      8.778420   8.933452   9.136818   9.144553\n",
       "ALPP     12.028321  12.565463  12.374571  12.243421\n",
       "ALS2CR4  11.548171  11.526548  11.375472  11.073074\n",
       "AMPH      9.110688   9.362058   9.063548   8.109835\n",
       "ANKMY1    9.697035  10.136663  10.455586  10.476246"
      ]
     },
     "execution_count": 68,
     "metadata": {},
     "output_type": "execute_result"
    }
   ],
   "source": [
    "expr_data_small"
   ]
  },
  {
   "cell_type": "code",
   "execution_count": 69,
   "metadata": {},
   "outputs": [
    {
     "data": {
      "image/png": "[encoded data removed]",
      "text/plain": [
       "<Figure size 432x288 with 1 Axes>"
      ]
     },
     "metadata": {
      "needs_background": "light"
     },
     "output_type": "display_data"
    }
   ],
   "source": [
    "# Plot the two lists, add axes labels\n",
    "\n",
    "plt.plot(expr_data_small.T, marker = \"s\")\n",
    "plt.xlabel(\"Time\")\n",
    "plt.ylabel(\"Expression\")\n",
    "plt.legend(expr_data_small.index)\n",
    "plt.xticks(rotation = 90)\n",
    "plt.show()"
   ]
  },
  {
   "cell_type": "markdown",
   "metadata": {},
   "source": [
    "`matplotlib` can use *format strings* to quickly declare the type of plots you want. Here are *some* of those formats:\n",
    "\n",
    "|**Character**|**Description**|\n",
    "|:-----------:|:--------------|\n",
    "|'--'|Dashed line|\n",
    "|':'|Dotted line|\n",
    "|'o'|Circle marker|\n",
    "|'^'|Upwards triangle marker|\n",
    "|'b'|Blue|\n",
    "|'c'|Cyan|\n",
    "|'g'|Green|"
   ]
  },
  {
   "cell_type": "code",
   "execution_count": 70,
   "metadata": {},
   "outputs": [
    {
     "data": {
      "image/png": "[encoded data removed]",
      "text/plain": [
       "<Figure size 432x288 with 1 Axes>"
      ]
     },
     "metadata": {
      "needs_background": "light"
     },
     "output_type": "display_data"
    }
   ],
   "source": [
    "plt.plot(expr_data_small.loc[\"AMPH\"], '^b--', linewidth=3, markersize=12)\n",
    "plt.xticks(rotation = 90)\n",
    "\n",
    "plt.show()"
   ]
  },
  {
   "cell_type": "code",
   "execution_count": 71,
   "metadata": {},
   "outputs": [
    {
     "data": {
      "image/png": "[encoded data removed]",
      "text/plain": [
       "<Figure size 432x288 with 1 Axes>"
      ]
     },
     "metadata": {
      "needs_background": "light"
     },
     "output_type": "display_data"
    }
   ],
   "source": [
    "plt.plot(expr_data_small.loc[\"AMPH\"], color='blue', marker='^', linestyle='dashed', linewidth=0.5, markersize=5)\n",
    "plt.xticks(rotation = 90)\n",
    "\n",
    "\n",
    "plt.show()"
   ]
  },
  {
   "cell_type": "code",
   "execution_count": 72,
   "metadata": {},
   "outputs": [
    {
     "data": {
      "image/png": "[encoded data removed]",
      "text/plain": [
       "<Figure size 432x288 with 1 Axes>"
      ]
     },
     "metadata": {
      "needs_background": "light"
     },
     "output_type": "display_data"
    }
   ],
   "source": [
    "plt.plot(expr_data_small.loc[\"AMPH\"], '^m--', expr_data_small.loc[\"ALPL\"], 'sg-')\n",
    "plt.xticks(rotation = 90)\n",
    "\n",
    "plt.show()"
   ]
  },
  {
   "cell_type": "code",
   "execution_count": 73,
   "metadata": {},
   "outputs": [
    {
     "data": {
      "image/png": "[encoded data removed]",
      "text/plain": [
       "<Figure size 1152x864 with 4 Axes>"
      ]
     },
     "metadata": {
      "needs_background": "light"
     },
     "output_type": "display_data"
    }
   ],
   "source": [
    "# Making a figure -  grid layout\n",
    "\n",
    "\n",
    "plt.figure(figsize=(16, 12))\n",
    "\n",
    "plt.subplot(221)\n",
    "plt.bar(expr_data_small.index, expr_data_small.mean(axis = 1))\n",
    "plt.xticks(rotation = 90)\n",
    "\n",
    "plt.subplot(222)\n",
    "plt.scatter(expr_data_small.columns, expr_data_small.loc[\"AMPH\"], color = \"red\")\n",
    "plt.scatter(expr_data_small.columns, expr_data_small.loc[\"ALPL\"], color = \"lime\")\n",
    "plt.legend([\"AMPH\",\"ALPL\"])\n",
    "plt.xticks(rotation = 90)\n",
    "\n",
    "plt.subplot(223)\n",
    "plt.hist(expr_data_small.loc[\"AMPH\"])\n",
    "plt.hist(expr_data_small.loc[\"ALPL\"])\n",
    "plt.legend([\"AMPH\",\"ALPL\"])\n",
    "\n",
    "axs = plt.subplot(224)\n",
    "axs.violinplot(expr_data_small)\n",
    "axs.set_xticks(range(1,6))\n",
    "axs.set_xticklabels(expr_data_small.index)\n",
    "plt.xticks(rotation = 90)\n",
    "\n",
    "\n",
    "\n",
    "plt.suptitle('Cool data summary')\n",
    "plt.show()"
   ]
  },
  {
   "cell_type": "code",
   "execution_count": null,
   "metadata": {},
   "outputs": [],
   "source": []
  },
  {
   "cell_type": "code",
   "execution_count": 74,
   "metadata": {},
   "outputs": [],
   "source": [
    "# help(plt.bar)"
   ]
  },
  {
   "cell_type": "markdown",
   "metadata": {},
   "source": [
    "#### Multiple Plots"
   ]
  },
  {
   "cell_type": "code",
   "execution_count": 75,
   "metadata": {},
   "outputs": [
    {
     "data": {
      "image/png": "[encoded data removed]",
      "text/plain": [
       "<Figure size 432x288 with 1 Axes>"
      ]
     },
     "metadata": {
      "needs_background": "light"
     },
     "output_type": "display_data"
    }
   ],
   "source": [
    "expr_data_small.T.AMPH.plot(kind='density')\n",
    "expr_data_small.T.ALPL.plot(kind='density')\n",
    "plt.legend()\n",
    "plt.show()"
   ]
  },
  {
   "cell_type": "markdown",
   "metadata": {},
   "source": [
    "____________\n",
    "\n",
    "### `seaborn` - dataset-oriented plotting"
   ]
  },
  {
   "cell_type": "markdown",
   "metadata": {},
   "source": [
    "Seaborn is a library that specializes in making *prettier* `matplotlib` plots of statistical data. <br>\n",
    "It is built on top of matplotlib and closely integrated with pandas data structures.\n",
    "\n",
    "https://seaborn.pydata.org/introduction.html<br>\n",
    "https://python-graph-gallery.com/seaborn/   \n",
    "https://jakevdp.github.io/PythonDataScienceHandbook/04.14-visualization-with-seaborn.html\n",
    "https://seaborn.pydata.org/tutorial/distributions.html"
   ]
  },
  {
   "cell_type": "code",
   "execution_count": 76,
   "metadata": {},
   "outputs": [],
   "source": [
    "import seaborn as sns"
   ]
  },
  {
   "cell_type": "markdown",
   "metadata": {},
   "source": [
    "`seaborn` lets users *style* their plotting environment."
   ]
  },
  {
   "cell_type": "code",
   "execution_count": 77,
   "metadata": {},
   "outputs": [],
   "source": [
    "sns.set(style='whitegrid')"
   ]
  },
  {
   "cell_type": "code",
   "execution_count": 78,
   "metadata": {},
   "outputs": [],
   "source": [
    "#dir(sns)"
   ]
  },
  {
   "cell_type": "code",
   "execution_count": 79,
   "metadata": {},
   "outputs": [],
   "source": [
    "colors = [\"<= Hour15\",\"<= Hour15\",\"<= Hour15\",\"<= Hour15\",\"<= Hour15\",\n",
    "         \"<= Hour30\",\"<= Hour30\",\"<= Hour30\",\"<= Hour30\",\"<= Hour30\",\n",
    "         \"<= Hour45\",\"<= Hour45\",\"<= Hour45\",\"<= Hour45\",\"<= Hour45\"]"
   ]
  },
  {
   "cell_type": "code",
   "execution_count": 80,
   "metadata": {},
   "outputs": [
    {
     "data": {
      "image/png": "[encoded data removed]",
      "text/plain": [
       "<Figure size 432x288 with 1 Axes>"
      ]
     },
     "metadata": {},
     "output_type": "display_data"
    }
   ],
   "source": [
    "# hue argument allows you to color dots by category\n",
    "\n",
    "sns.scatterplot(x='AMPH',y='ALPL', hue = colors, data=expression_data.iloc[:,:-1].T)\n",
    "plt.show()"
   ]
  },
  {
   "cell_type": "code",
   "execution_count": 81,
   "metadata": {},
   "outputs": [
    {
     "data": {
      "image/png": "[encoded data removed]",
      "text/plain": [
       "<Figure size 451.475x360 with 1 Axes>"
      ]
     },
     "metadata": {},
     "output_type": "display_data"
    }
   ],
   "source": [
    "sns.relplot(x=\"AMPH\", y=\"ALPL\", data=expression_data.iloc[:,:-1].T, hue = colors)\n",
    "plt.show()"
   ]
  },
  {
   "cell_type": "code",
   "execution_count": 82,
   "metadata": {},
   "outputs": [
    {
     "data": {
      "text/html": [
       "<div>\n",
       "<style scoped>\n",
       "    .dataframe tbody tr th:only-of-type {\n",
       "        vertical-align: middle;\n",
       "    }\n",
       "\n",
       "    .dataframe tbody tr th {\n",
       "        vertical-align: top;\n",
       "    }\n",
       "\n",
       "    .dataframe thead th {\n",
       "        text-align: right;\n",
       "    }\n",
       "</style>\n",
       "<table border=\"1\" class=\"dataframe\">\n",
       "  <thead>\n",
       "    <tr style=\"text-align: right;\">\n",
       "      <th></th>\n",
       "      <th>sepal_length</th>\n",
       "      <th>sepal_width</th>\n",
       "      <th>petal_length</th>\n",
       "      <th>petal_width</th>\n",
       "      <th>species</th>\n",
       "    </tr>\n",
       "  </thead>\n",
       "  <tbody>\n",
       "    <tr>\n",
       "      <th>0</th>\n",
       "      <td>5.1</td>\n",
       "      <td>3.5</td>\n",
       "      <td>1.4</td>\n",
       "      <td>0.2</td>\n",
       "      <td>setosa</td>\n",
       "    </tr>\n",
       "    <tr>\n",
       "      <th>1</th>\n",
       "      <td>4.9</td>\n",
       "      <td>3.0</td>\n",
       "      <td>1.4</td>\n",
       "      <td>0.2</td>\n",
       "      <td>setosa</td>\n",
       "    </tr>\n",
       "    <tr>\n",
       "      <th>2</th>\n",
       "      <td>4.7</td>\n",
       "      <td>3.2</td>\n",
       "      <td>1.3</td>\n",
       "      <td>0.2</td>\n",
       "      <td>setosa</td>\n",
       "    </tr>\n",
       "    <tr>\n",
       "      <th>3</th>\n",
       "      <td>4.6</td>\n",
       "      <td>3.1</td>\n",
       "      <td>1.5</td>\n",
       "      <td>0.2</td>\n",
       "      <td>setosa</td>\n",
       "    </tr>\n",
       "    <tr>\n",
       "      <th>4</th>\n",
       "      <td>5.0</td>\n",
       "      <td>3.6</td>\n",
       "      <td>1.4</td>\n",
       "      <td>0.2</td>\n",
       "      <td>setosa</td>\n",
       "    </tr>\n",
       "  </tbody>\n",
       "</table>\n",
       "</div>"
      ],
      "text/plain": [
       "   sepal_length  sepal_width  petal_length  petal_width species\n",
       "0           5.1          3.5           1.4          0.2  setosa\n",
       "1           4.9          3.0           1.4          0.2  setosa\n",
       "2           4.7          3.2           1.3          0.2  setosa\n",
       "3           4.6          3.1           1.5          0.2  setosa\n",
       "4           5.0          3.6           1.4          0.2  setosa"
      ]
     },
     "execution_count": 82,
     "metadata": {},
     "output_type": "execute_result"
    }
   ],
   "source": [
    "df_iris = pd.read_csv('https://raw.githubusercontent.com/uiuc-cse/data-fa14/gh-pages/data/iris.csv')\n",
    "df_iris.head()"
   ]
  },
  {
   "cell_type": "code",
   "execution_count": 83,
   "metadata": {},
   "outputs": [
    {
     "data": {
      "image/png": "[encoded data removed]",
      "text/plain": [
       "<Figure size 1166.85x360 with 3 Axes>"
      ]
     },
     "metadata": {},
     "output_type": "display_data"
    }
   ],
   "source": [
    "sns.relplot(x=\"petal_length\", y=\"petal_width\", col=\"species\",\n",
    "            hue=\"species\", style=\"species\", size=\"species\",\n",
    "            data=df_iris)\n",
    "plt.show()"
   ]
  },
  {
   "cell_type": "code",
   "execution_count": 84,
   "metadata": {},
   "outputs": [
    {
     "data": {
      "image/png": "[encoded data removed]",
      "text/plain": [
       "<Figure size 432x288 with 2 Axes>"
      ]
     },
     "metadata": {},
     "output_type": "display_data"
    }
   ],
   "source": [
    "sns.heatmap(expression_data[gene_sd>1.1], center = 12, cmap = \"Oranges\")\n",
    "plt.show()"
   ]
  },
  {
   "cell_type": "markdown",
   "metadata": {},
   "source": [
    "____\n",
    "\n",
    "### `plotnine` - grammar of graphics - R ggplot2 in python"
   ]
  },
  {
   "cell_type": "markdown",
   "metadata": {},
   "source": [
    "plotnine is an implementation of a grammar of graphics in Python, it is based on ggplot2. The grammar allows users to compose plots by explicitly mapping data to the visual objects that make up the plot.\n",
    "\n",
    "Plotting with a grammar is powerful, it makes custom (and otherwise complex) plots are easy to think about and then create, while the simple plots remain simple.\n",
    "\n"
   ]
  },
  {
   "cell_type": "markdown",
   "metadata": {},
   "source": [
    "https://plotnine.readthedocs.io/en/stable/   \n",
    "http://cmdlinetips.com/2018/05/plotnine-a-python-library-to-use-ggplot2-in-python/  \n",
    "https://plotnine.readthedocs.io/en/stable/tutorials/miscellaneous-altering-colors.html   \n",
    "https://datascienceworkshops.com/blog/plotnine-grammar-of-graphics-for-python/   \n",
    "https://realpython.com/ggplot-python/"
   ]
  },
  {
   "cell_type": "code",
   "execution_count": 85,
   "metadata": {},
   "outputs": [],
   "source": [
    "# !pip install plotnine"
   ]
  },
  {
   "cell_type": "code",
   "execution_count": 86,
   "metadata": {},
   "outputs": [],
   "source": [
    "from plotnine import *"
   ]
  },
  {
   "cell_type": "code",
   "execution_count": 87,
   "metadata": {},
   "outputs": [
    {
     "data": {
      "text/html": [
       "<div>\n",
       "<style scoped>\n",
       "    .dataframe tbody tr th:only-of-type {\n",
       "        vertical-align: middle;\n",
       "    }\n",
       "\n",
       "    .dataframe tbody tr th {\n",
       "        vertical-align: top;\n",
       "    }\n",
       "\n",
       "    .dataframe thead th {\n",
       "        text-align: right;\n",
       "    }\n",
       "</style>\n",
       "<table border=\"1\" class=\"dataframe\">\n",
       "  <thead>\n",
       "    <tr style=\"text-align: right;\">\n",
       "      <th></th>\n",
       "      <th>Symbol</th>\n",
       "      <th>value</th>\n",
       "    </tr>\n",
       "  </thead>\n",
       "  <tbody>\n",
       "    <tr>\n",
       "      <th>0</th>\n",
       "      <td>ALPL</td>\n",
       "      <td>8.778420</td>\n",
       "    </tr>\n",
       "    <tr>\n",
       "      <th>1</th>\n",
       "      <td>ALPL</td>\n",
       "      <td>8.933452</td>\n",
       "    </tr>\n",
       "    <tr>\n",
       "      <th>2</th>\n",
       "      <td>ALPL</td>\n",
       "      <td>9.136818</td>\n",
       "    </tr>\n",
       "    <tr>\n",
       "      <th>3</th>\n",
       "      <td>ALPL</td>\n",
       "      <td>9.144553</td>\n",
       "    </tr>\n",
       "    <tr>\n",
       "      <th>4</th>\n",
       "      <td>ALPP</td>\n",
       "      <td>12.028321</td>\n",
       "    </tr>\n",
       "    <tr>\n",
       "      <th>5</th>\n",
       "      <td>ALPP</td>\n",
       "      <td>12.565463</td>\n",
       "    </tr>\n",
       "    <tr>\n",
       "      <th>6</th>\n",
       "      <td>ALPP</td>\n",
       "      <td>12.374571</td>\n",
       "    </tr>\n",
       "    <tr>\n",
       "      <th>7</th>\n",
       "      <td>ALPP</td>\n",
       "      <td>12.243421</td>\n",
       "    </tr>\n",
       "    <tr>\n",
       "      <th>8</th>\n",
       "      <td>ALS2CR4</td>\n",
       "      <td>11.548171</td>\n",
       "    </tr>\n",
       "    <tr>\n",
       "      <th>9</th>\n",
       "      <td>ALS2CR4</td>\n",
       "      <td>11.526548</td>\n",
       "    </tr>\n",
       "    <tr>\n",
       "      <th>10</th>\n",
       "      <td>ALS2CR4</td>\n",
       "      <td>11.375472</td>\n",
       "    </tr>\n",
       "    <tr>\n",
       "      <th>11</th>\n",
       "      <td>ALS2CR4</td>\n",
       "      <td>11.073074</td>\n",
       "    </tr>\n",
       "    <tr>\n",
       "      <th>12</th>\n",
       "      <td>AMPH</td>\n",
       "      <td>9.110688</td>\n",
       "    </tr>\n",
       "    <tr>\n",
       "      <th>13</th>\n",
       "      <td>AMPH</td>\n",
       "      <td>9.362058</td>\n",
       "    </tr>\n",
       "    <tr>\n",
       "      <th>14</th>\n",
       "      <td>AMPH</td>\n",
       "      <td>9.063548</td>\n",
       "    </tr>\n",
       "    <tr>\n",
       "      <th>15</th>\n",
       "      <td>AMPH</td>\n",
       "      <td>8.109835</td>\n",
       "    </tr>\n",
       "    <tr>\n",
       "      <th>16</th>\n",
       "      <td>ANKMY1</td>\n",
       "      <td>9.697035</td>\n",
       "    </tr>\n",
       "    <tr>\n",
       "      <th>17</th>\n",
       "      <td>ANKMY1</td>\n",
       "      <td>10.136663</td>\n",
       "    </tr>\n",
       "    <tr>\n",
       "      <th>18</th>\n",
       "      <td>ANKMY1</td>\n",
       "      <td>10.455586</td>\n",
       "    </tr>\n",
       "    <tr>\n",
       "      <th>19</th>\n",
       "      <td>ANKMY1</td>\n",
       "      <td>10.476246</td>\n",
       "    </tr>\n",
       "  </tbody>\n",
       "</table>\n",
       "</div>"
      ],
      "text/plain": [
       "     Symbol      value\n",
       "0      ALPL   8.778420\n",
       "1      ALPL   8.933452\n",
       "2      ALPL   9.136818\n",
       "3      ALPL   9.144553\n",
       "4      ALPP  12.028321\n",
       "5      ALPP  12.565463\n",
       "6      ALPP  12.374571\n",
       "7      ALPP  12.243421\n",
       "8   ALS2CR4  11.548171\n",
       "9   ALS2CR4  11.526548\n",
       "10  ALS2CR4  11.375472\n",
       "11  ALS2CR4  11.073074\n",
       "12     AMPH   9.110688\n",
       "13     AMPH   9.362058\n",
       "14     AMPH   9.063548\n",
       "15     AMPH   8.109835\n",
       "16   ANKMY1   9.697035\n",
       "17   ANKMY1  10.136663\n",
       "18   ANKMY1  10.455586\n",
       "19   ANKMY1  10.476246"
      ]
     },
     "execution_count": 87,
     "metadata": {},
     "output_type": "execute_result"
    }
   ],
   "source": [
    "pd.melt(expr_data_small.T)"
   ]
  },
  {
   "cell_type": "code",
   "execution_count": 88,
   "metadata": {},
   "outputs": [
    {
     "data": {
      "image/png": "[encoded data removed]",
      "text/plain": [
       "<Figure size 640x480 with 1 Axes>"
      ]
     },
     "metadata": {},
     "output_type": "display_data"
    },
    {
     "data": {
      "text/plain": [
       "<ggplot: (310114292)>"
      ]
     },
     "execution_count": 88,
     "metadata": {},
     "output_type": "execute_result"
    }
   ],
   "source": [
    "ggplot(data=pd.melt(expr_data_small.T)) + geom_boxplot(aes(x = \"Symbol\", y = \"value\"))"
   ]
  },
  {
   "cell_type": "code",
   "execution_count": 89,
   "metadata": {},
   "outputs": [
    {
     "data": {
      "image/png": "[encoded data removed]",
      "text/plain": [
       "<Figure size 700x700 with 3 Axes>"
      ]
     },
     "metadata": {},
     "output_type": "display_data"
    },
    {
     "data": {
      "text/plain": [
       "<ggplot: (310142184)>"
      ]
     },
     "execution_count": 89,
     "metadata": {},
     "output_type": "execute_result"
    }
   ],
   "source": [
    "# add transparency - to avoid over plotting - alpha argument and change point size \n",
    "# more parameters - scale_x_log10 - transform x axis values to log scale, xlab - add label to x axis\n",
    "\n",
    "ggplot(data=df_iris) +aes(x='petal_length',y='petal_width',color=\"species\") + \\\n",
    "    geom_point(size=0.7,alpha=0.7) + facet_wrap('~species',nrow=3) + \\\n",
    "    theme(figure_size=(7,7)) + ggtitle(\"Plot of iris dataset\") + \\\n",
    "    scale_x_log10() + xlab(\"Petal Length\") + ylab(\"Petal Width\")\n"
   ]
  },
  {
   "cell_type": "code",
   "execution_count": 90,
   "metadata": {},
   "outputs": [
    {
     "data": {
      "image/png": "[encoded data removed]",
      "text/plain": [
       "<Figure size 640x480 with 1 Axes>"
      ]
     },
     "metadata": {},
     "output_type": "display_data"
    },
    {
     "data": {
      "text/plain": [
       "<ggplot: (305619378)>"
      ]
     },
     "execution_count": 90,
     "metadata": {},
     "output_type": "execute_result"
    }
   ],
   "source": [
    "# Set width of bar for histogram and color for the bar line and bar fill color\n",
    "\n",
    "p = ggplot(data=df_iris) + aes(x='petal_length') + geom_histogram(binwidth=1,color='black',fill='grey')\n",
    "p"
   ]
  },
  {
   "cell_type": "code",
   "execution_count": 91,
   "metadata": {},
   "outputs": [
    {
     "data": {
      "image/png": "[encoded data removed]",
      "text/plain": [
       "<Figure size 640x480 with 1 Axes>"
      ]
     },
     "metadata": {},
     "output_type": "display_data"
    },
    {
     "data": {
      "text/plain": [
       "<ggplot: (305538768)>"
      ]
     },
     "execution_count": 91,
     "metadata": {},
     "output_type": "execute_result"
    }
   ],
   "source": [
    "# Create a linear regression line that uses the petal length to predict the petal width of the flower\n",
    "# These are broken down in 3 categories by species\n",
    "# The grey area is the 95% confidence level interval for predictions from a linear model (\"lm\")\n",
    "\n",
    "p = ggplot(df_iris, aes('petal_length', 'petal_width', color='species')) \\\n",
    " + geom_point() \\\n",
    " + stat_smooth(method='lm')\n",
    "# + facet_wrap('~species'))\n",
    "p"
   ]
  },
  {
   "cell_type": "code",
   "execution_count": 92,
   "metadata": {},
   "outputs": [
    {
     "name": "stderr",
     "output_type": "stream",
     "text": [
      "/opt/anaconda3/lib/python3.8/site-packages/plotnine/ggplot.py:727: PlotnineWarning: Saving 6.4 x 4.8 in image.\n",
      "/opt/anaconda3/lib/python3.8/site-packages/plotnine/ggplot.py:730: PlotnineWarning: Filename: iris_linear_model.png\n"
     ]
    }
   ],
   "source": [
    "# Save the plot to a file\n",
    "\n",
    "ggsave(plot=p, filename='iris_linear_model.png')\n"
   ]
  },
  {
   "cell_type": "markdown",
   "metadata": {},
   "source": [
    "\n",
    "https://www.rstudio.com/wp-content/uploads/2015/03/ggplot2-cheatsheet.pdf"
   ]
  },
  {
   "cell_type": "markdown",
   "metadata": {},
   "source": [
    "<img src = \"https://www.rstudio.com/wp-content/uploads/2015/03/ggplot2-cheatsheet.pdf\" width = \"1000\"/>"
   ]
  },
  {
   "cell_type": "code",
   "execution_count": null,
   "metadata": {},
   "outputs": [],
   "source": []
  },
  {
   "cell_type": "code",
   "execution_count": 93,
   "metadata": {},
   "outputs": [],
   "source": [
    "x = [1,2,3,4]\n",
    "\n",
    "y = [x, x]"
   ]
  },
  {
   "cell_type": "code",
   "execution_count": 94,
   "metadata": {},
   "outputs": [],
   "source": [
    "y[0][2] = 30"
   ]
  },
  {
   "cell_type": "code",
   "execution_count": 95,
   "metadata": {},
   "outputs": [
    {
     "data": {
      "text/plain": [
       "[[1, 2, 30, 4], [1, 2, 30, 4]]"
      ]
     },
     "execution_count": 95,
     "metadata": {},
     "output_type": "execute_result"
    }
   ],
   "source": [
    "y"
   ]
  },
  {
   "cell_type": "code",
   "execution_count": 96,
   "metadata": {},
   "outputs": [
    {
     "data": {
      "text/plain": [
       "[[1, 2, 3, 4], [1, 2, 3, 4]]"
      ]
     },
     "execution_count": 96,
     "metadata": {},
     "output_type": "execute_result"
    }
   ],
   "source": [
    "y = [[1,2,3,4], [1,2,3,4]]\n",
    "y"
   ]
  },
  {
   "cell_type": "code",
   "execution_count": 97,
   "metadata": {},
   "outputs": [
    {
     "data": {
      "text/plain": [
       "[[1, 2, 30, 4], [1, 2, 3, 4]]"
      ]
     },
     "execution_count": 97,
     "metadata": {},
     "output_type": "execute_result"
    }
   ],
   "source": [
    "y[0][2] = 30\n",
    "y"
   ]
  },
  {
   "cell_type": "code",
   "execution_count": null,
   "metadata": {},
   "outputs": [],
   "source": []
  }
 ],
 "metadata": {
  "kernelspec": {
   "display_name": "Python 3",
   "language": "python",
   "name": "python3"
  },
  "language_info": {
   "codemirror_mode": {
    "name": "ipython",
    "version": 3
   },
   "file_extension": ".py",
   "mimetype": "text/x-python",
   "name": "python",
   "nbconvert_exporter": "python",
   "pygments_lexer": "ipython3",
   "version": "3.8.3"
  }
 },
 "nbformat": 4,
 "nbformat_minor": 4
}
