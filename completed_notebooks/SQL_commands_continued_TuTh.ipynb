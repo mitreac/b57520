{
 "cells": [
  {
   "cell_type": "markdown",
   "metadata": {},
   "source": [
    "## SQL - Major SQL commands\n",
    "### BIOINF 575 - Fall 2020"
   ]
  },
  {
   "cell_type": "markdown",
   "metadata": {},
   "source": [
    "##### RESOURCES\n",
    "https://sqlite.org/index.html    \n",
    "https://www.sqlite.org/fullsql.html  \n",
    "https://docs.python.org/3/library/sqlite3.html  \n",
    "https://www.sqlite.org/lang_aggfunc.html  \n",
    "https://www.sqlitetutorial.net/sqlite-create-table/    \n",
    "https://www.sqlite.org/syntaxdiagrams.html    \n",
    "https://www.tutorialspoint.com/python_network_programming/python_databases_and_sql.htm  \n",
    "https://www.tutorialspoint.com/python/python_database_access.htm  \n",
    "https://www.python-course.eu/sql_python.php  \n",
    "https://www.sqlalchemy.org/library.html#reference    \n",
    "https://docs.sqlalchemy.org/en/13/orm/  \n",
    "https://docs.sqlalchemy.org/en/14/orm/tutorial.html#version-check  \n",
    "https://towardsdatascience.com/sql-in-python-for-beginners-b9a4f9293ecf  \n"
   ]
  },
  {
   "cell_type": "markdown",
   "metadata": {},
   "source": [
    "#### What is a database? \n",
    "\n",
    "* Is an organized collection of data (files)\n",
    "* A way to store and retrieve that information\n",
    "* A relational database is structured to recognize relations between the data elements\n",
    "\n",
    "\n",
    "*  A collection of data\n",
    "\n",
    "        * Dictionary\n",
    "            {\"EGFR\":6.8, \"MYC\": 4.5, \"WNT1\":11.7}\n",
    "\n",
    "        * Tab-separated text file, or pd.DataFrame\n",
    "\n",
    "\n",
    "| GeneID  | GeneSymbol  | ExpressionValue  |\n",
    "|---------|-------------|------------------|\n",
    "| 7471    | WNT1        |             11.7 |\n",
    "| 4609    | MYC         |              4.5 |\n",
    "| 1956    | EGFR        |              6.8 |\n",
    "\n",
    "\n",
    "Entity-Relationship Diagram - shows the relations between tables in a relational database\n",
    "- tables are connected by fields (columns) that are common - called keys\n",
    "\n",
    "\n",
    "https://www.researchgate.net/profile/Adam_Richards3/publication/282134102/figure/fig3/AS:289128232046602@1445944950296/Database-entity-diagram-Data-collected-from-NCBI-the-Gene-Ontology-and-UniProt-are.png\n",
    "\n",
    "<img src = \"https://www.researchgate.net/profile/Adam_Richards3/publication/282134102/figure/fig3/AS:289128232046602@1445944950296/Database-entity-diagram-Data-collected-from-NCBI-the-Gene-Ontology-and-UniProt-are.png\" width = \"600\"/>\n",
    "\n",
    "\n",
    "<img src = \"https://github.com/mitreac/b575f20/raw/master/images/Tables_examples.png\" width = \"500\" />\n",
    "\n",
    "\n",
    "#### Relational Database Management Systems (RDBMS)\n",
    "* Software programs such as Oracle, MySQL, SQLServer, DB2, postgreSQL, SQLite \n",
    "* They handle the data storage, indexing, logging, tracking and security (access)  \n",
    "* They have a very fine-grained way of granting permissions to users at the level of commands that may be used\n",
    "    * Create a database\n",
    "    * Create a table\n",
    "    * Update or insert data\n",
    "    * View certain tables ... and many more   \n",
    "* An important part of learning databases is to understand the type of data which is stored in columns and rows.  \n",
    "* Likewise when we get to the database design section, it is critically important to know what type of data you will be modeling and storing (and roughly how much, in traditional systems) \n",
    "* Exactly which types are available depends on the database system\n",
    "\n",
    "\n",
    "\n",
    "#### Why use databases and Relational Database Management Systems?\n",
    "* Easy, efficient, secure, collaborative management of data that maintains data integrity\n",
    "\n",
    "#### What is the Structured Query Language (SQL) ?\n",
    "* SQL is the standard language for relational database management systems\n",
    "* SQL is used to communicate with a database\n",
    "\n",
    "#### Why SQLite?\n",
    "SQLite is a C library that provides a lightweight disk-based database that doesn’t require a separate server process and allows accessing the database using a nonstandard variant of the SQL query language. Some applications can use SQLite for internal data storage. \n",
    "* SQLite is often the technology of choice for small applications, particularly those of embedded systems and devices like phones and tablets, smart appliances, and instruments.\n",
    "* It’s also possible to prototype an application using SQLite and then port the code to a larger database such as PostgreSQL or Oracle.\n",
    "\n",
    "#### sqlite3\n",
    "The sqlite3 module in the Python standard library provides a SQL interface to communicate with databases.<br>\n",
    "https://docs.python.org/3/library/sqlite3.html\n",
    "\n",
    "Once you have a `Connection`, you can create a `Cursor` object and call its execute() method to perform SQL commands.\n",
    "\n",
    "`Cursor` objects represent a database cursor, which is used to manage the context of a fetch/retrieval operation.\n",
    "A call to the `Cursor`'s execute() method is used to perform SQL commands.\n",
    "\n",
    "#### SQLite uses a greatly simplified set of data types:\n",
    "* INTEGER - numeric\n",
    "* REAL - numeric\n",
    "* TEXT – text of any length\n",
    "    * Dates are held as text\n",
    "* BLOB – binary large objects\n",
    "    * Such as images"
   ]
  },
  {
   "cell_type": "code",
   "execution_count": 5,
   "metadata": {},
   "outputs": [],
   "source": [
    "from sqlite3 import connect\n",
    "connection = connect('demoDatabase.sqlite')\n",
    "\n",
    "cursor = connection.cursor()\n",
    "\n",
    "\n"
   ]
  },
  {
   "cell_type": "code",
   "execution_count": 6,
   "metadata": {},
   "outputs": [
    {
     "name": "stdout",
     "output_type": "stream",
     "text": [
      "DataError\n",
      "DatabaseError\n",
      "Error\n",
      "IntegrityError\n",
      "InterfaceError\n",
      "InternalError\n",
      "NotSupportedError\n",
      "OperationalError\n",
      "ProgrammingError\n",
      "Warning\n",
      "backup\n",
      "close\n",
      "commit\n",
      "create_aggregate\n",
      "create_collation\n",
      "create_function\n",
      "cursor\n",
      "enable_load_extension\n",
      "execute\n",
      "executemany\n",
      "executescript\n",
      "in_transaction\n",
      "interrupt\n",
      "isolation_level\n",
      "iterdump\n",
      "load_extension\n",
      "rollback\n",
      "row_factory\n",
      "set_authorizer\n",
      "set_progress_handler\n",
      "set_trace_callback\n",
      "text_factory\n",
      "total_changes\n"
     ]
    }
   ],
   "source": [
    "\n",
    "for elem in dir(connection):\n",
    "    if not elem.startswith(\"__\"):\n",
    "        print(elem)"
   ]
  },
  {
   "cell_type": "code",
   "execution_count": 7,
   "metadata": {},
   "outputs": [
    {
     "name": "stdout",
     "output_type": "stream",
     "text": [
      "arraysize\n",
      "close\n",
      "connection\n",
      "description\n",
      "execute\n",
      "executemany\n",
      "executescript\n",
      "fetchall\n",
      "fetchmany\n",
      "fetchone\n",
      "lastrowid\n",
      "row_factory\n",
      "rowcount\n",
      "setinputsizes\n",
      "setoutputsize\n"
     ]
    }
   ],
   "source": [
    "for elem in dir(cursor):\n",
    "    if not elem.startswith(\"__\"):\n",
    "        print(elem)"
   ]
  },
  {
   "cell_type": "code",
   "execution_count": 10,
   "metadata": {},
   "outputs": [
    {
     "data": {
      "text/plain": [
       "<sqlite3.Cursor at 0x11f4d8e30>"
      ]
     },
     "execution_count": 10,
     "metadata": {},
     "output_type": "execute_result"
    }
   ],
   "source": [
    "sql = '''\n",
    "SELECT * \n",
    "FROM sqlite_master \n",
    "LIMIT 5;\n",
    "'''\n",
    "cursor.execute(sql)"
   ]
  },
  {
   "cell_type": "code",
   "execution_count": 11,
   "metadata": {},
   "outputs": [],
   "source": [
    "for row in cursor:\n",
    "    print(row)"
   ]
  },
  {
   "cell_type": "code",
   "execution_count": 12,
   "metadata": {},
   "outputs": [
    {
     "data": {
      "text/plain": [
       "(('type', None, None, None, None, None, None),\n",
       " ('name', None, None, None, None, None, None),\n",
       " ('tbl_name', None, None, None, None, None, None),\n",
       " ('rootpage', None, None, None, None, None, None),\n",
       " ('sql', None, None, None, None, None, None))"
      ]
     },
     "execution_count": 12,
     "metadata": {},
     "output_type": "execute_result"
    }
   ],
   "source": [
    "cursor.description"
   ]
  },
  {
   "cell_type": "code",
   "execution_count": 13,
   "metadata": {},
   "outputs": [
    {
     "name": "stdout",
     "output_type": "stream",
     "text": [
      "Create table successful.\n",
      "done!\n"
     ]
    }
   ],
   "source": [
    "sql='''\n",
    "CREATE TABLE IF NOT EXISTS test_table (\n",
    "      id INTEGER PRIMARY KEY AUTOINCREMENT,\n",
    "      description TEXT,             \n",
    "      test_value INTEGER\n",
    ");\n",
    "'''\n",
    "try:\n",
    "    cursor.execute(sql)\n",
    "except connection.DatabaseError:\n",
    "    print(\"Creating the test_table table resulted in a database error!\")\n",
    "    connection.rollback()\n",
    "    raise\n",
    "else:\n",
    "    connection.commit()\n",
    "    print(\"Create table successful.\")\n",
    "finally:\n",
    "    print(\"done!\")"
   ]
  },
  {
   "cell_type": "code",
   "execution_count": 14,
   "metadata": {},
   "outputs": [
    {
     "name": "stdout",
     "output_type": "stream",
     "text": [
      "('table', 'test_table', 'test_table', 2, 'CREATE TABLE test_table (\\n      id INTEGER PRIMARY KEY AUTOINCREMENT,\\n      description TEXT,             \\n      test_value INTEGER\\n)')\n",
      "('table', 'sqlite_sequence', 'sqlite_sequence', 3, 'CREATE TABLE sqlite_sequence(name,seq)')\n"
     ]
    }
   ],
   "source": [
    "sql = '''\n",
    "SELECT * \n",
    "FROM sqlite_master \n",
    "LIMIT 5;\n",
    "'''\n",
    "cursor.execute(sql)\n",
    "for row in cursor:\n",
    "    print(row)\n"
   ]
  },
  {
   "cell_type": "code",
   "execution_count": 15,
   "metadata": {},
   "outputs": [
    {
     "data": {
      "text/plain": [
       "(('type', None, None, None, None, None, None),\n",
       " ('name', None, None, None, None, None, None),\n",
       " ('tbl_name', None, None, None, None, None, None),\n",
       " ('rootpage', None, None, None, None, None, None),\n",
       " ('sql', None, None, None, None, None, None))"
      ]
     },
     "execution_count": 15,
     "metadata": {},
     "output_type": "execute_result"
    }
   ],
   "source": [
    "cursor.description"
   ]
  },
  {
   "cell_type": "code",
   "execution_count": 16,
   "metadata": {},
   "outputs": [
    {
     "name": "stdout",
     "output_type": "stream",
     "text": [
      "('table', 'test_table')\n",
      "('table', 'sqlite_sequence')\n"
     ]
    }
   ],
   "source": [
    "sql = '''\n",
    "SELECT type, name\n",
    "FROM sqlite_master \n",
    "LIMIT 5;\n",
    "'''\n",
    "cursor.execute(sql)\n",
    "for row in cursor:\n",
    "    print(row)\n",
    "    \n",
    "    \n",
    "    "
   ]
  },
  {
   "cell_type": "code",
   "execution_count": 17,
   "metadata": {},
   "outputs": [],
   "source": [
    "sql = '''\n",
    "SELECT * \n",
    "FROM test_table \n",
    "LIMIT 5;\n",
    "'''\n",
    "cursor.execute(sql)\n",
    "for row in cursor:\n",
    "    print(row)"
   ]
  },
  {
   "cell_type": "code",
   "execution_count": 19,
   "metadata": {},
   "outputs": [
    {
     "data": {
      "text/plain": [
       "<sqlite3.Cursor at 0x11f4d8e30>"
      ]
     },
     "execution_count": 19,
     "metadata": {},
     "output_type": "execute_result"
    }
   ],
   "source": [
    "sql = '''\n",
    "INSERT INTO test_table (id, description, test_value)\n",
    "VALUES (1,'row description here', 200);\n",
    "'''\n",
    "cursor.execute(sql)\n"
   ]
  },
  {
   "cell_type": "code",
   "execution_count": 20,
   "metadata": {},
   "outputs": [
    {
     "name": "stdout",
     "output_type": "stream",
     "text": [
      "(1, 'row description here', 200)\n"
     ]
    }
   ],
   "source": [
    "sql = '''\n",
    "SELECT * \n",
    "FROM test_table \n",
    "LIMIT 5;\n",
    "'''\n",
    "cursor.execute(sql)\n",
    "for row in cursor:\n",
    "    print(row)"
   ]
  },
  {
   "cell_type": "code",
   "execution_count": 22,
   "metadata": {},
   "outputs": [],
   "source": [
    "def get_header(cursor):\n",
    "    '''\n",
    "    Makes a tab delimited header row from the cursor description.\n",
    "    Arguments:\n",
    "        cursor: a cursor after a select query\n",
    "    Returns:\n",
    "        string: A string consisting of the column names separated by tabs, no new line\n",
    "    '''\n",
    "    return '\\t'.join([row[0] for row in cursor.description])\n"
   ]
  },
  {
   "cell_type": "code",
   "execution_count": 21,
   "metadata": {},
   "outputs": [],
   "source": [
    "def get_results(cursor):\n",
    "    '''\n",
    "    Makes a tab delimited table from the cursor results.\n",
    "    Arguments:\n",
    "        cursor: a cursor after a select query\n",
    "    Returns:\n",
    "        string: A string consisting of the column names separated by tabs, no new line\n",
    "    ''' \n",
    "    res = list()\n",
    "    for row in cursor.fetchall():        \n",
    "        res.append('\\t'.join(list(map(str,row))))\n",
    "    return \"\\n\".join(res)"
   ]
  },
  {
   "cell_type": "code",
   "execution_count": 23,
   "metadata": {},
   "outputs": [
    {
     "name": "stdout",
     "output_type": "stream",
     "text": [
      "id\tdescription\ttest_value\n",
      "1\trow description here\t200\n"
     ]
    }
   ],
   "source": [
    "sql = '''\n",
    "SELECT * \n",
    "FROM test_table \n",
    "LIMIT 5;\n",
    "'''\n",
    "cursor.execute(sql)\n",
    "\n",
    "print(get_header(cursor))\n",
    "print(get_results(cursor))"
   ]
  },
  {
   "cell_type": "code",
   "execution_count": 25,
   "metadata": {},
   "outputs": [
    {
     "data": {
      "text/plain": [
       "<sqlite3.Cursor at 0x11f4d8e30>"
      ]
     },
     "execution_count": 25,
     "metadata": {},
     "output_type": "execute_result"
    }
   ],
   "source": [
    "sql = '''\n",
    "INSERT INTO test_table (id, description, test_value)\n",
    "VALUES (2,'row description here', 200);\n",
    "'''\n",
    "cursor.execute(sql)"
   ]
  },
  {
   "cell_type": "code",
   "execution_count": 26,
   "metadata": {},
   "outputs": [
    {
     "name": "stdout",
     "output_type": "stream",
     "text": [
      "id\tdescription\ttest_value\n",
      "1\trow description here\t200\n",
      "2\trow description here\t200\n"
     ]
    }
   ],
   "source": [
    "sql = '''\n",
    "SELECT * \n",
    "FROM test_table \n",
    "LIMIT 5;\n",
    "'''\n",
    "cursor.execute(sql)\n",
    "\n",
    "print(get_header(cursor))\n",
    "print(get_results(cursor))"
   ]
  },
  {
   "cell_type": "code",
   "execution_count": 27,
   "metadata": {},
   "outputs": [
    {
     "data": {
      "text/plain": [
       "<sqlite3.Cursor at 0x11f4d8e30>"
      ]
     },
     "execution_count": 27,
     "metadata": {},
     "output_type": "execute_result"
    }
   ],
   "source": [
    "values_to_insert = [3, \"decs2\", 300]\n",
    "\n",
    "sql = '''\n",
    "INSERT INTO test_table (id, description, test_value)\n",
    "VALUES (?,?,?);\n",
    "'''\n",
    "cursor.execute(sql,values_to_insert)"
   ]
  },
  {
   "cell_type": "code",
   "execution_count": 28,
   "metadata": {},
   "outputs": [
    {
     "name": "stdout",
     "output_type": "stream",
     "text": [
      "id\tdescription\ttest_value\n",
      "1\trow description here\t200\n",
      "2\trow description here\t200\n",
      "3\tdecs2\t300\n"
     ]
    }
   ],
   "source": [
    "sql = '''\n",
    "SELECT * \n",
    "FROM test_table \n",
    "LIMIT 5;\n",
    "'''\n",
    "cursor.execute(sql)\n",
    "\n",
    "print(get_header(cursor))\n",
    "print(get_results(cursor))"
   ]
  },
  {
   "cell_type": "code",
   "execution_count": 29,
   "metadata": {},
   "outputs": [
    {
     "ename": "ProgrammingError",
     "evalue": "Incorrect number of bindings supplied. The current statement uses 3, and there are 2 supplied.",
     "output_type": "error",
     "traceback": [
      "\u001b[0;31m---------------------------------------------------------------------------\u001b[0m",
      "\u001b[0;31mProgrammingError\u001b[0m                          Traceback (most recent call last)",
      "\u001b[0;32m<ipython-input-29-8c92c743e1ed>\u001b[0m in \u001b[0;36m<module>\u001b[0;34m\u001b[0m\n\u001b[1;32m      5\u001b[0m \u001b[0mVALUES\u001b[0m \u001b[0;34m(\u001b[0m\u001b[0;31m?\u001b[0m\u001b[0;34m,\u001b[0m\u001b[0;31m?\u001b[0m\u001b[0;34m,\u001b[0m\u001b[0;31m?\u001b[0m\u001b[0;34m)\u001b[0m\u001b[0;34m;\u001b[0m\u001b[0;34m\u001b[0m\u001b[0;34m\u001b[0m\u001b[0m\n\u001b[1;32m      6\u001b[0m '''\n\u001b[0;32m----> 7\u001b[0;31m \u001b[0mcursor\u001b[0m\u001b[0;34m.\u001b[0m\u001b[0mexecute\u001b[0m\u001b[0;34m(\u001b[0m\u001b[0msql\u001b[0m\u001b[0;34m,\u001b[0m\u001b[0mvalues_to_insert\u001b[0m\u001b[0;34m)\u001b[0m\u001b[0;34m\u001b[0m\u001b[0;34m\u001b[0m\u001b[0m\n\u001b[0m",
      "\u001b[0;31mProgrammingError\u001b[0m: Incorrect number of bindings supplied. The current statement uses 3, and there are 2 supplied."
     ]
    }
   ],
   "source": [
    "# we did not provide values for all columns (test_value is missing) so we get an error\n",
    "values_to_insert = [4, \"decs2\"]\n",
    "\n",
    "sql = '''\n",
    "INSERT INTO test_table (id, description, test_value)\n",
    "VALUES (?,?,?);\n",
    "'''\n",
    "cursor.execute(sql,values_to_insert)"
   ]
  },
  {
   "cell_type": "code",
   "execution_count": 30,
   "metadata": {},
   "outputs": [
    {
     "data": {
      "text/plain": [
       "<sqlite3.Cursor at 0x11f4d8e30>"
      ]
     },
     "execution_count": 30,
     "metadata": {},
     "output_type": "execute_result"
    }
   ],
   "source": [
    "values_to_insert = [[4, \"decs2\", 50], [6,\"desc4 here\", 602]]\n",
    "\n",
    "sql = '''\n",
    "INSERT INTO test_table (id, description, test_value)\n",
    "VALUES (?,?,?);\n",
    "'''\n",
    "cursor.executemany(sql,values_to_insert)"
   ]
  },
  {
   "cell_type": "code",
   "execution_count": 32,
   "metadata": {},
   "outputs": [
    {
     "name": "stdout",
     "output_type": "stream",
     "text": [
      "id\tdescription\ttest_value\n",
      "1\trow description here\t200\n",
      "2\trow description here\t200\n",
      "3\tdecs2\t300\n",
      "4\tdecs2\t50\n",
      "6\tdesc4 here\t602\n"
     ]
    }
   ],
   "source": [
    "sql = '''\n",
    "SELECT * \n",
    "FROM test_table \n",
    "LIMIT 10;\n",
    "'''\n",
    "cursor.execute(sql)\n",
    "\n",
    "print(get_header(cursor))\n",
    "print(get_results(cursor))"
   ]
  },
  {
   "cell_type": "code",
   "execution_count": 33,
   "metadata": {
    "collapsed": true,
    "jupyter": {
     "outputs_hidden": true
    }
   },
   "outputs": [
    {
     "data": {
      "text/plain": [
       "['__class__',\n",
       " '__delattr__',\n",
       " '__dir__',\n",
       " '__doc__',\n",
       " '__eq__',\n",
       " '__format__',\n",
       " '__ge__',\n",
       " '__getattribute__',\n",
       " '__gt__',\n",
       " '__hash__',\n",
       " '__init__',\n",
       " '__init_subclass__',\n",
       " '__iter__',\n",
       " '__le__',\n",
       " '__lt__',\n",
       " '__ne__',\n",
       " '__new__',\n",
       " '__next__',\n",
       " '__reduce__',\n",
       " '__reduce_ex__',\n",
       " '__repr__',\n",
       " '__setattr__',\n",
       " '__sizeof__',\n",
       " '__str__',\n",
       " '__subclasshook__',\n",
       " 'arraysize',\n",
       " 'close',\n",
       " 'connection',\n",
       " 'description',\n",
       " 'execute',\n",
       " 'executemany',\n",
       " 'executescript',\n",
       " 'fetchall',\n",
       " 'fetchmany',\n",
       " 'fetchone',\n",
       " 'lastrowid',\n",
       " 'row_factory',\n",
       " 'rowcount',\n",
       " 'setinputsizes',\n",
       " 'setoutputsize']"
      ]
     },
     "execution_count": 33,
     "metadata": {},
     "output_type": "execute_result"
    }
   ],
   "source": [
    "dir(cursor)"
   ]
  },
  {
   "cell_type": "code",
   "execution_count": 34,
   "metadata": {
    "collapsed": true,
    "jupyter": {
     "outputs_hidden": true
    }
   },
   "outputs": [
    {
     "data": {
      "text/plain": [
       "['DataError',\n",
       " 'DatabaseError',\n",
       " 'Error',\n",
       " 'IntegrityError',\n",
       " 'InterfaceError',\n",
       " 'InternalError',\n",
       " 'NotSupportedError',\n",
       " 'OperationalError',\n",
       " 'ProgrammingError',\n",
       " 'Warning',\n",
       " '__call__',\n",
       " '__class__',\n",
       " '__delattr__',\n",
       " '__dir__',\n",
       " '__doc__',\n",
       " '__enter__',\n",
       " '__eq__',\n",
       " '__exit__',\n",
       " '__format__',\n",
       " '__ge__',\n",
       " '__getattribute__',\n",
       " '__gt__',\n",
       " '__hash__',\n",
       " '__init__',\n",
       " '__init_subclass__',\n",
       " '__le__',\n",
       " '__lt__',\n",
       " '__ne__',\n",
       " '__new__',\n",
       " '__reduce__',\n",
       " '__reduce_ex__',\n",
       " '__repr__',\n",
       " '__setattr__',\n",
       " '__sizeof__',\n",
       " '__str__',\n",
       " '__subclasshook__',\n",
       " 'backup',\n",
       " 'close',\n",
       " 'commit',\n",
       " 'create_aggregate',\n",
       " 'create_collation',\n",
       " 'create_function',\n",
       " 'cursor',\n",
       " 'enable_load_extension',\n",
       " 'execute',\n",
       " 'executemany',\n",
       " 'executescript',\n",
       " 'in_transaction',\n",
       " 'interrupt',\n",
       " 'isolation_level',\n",
       " 'iterdump',\n",
       " 'load_extension',\n",
       " 'rollback',\n",
       " 'row_factory',\n",
       " 'set_authorizer',\n",
       " 'set_progress_handler',\n",
       " 'set_trace_callback',\n",
       " 'text_factory',\n",
       " 'total_changes']"
      ]
     },
     "execution_count": 34,
     "metadata": {},
     "output_type": "execute_result"
    }
   ],
   "source": [
    "dir(connection)"
   ]
  },
  {
   "cell_type": "code",
   "execution_count": 35,
   "metadata": {},
   "outputs": [],
   "source": [
    "connection.commit()"
   ]
  },
  {
   "cell_type": "code",
   "execution_count": 36,
   "metadata": {},
   "outputs": [],
   "source": [
    "cursor.close()"
   ]
  },
  {
   "cell_type": "code",
   "execution_count": 37,
   "metadata": {},
   "outputs": [],
   "source": [
    "connection.close()"
   ]
  },
  {
   "cell_type": "code",
   "execution_count": 38,
   "metadata": {},
   "outputs": [
    {
     "ename": "ProgrammingError",
     "evalue": "Cannot operate on a closed cursor.",
     "output_type": "error",
     "traceback": [
      "\u001b[0;31m---------------------------------------------------------------------------\u001b[0m",
      "\u001b[0;31mProgrammingError\u001b[0m                          Traceback (most recent call last)",
      "\u001b[0;32m<ipython-input-38-b337267773cc>\u001b[0m in \u001b[0;36m<module>\u001b[0;34m\u001b[0m\n\u001b[1;32m      4\u001b[0m \u001b[0mLIMIT\u001b[0m \u001b[0;36m10\u001b[0m\u001b[0;34m;\u001b[0m\u001b[0;34m\u001b[0m\u001b[0;34m\u001b[0m\u001b[0m\n\u001b[1;32m      5\u001b[0m '''\n\u001b[0;32m----> 6\u001b[0;31m \u001b[0mcursor\u001b[0m\u001b[0;34m.\u001b[0m\u001b[0mexecute\u001b[0m\u001b[0;34m(\u001b[0m\u001b[0msql\u001b[0m\u001b[0;34m)\u001b[0m\u001b[0;34m\u001b[0m\u001b[0;34m\u001b[0m\u001b[0m\n\u001b[0m\u001b[1;32m      7\u001b[0m \u001b[0;34m\u001b[0m\u001b[0m\n\u001b[1;32m      8\u001b[0m \u001b[0mprint\u001b[0m\u001b[0;34m(\u001b[0m\u001b[0mget_header\u001b[0m\u001b[0;34m(\u001b[0m\u001b[0mcursor\u001b[0m\u001b[0;34m)\u001b[0m\u001b[0;34m)\u001b[0m\u001b[0;34m\u001b[0m\u001b[0;34m\u001b[0m\u001b[0m\n",
      "\u001b[0;31mProgrammingError\u001b[0m: Cannot operate on a closed cursor."
     ]
    }
   ],
   "source": [
    "sql = '''\n",
    "SELECT * \n",
    "FROM test_table \n",
    "LIMIT 10;\n",
    "'''\n",
    "cursor.execute(sql)\n",
    "\n",
    "print(get_header(cursor))\n",
    "print(get_results(cursor))"
   ]
  },
  {
   "cell_type": "code",
   "execution_count": null,
   "metadata": {},
   "outputs": [],
   "source": []
  },
  {
   "cell_type": "code",
   "execution_count": null,
   "metadata": {},
   "outputs": [],
   "source": []
  },
  {
   "cell_type": "code",
   "execution_count": null,
   "metadata": {},
   "outputs": [],
   "source": []
  },
  {
   "cell_type": "code",
   "execution_count": 39,
   "metadata": {},
   "outputs": [],
   "source": [
    "from sqlite3 import connect\n",
    "\n",
    "'''    \n",
    "    Establish a connection to the database.\n",
    "    This statement creates the file at the given path if it does not exist and that will be an empty database.\n",
    "    The file was provided in this case so the statement should just establish the connection.\n",
    "'''\n",
    "connection = connect('org.Hs.eg.sqlite')\n",
    "cursor = connection.cursor()\n"
   ]
  },
  {
   "cell_type": "code",
   "execution_count": 40,
   "metadata": {},
   "outputs": [
    {
     "name": "stdout",
     "output_type": "stream",
     "text": [
      "DataError\n",
      "DatabaseError\n",
      "Error\n",
      "IntegrityError\n",
      "InterfaceError\n",
      "InternalError\n",
      "NotSupportedError\n",
      "OperationalError\n",
      "ProgrammingError\n",
      "Warning\n",
      "backup\n",
      "close\n",
      "commit\n",
      "create_aggregate\n",
      "create_collation\n",
      "create_function\n",
      "cursor\n",
      "enable_load_extension\n",
      "execute\n",
      "executemany\n",
      "executescript\n",
      "in_transaction\n",
      "interrupt\n",
      "isolation_level\n",
      "iterdump\n",
      "load_extension\n",
      "rollback\n",
      "row_factory\n",
      "set_authorizer\n",
      "set_progress_handler\n",
      "set_trace_callback\n",
      "text_factory\n",
      "total_changes\n"
     ]
    }
   ],
   "source": [
    "# check what the connection object can do\n",
    "\n",
    "for elem in dir(connection):\n",
    "    if not elem.startswith(\"__\"):\n",
    "        print(elem)"
   ]
  },
  {
   "cell_type": "code",
   "execution_count": 41,
   "metadata": {},
   "outputs": [
    {
     "name": "stdout",
     "output_type": "stream",
     "text": [
      "arraysize\n",
      "close\n",
      "connection\n",
      "description\n",
      "execute\n",
      "executemany\n",
      "executescript\n",
      "fetchall\n",
      "fetchmany\n",
      "fetchone\n",
      "lastrowid\n",
      "row_factory\n",
      "rowcount\n",
      "setinputsizes\n",
      "setoutputsize\n"
     ]
    }
   ],
   "source": [
    "for elem in dir(cursor):\n",
    "    if not elem.startswith(\"__\"):\n",
    "        print(elem)"
   ]
  },
  {
   "cell_type": "markdown",
   "metadata": {},
   "source": [
    "#### Major SQL commands: SELECT, INSERT, DELETE, UPDATE\n",
    "#### SELECT - Retrieves data from one or more tables and doesn’t change the data at all \n",
    "\n",
    "* SELECT  * (means all columns), or the comma separated names of the columns of data you wish to return\n",
    "    * Returns columns (left to right) in the order received. \n",
    "    * '*' selects ALL rows and ALL columns and returns them by column order and row_id\n",
    "* FROM is the table source or sources (comma separated)\n",
    "* WHERE (optional) is the predicate clause: conditions for the query\n",
    "    * Evaluates to True or False for each row\n",
    "    * This clause almost always includes Column-Value pairs.\n",
    "    * Omitting the Where clause returns ALL the records in that table.\n",
    "    * Note: the match is case sensitive\n",
    "* ORDER BY (optional) indicates a sort order for the output data \n",
    "    * default is row_id, which can be very non-intuitive  \n",
    "    * ASCending or DESCending can be appended to change the sort order.  (ASC is default)\n",
    "* GROUP BY (optional) groups by a column and creates summary data for a different column\n",
    "* HAVING (optional) allows restrictions on the rows selected\n",
    "    * a GROUP BY clause is required before HAVING\n",
    "* LIMIT (optional) reduces the number of rows retrieved to the number provided after this clause\n",
    "* In most SQL clients, the \";\" indicates the end of a statement and requests execution\n"
   ]
  },
  {
   "cell_type": "code",
   "execution_count": 42,
   "metadata": {},
   "outputs": [
    {
     "data": {
      "text/plain": [
       "<sqlite3.Cursor at 0x120e38500>"
      ]
     },
     "execution_count": 42,
     "metadata": {},
     "output_type": "execute_result"
    }
   ],
   "source": [
    "# In every SQLite database, there is a special table: sqlite_master\n",
    "# sqlite_master -  describes the contents of the database\n",
    "\n",
    "sql = '''SELECT type, name FROM sqlite_master LIMIT 5;'''\n",
    "cursor.execute(sql)"
   ]
  },
  {
   "cell_type": "code",
   "execution_count": 43,
   "metadata": {},
   "outputs": [
    {
     "data": {
      "text/plain": [
       "<sqlite3.Cursor at 0x120e38500>"
      ]
     },
     "execution_count": 43,
     "metadata": {},
     "output_type": "execute_result"
    }
   ],
   "source": [
    "sql = '''\n",
    "SELECT * FROM sqlite_master;\n",
    "'''\n",
    "cursor.execute(sql)"
   ]
  },
  {
   "cell_type": "code",
   "execution_count": 44,
   "metadata": {},
   "outputs": [
    {
     "data": {
      "text/plain": [
       "(('type', None, None, None, None, None, None),\n",
       " ('name', None, None, None, None, None, None),\n",
       " ('tbl_name', None, None, None, None, None, None),\n",
       " ('rootpage', None, None, None, None, None, None),\n",
       " ('sql', None, None, None, None, None, None))"
      ]
     },
     "execution_count": 44,
     "metadata": {},
     "output_type": "execute_result"
    }
   ],
   "source": [
    "# See the result header\n",
    "\n",
    "cursor.description"
   ]
  },
  {
   "cell_type": "code",
   "execution_count": 22,
   "metadata": {},
   "outputs": [],
   "source": [
    "def get_header(cursor):\n",
    "    '''\n",
    "    Makes a tab delimited header row from the cursor description.\n",
    "    Arguments:\n",
    "        cursor: a cursor after a select query\n",
    "    Returns:\n",
    "        string: A string consisting of the column names separated by tabs, no new line\n",
    "    '''\n",
    "    return '\\t'.join([row[0] for row in cursor.description])\n"
   ]
  },
  {
   "cell_type": "markdown",
   "metadata": {},
   "source": [
    "#### Different ways to retrieve results - observe the different data structures displayed"
   ]
  },
  {
   "cell_type": "code",
   "execution_count": null,
   "metadata": {},
   "outputs": [],
   "source": [
    "# See the result\n",
    "\n",
    "cursor.execute(sql)\n",
    "print(\"Iterate through the cursor:\")\n",
    "for row in cursor: \n",
    "    print(row)\n",
    "    \n",
    "print()\n",
    "\n",
    "cursor.execute(sql)\n",
    "print(\"Use the Cursor fetchall() method:\")\n",
    "cursor.fetchall()"
   ]
  },
  {
   "cell_type": "code",
   "execution_count": 21,
   "metadata": {},
   "outputs": [],
   "source": [
    "def get_results(cursor):\n",
    "    '''\n",
    "    Makes a tab delimited table from the cursor results.\n",
    "    Arguments:\n",
    "        cursor: a cursor after a select query\n",
    "    Returns:\n",
    "        string: A string consisting of the column names separated by tabs, no new line\n",
    "    ''' \n",
    "    res = list()\n",
    "    for row in cursor.fetchall():        \n",
    "        res.append('\\t'.join(list(map(str,row))))\n",
    "    return \"\\n\".join(res)"
   ]
  },
  {
   "cell_type": "code",
   "execution_count": 45,
   "metadata": {
    "collapsed": true,
    "jupyter": {
     "outputs_hidden": true
    }
   },
   "outputs": [
    {
     "name": "stdout",
     "output_type": "stream",
     "text": [
      "type\tname\ttbl_name\trootpage\tsql\n",
      "table\tmetadata\tmetadata\t2\tCREATE TABLE metadata (name VARCHAR(80) PRIMARY KEY, value VARCHAR(255) )\n",
      "index\tsqlite_autoindex_metadata_1\tmetadata\t3\tNone\n",
      "table\tmap_metadata\tmap_metadata\t4\tCREATE TABLE map_metadata (\n",
      "      map_name VARCHAR(80) NOT NULL,\n",
      "      source_name VARCHAR(80) NOT NULL,\n",
      "      source_url VARCHAR(255) NOT NULL,\n",
      "      source_date VARCHAR(20) NOT NULL\n",
      "    )\n",
      "table\tmap_counts\tmap_counts\t5\tCREATE TABLE map_counts (\n",
      "      map_name VARCHAR(80) PRIMARY KEY,\n",
      "      count INTEGER NOT NULL\n",
      "    )\n",
      "index\tsqlite_autoindex_map_counts_1\tmap_counts\t6\tNone\n",
      "table\tgenes\tgenes\t7\tCREATE TABLE genes (\n",
      "      _id INTEGER PRIMARY KEY,\n",
      "      gene_id VARCHAR(10) NOT NULL UNIQUE           -- Entrez Gene ID\n",
      "    )\n",
      "index\tsqlite_autoindex_genes_1\tgenes\t8\tNone\n",
      "table\tgene_info\tgene_info\t9\tCREATE TABLE gene_info (\n",
      "      _id INTEGER NOT NULL UNIQUE,                  -- REFERENCES  genes \n",
      "      gene_name VARCHAR(255) NOT NULL,              -- gene name\n",
      "      symbol VARCHAR(80) NOT NULL,                  -- gene symbol\n",
      "      FOREIGN KEY (_id) REFERENCES  genes  (_id)\n",
      "    )\n",
      "index\tsqlite_autoindex_gene_info_1\tgene_info\t10\tNone\n",
      "table\tchromosomes\tchromosomes\t11\tCREATE TABLE chromosomes (\n",
      "      _id INTEGER NOT NULL,                         -- REFERENCES  genes \n",
      "      chromosome VARCHAR(2) NOT NULL,               -- chromosome name\n",
      "      FOREIGN KEY (_id) REFERENCES  genes  (_id)\n",
      "    )\n",
      "table\taccessions\taccessions\t12\tCREATE TABLE accessions (\n",
      "      _id INTEGER NOT NULL,                         -- REFERENCES  genes \n",
      "      accession VARCHAR(20) NOT NULL,               -- GenBank accession number\n",
      "      FOREIGN KEY (_id) REFERENCES  genes  (_id)\n",
      "    )\n",
      "table\tcytogenetic_locations\tcytogenetic_locations\t13\tCREATE TABLE cytogenetic_locations (\n",
      "      _id INTEGER NOT NULL,                         -- REFERENCES  genes \n",
      "      cytogenetic_location VARCHAR(20) NOT NULL,    -- cytoband location\n",
      "      FOREIGN KEY (_id) REFERENCES  genes  (_id)\n",
      "    )\n",
      "table\tomim\tomim\t14\tCREATE TABLE omim (\n",
      "      _id INTEGER NOT NULL,                         -- REFERENCES  genes \n",
      "      omim_id CHAR(6) NOT NULL,                     -- OMIM ID\n",
      "      FOREIGN KEY (_id) REFERENCES  genes  (_id)\n",
      "    )\n",
      "table\trefseq\trefseq\t15\tCREATE TABLE refseq (\n",
      "      _id INTEGER NOT NULL,                         -- REFERENCES  genes \n",
      "      accession VARCHAR(20) NOT NULL,               -- RefSeq accession number\n",
      "      FOREIGN KEY (_id) REFERENCES  genes  (_id)\n",
      "    )\n",
      "table\tpubmed\tpubmed\t16\tCREATE TABLE pubmed (\n",
      "      _id INTEGER NOT NULL,                         -- REFERENCES  genes \n",
      "      pubmed_id VARCHAR(10) NOT NULL,               -- PubMed ID\n",
      "      FOREIGN KEY (_id) REFERENCES  genes  (_id)\n",
      "    )\n",
      "table\tunigene\tunigene\t17\tCREATE TABLE unigene (\n",
      "      _id INTEGER NOT NULL,                         -- REFERENCES  genes \n",
      "      unigene_id VARCHAR(10) NOT NULL,              -- UniGene ID\n",
      "      FOREIGN KEY (_id) REFERENCES  genes  (_id)\n",
      "    )\n",
      "table\tchrlengths\tchrlengths\t18\tCREATE TABLE chrlengths (\n",
      "      chromosome VARCHAR(2) PRIMARY KEY,                   -- chromosome name\n",
      "      length INTEGER NOT NULL\n",
      "    )\n",
      "index\tsqlite_autoindex_chrlengths_1\tchrlengths\t19\tNone\n",
      "table\tgo_bp\tgo_bp\t20\tCREATE TABLE go_bp (\n",
      "      _id INTEGER NOT NULL,                         -- REFERENCES  genes \n",
      "      go_id CHAR(10) NOT NULL,                      -- GO ID\n",
      "      evidence CHAR(3) NOT NULL,                    -- GO evidence code\n",
      "      FOREIGN KEY (_id) REFERENCES  genes  (_id)\n",
      "    )\n",
      "table\tgo_mf\tgo_mf\t21\tCREATE TABLE go_mf (\n",
      "      _id INTEGER NOT NULL,                         -- REFERENCES  genes \n",
      "      go_id CHAR(10) NOT NULL,                      -- GO ID\n",
      "      evidence CHAR(3) NOT NULL,                    -- GO evidence code\n",
      "      FOREIGN KEY (_id) REFERENCES  genes  (_id)\n",
      "    )\n",
      "table\tgo_cc\tgo_cc\t22\tCREATE TABLE go_cc (\n",
      "      _id INTEGER NOT NULL,                         -- REFERENCES  genes \n",
      "      go_id CHAR(10) NOT NULL,                      -- GO ID\n",
      "      evidence CHAR(3) NOT NULL,                    -- GO evidence code\n",
      "      FOREIGN KEY (_id) REFERENCES  genes  (_id)\n",
      "    )\n",
      "table\tgo_bp_all\tgo_bp_all\t25\tCREATE TABLE go_bp_all (\n",
      "      _id INTEGER NOT NULL,                         -- REFERENCES  genes \n",
      "      go_id CHAR(10) NOT NULL,                      -- GO ID\n",
      "      evidence CHAR(3) NOT NULL,                    -- GO evidence code\n",
      "      FOREIGN KEY (_id) REFERENCES  genes  (_id)\n",
      "    )\n",
      "table\tgo_mf_all\tgo_mf_all\t26\tCREATE TABLE go_mf_all (\n",
      "      _id INTEGER NOT NULL,                         -- REFERENCES  genes \n",
      "      go_id CHAR(10) NOT NULL,                      -- GO ID\n",
      "      evidence CHAR(3) NOT NULL,                    -- GO evidence code\n",
      "      FOREIGN KEY (_id) REFERENCES  genes  (_id)\n",
      "    )\n",
      "table\tgo_cc_all\tgo_cc_all\t27\tCREATE TABLE go_cc_all (\n",
      "      _id INTEGER NOT NULL,                         -- REFERENCES  genes \n",
      "      go_id CHAR(10) NOT NULL,                      -- GO ID\n",
      "      evidence CHAR(3) NOT NULL,                    -- GO evidence code\n",
      "      FOREIGN KEY (_id) REFERENCES  genes  (_id)\n",
      "    )\n",
      "table\tkegg\tkegg\t28\tCREATE TABLE kegg (\n",
      "      _id INTEGER NOT NULL,                         -- REFERENCES  genes \n",
      "      path_id CHAR(5) NOT NULL,                     -- KEGG pathway short ID\n",
      "      FOREIGN KEY (_id) REFERENCES  genes  (_id)\n",
      "    )\n",
      "table\tec\tec\t29\tCREATE TABLE ec (\n",
      "      _id INTEGER NOT NULL,                         -- REFERENCES  genes \n",
      "      ec_number VARCHAR(13) NOT NULL,               -- EC number \n",
      "      FOREIGN KEY (_id) REFERENCES  genes  (_id)\n",
      "    )\n",
      "table\tchromosome_locations\tchromosome_locations\t30\tCREATE TABLE chromosome_locations (\n",
      "      _id INTEGER NOT NULL,                      -- REFERENCES  genes \n",
      "      seqname VARCHAR(20) NOT NULL,              -- sequence name\n",
      "      start_location INTEGER NOT NULL,\n",
      "      end_location INTEGER NOT NULL,\n",
      "      FOREIGN KEY (_id) REFERENCES  genes  (_id)\n",
      "    )\n",
      "table\tpfam\tpfam\t31\tCREATE TABLE pfam (\n",
      "      _id INTEGER NOT NULL,                         -- REFERENCES  genes \n",
      "      ipi_id CHAR(11),                     -- IPI accession number\n",
      "      pfam_id CHAR(7) NULL,                         -- Pfam ID\n",
      "      FOREIGN KEY (_id) REFERENCES  genes  (_id)\n",
      "    )\n",
      "table\tprosite\tprosite\t32\tCREATE TABLE prosite (\n",
      "      _id INTEGER NOT NULL,                         -- REFERENCES  genes \n",
      "      ipi_id CHAR(11),                     -- IPI accession number\n",
      "      prosite_id CHAR(7) NULL,                      -- PROSITE ID\n",
      "      FOREIGN KEY (_id) REFERENCES  genes  (_id)\n",
      "    )\n",
      "table\talias\talias\t33\tCREATE TABLE alias (\n",
      "      _id INTEGER NOT NULL,                         -- REFERENCES  genes \n",
      "      alias_symbol VARCHAR(80) NOT NULL,            -- gene symbol or alias\n",
      "      FOREIGN KEY (_id) REFERENCES  genes  (_id)\n",
      "    )\n",
      "table\tensembl\tensembl\t34\tCREATE TABLE ensembl (\n",
      "      _id INTEGER NOT NULL,                         -- REFERENCES  genes \n",
      "      ensembl_id VARCHAR(20) NOT NULL,              -- ensembl id\n",
      "      FOREIGN KEY (_id) REFERENCES  genes  (_id)\n",
      "    )\n",
      "table\tensembl2ncbi\tensembl2ncbi\t35\tCREATE TABLE ensembl2ncbi (\n",
      "      _id INTEGER NOT NULL,                         -- REFERENCES  genes \n",
      "      ensembl_id VARCHAR(20) NOT NULL,              -- ensembl id\n",
      "      FOREIGN KEY (_id) REFERENCES  genes  (_id)\n",
      "    )\n",
      "table\tncbi2ensembl\tncbi2ensembl\t36\tCREATE TABLE ncbi2ensembl (\n",
      "      _id INTEGER NOT NULL,                         -- REFERENCES  genes \n",
      "      ensembl_id VARCHAR(20) NOT NULL,              -- ensembl id\n",
      "      FOREIGN KEY (_id) REFERENCES  genes  (_id)\n",
      "    )\n",
      "table\tensembl_prot\tensembl_prot\t37\tCREATE TABLE ensembl_prot (\n",
      "      _id INTEGER NOT NULL,                          -- REFERENCES  genes \n",
      "      prot_id VARCHAR(20) NOT NULL,                  -- Ensembl Protein ID\n",
      "      FOREIGN KEY (_id) REFERENCES  genes  (_id)\n",
      "    )\n",
      "table\tensembl_trans\tensembl_trans\t38\tCREATE TABLE ensembl_trans (\n",
      "      _id INTEGER NOT NULL,                          -- REFERENCES  genes \n",
      "      trans_id VARCHAR(20) NOT NULL,                  -- Ensembl Transcript ID\n",
      "      FOREIGN KEY (_id) REFERENCES  genes  (_id)\n",
      "    )\n",
      "table\tuniprot\tuniprot\t40\tCREATE TABLE uniprot (\n",
      "      _id INTEGER NOT NULL,                         -- REFERENCES  genes \n",
      "      uniprot_id VARCHAR(20) NOT NULL,              -- uniprot id\n",
      "      FOREIGN KEY (_id) REFERENCES  genes  (_id)\n",
      "    )\n",
      "table\tucsc\tucsc\t41\tCREATE TABLE ucsc (\n",
      "      _id INTEGER NOT NULL,                         -- REFERENCES  genes \n",
      "      ucsc_id VARCHAR(20) NOT NULL,              -- uniprot id\n",
      "      FOREIGN KEY (_id) REFERENCES  genes  (_id)\n",
      "    )\n",
      "table\tsqlite_stat1\tsqlite_stat1\t42\tCREATE TABLE sqlite_stat1(tbl,idx,stat)\n",
      "table\tsqlite_stat4\tsqlite_stat4\t43\tCREATE TABLE sqlite_stat4(tbl,idx,neq,nlt,ndlt,sample)\n",
      "index\tFchromosomes\tchromosomes\t44\tCREATE INDEX Fchromosomes ON chromosomes (_id)\n",
      "index\tFaccessions\taccessions\t45\tCREATE INDEX Faccessions ON accessions (_id)\n",
      "index\tFcytogenetic_locations\tcytogenetic_locations\t46\tCREATE INDEX Fcytogenetic_locations ON cytogenetic_locations (_id)\n",
      "index\tFomim\tomim\t47\tCREATE INDEX Fomim ON omim (_id)\n",
      "index\tFrefseq\trefseq\t48\tCREATE INDEX Frefseq ON refseq (_id)\n",
      "index\tFpubmed\tpubmed\t49\tCREATE INDEX Fpubmed ON pubmed (_id)\n",
      "index\tFunigene\tunigene\t50\tCREATE INDEX Funigene ON unigene (_id)\n",
      "index\tFgo_bp\tgo_bp\t51\tCREATE INDEX Fgo_bp ON go_bp (_id)\n",
      "index\tFgo_bp_go_id\tgo_bp\t52\tCREATE INDEX Fgo_bp_go_id ON go_bp (go_id)\n",
      "index\tFgo_mf\tgo_mf\t53\tCREATE INDEX Fgo_mf ON go_mf (_id)\n",
      "index\tFgo_mf_go_id\tgo_mf\t54\tCREATE INDEX Fgo_mf_go_id ON go_mf (go_id)\n",
      "index\tFgo_cc\tgo_cc\t55\tCREATE INDEX Fgo_cc ON go_cc (_id)\n",
      "index\tFgo_cc_go_id\tgo_cc\t56\tCREATE INDEX Fgo_cc_go_id ON go_cc (go_id)\n",
      "index\tFgo_bp_all\tgo_bp_all\t57\tCREATE INDEX Fgo_bp_all ON go_bp_all (_id)\n",
      "index\tFgo_bp_all_go_id\tgo_bp_all\t58\tCREATE INDEX Fgo_bp_all_go_id ON go_bp_all (go_id)\n",
      "index\tFgo_mf_all\tgo_mf_all\t59\tCREATE INDEX Fgo_mf_all ON go_mf_all (_id)\n",
      "index\tFgo_mf_all_go_id\tgo_mf_all\t60\tCREATE INDEX Fgo_mf_all_go_id ON go_mf_all (go_id)\n",
      "index\tFgo_cc_all\tgo_cc_all\t61\tCREATE INDEX Fgo_cc_all ON go_cc_all (_id)\n",
      "index\tFgo_cc_all_go_id\tgo_cc_all\t62\tCREATE INDEX Fgo_cc_all_go_id ON go_cc_all (go_id)\n",
      "index\tFkegg\tkegg\t63\tCREATE INDEX Fkegg ON kegg (_id)\n",
      "index\tFec\tec\t64\tCREATE INDEX Fec ON ec (_id)\n",
      "index\tFchromosome_locations\tchromosome_locations\t65\tCREATE INDEX Fchromosome_locations ON chromosome_locations (_id)\n",
      "index\tFpfam\tpfam\t66\tCREATE INDEX Fpfam ON pfam (_id)\n",
      "index\tFprosite\tprosite\t67\tCREATE INDEX Fprosite ON prosite (_id)\n",
      "index\tFalias\talias\t68\tCREATE INDEX Falias ON alias (_id)\n",
      "index\tFensembl\tensembl\t69\tCREATE INDEX Fensembl ON ensembl (_id)\n",
      "index\tFensembl2ncbi\tensembl2ncbi\t70\tCREATE INDEX Fensembl2ncbi ON ensembl2ncbi (_id)\n",
      "index\tFncbi2ensembl\tncbi2ensembl\t71\tCREATE INDEX Fncbi2ensembl ON ncbi2ensembl (_id)\n",
      "index\tFensemblp\tensembl_prot\t72\tCREATE INDEX Fensemblp ON ensembl_prot (_id)\n",
      "index\tFensemblt\tensembl_trans\t73\tCREATE INDEX Fensemblt ON ensembl_trans (_id)\n",
      "index\tFuniprot\tuniprot\t74\tCREATE INDEX Funiprot ON uniprot (_id)\n",
      "index\tFucsc\tucsc\t75\tCREATE INDEX Fucsc ON ucsc (_id)\n",
      "view\tgo\tgo\t0\tCREATE VIEW go AS\n",
      "SELECT _id,go_id,evidence, 'BP' AS 'ontology' FROM go_bp\n",
      "UNION\n",
      "SELECT _id,go_id,evidence, 'CC' FROM go_cc\n",
      "UNION\n",
      "SELECT _id,go_id,evidence, 'MF' FROM go_mf\n",
      "view\tgo_all\tgo_all\t0\tCREATE VIEW go_all AS\n",
      "SELECT _id,go_id,evidence, 'BP' AS 'ontology'  FROM go_bp_all\n",
      "UNION\n",
      "SELECT _id,go_id,evidence, 'CC' FROM go_cc_all\n",
      "UNION\n",
      "SELECT _id,go_id,evidence, 'MF' FROM go_mf_all\n",
      "table\tsqlite_sequence\tsqlite_sequence\t70439\tCREATE TABLE sqlite_sequence(name,seq)\n",
      "table\tgo_bp_ALT\tgo_bp_ALT\t70437\tCREATE TABLE go_bp_ALT (\n",
      "      ggo_id INTEGER PRIMARY KEY AUTOINCREMENT,\n",
      "      gene_id INTEGER NOT NULL,                     -- REFERENCES  genes _id \n",
      "      go_id CHAR(10) NOT NULL,                      -- GO ID\n",
      "      evidence CHAR(30) NOT NULL,                   -- GO evidence information\n",
      "      FOREIGN KEY (gene_id) REFERENCES  genes  (_id)\n",
      "    )\n"
     ]
    }
   ],
   "source": [
    "cursor.execute(sql)\n",
    "\n",
    "print(get_header(cursor))\n",
    "print(get_results(cursor))"
   ]
  },
  {
   "cell_type": "code",
   "execution_count": 54,
   "metadata": {},
   "outputs": [
    {
     "name": "stdout",
     "output_type": "stream",
     "text": [
      "name\ttype\n",
      "metadata\ttable\n",
      "map_metadata\ttable\n",
      "map_counts\ttable\n",
      "genes\ttable\n",
      "gene_info\ttable\n",
      "chromosomes\ttable\n",
      "accessions\ttable\n",
      "cytogenetic_locations\ttable\n",
      "omim\ttable\n",
      "refseq\ttable\n",
      "pubmed\ttable\n",
      "unigene\ttable\n",
      "chrlengths\ttable\n",
      "go_bp\ttable\n",
      "go_mf\ttable\n",
      "go_cc\ttable\n",
      "go_bp_all\ttable\n",
      "go_mf_all\ttable\n",
      "go_cc_all\ttable\n",
      "kegg\ttable\n",
      "ec\ttable\n",
      "chromosome_locations\ttable\n",
      "pfam\ttable\n",
      "prosite\ttable\n",
      "alias\ttable\n",
      "ensembl\ttable\n",
      "ensembl2ncbi\ttable\n",
      "ncbi2ensembl\ttable\n",
      "ensembl_prot\ttable\n",
      "ensembl_trans\ttable\n",
      "uniprot\ttable\n",
      "ucsc\ttable\n",
      "sqlite_stat1\ttable\n",
      "sqlite_stat4\ttable\n",
      "sqlite_sequence\ttable\n",
      "go_bp_ALT\ttable\n"
     ]
    }
   ],
   "source": [
    "# WHERE clause example (-- denotes comment)\n",
    "# more examples later\n",
    "\n",
    "sql = '''\n",
    "SELECT name, type\n",
    "FROM sqlite_master \n",
    "WHERE type= \"table\"; -- condition that allows the selection of specific rows\n",
    "'''\n",
    "cursor.execute(sql)\n",
    "print(get_header(cursor))\n",
    "print(get_results(cursor))"
   ]
  },
  {
   "cell_type": "code",
   "execution_count": 47,
   "metadata": {},
   "outputs": [
    {
     "name": "stdout",
     "output_type": "stream",
     "text": [
      "_id\tgo_id\tevidence\n",
      "1\tGO:0002576\tTAS\n",
      "1\tGO:0008150\tND\n",
      "1\tGO:0043312\tTAS\n",
      "2\tGO:0001869\tIDA\n",
      "2\tGO:0002576\tTAS\n",
      "2\tGO:0007597\tTAS\n",
      "2\tGO:0010951\tIEA\n",
      "2\tGO:0022617\tTAS\n",
      "2\tGO:0048863\tIEA\n",
      "2\tGO:0051056\tTAS\n"
     ]
    }
   ],
   "source": [
    "# Selects all columns (*) of the gene ontology biological process table (go_bp) \n",
    "# retrieves only 10 rows due to the LIMIT clause\n",
    "# The first column is the gene id\n",
    "\n",
    "sql = '''\n",
    "SELECT *\n",
    "FROM go_bp \n",
    "LIMIT 10;\n",
    "'''\n",
    "cursor.execute(sql)\n",
    "print(get_header(cursor))\n",
    "print(get_results(cursor))"
   ]
  },
  {
   "cell_type": "markdown",
   "metadata": {},
   "source": [
    "Aliasing column names to make them easier to understand - add a new name for a column next to the column name using quotes if the alias contains spaces, the AS keyword can also be used\n",
    "- e.g.: column_name AS \"Alias name\"\n",
    "- e.g.: column_name \"Alias name\"\n",
    "- e.g.: column_name Alias_name"
   ]
  },
  {
   "cell_type": "code",
   "execution_count": 48,
   "metadata": {},
   "outputs": [
    {
     "name": "stdout",
     "output_type": "stream",
     "text": [
      "Gene ID\tSymbol\tName\n",
      "1\tA1BG\talpha-1-B glycoprotein\n",
      "2\tA2M\talpha-2-macroglobulin\n",
      "3\tA2MP1\talpha-2-macroglobulin pseudogene 1\n",
      "4\tNAT1\tN-acetyltransferase 1\n",
      "5\tNAT2\tN-acetyltransferase 2\n"
     ]
    }
   ],
   "source": [
    "sql = '''\n",
    "SELECT _id \"Gene ID\", symbol Symbol, gene_name Name\n",
    "FROM gene_info LIMIT 5;\n",
    "'''\n",
    "cursor.execute(sql)\n",
    "print(get_header(cursor))\n",
    "print(get_results(cursor))"
   ]
  },
  {
   "cell_type": "code",
   "execution_count": null,
   "metadata": {},
   "outputs": [],
   "source": [
    "#select first 50 rows from the genes table - all columns\n",
    "\n"
   ]
  },
  {
   "cell_type": "code",
   "execution_count": null,
   "metadata": {},
   "outputs": [],
   "source": []
  },
  {
   "cell_type": "code",
   "execution_count": 51,
   "metadata": {},
   "outputs": [
    {
     "name": "stdout",
     "output_type": "stream",
     "text": [
      "count(*)\n",
      "61521\n"
     ]
    }
   ],
   "source": [
    "# COUNT returns a single number, which is the count of all rows in the table\n",
    "\n",
    "sql = '''\n",
    "Select count(*) FROM genes;\n",
    "'''\n",
    "cursor.execute(sql)\n",
    "print(get_header(cursor))\n",
    "print(get_results(cursor))"
   ]
  },
  {
   "cell_type": "code",
   "execution_count": null,
   "metadata": {},
   "outputs": [],
   "source": [
    "sql = '''\n",
    "SELECT count(_id) AS 'Number of genes' \n",
    "FROM genes;\n",
    "'''\n",
    "cursor.execute(sql)\n",
    "print(get_header(cursor))\n",
    "print(get_results(cursor))"
   ]
  },
  {
   "cell_type": "code",
   "execution_count": null,
   "metadata": {},
   "outputs": [],
   "source": [
    "# DISTINCT selects  non-duplicated elements (rows)\n",
    "\n",
    "sql = '''\n",
    "SELECT _id Identifier FROM go_bp LIMIT 5;\n",
    "'''\n",
    "cursor.execute(sql)\n",
    "print(get_header(cursor))\n",
    "print(get_results(cursor))\n",
    "\n",
    "print()\n",
    "\n",
    "sql = '''\n",
    "SELECT DISTINCT _id Identifier FROM go_bp LIMIT 5;\n",
    "'''\n",
    "cursor.execute(sql)\n",
    "print(get_header(cursor))\n",
    "print(get_results(cursor))"
   ]
  },
  {
   "cell_type": "code",
   "execution_count": null,
   "metadata": {},
   "outputs": [],
   "source": [
    "# Other aggregate functions are available for numerical columns\n",
    "# https://www.sqlite.org/lang_aggfunc.html\n",
    "# comments are added using -- in front of the test to comment or using /* comment */ \n",
    "\n",
    "sql = '''\n",
    "SELECT MIN(DISTINCT _id) MIN_ID FROM go_bp; --comment LIMIT 5; /* comment */\n",
    "'''\n",
    "cursor.execute(sql)\n",
    "print(get_header(cursor))\n",
    "print(get_results(cursor))\n",
    "\n"
   ]
  },
  {
   "cell_type": "code",
   "execution_count": null,
   "metadata": {},
   "outputs": [],
   "source": [
    "# count the number of rows in go_bp\n",
    "\n"
   ]
  },
  {
   "cell_type": "code",
   "execution_count": null,
   "metadata": {},
   "outputs": [],
   "source": []
  },
  {
   "cell_type": "code",
   "execution_count": null,
   "metadata": {},
   "outputs": [],
   "source": [
    "# count the number of distinct genes in go_bp\n",
    "\n"
   ]
  },
  {
   "cell_type": "code",
   "execution_count": null,
   "metadata": {},
   "outputs": [],
   "source": []
  },
  {
   "cell_type": "markdown",
   "metadata": {},
   "source": [
    "#### WHERE clause operators\n",
    "https://www.sqlite.org/lang_expr.html\n",
    "\n",
    "<> ,  != \tinequality <br>\n",
    "<\t\t\tless than <br>\n",
    "<= \t\t\tless than or equal <br>\n",
    "=\t\t\tequal <br>\n",
    "'>\t\t\tgreater than <br>\n",
    "'>= \t\tgreater than or equal <br>\n",
    "BETWEEN v1 AND v2\ttests that a value to lies in a given range <br>\n",
    "EXISTS\t\ttest for existence of rows matching query <br>\n",
    "IN\t\t\ttests if a value falls within a given set or query <br>\n",
    "IS [ NOT ] NULL\tis or is not null <br>\n",
    "[ NOT ] LIKE\t\ttests value to see if like or not like another <br>\n",
    "\n",
    "% is the wildcard in SQL, used in conjunction with LIKE\n"
   ]
  },
  {
   "cell_type": "code",
   "execution_count": null,
   "metadata": {},
   "outputs": [],
   "source": [
    "sql = '''\n",
    "SELECT * FROM go_bp \n",
    "WHERE _id = '1';\n",
    "'''\n",
    "cursor.execute(sql)\n",
    "print(get_header(cursor))\n",
    "print(get_results(cursor))"
   ]
  },
  {
   "cell_type": "code",
   "execution_count": null,
   "metadata": {},
   "outputs": [],
   "source": [
    "sql = '''\n",
    "SELECT * FROM go_bp \n",
    "WHERE _id IN (1,5,7);\n",
    "'''\n",
    "cursor.execute(sql)\n",
    "print(get_header(cursor))\n",
    "print(get_results(cursor))"
   ]
  },
  {
   "cell_type": "markdown",
   "metadata": {},
   "source": [
    "The evidence column in the go_bp table describes the type of evidence that was used for the link between the gene and the biological process.  \n",
    "http://geneontology.org/docs/guide-go-evidence-codes/\n",
    "* Inferred from Experiment (EXP)\n",
    "* Inferred from Direct Assay (IDA)\n",
    "* Inferred from Physical Interaction (IPI)\n",
    "* Inferred from Mutant Phenotype (IMP)\n",
    "* Inferred from Genetic Interaction (IGI)\n",
    "* Inferred from Expression Pattern (IEP)\n",
    "* Inferred from High Throughput Experiment (HTP)\n",
    "* Inferred from High Throughput Direct Assay (HDA)\n",
    "* Inferred from High Throughput Mutant Phenotype (HMP)\n",
    "* Inferred from High Throughput Genetic Interaction (HGI)\n",
    "* Inferred from High Throughput Expression Pattern (HEP)\n",
    "* Inferred from Biological aspect of Ancestor (IBA)\n",
    "* Inferred from Biological aspect of Descendant (IBD)\n",
    "* Inferred from Key Residues (IKR)\n",
    "* Inferred from Rapid Divergence (IRD)\n",
    "* Inferred from Sequence or structural Similarity (ISS)\n",
    "* Inferred from Sequence Orthology (ISO)\n",
    "* Inferred from Sequence Alignment (ISA)\n",
    "* Inferred from Sequence Model (ISM)\n",
    "* Inferred from Genomic Context (IGC)\n",
    "* Inferred from Reviewed Computational Analysis (RCA)\n",
    "* Traceable Author Statement (TAS)\n",
    "* Non-traceable Author Statement (NAS)\n",
    "* Inferred by Curator (IC)\n",
    "* No biological Data available (ND)\n",
    "* Inferred from Electronic Annotation (IEA)\n"
   ]
  },
  {
   "cell_type": "code",
   "execution_count": null,
   "metadata": {},
   "outputs": [],
   "source": [
    "sql = '''\n",
    "SELECT * FROM go_bp \n",
    "WHERE evidence = 'ND' AND _id BETWEEN 20 AND 2000 \n",
    "LIMIT 10\n",
    "'''\n",
    "cursor.execute(sql)\n",
    "print(get_header(cursor))\n",
    "print(get_results(cursor))"
   ]
  },
  {
   "cell_type": "code",
   "execution_count": null,
   "metadata": {},
   "outputs": [],
   "source": [
    "sql = '''\n",
    "SELECT * \n",
    "FROM go_bp\n",
    "WHERE go_id LIKE '%0081%' \n",
    "LIMIT 10;\n",
    "'''\n",
    "cursor.execute(sql)\n",
    "print(get_header(cursor))\n",
    "print(get_results(cursor))"
   ]
  },
  {
   "cell_type": "code",
   "execution_count": null,
   "metadata": {},
   "outputs": [],
   "source": [
    "# Retrieve rows from go_bp where the go_id is GO:0008104 and evidence is IEA or IDA\n",
    "\n",
    "\n"
   ]
  },
  {
   "cell_type": "code",
   "execution_count": null,
   "metadata": {},
   "outputs": [],
   "source": []
  },
  {
   "cell_type": "code",
   "execution_count": null,
   "metadata": {},
   "outputs": [],
   "source": [
    "# ORDER BY (optional) - indicates a sort order given by a column in the the output data and the sort order: ASC or DESC\n",
    "\n",
    "sql = '''\n",
    "SELECT *\n",
    "FROM go_bp \n",
    "WHERE evidence=\"EXP\"\n",
    "ORDER BY _id  ASC\n",
    "LIMIT 20;\n",
    "'''\n",
    "cursor.execute(sql)\n",
    "print(get_header(cursor))\n",
    "print(get_results(cursor))"
   ]
  },
  {
   "cell_type": "markdown",
   "metadata": {},
   "source": [
    "____\n",
    "Sqlite3 also has some PRAGMA methods <br>\n",
    "This is an SQL extension specific to SQLite that is used to modify the operation of the SQLite library or to query the SQLite library for internal (non-table) data <br>\n",
    "https://www.sqlite.org/pragma.html <br>\n",
    "The code below shows how to get the schema (columns and columns information)"
   ]
  },
  {
   "cell_type": "code",
   "execution_count": null,
   "metadata": {},
   "outputs": [],
   "source": [
    "sql = 'PRAGMA table_info(\"go_bp\")'\n",
    "cursor.execute(sql)\n",
    "print(get_header(cursor))\n",
    "print(get_results(cursor))"
   ]
  },
  {
   "cell_type": "code",
   "execution_count": null,
   "metadata": {},
   "outputs": [],
   "source": [
    "sql = '''SELECT * FROM pragma_table_info(\"go_bp\")  '''\n",
    "cursor.execute(sql)\n",
    "print(get_header(cursor))\n",
    "print(get_results(cursor))"
   ]
  },
  {
   "cell_type": "markdown",
   "metadata": {},
   "source": [
    "___"
   ]
  },
  {
   "cell_type": "code",
   "execution_count": null,
   "metadata": {},
   "outputs": [],
   "source": [
    "# SUB-QUERY - we can have a query in a query\n",
    "\n",
    "sql = '''\n",
    "SELECT _id, symbol, gene_name \n",
    "FROM gene_info\n",
    "WHERE _id IN\n",
    "    (SELECT DISTINCT _id \n",
    "    FROM go_bp\n",
    "    WHERE go_id == 'GO:0008104'); \n",
    "'''\n",
    "cursor.execute(sql)\n",
    "print(get_header(cursor))\n",
    "print(get_results(cursor))"
   ]
  },
  {
   "cell_type": "code",
   "execution_count": null,
   "metadata": {},
   "outputs": [],
   "source": [
    "# GROUP BY groups by a column and creates summary data for a different column\n",
    "# count entries for each GO term\n",
    "\n",
    "sql = '''\n",
    "SELECT go_id, count(*) \n",
    "FROM go_bp \n",
    "GROUP BY go_id \n",
    "LIMIT 10;\n",
    "'''\n",
    "cursor.execute(sql)\n",
    "print(get_header(cursor))\n",
    "print(get_results(cursor))"
   ]
  },
  {
   "cell_type": "code",
   "execution_count": null,
   "metadata": {},
   "outputs": [],
   "source": [
    "# specify column in aggregate function and alias the name of the columns\n",
    "\n",
    "sql = '''\n",
    "SELECT go_id as \"GO Term ID\", count(_id) as \"Gene Number\" \n",
    "FROM go_bp \n",
    "GROUP BY go_id \n",
    "LIMIT 10;\n",
    "'''\n",
    "cursor.execute(sql)\n",
    "print(get_header(cursor))\n",
    "print(get_results(cursor))"
   ]
  },
  {
   "cell_type": "code",
   "execution_count": null,
   "metadata": {},
   "outputs": [],
   "source": [
    "# HAVING allows restrictions on the rows used or selected\n",
    "# a GROUP BY clause is required before HAVING\n",
    "\n",
    "sql = '''\n",
    "SELECT go_id, count(_id) as gene_no \n",
    "FROM go_bp \n",
    "GROUP BY go_id\n",
    "HAVING gene_no>500;\n",
    "'''\n",
    "cursor.execute(sql)\n",
    "print(get_header(cursor))\n",
    "print(get_results(cursor))"
   ]
  },
  {
   "cell_type": "code",
   "execution_count": null,
   "metadata": {},
   "outputs": [],
   "source": [
    "# Select gene ids with more than 100 biological processes associated\n",
    "\n",
    "\n"
   ]
  },
  {
   "cell_type": "markdown",
   "metadata": {},
   "source": [
    "#### A `PRIMARY KEY` is a very important concept to understand.  \n",
    "* It is the designation for a column or a set of columns from a table.\n",
    "* It is recommended to be a serial value and not something related to the business needs of the data in the table.\n",
    "\n",
    "* A primary key is used to uniquely identify a row of data; combined with a column name, uniquely locates a data entry\n",
    "* A primary key by definition must be `UNIQUE` and `NOT NULL` \n",
    "* The primary key of a table, should be a (sequential) non-repeating and not null value  \n",
    "* Primary keys are generally identified at time of table creation  \n",
    "* A common method for generating a primary key, is to set the datatype to `INTEGER` and declare `AUTOINCREMENT` which will function when data is inserted into the table\n",
    "* Primary keys can be a composite of 2 or more columns that uniquely identify the data in the table\n",
    "\n"
   ]
  },
  {
   "cell_type": "markdown",
   "metadata": {},
   "source": [
    "#### A `FOREIGN KEY` is a column(s) that points to the `PRIMARY KEY` of another table \n",
    "\n",
    "* The purpose of the foreign key is to ensure referential integrity of the data. \n",
    "In other words, only values that are supposed to appear in the database are permitted.<br>\n",
    "Only the values that exist in the `PRIMARY KEY` column are allowed to be present in the FOREIGN KEY column.\n",
    "Example: A `gene` table has the `PRIMARY KEY` `gene_id`. The GO2_gene GO term is associated with a gene\n",
    "\n",
    "They are also the underpinning of how tables are joined and relationships portrayed in the database\n"
   ]
  },
  {
   "cell_type": "markdown",
   "metadata": {},
   "source": [
    "#### JOIN tables\n",
    "\n",
    "* Multiple tables contain different data that we want to retrieve from a single query\n",
    "* In order to assemble data as part of a query, a JOIN between tables is needed\n",
    "* This is a very common practice, since it’s rare for all the data you want to be in a single table\n",
    "\n",
    "\n",
    "* INNER JOIN - return only those rows where there is matching content in BOTH tables (is the default when JOIN is used)\n",
    "* OUTER JOIN - returns all rows from both tables even if one of the tables is blank\n",
    "* SELF JOIN - can be used to join a table to itself (through aliasing), to compare data internal to the table\n",
    "\n",
    "```sql\n",
    "SELECT ... FROM table1 [INNER] JOIN table2 ON conditional_expression\n",
    "```\n"
   ]
  },
  {
   "cell_type": "code",
   "execution_count": null,
   "metadata": {},
   "outputs": [],
   "source": [
    "sql = '''\n",
    "SELECT symbol,go_id, evidence\n",
    "FROM gene_info AS gi\n",
    "INNER JOIN go_bp AS go\n",
    "    ON gi._id == go._id\n",
    "WHERE evidence = \"ND\"\n",
    "LIMIT 5;\n",
    "'''\n",
    "cursor.execute(sql)\n",
    "print(get_header(cursor))\n",
    "print(get_results(cursor))"
   ]
  },
  {
   "cell_type": "markdown",
   "metadata": {},
   "source": [
    "#### See the create table statement"
   ]
  },
  {
   "cell_type": "code",
   "execution_count": null,
   "metadata": {},
   "outputs": [],
   "source": [
    "# sql column in the sqlite_master table\n",
    "\n",
    "sql = '''\n",
    "SELECT sql\n",
    "FROM sqlite_master \n",
    "WHERE type= \"table\" and name == \"go_bp\"\n",
    "LIMIT 2;\n",
    "'''\n",
    "cursor.execute(sql)\n",
    "print(get_header(cursor))\n",
    "print(get_results(cursor))"
   ]
  },
  {
   "cell_type": "code",
   "execution_count": null,
   "metadata": {},
   "outputs": [],
   "source": []
  },
  {
   "cell_type": "markdown",
   "metadata": {},
   "source": [
    "### CREATE TABLE  - statement\n",
    "https://www.sqlitetutorial.net/sqlite-create-table/\n",
    "\n",
    "```sql\n",
    "CREATE TABLE [IF NOT EXISTS] [schema_name].table_name (\n",
    "    column_1 data_type PRIMARY KEY,\n",
    "    column_2 data_type NOT NULL,\n",
    "    column_3 data_type DEFAULT 0,\n",
    "    table_constraints\n",
    ") [WITHOUT ROWID];\n",
    "```\n",
    "\n",
    "In this syntax:\n",
    "\n",
    "* First, specify the name of the table that you want to create after the CREATE TABLE keywords. The name of the table cannot start with sqlite_ because it is reserved for the internal use of SQLite.\n",
    "* Second, use `IF NOT EXISTS` option to create a new table if it does not exist. Attempting to create a table that already exists without using the IF NOT EXISTS option will result in an error.\n",
    "* Third, optionally specify the schema_name to which the new table belongs. The schema can be the main database, temp database or any attached database.\n",
    "* Fourth, specify the column list of the table. Each column has a name, data type, and the column constraint. SQLite supports `PRIMARY KEY, UNIQUE, NOT NULL`, and `CHECK` column constraints.\n",
    "* Fifth, specify the table constraints such as PRIMARY KEY, FOREIGN KEY, UNIQUE, and CHECK constraints.\n",
    "* Finally, optionally use the `WITHOUT ROWID` option. By default, a row in a table has an implicit column, which is referred to as the rowid, oid or _rowid_ column. The rowid column stores a 64-bit signed integer key that uniquely identifies the row inside the table. If you don’t want SQLite creates the rowid column, you specify the WITHOUT ROWID option. A table that contains the rowid column is known as a rowid table. Note that the WITHOUT ROWID option is only available in SQLite 3.8.2 or later."
   ]
  },
  {
   "cell_type": "markdown",
   "metadata": {},
   "source": [
    "https://www.sqlite.org/syntaxdiagrams.html#create-table-stmt\n",
    "\n",
    "<img src = \"https://www.sqlite.org/images/syntax/create-table-stmt.gif\" width=\"800\"/>"
   ]
  },
  {
   "cell_type": "markdown",
   "metadata": {},
   "source": [
    "Each value stored in an SQLite database (or manipulated by the database engine) has one of the following storage classes:\n",
    "https://www.sqlite.org/datatype3.html\n",
    "* `NULL`. The value is a NULL value.\n",
    "* `INTEGER`. The value is a signed integer, stored in 1, 2, 3, 4, 6, or 8 bytes depending on the magnitude of the value.\n",
    "* `REAL`. The value is a floating point value, stored as an 8-byte IEEE floating point number.\n",
    "* `TEXT`. The value is a text string, stored using the database encoding (UTF-8, UTF-16BE or UTF-16LE).\n",
    "* `BLOB`. The value is a blob of data, stored exactly as it was input."
   ]
  },
  {
   "cell_type": "markdown",
   "metadata": {},
   "source": [
    "#### A `PRIMARY KEY` is a very important concept to understand.  \n",
    "* It is the designation for a column or a set of columns from a table.\n",
    "* It is recommended to be a serial value and not something related to the business needs of the data in the table.\n",
    "\n",
    "* A primary key is used to uniquely identify a row of data; combined with a column name, uniquely locates a data entry\n",
    "* A primary key by definition must be `UNIQUE` and `NOT NULL` \n",
    "* The primary key of a table, should be a (sequential) non-repeating and not null value  \n",
    "* Primary keys are generally identified at time of table creation  \n",
    "* A common method for generating a primary key, is to set the datatype to `INTEGER` and declare `AUTOINCREMENT` which will function when data is inserted into the table\n",
    "* Primary keys can be a composite of 2 or more columns that uniquely identify the data in the table\n",
    "\n"
   ]
  },
  {
   "cell_type": "markdown",
   "metadata": {},
   "source": [
    "#### A `FOREIGN KEY` is a column(s) that points to the `PRIMARY KEY` of another table \n",
    "\n",
    "* The purpose of the foreign key is to ensure referential integrity of the data. \n",
    "In other words, only values that are supposed to appear in the database are permitted.<br>\n",
    "Only the values that exist in the `PRIMARY KEY` column are allowed to be present in the FOREIGN KEY column.\n",
    "Example: A `gene` table has the `PRIMARY KEY` `gene_id`. The GO2_gene GO term is associated with a gene\n",
    "\n",
    "They are also the underpinning of how tables are joined and relationships portrayed in the database\n"
   ]
  },
  {
   "cell_type": "markdown",
   "metadata": {},
   "source": [
    "The `sqlite_master` has the following create statement: \n",
    "```sql\n",
    "CREATE TABLE sqlite_master ( type TEXT, name TEXT, tbl_name TEXT, rootpage INTEGER, sql TEXT );\n",
    "```"
   ]
  },
  {
   "cell_type": "markdown",
   "metadata": {},
   "source": [
    "##### The `connection` object methods can be used to save or revert/reset the changes after a command that makes changes to the database\n",
    "##### `COMMIT` - save the changes \n",
    "##### `ROLLBACK` - revert the changes \n"
   ]
  },
  {
   "cell_type": "code",
   "execution_count": null,
   "metadata": {},
   "outputs": [],
   "source": [
    "# Check for tables with a name like go_bp\n",
    "\n",
    "sql = '''\n",
    "SELECT name\n",
    "FROM sqlite_master \n",
    "WHERE name LIKE \"go_bp%\"\n",
    "LIMIT 4;\n",
    "'''\n",
    "cursor.execute(sql)\n",
    "print(cursor.fetchall())"
   ]
  },
  {
   "cell_type": "code",
   "execution_count": null,
   "metadata": {},
   "outputs": [],
   "source": [
    "# select the sql statement for the go_bp table\n",
    "\n",
    "sql = '''\n",
    "SELECT sql\n",
    "FROM sqlite_master \n",
    "WHERE name = \"go_bp\";\n",
    "'''\n",
    "cursor.execute(sql)\n",
    "print(cursor.fetchall()[0][0])"
   ]
  },
  {
   "cell_type": "markdown",
   "metadata": {},
   "source": [
    "#### We create the table `go_bp_ALT` with the columns: `ggo_id`, `gene_id`, `go_id` and `evidence`"
   ]
  },
  {
   "cell_type": "code",
   "execution_count": null,
   "metadata": {},
   "outputs": [],
   "source": [
    "# Write and run a create table statement for an alternative go_bp_ALT table\n",
    "\n",
    "sql='''\n",
    "CREATE TABLE IF NOT EXISTS go_bp_ALT (\n",
    "      ggo_id INTEGER PRIMARY KEY AUTOINCREMENT,\n",
    "      gene_id INTEGER NOT NULL,                     -- REFERENCES  genes _id \n",
    "      go_id CHAR(10) NOT NULL,                      -- GO ID\n",
    "      evidence CHAR(30) NOT NULL,                   -- GO evidence information\n",
    "      FOREIGN KEY (gene_id) REFERENCES  genes  (_id)\n",
    "    );\n",
    "'''\n",
    "try:\n",
    "    cursor.execute(sql)\n",
    "except connection.DatabaseError:\n",
    "    print(\"Creating the go_bp_ALT table resulted in a database error!\")\n",
    "    connection.rollback()\n",
    "    raise\n",
    "else:\n",
    "    connection.commit()\n",
    "finally:\n",
    "    print(\"done!\")\n",
    "    \n",
    "    "
   ]
  },
  {
   "cell_type": "markdown",
   "metadata": {},
   "source": [
    "##### Similar error handling, as seen above, can be when executing any statement that changes the database."
   ]
  },
  {
   "cell_type": "markdown",
   "metadata": {},
   "source": [
    "##### Check if the new table appears in the `sqlite_master` table "
   ]
  },
  {
   "cell_type": "code",
   "execution_count": null,
   "metadata": {},
   "outputs": [],
   "source": [
    "sql = '''\n",
    "SELECT name\n",
    "FROM sqlite_master \n",
    "WHERE name LIKE \"go_bp%\"\n",
    "LIMIT 4;\n",
    "'''\n",
    "cursor.execute(sql)\n",
    "print(cursor.fetchall())"
   ]
  },
  {
   "cell_type": "markdown",
   "metadata": {},
   "source": [
    "  \n",
    "<br><br> \n",
    "The `sqlite_sequence` table is created and initialized automatically whenever a regular table is created if it has a column with the `AUTOINCREMENT` option set.<br>\n",
    "https://www.sqlite.org/autoinc.html\n"
   ]
  },
  {
   "cell_type": "markdown",
   "metadata": {},
   "source": [
    "##### Check if the new table appears in the `sqlite_master` table "
   ]
  },
  {
   "cell_type": "markdown",
   "metadata": {},
   "source": [
    "### INDEXING\n",
    "\n",
    "Indexes are lookup table, like the index of a book.\n",
    "They are usually created for columns that have unique/ or less redundant values and provide a way to quicky search \n",
    "the values.<br>\n",
    "Indexing creates a copy of the indexed columns together with a link to the location of the additional information.<br> \n",
    "The index data is stored in a data structure that allows for fast sorting. <br>\n",
    "E.g.: balanced-tree - every leaf is at most n nodes away from the root) that allows for fast sorting. <br>\n",
    "All queries (statements) regarding an indexed table are applied to the index\n",
    "\n",
    "\n",
    "* One important function in Relational Databases is to be able to create indexes on columns in tables  \n",
    "* These indexes are pre-calculated and stored in the database \n",
    "* Indexes should be created on columns that are used in queries and joins   \n",
    "* They will rapidly speed up query return rate and improve query performance\n",
    "\n",
    "To create an index use the following command:\n",
    "\n",
    "```sql\n",
    "CREATE INDEX indexName ON tableName (columnName)\n",
    "```"
   ]
  },
  {
   "cell_type": "code",
   "execution_count": null,
   "metadata": {},
   "outputs": [],
   "source": [
    "sql = '''\n",
    "CREATE INDEX gene_go_idx \n",
    "ON go_bp_ALT (ggo_id)\n",
    "'''\n",
    "cursor.execute(sql)\n",
    "connection.commit()\n"
   ]
  },
  {
   "cell_type": "markdown",
   "metadata": {},
   "source": [
    "##### Check if the new index appears in the `sqlite_master` table "
   ]
  },
  {
   "cell_type": "code",
   "execution_count": null,
   "metadata": {},
   "outputs": [],
   "source": [
    "sql = '''\n",
    "SELECT name, sql\n",
    "FROM sqlite_master \n",
    "WHERE type= \"index\" AND \n",
    "    name = \"gene_go_idx\";\n",
    "'''\n",
    "cursor.execute(sql)\n",
    "print(get_header(cursor))\n",
    "print(get_results(cursor))"
   ]
  },
  {
   "cell_type": "markdown",
   "metadata": {},
   "source": [
    "#### Remove the index"
   ]
  },
  {
   "cell_type": "code",
   "execution_count": null,
   "metadata": {},
   "outputs": [],
   "source": [
    "sql = '''\n",
    "DROP INDEX gene_go_idx \n",
    "'''\n",
    "cursor.execute(sql)\n",
    "connection.commit()\n"
   ]
  },
  {
   "cell_type": "markdown",
   "metadata": {},
   "source": [
    "##### Check if the index was removed from the `sqlite_master` table "
   ]
  },
  {
   "cell_type": "code",
   "execution_count": null,
   "metadata": {},
   "outputs": [],
   "source": [
    "sql = '''\n",
    "SELECT name, sql\n",
    "FROM sqlite_master \n",
    "WHERE type= \"index\" AND \n",
    "    name = \"gene_go_idx\";\n",
    "'''\n",
    "cursor.execute(sql)\n",
    "print(get_header(cursor))\n",
    "print(get_results(cursor))"
   ]
  },
  {
   "cell_type": "markdown",
   "metadata": {},
   "source": [
    "### INSERT - statement\n",
    "\n",
    "Makes changes to the database table<br>\n",
    "Adds new data to a table (if the constraints are met)\n",
    "Constraint examples: \n",
    "* For one designated column or a group of columns that are designated as Primary Key the values are unique\n",
    "* The value inserted in a column that has a Foreign Key constraint should exist in the column that it refers to\n",
    "\n",
    "```sql\n",
    "INSERT INTO <tablename> (<column1>, <column2>, <column3>) VALUES (value1, value2, value3);\n",
    "```\n",
    "\n",
    "##### One simple INSERT command adds 1 row of data at a time into an existing table  \n",
    "\n",
    "##### Connection object allows us to:\n",
    "* ##### COMMIT - save the changes \n",
    "* ##### ROLLBACK - reverts/discards the changes"
   ]
  },
  {
   "cell_type": "markdown",
   "metadata": {},
   "source": [
    "<br>\n",
    "\n",
    "##### Let's see what is in the table (it should be nothing):"
   ]
  },
  {
   "cell_type": "code",
   "execution_count": null,
   "metadata": {},
   "outputs": [],
   "source": [
    "sql = '''\n",
    "SELECT *\n",
    "FROM go_bp_ALT;\n",
    "'''\n",
    "cursor.execute(sql)\n",
    "print(get_header(cursor))\n",
    "print(get_results(cursor))"
   ]
  },
  {
   "cell_type": "markdown",
   "metadata": {},
   "source": [
    "<br>\n",
    "\n",
    "##### Let's try an insert:\n",
    "```sql\n",
    "INSERT INTO <tablename> (<column1>, <column2>, <column3>) VALUES (value1, value2, value3);\n",
    "```"
   ]
  },
  {
   "cell_type": "code",
   "execution_count": null,
   "metadata": {},
   "outputs": [],
   "source": [
    "values_list = [1234,\"GO:1234\",\"CM_EV\"]\n",
    "\n",
    "sql = '''\n",
    "INSERT INTO go_bp_ALT (gene_id, go_id, evidence) \n",
    "VALUES (?,?,?);\n",
    "'''\n",
    "cursor.execute(sql,values_list)\n",
    "connection.commit()"
   ]
  },
  {
   "cell_type": "code",
   "execution_count": null,
   "metadata": {},
   "outputs": [],
   "source": [
    "# This command retrieves the identifier of the last row from the most current query\n",
    "# The gene_go_id\n",
    "\n",
    "id_value = cursor.lastrowid\n",
    "id_value"
   ]
  },
  {
   "cell_type": "markdown",
   "metadata": {},
   "source": [
    "<br>\n",
    "\n",
    "\n",
    "##### We have a row in the table!!! And the gene_go_id was automatically generated."
   ]
  },
  {
   "cell_type": "code",
   "execution_count": null,
   "metadata": {},
   "outputs": [],
   "source": [
    "sql = '''\n",
    "SELECT *\n",
    "FROM go_bp_ALT ;\n",
    "'''\n",
    "cursor.execute(sql)\n",
    "print(get_header(cursor))\n",
    "print(get_results(cursor))"
   ]
  },
  {
   "cell_type": "markdown",
   "metadata": {},
   "source": [
    "#### You can have a Python \"table\" structure (list of lists) of insert values and get them all inserted in one command, each sublist having the correct number of values.\n"
   ]
  },
  {
   "cell_type": "code",
   "execution_count": null,
   "metadata": {},
   "outputs": [],
   "source": [
    "values_tbl = [[1235,\"GO:1235\",\"CM_EV\"], [1236,\"GO:1236\",\"CM_EV\"], [1236,\"GO:1237\",\"CM_EV\"]]\n",
    "\n",
    "sql = '''\n",
    "INSERT INTO go_bp_ALT (gene_id, go_id, evidence) \n",
    "VALUES (?,?,?);\n",
    "'''\n",
    "cursor.executemany(sql,values_tbl)\n",
    "connection.commit()\n"
   ]
  },
  {
   "cell_type": "code",
   "execution_count": null,
   "metadata": {},
   "outputs": [],
   "source": [
    "sql = '''\n",
    "SELECT *\n",
    "FROM go_bp_ALT ;\n",
    "'''\n",
    "cursor.execute(sql)\n",
    "print(get_header(cursor))\n",
    "print(get_results(cursor))"
   ]
  },
  {
   "cell_type": "markdown",
   "metadata": {},
   "source": [
    "#### UPDATE - statement - changes the table rows\n",
    "\n"
   ]
  },
  {
   "cell_type": "markdown",
   "metadata": {},
   "source": [
    "MODIFIES DATA (already in a table)  in all rows matching the WHERE clause \n",
    "\n",
    "```sql\n",
    "UPDATE table_name \n",
    "SET column1 = value1, column2 = value2...., columnN = valueN\n",
    "WHERE [condition];\n",
    "```\n",
    "\n",
    "Update is generally a single row command, but use of the where clause can cause data to be updated in multiple rows <br>\n",
    "(whether you intended to or not !!!!)\n",
    "\n",
    "The following statement updates the evidence for all entries for all genes associated with the 2 biological processses "
   ]
  },
  {
   "cell_type": "code",
   "execution_count": null,
   "metadata": {},
   "outputs": [],
   "source": [
    "sql = '''\n",
    "UPDATE go_bp_ALT\n",
    "SET evidence = \"EXP\" \n",
    "WHERE gene_id = 1236;\n",
    "'''\n",
    "cursor.execute(sql)\n",
    "connection.commit()"
   ]
  },
  {
   "cell_type": "code",
   "execution_count": null,
   "metadata": {},
   "outputs": [],
   "source": [
    "sql = '''\n",
    "SELECT *\n",
    "FROM go_bp_ALT ;\n",
    "'''\n",
    "cursor.execute(sql)\n",
    "print(get_header(cursor))\n",
    "print(get_results(cursor))"
   ]
  },
  {
   "cell_type": "code",
   "execution_count": null,
   "metadata": {},
   "outputs": [],
   "source": []
  },
  {
   "cell_type": "markdown",
   "metadata": {},
   "source": [
    "#### DELETE - statement - deletes table rows\n",
    "\n",
    "* MAKES CHANGES TO THE DATA\n",
    "* Row level deletion – can’t delete less than this. \n",
    "\n",
    "```sql\n",
    "DELETE FROM <tablename> WHERE <column> = <value>\n",
    "```\n",
    "\n",
    "* The WHERE predicate is the same as for the SELECT statement, that is, it determines which rows will be deleted  \n",
    "\n"
   ]
  },
  {
   "cell_type": "code",
   "execution_count": null,
   "metadata": {},
   "outputs": [],
   "source": [
    "sql = '''\n",
    "DELETE FROM go_bp_ALT \n",
    "WHERE go_id IN (\"GO:1234\",\"GO:1236\");\n",
    "'''\n",
    "cursor.execute(sql)\n",
    "connection.commit()\n"
   ]
  },
  {
   "cell_type": "code",
   "execution_count": null,
   "metadata": {},
   "outputs": [],
   "source": [
    "sql = '''\n",
    "SELECT *\n",
    "FROM go_bp_ALT ;\n",
    "'''\n",
    "cursor.execute(sql)\n",
    "print(get_header(cursor))\n",
    "print(get_results(cursor))"
   ]
  },
  {
   "cell_type": "markdown",
   "metadata": {},
   "source": [
    "```sql\n",
    "DELETE FROM <tablename>; \n",
    "```\n",
    "\n",
    "* This would delete all rows of data from a table.\n",
    "* Preserves table structure (table still exists)\n",
    "* Optimized for speed in SQLite, no row-by-row execution.\n",
    "* EXISTS <table_name> still evaluates to True\n"
   ]
  },
  {
   "cell_type": "code",
   "execution_count": null,
   "metadata": {},
   "outputs": [],
   "source": [
    "# Delete all data from the table - but keep the table \n",
    "\n",
    "sql = '''\n",
    "DELETE FROM go_bp_ALT;\n",
    "'''\n",
    "cursor.execute(sql)\n",
    "connection.commit()\n"
   ]
  },
  {
   "cell_type": "code",
   "execution_count": null,
   "metadata": {},
   "outputs": [],
   "source": [
    "sql = '''\n",
    "SELECT *\n",
    "FROM go_bp_ALT ;\n",
    "'''\n",
    "cursor.execute(sql)\n",
    "print(get_header(cursor))\n",
    "print(get_results(cursor))"
   ]
  },
  {
   "cell_type": "markdown",
   "metadata": {},
   "source": [
    "<br>\n",
    "\n",
    "#### `DROP TABLE` - statement - removes a table (permanently)"
   ]
  },
  {
   "cell_type": "code",
   "execution_count": null,
   "metadata": {},
   "outputs": [],
   "source": [
    "sql = '''\n",
    "DROP TABLE IF EXISTS go_bp_ALT;\n",
    "'''\n",
    "cursor.execute(sql)\n",
    "connection.commit()"
   ]
  },
  {
   "cell_type": "code",
   "execution_count": null,
   "metadata": {},
   "outputs": [],
   "source": [
    "sql = '''\n",
    "SELECT name AS \"TABLE NAME\"\n",
    "FROM sqlite_master \n",
    "WHERE name LIKE \"go_bp%\";\n",
    "'''\n",
    "cursor.execute(sql)\n",
    "print(get_header(cursor))\n",
    "print(get_results(cursor))"
   ]
  },
  {
   "cell_type": "markdown",
   "metadata": {},
   "source": [
    "#### VIEW in a database\n",
    "\n",
    "* A view is a virtual table which can be created from a query on existing tables\n",
    "* Views are created to give a more human readable version of the normalized data / tables\n",
    "* http://www.sqlitetutorial.net/sqlite-create-view/\n",
    "* An SQLite view is read only"
   ]
  },
  {
   "cell_type": "markdown",
   "metadata": {},
   "source": [
    "```sql\n",
    "CREATE [TEMP] VIEW [IF NOT EXISTS] view_name(column-name-list) AS    \n",
    "select-statement;\n",
    "```"
   ]
  },
  {
   "cell_type": "code",
   "execution_count": null,
   "metadata": {},
   "outputs": [],
   "source": [
    "# gene go information for easy access\n",
    "sql = '''\n",
    "CREATE VIEW IF NOT EXISTS gene_go_info (symbol, go_id, evidence) AS\n",
    "SELECT symbol, go_id, evidence\n",
    "FROM gene_info AS gi\n",
    "INNER JOIN go_bp AS go\n",
    "ON gi._id == go._id\n",
    "WHERE evidence IN (\"EXP\",\"IDA\") ;\n",
    "'''\n",
    "cursor.execute(sql)\n",
    "connection.commit()"
   ]
  },
  {
   "cell_type": "code",
   "execution_count": null,
   "metadata": {},
   "outputs": [],
   "source": [
    "# gene go information \n",
    "sql = '''\n",
    "SELECT *\n",
    "FROM gene_go_info\n",
    "LIMIT 10;\n",
    "'''\n",
    "cursor.execute(sql)\n",
    "print(get_header(cursor))\n",
    "print(get_results(cursor))"
   ]
  },
  {
   "cell_type": "markdown",
   "metadata": {},
   "source": [
    "```sql\n",
    "DROP VIEW [IF EXISTS] view_name;\n",
    "```"
   ]
  },
  {
   "cell_type": "code",
   "execution_count": null,
   "metadata": {},
   "outputs": [],
   "source": [
    "# gene go information for easy access\n",
    "sql = '''\n",
    "DROP VIEW IF EXISTS gene_go_info;\n",
    "'''\n",
    "cursor.execute(sql)\n",
    "connection.commit()"
   ]
  },
  {
   "cell_type": "code",
   "execution_count": null,
   "metadata": {},
   "outputs": [],
   "source": [
    "# And close()\n",
    "\n",
    "cursor.close()\n",
    "connection.close()"
   ]
  },
  {
   "cell_type": "markdown",
   "metadata": {},
   "source": [
    "#### To remove the database, delete the .sqlite file."
   ]
  },
  {
   "cell_type": "code",
   "execution_count": null,
   "metadata": {},
   "outputs": [],
   "source": []
  }
 ],
 "metadata": {
  "kernelspec": {
   "display_name": "Python 3",
   "language": "python",
   "name": "python3"
  },
  "language_info": {
   "codemirror_mode": {
    "name": "ipython",
    "version": 3
   },
   "file_extension": ".py",
   "mimetype": "text/x-python",
   "name": "python",
   "nbconvert_exporter": "python",
   "pygments_lexer": "ipython3",
   "version": "3.8.3"
  }
 },
 "nbformat": 4,
 "nbformat_minor": 4
}
