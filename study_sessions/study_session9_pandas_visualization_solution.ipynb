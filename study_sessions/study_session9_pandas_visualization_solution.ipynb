{
 "cells": [
  {
   "cell_type": "markdown",
   "metadata": {},
   "source": [
    "## Study session 9 - pandas and visualization\n",
    "### BIOINF 575 - Fall 2020\n",
    "SOLUTIONS"
   ]
  },
  {
   "cell_type": "markdown",
   "metadata": {},
   "source": [
    "___\n",
    "\n",
    "#### Processing the worm genome file - using pandas\n",
    "You will convert the GFF3 file for the C. elegans genome into 2 related dictionaries. The GFF3 file is   Caenorhabditis_elegans.WBcel235.91.gff3 and is also available in the github repository (you should have it in the study session if you updated the repo). The GFF3 format is described on:\n",
    "https://github.com/The-Sequence-Ontology/Specifications/blob/master/gff3.md.<br> \n",
    "\n",
    "After the comment and header lines (marked by \"#\"), a line in a GFF3 file (row of a table) is composed of 9 tab-delimited fields (columns). The first 8 are called features. These are all atomic (consist of only one element), so they get put into a dictionary features with no problems. You will need to define a key and you will have to generate those integers as you read the file in and add data to the dictionary.\n",
    "\n",
    "The ninth field will pose more of a problem. It consists of tag-value pairs. **The tag-value pairs are separated by a semi-colon, \";\". The the tag and value in a pair are  separated by equal signs, \"=\", and the values may consist of mulitiple, comma, \",\", separated entries.** Also, any value may be encoded as html-safe encoding. Caution: the encoded characters may be the same as those used to separate the components of the attributes field. To get rid of the encoding (these are  pairs of characters or digits preceded by the % sign), use the unquote() function from urllib.parse (`from urllib.parse import unquote`). Just be careful of when you use it - do it at the wrong time and you will mess up the parsing of attributes.\n",
    "\n",
    "From the definition of the GFF3 we have these fields\n",
    "\n",
    "Each line contains the following information for a genomic features:  `seqid, source, type, start, end, score, strand, phase, attributes`.\n",
    "\n",
    "\n",
    "The attributes column contains the following information: ;-separated pairs of tag=value, where the values may consist of mulitiple, comma, \",\", separated entries.\n",
    "\n",
    "\n"
   ]
  },
  {
   "cell_type": "markdown",
   "metadata": {},
   "source": [
    "____\n",
    "\n",
    "### <font color = \"red\">Exercise</font>\n",
    "\n",
    "#### - Load data from a file and get it ready for analysis:\n",
    "- Open the `Caenorhabditis_elegans.WBcel235.91.gff3` and check the format.\n",
    "- Read the data from the `Caenorhabditis_elegans.WBcel235.91.gff3` into a dataframe.\n",
    "- Set the column names to: ` seqid, source, type, start, end, score, strand, phase, attributes`. \n",
    "- Set the row names to: `Feature0, ..., FeatureX, ... FeatureN`, where X is the row index and N the number of rows.\n",
    "\n",
    "\n"
   ]
  },
  {
   "cell_type": "code",
   "execution_count": 1,
   "metadata": {},
   "outputs": [],
   "source": [
    "import numpy as np\n",
    "import pandas as pd\n",
    "\n",
    "\n",
    "#help(pd.read_csv)\n",
    "\n",
    "# Also you can use the: contextual help \n",
    "# right click the notebook select > show contextual help\n",
    "# select the tab of the contextual help from the tabs of the opened files\n",
    "# drag and drop it to the right of your notebook window\n",
    "# you should have something that looks like a split screen \n",
    "# with your notebook to the left anf the contextual help window on the right\n",
    "# now on a cell in the notebook write a function name like abs, or print \n",
    "# - the help for the function should show in the right window  (contextual help window)\n"
   ]
  },
  {
   "cell_type": "code",
   "execution_count": 2,
   "metadata": {},
   "outputs": [],
   "source": [
    "file_name = \"Caenorhabditis_elegans.WBcel235.91.gff3\""
   ]
  },
  {
   "cell_type": "code",
   "execution_count": 3,
   "metadata": {},
   "outputs": [],
   "source": [
    "# The following statement gives an error because it uses the comma as a separator (read_csv - Comma Separated Values)\n",
    "# by default the separator is \",\"\n",
    "# by default the first line is a header line\n",
    "\n",
    "# pd.read_csv(file_name)  "
   ]
  },
  {
   "cell_type": "code",
   "execution_count": 4,
   "metadata": {},
   "outputs": [
    {
     "data": {
      "text/html": [
       "<div>\n",
       "<style scoped>\n",
       "    .dataframe tbody tr th:only-of-type {\n",
       "        vertical-align: middle;\n",
       "    }\n",
       "\n",
       "    .dataframe tbody tr th {\n",
       "        vertical-align: top;\n",
       "    }\n",
       "\n",
       "    .dataframe thead th {\n",
       "        text-align: right;\n",
       "    }\n",
       "</style>\n",
       "<table border=\"1\" class=\"dataframe\">\n",
       "  <thead>\n",
       "    <tr style=\"text-align: right;\">\n",
       "      <th></th>\n",
       "      <th>0</th>\n",
       "      <th>1</th>\n",
       "      <th>2</th>\n",
       "      <th>3</th>\n",
       "      <th>4</th>\n",
       "      <th>5</th>\n",
       "      <th>6</th>\n",
       "      <th>7</th>\n",
       "      <th>8</th>\n",
       "    </tr>\n",
       "  </thead>\n",
       "  <tbody>\n",
       "    <tr>\n",
       "      <th>0</th>\n",
       "      <td>I</td>\n",
       "      <td>WormBase</td>\n",
       "      <td>chromosome</td>\n",
       "      <td>1</td>\n",
       "      <td>15072434</td>\n",
       "      <td>.</td>\n",
       "      <td>.</td>\n",
       "      <td>.</td>\n",
       "      <td>ID=chromosome:I;Alias=BX284601.5,NC_003279.8</td>\n",
       "    </tr>\n",
       "    <tr>\n",
       "      <th>1</th>\n",
       "      <td>I</td>\n",
       "      <td>WormBase</td>\n",
       "      <td>ncRNA_gene</td>\n",
       "      <td>3747</td>\n",
       "      <td>3909</td>\n",
       "      <td>.</td>\n",
       "      <td>-</td>\n",
       "      <td>.</td>\n",
       "      <td>ID=gene:WBGene00023193;Name=Y74C9A.6;biotype=s...</td>\n",
       "    </tr>\n",
       "    <tr>\n",
       "      <th>2</th>\n",
       "      <td>I</td>\n",
       "      <td>WormBase</td>\n",
       "      <td>snoRNA</td>\n",
       "      <td>3747</td>\n",
       "      <td>3909</td>\n",
       "      <td>.</td>\n",
       "      <td>-</td>\n",
       "      <td>.</td>\n",
       "      <td>ID=transcript:Y74C9A.6;Parent=gene:WBGene00023...</td>\n",
       "    </tr>\n",
       "    <tr>\n",
       "      <th>3</th>\n",
       "      <td>I</td>\n",
       "      <td>WormBase</td>\n",
       "      <td>exon</td>\n",
       "      <td>3747</td>\n",
       "      <td>3909</td>\n",
       "      <td>.</td>\n",
       "      <td>-</td>\n",
       "      <td>.</td>\n",
       "      <td>Parent=transcript:Y74C9A.6;Name=Y74C9A.6.e1;co...</td>\n",
       "    </tr>\n",
       "    <tr>\n",
       "      <th>4</th>\n",
       "      <td>I</td>\n",
       "      <td>WormBase</td>\n",
       "      <td>gene</td>\n",
       "      <td>4116</td>\n",
       "      <td>10230</td>\n",
       "      <td>.</td>\n",
       "      <td>-</td>\n",
       "      <td>.</td>\n",
       "      <td>ID=gene:WBGene00022277;Name=homt-1;biotype=pro...</td>\n",
       "    </tr>\n",
       "  </tbody>\n",
       "</table>\n",
       "</div>"
      ],
      "text/plain": [
       "   0         1           2     3         4  5  6  7  \\\n",
       "0  I  WormBase  chromosome     1  15072434  .  .  .   \n",
       "1  I  WormBase  ncRNA_gene  3747      3909  .  -  .   \n",
       "2  I  WormBase      snoRNA  3747      3909  .  -  .   \n",
       "3  I  WormBase        exon  3747      3909  .  -  .   \n",
       "4  I  WormBase        gene  4116     10230  .  -  .   \n",
       "\n",
       "                                                   8  \n",
       "0       ID=chromosome:I;Alias=BX284601.5,NC_003279.8  \n",
       "1  ID=gene:WBGene00023193;Name=Y74C9A.6;biotype=s...  \n",
       "2  ID=transcript:Y74C9A.6;Parent=gene:WBGene00023...  \n",
       "3  Parent=transcript:Y74C9A.6;Name=Y74C9A.6.e1;co...  \n",
       "4  ID=gene:WBGene00022277;Name=homt-1;biotype=pro...  "
      ]
     },
     "execution_count": 4,
     "metadata": {},
     "output_type": "execute_result"
    }
   ],
   "source": [
    "# sep argument - set to \"\\t\" because our data is tab-separated\n",
    "# comment argument - set to \"#\" to ignore comment lines and other comments in our file\n",
    "# header argument - set to None because our data does not have a header line \n",
    "\n",
    "dataset = pd.read_csv(file_name, sep = \"\\t\", \n",
    "                      comment = \"#\", header = None)\n",
    "dataset.head()"
   ]
  },
  {
   "cell_type": "code",
   "execution_count": 5,
   "metadata": {},
   "outputs": [
    {
     "data": {
      "text/html": [
       "<div>\n",
       "<style scoped>\n",
       "    .dataframe tbody tr th:only-of-type {\n",
       "        vertical-align: middle;\n",
       "    }\n",
       "\n",
       "    .dataframe tbody tr th {\n",
       "        vertical-align: top;\n",
       "    }\n",
       "\n",
       "    .dataframe thead th {\n",
       "        text-align: right;\n",
       "    }\n",
       "</style>\n",
       "<table border=\"1\" class=\"dataframe\">\n",
       "  <thead>\n",
       "    <tr style=\"text-align: right;\">\n",
       "      <th></th>\n",
       "      <th>seqid</th>\n",
       "      <th>source</th>\n",
       "      <th>type</th>\n",
       "      <th>start</th>\n",
       "      <th>end</th>\n",
       "      <th>score</th>\n",
       "      <th>strand</th>\n",
       "      <th>phase</th>\n",
       "      <th>attributes</th>\n",
       "    </tr>\n",
       "  </thead>\n",
       "  <tbody>\n",
       "    <tr>\n",
       "      <th>Feature0</th>\n",
       "      <td>I</td>\n",
       "      <td>WormBase</td>\n",
       "      <td>chromosome</td>\n",
       "      <td>1</td>\n",
       "      <td>15072434</td>\n",
       "      <td>.</td>\n",
       "      <td>.</td>\n",
       "      <td>.</td>\n",
       "      <td>ID=chromosome:I;Alias=BX284601.5,NC_003279.8</td>\n",
       "    </tr>\n",
       "    <tr>\n",
       "      <th>Feature1</th>\n",
       "      <td>I</td>\n",
       "      <td>WormBase</td>\n",
       "      <td>ncRNA_gene</td>\n",
       "      <td>3747</td>\n",
       "      <td>3909</td>\n",
       "      <td>.</td>\n",
       "      <td>-</td>\n",
       "      <td>.</td>\n",
       "      <td>ID=gene:WBGene00023193;Name=Y74C9A.6;biotype=s...</td>\n",
       "    </tr>\n",
       "    <tr>\n",
       "      <th>Feature2</th>\n",
       "      <td>I</td>\n",
       "      <td>WormBase</td>\n",
       "      <td>snoRNA</td>\n",
       "      <td>3747</td>\n",
       "      <td>3909</td>\n",
       "      <td>.</td>\n",
       "      <td>-</td>\n",
       "      <td>.</td>\n",
       "      <td>ID=transcript:Y74C9A.6;Parent=gene:WBGene00023...</td>\n",
       "    </tr>\n",
       "    <tr>\n",
       "      <th>Feature3</th>\n",
       "      <td>I</td>\n",
       "      <td>WormBase</td>\n",
       "      <td>exon</td>\n",
       "      <td>3747</td>\n",
       "      <td>3909</td>\n",
       "      <td>.</td>\n",
       "      <td>-</td>\n",
       "      <td>.</td>\n",
       "      <td>Parent=transcript:Y74C9A.6;Name=Y74C9A.6.e1;co...</td>\n",
       "    </tr>\n",
       "    <tr>\n",
       "      <th>Feature4</th>\n",
       "      <td>I</td>\n",
       "      <td>WormBase</td>\n",
       "      <td>gene</td>\n",
       "      <td>4116</td>\n",
       "      <td>10230</td>\n",
       "      <td>.</td>\n",
       "      <td>-</td>\n",
       "      <td>.</td>\n",
       "      <td>ID=gene:WBGene00022277;Name=homt-1;biotype=pro...</td>\n",
       "    </tr>\n",
       "  </tbody>\n",
       "</table>\n",
       "</div>"
      ],
      "text/plain": [
       "         seqid    source        type  start       end score strand phase  \\\n",
       "Feature0     I  WormBase  chromosome      1  15072434     .      .     .   \n",
       "Feature1     I  WormBase  ncRNA_gene   3747      3909     .      -     .   \n",
       "Feature2     I  WormBase      snoRNA   3747      3909     .      -     .   \n",
       "Feature3     I  WormBase        exon   3747      3909     .      -     .   \n",
       "Feature4     I  WormBase        gene   4116     10230     .      -     .   \n",
       "\n",
       "                                                 attributes  \n",
       "Feature0       ID=chromosome:I;Alias=BX284601.5,NC_003279.8  \n",
       "Feature1  ID=gene:WBGene00023193;Name=Y74C9A.6;biotype=s...  \n",
       "Feature2  ID=transcript:Y74C9A.6;Parent=gene:WBGene00023...  \n",
       "Feature3  Parent=transcript:Y74C9A.6;Name=Y74C9A.6.e1;co...  \n",
       "Feature4  ID=gene:WBGene00022277;Name=homt-1;biotype=pro...  "
      ]
     },
     "execution_count": 5,
     "metadata": {},
     "output_type": "execute_result"
    }
   ],
   "source": [
    "# Pandas DataFrames have a columns attribute that allows us to retrieve or set the column names\n",
    "# Pandas DataFrames have an index attribute that allows us to retrieve or set the row names\n",
    "# Pandas DataFrames have a shape attribute that allows us to retrieve the number of rows and columns \n",
    "#   in a tuple format\n",
    "\n",
    "dataset.columns = (\"seqid\", \"source\", \"type\", \"start\", \"end\", \n",
    "                   \"score\", \"strand\", \"phase\", \"attributes\")\n",
    "dataset.index = [f\"Feature{i}\" for i in range(dataset.shape[0])]\n",
    "dataset.head()"
   ]
  },
  {
   "cell_type": "code",
   "execution_count": null,
   "metadata": {},
   "outputs": [],
   "source": []
  },
  {
   "cell_type": "code",
   "execution_count": null,
   "metadata": {},
   "outputs": [],
   "source": []
  },
  {
   "cell_type": "markdown",
   "metadata": {},
   "source": [
    "______\n",
    "\n",
    "#### - Compute how many types of genomic features there are in our dataset and how many features of each kind. (e.g.: gene, exon, mRNA in the third column in the file are feature types)\n"
   ]
  },
  {
   "cell_type": "markdown",
   "metadata": {},
   "source": [
    "#### If you are trying to do a common operation on a dataframe or Series (dataframe column) it may have already been implemented - look for a function that does what you need in the documentation.\n",
    "\n",
    "Useful links to see the attributes (variables, properties) and methods (functions) a column of a pandas dataframe (Series) and a pandas dataframe has:    \n",
    "https://pandas.pydata.org/pandas-docs/stable/reference/api/pandas.Series.html  \n",
    "https://pandas.pydata.org/pandas-docs/stable/reference/api/pandas.DataFrame.html"
   ]
  },
  {
   "cell_type": "code",
   "execution_count": 6,
   "metadata": {},
   "outputs": [],
   "source": [
    "# dir(type(dataset.type))"
   ]
  },
  {
   "cell_type": "code",
   "execution_count": 7,
   "metadata": {},
   "outputs": [
    {
     "data": {
      "text/plain": [
       "Feature0         WormBase\n",
       "Feature1         WormBase\n",
       "Feature2         WormBase\n",
       "Feature3         WormBase\n",
       "Feature4         WormBase\n",
       "                   ...   \n",
       "Feature659616    WormBase\n",
       "Feature659617    WormBase\n",
       "Feature659618    WormBase\n",
       "Feature659619    WormBase\n",
       "Feature659620    WormBase\n",
       "Name: source, Length: 659621, dtype: object"
      ]
     },
     "execution_count": 7,
     "metadata": {},
     "output_type": "execute_result"
    }
   ],
   "source": [
    "# Access DataFrame columns by using DataFrame.column_name\n",
    "\n",
    "dataset.source"
   ]
  },
  {
   "cell_type": "code",
   "execution_count": 8,
   "metadata": {},
   "outputs": [
    {
     "data": {
      "text/plain": [
       "Feature0    WormBase\n",
       "Feature1    WormBase\n",
       "Feature2    WormBase\n",
       "Feature3    WormBase\n",
       "Feature4    WormBase\n",
       "Name: source, dtype: object"
      ]
     },
     "execution_count": 8,
     "metadata": {},
     "output_type": "execute_result"
    }
   ],
   "source": [
    "# check the first few elements\n",
    "\n",
    "dataset.source.head()"
   ]
  },
  {
   "cell_type": "code",
   "execution_count": 9,
   "metadata": {},
   "outputs": [
    {
     "data": {
      "text/plain": [
       "pandas.core.series.Series"
      ]
     },
     "execution_count": 9,
     "metadata": {},
     "output_type": "execute_result"
    }
   ],
   "source": [
    "# check the column type - it's a Series\n",
    "\n",
    "type(dataset.source)"
   ]
  },
  {
   "cell_type": "code",
   "execution_count": 10,
   "metadata": {},
   "outputs": [
    {
     "data": {
      "text/plain": [
       "'source'"
      ]
     },
     "execution_count": 10,
     "metadata": {},
     "output_type": "execute_result"
    }
   ],
   "source": [
    "# check the column name\n",
    "\n",
    "dataset.source.name"
   ]
  },
  {
   "cell_type": "code",
   "execution_count": 11,
   "metadata": {},
   "outputs": [
    {
     "data": {
      "text/plain": [
       "19"
      ]
     },
     "execution_count": 11,
     "metadata": {},
     "output_type": "execute_result"
    }
   ],
   "source": [
    "# pandas.core.series.Series.nunique(dropna: bool = True) -> int\n",
    "# Return s number of unique elements in the object.\n",
    "# Excludes NA values by default.\n",
    "\n",
    "\n",
    "dataset.type.nunique()"
   ]
  },
  {
   "cell_type": "code",
   "execution_count": 12,
   "metadata": {},
   "outputs": [
    {
     "data": {
      "text/plain": [
       "exon                      269904\n",
       "CDS                       222859\n",
       "mRNA                       33391\n",
       "five_prime_UTR             30960\n",
       "three_prime_UTR            28004\n",
       "ncRNA_gene                 24765\n",
       "gene                       20222\n",
       "piRNA                      15364\n",
       "ncRNA                       8402\n",
       "pseudogenic_transcript      1827\n",
       "pseudogene                  1791\n",
       "tRNA                         634\n",
       "miRNA                        454\n",
       "snoRNA                       345\n",
       "lnc_RNA                      283\n",
       "pre_miRNA                    257\n",
       "snRNA                        130\n",
       "rRNA                          22\n",
       "chromosome                     7\n",
       "Name: type, dtype: int64"
      ]
     },
     "execution_count": 12,
     "metadata": {},
     "output_type": "execute_result"
    }
   ],
   "source": [
    "#pandas.core.series.Series.value_counts(\n",
    "#    normalize=False,\n",
    "#    sort=True,\n",
    "#    ascending=False,\n",
    "#    bins=None,\n",
    "#    dropna=True,\n",
    "#)\n",
    "\n",
    "#Returns a Series containing counts of unique values.\n",
    "# The resulting object will be in descending order so that the\n",
    "# first element is the most frequently-occurring element.\n",
    "# Excludes NA values by default.\n",
    "\n",
    "dataset.type.value_counts()"
   ]
  },
  {
   "cell_type": "code",
   "execution_count": null,
   "metadata": {},
   "outputs": [],
   "source": []
  },
  {
   "cell_type": "code",
   "execution_count": null,
   "metadata": {},
   "outputs": [],
   "source": []
  },
  {
   "cell_type": "code",
   "execution_count": null,
   "metadata": {},
   "outputs": [],
   "source": []
  },
  {
   "cell_type": "markdown",
   "metadata": {},
   "source": [
    "_____ \n",
    "\n",
    "### - Find the genes between positions: 4000 and 10000.\n",
    "    - Hint: start and end (4th and 5th columns in the file) need to be between these numbers."
   ]
  },
  {
   "cell_type": "code",
   "execution_count": 13,
   "metadata": {},
   "outputs": [
    {
     "data": {
      "text/html": [
       "<div>\n",
       "<style scoped>\n",
       "    .dataframe tbody tr th:only-of-type {\n",
       "        vertical-align: middle;\n",
       "    }\n",
       "\n",
       "    .dataframe tbody tr th {\n",
       "        vertical-align: top;\n",
       "    }\n",
       "\n",
       "    .dataframe thead th {\n",
       "        text-align: right;\n",
       "    }\n",
       "</style>\n",
       "<table border=\"1\" class=\"dataframe\">\n",
       "  <thead>\n",
       "    <tr style=\"text-align: right;\">\n",
       "      <th></th>\n",
       "      <th>seqid</th>\n",
       "      <th>source</th>\n",
       "      <th>type</th>\n",
       "      <th>start</th>\n",
       "      <th>end</th>\n",
       "      <th>score</th>\n",
       "      <th>strand</th>\n",
       "      <th>phase</th>\n",
       "      <th>attributes</th>\n",
       "    </tr>\n",
       "  </thead>\n",
       "  <tbody>\n",
       "    <tr>\n",
       "      <th>Feature93697</th>\n",
       "      <td>II</td>\n",
       "      <td>WormBase</td>\n",
       "      <td>gene</td>\n",
       "      <td>6664</td>\n",
       "      <td>9486</td>\n",
       "      <td>.</td>\n",
       "      <td>+</td>\n",
       "      <td>.</td>\n",
       "      <td>ID=gene:WBGene00015287;Name=osta-1;biotype=pro...</td>\n",
       "    </tr>\n",
       "    <tr>\n",
       "      <th>Feature434203</th>\n",
       "      <td>MtDNA</td>\n",
       "      <td>WormBase</td>\n",
       "      <td>gene</td>\n",
       "      <td>4504</td>\n",
       "      <td>5621</td>\n",
       "      <td>.</td>\n",
       "      <td>+</td>\n",
       "      <td>.</td>\n",
       "      <td>ID=gene:WBGene00000829;Name=ctb-1;biotype=prot...</td>\n",
       "    </tr>\n",
       "    <tr>\n",
       "      <th>Feature434211</th>\n",
       "      <td>MtDNA</td>\n",
       "      <td>WormBase</td>\n",
       "      <td>gene</td>\n",
       "      <td>5678</td>\n",
       "      <td>6449</td>\n",
       "      <td>.</td>\n",
       "      <td>+</td>\n",
       "      <td>.</td>\n",
       "      <td>ID=gene:WBGene00010962;Name=ctc-3;biotype=prot...</td>\n",
       "    </tr>\n",
       "    <tr>\n",
       "      <th>Feature434219</th>\n",
       "      <td>MtDNA</td>\n",
       "      <td>WormBase</td>\n",
       "      <td>gene</td>\n",
       "      <td>6506</td>\n",
       "      <td>7808</td>\n",
       "      <td>.</td>\n",
       "      <td>+</td>\n",
       "      <td>.</td>\n",
       "      <td>ID=gene:WBGene00010963;Name=nduo-4;biotype=pro...</td>\n",
       "    </tr>\n",
       "    <tr>\n",
       "      <th>Feature434224</th>\n",
       "      <td>MtDNA</td>\n",
       "      <td>WormBase</td>\n",
       "      <td>gene</td>\n",
       "      <td>7827</td>\n",
       "      <td>9428</td>\n",
       "      <td>.</td>\n",
       "      <td>+</td>\n",
       "      <td>.</td>\n",
       "      <td>ID=gene:WBGene00010964;Name=ctc-1;biotype=prot...</td>\n",
       "    </tr>\n",
       "    <tr>\n",
       "      <th>Feature434291</th>\n",
       "      <td>V</td>\n",
       "      <td>WormBase</td>\n",
       "      <td>gene</td>\n",
       "      <td>6588</td>\n",
       "      <td>7822</td>\n",
       "      <td>.</td>\n",
       "      <td>-</td>\n",
       "      <td>.</td>\n",
       "      <td>ID=gene:WBGene00002061;Name=ife-3;biotype=prot...</td>\n",
       "    </tr>\n",
       "    <tr>\n",
       "      <th>Feature434364</th>\n",
       "      <td>V</td>\n",
       "      <td>WormBase</td>\n",
       "      <td>gene</td>\n",
       "      <td>8575</td>\n",
       "      <td>8739</td>\n",
       "      <td>.</td>\n",
       "      <td>-</td>\n",
       "      <td>.</td>\n",
       "      <td>ID=gene:WBGene00255704;Name=B0348.10;biotype=p...</td>\n",
       "    </tr>\n",
       "  </tbody>\n",
       "</table>\n",
       "</div>"
      ],
      "text/plain": [
       "               seqid    source  type  start   end score strand phase  \\\n",
       "Feature93697      II  WormBase  gene   6664  9486     .      +     .   \n",
       "Feature434203  MtDNA  WormBase  gene   4504  5621     .      +     .   \n",
       "Feature434211  MtDNA  WormBase  gene   5678  6449     .      +     .   \n",
       "Feature434219  MtDNA  WormBase  gene   6506  7808     .      +     .   \n",
       "Feature434224  MtDNA  WormBase  gene   7827  9428     .      +     .   \n",
       "Feature434291      V  WormBase  gene   6588  7822     .      -     .   \n",
       "Feature434364      V  WormBase  gene   8575  8739     .      -     .   \n",
       "\n",
       "                                                      attributes  \n",
       "Feature93697   ID=gene:WBGene00015287;Name=osta-1;biotype=pro...  \n",
       "Feature434203  ID=gene:WBGene00000829;Name=ctb-1;biotype=prot...  \n",
       "Feature434211  ID=gene:WBGene00010962;Name=ctc-3;biotype=prot...  \n",
       "Feature434219  ID=gene:WBGene00010963;Name=nduo-4;biotype=pro...  \n",
       "Feature434224  ID=gene:WBGene00010964;Name=ctc-1;biotype=prot...  \n",
       "Feature434291  ID=gene:WBGene00002061;Name=ife-3;biotype=prot...  \n",
       "Feature434364  ID=gene:WBGene00255704;Name=B0348.10;biotype=p...  "
      ]
     },
     "execution_count": 13,
     "metadata": {},
     "output_type": "execute_result"
    }
   ],
   "source": [
    "# conditional subsetting to select rows that meet the condition\n",
    "# combine condition using & (bit-wise and operator) \n",
    "# use parantheses to evaluate the condition first \n",
    "# parantheses are needed because & has higher precedence than comparison operators (>, < , ==, ...)\n",
    "\n",
    "dataset[(dataset.type == \"gene\") & (dataset.start > 4000) & (dataset.end < 10000)]\n"
   ]
  },
  {
   "cell_type": "code",
   "execution_count": 14,
   "metadata": {},
   "outputs": [
    {
     "data": {
      "text/html": [
       "<div>\n",
       "<style scoped>\n",
       "    .dataframe tbody tr th:only-of-type {\n",
       "        vertical-align: middle;\n",
       "    }\n",
       "\n",
       "    .dataframe tbody tr th {\n",
       "        vertical-align: top;\n",
       "    }\n",
       "\n",
       "    .dataframe thead th {\n",
       "        text-align: right;\n",
       "    }\n",
       "</style>\n",
       "<table border=\"1\" class=\"dataframe\">\n",
       "  <thead>\n",
       "    <tr style=\"text-align: right;\">\n",
       "      <th></th>\n",
       "      <th>seqid</th>\n",
       "      <th>source</th>\n",
       "      <th>type</th>\n",
       "      <th>start</th>\n",
       "      <th>end</th>\n",
       "    </tr>\n",
       "  </thead>\n",
       "  <tbody>\n",
       "    <tr>\n",
       "      <th>Feature93697</th>\n",
       "      <td>II</td>\n",
       "      <td>WormBase</td>\n",
       "      <td>gene</td>\n",
       "      <td>6664</td>\n",
       "      <td>9486</td>\n",
       "    </tr>\n",
       "    <tr>\n",
       "      <th>Feature434203</th>\n",
       "      <td>MtDNA</td>\n",
       "      <td>WormBase</td>\n",
       "      <td>gene</td>\n",
       "      <td>4504</td>\n",
       "      <td>5621</td>\n",
       "    </tr>\n",
       "    <tr>\n",
       "      <th>Feature434211</th>\n",
       "      <td>MtDNA</td>\n",
       "      <td>WormBase</td>\n",
       "      <td>gene</td>\n",
       "      <td>5678</td>\n",
       "      <td>6449</td>\n",
       "    </tr>\n",
       "    <tr>\n",
       "      <th>Feature434219</th>\n",
       "      <td>MtDNA</td>\n",
       "      <td>WormBase</td>\n",
       "      <td>gene</td>\n",
       "      <td>6506</td>\n",
       "      <td>7808</td>\n",
       "    </tr>\n",
       "    <tr>\n",
       "      <th>Feature434224</th>\n",
       "      <td>MtDNA</td>\n",
       "      <td>WormBase</td>\n",
       "      <td>gene</td>\n",
       "      <td>7827</td>\n",
       "      <td>9428</td>\n",
       "    </tr>\n",
       "    <tr>\n",
       "      <th>Feature434291</th>\n",
       "      <td>V</td>\n",
       "      <td>WormBase</td>\n",
       "      <td>gene</td>\n",
       "      <td>6588</td>\n",
       "      <td>7822</td>\n",
       "    </tr>\n",
       "    <tr>\n",
       "      <th>Feature434364</th>\n",
       "      <td>V</td>\n",
       "      <td>WormBase</td>\n",
       "      <td>gene</td>\n",
       "      <td>8575</td>\n",
       "      <td>8739</td>\n",
       "    </tr>\n",
       "  </tbody>\n",
       "</table>\n",
       "</div>"
      ],
      "text/plain": [
       "               seqid    source  type  start   end\n",
       "Feature93697      II  WormBase  gene   6664  9486\n",
       "Feature434203  MtDNA  WormBase  gene   4504  5621\n",
       "Feature434211  MtDNA  WormBase  gene   5678  6449\n",
       "Feature434219  MtDNA  WormBase  gene   6506  7808\n",
       "Feature434224  MtDNA  WormBase  gene   7827  9428\n",
       "Feature434291      V  WormBase  gene   6588  7822\n",
       "Feature434364      V  WormBase  gene   8575  8739"
      ]
     },
     "execution_count": 14,
     "metadata": {},
     "output_type": "execute_result"
    }
   ],
   "source": [
    "# Conditional subsetting to retrieve rows that meet the condition\n",
    "# we use .loc attribute when we want to also subset the columns\n",
    "\n",
    "dataset.loc[(dataset.type == \"gene\") & (dataset.start > 4000) & (dataset.end < 10000), :\"end\"]\n"
   ]
  },
  {
   "cell_type": "code",
   "execution_count": 15,
   "metadata": {},
   "outputs": [
    {
     "data": {
      "text/html": [
       "<div>\n",
       "<style scoped>\n",
       "    .dataframe tbody tr th:only-of-type {\n",
       "        vertical-align: middle;\n",
       "    }\n",
       "\n",
       "    .dataframe tbody tr th {\n",
       "        vertical-align: top;\n",
       "    }\n",
       "\n",
       "    .dataframe thead th {\n",
       "        text-align: right;\n",
       "    }\n",
       "</style>\n",
       "<table border=\"1\" class=\"dataframe\">\n",
       "  <thead>\n",
       "    <tr style=\"text-align: right;\">\n",
       "      <th></th>\n",
       "      <th>seqid</th>\n",
       "      <th>source</th>\n",
       "      <th>type</th>\n",
       "      <th>start</th>\n",
       "      <th>end</th>\n",
       "      <th>score</th>\n",
       "      <th>strand</th>\n",
       "      <th>phase</th>\n",
       "      <th>attributes</th>\n",
       "    </tr>\n",
       "  </thead>\n",
       "  <tbody>\n",
       "    <tr>\n",
       "      <th>Feature0</th>\n",
       "      <td>I</td>\n",
       "      <td>WormBase</td>\n",
       "      <td>chromosome</td>\n",
       "      <td>1</td>\n",
       "      <td>15072434</td>\n",
       "      <td>.</td>\n",
       "      <td>.</td>\n",
       "      <td>.</td>\n",
       "      <td>ID=chromosome:I;Alias=BX284601.5,NC_003279.8</td>\n",
       "    </tr>\n",
       "    <tr>\n",
       "      <th>Feature1</th>\n",
       "      <td>I</td>\n",
       "      <td>WormBase</td>\n",
       "      <td>ncRNA_gene</td>\n",
       "      <td>3747</td>\n",
       "      <td>3909</td>\n",
       "      <td>.</td>\n",
       "      <td>-</td>\n",
       "      <td>.</td>\n",
       "      <td>ID=gene:WBGene00023193;Name=Y74C9A.6;biotype=s...</td>\n",
       "    </tr>\n",
       "    <tr>\n",
       "      <th>Feature2</th>\n",
       "      <td>I</td>\n",
       "      <td>WormBase</td>\n",
       "      <td>snoRNA</td>\n",
       "      <td>3747</td>\n",
       "      <td>3909</td>\n",
       "      <td>.</td>\n",
       "      <td>-</td>\n",
       "      <td>.</td>\n",
       "      <td>ID=transcript:Y74C9A.6;Parent=gene:WBGene00023...</td>\n",
       "    </tr>\n",
       "    <tr>\n",
       "      <th>Feature3</th>\n",
       "      <td>I</td>\n",
       "      <td>WormBase</td>\n",
       "      <td>exon</td>\n",
       "      <td>3747</td>\n",
       "      <td>3909</td>\n",
       "      <td>.</td>\n",
       "      <td>-</td>\n",
       "      <td>.</td>\n",
       "      <td>Parent=transcript:Y74C9A.6;Name=Y74C9A.6.e1;co...</td>\n",
       "    </tr>\n",
       "    <tr>\n",
       "      <th>Feature4</th>\n",
       "      <td>I</td>\n",
       "      <td>WormBase</td>\n",
       "      <td>gene</td>\n",
       "      <td>4116</td>\n",
       "      <td>10230</td>\n",
       "      <td>.</td>\n",
       "      <td>-</td>\n",
       "      <td>.</td>\n",
       "      <td>ID=gene:WBGene00022277;Name=homt-1;biotype=pro...</td>\n",
       "    </tr>\n",
       "    <tr>\n",
       "      <th>Feature5</th>\n",
       "      <td>I</td>\n",
       "      <td>WormBase</td>\n",
       "      <td>mRNA</td>\n",
       "      <td>4116</td>\n",
       "      <td>10230</td>\n",
       "      <td>.</td>\n",
       "      <td>-</td>\n",
       "      <td>.</td>\n",
       "      <td>ID=transcript:Y74C9A.3;Parent=gene:WBGene00022...</td>\n",
       "    </tr>\n",
       "    <tr>\n",
       "      <th>Feature6</th>\n",
       "      <td>I</td>\n",
       "      <td>WormBase</td>\n",
       "      <td>three_prime_UTR</td>\n",
       "      <td>4116</td>\n",
       "      <td>4220</td>\n",
       "      <td>.</td>\n",
       "      <td>-</td>\n",
       "      <td>.</td>\n",
       "      <td>Parent=transcript:Y74C9A.3</td>\n",
       "    </tr>\n",
       "    <tr>\n",
       "      <th>Feature7</th>\n",
       "      <td>I</td>\n",
       "      <td>WormBase</td>\n",
       "      <td>exon</td>\n",
       "      <td>4116</td>\n",
       "      <td>4358</td>\n",
       "      <td>.</td>\n",
       "      <td>-</td>\n",
       "      <td>.</td>\n",
       "      <td>Parent=transcript:Y74C9A.3;Name=Y74C9A.3.e5;co...</td>\n",
       "    </tr>\n",
       "    <tr>\n",
       "      <th>Feature8</th>\n",
       "      <td>I</td>\n",
       "      <td>WormBase</td>\n",
       "      <td>CDS</td>\n",
       "      <td>4221</td>\n",
       "      <td>4358</td>\n",
       "      <td>.</td>\n",
       "      <td>-</td>\n",
       "      <td>0</td>\n",
       "      <td>ID=CDS:Y74C9A.3;Parent=transcript:Y74C9A.3;pro...</td>\n",
       "    </tr>\n",
       "    <tr>\n",
       "      <th>Feature9</th>\n",
       "      <td>I</td>\n",
       "      <td>WormBase</td>\n",
       "      <td>exon</td>\n",
       "      <td>5195</td>\n",
       "      <td>5296</td>\n",
       "      <td>.</td>\n",
       "      <td>-</td>\n",
       "      <td>.</td>\n",
       "      <td>Parent=transcript:Y74C9A.3;Name=Y74C9A.3.e4;co...</td>\n",
       "    </tr>\n",
       "  </tbody>\n",
       "</table>\n",
       "</div>"
      ],
      "text/plain": [
       "         seqid    source             type  start       end score strand phase  \\\n",
       "Feature0     I  WormBase       chromosome      1  15072434     .      .     .   \n",
       "Feature1     I  WormBase       ncRNA_gene   3747      3909     .      -     .   \n",
       "Feature2     I  WormBase           snoRNA   3747      3909     .      -     .   \n",
       "Feature3     I  WormBase             exon   3747      3909     .      -     .   \n",
       "Feature4     I  WormBase             gene   4116     10230     .      -     .   \n",
       "Feature5     I  WormBase             mRNA   4116     10230     .      -     .   \n",
       "Feature6     I  WormBase  three_prime_UTR   4116      4220     .      -     .   \n",
       "Feature7     I  WormBase             exon   4116      4358     .      -     .   \n",
       "Feature8     I  WormBase              CDS   4221      4358     .      -     0   \n",
       "Feature9     I  WormBase             exon   5195      5296     .      -     .   \n",
       "\n",
       "                                                 attributes  \n",
       "Feature0       ID=chromosome:I;Alias=BX284601.5,NC_003279.8  \n",
       "Feature1  ID=gene:WBGene00023193;Name=Y74C9A.6;biotype=s...  \n",
       "Feature2  ID=transcript:Y74C9A.6;Parent=gene:WBGene00023...  \n",
       "Feature3  Parent=transcript:Y74C9A.6;Name=Y74C9A.6.e1;co...  \n",
       "Feature4  ID=gene:WBGene00022277;Name=homt-1;biotype=pro...  \n",
       "Feature5  ID=transcript:Y74C9A.3;Parent=gene:WBGene00022...  \n",
       "Feature6                         Parent=transcript:Y74C9A.3  \n",
       "Feature7  Parent=transcript:Y74C9A.3;Name=Y74C9A.3.e5;co...  \n",
       "Feature8  ID=CDS:Y74C9A.3;Parent=transcript:Y74C9A.3;pro...  \n",
       "Feature9  Parent=transcript:Y74C9A.3;Name=Y74C9A.3.e4;co...  "
      ]
     },
     "execution_count": 15,
     "metadata": {},
     "output_type": "execute_result"
    }
   ],
   "source": [
    "dataset.head(10)"
   ]
  },
  {
   "cell_type": "code",
   "execution_count": 16,
   "metadata": {},
   "outputs": [
    {
     "data": {
      "text/html": [
       "<div>\n",
       "<style scoped>\n",
       "    .dataframe tbody tr th:only-of-type {\n",
       "        vertical-align: middle;\n",
       "    }\n",
       "\n",
       "    .dataframe tbody tr th {\n",
       "        vertical-align: top;\n",
       "    }\n",
       "\n",
       "    .dataframe thead th {\n",
       "        text-align: right;\n",
       "    }\n",
       "</style>\n",
       "<table border=\"1\" class=\"dataframe\">\n",
       "  <thead>\n",
       "    <tr style=\"text-align: right;\">\n",
       "      <th></th>\n",
       "      <th>type</th>\n",
       "      <th>start</th>\n",
       "      <th>end</th>\n",
       "    </tr>\n",
       "  </thead>\n",
       "  <tbody>\n",
       "    <tr>\n",
       "      <th>Feature3</th>\n",
       "      <td>exon</td>\n",
       "      <td>3747</td>\n",
       "      <td>3909</td>\n",
       "    </tr>\n",
       "    <tr>\n",
       "      <th>Feature4</th>\n",
       "      <td>gene</td>\n",
       "      <td>4116</td>\n",
       "      <td>10230</td>\n",
       "    </tr>\n",
       "    <tr>\n",
       "      <th>Feature5</th>\n",
       "      <td>mRNA</td>\n",
       "      <td>4116</td>\n",
       "      <td>10230</td>\n",
       "    </tr>\n",
       "    <tr>\n",
       "      <th>Feature6</th>\n",
       "      <td>three_prime_UTR</td>\n",
       "      <td>4116</td>\n",
       "      <td>4220</td>\n",
       "    </tr>\n",
       "  </tbody>\n",
       "</table>\n",
       "</div>"
      ],
      "text/plain": [
       "                     type  start    end\n",
       "Feature3             exon   3747   3909\n",
       "Feature4             gene   4116  10230\n",
       "Feature5             mRNA   4116  10230\n",
       "Feature6  three_prime_UTR   4116   4220"
      ]
     },
     "execution_count": 16,
     "metadata": {},
     "output_type": "execute_result"
    }
   ],
   "source": [
    "# Use .iloc to subset using indices (positions) for rows and columns\n",
    "\n",
    "dataset.iloc[3:7, 2:5]"
   ]
  },
  {
   "cell_type": "code",
   "execution_count": null,
   "metadata": {},
   "outputs": [],
   "source": []
  },
  {
   "cell_type": "markdown",
   "metadata": {},
   "source": [
    "_____\n",
    "\n",
    "#### - Write a function to process the information on the attributes column.\n",
    "    - The input is the attribute information for one feature (last column data for one line).\n",
    "    - The output is a dictionary where the tags are the keys and the value is a list of the tag values.\n",
    "        - Study session 8 solution migt help with this"
   ]
  },
  {
   "cell_type": "code",
   "execution_count": 17,
   "metadata": {},
   "outputs": [],
   "source": [
    "# import function to decode encoded elements such as \";\" that were encoded so they are not confused \n",
    "# with the delimiter used to separate attributes: \n",
    "# e.g.: Name=CTLA-4%3B cytotoxic T-lymphocyte-associated protein 4; Alias=CD152%3B cluster of differentiation 152;\n",
    "# instead of:  Name=CTLA-4; cytotoxic T-lymphocyte-associated protein 4; Alias=CD152; cluster of differentiation 152;\n",
    "\n",
    "from urllib.parse import unquote\n",
    "\n",
    "# Process the attribute on the last column in our data\n",
    "# it is a text that contains a collection of tag=value pairs separated by \";\", where each value may have multiple elements\n",
    "# e.g.: \"tag1=valA;tag2=valB,valC,valD;tag3=valE,valF\"\n",
    "# the result of the function for the example should be:\n",
    "# {tag1: [valA], tag2: [valB, valC, valD], tag3: [valE, valF]}\n",
    "\n",
    "\n",
    "def process_attribute(attr):\n",
    "    attributes = {}\n",
    "    attrs_list =  attr.split(\";\")\n",
    "    for attr_elem in attrs_list:\n",
    "        tag, val = attr_elem.split(\"=\")                 \n",
    "        attributes[tag] = [unquote(val).strip() for val in val.split(\",\")]\n",
    "    return attributes"
   ]
  },
  {
   "cell_type": "code",
   "execution_count": 18,
   "metadata": {},
   "outputs": [
    {
     "data": {
      "text/plain": [
       "{'tag1': ['valA'], 'tag2': ['valB', 'valC', 'valD'], 'tag3': ['valE', 'valF']}"
      ]
     },
     "execution_count": 18,
     "metadata": {},
     "output_type": "execute_result"
    }
   ],
   "source": [
    "# test with small example data\n",
    "\n",
    "test_attribute = \"tag1=valA;tag2=valB,valC,valD;tag3=valE,valF\"\n",
    "\n",
    "process_attribute(test_attribute)"
   ]
  },
  {
   "cell_type": "code",
   "execution_count": 19,
   "metadata": {},
   "outputs": [
    {
     "data": {
      "text/plain": [
       "{'ID': ['gene:WBGene00023193', 'test'],\n",
       " 'Name': ['Y74C9A.6'],\n",
       " 'biotype': ['snoRNA'],\n",
       " 'gene_id': ['WBGene00023193'],\n",
       " 'logic_name': ['wormbase_non_coding']}"
      ]
     },
     "execution_count": 19,
     "metadata": {},
     "output_type": "execute_result"
    }
   ],
   "source": [
    "# test with a value adapted from the data file values\n",
    "\n",
    "attr = \"ID=gene:WBGene00023193,test;Name=Y74C9A.6;biotype=snoRNA;gene_id=WBGene00023193;logic_name=wormbase_non_coding\"\n",
    "process_attribute(attr)"
   ]
  },
  {
   "cell_type": "code",
   "execution_count": null,
   "metadata": {},
   "outputs": [],
   "source": []
  },
  {
   "cell_type": "code",
   "execution_count": null,
   "metadata": {},
   "outputs": [],
   "source": []
  },
  {
   "cell_type": "code",
   "execution_count": null,
   "metadata": {},
   "outputs": [],
   "source": []
  },
  {
   "cell_type": "markdown",
   "metadata": {},
   "source": [
    "____\n",
    "#### - Apply this function to all elements of the attribute column to create a column of dictionaries and add that to the dataframe."
   ]
  },
  {
   "cell_type": "code",
   "execution_count": 20,
   "metadata": {},
   "outputs": [],
   "source": [
    "# both the pandas Series and the pandas DataFrame have an apply function that \n",
    "# allows you to apply a function to each element \n",
    "# for Dataframe axis will let you specify if you want to apply the function to the rows or columns\n",
    "\n",
    "attrs_col_data = dataset.attributes.apply(process_attribute)\n"
   ]
  },
  {
   "cell_type": "code",
   "execution_count": 21,
   "metadata": {},
   "outputs": [
    {
     "data": {
      "text/plain": [
       "'attributes'"
      ]
     },
     "execution_count": 21,
     "metadata": {},
     "output_type": "execute_result"
    }
   ],
   "source": [
    "# because is the result of apply on the attributes column the result takes the same name\n",
    "\n",
    "attrs_col_data.name"
   ]
  },
  {
   "cell_type": "code",
   "execution_count": 22,
   "metadata": {},
   "outputs": [
    {
     "data": {
      "text/plain": [
       "Feature0    {'ID': ['chromosome:I'], 'Alias': ['BX284601.5...\n",
       "Feature1    {'ID': ['gene:WBGene00023193'], 'Name': ['Y74C...\n",
       "Feature2    {'ID': ['transcript:Y74C9A.6'], 'Parent': ['ge...\n",
       "Feature3    {'Parent': ['transcript:Y74C9A.6'], 'Name': ['...\n",
       "Name: attributes, dtype: object"
      ]
     },
     "execution_count": 22,
     "metadata": {},
     "output_type": "execute_result"
    }
   ],
   "source": [
    "# check the elements of the results, for each row we got a dictionary\n",
    "\n",
    "attrs_col_data[0:4]"
   ]
  },
  {
   "cell_type": "code",
   "execution_count": 23,
   "metadata": {},
   "outputs": [
    {
     "data": {
      "text/plain": [
       "{'ID': ['gene:WBGene00022277'],\n",
       " 'Name': ['homt-1'],\n",
       " 'biotype': ['protein_coding'],\n",
       " 'description': ['Alpha N-terminal protein methyltransferase 1  [Source:UniProtKB/Swiss-Prot;Acc:Q9N4D9]'],\n",
       " 'gene_id': ['WBGene00022277'],\n",
       " 'logic_name': ['wormbase']}"
      ]
     },
     "execution_count": 23,
     "metadata": {},
     "output_type": "execute_result"
    }
   ],
   "source": [
    "attrs_col_data[4]"
   ]
  },
  {
   "cell_type": "code",
   "execution_count": 24,
   "metadata": {},
   "outputs": [],
   "source": [
    "# replace the attributes column from the dataset with the new one\n",
    "dataset.attributes = attrs_col_data"
   ]
  },
  {
   "cell_type": "code",
   "execution_count": 25,
   "metadata": {},
   "outputs": [
    {
     "data": {
      "text/html": [
       "<div>\n",
       "<style scoped>\n",
       "    .dataframe tbody tr th:only-of-type {\n",
       "        vertical-align: middle;\n",
       "    }\n",
       "\n",
       "    .dataframe tbody tr th {\n",
       "        vertical-align: top;\n",
       "    }\n",
       "\n",
       "    .dataframe thead th {\n",
       "        text-align: right;\n",
       "    }\n",
       "</style>\n",
       "<table border=\"1\" class=\"dataframe\">\n",
       "  <thead>\n",
       "    <tr style=\"text-align: right;\">\n",
       "      <th></th>\n",
       "      <th>seqid</th>\n",
       "      <th>source</th>\n",
       "      <th>type</th>\n",
       "      <th>start</th>\n",
       "      <th>end</th>\n",
       "      <th>score</th>\n",
       "      <th>strand</th>\n",
       "      <th>phase</th>\n",
       "      <th>attributes</th>\n",
       "    </tr>\n",
       "  </thead>\n",
       "  <tbody>\n",
       "    <tr>\n",
       "      <th>Feature0</th>\n",
       "      <td>I</td>\n",
       "      <td>WormBase</td>\n",
       "      <td>chromosome</td>\n",
       "      <td>1</td>\n",
       "      <td>15072434</td>\n",
       "      <td>.</td>\n",
       "      <td>.</td>\n",
       "      <td>.</td>\n",
       "      <td>{'ID': ['chromosome:I'], 'Alias': ['BX284601.5...</td>\n",
       "    </tr>\n",
       "    <tr>\n",
       "      <th>Feature1</th>\n",
       "      <td>I</td>\n",
       "      <td>WormBase</td>\n",
       "      <td>ncRNA_gene</td>\n",
       "      <td>3747</td>\n",
       "      <td>3909</td>\n",
       "      <td>.</td>\n",
       "      <td>-</td>\n",
       "      <td>.</td>\n",
       "      <td>{'ID': ['gene:WBGene00023193'], 'Name': ['Y74C...</td>\n",
       "    </tr>\n",
       "    <tr>\n",
       "      <th>Feature2</th>\n",
       "      <td>I</td>\n",
       "      <td>WormBase</td>\n",
       "      <td>snoRNA</td>\n",
       "      <td>3747</td>\n",
       "      <td>3909</td>\n",
       "      <td>.</td>\n",
       "      <td>-</td>\n",
       "      <td>.</td>\n",
       "      <td>{'ID': ['transcript:Y74C9A.6'], 'Parent': ['ge...</td>\n",
       "    </tr>\n",
       "  </tbody>\n",
       "</table>\n",
       "</div>"
      ],
      "text/plain": [
       "         seqid    source        type  start       end score strand phase  \\\n",
       "Feature0     I  WormBase  chromosome      1  15072434     .      .     .   \n",
       "Feature1     I  WormBase  ncRNA_gene   3747      3909     .      -     .   \n",
       "Feature2     I  WormBase      snoRNA   3747      3909     .      -     .   \n",
       "\n",
       "                                                 attributes  \n",
       "Feature0  {'ID': ['chromosome:I'], 'Alias': ['BX284601.5...  \n",
       "Feature1  {'ID': ['gene:WBGene00023193'], 'Name': ['Y74C...  \n",
       "Feature2  {'ID': ['transcript:Y74C9A.6'], 'Parent': ['ge...  "
      ]
     },
     "execution_count": 25,
     "metadata": {},
     "output_type": "execute_result"
    }
   ],
   "source": [
    "dataset.head(3)"
   ]
  },
  {
   "cell_type": "code",
   "execution_count": 26,
   "metadata": {},
   "outputs": [],
   "source": [
    "# Remove the attributes column from the dataset \n",
    "\n",
    "#dataset = dataset.drop(columns = \"attributes\")\n",
    "dataset.drop(columns = \"attributes\", inplace = True)"
   ]
  },
  {
   "cell_type": "code",
   "execution_count": 27,
   "metadata": {},
   "outputs": [
    {
     "data": {
      "text/html": [
       "<div>\n",
       "<style scoped>\n",
       "    .dataframe tbody tr th:only-of-type {\n",
       "        vertical-align: middle;\n",
       "    }\n",
       "\n",
       "    .dataframe tbody tr th {\n",
       "        vertical-align: top;\n",
       "    }\n",
       "\n",
       "    .dataframe thead th {\n",
       "        text-align: right;\n",
       "    }\n",
       "</style>\n",
       "<table border=\"1\" class=\"dataframe\">\n",
       "  <thead>\n",
       "    <tr style=\"text-align: right;\">\n",
       "      <th></th>\n",
       "      <th>seqid</th>\n",
       "      <th>source</th>\n",
       "      <th>type</th>\n",
       "      <th>start</th>\n",
       "      <th>end</th>\n",
       "      <th>score</th>\n",
       "      <th>strand</th>\n",
       "      <th>phase</th>\n",
       "    </tr>\n",
       "  </thead>\n",
       "  <tbody>\n",
       "    <tr>\n",
       "      <th>Feature0</th>\n",
       "      <td>I</td>\n",
       "      <td>WormBase</td>\n",
       "      <td>chromosome</td>\n",
       "      <td>1</td>\n",
       "      <td>15072434</td>\n",
       "      <td>.</td>\n",
       "      <td>.</td>\n",
       "      <td>.</td>\n",
       "    </tr>\n",
       "    <tr>\n",
       "      <th>Feature1</th>\n",
       "      <td>I</td>\n",
       "      <td>WormBase</td>\n",
       "      <td>ncRNA_gene</td>\n",
       "      <td>3747</td>\n",
       "      <td>3909</td>\n",
       "      <td>.</td>\n",
       "      <td>-</td>\n",
       "      <td>.</td>\n",
       "    </tr>\n",
       "    <tr>\n",
       "      <th>Feature2</th>\n",
       "      <td>I</td>\n",
       "      <td>WormBase</td>\n",
       "      <td>snoRNA</td>\n",
       "      <td>3747</td>\n",
       "      <td>3909</td>\n",
       "      <td>.</td>\n",
       "      <td>-</td>\n",
       "      <td>.</td>\n",
       "    </tr>\n",
       "  </tbody>\n",
       "</table>\n",
       "</div>"
      ],
      "text/plain": [
       "         seqid    source        type  start       end score strand phase\n",
       "Feature0     I  WormBase  chromosome      1  15072434     .      .     .\n",
       "Feature1     I  WormBase  ncRNA_gene   3747      3909     .      -     .\n",
       "Feature2     I  WormBase      snoRNA   3747      3909     .      -     ."
      ]
     },
     "execution_count": 27,
     "metadata": {},
     "output_type": "execute_result"
    }
   ],
   "source": [
    "dataset.head(3)"
   ]
  },
  {
   "cell_type": "code",
   "execution_count": 28,
   "metadata": {},
   "outputs": [
    {
     "data": {
      "text/html": [
       "<div>\n",
       "<style scoped>\n",
       "    .dataframe tbody tr th:only-of-type {\n",
       "        vertical-align: middle;\n",
       "    }\n",
       "\n",
       "    .dataframe tbody tr th {\n",
       "        vertical-align: top;\n",
       "    }\n",
       "\n",
       "    .dataframe thead th {\n",
       "        text-align: right;\n",
       "    }\n",
       "</style>\n",
       "<table border=\"1\" class=\"dataframe\">\n",
       "  <thead>\n",
       "    <tr style=\"text-align: right;\">\n",
       "      <th></th>\n",
       "      <th>seqid</th>\n",
       "      <th>source</th>\n",
       "      <th>type</th>\n",
       "      <th>start</th>\n",
       "      <th>end</th>\n",
       "      <th>score</th>\n",
       "      <th>strand</th>\n",
       "      <th>phase</th>\n",
       "      <th>attributes</th>\n",
       "    </tr>\n",
       "  </thead>\n",
       "  <tbody>\n",
       "    <tr>\n",
       "      <th>Feature0</th>\n",
       "      <td>I</td>\n",
       "      <td>WormBase</td>\n",
       "      <td>chromosome</td>\n",
       "      <td>1</td>\n",
       "      <td>15072434</td>\n",
       "      <td>.</td>\n",
       "      <td>.</td>\n",
       "      <td>.</td>\n",
       "      <td>{'ID': ['chromosome:I'], 'Alias': ['BX284601.5...</td>\n",
       "    </tr>\n",
       "    <tr>\n",
       "      <th>Feature1</th>\n",
       "      <td>I</td>\n",
       "      <td>WormBase</td>\n",
       "      <td>ncRNA_gene</td>\n",
       "      <td>3747</td>\n",
       "      <td>3909</td>\n",
       "      <td>.</td>\n",
       "      <td>-</td>\n",
       "      <td>.</td>\n",
       "      <td>{'ID': ['gene:WBGene00023193'], 'Name': ['Y74C...</td>\n",
       "    </tr>\n",
       "    <tr>\n",
       "      <th>Feature2</th>\n",
       "      <td>I</td>\n",
       "      <td>WormBase</td>\n",
       "      <td>snoRNA</td>\n",
       "      <td>3747</td>\n",
       "      <td>3909</td>\n",
       "      <td>.</td>\n",
       "      <td>-</td>\n",
       "      <td>.</td>\n",
       "      <td>{'ID': ['transcript:Y74C9A.6'], 'Parent': ['ge...</td>\n",
       "    </tr>\n",
       "    <tr>\n",
       "      <th>Feature3</th>\n",
       "      <td>I</td>\n",
       "      <td>WormBase</td>\n",
       "      <td>exon</td>\n",
       "      <td>3747</td>\n",
       "      <td>3909</td>\n",
       "      <td>.</td>\n",
       "      <td>-</td>\n",
       "      <td>.</td>\n",
       "      <td>{'Parent': ['transcript:Y74C9A.6'], 'Name': ['...</td>\n",
       "    </tr>\n",
       "    <tr>\n",
       "      <th>Feature4</th>\n",
       "      <td>I</td>\n",
       "      <td>WormBase</td>\n",
       "      <td>gene</td>\n",
       "      <td>4116</td>\n",
       "      <td>10230</td>\n",
       "      <td>.</td>\n",
       "      <td>-</td>\n",
       "      <td>.</td>\n",
       "      <td>{'ID': ['gene:WBGene00022277'], 'Name': ['homt...</td>\n",
       "    </tr>\n",
       "    <tr>\n",
       "      <th>...</th>\n",
       "      <td>...</td>\n",
       "      <td>...</td>\n",
       "      <td>...</td>\n",
       "      <td>...</td>\n",
       "      <td>...</td>\n",
       "      <td>...</td>\n",
       "      <td>...</td>\n",
       "      <td>...</td>\n",
       "      <td>...</td>\n",
       "    </tr>\n",
       "    <tr>\n",
       "      <th>Feature659616</th>\n",
       "      <td>X</td>\n",
       "      <td>WormBase</td>\n",
       "      <td>exon</td>\n",
       "      <td>17717328</td>\n",
       "      <td>17717443</td>\n",
       "      <td>.</td>\n",
       "      <td>+</td>\n",
       "      <td>.</td>\n",
       "      <td>{'Parent': ['transcript:cTel55X.1a'], 'Name': ...</td>\n",
       "    </tr>\n",
       "    <tr>\n",
       "      <th>Feature659617</th>\n",
       "      <td>X</td>\n",
       "      <td>WormBase</td>\n",
       "      <td>CDS</td>\n",
       "      <td>17717328</td>\n",
       "      <td>17717443</td>\n",
       "      <td>.</td>\n",
       "      <td>+</td>\n",
       "      <td>0</td>\n",
       "      <td>{'ID': ['CDS:cTel55X.1a'], 'Parent': ['transcr...</td>\n",
       "    </tr>\n",
       "    <tr>\n",
       "      <th>Feature659618</th>\n",
       "      <td>X</td>\n",
       "      <td>WormBase</td>\n",
       "      <td>CDS</td>\n",
       "      <td>17718435</td>\n",
       "      <td>17718621</td>\n",
       "      <td>.</td>\n",
       "      <td>+</td>\n",
       "      <td>1</td>\n",
       "      <td>{'ID': ['CDS:cTel55X.1a'], 'Parent': ['transcr...</td>\n",
       "    </tr>\n",
       "    <tr>\n",
       "      <th>Feature659619</th>\n",
       "      <td>X</td>\n",
       "      <td>WormBase</td>\n",
       "      <td>exon</td>\n",
       "      <td>17718435</td>\n",
       "      <td>17718720</td>\n",
       "      <td>.</td>\n",
       "      <td>+</td>\n",
       "      <td>.</td>\n",
       "      <td>{'Parent': ['transcript:cTel55X.1a'], 'Name': ...</td>\n",
       "    </tr>\n",
       "    <tr>\n",
       "      <th>Feature659620</th>\n",
       "      <td>X</td>\n",
       "      <td>WormBase</td>\n",
       "      <td>three_prime_UTR</td>\n",
       "      <td>17718622</td>\n",
       "      <td>17718720</td>\n",
       "      <td>.</td>\n",
       "      <td>+</td>\n",
       "      <td>.</td>\n",
       "      <td>{'Parent': ['transcript:cTel55X.1a']}</td>\n",
       "    </tr>\n",
       "  </tbody>\n",
       "</table>\n",
       "<p>659621 rows × 9 columns</p>\n",
       "</div>"
      ],
      "text/plain": [
       "              seqid    source             type     start       end score  \\\n",
       "Feature0          I  WormBase       chromosome         1  15072434     .   \n",
       "Feature1          I  WormBase       ncRNA_gene      3747      3909     .   \n",
       "Feature2          I  WormBase           snoRNA      3747      3909     .   \n",
       "Feature3          I  WormBase             exon      3747      3909     .   \n",
       "Feature4          I  WormBase             gene      4116     10230     .   \n",
       "...             ...       ...              ...       ...       ...   ...   \n",
       "Feature659616     X  WormBase             exon  17717328  17717443     .   \n",
       "Feature659617     X  WormBase              CDS  17717328  17717443     .   \n",
       "Feature659618     X  WormBase              CDS  17718435  17718621     .   \n",
       "Feature659619     X  WormBase             exon  17718435  17718720     .   \n",
       "Feature659620     X  WormBase  three_prime_UTR  17718622  17718720     .   \n",
       "\n",
       "              strand phase                                         attributes  \n",
       "Feature0           .     .  {'ID': ['chromosome:I'], 'Alias': ['BX284601.5...  \n",
       "Feature1           -     .  {'ID': ['gene:WBGene00023193'], 'Name': ['Y74C...  \n",
       "Feature2           -     .  {'ID': ['transcript:Y74C9A.6'], 'Parent': ['ge...  \n",
       "Feature3           -     .  {'Parent': ['transcript:Y74C9A.6'], 'Name': ['...  \n",
       "Feature4           -     .  {'ID': ['gene:WBGene00022277'], 'Name': ['homt...  \n",
       "...              ...   ...                                                ...  \n",
       "Feature659616      +     .  {'Parent': ['transcript:cTel55X.1a'], 'Name': ...  \n",
       "Feature659617      +     0  {'ID': ['CDS:cTel55X.1a'], 'Parent': ['transcr...  \n",
       "Feature659618      +     1  {'ID': ['CDS:cTel55X.1a'], 'Parent': ['transcr...  \n",
       "Feature659619      +     .  {'Parent': ['transcript:cTel55X.1a'], 'Name': ...  \n",
       "Feature659620      +     .              {'Parent': ['transcript:cTel55X.1a']}  \n",
       "\n",
       "[659621 rows x 9 columns]"
      ]
     },
     "execution_count": 28,
     "metadata": {},
     "output_type": "execute_result"
    }
   ],
   "source": [
    "dataset.join(attrs_col_data)"
   ]
  },
  {
   "cell_type": "code",
   "execution_count": 29,
   "metadata": {},
   "outputs": [
    {
     "data": {
      "text/html": [
       "<div>\n",
       "<style scoped>\n",
       "    .dataframe tbody tr th:only-of-type {\n",
       "        vertical-align: middle;\n",
       "    }\n",
       "\n",
       "    .dataframe tbody tr th {\n",
       "        vertical-align: top;\n",
       "    }\n",
       "\n",
       "    .dataframe thead th {\n",
       "        text-align: right;\n",
       "    }\n",
       "</style>\n",
       "<table border=\"1\" class=\"dataframe\">\n",
       "  <thead>\n",
       "    <tr style=\"text-align: right;\">\n",
       "      <th></th>\n",
       "      <th>seqid</th>\n",
       "      <th>source</th>\n",
       "      <th>type</th>\n",
       "      <th>start</th>\n",
       "      <th>end</th>\n",
       "      <th>score</th>\n",
       "      <th>strand</th>\n",
       "      <th>phase</th>\n",
       "    </tr>\n",
       "  </thead>\n",
       "  <tbody>\n",
       "    <tr>\n",
       "      <th>Feature0</th>\n",
       "      <td>I</td>\n",
       "      <td>WormBase</td>\n",
       "      <td>chromosome</td>\n",
       "      <td>1</td>\n",
       "      <td>15072434</td>\n",
       "      <td>.</td>\n",
       "      <td>.</td>\n",
       "      <td>.</td>\n",
       "    </tr>\n",
       "    <tr>\n",
       "      <th>Feature1</th>\n",
       "      <td>I</td>\n",
       "      <td>WormBase</td>\n",
       "      <td>ncRNA_gene</td>\n",
       "      <td>3747</td>\n",
       "      <td>3909</td>\n",
       "      <td>.</td>\n",
       "      <td>-</td>\n",
       "      <td>.</td>\n",
       "    </tr>\n",
       "    <tr>\n",
       "      <th>Feature2</th>\n",
       "      <td>I</td>\n",
       "      <td>WormBase</td>\n",
       "      <td>snoRNA</td>\n",
       "      <td>3747</td>\n",
       "      <td>3909</td>\n",
       "      <td>.</td>\n",
       "      <td>-</td>\n",
       "      <td>.</td>\n",
       "    </tr>\n",
       "  </tbody>\n",
       "</table>\n",
       "</div>"
      ],
      "text/plain": [
       "         seqid    source        type  start       end score strand phase\n",
       "Feature0     I  WormBase  chromosome      1  15072434     .      .     .\n",
       "Feature1     I  WormBase  ncRNA_gene   3747      3909     .      -     .\n",
       "Feature2     I  WormBase      snoRNA   3747      3909     .      -     ."
      ]
     },
     "execution_count": 29,
     "metadata": {},
     "output_type": "execute_result"
    }
   ],
   "source": [
    "dataset.head(3)"
   ]
  },
  {
   "cell_type": "code",
   "execution_count": 30,
   "metadata": {},
   "outputs": [],
   "source": [
    "# replace the dataset with the new one that incluses the new column\n",
    "\n",
    "dataset = dataset.join(attrs_col_data)"
   ]
  },
  {
   "cell_type": "code",
   "execution_count": 31,
   "metadata": {},
   "outputs": [
    {
     "data": {
      "text/html": [
       "<div>\n",
       "<style scoped>\n",
       "    .dataframe tbody tr th:only-of-type {\n",
       "        vertical-align: middle;\n",
       "    }\n",
       "\n",
       "    .dataframe tbody tr th {\n",
       "        vertical-align: top;\n",
       "    }\n",
       "\n",
       "    .dataframe thead th {\n",
       "        text-align: right;\n",
       "    }\n",
       "</style>\n",
       "<table border=\"1\" class=\"dataframe\">\n",
       "  <thead>\n",
       "    <tr style=\"text-align: right;\">\n",
       "      <th></th>\n",
       "      <th>seqid</th>\n",
       "      <th>source</th>\n",
       "      <th>type</th>\n",
       "      <th>start</th>\n",
       "      <th>end</th>\n",
       "      <th>score</th>\n",
       "      <th>strand</th>\n",
       "      <th>phase</th>\n",
       "      <th>attributes</th>\n",
       "    </tr>\n",
       "  </thead>\n",
       "  <tbody>\n",
       "    <tr>\n",
       "      <th>Feature0</th>\n",
       "      <td>I</td>\n",
       "      <td>WormBase</td>\n",
       "      <td>chromosome</td>\n",
       "      <td>1</td>\n",
       "      <td>15072434</td>\n",
       "      <td>.</td>\n",
       "      <td>.</td>\n",
       "      <td>.</td>\n",
       "      <td>{'ID': ['chromosome:I'], 'Alias': ['BX284601.5...</td>\n",
       "    </tr>\n",
       "    <tr>\n",
       "      <th>Feature1</th>\n",
       "      <td>I</td>\n",
       "      <td>WormBase</td>\n",
       "      <td>ncRNA_gene</td>\n",
       "      <td>3747</td>\n",
       "      <td>3909</td>\n",
       "      <td>.</td>\n",
       "      <td>-</td>\n",
       "      <td>.</td>\n",
       "      <td>{'ID': ['gene:WBGene00023193'], 'Name': ['Y74C...</td>\n",
       "    </tr>\n",
       "    <tr>\n",
       "      <th>Feature2</th>\n",
       "      <td>I</td>\n",
       "      <td>WormBase</td>\n",
       "      <td>snoRNA</td>\n",
       "      <td>3747</td>\n",
       "      <td>3909</td>\n",
       "      <td>.</td>\n",
       "      <td>-</td>\n",
       "      <td>.</td>\n",
       "      <td>{'ID': ['transcript:Y74C9A.6'], 'Parent': ['ge...</td>\n",
       "    </tr>\n",
       "  </tbody>\n",
       "</table>\n",
       "</div>"
      ],
      "text/plain": [
       "         seqid    source        type  start       end score strand phase  \\\n",
       "Feature0     I  WormBase  chromosome      1  15072434     .      .     .   \n",
       "Feature1     I  WormBase  ncRNA_gene   3747      3909     .      -     .   \n",
       "Feature2     I  WormBase      snoRNA   3747      3909     .      -     .   \n",
       "\n",
       "                                                 attributes  \n",
       "Feature0  {'ID': ['chromosome:I'], 'Alias': ['BX284601.5...  \n",
       "Feature1  {'ID': ['gene:WBGene00023193'], 'Name': ['Y74C...  \n",
       "Feature2  {'ID': ['transcript:Y74C9A.6'], 'Parent': ['ge...  "
      ]
     },
     "execution_count": 31,
     "metadata": {},
     "output_type": "execute_result"
    }
   ],
   "source": [
    "dataset.head(3)"
   ]
  },
  {
   "cell_type": "code",
   "execution_count": null,
   "metadata": {},
   "outputs": [],
   "source": []
  },
  {
   "cell_type": "markdown",
   "metadata": {},
   "source": [
    "___\n",
    "### <font color = \"red\">Exercise</font>\n",
    "\n",
    "Load the **iris** dataset from the following url:   \n",
    "\n",
    "https://raw.githubusercontent.com/uiuc-cse/data-fa14/gh-pages/data/iris.csv\n",
    "\n",
    "Plot the `petal_length` versus `sepal_length` separate by species.\n",
    "\n"
   ]
  },
  {
   "cell_type": "code",
   "execution_count": 32,
   "metadata": {},
   "outputs": [
    {
     "data": {
      "text/html": [
       "<div>\n",
       "<style scoped>\n",
       "    .dataframe tbody tr th:only-of-type {\n",
       "        vertical-align: middle;\n",
       "    }\n",
       "\n",
       "    .dataframe tbody tr th {\n",
       "        vertical-align: top;\n",
       "    }\n",
       "\n",
       "    .dataframe thead th {\n",
       "        text-align: right;\n",
       "    }\n",
       "</style>\n",
       "<table border=\"1\" class=\"dataframe\">\n",
       "  <thead>\n",
       "    <tr style=\"text-align: right;\">\n",
       "      <th></th>\n",
       "      <th>sepal_length</th>\n",
       "      <th>sepal_width</th>\n",
       "      <th>petal_length</th>\n",
       "      <th>petal_width</th>\n",
       "      <th>species</th>\n",
       "    </tr>\n",
       "  </thead>\n",
       "  <tbody>\n",
       "    <tr>\n",
       "      <th>0</th>\n",
       "      <td>5.1</td>\n",
       "      <td>3.5</td>\n",
       "      <td>1.4</td>\n",
       "      <td>0.2</td>\n",
       "      <td>setosa</td>\n",
       "    </tr>\n",
       "    <tr>\n",
       "      <th>1</th>\n",
       "      <td>4.9</td>\n",
       "      <td>3.0</td>\n",
       "      <td>1.4</td>\n",
       "      <td>0.2</td>\n",
       "      <td>setosa</td>\n",
       "    </tr>\n",
       "    <tr>\n",
       "      <th>2</th>\n",
       "      <td>4.7</td>\n",
       "      <td>3.2</td>\n",
       "      <td>1.3</td>\n",
       "      <td>0.2</td>\n",
       "      <td>setosa</td>\n",
       "    </tr>\n",
       "    <tr>\n",
       "      <th>3</th>\n",
       "      <td>4.6</td>\n",
       "      <td>3.1</td>\n",
       "      <td>1.5</td>\n",
       "      <td>0.2</td>\n",
       "      <td>setosa</td>\n",
       "    </tr>\n",
       "    <tr>\n",
       "      <th>4</th>\n",
       "      <td>5.0</td>\n",
       "      <td>3.6</td>\n",
       "      <td>1.4</td>\n",
       "      <td>0.2</td>\n",
       "      <td>setosa</td>\n",
       "    </tr>\n",
       "  </tbody>\n",
       "</table>\n",
       "</div>"
      ],
      "text/plain": [
       "   sepal_length  sepal_width  petal_length  petal_width species\n",
       "0           5.1          3.5           1.4          0.2  setosa\n",
       "1           4.9          3.0           1.4          0.2  setosa\n",
       "2           4.7          3.2           1.3          0.2  setosa\n",
       "3           4.6          3.1           1.5          0.2  setosa\n",
       "4           5.0          3.6           1.4          0.2  setosa"
      ]
     },
     "execution_count": 32,
     "metadata": {},
     "output_type": "execute_result"
    }
   ],
   "source": [
    "# load data from url\n",
    "\n",
    "df_iris = pd.read_csv('https://raw.githubusercontent.com/uiuc-cse/data-fa14/gh-pages/data/iris.csv')\n",
    "df_iris.head()\n",
    "\n"
   ]
  },
  {
   "cell_type": "code",
   "execution_count": 34,
   "metadata": {},
   "outputs": [
    {
     "data": {
      "text/plain": [
       "array([<matplotlib.axes._subplots.AxesSubplot object at 0x1221fbd60>,\n",
       "       <matplotlib.axes._subplots.AxesSubplot object at 0x12222d940>,\n",
       "       <matplotlib.axes._subplots.AxesSubplot object at 0x122695bb0>,\n",
       "       <matplotlib.axes._subplots.AxesSubplot object at 0x1226c1d30>],\n",
       "      dtype=object)"
      ]
     },
     "execution_count": 34,
     "metadata": {},
     "output_type": "execute_result"
    },
    {
     "data": {
      "image/png": "[encoded data removed]",
      "text/plain": [
       "<Figure size 432x288 with 4 Axes>"
      ]
     },
     "metadata": {
      "needs_background": "light"
     },
     "output_type": "display_data"
    }
   ],
   "source": [
    "# using pandas plotting (matplotlib-based)\n",
    "# plot the numeric columns\n",
    "# set plot properties using the arguments in the plot function\n",
    "\n",
    "\n",
    "df_iris.plot(linestyle = \"dashed\", subplots = True)"
   ]
  },
  {
   "cell_type": "code",
   "execution_count": 35,
   "metadata": {},
   "outputs": [
    {
     "data": {
      "image/png": "[encoded data removed]",
      "text/plain": [
       "<Figure size 432x288 with 1 Axes>"
      ]
     },
     "metadata": {
      "needs_background": "light"
     },
     "output_type": "display_data"
    },
    {
     "data": {
      "image/png": "[encoded data removed]",
      "text/plain": [
       "<Figure size 432x288 with 1 Axes>"
      ]
     },
     "metadata": {
      "needs_background": "light"
     },
     "output_type": "display_data"
    },
    {
     "data": {
      "image/png": "[encoded data removed]",
      "text/plain": [
       "<Figure size 432x288 with 1 Axes>"
      ]
     },
     "metadata": {
      "needs_background": "light"
     },
     "output_type": "display_data"
    }
   ],
   "source": [
    "# Set plot properties using the arguments in the plot function\n",
    "\n",
    "res = df_iris.groupby(\"species\").plot(x = \"petal_length\", y = \"sepal_length\", \n",
    "                                kind = \"scatter\", subplots = False, #sharex = True, \n",
    "                                xlim = (1,7), ylim = (4,9),\n",
    "                                xlabel = \"Petal length\", ylabel = \"Sepal length\")\n"
   ]
  },
  {
   "cell_type": "code",
   "execution_count": 46,
   "metadata": {},
   "outputs": [
    {
     "data": {
      "image/png": "[encoded data removed]",
      "text/plain": [
       "<Figure size 432x288 with 1 Axes>"
      ]
     },
     "metadata": {
      "needs_background": "light"
     },
     "output_type": "display_data"
    },
    {
     "data": {
      "image/png": "[encoded data removed]",
      "text/plain": [
       "<Figure size 432x288 with 1 Axes>"
      ]
     },
     "metadata": {
      "needs_background": "light"
     },
     "output_type": "display_data"
    },
    {
     "data": {
      "image/png": "[encoded data removed]",
      "text/plain": [
       "<Figure size 432x288 with 1 Axes>"
      ]
     },
     "metadata": {
      "needs_background": "light"
     },
     "output_type": "display_data"
    }
   ],
   "source": [
    "# using matplotlib:\n",
    "\n",
    "%matplotlib inline\n",
    "import matplotlib.pyplot as plt\n",
    "\n",
    "# Change plot properties using pyplot functions\n",
    "\n",
    "color = [\"red\", \"green\", \"blue\"]\n",
    "groups = df_iris.groupby(\"species\")\n",
    "i = 0\n",
    "for name, group in groups:\n",
    "    # print(group)\n",
    "    plt.scatter(group[\"sepal_length\"], group[\"petal_length\"], marker=\"o\", \n",
    "                color = color[i], label = name)\n",
    "    #plt.title(name)\n",
    "    plt.xlabel(\"Sepal length\")\n",
    "    plt.ylabel(\"Petal length\")\n",
    "    plt.xlim(4,8)\n",
    "    plt.ylim(0,7)\n",
    "    plt.legend()\n",
    "    plt.show()\n",
    "    i += 1\n",
    "    \n",
    "    "
   ]
  },
  {
   "cell_type": "code",
   "execution_count": 92,
   "metadata": {},
   "outputs": [],
   "source": [
    "# dir(df_iris.groupby(\"species\"))"
   ]
  },
  {
   "cell_type": "code",
   "execution_count": 91,
   "metadata": {},
   "outputs": [
    {
     "data": {
      "text/plain": [
       "{'setosa': [0, 1, 2, 3, 4, 5, 6, 7, 8, 9, 10, 11, 12, 13, 14, 15, 16, 17, 18, 19, 20, 21, 22, 23, 24, 25, 26, 27, 28, 29, 30, 31, 32, 33, 34, 35, 36, 37, 38, 39, 40, 41, 42, 43, 44, 45, 46, 47, 48, 49], 'versicolor': [50, 51, 52, 53, 54, 55, 56, 57, 58, 59, 60, 61, 62, 63, 64, 65, 66, 67, 68, 69, 70, 71, 72, 73, 74, 75, 76, 77, 78, 79, 80, 81, 82, 83, 84, 85, 86, 87, 88, 89, 90, 91, 92, 93, 94, 95, 96, 97, 98, 99], 'virginica': [100, 101, 102, 103, 104, 105, 106, 107, 108, 109, 110, 111, 112, 113, 114, 115, 116, 117, 118, 119, 120, 121, 122, 123, 124, 125, 126, 127, 128, 129, 130, 131, 132, 133, 134, 135, 136, 137, 138, 139, 140, 141, 142, 143, 144, 145, 146, 147, 148, 149]}"
      ]
     },
     "execution_count": 91,
     "metadata": {},
     "output_type": "execute_result"
    }
   ],
   "source": [
    "# Group data by category\n",
    "\n",
    "df_iris.groupby(\"species\").groups"
   ]
  },
  {
   "cell_type": "code",
   "execution_count": 84,
   "metadata": {},
   "outputs": [
    {
     "data": {
      "text/html": [
       "<div>\n",
       "<style scoped>\n",
       "    .dataframe tbody tr th:only-of-type {\n",
       "        vertical-align: middle;\n",
       "    }\n",
       "\n",
       "    .dataframe tbody tr th {\n",
       "        vertical-align: top;\n",
       "    }\n",
       "\n",
       "    .dataframe thead th {\n",
       "        text-align: right;\n",
       "    }\n",
       "</style>\n",
       "<table border=\"1\" class=\"dataframe\">\n",
       "  <thead>\n",
       "    <tr style=\"text-align: right;\">\n",
       "      <th></th>\n",
       "      <th>sepal_length</th>\n",
       "      <th>sepal_width</th>\n",
       "      <th>petal_length</th>\n",
       "      <th>petal_width</th>\n",
       "    </tr>\n",
       "    <tr>\n",
       "      <th>species</th>\n",
       "      <th></th>\n",
       "      <th></th>\n",
       "      <th></th>\n",
       "      <th></th>\n",
       "    </tr>\n",
       "  </thead>\n",
       "  <tbody>\n",
       "    <tr>\n",
       "      <th>setosa</th>\n",
       "      <td>250.3</td>\n",
       "      <td>170.9</td>\n",
       "      <td>73.2</td>\n",
       "      <td>12.2</td>\n",
       "    </tr>\n",
       "    <tr>\n",
       "      <th>versicolor</th>\n",
       "      <td>296.8</td>\n",
       "      <td>138.5</td>\n",
       "      <td>213.0</td>\n",
       "      <td>66.3</td>\n",
       "    </tr>\n",
       "    <tr>\n",
       "      <th>virginica</th>\n",
       "      <td>329.4</td>\n",
       "      <td>148.7</td>\n",
       "      <td>277.6</td>\n",
       "      <td>101.3</td>\n",
       "    </tr>\n",
       "  </tbody>\n",
       "</table>\n",
       "</div>"
      ],
      "text/plain": [
       "            sepal_length  sepal_width  petal_length  petal_width\n",
       "species                                                         \n",
       "setosa             250.3        170.9          73.2         12.2\n",
       "versicolor         296.8        138.5         213.0         66.3\n",
       "virginica          329.4        148.7         277.6        101.3"
      ]
     },
     "execution_count": 84,
     "metadata": {},
     "output_type": "execute_result"
    }
   ],
   "source": [
    "# Compute statistics per group\n",
    "\n",
    "df_iris.groupby(\"species\").sum()"
   ]
  },
  {
   "cell_type": "code",
   "execution_count": null,
   "metadata": {},
   "outputs": [],
   "source": []
  },
  {
   "cell_type": "code",
   "execution_count": null,
   "metadata": {},
   "outputs": [],
   "source": []
  },
  {
   "cell_type": "code",
   "execution_count": null,
   "metadata": {},
   "outputs": [],
   "source": []
  },
  {
   "cell_type": "code",
   "execution_count": 83,
   "metadata": {},
   "outputs": [
    {
     "data": {
      "image/png": "[encoded data removed]",
      "text/plain": [
       "<Figure size 432x288 with 1 Axes>"
      ]
     },
     "metadata": {
      "needs_background": "light"
     },
     "output_type": "display_data"
    }
   ],
   "source": [
    "# susing the seaborn library\n",
    "\n",
    "import seaborn as sns\n",
    "\n",
    "\n",
    "ax = sns.scatterplot(data = df_iris, x = \"petal_length\", y = \"sepal_length\", \n",
    "                     hue = \"species\")\n",
    "ax.set(xlabel = \"Petal length\", ylabel = \"Sepal length\")\n",
    "plt.show()"
   ]
  },
  {
   "cell_type": "code",
   "execution_count": 82,
   "metadata": {},
   "outputs": [
    {
     "data": {
      "image/png": "[encoded data removed]",
      "text/plain": [
       "<Figure size 732.75x216 with 3 Axes>"
      ]
     },
     "metadata": {
      "needs_background": "light"
     },
     "output_type": "display_data"
    }
   ],
   "source": [
    "g = sns.FacetGrid(df_iris, col=\"species\", hue=\"species\")\n",
    "g.map(sns.scatterplot, \"sepal_length\", \"petal_length\", alpha=.5)\n",
    "g.add_legend()\n",
    "g.set_axis_labels(\"Sepal length\", \"Sepal length\")\n",
    "plt.show()"
   ]
  },
  {
   "cell_type": "code",
   "execution_count": null,
   "metadata": {},
   "outputs": [],
   "source": []
  },
  {
   "cell_type": "code",
   "execution_count": null,
   "metadata": {},
   "outputs": [],
   "source": []
  },
  {
   "cell_type": "code",
   "execution_count": 33,
   "metadata": {},
   "outputs": [],
   "source": [
    "# install plotnine if the import does not work!\n",
    "# (Windows users) run one of the following two commands in the anaconda console\n",
    "# (Mac users) run one of the following two commands in a terminal\n",
    "\n",
    "# pip install plotnine\n",
    "# or\n",
    "# conda install -c conda-forge plotnine\n",
    "\n",
    "from plotnine import *\n"
   ]
  },
  {
   "cell_type": "code",
   "execution_count": 43,
   "metadata": {},
   "outputs": [
    {
     "data": {
      "image/png": "[encoded data removed]",
      "text/plain": [
       "<Figure size 640x480 with 1 Axes>"
      ]
     },
     "metadata": {},
     "output_type": "display_data"
    },
    {
     "data": {
      "text/plain": [
       "<ggplot: (390188764)>"
      ]
     },
     "execution_count": 43,
     "metadata": {},
     "output_type": "execute_result"
    }
   ],
   "source": [
    "p = ggplot(df_iris, aes(\"sepal_length\", \"petal_length\", color=\"species\", shape = \"species\")) + geom_point() \n",
    "p"
   ]
  },
  {
   "cell_type": "code",
   "execution_count": 35,
   "metadata": {},
   "outputs": [
    {
     "data": {
      "image/png": "[encoded data removed]",
      "text/plain": [
       "<Figure size 640x480 with 3 Axes>"
      ]
     },
     "metadata": {},
     "output_type": "display_data"
    },
    {
     "data": {
      "text/plain": [
       "<ggplot: (382343274)>"
      ]
     },
     "execution_count": 35,
     "metadata": {},
     "output_type": "execute_result"
    }
   ],
   "source": [
    "\n",
    "p = ggplot(df_iris, aes(\"petal_length\", \"sepal_length\", color=\"species\", shape = \"species\")) + geom_point() \\\n",
    "    + facet_wrap(\"~species\", ncol=1)\n",
    "p"
   ]
  },
  {
   "cell_type": "code",
   "execution_count": null,
   "metadata": {},
   "outputs": [],
   "source": []
  }
 ],
 "metadata": {
  "kernelspec": {
   "display_name": "Python 3",
   "language": "python",
   "name": "python3"
  },
  "language_info": {
   "codemirror_mode": {
    "name": "ipython",
    "version": 3
   },
   "file_extension": ".py",
   "mimetype": "text/x-python",
   "name": "python",
   "nbconvert_exporter": "python",
   "pygments_lexer": "ipython3",
   "version": "3.8.3"
  }
 },
 "nbformat": 4,
 "nbformat_minor": 4
}
