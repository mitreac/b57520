{
 "cells": [
  {
   "cell_type": "markdown",
   "metadata": {},
   "source": [
    "## Study session 6 - Control structures - functions \n",
    "### BIOINF 575 - Fall 2020\n",
    "SOLUTIONS"
   ]
  },
  {
   "cell_type": "markdown",
   "metadata": {},
   "source": [
    "_____\n",
    "### Function Definition - creating the function"
   ]
  },
  {
   "cell_type": "markdown",
   "metadata": {},
   "source": [
    "```python\n",
    "def function_name(arg1, arg2, darg=None):\n",
    "    # instructions to compute result\n",
    "    return result\n",
    "```"
   ]
  },
  {
   "cell_type": "markdown",
   "metadata": {},
   "source": [
    "### Function Call - running the function"
   ]
  },
  {
   "cell_type": "markdown",
   "metadata": {},
   "source": [
    "```python\n",
    "function_result = function_name(val1, val2, dval)\n",
    "```"
   ]
  },
  {
   "cell_type": "markdown",
   "metadata": {},
   "source": [
    "____\n",
    "#### Gene regulatory network\n",
    "\n",
    "\"Formally speaking, a gene regulatory network or genetic regulatory network (GRN) is a collection of DNA segments in a cell which interact with each other (indirectly through their RNA and protein expression products) and with other substances in the cell, thereby governing the rates at which genes in the network are transcribed into mRNA. In general, each mRNA molecule goes on to make a specific protein (or set of proteins).\"  \n",
    "https://link.springer.com/referenceworkentry/10.1007%2F978-1-4419-9863-7_364\n",
    "\n",
    "<img src = \"https://media.springernature.com/original/springer-static/image/prt%3A978-1-4419-9863-7%2F7/MediaObjects/978-1-4419-9863-7_7_Part_Fig1-364_HTML.gif\" width = 200/>\n",
    "\n"
   ]
  },
  {
   "cell_type": "markdown",
   "metadata": {},
   "source": [
    "_____\n",
    "### <font color = \"red\">Exercise</font>\n",
    "\n",
    "- Create a list with tuples of 2 elements where the first elelment is a gene from the network above and the second element is a tuple of the genes it directly regulates (through orange links only).\n",
    "\n",
    "Create a dictionary from the above list. \n",
    "\n",
    "- Write a function that uses the dictionary and computes and returns the set of the genes that a given gene indirectly regulates through exactly one intermediate gene.\n",
    "\n",
    "Test the function for at least three cases.\n",
    "\n",
    "\n"
   ]
  },
  {
   "cell_type": "code",
   "execution_count": 1,
   "metadata": {},
   "outputs": [],
   "source": [
    "network_list = [(\"Gene1\", (\"Gene2\",)), (\"Gene2\",(\"Gene6\",)), \n",
    "                (\"Gene3\", (\"Gene1\",\"Gene5\")), (\"Gene4\", (\"Gene2\",)),\n",
    "                (\"Gene5\", (\"Gene1\",)), (\"Gene6\", (\"Gene1\",))]"
   ]
  },
  {
   "cell_type": "code",
   "execution_count": 2,
   "metadata": {},
   "outputs": [
    {
     "data": {
      "text/plain": [
       "[('Gene1', ('Gene2',)),\n",
       " ('Gene2', ('Gene6',)),\n",
       " ('Gene3', ('Gene1', 'Gene5')),\n",
       " ('Gene4', ('Gene2',)),\n",
       " ('Gene5', ('Gene1',)),\n",
       " ('Gene6', ('Gene1',))]"
      ]
     },
     "execution_count": 2,
     "metadata": {},
     "output_type": "execute_result"
    }
   ],
   "source": [
    "network_list"
   ]
  },
  {
   "cell_type": "code",
   "execution_count": 3,
   "metadata": {},
   "outputs": [],
   "source": [
    "network = dict(network_list)"
   ]
  },
  {
   "cell_type": "code",
   "execution_count": 4,
   "metadata": {},
   "outputs": [
    {
     "data": {
      "text/plain": [
       "{'Gene1': ('Gene2',),\n",
       " 'Gene2': ('Gene6',),\n",
       " 'Gene3': ('Gene1', 'Gene5'),\n",
       " 'Gene4': ('Gene2',),\n",
       " 'Gene5': ('Gene1',),\n",
       " 'Gene6': ('Gene1',)}"
      ]
     },
     "execution_count": 4,
     "metadata": {},
     "output_type": "execute_result"
    }
   ],
   "source": [
    "network"
   ]
  },
  {
   "cell_type": "code",
   "execution_count": 5,
   "metadata": {},
   "outputs": [],
   "source": [
    "def compute_reg2_geneset(reg, biological_network):\n",
    "    reg2_geneset = set()\n",
    "    for reg1 in biological_network[reg]:\n",
    "        reg2_geneset.update(biological_network.get(reg1,()))\n",
    "    return reg2_geneset"
   ]
  },
  {
   "cell_type": "code",
   "execution_count": 6,
   "metadata": {},
   "outputs": [
    {
     "data": {
      "text/plain": [
       "{'Gene1', 'Gene2'}"
      ]
     },
     "execution_count": 6,
     "metadata": {},
     "output_type": "execute_result"
    }
   ],
   "source": [
    "compute_reg2_geneset(\"Gene3\", network)"
   ]
  },
  {
   "cell_type": "code",
   "execution_count": 7,
   "metadata": {},
   "outputs": [
    {
     "data": {
      "text/plain": [
       "{'Gene1'}"
      ]
     },
     "execution_count": 7,
     "metadata": {},
     "output_type": "execute_result"
    }
   ],
   "source": [
    "compute_reg2_geneset(\"Gene2\", network)"
   ]
  },
  {
   "cell_type": "code",
   "execution_count": 8,
   "metadata": {},
   "outputs": [
    {
     "data": {
      "text/plain": [
       "{'Gene2'}"
      ]
     },
     "execution_count": 8,
     "metadata": {},
     "output_type": "execute_result"
    }
   ],
   "source": [
    "compute_reg2_geneset(\"Gene6\", network)"
   ]
  },
  {
   "cell_type": "markdown",
   "metadata": {},
   "source": [
    "_____\n",
    "### <font color = \"red\">Exercise</font>\n",
    "\n",
    "- Apply the function for every pair of genes in the network that are regulating other genes and compute the intersection of the two sets. \n",
    "\n"
   ]
  },
  {
   "cell_type": "code",
   "execution_count": 9,
   "metadata": {},
   "outputs": [
    {
     "data": {
      "text/plain": [
       "{('Gene1', 'Gene2'): (),\n",
       " ('Gene1', 'Gene3'): (),\n",
       " ('Gene1', 'Gene4'): ('Gene6',),\n",
       " ('Gene1', 'Gene5'): (),\n",
       " ('Gene1', 'Gene6'): (),\n",
       " ('Gene2', 'Gene3'): ('Gene1',),\n",
       " ('Gene2', 'Gene4'): (),\n",
       " ('Gene2', 'Gene5'): (),\n",
       " ('Gene2', 'Gene6'): (),\n",
       " ('Gene3', 'Gene4'): (),\n",
       " ('Gene3', 'Gene5'): ('Gene2',),\n",
       " ('Gene3', 'Gene6'): ('Gene2',),\n",
       " ('Gene4', 'Gene5'): (),\n",
       " ('Gene4', 'Gene6'): (),\n",
       " ('Gene5', 'Gene6'): ('Gene2',)}"
      ]
     },
     "execution_count": 9,
     "metadata": {},
     "output_type": "execute_result"
    }
   ],
   "source": [
    "regulators_common_genes = {}\n",
    "genes = tuple(network.keys())\n",
    "for i in range(0,len(genes)):\n",
    "    for j in range(i+1,len(genes)):\n",
    "        g1 = genes[i]\n",
    "        g2 = genes[j]\n",
    "        g1_indrg_set = compute_reg2_geneset(g1, network)\n",
    "        g2_indrg_set = compute_reg2_geneset(g2, network)\n",
    "        regulators_common_genes[(g1,g2)] = tuple(g1_indrg_set.intersection(g2_indrg_set))\n",
    "regulators_common_genes"
   ]
  },
  {
   "cell_type": "code",
   "execution_count": null,
   "metadata": {},
   "outputs": [],
   "source": []
  },
  {
   "cell_type": "raw",
   "metadata": {},
   "source": []
  },
  {
   "cell_type": "markdown",
   "metadata": {},
   "source": [
    "____\n",
    "### <font color = \"red\">Exercise</font>\n",
    "\n",
    "- Write a function that counts the number of direct interactions (downstream and upstream) for a gene in a given network.\n",
    "- Test your function for at least 4 cases.\n",
    "\n"
   ]
  },
  {
   "cell_type": "code",
   "execution_count": 10,
   "metadata": {},
   "outputs": [],
   "source": [
    "# check if gene is a dict key, it means it has outgoing \n",
    "# check if gene is in a dict value, it means it has incoming edges\n",
    "\n",
    "def count_direct_int(gene, biological_network):\n",
    "    count = len(biological_network.get(gene,()))\n",
    "    for dr in biological_network.values():\n",
    "         if gene in dr:\n",
    "                count += 1\n",
    "    return count"
   ]
  },
  {
   "cell_type": "code",
   "execution_count": 11,
   "metadata": {},
   "outputs": [],
   "source": [
    "# check if gene is a dict key, it means it has outgoing edges\n",
    "# check if gene is in a dict value, it means it has incoming edges\n",
    "\n",
    "\n",
    "def count_direct_int(gene, biological_network):\n",
    "    count = len(biological_network.get(gene,()))\n",
    "    for dr in biological_network.values():\n",
    "            count += dr.count(gene)\n",
    "    return count"
   ]
  },
  {
   "cell_type": "code",
   "execution_count": 12,
   "metadata": {},
   "outputs": [
    {
     "name": "stdout",
     "output_type": "stream",
     "text": [
      "Gene1 4\n",
      "Gene2 3\n",
      "Gene3 2\n",
      "Gene6 2\n"
     ]
    }
   ],
   "source": [
    "for test_gene in (\"Gene1\", \"Gene2\", \"Gene3\", \"Gene6\"):\n",
    "    count_val = count_direct_int(test_gene, network)\n",
    "    print(test_gene, count_val)"
   ]
  },
  {
   "cell_type": "code",
   "execution_count": null,
   "metadata": {},
   "outputs": [],
   "source": []
  },
  {
   "cell_type": "code",
   "execution_count": null,
   "metadata": {},
   "outputs": [],
   "source": []
  },
  {
   "cell_type": "markdown",
   "metadata": {},
   "source": [
    "_______\n",
    "### <font color = \"red\">Exercise</font> \n",
    "\n",
    "Explain what the following code does and describe how it computes the result it displays:\n"
   ]
  },
  {
   "cell_type": "code",
   "execution_count": 13,
   "metadata": {},
   "outputs": [],
   "source": [
    "\n",
    "genetic_code = {\n",
    "    'ATA':'I', 'ATC':'I', 'ATT':'I', 'ATG':'M',\n",
    "    'ACA':'T', 'ACC':'T', 'ACG':'T', 'ACT':'T',\n",
    "    'AAC':'N', 'AAT':'N', 'AAA':'K', 'AAG':'K',\n",
    "    'AGC':'S', 'AGT':'S', 'AGA':'R', 'AGG':'R',\n",
    "    'CTA':'L', 'CTC':'L', 'CTG':'L', 'CTT':'L',\n",
    "    'CCA':'P', 'CCC':'P', 'CCG':'P', 'CCT':'P',\n",
    "    'CAC':'H', 'CAT':'H', 'CAA':'Q', 'CAG':'Q',\n",
    "    'CGA':'R', 'CGC':'R', 'CGG':'R', 'CGT':'R',\n",
    "    'GTA':'V', 'GTC':'V', 'GTG':'V', 'GTT':'V',\n",
    "    'GCA':'A', 'GCC':'A', 'GCG':'A', 'GCT':'A',\n",
    "    'GAC':'D', 'GAT':'D', 'GAA':'E', 'GAG':'E',\n",
    "    'GGA':'G', 'GGC':'G', 'GGG':'G', 'GGT':'G',\n",
    "    'TCA':'S', 'TCC':'S', 'TCG':'S', 'TCT':'S',\n",
    "    'TTC':'F', 'TTT':'F', 'TTA':'L', 'TTG':'L',\n",
    "    'TAC':'Y', 'TAT':'Y', 'TAA':'_', 'TAG':'_',\n",
    "    'TGC':'C', 'TGT':'C', 'TGA':'_', 'TGG':'W'}\n"
   ]
  },
  {
   "cell_type": "code",
   "execution_count": 14,
   "metadata": {},
   "outputs": [],
   "source": [
    "def translate_seq(seq, trans_dict):\n",
    "    peptide = []\n",
    "    for i in range(0,len(seq)-2,3):\n",
    "        peptide.append(trans_dict.get(seq[i:i+3],\"\"))\n",
    "    return \"\".join(peptide)\n",
    "        "
   ]
  },
  {
   "cell_type": "code",
   "execution_count": 15,
   "metadata": {},
   "outputs": [
    {
     "data": {
      "text/plain": [
       "{'AARRM', 'SATPA'}"
      ]
     },
     "execution_count": 15,
     "metadata": {},
     "output_type": "execute_result"
    }
   ],
   "source": [
    "DNA_sequence = \"GCCGCGCGTAGGATGCC TCCGCAACCCCAGCGTaa\"\n",
    "peptide_set = set()\n",
    "for sequence in DNA_sequence.split():\n",
    "    peptide_set.add(translate_seq(sequence, genetic_code))\n",
    "    \n",
    "peptide_set"
   ]
  },
  {
   "cell_type": "code",
   "execution_count": 16,
   "metadata": {},
   "outputs": [
    {
     "data": {
      "text/plain": [
       "['GCCGCGCGTAGGATGCC', 'TCCGCAACCCCAGCGTaa']"
      ]
     },
     "execution_count": 16,
     "metadata": {},
     "output_type": "execute_result"
    }
   ],
   "source": [
    "DNA_sequence.split()"
   ]
  },
  {
   "cell_type": "markdown",
   "metadata": {},
   "source": [
    "The code above does the following:\n",
    "\n",
    "- Step 1: Initializes a variable genetic_code with a dictionary that has codons as keys and amino acids 1 letter abbreviations as values\n",
    "- Step 2: Defines a function to translate a (DNA) sequence of nucleotides into a sequence of amino acids.\n",
    "    - it takes a sequence and a genetic code (translation) dictionary as arguments\n",
    "    - it creates an empty list and assigns it to a variable peptide\n",
    "    - it goes through the indices from 0 to length of sequence - 2 by 3 (e.g. 0, 3,6,9, ...) using range and a for loop\n",
    "    - it takes three characters from the sequence starting at the indices given by the for loop\n",
    "    - gets the value from the dictionary for the key given by the three characters string computed as described above, the value is an amino acids 1 letter abbreviation\n",
    "         - if the value does not exist, the get function applied to the dictionary is set up to return an empty string\n",
    "    - it appends the value returned at the previous sub-step to the peptide list\n",
    "    - it returns the string formed by joining all elements of the peptide list by the empty string (\"\")\n",
    "- Step 3: Initializes a variable with a string containing a DNA sequence - DNA_sequence = \"GCCGCGCGTAGGATGCC TCCGCAACCCCAGCGTaa\"\n",
    "    - it creates an empty set and assigns it to a variable peptide_set\n",
    "    - breaks the DNA_sequence string by white space (spaces ot tab) into a list of substrings and goes through the list\n",
    "    - applies the function translate_seq to each substring using also the genetic_code dictionary as the translation dictionary and adds the resulting peptide string to the set of peptides (peptide_set)\n",
    "    - displays the value in the peptide_set variable"
   ]
  },
  {
   "cell_type": "code",
   "execution_count": null,
   "metadata": {},
   "outputs": [],
   "source": []
  },
  {
   "cell_type": "code",
   "execution_count": null,
   "metadata": {},
   "outputs": [],
   "source": []
  },
  {
   "cell_type": "code",
   "execution_count": null,
   "metadata": {},
   "outputs": [],
   "source": []
  },
  {
   "cell_type": "code",
   "execution_count": null,
   "metadata": {},
   "outputs": [],
   "source": []
  }
 ],
 "metadata": {
  "kernelspec": {
   "display_name": "Python 3",
   "language": "python",
   "name": "python3"
  },
  "language_info": {
   "codemirror_mode": {
    "name": "ipython",
    "version": 3
   },
   "file_extension": ".py",
   "mimetype": "text/x-python",
   "name": "python",
   "nbconvert_exporter": "python",
   "pygments_lexer": "ipython3",
   "version": "3.8.3"
  }
 },
 "nbformat": 4,
 "nbformat_minor": 4
}
