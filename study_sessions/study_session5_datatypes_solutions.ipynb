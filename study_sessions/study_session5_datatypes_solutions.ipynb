{
 "cells": [
  {
   "cell_type": "markdown",
   "metadata": {},
   "source": [
    "## Study session 5 - Data types - strings and lists\n",
    "### BIOINF 575 - Fall 2020\n"
   ]
  },
  {
   "cell_type": "markdown",
   "metadata": {},
   "source": [
    "To loop through a sequence (tuple, list or dictionary values or items) of elements use:\n",
    "Indent the code you want to repeat, the for loop ends \n",
    "\n",
    "```python\n",
    "for var in sequence:\n",
    "    statements  #indented\n",
    "\n",
    "statements after the loop #not indented \n",
    "```\n",
    "\n",
    "________"
   ]
  },
  {
   "cell_type": "markdown",
   "metadata": {},
   "source": [
    "\n",
    "\n",
    "<img src = \"https://pixy.org/src/37/thumbs350/372053.jpg\" width = \"300\"/>\n",
    "\n",
    "https://pixy.org/372053/\n",
    "\n"
   ]
  },
  {
   "cell_type": "markdown",
   "metadata": {},
   "source": [
    "_____\n",
    "### <font color = \"red\">Exercise</font>\n",
    "\n",
    "- Create the dictionary containing the amino acid letter abreviation as key and a tuple of the corresponding codons as values for the letter abreviations PQ & M.\n",
    "- Try to translate the following peptide sequence into DNA code\n",
    "- For a given key (e.g. key = \"P\") change all the T nucleotides into U (uracil, mRNA base).\n",
    "\n",
    "\n"
   ]
  },
  {
   "cell_type": "code",
   "execution_count": 1,
   "metadata": {},
   "outputs": [],
   "source": [
    "peptide_sequence = \"PQQMMMPQMMPQM\"\n"
   ]
  },
  {
   "cell_type": "code",
   "execution_count": null,
   "metadata": {},
   "outputs": [],
   "source": []
  },
  {
   "cell_type": "code",
   "execution_count": 2,
   "metadata": {},
   "outputs": [],
   "source": [
    "# SOLUTION \n",
    "\n",
    "amino_acid_code = { \n",
    "    \"P\": (\"CCA\", \"CCC\", \"CCT\", \"CCG\"),\n",
    "    \"Q\": (\"CAA\", \"CAG\"),\n",
    "    \"M\": (\"ATG\",)\n",
    "}"
   ]
  },
  {
   "cell_type": "code",
   "execution_count": 3,
   "metadata": {},
   "outputs": [
    {
     "data": {
      "text/plain": [
       "'CCACAACAAATGATGATGCCACAAATGATGCCACAAATG'"
      ]
     },
     "execution_count": 3,
     "metadata": {},
     "output_type": "execute_result"
    }
   ],
   "source": [
    "peptide_code = []\n",
    "for amino_acid in peptide_sequence:\n",
    "    peptide_code.append(amino_acid_code[amino_acid][0])\n",
    "\"\".join(peptide_code)"
   ]
  },
  {
   "cell_type": "code",
   "execution_count": 4,
   "metadata": {},
   "outputs": [
    {
     "data": {
      "text/plain": [
       "{'P': ('CCA', 'CCC', 'CCU', 'CCG'), 'Q': ('CAA', 'CAG'), 'M': ('ATG',)}"
      ]
     },
     "execution_count": 4,
     "metadata": {},
     "output_type": "execute_result"
    }
   ],
   "source": [
    "key = \"P\"\n",
    "key_code = []\n",
    "for codon in amino_acid_code[key]:\n",
    "    key_code.append(codon.replace(\"T\",\"U\"))\n",
    "amino_acid_code[key] = tuple(key_code)\n",
    "amino_acid_code"
   ]
  },
  {
   "cell_type": "markdown",
   "metadata": {},
   "source": [
    "_____\n",
    "### <font color = \"red\">Exercise</font>\n",
    "\n",
    "- Translate the following DNA code sequence into a peptide sequence?\n"
   ]
  },
  {
   "cell_type": "code",
   "execution_count": 5,
   "metadata": {},
   "outputs": [],
   "source": [
    "\n",
    "genetic_code = {\n",
    "    'ATA':'I', 'ATC':'I', 'ATT':'I', 'ATG':'M',\n",
    "    'ACA':'T', 'ACC':'T', 'ACG':'T', 'ACT':'T',\n",
    "    'AAC':'N', 'AAT':'N', 'AAA':'K', 'AAG':'K',\n",
    "    'AGC':'S', 'AGT':'S', 'AGA':'R', 'AGG':'R',\n",
    "    'CTA':'L', 'CTC':'L', 'CTG':'L', 'CTT':'L',\n",
    "    'CCA':'P', 'CCC':'P', 'CCG':'P', 'CCT':'P',\n",
    "    'CAC':'H', 'CAT':'H', 'CAA':'Q', 'CAG':'Q',\n",
    "    'CGA':'R', 'CGC':'R', 'CGG':'R', 'CGT':'R',\n",
    "    'GTA':'V', 'GTC':'V', 'GTG':'V', 'GTT':'V',\n",
    "    'GCA':'A', 'GCC':'A', 'GCG':'A', 'GCT':'A',\n",
    "    'GAC':'D', 'GAT':'D', 'GAA':'E', 'GAG':'E',\n",
    "    'GGA':'G', 'GGC':'G', 'GGG':'G', 'GGT':'G',\n",
    "    'TCA':'S', 'TCC':'S', 'TCG':'S', 'TCT':'S',\n",
    "    'TTC':'F', 'TTT':'F', 'TTA':'L', 'TTG':'L',\n",
    "    'TAC':'Y', 'TAT':'Y', 'TAA':'_', 'TAG':'_',\n",
    "    'TGC':'C', 'TGT':'C', 'TGA':'_', 'TGG':'W'}\n",
    "\n",
    "DNA_sequence = \"GCCGCGCGTAGGATGCCTCCGCAACCCCAGCGTaa\"\n"
   ]
  },
  {
   "cell_type": "code",
   "execution_count": null,
   "metadata": {},
   "outputs": [],
   "source": []
  },
  {
   "cell_type": "code",
   "execution_count": 9,
   "metadata": {},
   "outputs": [
    {
     "data": {
      "text/plain": [
       "'AARRMPPQPQR'"
      ]
     },
     "execution_count": 9,
     "metadata": {},
     "output_type": "execute_result"
    }
   ],
   "source": [
    "# Solution \n",
    "\n",
    "peptide_seq = []\n",
    "for i in range(0,len(DNA_sequence),3):\n",
    "    peptide_seq.append(genetic_code.get(DNA_sequence[i:(i+3)],\"\"))\n",
    "peptide_seq = \"\".join(peptide_seq)\n",
    "peptide_seq"
   ]
  },
  {
   "cell_type": "markdown",
   "metadata": {},
   "source": [
    "____\n",
    "### <font color = \"red\">Exercise</font>\n",
    "\n",
    "- Given the peptides sequence created in the previous exercise create a set of all 2 amino acids sequences from the peptide\n",
    "- Add the following 2 sequences to your set {\"MN\", \"AL\"}\n",
    "\n"
   ]
  },
  {
   "cell_type": "code",
   "execution_count": 25,
   "metadata": {},
   "outputs": [
    {
     "data": {
      "text/plain": [
       "{'AA', 'MP', 'PQ', 'RR'}"
      ]
     },
     "execution_count": 25,
     "metadata": {},
     "output_type": "execute_result"
    }
   ],
   "source": [
    "# SOLUTION\n",
    "\n",
    "seq_set = []\n",
    "stop = len(peptide_seq)\n",
    "if stop%2:\n",
    "    stop = stop - 1\n",
    "for i in range(0,stop,2):\n",
    "    seq_set.append(peptide_seq[i:(i+2)])\n",
    "\n",
    "seq_set = set(seq_set)  \n",
    "seq_set"
   ]
  },
  {
   "cell_type": "code",
   "execution_count": 26,
   "metadata": {},
   "outputs": [
    {
     "data": {
      "text/plain": [
       "{'AA', 'AL', 'MN', 'MP', 'PQ', 'RR'}"
      ]
     },
     "execution_count": 26,
     "metadata": {},
     "output_type": "execute_result"
    }
   ],
   "source": [
    "seq_set.update({\"MN\", \"AL\"})\n",
    "seq_set"
   ]
  },
  {
   "cell_type": "markdown",
   "metadata": {},
   "source": [
    "_______\n",
    "### <font color = \"red\">Exercise</font> \n",
    "\n",
    "Explain what the following code does and decsribe how it computes the result it displays:\n"
   ]
  },
  {
   "cell_type": "code",
   "execution_count": 7,
   "metadata": {},
   "outputs": [
    {
     "data": {
      "text/plain": [
       "{'A', 'C', 'G', 'T'}"
      ]
     },
     "execution_count": 7,
     "metadata": {},
     "output_type": "execute_result"
    }
   ],
   "source": [
    "x = set()\n",
    "for value in amino_acid_code.values():\n",
    "    for codon in value:\n",
    "        if \"U\" in codon:\n",
    "            codon = codon.replace(\"U\",\"T\")\n",
    "        x.update(codon)\n",
    "x"
   ]
  },
  {
   "cell_type": "markdown",
   "metadata": {},
   "source": [
    "The code above does the following:\n",
    "\n",
    "- Step 1: "
   ]
  },
  {
   "cell_type": "markdown",
   "metadata": {},
   "source": [
    "##### SOLUTION\n",
    "\n",
    "The code go through the amino_acid_code dictionary values (which are the codon tuples) and for each codon it changes U with T and then updates the set with the codon letters (string is a sequence type so the set update will be applied as an add of each letter). It then displays the set of letters (it will be the set of the 4 nucleotides: A C G and T)."
   ]
  }
 ],
 "metadata": {
  "kernelspec": {
   "display_name": "Python 3",
   "language": "python",
   "name": "python3"
  },
  "language_info": {
   "codemirror_mode": {
    "name": "ipython",
    "version": 3
   },
   "file_extension": ".py",
   "mimetype": "text/x-python",
   "name": "python",
   "nbconvert_exporter": "python",
   "pygments_lexer": "ipython3",
   "version": "3.8.3"
  }
 },
 "nbformat": 4,
 "nbformat_minor": 4
}
