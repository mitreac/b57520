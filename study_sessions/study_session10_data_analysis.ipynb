{
 "cells": [
  {
   "cell_type": "markdown",
   "metadata": {},
   "source": [
    "## Study session 10 - data analysis\n",
    "### BIOINF 575 - Fall 2020\n"
   ]
  },
  {
   "cell_type": "markdown",
   "metadata": {},
   "source": [
    "____\n",
    "\n",
    "### <font color = \"red\">Exercise</font>\n",
    "\n",
    "[ClinVar][1] is a freely accessible, public archive of reports of the relationships among human variations and phenotypes, with supporting evidence.\n",
    "\n",
    "\n",
    "The data you will be working with (`clinvar.vcf`).  More information about the database can be found [here][3].\n",
    "\n",
    "From: https://ftp.ncbi.nlm.nih.gov/pub/clinvar/vcf_GRCh38/\n",
    "\n",
    "Download the file clinvar.vcf.gz\n",
    "\n",
    "\n",
    "### The file format\n",
    "The beginning of every VCF file contains various sets of information:\n",
    "* Meta-information (details about the experiment or configuration) lines start with **`##`**\n",
    "    * These lines are helpful in understanding specialized keys found in the `INFO` column. It is in these sections that one can find:\n",
    "        * The description of the key\n",
    "        * The data type of the values\n",
    "        * The default value of the values\n",
    "* Header lines (column names) start with **`#`**\n",
    "\n",
    "From there on, each line is made up of tab (`\\t`) separated values that make up eight (8) columns. Those columns are:\n",
    "1. CHROM (chromosome)\n",
    "2. POS (base pair position of the variant)\n",
    "3. ID (identifier if applicable; `.` if not applicable/missing)\n",
    "4. REF (reference base)\n",
    "5. ALT (alternate base(s): comma (`,`) separated if applicable)\n",
    "6. QUAL (Phred-scaled quality score; `.` if not applicable/missing)\n",
    "7. FILTER (filter status; `.` if not applicable/missing)\n",
    "8. INFO (any additional information about the variant)\n",
    "    * Semi-colon (`;`) separated key-value pairs\n",
    "    * Key-value pairs are equal sign (`=`) separated (key on the left, value on the right)\n",
    "    * If a key has multiple values, the values are pipe (`|`) separated\n",
    "\n",
    "---\n",
    "[1]: https://www.ncbi.nlm.nih.gov/clinvar/intro/\n",
    "[2]: https://samtools.github.io/hts-specs/VCFv4.3.pdf\n",
    "[3]: http://exac.broadinstitute.org\n",
    "\n",
    "\n",
    "We also have a file with the gene expression for 45h every three hours for breast cancer cells treated with a HER2 inhibitor, `GSE22955_small_gene_table.txt`.\n",
    "This is in the class_notebooks folder.\n",
    "https://www.ncbi.nlm.nih.gov/geo/query/acc.cgi?acc=GSE22955"
   ]
  },
  {
   "cell_type": "markdown",
   "metadata": {},
   "source": [
    "### - Load the data from the 2 files in pandas dataframes"
   ]
  },
  {
   "cell_type": "code",
   "execution_count": null,
   "metadata": {},
   "outputs": [],
   "source": []
  },
  {
   "cell_type": "code",
   "execution_count": null,
   "metadata": {},
   "outputs": [],
   "source": []
  },
  {
   "cell_type": "markdown",
   "metadata": {},
   "source": [
    "______\n",
    "\n",
    "#### - Select only 5 genes of interest from the expression data frame TP53, BARD1, BRCA1, MAPK1, CHEK2"
   ]
  },
  {
   "cell_type": "code",
   "execution_count": null,
   "metadata": {},
   "outputs": [],
   "source": []
  },
  {
   "cell_type": "code",
   "execution_count": null,
   "metadata": {},
   "outputs": [],
   "source": []
  },
  {
   "cell_type": "code",
   "execution_count": null,
   "metadata": {},
   "outputs": [],
   "source": []
  },
  {
   "cell_type": "markdown",
   "metadata": {},
   "source": [
    "#### - Plot the expression of these genes "
   ]
  },
  {
   "cell_type": "code",
   "execution_count": null,
   "metadata": {},
   "outputs": [],
   "source": []
  },
  {
   "cell_type": "code",
   "execution_count": null,
   "metadata": {},
   "outputs": [],
   "source": []
  },
  {
   "cell_type": "markdown",
   "metadata": {},
   "source": [
    "______\n",
    "\n",
    "#### - Select only genes that have a standard dev > 0.7 and a change between hour 0 and hour 45 > 1.4 fold.\n"
   ]
  },
  {
   "cell_type": "code",
   "execution_count": null,
   "metadata": {},
   "outputs": [],
   "source": []
  },
  {
   "cell_type": "code",
   "execution_count": null,
   "metadata": {},
   "outputs": [],
   "source": []
  },
  {
   "cell_type": "code",
   "execution_count": null,
   "metadata": {},
   "outputs": [],
   "source": []
  },
  {
   "cell_type": "markdown",
   "metadata": {},
   "source": [
    "#### - Plot the expression of these genes"
   ]
  },
  {
   "cell_type": "code",
   "execution_count": null,
   "metadata": {},
   "outputs": [],
   "source": []
  },
  {
   "cell_type": "code",
   "execution_count": null,
   "metadata": {},
   "outputs": [],
   "source": []
  },
  {
   "cell_type": "code",
   "execution_count": null,
   "metadata": {},
   "outputs": [],
   "source": []
  },
  {
   "cell_type": "markdown",
   "metadata": {},
   "source": [
    "#### - From the VCF file identify the genes for each variant from the info column GENEINFO key\n"
   ]
  },
  {
   "cell_type": "code",
   "execution_count": null,
   "metadata": {},
   "outputs": [],
   "source": []
  },
  {
   "cell_type": "code",
   "execution_count": null,
   "metadata": {},
   "outputs": [],
   "source": []
  },
  {
   "cell_type": "code",
   "execution_count": null,
   "metadata": {},
   "outputs": [],
   "source": []
  },
  {
   "cell_type": "markdown",
   "metadata": {},
   "source": [
    "#### - Select only the variants for our genes of interest:"
   ]
  },
  {
   "cell_type": "code",
   "execution_count": null,
   "metadata": {},
   "outputs": [],
   "source": []
  },
  {
   "cell_type": "code",
   "execution_count": null,
   "metadata": {},
   "outputs": [],
   "source": []
  },
  {
   "cell_type": "code",
   "execution_count": null,
   "metadata": {},
   "outputs": [],
   "source": []
  }
 ],
 "metadata": {
  "kernelspec": {
   "display_name": "Python 3",
   "language": "python",
   "name": "python3"
  },
  "language_info": {
   "codemirror_mode": {
    "name": "ipython",
    "version": 3
   },
   "file_extension": ".py",
   "mimetype": "text/x-python",
   "name": "python",
   "nbconvert_exporter": "python",
   "pygments_lexer": "ipython3",
   "version": "3.8.3"
  }
 },
 "nbformat": 4,
 "nbformat_minor": 4
}
