{
 "cells": [
  {
   "cell_type": "markdown",
   "metadata": {},
   "source": [
    "## Study session 11 - classes\n",
    "### BIOINF 575 - Fall 2020\n"
   ]
  },
  {
   "cell_type": "markdown",
   "metadata": {},
   "source": [
    "### Resources - classes and object oriented programming\n",
    "\n",
    "https://docs.python.org/3/tutorial/classes.html   \n",
    "https://www.python-course.eu/python3_properties.php   \n",
    "https://www.tutorialspoint.com/python3/python_classes_objects.htm   \n",
    "https://www.w3schools.com/python/python_classes.asp   \n",
    "https://www.geeksforgeeks.org/python-classes-and-objects/    "
   ]
  },
  {
   "cell_type": "markdown",
   "metadata": {},
   "source": [
    "____\n",
    "\n",
    "#### Below is the Pileup class to provide functionality for a pileup object that stores information regarding alignment at a specific genomic position.\n"
   ]
  },
  {
   "cell_type": "code",
   "execution_count": null,
   "metadata": {},
   "outputs": [],
   "source": [
    "# Pileup Object\n",
    "class Pileup:\n",
    "    \"\"\"\n",
    "    Contains a counter of nulceotides aligned at a genomic position and \n",
    "    computes depth and consensus for a genomic position\n",
    "    \n",
    "    Attributes:\n",
    "    counts (Counter):  counter of all nucleotides aligned at the genomic position\n",
    "    depth (int): total number of reads aligned at the genomic position\n",
    "    consensus (str): most common nucleotide\n",
    "    \"\"\"\n",
    "    \n",
    "    \n",
    "    def __init__(self, counts = None):\n",
    "        self.counts = counts\n",
    "        if self.counts == None:\n",
    "            self.counts = Counter()\n",
    "        self.depth = sum(self.counts.values())\n",
    "        if self.depth == 0:\n",
    "            self.__consensus = \"\"        \n",
    "        else:\n",
    "            self.__consensus = self.counts.most_common()[0][0]\n",
    "\n",
    "    @property # getter\n",
    "    def consensus(self):\n",
    "        \"\"\"\n",
    "        Get the consensus nucleotide for the pileup\n",
    "        \"\"\"\n",
    "        return self.__consensus\n",
    "    \n",
    "    # @set.consensus # property setter\n",
    "    # def consensus(self, cons):\n",
    "    #    self.__consensus = consensus\n",
    "        \n",
    "\n",
    "    def __str__(self):\n",
    "        return f\"Pileup({self.counts})\"\n",
    "    \n",
    "    def __repr__(self):\n",
    "        return f\"Pileup({self.counts})\"\n",
    "    \n",
    "    def __add__(self, p):\n",
    "        c = self.counts.copy()\n",
    "        c.update(p.counts)\n",
    "        return Pileup(c)\n",
    "        \n",
    "        \n",
    "    def update(self, seq):\n",
    "        \"\"\"\n",
    "        Update the countes depth and consensus nucleotide for the pileup\n",
    "        given new nucleotides to add to the pileup\n",
    "        \"\"\"\n",
    "        self.counts.update(seq)\n",
    "        self.depth = sum(self.counts.values())\n",
    "        self.__consensus = self.counts.most_common()[0][0]\n",
    "\n"
   ]
  },
  {
   "cell_type": "markdown",
   "metadata": {},
   "source": [
    "### <font color = \"red\">Exercise</font>\n",
    "#### - Make the Pileup attribute depth read only\n",
    "#### - Test the change"
   ]
  },
  {
   "cell_type": "code",
   "execution_count": null,
   "metadata": {},
   "outputs": [],
   "source": []
  },
  {
   "cell_type": "code",
   "execution_count": null,
   "metadata": {},
   "outputs": [],
   "source": []
  },
  {
   "cell_type": "code",
   "execution_count": null,
   "metadata": {},
   "outputs": [],
   "source": []
  },
  {
   "cell_type": "markdown",
   "metadata": {},
   "source": [
    "### <font color = \"red\">Exercise</font>\n",
    "#### - Implement a dunder method so that we can apply the `len()` function to the pileup object \n",
    "#### - Test the change"
   ]
  },
  {
   "cell_type": "code",
   "execution_count": null,
   "metadata": {},
   "outputs": [],
   "source": []
  },
  {
   "cell_type": "code",
   "execution_count": null,
   "metadata": {},
   "outputs": [],
   "source": []
  },
  {
   "cell_type": "code",
   "execution_count": null,
   "metadata": {},
   "outputs": [],
   "source": []
  },
  {
   "cell_type": "markdown",
   "metadata": {},
   "source": [
    "### <font color = \"red\">Exercise</font>\n",
    "#### - Create a list of 10 Pileup objects\n",
    "#### - Update the pileup objects with the corresponding sequences fom the following list."
   ]
  },
  {
   "cell_type": "code",
   "execution_count": null,
   "metadata": {},
   "outputs": [],
   "source": [
    "seq_list = [\"CCCCATTTG\",\"CATTTAG\",\"GGGATC\",\"AACTGA\", \"GCCCTAA\", \"CCCCATTTG\", \"AAAAAC\",\"TTTTTTG\",\"GGGGAT\", \"TTTTA\"]"
   ]
  },
  {
   "cell_type": "code",
   "execution_count": null,
   "metadata": {},
   "outputs": [],
   "source": []
  },
  {
   "cell_type": "code",
   "execution_count": null,
   "metadata": {},
   "outputs": [],
   "source": []
  },
  {
   "cell_type": "code",
   "execution_count": null,
   "metadata": {},
   "outputs": [],
   "source": []
  },
  {
   "cell_type": "code",
   "execution_count": null,
   "metadata": {},
   "outputs": [],
   "source": []
  },
  {
   "cell_type": "markdown",
   "metadata": {},
   "source": [
    "### <font color = \"red\">Exercise</font>\n",
    "#### - Implement a method that compares the pileup it is called for with another given pileup and returns a tuple with the consensus for the two pileups and the ratio of the consensus frequencies available for the consensus in the counts attribute. \n",
    "#### - Test the change"
   ]
  },
  {
   "cell_type": "code",
   "execution_count": null,
   "metadata": {},
   "outputs": [],
   "source": []
  },
  {
   "cell_type": "code",
   "execution_count": null,
   "metadata": {},
   "outputs": [],
   "source": []
  },
  {
   "cell_type": "code",
   "execution_count": null,
   "metadata": {},
   "outputs": [],
   "source": []
  }
 ],
 "metadata": {
  "kernelspec": {
   "display_name": "Python 3",
   "language": "python",
   "name": "python3"
  },
  "language_info": {
   "codemirror_mode": {
    "name": "ipython",
    "version": 3
   },
   "file_extension": ".py",
   "mimetype": "text/x-python",
   "name": "python",
   "nbconvert_exporter": "python",
   "pygments_lexer": "ipython3",
   "version": "3.8.3"
  }
 },
 "nbformat": 4,
 "nbformat_minor": 4
}
