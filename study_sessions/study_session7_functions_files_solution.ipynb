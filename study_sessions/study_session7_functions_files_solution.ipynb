{
 "cells": [
  {
   "cell_type": "markdown",
   "metadata": {},
   "source": [
    "## Study session 7 - functions and read & write files \n",
    "### BIOINF 575 - Fall 2020\n",
    "SOLUTIONS"
   ]
  },
  {
   "cell_type": "markdown",
   "metadata": {},
   "source": [
    "_____\n",
    "#### Function Definition - creating the function"
   ]
  },
  {
   "cell_type": "markdown",
   "metadata": {},
   "source": [
    "```python\n",
    "def function_name(arg1, arg2, darg=None):\n",
    "    # instructions to compute result\n",
    "    return result\n",
    "```"
   ]
  },
  {
   "cell_type": "markdown",
   "metadata": {},
   "source": [
    "#### Function Call - running the function"
   ]
  },
  {
   "cell_type": "markdown",
   "metadata": {},
   "source": [
    "```python\n",
    "function_result = function_name(val1, val2, dval)\n",
    "```"
   ]
  },
  {
   "cell_type": "markdown",
   "metadata": {},
   "source": [
    "____\n",
    "\n",
    "#### Open a file for reading or writing   \n",
    " \n",
    "https://docs.python.org/3/library/functions.html#open\n",
    "\n",
    "```python\n",
    "open(file, mode='r', buffering=-1, encoding=None, errors=None, newline=None, closefd=True, opener=None)\n",
    " \n",
    "fileObj = open(fileName, ‘r’) # open file for reading, r+\n",
    "fileObj = open(fileName, ‘w’) # open file for writing, w+\n",
    "fileObj = open(fileName, ‘a’) # open file for appending, a+\n",
    "```\n",
    "(Note: fileName must be a string or reference to one)\n",
    "\n",
    "The file object is iterable by line\n",
    "\n",
    "```python\n",
    "for line in fileObj:\n",
    "    ## statements to compute results\n",
    "```"
   ]
  },
  {
   "cell_type": "markdown",
   "metadata": {},
   "source": [
    "____\n",
    "#### Gene regulatory network\n",
    "\n",
    "\"Formally speaking, a gene regulatory network or genetic regulatory network (GRN) is a collection of DNA segments in a cell which interact with each other (indirectly through their RNA and protein expression products) and with other substances in the cell, thereby governing the rates at which genes in the network are transcribed into mRNA. In general, each mRNA molecule goes on to make a specific protein (or set of proteins).\"  \n",
    "https://link.springer.com/referenceworkentry/10.1007%2F978-1-4419-9863-7_364\n",
    "\n",
    "https://www.ncbi.nlm.nih.gov/books/NBK26806/  \n",
    "https://www.ncbi.nlm.nih.gov/books/NBK21050/  \n",
    "https://www.ncbi.nlm.nih.gov/books/NBK26872/   \n",
    "https://www.sciencedirect.com/topics/biochemistry-genetics-and-molecular-biology/gene-repression   \n",
    "https://www.cell.com/cell/pdf/S0092-8674(18)30106-5.pdf   \n",
    "https://medlineplus.gov/genetics/understanding/howgeneswork/geneonoff/   \n",
    "\n",
    "<img src = \"https://media.springernature.com/original/springer-static/image/prt%3A978-1-4419-9863-7%2F7/MediaObjects/978-1-4419-9863-7_7_Part_Fig1-364_HTML.gif\" width = 200/>\n",
    "\n"
   ]
  },
  {
   "cell_type": "markdown",
   "metadata": {},
   "source": [
    "_____\n",
    "### <font color = \"red\">Exercise</font>\n",
    "\n",
    "We have below the dictionary representing the above network where the genes that activate other genes are keys and values are tuples of the genes they directly activate (orange arrow from the key gene to the gene in the tuple that is the value). \n",
    "- Create a list with genes that have a repression regulatory interaction (blue edge) from another gene (e.g. Gene2 is repressed by Gene5 so Gene2 should be in this list)\n"
   ]
  },
  {
   "cell_type": "code",
   "execution_count": 1,
   "metadata": {},
   "outputs": [],
   "source": [
    "network = {'Gene1': ('Gene2',),\n",
    " 'Gene2': ('Gene6',),\n",
    " 'Gene3': ('Gene1', 'Gene5'),\n",
    " 'Gene4': ('Gene2',),\n",
    " 'Gene5': ('Gene1',),\n",
    " 'Gene6': ('Gene1',)}"
   ]
  },
  {
   "cell_type": "code",
   "execution_count": 2,
   "metadata": {},
   "outputs": [
    {
     "data": {
      "text/plain": [
       "['Gene2', 'Gene3', 'Gene6']"
      ]
     },
     "execution_count": 2,
     "metadata": {},
     "output_type": "execute_result"
    }
   ],
   "source": [
    "repressed_genes = [\"Gene2\", \"Gene3\", \"Gene6\"]\n",
    "repressed_genes"
   ]
  },
  {
   "cell_type": "code",
   "execution_count": null,
   "metadata": {},
   "outputs": [],
   "source": []
  },
  {
   "cell_type": "markdown",
   "metadata": {},
   "source": [
    "### <font color = \"red\">Exercise</font>\n",
    "\n",
    "- Write a function that, for a given gene, uses the dictionary and the list mentioned above and computes a <b>list of the genes that the given gene directly activates</b> (there is an orange arrow form the given gene to the gene it directly activates) <b>and that are not also being repressed by another gene</b>.\n",
    "    - Test the function for at least three cases.\n",
    "\n",
    "\n"
   ]
  },
  {
   "cell_type": "code",
   "execution_count": 3,
   "metadata": {},
   "outputs": [
    {
     "ename": "IndentationError",
     "evalue": "unexpected indent (<ipython-input-3-ff1b14d69dbf>, line 14)",
     "output_type": "error",
     "traceback": [
      "\u001b[0;36m  File \u001b[0;32m\"<ipython-input-3-ff1b14d69dbf>\"\u001b[0;36m, line \u001b[0;32m14\u001b[0m\n\u001b[0;31m    for diract_gene in network_dictionary.get(regulator_gene,()):\u001b[0m\n\u001b[0m    ^\u001b[0m\n\u001b[0;31mIndentationError\u001b[0m\u001b[0;31m:\u001b[0m unexpected indent\n"
     ]
    }
   ],
   "source": [
    "#compute_directly_activated_gene_list_with_no_repression\n",
    "def compute_diract_gene(regulator_gene, network_dictionary = network, rep_genes = repressed_genes):\n",
    "    '''\n",
    "    Compute directly activated gene list with no repression for a given gene using \n",
    "    the network dictionary and the repressed list genes.\n",
    "    regulator_gene (str): the gene we compute the list of directly activated gene list\n",
    "    reg_network (dict): dictionary representing a regulatory network where the genes that activate other genes are keys \n",
    "                        and values are tuples of the genes they directly activate \n",
    "    rep_genes (list): list with genes that have a repression regulatory interaction (blue edge) from another gene\n",
    "    returns (list) list of the genes that the given gene directly activates \n",
    "                   and that are not also being repressed by another gene\n",
    "    '''\n",
    "    diract_gene_list = []\n",
    "        for diract_gene in network_dictionary.get(regulator_gene,()):\n",
    "            if not diract_gene in repressed_genes:\n",
    "                diract_gene_list.append(diract_gene)\n",
    "    return diract_gene_list"
   ]
  },
  {
   "cell_type": "code",
   "execution_count": null,
   "metadata": {},
   "outputs": [],
   "source": [
    "#compute_directly_activated_gene_list_with_no_repression\n",
    "def compute_diract_gene(regulator_gene, network_dictionary = network, rep_genes = repressed_genes):\n",
    "    '''\n",
    "    Compute directly activated gene list with no repression for a given gene using \n",
    "    the network dictionary and the repressed list genes.\n",
    "    regulator_gene (str): the gene we compute the list of directly activated gene list\n",
    "    reg_network (dict): dictionary representing a regulatory network where the genes that activate other genes are keys \n",
    "                        and values are tuples of the genes they directly activate \n",
    "    rep_genes (list): list with genes that have a repression regulatory interaction (blue edge) from another gene\n",
    "    returns (list) list of the genes that the given gene directly activates \n",
    "                   and that are not also being repressed by another gene\n",
    "    '''\n",
    "    diract_gene_list = []\n",
    "    for diract_gene in network_dictionary.get(regulator_gene,()):\n",
    "        if not diract_gene in repressed_genes:\n",
    "            diract_gene_list.append(diract_gene)\n",
    "    return diract_gene_list"
   ]
  },
  {
   "cell_type": "code",
   "execution_count": null,
   "metadata": {},
   "outputs": [],
   "source": [
    "#compute_directly_activated_gene_list_with_no_repression\n",
    "def compute_diract_gene(regulator_gene, network_dictionary = network, rep_genes = repressed_genes):\n",
    "    '''\n",
    "    Compute directly activated gene list with no repression for a given gene using \n",
    "    the network dictionary and the repressed list genes.\n",
    "    regulator_gene (str): the gene we compute the list of directly activated gene list\n",
    "    reg_network (dict): dictionary representing a regulatory network where the genes that activate other genes are keys \n",
    "                        and values are tuples of the genes they directly activate \n",
    "    rep_genes (list): list with genes that have a repression regulatory interaction (blue edge) from another gene\n",
    "    returns (list) list of the genes that the given gene directly activates \n",
    "                   and that are not also being repressed by another gene\n",
    "    '''\n",
    "    diract_gene_list = list(filter(lambda diract_gene: not diract_gene in repressed_genes, \n",
    "                                   network_dictionary.get(regulator_gene,())))\n",
    "    return diract_gene_list"
   ]
  },
  {
   "cell_type": "code",
   "execution_count": null,
   "metadata": {},
   "outputs": [],
   "source": [
    "#compute_directly_activated_gene_list_with_no_repression\n",
    "def compute_diract_gene(regulator_gene, network_dictionary = network, rep_genes = repressed_genes):\n",
    "    '''\n",
    "    Compute directly activated gene list with no repression for a given gene using \n",
    "    the network dictionary and the repressed list genes.\n",
    "    regulator_gene (str): the gene we compute the list of directly activated gene list\n",
    "    reg_network (dict): dictionary representing a regulatory network where the genes that activate other genes are keys \n",
    "                        and values are tuples of the genes they directly activate \n",
    "    rep_genes (list): list with genes that have a repression regulatory interaction (blue edge) from another gene\n",
    "    returns (list) list of the genes that the given gene directly activates \n",
    "                   and that are not also being repressed by another gene\n",
    "    '''\n",
    "    diract_gene_list = list(set(network_dictionary.get(regulator_gene,())).difference(set(repressed_genes)))\n",
    "    return diract_gene_list"
   ]
  },
  {
   "cell_type": "code",
   "execution_count": null,
   "metadata": {},
   "outputs": [],
   "source": []
  },
  {
   "cell_type": "code",
   "execution_count": null,
   "metadata": {},
   "outputs": [],
   "source": [
    "help(compute_diract_gene)"
   ]
  },
  {
   "cell_type": "code",
   "execution_count": null,
   "metadata": {},
   "outputs": [],
   "source": [
    "compute_diract_gene(\"Gene3\")"
   ]
  },
  {
   "cell_type": "code",
   "execution_count": null,
   "metadata": {},
   "outputs": [],
   "source": [
    "compute_diract_gene(\"Gene2\")"
   ]
  },
  {
   "cell_type": "code",
   "execution_count": null,
   "metadata": {},
   "outputs": [],
   "source": [
    "compute_diract_gene(\"Gene6\")"
   ]
  },
  {
   "cell_type": "markdown",
   "metadata": {},
   "source": [
    "### <font color = \"red\">Exercise</font>\n",
    "\n",
    "- Use the map function and apply the function above to the following 3 genes (\"Gene2\", \"Gene3\", \"Gene5\") \n",
    "\n",
    "\n",
    "\n"
   ]
  },
  {
   "cell_type": "code",
   "execution_count": null,
   "metadata": {},
   "outputs": [],
   "source": [
    "test_genes = (\"Gene2\", \"Gene3\", \"Gene5\")\n",
    "diract_genes_lists = list(map(compute_diract_gene, test_genes))\n",
    "diract_genes_lists"
   ]
  },
  {
   "cell_type": "code",
   "execution_count": null,
   "metadata": {},
   "outputs": [],
   "source": []
  },
  {
   "cell_type": "markdown",
   "metadata": {},
   "source": [
    "### <font color = \"red\">Exercise</font>\n",
    "\n",
    "- Use the map function to make the lists in the result above sets\n",
    "\n",
    "\n",
    "\n"
   ]
  },
  {
   "cell_type": "code",
   "execution_count": null,
   "metadata": {},
   "outputs": [],
   "source": [
    "diract_genes_sets = list(map(set,diract_genes_lists))\n",
    "diract_genes_sets"
   ]
  },
  {
   "cell_type": "code",
   "execution_count": null,
   "metadata": {},
   "outputs": [],
   "source": []
  },
  {
   "cell_type": "markdown",
   "metadata": {},
   "source": [
    "### <font color = \"red\">Exercise</font>\n",
    "\n",
    "- Use the functools.reduce function to create a list with the elements of all these lists\n",
    "\n",
    "\n",
    "\n"
   ]
  },
  {
   "cell_type": "code",
   "execution_count": null,
   "metadata": {},
   "outputs": [],
   "source": [
    "from functools import reduce\n",
    "reduce(set.union, diract_genes_sets)"
   ]
  },
  {
   "cell_type": "code",
   "execution_count": null,
   "metadata": {},
   "outputs": [],
   "source": []
  },
  {
   "cell_type": "markdown",
   "metadata": {},
   "source": [
    "### <font color = \"red\">Exercise</font>\n",
    "\n",
    "- Use the map function to compute how many genes each each of the three genes above directly activates\n",
    "\n",
    "\n",
    "\n"
   ]
  },
  {
   "cell_type": "code",
   "execution_count": null,
   "metadata": {},
   "outputs": [],
   "source": [
    "test_genes = (\"Gene2\", \"Gene3\", \"Gene5\")\n",
    "diract_counts = list(map(lambda x: len(network[x]), test_genes))\n",
    "diract_counts"
   ]
  },
  {
   "cell_type": "code",
   "execution_count": null,
   "metadata": {},
   "outputs": [],
   "source": []
  },
  {
   "cell_type": "markdown",
   "metadata": {},
   "source": [
    "### <font color = \"red\">Exercise</font>\n",
    "\n",
    "- Use the zip function with the (\"Gene2\", \"Gene3\", \"Gene5\") and the results from previous point to create a dictionary with the genes being the key and the number of genes they directly activate being the values\n",
    "\n",
    "\n",
    "\n"
   ]
  },
  {
   "cell_type": "code",
   "execution_count": null,
   "metadata": {},
   "outputs": [],
   "source": [
    "diract_counts_dict = dict(zip(test_genes,diract_counts))\n",
    "diract_counts_dict"
   ]
  },
  {
   "cell_type": "code",
   "execution_count": null,
   "metadata": {},
   "outputs": [],
   "source": []
  },
  {
   "cell_type": "markdown",
   "metadata": {},
   "source": [
    "### <font color = \"red\">Exercise</font>\n",
    "\n",
    "- Use the filter function to remove from this dictionary genes that activate less than 2 genes \n",
    "\n",
    "\n",
    "\n"
   ]
  },
  {
   "cell_type": "code",
   "execution_count": null,
   "metadata": {},
   "outputs": [],
   "source": [
    "dict(filter(lambda item: item[1] >= 2, diract_counts_dict.items()))"
   ]
  },
  {
   "cell_type": "code",
   "execution_count": null,
   "metadata": {},
   "outputs": [],
   "source": []
  },
  {
   "cell_type": "markdown",
   "metadata": {},
   "source": [
    "_______\n",
    "### <font color = \"red\">Exercise</font> \n",
    "\n",
    "Write the elements of the follwing two lists into a file gene_promoter_sequence.txt as two columns separated by tab.  \n",
    "https://www.genome.gov/genetics-glossary/Promoter  \n",
    "\"A promoter is a sequence of DNA needed to turn a gene on or off. The process of transcription is initiated at the promoter. Usually found near the beginning of a gene, the promoter has a binding site for the enzyme used to make a messenger RNA (mRNA) molecule.\"\n",
    "\n",
    "https://signagen.com/blog/2015/10/14/how-to-locate-promoter-sequence-for-a-specific-gene/\n",
    "\n",
    "```python\n",
    "\n",
    "\n",
    "\n",
    "```\n"
   ]
  },
  {
   "cell_type": "code",
   "execution_count": null,
   "metadata": {},
   "outputs": [],
   "source": [
    "gene = [\"BRCA2\", \"EGFR\", \"TP53\", \"TNF\"]\n",
    "sequence = [\n",
    "\"AACGAATTCGGAGATGAAGTCAGGTCTTCCAGTTCAGCCTGCGAGGAAGACAGGTGATCCGAATCCTAAGAATGCAAAAGATGGGCCGGGTGTGGTGGCTCATGCCTGTAATCCCAGCGCTTTGGGAGGCCGAGGCAGGCAGATCACCTGAGGTCGGGAGGTTGAGACCAGACTGACCAACAACGGAGAAACCCCGTCTCTACTTAAAAATGCAAAGTTAGCCGTGCGTGGTGGCCCATGCCTGTATTCCCAGCTACTCGGGAGGCTGAGGCAGGAGAACCACTTGATCCCTGGAGGCGGAAGTTGCGGTGAGCGGAGATTGCGCCATTGCACACCAGCCCGGGCCACAAGAGCGAAACTCCGTCTCAAAAAAAAAAGCAAAAGATACTACCAAGCCCTGCGGAGCAAGGTACCTCACACTTCATGAGCGAGTTAAGATGGGTTTCACAATTTTTCAAGCAAGGAAACGGGCTCGGAGGTCTTGAACACCTGCTACCCAATAGCAGAACAGCTACTGGAACTAAAATCCTCTGATTTCAAATAACAGCCCCGCCCACTACCACTAAGTGAAGTCATCCACAACCACACACCGACCACTCT\",  \n",
    "\"CTGAAGGACCCTCGGACTTTAGAGCACCACCTCGGACGCCTGGCACCCCTGCCGCGCGGGCACGGCGACCTCCTCAGCTGCCAGGCCAGCCTCTGATCCCCGAGAGGGTCCCGTAGTGCTGCAGGGGAGGTGGGGACCCGAATAAAGGAGCAGTTTCCCCGTCGGTGCCATTATCCGACGCTGGCTCTAAGGCTCGGCCAGTCTGTCTAAAGCTGGTACAAGTTTGCTTTGTAAAACAAAAGAAGGGAAAGGGGGAAGGGGACCCTGGCACAGATTTGGCTCGACCTGGACATAGGCTGGGCCTGCAAGTCCGCGGGGACCGGGTCCAGAGGGGCAGTGCTGGGAACGCCCCTCTCGGAAATTAACTCCTCAGGGCACCCGCTCCCCTCCCATGCGCCGCCCCACTCCCGCCGGAGACTAGGTCCCGCGGGGGCCACCGCTGTCCACCGCCTCCGGCGGCCGCTGGCCTTGGGTCCCCGCTGCTGGTTCTCCTCCCTCCTCCTCGCATTCTCCTCCTCCTCTGCTCCTCCCGATCCCTCCTCCGCCGCCTGGTCCCTCCTCCTCCCGCCCTGCCTCCCCGCGCCTCGGCCCGCGCGAGCT\",\n",
    "\"GCTTCAGACCTGTCTCCCTCATTCAAAAAATATTTATTATCGAGCTCTTACTTGCTACCCAGCACTGATATAGGCACTCAGGAATACAACAATGAATAAGATAGTAGAAAAATTCTATATCCTCATAAGGCTTACGTTTCCATGTACTGAAAGCAATGAACAAATAAATCTTATCAGAGTGATAAGGGTTGTGAAGGAGATTAAATAAGATGGTGTGATATAAAGTATCTGGGAGAAAACGTTAGGGTGTGATATTACGGAAAGCCTTCCTAAAAAATGACATTTTAACTGATGAGAAGAAAGGATCCAGCTGAGAGCAAACGCAAAAGCTTTCTTCCTTCCACCCTTCATATTTGACACAATGCAGGATTCCTCCAAAATGATTTCCACCAATTCTGCCCTCACAGCTCTGGCTTGCAGAATTTTCCACCCCAAAATGTTAGTATCTACGGCACCAGGTCGGCGAGAATCCTGACTCTGCACCCTCCTCCCCAACTCCATTTCCTTTGCTTCCTCCGGCAGGCGGATTACTTGCCCTTACTTGTCATGGCGACTGTCCAGCTTTGTGCCAGGAGCCTCGCAGGGGTTGATGGGATTGGG\",\n",
    "\"GGGCTGTCCCAGGCTTGTCCCTGCTACCCCCACCCAGCCTTTCCTGAGGCCTCAAGCCTGCCACCAAGCCCCCAGCTCCTTCTCCCCGCAGGGACCCAAACACAGGCCTCAGGACTCAACACAGCTTTTCCCTCCAACCCCGTTTTCTCTCCCTCAAGGACTCAGCTTTCTGAAGCCCCTCCCAGTTCTAGTTCTATCTTTTTCCTGCATCCTGTCTGGAAGTTAGAAGGAAACAGACCACAGACCTGGTCCCCAAAAGAAATGGAGGCAATAGGTTTTGAGGGGCATGGGGACGGGGTTCAGCCTCCAGGGTCCTACACACAAATCAGTCAGTGGCCCAGAAGACCCCCCTCGGAATCGGAGCAGGGAGGATGGGGAGTGTGAGGGGTATCCTTGATGCTTGTGTGTCCCCAACTTTCCAAATCCCCGCCCCCGCGATGGAGAAGAAACCGAGACAGAAGGTGCAGGGCCCACTACCGCTTCCTCCAGATGAGCTCATGGGTTTCTCCACCAAGGAAGTTTTCCGCTGGTTGAATGATTCTTTCCCCGCCCTCCTCTCGCCCCAGGGACATATAAAGGCAGTTGTTGGCACACCCAGCC\"\n",
    "]"
   ]
  },
  {
   "cell_type": "code",
   "execution_count": null,
   "metadata": {},
   "outputs": [],
   "source": [
    "file_name = \"gene_promoter_sequence.txt\"\n",
    "with open(file_name, \"w\") as gene_pseq_file:\n",
    "    for pos, gene_symbol in enumerate(gene):\n",
    "        gene_pseq_file.write(gene_symbol + \"\\t\" + sequence[pos] + \"\\n\")"
   ]
  },
  {
   "cell_type": "markdown",
   "metadata": {},
   "source": [
    "#### gene_promoter_sequence.txt\n",
    "\n",
    "BRCA2   AACGAATTCGGAGATGAAGTCAGGTCTTCCAGTTCAGCCTGCGAGGAAGACAGGTGATCCGAATCCTAAGAATGCAAAAGATGGGCCGGGTGTGGTGGCTCATGCCTGTAATCCCAGCGCTTTGGGAGGCCGAGGCAGGCAGATCACCTGAGGTCGGGAGGTTGAGACCAGACTGACCAACAACGGAGAAACCCCGTCTCTACTTAAAAATGCAAAGTTAGCCGTGCGTGGTGGCCCATGCCTGTATTCCCAGCTACTCGGGAGGCTGAGGCAGGAGAACCACTTGATCCCTGGAGGCGGAAGTTGCGGTGAGCGGAGATTGCGCCATTGCACACCAGCCCGGGCCACAAGAGCGAAACTCCGTCTCAAAAAAAAAAGCAAAAGATACTACCAAGCCCTGCGGAGCAAGGTACCTCACACTTCATGAGCGAGTTAAGATGGGTTTCACAATTTTTCAAGCAAGGAAACGGGCTCGGAGGTCTTGAACACCTGCTACCCAATAGCAGAACAGCTACTGGAACTAAAATCCTCTGATTTCAAATAACAGCCCCGCCCACTACCACTAAGTGAAGTCATCCACAACCACACACCGACCACTCT  \n",
    "EGFR      CTGAAGGACCCTCGGACTTTAGAGCACCACCTCGGACGCCTGGCACCCCTGCCGCGCGGGCACGGCGACCTCCTCAGCTGCCAGGCCAGCCTCTGATCCCCGAGAGGGTCCCGTAGTGCTGCAGGGGAGGTGGGGACCCGAATAAAGGAGCAGTTTCCCCGTCGGTGCCATTATCCGACGCTGGCTCTAAGGCTCGGCCAGTCTGTCTAAAGCTGGTACAAGTTTGCTTTGTAAAACAAAAGAAGGGAAAGGGGGAAGGGGACCCTGGCACAGATTTGGCTCGACCTGGACATAGGCTGGGCCTGCAAGTCCGCGGGGACCGGGTCCAGAGGGGCAGTGCTGGGAACGCCCCTCTCGGAAATTAACTCCTCAGGGCACCCGCTCCCCTCCCATGCGCCGCCCCACTCCCGCCGGAGACTAGGTCCCGCGGGGGCCACCGCTGTCCACCGCCTCCGGCGGCCGCTGGCCTTGGGTCCCCGCTGCTGGTTCTCCTCCCTCCTCCTCGCATTCTCCTCCTCCTCTGCTCCTCCCGATCCCTCCTCCGCCGCCTGGTCCCTCCTCCTCCCGCCCTGCCTCCCCGCGCCTCGGCCCGCGCGAGCT  \n",
    "TP53      GCTTCAGACCTGTCTCCCTCATTCAAAAAATATTTATTATCGAGCTCTTACTTGCTACCCAGCACTGATATAGGCACTCAGGAATACAACAATGAATAAGATAGTAGAAAAATTCTATATCCTCATAAGGCTTACGTTTCCATGTACTGAAAGCAATGAACAAATAAATCTTATCAGAGTGATAAGGGTTGTGAAGGAGATTAAATAAGATGGTGTGATATAAAGTATCTGGGAGAAAACGTTAGGGTGTGATATTACGGAAAGCCTTCCTAAAAAATGACATTTTAACTGATGAGAAGAAAGGATCCAGCTGAGAGCAAACGCAAAAGCTTTCTTCCTTCCACCCTTCATATTTGACACAATGCAGGATTCCTCCAAAATGATTTCCACCAATTCTGCCCTCACAGCTCTGGCTTGCAGAATTTTCCACCCCAAAATGTTAGTATCTACGGCACCAGGTCGGCGAGAATCCTGACTCTGCACCCTCCTCCCCAACTCCATTTCCTTTGCTTCCTCCGGCAGGCGGATTACTTGCCCTTACTTGTCATGGCGACTGTCCAGCTTTGTGCCAGGAGCCTCGCAGGGGTTGATGGGATTGGG  \n",
    "TNF        GGGCTGTCCCAGGCTTGTCCCTGCTACCCCCACCCAGCCTTTCCTGAGGCCTCAAGCCTGCCACCAAGCCCCCAGCTCCTTCTCCCCGCAGGGACCCAAACACAGGCCTCAGGACTCAACACAGCTTTTCCCTCCAACCCCGTTTTCTCTCCCTCAAGGACTCAGCTTTCTGAAGCCCCTCCCAGTTCTAGTTCTATCTTTTTCCTGCATCCTGTCTGGAAGTTAGAAGGAAACAGACCACAGACCTGGTCCCCAAAAGAAATGGAGGCAATAGGTTTTGAGGGGCATGGGGACGGGGTTCAGCCTCCAGGGTCCTACACACAAATCAGTCAGTGGCCCAGAAGACCCCCCTCGGAATCGGAGCAGGGAGGATGGGGAGTGTGAGGGGTATCCTTGATGCTTGTGTGTCCCCAACTTTCCAAATCCCCGCCCCCGCGATGGAGAAGAAACCGAGACAGAAGGTGCAGGGCCCACTACCGCTTCCTCCAGATGAGCTCATGGGTTTCTCCACCAAGGAAGTTTTCCGCTGGTTGAATGATTCTTTCCCCGCCCTCCTCTCGCCCCAGGGACATATAAAGGCAGTTGTTGGCACACCCAGCC\n",
    "\n"
   ]
  },
  {
   "cell_type": "code",
   "execution_count": null,
   "metadata": {},
   "outputs": [],
   "source": []
  },
  {
   "cell_type": "markdown",
   "metadata": {},
   "source": [
    "_______\n",
    "### <font color = \"red\">Exercise</font> \n",
    "\n",
    "Write the elements of the follwing two lists into a second file as two columns separated by tab. The elements of the second list should be each on its own column.\n"
   ]
  },
  {
   "cell_type": "code",
   "execution_count": null,
   "metadata": {},
   "outputs": [],
   "source": [
    "gene = [\"BRCA2\", \"EGFR\", \"TP53\", \"TNF\"]\n",
    "sequence = [\n",
    "[\"AACGAATTCGG\", \"AGATGAAGTCAG\"],\n",
    "[\"CTGAAGGACC\", \"CTCGGACTTTAGA\"],\n",
    "[\"GCTTCAGACC\", \"TGTCTCCCTCATT\"],\n",
    "[\"GGGCTGTCCC\", \"AGGCTTGTCCCTG\"]\n",
    "]"
   ]
  },
  {
   "cell_type": "code",
   "execution_count": null,
   "metadata": {},
   "outputs": [],
   "source": [
    "file_name = \"gene_sequences.txt\"\n",
    "with open(file_name, \"w\") as gene_pseq_file:\n",
    "    for pos, gene_symbol in enumerate(gene):\n",
    "        gene_pseq_file.write(gene_symbol + \"\\t\" + \"\\t\".join(sequence[pos]) + \"\\n\")"
   ]
  },
  {
   "cell_type": "markdown",
   "metadata": {},
   "source": [
    "#### gene_sequences.txt\n",
    "\n",
    "BRCA2   AACGAATTCGG   AGATGAAGTCAG  \n",
    "EGFR      CTGAAGGACC     CTCGGACTTTAGA  \n",
    "TP53      GCTTCAGACC     TGTCTCCCTCATT  \n",
    "TNF        GGGCTGTCCC    AGGCTTGTCCCTG\n",
    "\n"
   ]
  },
  {
   "cell_type": "code",
   "execution_count": null,
   "metadata": {},
   "outputs": [],
   "source": []
  },
  {
   "cell_type": "markdown",
   "metadata": {},
   "source": [
    "_______\n",
    "### <font color = \"red\">Exercise</font> \n",
    "\n",
    "Explain what the following code does and describe how it computes the result it displays:\n"
   ]
  },
  {
   "cell_type": "code",
   "execution_count": null,
   "metadata": {},
   "outputs": [],
   "source": [
    "def compute_perc(seq):\n",
    "    return 100*(seq.count(\"C\")+seq.count(\"G\"))/len(seq)\n",
    "\n",
    "def process_text(text):\n",
    "    res = 0\n",
    "    gene = \"\"\n",
    "    if text != None:\n",
    "        gene, promoter_seq = text.split()\n",
    "        res = compute_perc(promoter_seq)\n",
    "    return gene, res\n",
    "        \n",
    "        \n",
    "file_name = \"gene_promoter_sequence.txt\"       \n",
    "with open(file = file_name, mode = \"r\") as promoter_seq_file:\n",
    "    for line in promoter_seq_file:\n",
    "        res = process_text(line)\n",
    "        print(\"gene\", res[0], \"percentage\", res[1])\n"
   ]
  },
  {
   "cell_type": "markdown",
   "metadata": {},
   "source": [
    "- The function compute_perc computes the GC content (percentage of G and C bases) for a given sequence (seq)\n",
    "    - it uses the function count for a string (the sequence) to count the number of \"C\" occurences and does the same for \"G\" occurences then it adds them up and divides them by the sequence length (computed using the len function) and multiplies the ratio by 100\n",
    "    - returns the computed percentage\n",
    "    \n",
    "    \n",
    "- The function process_text processes a given string, it assumes the string contains a gene symbol and a sequence separated by a whitespace (e.g. tab, \\t) and it computes the GC content for the sequence and returns a tuple with the gene and the GC content\n",
    "    - it initializes a res variable with 0 and a gene variable with an empty string\n",
    "    - it checks if the given text is None\n",
    "        - if it is not, \n",
    "            - it splits the text by whitespace and unpacks the resulting list into a gene and a promoter sequence\n",
    "            - it uses compute_perc function to compute the GC content for the sequence (promoter_seq) and assigns the resulting value to the res variable\n",
    "            - returns a tuple of the gene and the GC content stored in the res variable\n",
    "            \n",
    "            \n",
    "- The code in the last part of the cell assigns to a variable file_name the text: \"gene_promoter_sequence.txt\" \n",
    "    - it then uses the with operator and the open function to open the file for writing (\"w\")\n",
    "    - uses a for loop to go through the lines in the file and for each line\n",
    "        - it uses the process text funtion to compute the tuple of gene symbol and GC content and assigns it to the variable res\n",
    "        - it prints the text \"gene \\<gene symbol> percentage \\<GC content>\" using indexing on the tuple stored in res\n",
    "            "
   ]
  },
  {
   "cell_type": "code",
   "execution_count": null,
   "metadata": {},
   "outputs": [],
   "source": []
  },
  {
   "cell_type": "code",
   "execution_count": null,
   "metadata": {},
   "outputs": [],
   "source": []
  },
  {
   "cell_type": "code",
   "execution_count": null,
   "metadata": {},
   "outputs": [],
   "source": []
  },
  {
   "cell_type": "code",
   "execution_count": null,
   "metadata": {},
   "outputs": [],
   "source": []
  }
 ],
 "metadata": {
  "kernelspec": {
   "display_name": "Python 3",
   "language": "python",
   "name": "python3"
  },
  "language_info": {
   "codemirror_mode": {
    "name": "ipython",
    "version": 3
   },
   "file_extension": ".py",
   "mimetype": "text/x-python",
   "name": "python",
   "nbconvert_exporter": "python",
   "pygments_lexer": "ipython3",
   "version": "3.8.3"
  }
 },
 "nbformat": 4,
 "nbformat_minor": 4
}
