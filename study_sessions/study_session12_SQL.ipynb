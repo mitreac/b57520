{
 "cells": [
  {
   "cell_type": "markdown",
   "metadata": {},
   "source": [
    "## Study session 12 - SQL commands\n",
    "### BIOINF 575 - Fall 2020\n"
   ]
  },
  {
   "cell_type": "markdown",
   "metadata": {},
   "source": [
    "____\n",
    "\n",
    "### <font color = \"red\">Exercise</font>\n",
    "\n",
    "[ClinVar][1] is a freely accessible, public archive of reports of the relationships among human variations and phenotypes, with supporting evidence.\n",
    "\n",
    "\n",
    "The data you will be working with (`clinvar.vcf`).  More information about the database can be found [here][3].\n",
    "\n",
    "From: https://ftp.ncbi.nlm.nih.gov/pub/clinvar/vcf_GRCh38/\n",
    "\n",
    "Download the file clinvar.vcf.gz\n",
    "\n",
    "\n",
    "### The file format\n",
    "The beginning of every VCF file contains various sets of information:\n",
    "* Meta-information (details about the experiment or configuration) lines start with **`##`**\n",
    "    * These lines are helpful in understanding specialized keys found in the `INFO` column. It is in these sections that one can find:\n",
    "        * The description of the key\n",
    "        * The data type of the values\n",
    "        * The default value of the values\n",
    "* Header lines (column names) start with **`#`**\n",
    "\n",
    "From there on, each line is made up of tab (`\\t`) separated values that make up eight (8) columns. Those columns are:\n",
    "1. CHROM (chromosome)\n",
    "2. POS (base pair position of the variant)\n",
    "3. ID (identifier if applicable; `.` if not applicable/missing)\n",
    "4. REF (reference base)\n",
    "5. ALT (alternate base(s): comma (`,`) separated if applicable)\n",
    "6. QUAL (Phred-scaled quality score; `.` if not applicable/missing)\n",
    "7. FILTER (filter status; `.` if not applicable/missing)\n",
    "8. INFO (any additional information about the variant)\n",
    "    * Semi-colon (`;`) separated key-value pairs\n",
    "    * Key-value pairs are equal sign (`=`) separated (key on the left, value on the right)\n",
    "    * If a key has multiple values, the values are pipe (`|`) separated\n",
    "\n",
    "---\n",
    "[1]: https://www.ncbi.nlm.nih.gov/clinvar/intro/\n",
    "[2]: https://samtools.github.io/hts-specs/VCFv4.3.pdf\n",
    "[3]: http://exac.broadinstitute.org\n",
    "\n",
    "\n"
   ]
  },
  {
   "cell_type": "markdown",
   "metadata": {},
   "source": [
    "### Create a database clinvar_database.sqlite and in that database create a table `variant` and a table `variant_info` \n",
    "\n",
    "#### variant table columns:\n",
    "\n",
    "- variant_id - int primary key autoincrement\n",
    "- CHROM - string\n",
    "- POS - int\n",
    "- ID - string \n",
    "- REF - string\n",
    "- ALT - string  \n",
    "- QUAL - string \n",
    "- FILTER - string  \n",
    "\n",
    "#### variant_info table columns\n",
    "\n",
    "- variant_id int foreign key to variant_id in the variant table\n",
    "- key - string\n",
    "- value - string\n",
    "\n"
   ]
  },
  {
   "cell_type": "markdown",
   "metadata": {},
   "source": [
    "##### WHILE DEVELOPING YOUR SOLUTION YOU MAY WANT OT RESET/CLEAR YOUR TABLES\n",
    "##### you will get erros if you want to insert data that is already in the table\n",
    "##### to clear a talbe use \n",
    "```sql\n",
    "DELETE FROM table_name \n",
    "```"
   ]
  },
  {
   "cell_type": "code",
   "execution_count": null,
   "metadata": {},
   "outputs": [],
   "source": []
  },
  {
   "cell_type": "code",
   "execution_count": null,
   "metadata": {},
   "outputs": [],
   "source": []
  },
  {
   "cell_type": "code",
   "execution_count": null,
   "metadata": {},
   "outputs": [],
   "source": []
  },
  {
   "cell_type": "code",
   "execution_count": null,
   "metadata": {},
   "outputs": [],
   "source": []
  },
  {
   "cell_type": "code",
   "execution_count": null,
   "metadata": {},
   "outputs": [],
   "source": []
  },
  {
   "cell_type": "markdown",
   "metadata": {},
   "source": [
    "### Populate the `variant` table and the `variant_info` table with the information form clinvar.vcf\n",
    "\n"
   ]
  },
  {
   "cell_type": "code",
   "execution_count": null,
   "metadata": {},
   "outputs": [],
   "source": []
  },
  {
   "cell_type": "code",
   "execution_count": null,
   "metadata": {},
   "outputs": [],
   "source": []
  },
  {
   "cell_type": "code",
   "execution_count": null,
   "metadata": {},
   "outputs": [],
   "source": []
  },
  {
   "cell_type": "code",
   "execution_count": null,
   "metadata": {},
   "outputs": [],
   "source": []
  },
  {
   "cell_type": "code",
   "execution_count": null,
   "metadata": {},
   "outputs": [],
   "source": []
  },
  {
   "cell_type": "code",
   "execution_count": null,
   "metadata": {},
   "outputs": [],
   "source": []
  },
  {
   "cell_type": "markdown",
   "metadata": {},
   "source": [
    "### Use a select statment to retrieve the number of rows in the variats table\n",
    "\n"
   ]
  },
  {
   "cell_type": "code",
   "execution_count": null,
   "metadata": {},
   "outputs": [],
   "source": []
  },
  {
   "cell_type": "code",
   "execution_count": null,
   "metadata": {},
   "outputs": [],
   "source": []
  },
  {
   "cell_type": "code",
   "execution_count": null,
   "metadata": {},
   "outputs": [],
   "source": []
  },
  {
   "cell_type": "code",
   "execution_count": null,
   "metadata": {},
   "outputs": [],
   "source": []
  },
  {
   "cell_type": "code",
   "execution_count": null,
   "metadata": {},
   "outputs": [],
   "source": []
  },
  {
   "cell_type": "markdown",
   "metadata": {},
   "source": [
    "### Use a select statment to compute the number of info elements for each variant\n",
    "#### Retrieve the first 20 rows\n"
   ]
  },
  {
   "cell_type": "code",
   "execution_count": null,
   "metadata": {},
   "outputs": [],
   "source": []
  },
  {
   "cell_type": "code",
   "execution_count": null,
   "metadata": {},
   "outputs": [],
   "source": []
  },
  {
   "cell_type": "code",
   "execution_count": null,
   "metadata": {},
   "outputs": [],
   "source": []
  },
  {
   "cell_type": "markdown",
   "metadata": {},
   "source": [
    "### Use a select statment to retrieve the variant identifier (ID column in the variant table should be different than \".\") and gene names (key = GENEINFO) in the varinat_info table for variants in chromosome 3\n",
    "#### Limit result to  to 50 rows."
   ]
  },
  {
   "cell_type": "code",
   "execution_count": null,
   "metadata": {},
   "outputs": [],
   "source": []
  },
  {
   "cell_type": "code",
   "execution_count": null,
   "metadata": {},
   "outputs": [],
   "source": []
  },
  {
   "cell_type": "code",
   "execution_count": null,
   "metadata": {},
   "outputs": [],
   "source": []
  },
  {
   "cell_type": "code",
   "execution_count": null,
   "metadata": {},
   "outputs": [],
   "source": [
    "# Select variants that have an RS identifier (value for RS key in variant_info)\n",
    "# (id in dbSNP, https://www.ncbi.nlm.nih.gov/snp/) and \n",
    "# a gene associated with it (value for GENEINFO key in variant_info)\n",
    "# The first result is related to the variant described at:\n",
    "# https://www.ncbi.nlm.nih.gov/snp/rs139673243\n",
    "    "
   ]
  },
  {
   "cell_type": "code",
   "execution_count": null,
   "metadata": {},
   "outputs": [],
   "source": []
  }
 ],
 "metadata": {
  "kernelspec": {
   "display_name": "Python 3",
   "language": "python",
   "name": "python3"
  },
  "language_info": {
   "codemirror_mode": {
    "name": "ipython",
    "version": 3
   },
   "file_extension": ".py",
   "mimetype": "text/x-python",
   "name": "python",
   "nbconvert_exporter": "python",
   "pygments_lexer": "ipython3",
   "version": "3.8.3"
  }
 },
 "nbformat": 4,
 "nbformat_minor": 4
}
