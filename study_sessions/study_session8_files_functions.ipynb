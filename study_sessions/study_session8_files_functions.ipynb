{
 "cells": [
  {
   "cell_type": "markdown",
   "metadata": {},
   "source": [
    "## Study session 8 - files and functions\n",
    "### BIOINF 575 - Fall 2020\n",
    "SOLUTIONS"
   ]
  },
  {
   "cell_type": "markdown",
   "metadata": {},
   "source": [
    "___\n",
    "\n",
    "### <font color = \"red\">Exercise</font>\n",
    "Fill in the code in the following function to return a counter withe the first x (number of cols for the input matrix) letters from the seq if the given array type is int64 or leave the counter empty otherwise.\n",
    "\n",
    "Call the function with the given matrix and sequence."
   ]
  },
  {
   "cell_type": "code",
   "execution_count": 18,
   "metadata": {},
   "outputs": [],
   "source": [
    "import numpy as np\n",
    "from collections import Counter\n",
    "\n",
    "mat = np.arange(40)\n",
    "mat = mat.reshape(5,8)\n",
    "seq = \"AACAATTACTGCCCATGAAT\"\n",
    "\n",
    "def compute_counter(mat, seq):\n",
    "    # fill in the code\n",
    "    return c"
   ]
  },
  {
   "cell_type": "code",
   "execution_count": null,
   "metadata": {},
   "outputs": [],
   "source": []
  },
  {
   "cell_type": "code",
   "execution_count": null,
   "metadata": {},
   "outputs": [],
   "source": []
  },
  {
   "cell_type": "code",
   "execution_count": null,
   "metadata": {},
   "outputs": [],
   "source": []
  },
  {
   "cell_type": "markdown",
   "metadata": {},
   "source": [
    "___\n",
    "\n",
    "### <font color = \"red\">Exercise</font>\n",
    "\n",
    "\n",
    "#### Processing the worm genome file\n",
    "You will convert the GFF3 file for the C. elegans genome into 2 related dictionaries. The GFF3 file is   Caenorhabditis_elegans.WBcel235.91.gff3 and is also available in the github repository (you should have it in the study session if you updated the repo). The GFF3 format is described on:\n",
    "https://github.com/The-Sequence-Ontology/Specifications/blob/master/gff3.md.<br> \n",
    "\n",
    "After the comment and header lines (marked by \"#\"), a line in a GFF3 file (row of a table) is composed of 9 tab-delimited fields (columns). The first 8 are called features. These are all atomic (consist of only one element), so they get put into a dictionary features with no problems. You will need to define a key and you will have to generate those integers as you read the file in and add data to the dictionary.\n",
    "\n",
    "The ninth field will pose more of a problem. It consists of tag-value pairs. **The tag-value pairs are separated by a semi-colon, \";\". The the tag and value in a pair are  separated by equal signs, \"=\", and the values may consist of mulitiple, comma, \",\", separated entries.** Also, any value may be encoded as html-safe encoding. Caution: the encoded characters may be the same as those used to separate the components of the attributes field. To get rid of the encoding (these are  pairs of characters or digits preceded by the % sign), use the unquote() function from urllib.parse (`from urllib.parse import unquote`). Just be careful of when you use it - do it at the wrong time and you will mess up the parsing of attributes.\n",
    "\n",
    "From the definition of the GFF3 we have these fields\n",
    "\n",
    "Dictionary: features\n",
    "\n",
    "With the keys denoted by the following names and the values at the respective positions in the file gff file:   \n",
    "`featureid (need to generate it), seqid, source, type, start, end, score, strand, phase`\n",
    "\n",
    "\n",
    "Dictionary: attributes\n",
    "\n",
    "It will have the following keys and the values will be set while parsing the file in the ninth field:   \n",
    "`attrid (need to generate it), featureid, tag, value`\n",
    "\n"
   ]
  },
  {
   "cell_type": "markdown",
   "metadata": {},
   "source": [
    "_____\n",
    "\n",
    "Create two lists with the above mentioned dictionaries as elements for all features and attributes in the file.\n"
   ]
  },
  {
   "cell_type": "code",
   "execution_count": null,
   "metadata": {},
   "outputs": [],
   "source": []
  },
  {
   "cell_type": "code",
   "execution_count": null,
   "metadata": {},
   "outputs": [],
   "source": []
  },
  {
   "cell_type": "code",
   "execution_count": null,
   "metadata": {},
   "outputs": [],
   "source": []
  },
  {
   "cell_type": "markdown",
   "metadata": {},
   "source": [
    "___\n",
    "### <font color = \"red\">Exercise</font>\n",
    "\n",
    "Compute a comprehension that retrives only attributes values that contain \"UniProtKB\"\n",
    "Display the first 10 values.   \n",
    "Use a generator expression instead and dispaly the first 10 values.   \n",
    "\n"
   ]
  },
  {
   "cell_type": "code",
   "execution_count": null,
   "metadata": {},
   "outputs": [],
   "source": []
  },
  {
   "cell_type": "code",
   "execution_count": null,
   "metadata": {},
   "outputs": [],
   "source": []
  },
  {
   "cell_type": "code",
   "execution_count": null,
   "metadata": {},
   "outputs": [],
   "source": []
  },
  {
   "cell_type": "markdown",
   "metadata": {},
   "source": [
    "### <font color = \"red\">Exercise</font>\n",
    "\n",
    "Compute a comprehension that retrives only unique attribute tags of attributes that contain \"UniProtKB\".  \n",
    "Display the first 10 values.  \n",
    "Compute a comprehension that retrives the attribute id and the tag (dict item) of attributes that contain \"UniProtKB\" and \"binding protein homolog\".  \n",
    "Display the first 10 values.  \n",
    "\n",
    "\n",
    "\n",
    "\n",
    "\n"
   ]
  },
  {
   "cell_type": "code",
   "execution_count": null,
   "metadata": {},
   "outputs": [],
   "source": []
  },
  {
   "cell_type": "code",
   "execution_count": null,
   "metadata": {},
   "outputs": [],
   "source": []
  },
  {
   "cell_type": "code",
   "execution_count": null,
   "metadata": {},
   "outputs": [],
   "source": []
  },
  {
   "cell_type": "markdown",
   "metadata": {},
   "source": [
    "___\n",
    "### <font color = \"red\">Exercise</font>\n",
    "\n",
    "Create a small feature list with only 20 features.   \n",
    "Create a small attribute list with only 30 attributes.   \n",
    "Compute a comprehension that retrives the featureid, type, score and tag and value for only attributes that have values that contain \"UniProtKB\"\n",
    "\n",
    "\n"
   ]
  },
  {
   "cell_type": "code",
   "execution_count": null,
   "metadata": {},
   "outputs": [],
   "source": []
  },
  {
   "cell_type": "code",
   "execution_count": null,
   "metadata": {},
   "outputs": [],
   "source": []
  },
  {
   "cell_type": "code",
   "execution_count": null,
   "metadata": {},
   "outputs": [],
   "source": []
  }
 ],
 "metadata": {
  "kernelspec": {
   "display_name": "Python 3",
   "language": "python",
   "name": "python3"
  },
  "language_info": {
   "codemirror_mode": {
    "name": "ipython",
    "version": 3
   },
   "file_extension": ".py",
   "mimetype": "text/x-python",
   "name": "python",
   "nbconvert_exporter": "python",
   "pygments_lexer": "ipython3",
   "version": "3.8.3"
  }
 },
 "nbformat": 4,
 "nbformat_minor": 4
}
