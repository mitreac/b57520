{
 "cells": [
  {
   "cell_type": "markdown",
   "metadata": {},
   "source": [
    "## Study session 8 - files and functions\n",
    "### BIOINF 575 - Fall 2020\n",
    "SOLUTIONS"
   ]
  },
  {
   "cell_type": "markdown",
   "metadata": {},
   "source": [
    "___\n",
    "\n",
    "### <font color = \"red\">Exercise</font>\n",
    "Fill in the code in the following function to return a counter withe the first x (number of cols for the input matrix) letters from the seq if the given array type is int64 or leave the counter empty otherwise.\n",
    "\n",
    "Call the function with the given matrix and sequence."
   ]
  },
  {
   "cell_type": "code",
   "execution_count": 1,
   "metadata": {},
   "outputs": [],
   "source": [
    "import numpy as np\n",
    "from collections import Counter\n",
    "\n",
    "mat = np.arange(40)\n",
    "mat = mat.reshape(5,8)\n",
    "seq = \"AACAATTACTGCCCATGAAT\"\n",
    "\n",
    "def compute_counter(mat, seq):\n",
    "    # fill in the code\n",
    "    return c"
   ]
  },
  {
   "cell_type": "code",
   "execution_count": null,
   "metadata": {},
   "outputs": [],
   "source": []
  },
  {
   "cell_type": "code",
   "execution_count": 2,
   "metadata": {},
   "outputs": [],
   "source": [
    "# we can create a temp function assuming we do not much about the array mat \n",
    "# other than it has a shape that is a tuple of 2 numbers (no rows and no cols)\n",
    "# and it has a dtype that is a string with the type name\n",
    "\n",
    "from collections import Counter\n",
    "\n",
    "def compute_counter_temp(mat_shape, mat_dtype, seq):\n",
    "    c = Counter()\n",
    "    if mat_dtype == \"int64\":\n",
    "        c.update(seq[:mat_shape[1]])\n",
    "    \n",
    "    return c\n"
   ]
  },
  {
   "cell_type": "code",
   "execution_count": 3,
   "metadata": {},
   "outputs": [
    {
     "data": {
      "text/plain": [
       "Counter({'A': 2, 'C': 1})"
      ]
     },
     "execution_count": 3,
     "metadata": {},
     "output_type": "execute_result"
    }
   ],
   "source": [
    "seq = \"AACAATTACTGCCCATGAAT\"\n",
    "compute_counter_temp((2,3), \"int64\",seq)"
   ]
  },
  {
   "cell_type": "code",
   "execution_count": 4,
   "metadata": {},
   "outputs": [
    {
     "data": {
      "text/plain": [
       "Counter({'A': 5, 'C': 1, 'T': 2})"
      ]
     },
     "execution_count": 4,
     "metadata": {},
     "output_type": "execute_result"
    }
   ],
   "source": [
    "compute_counter_temp((5,8), \"int64\",seq)"
   ]
  },
  {
   "cell_type": "code",
   "execution_count": 5,
   "metadata": {},
   "outputs": [
    {
     "data": {
      "text/plain": [
       "Counter({'A': 5, 'C': 1, 'T': 2})"
      ]
     },
     "execution_count": 5,
     "metadata": {},
     "output_type": "execute_result"
    }
   ],
   "source": [
    "import numpy as np\n",
    "from collections import Counter\n",
    "\n",
    "mat = np.arange(40)\n",
    "mat = mat.reshape(5,8)\n",
    "seq = \"AACAATTACTGCCCATGAAT\"\n",
    "\n",
    "def compute_counter(mat, seq):\n",
    "    mat_dtype = mat.dtype\n",
    "    mat_shape = mat.shape\n",
    "    # the following code is the same in the above function\n",
    "    c = Counter()\n",
    "    if mat.dtype == \"int64\":\n",
    "        c.update(seq[:mat_shape[1]])\n",
    "    \n",
    "    return c\n",
    "\n",
    "compute_counter(mat,seq)"
   ]
  },
  {
   "cell_type": "code",
   "execution_count": null,
   "metadata": {},
   "outputs": [],
   "source": []
  },
  {
   "cell_type": "code",
   "execution_count": null,
   "metadata": {},
   "outputs": [],
   "source": []
  },
  {
   "cell_type": "markdown",
   "metadata": {},
   "source": [
    "___\n",
    "\n",
    "### <font color = \"red\">Exercise</font>\n",
    "\n",
    "\n",
    "#### Processing the worm genome file\n",
    "You will convert the GFF3 file for the C. elegans genome into 2 related dictionaries. The GFF3 file is   Caenorhabditis_elegans.WBcel235.91.gff3 and is also available in the github repository (you should have it in the study session if you updated the repo). The GFF3 format is described on:\n",
    "https://github.com/The-Sequence-Ontology/Specifications/blob/master/gff3.md.<br> \n",
    "\n",
    "After the comment and header lines (marked by \"#\"), a line in a GFF3 file (row of a table) is composed of 9 tab-delimited fields (columns). The first 8 are called features. These are all atomic (consist of only one element), so they get put into a dictionary features with no problems. You will need to define a key and you will have to generate those integers as you read the file in and add data to the dictionary.\n",
    "\n",
    "The ninth field will pose more of a problem. It consists of tag-value pairs. **The tag-value pairs are separated by a semi-colon, \";\". The the tag and value in a pair are  separated by equal signs, \"=\", and the values may consist of mulitiple, comma, \",\", separated entries.** Also, any value may be encoded as html-safe encoding. Caution: the encoded characters may be the same as those used to separate the components of the attributes field. To get rid of the encoding (these are  pairs of characters or digits preceded by the % sign), use the unquote() function from urllib.parse (`from urllib.parse import unquote`). Just be careful of when you use it - do it at the wrong time and you will mess up the parsing of attributes.\n",
    "\n",
    "From the definition of the GFF3 we have these fields\n",
    "\n",
    "Dictionary: features\n",
    "\n",
    "With the keys denoted by the following names and the values at the respective positions in the file gff file:   \n",
    "`featureid (need to generate it), seqid, source, type, start, end, score, strand, phase`\n",
    "\n",
    "\n",
    "Dictionary: attributes\n",
    "\n",
    "It will have the following keys and the values will be set while parsing the file in the ninth field:   \n",
    "`attrid (need to generate it), featureid, tag, value`\n",
    "\n"
   ]
  },
  {
   "cell_type": "markdown",
   "metadata": {},
   "source": [
    "_____\n",
    "\n",
    "Create two lists with the above mentioned dictionaries as elements for all features and attributes in the file.\n"
   ]
  },
  {
   "cell_type": "code",
   "execution_count": 6,
   "metadata": {},
   "outputs": [],
   "source": [
    "from urllib.parse import unquote\n",
    "\n",
    "feature_keys = (\"featureid\", \"seqid\", \"source\", \"type\", \"start\", \"end\", \"score\", \"strand\", \"phase\")\n",
    "attr_keys = (\"attrid\", \"featureid\", \"tag\", \"value\")\n",
    "features = []\n",
    "attributes = []\n",
    "\n",
    "with open(\"Caenorhabditis_elegans.WBcel235.91.gff3\") as ce_gff:\n",
    "    feature_id = 0\n",
    "    attr_id = 0\n",
    "    for line in ce_gff:\n",
    "        if not line.startswith(\"#\"):\n",
    "            line_cols = line.split(\"\\t\")\n",
    "            *feature_elem, attr = line_cols\n",
    "            feature_id += 1\n",
    "            feature_elem.insert(0, feature_id) # or feature_elem = [feature_id] + feature_elem\n",
    "            features.append(dict(zip(feature_keys, feature_elem)))\n",
    "            attrs_list =  attr.split(\";\")\n",
    "            for attr_elem in attrs_list:\n",
    "                attr_tag, attr_val = attr_elem.split(\"=\")\n",
    "                for val in attr_val.split(\",\"):\n",
    "                    unq_val = unquote(val).strip()                   \n",
    "                    attr_id += 1\n",
    "                    attributes.append(dict(zip(attr_keys, (attr_id, feature_id, attr_tag, unq_val))))"
   ]
  },
  {
   "cell_type": "code",
   "execution_count": 7,
   "metadata": {},
   "outputs": [
    {
     "data": {
      "text/plain": [
       "[{'featureid': 1,\n",
       "  'seqid': 'I',\n",
       "  'source': 'WormBase',\n",
       "  'type': 'chromosome',\n",
       "  'start': '1',\n",
       "  'end': '15072434',\n",
       "  'score': '.',\n",
       "  'strand': '.',\n",
       "  'phase': '.'},\n",
       " {'featureid': 2,\n",
       "  'seqid': 'I',\n",
       "  'source': 'WormBase',\n",
       "  'type': 'ncRNA_gene',\n",
       "  'start': '3747',\n",
       "  'end': '3909',\n",
       "  'score': '.',\n",
       "  'strand': '-',\n",
       "  'phase': '.'},\n",
       " {'featureid': 3,\n",
       "  'seqid': 'I',\n",
       "  'source': 'WormBase',\n",
       "  'type': 'snoRNA',\n",
       "  'start': '3747',\n",
       "  'end': '3909',\n",
       "  'score': '.',\n",
       "  'strand': '-',\n",
       "  'phase': '.'},\n",
       " {'featureid': 4,\n",
       "  'seqid': 'I',\n",
       "  'source': 'WormBase',\n",
       "  'type': 'exon',\n",
       "  'start': '3747',\n",
       "  'end': '3909',\n",
       "  'score': '.',\n",
       "  'strand': '-',\n",
       "  'phase': '.'},\n",
       " {'featureid': 5,\n",
       "  'seqid': 'I',\n",
       "  'source': 'WormBase',\n",
       "  'type': 'gene',\n",
       "  'start': '4116',\n",
       "  'end': '10230',\n",
       "  'score': '.',\n",
       "  'strand': '-',\n",
       "  'phase': '.'}]"
      ]
     },
     "execution_count": 7,
     "metadata": {},
     "output_type": "execute_result"
    }
   ],
   "source": [
    "features[:5]"
   ]
  },
  {
   "cell_type": "code",
   "execution_count": null,
   "metadata": {},
   "outputs": [],
   "source": []
  },
  {
   "cell_type": "code",
   "execution_count": 8,
   "metadata": {},
   "outputs": [
    {
     "data": {
      "text/plain": [
       "[{'attrid': 1, 'featureid': 1, 'tag': 'ID', 'value': 'chromosome:I'},\n",
       " {'attrid': 2, 'featureid': 1, 'tag': 'Alias', 'value': 'BX284601.5'},\n",
       " {'attrid': 3, 'featureid': 1, 'tag': 'Alias', 'value': 'NC_003279.8'},\n",
       " {'attrid': 4, 'featureid': 2, 'tag': 'ID', 'value': 'gene:WBGene00023193'},\n",
       " {'attrid': 5, 'featureid': 2, 'tag': 'Name', 'value': 'Y74C9A.6'}]"
      ]
     },
     "execution_count": 8,
     "metadata": {},
     "output_type": "execute_result"
    }
   ],
   "source": [
    "attributes[:5]"
   ]
  },
  {
   "cell_type": "code",
   "execution_count": null,
   "metadata": {},
   "outputs": [],
   "source": []
  },
  {
   "cell_type": "markdown",
   "metadata": {},
   "source": [
    "___\n",
    "### <font color = \"red\">Exercise</font>\n",
    "\n",
    "Compute a comprehension that retrives only attributes values that contain \"UniProtKB\"\n",
    "Display the first 10 values.   \n",
    "Use a generator expression instead and dispaly the first 10 values.   \n",
    "\n"
   ]
  },
  {
   "cell_type": "code",
   "execution_count": null,
   "metadata": {},
   "outputs": [],
   "source": []
  },
  {
   "cell_type": "code",
   "execution_count": null,
   "metadata": {},
   "outputs": [],
   "source": []
  },
  {
   "cell_type": "code",
   "execution_count": 9,
   "metadata": {},
   "outputs": [],
   "source": [
    "res = [attr[\"value\"]  for attr in attributes if \"UniProtKB\" in str(attr[\"value\"])]"
   ]
  },
  {
   "cell_type": "code",
   "execution_count": 10,
   "metadata": {},
   "outputs": [
    {
     "data": {
      "text/plain": [
       "['Alpha N-terminal protein methyltransferase 1  [Source:UniProtKB/Swiss-Prot;Acc:Q9N4D9]',\n",
       " 'Neuropeptide-like peptides nlp-40 Peptide P1 Peptide P2 Peptide P3 Peptide P4 [Source:UniProtKB/Swiss-Prot;Acc:Q9N4D8]',\n",
       " 'RCOR (REST CO-Repressor) homolog  [Source:UniProtKB/TrEMBL;Acc:H2KZI1]',\n",
       " 'Sestrin homolog  [Source:UniProtKB/Swiss-Prot;Acc:Q9N4D6]',\n",
       " 'CDP-diacylglycerol--glycerol-3-phosphate 3-phosphatidyltransferase  [Source:UniProtKB/TrEMBL;Acc:Q9BL79]',\n",
       " 'Tyrosine-protein kinase csk-1  [Source:UniProtKB/Swiss-Prot;Acc:G5ECJ6]',\n",
       " 'Ras-related protein rab-11.1  [Source:UniProtKB/Swiss-Prot;Acc:O01803]',\n",
       " '60S ribosomal protein L7  [Source:UniProtKB/Swiss-Prot;Acc:O01802]',\n",
       " 'COLlagen  [Source:UniProtKB/TrEMBL;Acc:V6CM19]',\n",
       " 'Spermatocyte protein spe-8  [Source:UniProtKB/Swiss-Prot;Acc:O01798]']"
      ]
     },
     "execution_count": 10,
     "metadata": {},
     "output_type": "execute_result"
    }
   ],
   "source": [
    "res[:10]"
   ]
  },
  {
   "cell_type": "code",
   "execution_count": 11,
   "metadata": {},
   "outputs": [],
   "source": [
    "res = (attr[\"value\"]  for attr in attributes if \"UniProtKB\" in str(attr[\"value\"]))"
   ]
  },
  {
   "cell_type": "code",
   "execution_count": 12,
   "metadata": {},
   "outputs": [
    {
     "data": {
      "text/plain": [
       "'Alpha N-terminal protein methyltransferase 1  [Source:UniProtKB/Swiss-Prot;Acc:Q9N4D9]'"
      ]
     },
     "execution_count": 12,
     "metadata": {},
     "output_type": "execute_result"
    }
   ],
   "source": [
    "next(res)"
   ]
  },
  {
   "cell_type": "code",
   "execution_count": 13,
   "metadata": {},
   "outputs": [
    {
     "data": {
      "text/plain": [
       "['Neuropeptide-like peptides nlp-40 Peptide P1 Peptide P2 Peptide P3 Peptide P4 [Source:UniProtKB/Swiss-Prot;Acc:Q9N4D8]',\n",
       " 'RCOR (REST CO-Repressor) homolog  [Source:UniProtKB/TrEMBL;Acc:H2KZI1]',\n",
       " 'Sestrin homolog  [Source:UniProtKB/Swiss-Prot;Acc:Q9N4D6]',\n",
       " 'CDP-diacylglycerol--glycerol-3-phosphate 3-phosphatidyltransferase  [Source:UniProtKB/TrEMBL;Acc:Q9BL79]',\n",
       " 'Tyrosine-protein kinase csk-1  [Source:UniProtKB/Swiss-Prot;Acc:G5ECJ6]',\n",
       " 'Ras-related protein rab-11.1  [Source:UniProtKB/Swiss-Prot;Acc:O01803]',\n",
       " '60S ribosomal protein L7  [Source:UniProtKB/Swiss-Prot;Acc:O01802]',\n",
       " 'COLlagen  [Source:UniProtKB/TrEMBL;Acc:V6CM19]',\n",
       " 'Spermatocyte protein spe-8  [Source:UniProtKB/Swiss-Prot;Acc:O01798]',\n",
       " 'Muscle EXcess  [Source:UniProtKB/TrEMBL;Acc:V6CKQ3]']"
      ]
     },
     "execution_count": 13,
     "metadata": {},
     "output_type": "execute_result"
    }
   ],
   "source": [
    "[next(res) for i in range(10)]"
   ]
  },
  {
   "cell_type": "markdown",
   "metadata": {},
   "source": [
    "### <font color = \"red\">Exercise</font>\n",
    "\n",
    "Compute a comprehension that retrives only unique attribute tags of attributes that contain \"UniProtKB\".  \n",
    "Compute a comprehension that retrives the attribute id and the tag (dict item) of attributes that contain \"UniProtKB\" and \"binding protein homolog\".  \n",
    "Display the first 10 values.  \n",
    "\n",
    "\n",
    "\n",
    "\n",
    "\n"
   ]
  },
  {
   "cell_type": "code",
   "execution_count": 14,
   "metadata": {},
   "outputs": [
    {
     "data": {
      "text/plain": [
       "{'description'}"
      ]
     },
     "execution_count": 14,
     "metadata": {},
     "output_type": "execute_result"
    }
   ],
   "source": [
    "res = {attr[\"tag\"]  for attr in attributes if \"UniProtKB\" in str(attr[\"value\"])}\n",
    "res"
   ]
  },
  {
   "cell_type": "code",
   "execution_count": 15,
   "metadata": {},
   "outputs": [
    {
     "data": {
      "text/plain": [
       "{124568: 'Acyl-CoA-binding protein homolog 1  [Source:UniProtKB/Swiss-Prot;Acc:O01805]',\n",
       " 209132: 'Fatty acid-binding protein homolog 6  [Source:UniProtKB/Swiss-Prot;Acc:O01812]',\n",
       " 209190: 'Fatty acid-binding protein homolog 5  [Source:UniProtKB/Swiss-Prot;Acc:O01814]',\n",
       " 656819: 'TIA-1/TIAL RNA binding protein homolog  [Source:UniProtKB/TrEMBL;Acc:Q8IG50]',\n",
       " 669382: 'Retinoblastoma-binding protein homolog 5  [Source:UniProtKB/Swiss-Prot;Acc:Q09309]',\n",
       " 714091: 'FUS/TLS RNA binding protein homolog  [Source:UniProtKB/TrEMBL;Acc:A0A1N7SYQ6]',\n",
       " 791447: 'Tar DNA-binding protein homolog 1  [Source:UniProtKB/Swiss-Prot;Acc:D0VWM8]',\n",
       " 913322: 'TIA-1/TIAL RNA binding protein homolog  [Source:UniProtKB/TrEMBL;Acc:Q9U2F5]',\n",
       " 926596: 'Single-stranded DNA-binding protein homolog sam-10  [Source:UniProtKB/Swiss-Prot;Acc:B7FAS6]',\n",
       " 2319458: 'Fatty acid-binding protein homolog 9  [Source:UniProtKB/Swiss-Prot;Acc:Q965W1]',\n",
       " 2492196: 'Fatty acid-binding protein homolog 4  [Source:UniProtKB/Swiss-Prot;Acc:Q23092]',\n",
       " 2495330: 'Phosphatidylethanolamine-binding protein homolog F40A3.3  [Source:UniProtKB/Swiss-Prot;Acc:O16264]',\n",
       " 2710566: 'Fatty acid-binding protein homolog 7  [Source:UniProtKB/Swiss-Prot;Acc:O02323]',\n",
       " 2985783: 'Fatty acid-binding protein homolog 3  [Source:UniProtKB/Swiss-Prot;Acc:Q20222]',\n",
       " 2985891: 'Fatty acid-binding protein homolog 1  [Source:UniProtKB/Swiss-Prot;Acc:Q20223]',\n",
       " 2985977: 'Fatty acid-binding protein homolog 2  [Source:UniProtKB/Swiss-Prot;Acc:Q20224]',\n",
       " 3215343: 'TIA-1/TIAL RNA binding protein homolog  [Source:UniProtKB/TrEMBL;Acc:Q93194]',\n",
       " 3244652: 'Acyl-CoA-binding protein homolog 3  [Source:UniProtKB/Swiss-Prot;Acc:Q20507]'}"
      ]
     },
     "execution_count": 15,
     "metadata": {},
     "output_type": "execute_result"
    }
   ],
   "source": [
    "res = {attr[\"attrid\"]:attr[\"value\"]  for attr in attributes if \"UniProtKB\" in str(attr[\"value\"]) and \"binding protein homolog\" in str(attr[\"value\"])}\n",
    "res"
   ]
  },
  {
   "cell_type": "code",
   "execution_count": null,
   "metadata": {},
   "outputs": [],
   "source": []
  },
  {
   "cell_type": "markdown",
   "metadata": {},
   "source": [
    "___\n",
    "### <font color = \"red\">Exercise</font>\n",
    "\n",
    "Create a small feature list with only 20 features.   \n",
    "Create a small attribute list with only 30 attributes.   \n",
    "Compute a comprehension that retrives the featureid, type, score and tag and value for only attributes that have values that contain \"UniProtKB\"\n",
    "\n",
    "\n"
   ]
  },
  {
   "cell_type": "code",
   "execution_count": null,
   "metadata": {},
   "outputs": [],
   "source": []
  },
  {
   "cell_type": "code",
   "execution_count": 16,
   "metadata": {},
   "outputs": [],
   "source": [
    "small_features = features[:20]\n",
    "small_attributes = attributes[:30]"
   ]
  },
  {
   "cell_type": "code",
   "execution_count": 17,
   "metadata": {},
   "outputs": [
    {
     "data": {
      "text/plain": [
       "[(5,\n",
       "  'gene',\n",
       "  '.',\n",
       "  'description',\n",
       "  'Alpha N-terminal protein methyltransferase 1  [Source:UniProtKB/Swiss-Prot;Acc:Q9N4D9]')]"
      ]
     },
     "execution_count": 17,
     "metadata": {},
     "output_type": "execute_result"
    }
   ],
   "source": [
    "res = [(feat[\"featureid\"], feat[\"type\"], feat[\"score\"], attr[\"tag\"], attr[\"value\"])  \n",
    "       for feat in small_features \n",
    "       for attr in small_attributes \n",
    "       if \"UniProtKB\" in attr[\"value\"] and feat[\"featureid\"] == attr[\"featureid\"]]\n",
    "res[:10]\n"
   ]
  },
  {
   "cell_type": "code",
   "execution_count": 18,
   "metadata": {},
   "outputs": [
    {
     "data": {
      "text/plain": [
       "[(1, 'chromosome', '.', 'ID', 'chromosome:I'),\n",
       " (1, 'chromosome', '.', 'Alias', 'BX284601.5'),\n",
       " (1, 'chromosome', '.', 'Alias', 'NC_003279.8'),\n",
       " (2, 'ncRNA_gene', '.', 'ID', 'gene:WBGene00023193'),\n",
       " (2, 'ncRNA_gene', '.', 'Name', 'Y74C9A.6'),\n",
       " (2, 'ncRNA_gene', '.', 'biotype', 'snoRNA'),\n",
       " (2, 'ncRNA_gene', '.', 'gene_id', 'WBGene00023193'),\n",
       " (2, 'ncRNA_gene', '.', 'logic_name', 'wormbase_non_coding'),\n",
       " (3, 'snoRNA', '.', 'ID', 'transcript:Y74C9A.6'),\n",
       " (3, 'snoRNA', '.', 'Parent', 'gene:WBGene00023193'),\n",
       " (3, 'snoRNA', '.', 'Name', 'Y74C9A.6'),\n",
       " (3, 'snoRNA', '.', 'biotype', 'snoRNA'),\n",
       " (3, 'snoRNA', '.', 'transcript_id', 'Y74C9A.6'),\n",
       " (4, 'exon', '.', 'Parent', 'transcript:Y74C9A.6'),\n",
       " (4, 'exon', '.', 'Name', 'Y74C9A.6.e1'),\n",
       " (4, 'exon', '.', 'constitutive', '1'),\n",
       " (4, 'exon', '.', 'ensembl_end_phase', '-1'),\n",
       " (4, 'exon', '.', 'ensembl_phase', '-1'),\n",
       " (4, 'exon', '.', 'exon_id', 'Y74C9A.6.e1'),\n",
       " (4, 'exon', '.', 'rank', '1'),\n",
       " (4, 'exon', '.', 'version', '1')]"
      ]
     },
     "execution_count": 18,
     "metadata": {},
     "output_type": "execute_result"
    }
   ],
   "source": [
    "res = [(feat[\"featureid\"], feat[\"type\"], feat[\"score\"], attr[\"tag\"], attr[\"value\"])  \n",
    "       for feat in small_features \n",
    "       for attr in small_attributes \n",
    "       if feat[\"featureid\"] < 5 and feat[\"featureid\"] == attr[\"featureid\"]]\n",
    "res"
   ]
  },
  {
   "cell_type": "code",
   "execution_count": null,
   "metadata": {},
   "outputs": [],
   "source": []
  }
 ],
 "metadata": {
  "kernelspec": {
   "display_name": "Python 3",
   "language": "python",
   "name": "python3"
  },
  "language_info": {
   "codemirror_mode": {
    "name": "ipython",
    "version": 3
   },
   "file_extension": ".py",
   "mimetype": "text/x-python",
   "name": "python",
   "nbconvert_exporter": "python",
   "pygments_lexer": "ipython3",
   "version": "3.8.3"
  }
 },
 "nbformat": 4,
 "nbformat_minor": 4
}
