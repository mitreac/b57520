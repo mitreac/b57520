{
 "cells": [
  {
   "cell_type": "markdown",
   "metadata": {},
   "source": [
    "## Study session 12 - data analysis\n",
    "### BIOINF 575 - Fall 2020\n",
    "SOLUTION"
   ]
  },
  {
   "cell_type": "markdown",
   "metadata": {},
   "source": [
    "____\n",
    "\n",
    "### <font color = \"red\">Exercise</font>\n",
    "\n",
    "[ClinVar][1] is a freely accessible, public archive of reports of the relationships among human variations and phenotypes, with supporting evidence.\n",
    "\n",
    "\n",
    "The data you will be working with (`clinvar.vcf`).  More information about the database can be found [here][3].\n",
    "\n",
    "From: https://ftp.ncbi.nlm.nih.gov/pub/clinvar/vcf_GRCh38/\n",
    "\n",
    "Download the file clinvar.vcf.gz\n",
    "\n",
    "\n",
    "### The file format\n",
    "The beginning of every VCF file contains various sets of information:\n",
    "* Meta-information (details about the experiment or configuration) lines start with **`##`**\n",
    "    * These lines are helpful in understanding specialized keys found in the `INFO` column. It is in these sections that one can find:\n",
    "        * The description of the key\n",
    "        * The data type of the values\n",
    "        * The default value of the values\n",
    "* Header lines (column names) start with **`#`**\n",
    "\n",
    "From there on, each line is made up of tab (`\\t`) separated values that make up eight (8) columns. Those columns are:\n",
    "1. CHROM (chromosome)\n",
    "2. POS (base pair position of the variant)\n",
    "3. ID (identifier if applicable; `.` if not applicable/missing)\n",
    "4. REF (reference base)\n",
    "5. ALT (alternate base(s): comma (`,`) separated if applicable)\n",
    "6. QUAL (Phred-scaled quality score; `.` if not applicable/missing)\n",
    "7. FILTER (filter status; `.` if not applicable/missing)\n",
    "8. INFO (any additional information about the variant)\n",
    "    * Semi-colon (`;`) separated key-value pairs\n",
    "    * Key-value pairs are equal sign (`=`) separated (key on the left, value on the right)\n",
    "    * If a key has multiple values, the values are pipe (`|`) separated\n",
    "\n",
    "---\n",
    "[1]: https://www.ncbi.nlm.nih.gov/clinvar/intro/\n",
    "[2]: https://samtools.github.io/hts-specs/VCFv4.3.pdf\n",
    "[3]: http://exac.broadinstitute.org\n",
    "\n",
    "\n"
   ]
  },
  {
   "cell_type": "markdown",
   "metadata": {},
   "source": [
    "### Create a database clinvar_database.sqlite and in that database create a table `variant` and a table `variant_info` \n",
    "\n",
    "#### variant table columns:\n",
    "\n",
    "- variant_id - int primary key autoincrement\n",
    "- CHROM - string\n",
    "- POS - int\n",
    "- ID - string \n",
    "- REF - string\n",
    "- ALT - string  \n",
    "- QUAL - string \n",
    "- FILTER - string  \n",
    "\n",
    "#### variant_info table columns\n",
    "\n",
    "- variant_id int foreign key to variant_id in the variant table\n",
    "- key - string\n",
    "- value - string\n",
    "\n"
   ]
  },
  {
   "cell_type": "markdown",
   "metadata": {},
   "source": [
    "##### WHILE DEVELOPING YOUR SOLUTION YOU MAY WANT OT RESET/CLEAR YOUR TABLES\n",
    "##### you will get erros if you want to insert data that is already in the table\n",
    "##### to clear a talbe use \n",
    "```sql\n",
    "DELETE FROM table_name \n",
    "```"
   ]
  },
  {
   "cell_type": "code",
   "execution_count": null,
   "metadata": {},
   "outputs": [],
   "source": []
  },
  {
   "cell_type": "code",
   "execution_count": null,
   "metadata": {},
   "outputs": [],
   "source": []
  },
  {
   "cell_type": "code",
   "execution_count": null,
   "metadata": {},
   "outputs": [],
   "source": []
  },
  {
   "cell_type": "code",
   "execution_count": null,
   "metadata": {},
   "outputs": [],
   "source": []
  },
  {
   "cell_type": "code",
   "execution_count": 1,
   "metadata": {},
   "outputs": [],
   "source": [
    "from sqlite3 import connect\n",
    "\n",
    "connection = connect(\"clinvar_database.sqlite\")\n",
    "cursor = connection.cursor()"
   ]
  },
  {
   "cell_type": "code",
   "execution_count": null,
   "metadata": {},
   "outputs": [],
   "source": []
  },
  {
   "cell_type": "code",
   "execution_count": 2,
   "metadata": {},
   "outputs": [],
   "source": [
    "# nice display of results header \n",
    "\n",
    "def get_header(cursor):\n",
    "    '''\n",
    "    Makes a tab delimited header row from the cursor description.\n",
    "    Arguments:\n",
    "        cursor: a cursor after a select query\n",
    "    Returns:\n",
    "        string: A string consisting of the column names separated by tabs, no new line\n",
    "    '''\n",
    "    return '\\t'.join([row[0] for row in cursor.description])\n"
   ]
  },
  {
   "cell_type": "code",
   "execution_count": 3,
   "metadata": {},
   "outputs": [],
   "source": [
    "# nice display of results  \n",
    "\n",
    "def get_results(cursor):\n",
    "    '''\n",
    "    Makes a tab delimited table from the cursor results.\n",
    "    Arguments:\n",
    "        cursor: a cursor after a select query\n",
    "    Returns:\n",
    "        string: A string consisting of the column names separated by tabs, no new line\n",
    "    ''' \n",
    "    res = list()\n",
    "    for row in cursor.fetchall():        \n",
    "        res.append('\\t'.join(list(map(str,row))))\n",
    "    return \"\\n\".join(res)"
   ]
  },
  {
   "cell_type": "code",
   "execution_count": 4,
   "metadata": {},
   "outputs": [
    {
     "name": "stdout",
     "output_type": "stream",
     "text": [
      "Create table successful.\n",
      "done!\n"
     ]
    }
   ],
   "source": [
    "sql='''\n",
    "CREATE TABLE IF NOT EXISTS variant (\n",
    " variant_id INTEGER PRIMARY KEY AUTOINCREMENT,\n",
    " CHROM  TEXT NOT NULL,\n",
    " POS  INTEGER NOT NULL, \n",
    " ID  TEXT,\n",
    " REF  TEXT,\n",
    " ALT  TEXT,  \n",
    " QUAL TEXT, \n",
    " FILTER  TEXT \n",
    ");\n",
    "'''\n",
    "try:\n",
    "    cursor.execute(sql)\n",
    "except connection.DatabaseError:\n",
    "    print(\"Creating the variant table resulted in a database error!\")\n",
    "    connection.rollback()\n",
    "    raise\n",
    "else:\n",
    "    connection.commit()\n",
    "    print(\"Create table successful.\")\n",
    "finally:\n",
    "    print(\"done!\")"
   ]
  },
  {
   "cell_type": "code",
   "execution_count": null,
   "metadata": {},
   "outputs": [],
   "source": []
  },
  {
   "cell_type": "code",
   "execution_count": null,
   "metadata": {},
   "outputs": [],
   "source": []
  },
  {
   "cell_type": "code",
   "execution_count": 5,
   "metadata": {},
   "outputs": [
    {
     "name": "stdout",
     "output_type": "stream",
     "text": [
      "Create table successful.\n",
      "done!\n"
     ]
    }
   ],
   "source": [
    "sql='''\n",
    "CREATE TABLE IF NOT EXISTS variant_info (\n",
    " variant_id INTEGER NOT NULL,\n",
    " key  TEXT NOT NULL,\n",
    " value TEXT NOT NULL,\n",
    " FOREIGN KEY (variant_id) REFERENCES  variant  (variant_id)\n",
    ");\n",
    "'''\n",
    "try:\n",
    "    cursor.execute(sql)\n",
    "except connection.DatabaseError:\n",
    "    print(\"Creating the variant_info table resulted in a database error!\")\n",
    "    connection.rollback()\n",
    "    raise\n",
    "else:\n",
    "    connection.commit()\n",
    "    print(\"Create table successful.\")\n",
    "finally:\n",
    "    print(\"done!\")"
   ]
  },
  {
   "cell_type": "code",
   "execution_count": null,
   "metadata": {},
   "outputs": [],
   "source": []
  },
  {
   "cell_type": "code",
   "execution_count": 6,
   "metadata": {},
   "outputs": [
    {
     "name": "stdout",
     "output_type": "stream",
     "text": [
      "type\tname\n",
      "table\tvariant\n",
      "table\tsqlite_sequence\n",
      "table\tvariant_info\n"
     ]
    }
   ],
   "source": [
    "# check in the sqlite_master table that we have the new tables\n",
    "select_count_variant = \"\"\"\n",
    "SELECT type, name \n",
    "FROM sqlite_master;\n",
    "\"\"\"\n",
    "cursor.execute(select_count_variant)\n",
    "\n",
    "print(get_header(cursor))\n",
    "print(get_results(cursor))\n"
   ]
  },
  {
   "cell_type": "markdown",
   "metadata": {},
   "source": [
    "### Populate the `variant` table and the `variant_info` table with the information form clinvar.vcf\n",
    "\n"
   ]
  },
  {
   "cell_type": "code",
   "execution_count": null,
   "metadata": {},
   "outputs": [],
   "source": []
  },
  {
   "cell_type": "code",
   "execution_count": null,
   "metadata": {},
   "outputs": [],
   "source": []
  },
  {
   "cell_type": "code",
   "execution_count": null,
   "metadata": {},
   "outputs": [],
   "source": []
  },
  {
   "cell_type": "code",
   "execution_count": null,
   "metadata": {},
   "outputs": [],
   "source": []
  },
  {
   "cell_type": "code",
   "execution_count": 7,
   "metadata": {},
   "outputs": [],
   "source": [
    "variant_file_name = \"clinvar.vcf\"\n"
   ]
  },
  {
   "cell_type": "code",
   "execution_count": null,
   "metadata": {},
   "outputs": [],
   "source": []
  },
  {
   "cell_type": "code",
   "execution_count": 8,
   "metadata": {},
   "outputs": [],
   "source": [
    "# WHILE DEVELOPING YOUR SOLUTION YOU MAY WANT OT RESET/CLEAR YOUR TABLES\n",
    "# you will get erros if you want to insert data that is already in the table\n",
    "\n",
    "cursor.execute(\"DELETE FROM variant_info;\")\n",
    "cursor.execute(\"DELETE FROM variant;\")\n",
    "connection.commit()"
   ]
  },
  {
   "cell_type": "code",
   "execution_count": 9,
   "metadata": {},
   "outputs": [
    {
     "name": "stdout",
     "output_type": "stream",
     "text": [
      "processed 100000 rows\n",
      "processed 200000 rows\n",
      "processed 300000 rows\n",
      "processed 400000 rows\n",
      "processed 500000 rows\n",
      "processed 600000 rows\n",
      "processed 700000 rows\n"
     ]
    }
   ],
   "source": [
    "### Version 1 insert elements one by one as we build them from the file\n",
    "### use cursor.execute and a list with the elements for one row in the file\n",
    "\n",
    "variant_id = 0\n",
    "variant_list = []\n",
    "info_list = []\n",
    "with open(variant_file_name) as var_file:\n",
    "    for line in var_file:\n",
    "        if not line.startswith('#'):\n",
    "            variant_id +=1\n",
    "            *variant_list_elem, info_text = line.strip().split(\"\\t\")\n",
    "            variant_list_elem.insert(0,variant_id)\n",
    "            #print(variant_list_elem)\n",
    "            insert_statement_var = f\"\"\"\n",
    "                INSERT INTO variant (variant_id, CHROM, POS, ID, REF, ALT, QUAL, FILTER)\n",
    "                VALUES (?, ?, ?, ?, ?, ?, ?, ?);\n",
    "            \"\"\"\n",
    "            cursor.execute(insert_statement_var, variant_list_elem)\n",
    "\n",
    "            for info_pair in info_text.split(\";\"):\n",
    "                key,values = info_pair.split(\"=\")\n",
    "                for value in values.split(\"|\"):\n",
    "                    info_elem = (variant_id, key, value)\n",
    "                    #print(info_elem)\n",
    "                    insert_statement_var_info = f\"\"\"\n",
    "                        INSERT INTO variant_info (variant_id, key, value)\n",
    "                        VALUES (?, ?, ?);\n",
    "                    \"\"\"\n",
    "                    cursor.execute(insert_statement_var_info, info_elem)\n",
    "            #break\n",
    "            if variant_id % 100000 == 0:\n",
    "                print(\"processed\",variant_id, \"rows\")\n",
    "            \n",
    "connection.commit()"
   ]
  },
  {
   "cell_type": "markdown",
   "metadata": {},
   "source": [
    "_____"
   ]
  },
  {
   "cell_type": "code",
   "execution_count": null,
   "metadata": {},
   "outputs": [],
   "source": []
  },
  {
   "cell_type": "code",
   "execution_count": null,
   "metadata": {},
   "outputs": [],
   "source": []
  },
  {
   "cell_type": "code",
   "execution_count": 10,
   "metadata": {},
   "outputs": [],
   "source": [
    "# WHILE DEVELOPING YOUR SOLUTION YOU MAY WANT OT RESET/CLEAR YOUR TABLES\n",
    "# you will get erros if you want to insert data that is already in the table\n",
    "\n",
    "cursor.execute(\"DELETE FROM variant_info;\")\n",
    "cursor.execute(\"DELETE FROM variant;\")\n",
    "connection.commit()"
   ]
  },
  {
   "cell_type": "code",
   "execution_count": 11,
   "metadata": {},
   "outputs": [
    {
     "name": "stdout",
     "output_type": "stream",
     "text": [
      "processed 800000 rows\n",
      "processed 900000 rows\n",
      "processed 1000000 rows\n",
      "processed 1100000 rows\n",
      "processed 1200000 rows\n",
      "processed 1300000 rows\n",
      "processed 1400000 rows\n",
      "processed 1500000 rows\n"
     ]
    }
   ],
   "source": [
    "### Version 1.1 insert elements one by one as we build them from the file\n",
    "### use cursor.execute and a list with the elements for one row in the file\n",
    "### use cursor.lastrowid to get the variant id\n",
    "\n",
    "variant_id = 0\n",
    "variant_list = []\n",
    "info_list = []\n",
    "with open(variant_file_name) as var_file:\n",
    "    for line in var_file:\n",
    "        if not line.startswith('#'):\n",
    "            variant_id +=1\n",
    "            *variant_list_elem, info_text = line.strip().split(\"\\t\")\n",
    "\n",
    "            #print(variant_list_elem)\n",
    "            insert_statement_var = f\"\"\"\n",
    "                INSERT INTO variant (CHROM, POS, ID, REF, ALT, QUAL, FILTER)\n",
    "                VALUES (?, ?, ?, ?, ?, ?, ?);\n",
    "            \"\"\"\n",
    "            cursor.execute(insert_statement_var, variant_list_elem)\n",
    "            variant_id = cursor.lastrowid\n",
    "            \n",
    "            for info_pair in info_text.split(\";\"):\n",
    "                key,values = info_pair.split(\"=\")\n",
    "                for value in values.split(\"|\"):\n",
    "                    info_elem = (variant_id, key, value)\n",
    "                    #print(info_elem)\n",
    "                    insert_statement_var_info = f\"\"\"\n",
    "                        INSERT INTO variant_info (variant_id, key, value)\n",
    "                        VALUES (?, ?, ?);\n",
    "                    \"\"\"\n",
    "                    cursor.execute(insert_statement_var_info, info_elem)\n",
    "            #break\n",
    "            if variant_id % 100000 == 0:\n",
    "                print(\"processed\",variant_id, \"rows\")\n",
    "            \n",
    "connection.commit()"
   ]
  },
  {
   "cell_type": "markdown",
   "metadata": {},
   "source": [
    "______"
   ]
  },
  {
   "cell_type": "code",
   "execution_count": 12,
   "metadata": {},
   "outputs": [],
   "source": [
    "# WHILE DEVELOPING YOUR SOLUTION YOU MAY WANT OT RESET/CLEAR YOUR TABLES\n",
    "# you will get erros if you want to insert data that is already in the table\n",
    "\n",
    "cursor.execute(\"DELETE FROM variant_info;\")\n",
    "cursor.execute(\"DELETE FROM variant;\")\n",
    "connection.commit()"
   ]
  },
  {
   "cell_type": "code",
   "execution_count": null,
   "metadata": {},
   "outputs": [],
   "source": []
  },
  {
   "cell_type": "code",
   "execution_count": 13,
   "metadata": {},
   "outputs": [],
   "source": [
    "# THIS IS part of version 2 of the solution.\n",
    "\n",
    "# Function to create a template for sql insert command \n",
    "# and return the command text for a specific table\n",
    "\n",
    "def insert_function(table_name,col_names):\n",
    "    \n",
    "    insert_template = f\"\"\"\n",
    "    INSERT INTO {table_name} ({\",\".join(col_names)})\n",
    "    VALUES ({\",\".join([\"?\" for i in range(len(col_names))])});\n",
    "    \"\"\"\n",
    "    \n",
    "    return insert_template"
   ]
  },
  {
   "cell_type": "code",
   "execution_count": 14,
   "metadata": {},
   "outputs": [
    {
     "name": "stdout",
     "output_type": "stream",
     "text": [
      "processed 100000 rows\n",
      "processed 200000 rows\n",
      "processed 300000 rows\n",
      "processed 400000 rows\n",
      "processed 500000 rows\n",
      "processed 600000 rows\n",
      "processed 700000 rows\n"
     ]
    }
   ],
   "source": [
    "### Version 2 insert all elements at the same time after we build list of elements (rows) for each table\n",
    "### use cursor.executemany and a list of lists wheter each element of the big list is \n",
    "### a list/tuple with the elements for one row in the file\n",
    "\n",
    "\n",
    "variant_id = 0\n",
    "variant_list = []\n",
    "info_list = []\n",
    "with open(variant_file_name) as var_file:\n",
    "    for line in var_file:\n",
    "        if not line.startswith('#'):\n",
    "            variant_id +=1\n",
    "            *variant_list_elem, info_text = line.strip().split(\"\\t\")\n",
    "            variant_list_elem.insert(0,variant_id)\n",
    "            variant_list.append(variant_list_elem)\n",
    "            #print(variant_list)\n",
    "            for info_pair in info_text.split(\";\"):\n",
    "                key,values = info_pair.split(\"=\")\n",
    "                for value in values.split(\"|\"):\n",
    "                    info_elem = (variant_id, key, value)\n",
    "                    info_list.append(info_elem)\n",
    "            #print(info_list)\n",
    "            #break\n",
    "            if variant_id % 100000 == 0:\n",
    "                print(\"processed\",variant_id, \"rows\")\n",
    "                \n",
    "variant_cols = (\"variant_id\", \"CHROM\", \"POS\", \"ID\", \"REF\", \"ALT\", \"QUAL\", \"FILTER\") \n",
    "variant_info_cols = (\"variant_id\", \"key\", \"value\")\n",
    "\n",
    "insert_statement = insert_function(\"variant\", variant_cols)\n",
    "cursor.executemany(insert_statement, variant_list)\n",
    "\n",
    "insert_statement = insert_function(\"variant_info\", variant_info_cols)\n",
    "cursor.executemany(insert_statement, info_list)\n",
    "\n",
    "connection.commit()"
   ]
  },
  {
   "cell_type": "markdown",
   "metadata": {},
   "source": [
    "______"
   ]
  },
  {
   "cell_type": "code",
   "execution_count": null,
   "metadata": {},
   "outputs": [],
   "source": []
  },
  {
   "cell_type": "code",
   "execution_count": null,
   "metadata": {},
   "outputs": [],
   "source": []
  },
  {
   "cell_type": "markdown",
   "metadata": {},
   "source": [
    "### Use a select statment to retrieve the number of rows in the variats table\n",
    "\n"
   ]
  },
  {
   "cell_type": "code",
   "execution_count": null,
   "metadata": {},
   "outputs": [],
   "source": []
  },
  {
   "cell_type": "code",
   "execution_count": null,
   "metadata": {},
   "outputs": [],
   "source": []
  },
  {
   "cell_type": "code",
   "execution_count": null,
   "metadata": {},
   "outputs": [],
   "source": []
  },
  {
   "cell_type": "code",
   "execution_count": 15,
   "metadata": {},
   "outputs": [
    {
     "name": "stdout",
     "output_type": "stream",
     "text": [
      "VARIANT NUMBER\n",
      "778088\n"
     ]
    }
   ],
   "source": [
    "select_count_variant = \"\"\"\n",
    "SELECT count(*) \"VARIANT NUMBER\"\n",
    "FROM variant;\n",
    "\"\"\"\n",
    "cursor.execute(select_count_variant)\n",
    "\n",
    "print(get_header(cursor))\n",
    "print(get_results(cursor))"
   ]
  },
  {
   "cell_type": "code",
   "execution_count": null,
   "metadata": {},
   "outputs": [],
   "source": []
  },
  {
   "cell_type": "code",
   "execution_count": null,
   "metadata": {},
   "outputs": [],
   "source": []
  },
  {
   "cell_type": "markdown",
   "metadata": {},
   "source": [
    "### Use a select statment to compute the number of info elements for each variant\n",
    "#### Retrieve the first 20 rows\n"
   ]
  },
  {
   "cell_type": "code",
   "execution_count": null,
   "metadata": {},
   "outputs": [],
   "source": []
  },
  {
   "cell_type": "code",
   "execution_count": null,
   "metadata": {},
   "outputs": [],
   "source": []
  },
  {
   "cell_type": "code",
   "execution_count": null,
   "metadata": {},
   "outputs": [],
   "source": []
  },
  {
   "cell_type": "code",
   "execution_count": 16,
   "metadata": {},
   "outputs": [
    {
     "name": "stdout",
     "output_type": "stream",
     "text": [
      "VAR_ID\tINFO_NO\n",
      "1\t12\n",
      "2\t12\n",
      "3\t16\n",
      "4\t12\n",
      "5\t12\n",
      "6\t12\n",
      "7\t12\n",
      "8\t12\n",
      "9\t12\n",
      "10\t12\n",
      "11\t12\n",
      "12\t12\n",
      "13\t12\n",
      "14\t12\n",
      "15\t12\n",
      "16\t12\n",
      "17\t13\n",
      "18\t12\n",
      "19\t12\n",
      "20\t12\n"
     ]
    }
   ],
   "source": [
    "select_count_variant = \"\"\"\n",
    "SELECT variant_id VAR_ID, count(variant_id) AS INFO_NO\n",
    "FROM variant_info\n",
    "GROUP BY variant_id\n",
    "LIMIT 20;\n",
    "\"\"\"\n",
    "cursor.execute(select_count_variant)\n",
    "\n",
    "print(get_header(cursor))\n",
    "print(get_results(cursor))"
   ]
  },
  {
   "cell_type": "code",
   "execution_count": null,
   "metadata": {},
   "outputs": [],
   "source": []
  },
  {
   "cell_type": "code",
   "execution_count": null,
   "metadata": {},
   "outputs": [],
   "source": []
  },
  {
   "cell_type": "markdown",
   "metadata": {},
   "source": [
    "### Use a select statment to retrieve the variant identifier (ID column in the variant table should be different than \".\") and gene names (key = GENEINFO) in the varinat_info table for variants in chromosome 3\n",
    "#### Limit result to  to 50 rows."
   ]
  },
  {
   "cell_type": "code",
   "execution_count": null,
   "metadata": {},
   "outputs": [],
   "source": []
  },
  {
   "cell_type": "code",
   "execution_count": null,
   "metadata": {},
   "outputs": [],
   "source": []
  },
  {
   "cell_type": "code",
   "execution_count": null,
   "metadata": {},
   "outputs": [],
   "source": []
  },
  {
   "cell_type": "code",
   "execution_count": null,
   "metadata": {},
   "outputs": [],
   "source": []
  },
  {
   "cell_type": "code",
   "execution_count": 17,
   "metadata": {},
   "outputs": [
    {
     "name": "stdout",
     "output_type": "stream",
     "text": [
      "VID\tGENE_INFO\n",
      "983061\tCHL1:10752\n",
      "718047\tCHL1:10752\n",
      "758185\tCHL1:10752\n",
      "767882\tCHL1:10752\n",
      "773668\tCHL1:10752\n",
      "738430\tCHL1:10752\n",
      "726676\tCHL1:10752\n",
      "724082\tCHL1:10752\n",
      "708287\tCHL1:10752\n",
      "787658\tCHL1:10752\n",
      "748438\tCHL1:10752\n",
      "739136\tCHL1:10752\n",
      "750976\tCHL1:10752\n",
      "783995\tCHL1:10752\n",
      "787251\tCHL1:10752\n",
      "708386\tCHL1:10752\n",
      "763543\tCHL1:10752\n",
      "379251\tCHL1:10752\n",
      "750399\tCHL1:10752\n",
      "718007\tCHL1:10752\n",
      "731515\tCHL1:10752\n",
      "716766\tCHL1:10752\n",
      "789576\tCHL1:10752\n",
      "740758\tCHL1:10752\n",
      "740758\tCHL1-AS1:101927193\n",
      "710904\tCHL1:10752\n",
      "710904\tCHL1-AS1:101927193\n",
      "743671\tCHL1:10752\n",
      "743671\tCHL1-AS1:101927193\n",
      "729796\tCHL1:10752\n",
      "729796\tCHL1-AS1:101927193\n",
      "799385\tCHL1:10752\n",
      "799385\tCHL1-AS1:101927193\n",
      "788967\tCHL1:10752\n",
      "731691\tCHL1:10752\n",
      "730538\tCHL1:10752\n",
      "782983\tCHL1:10752\n",
      "791904\tCHL1:10752\n",
      "790345\tCHL1:10752\n",
      "754934\tCHL1:10752\n",
      "792392\tCHL1:10752\n",
      "757696\tCHL1:10752\n",
      "737303\tCHL1:10752\n",
      "718247\tCHL1:10752\n",
      "728649\tCHL1:10752\n",
      "746696\tCHL1:10752\n",
      "773864\tCNTN6:27255\n",
      "774840\tCNTN6:27255\n",
      "758226\tCNTN6:27255\n",
      "778061\tCNTN6:27255\n"
     ]
    }
   ],
   "source": [
    "select_count_variant = \"\"\"\n",
    "SELECT v.ID VID, vi.value GENE_INFO\n",
    "FROM variant v\n",
    "JOIN variant_info vi ON v.variant_id = vi.variant_id\n",
    "WHERE v.CHROM = '3' AND v.ID <> \".\" AND vi.key = \"GENEINFO\"\n",
    "LIMIT 50;\n",
    "\"\"\"\n",
    "cursor.execute(select_count_variant)\n",
    "\n",
    "print(get_header(cursor))\n",
    "print(get_results(cursor))"
   ]
  },
  {
   "cell_type": "code",
   "execution_count": 18,
   "metadata": {},
   "outputs": [
    {
     "name": "stdout",
     "output_type": "stream",
     "text": [
      "VID\tPOS\tRSID\tGENE_INFO\n",
      "718047\t319804\t139673243\tCHL1:10752\n",
      "758185\t319812\t766975263\tCHL1:10752\n",
      "767882\t319864\t116261368\tCHL1:10752\n",
      "773668\t325956\t200543338\tCHL1:10752\n",
      "738430\t328173\t200045243\tCHL1:10752\n",
      "726676\t328209\t1373131590\tCHL1:10752\n",
      "724082\t328248\t13318299\tCHL1:10752\n",
      "708287\t328363\t780875423\tCHL1:10752\n",
      "787658\t340846\t148439738\tCHL1:10752\n",
      "748438\t341925\t143704896\tCHL1:10752\n"
     ]
    }
   ],
   "source": [
    "# Select variants that have an RS identifier (value for RS key in variant_info)\n",
    "# (id in dbSNP, https://www.ncbi.nlm.nih.gov/snp/) and \n",
    "# a gene associated with it (value for GENEINFO key in variant_info)\n",
    "# The first result is related to the variant described at:\n",
    "# https://www.ncbi.nlm.nih.gov/snp/rs139673243\n",
    "    \n",
    "select_count_variant = \"\"\"\n",
    "SELECT v.ID VID, v.POS, vi.value RSID, vi1.value GENE_INFO\n",
    "FROM variant v\n",
    "JOIN variant_info vi ON v.variant_id = vi.variant_id\n",
    "JOIN variant_info vi1 ON v.variant_id = vi1.variant_id\n",
    "WHERE v.CHROM = '3' AND v.ID <> \".\" AND vi.key = \"RS\" AND vi1.key = \"GENEINFO\"\n",
    "LIMIT 10;\n",
    "\"\"\"\n",
    "cursor.execute(select_count_variant)\n",
    "\n",
    "print(get_header(cursor))\n",
    "print(get_results(cursor))"
   ]
  },
  {
   "cell_type": "code",
   "execution_count": null,
   "metadata": {},
   "outputs": [],
   "source": []
  }
 ],
 "metadata": {
  "kernelspec": {
   "display_name": "Python 3",
   "language": "python",
   "name": "python3"
  },
  "language_info": {
   "codemirror_mode": {
    "name": "ipython",
    "version": 3
   },
   "file_extension": ".py",
   "mimetype": "text/x-python",
   "name": "python",
   "nbconvert_exporter": "python",
   "pygments_lexer": "ipython3",
   "version": "3.8.3"
  }
 },
 "nbformat": 4,
 "nbformat_minor": 4
}
