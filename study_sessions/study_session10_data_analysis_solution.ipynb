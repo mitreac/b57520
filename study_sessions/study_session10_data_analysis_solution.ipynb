{
 "cells": [
  {
   "cell_type": "markdown",
   "metadata": {},
   "source": [
    "## Study session 10 - data analysis\n",
    "### BIOINF 575 - Fall 2020\n",
    "SOLUTION"
   ]
  },
  {
   "cell_type": "markdown",
   "metadata": {},
   "source": [
    "\n",
    "____\n",
    "Useful links to see the attributes (variables, properties) and methods (functions) a column of a pandas dataframe (Series) and a pandas dataframe has:    \n",
    "https://pandas.pydata.org/pandas-docs/stable/reference/api/pandas.Series.html  \n",
    "https://pandas.pydata.org/pandas-docs/stable/reference/api/pandas.DataFrame.html"
   ]
  },
  {
   "cell_type": "markdown",
   "metadata": {},
   "source": [
    "____\n",
    "\n",
    "### <font color = \"red\">Exercise</font>\n",
    "\n",
    "[ClinVar][1] is a freely accessible, public archive of reports of the relationships among human variations and phenotypes, with supporting evidence.\n",
    "\n",
    "\n",
    "The data you will be working with (`clinvar.vcf`).  More information about the database can be found [here][3].\n",
    "\n",
    "From: https://ftp.ncbi.nlm.nih.gov/pub/clinvar/vcf_GRCh38/\n",
    "\n",
    "Download the file clinvar.vcf.gz\n",
    "\n",
    "\n",
    "### The file format\n",
    "The beginning of every VCF file contains various sets of information:\n",
    "* Meta-information (details about the experiment or configuration) lines start with **`##`**\n",
    "    * These lines are helpful in understanding specialized keys found in the `INFO` column. It is in these sections that one can find:\n",
    "        * The description of the key\n",
    "        * The data type of the values\n",
    "        * The default value of the values\n",
    "* Header lines (column names) start with **`#`**\n",
    "\n",
    "From there on, each line is made up of tab (`\\t`) separated values that make up eight (8) columns. Those columns are:\n",
    "1. CHROM (chromosome)\n",
    "2. POS (base pair position of the variant)\n",
    "3. ID (identifier if applicable; `.` if not applicable/missing)\n",
    "4. REF (reference base)\n",
    "5. ALT (alternate base(s): comma (`,`) separated if applicable)\n",
    "6. QUAL (Phred-scaled quality score; `.` if not applicable/missing)\n",
    "7. FILTER (filter status; `.` if not applicable/missing)\n",
    "8. INFO (any additional information about the variant)\n",
    "    * Semi-colon (`;`) separated key-value pairs\n",
    "    * Key-value pairs are equal sign (`=`) separated (key on the left, value on the right)\n",
    "    * If a key has multiple values, the values are pipe (`|`) separated\n",
    "\n",
    "---\n",
    "[1]: https://www.ncbi.nlm.nih.gov/clinvar/intro/\n",
    "[2]: https://samtools.github.io/hts-specs/VCFv4.3.pdf\n",
    "[3]: http://exac.broadinstitute.org\n",
    "\n",
    "\n",
    "We also have a file with the gene expression for 45h every three hours for breast cancer cells treated with a HER2 inhibitor, `GSE22955_small_gene_table.txt`.\n",
    "This is in the class_notebooks folder.\n",
    "https://www.ncbi.nlm.nih.gov/geo/query/acc.cgi?acc=GSE22955"
   ]
  },
  {
   "cell_type": "markdown",
   "metadata": {},
   "source": [
    "### - Load the data from the 2 files in pandas dataframes"
   ]
  },
  {
   "cell_type": "code",
   "execution_count": 1,
   "metadata": {},
   "outputs": [],
   "source": [
    "import numpy as np\n",
    "import pandas as pd"
   ]
  },
  {
   "cell_type": "code",
   "execution_count": 2,
   "metadata": {},
   "outputs": [],
   "source": [
    "vcf_file_name = \"clinvar.vcf\"\n",
    "gse_file_path = \"../class_notebooks/GSE22955_small_gene_table.txt\""
   ]
  },
  {
   "cell_type": "code",
   "execution_count": 3,
   "metadata": {},
   "outputs": [
    {
     "name": "stderr",
     "output_type": "stream",
     "text": [
      "/opt/anaconda3/lib/python3.8/site-packages/IPython/core/interactiveshell.py:3071: DtypeWarning: Columns (0) have mixed types.Specify dtype option on import or set low_memory=False.\n",
      "  has_raised = await self.run_ast_nodes(code_ast.body, cell_name,\n"
     ]
    }
   ],
   "source": [
    "# sep argument - set to \"\\t\" because our data is tab-separated\n",
    "# comment argument - set to \"#\" to ignore comment lines and other comments in our file\n",
    "# header argument - set to None because our data does not have a header line, the header is in a comment line \n",
    "\n",
    "vcf_data = pd.read_csv(vcf_file_name, sep = \"\\t\", comment = \"#\", header = None)\n"
   ]
  },
  {
   "cell_type": "code",
   "execution_count": 4,
   "metadata": {},
   "outputs": [
    {
     "data": {
      "text/html": [
       "<div>\n",
       "<style scoped>\n",
       "    .dataframe tbody tr th:only-of-type {\n",
       "        vertical-align: middle;\n",
       "    }\n",
       "\n",
       "    .dataframe tbody tr th {\n",
       "        vertical-align: top;\n",
       "    }\n",
       "\n",
       "    .dataframe thead th {\n",
       "        text-align: right;\n",
       "    }\n",
       "</style>\n",
       "<table border=\"1\" class=\"dataframe\">\n",
       "  <thead>\n",
       "    <tr style=\"text-align: right;\">\n",
       "      <th></th>\n",
       "      <th>0</th>\n",
       "      <th>1</th>\n",
       "      <th>2</th>\n",
       "      <th>3</th>\n",
       "      <th>4</th>\n",
       "      <th>5</th>\n",
       "      <th>6</th>\n",
       "      <th>7</th>\n",
       "    </tr>\n",
       "  </thead>\n",
       "  <tbody>\n",
       "    <tr>\n",
       "      <th>0</th>\n",
       "      <td>1</td>\n",
       "      <td>930188</td>\n",
       "      <td>846933</td>\n",
       "      <td>G</td>\n",
       "      <td>A</td>\n",
       "      <td>.</td>\n",
       "      <td>.</td>\n",
       "      <td>ALLELEID=824438;CLNDISDB=MedGen:CN517202;CLNDN...</td>\n",
       "    </tr>\n",
       "    <tr>\n",
       "      <th>1</th>\n",
       "      <td>1</td>\n",
       "      <td>930203</td>\n",
       "      <td>972363</td>\n",
       "      <td>C</td>\n",
       "      <td>T</td>\n",
       "      <td>.</td>\n",
       "      <td>.</td>\n",
       "      <td>ALLELEID=959431;CLNDISDB=MedGen:CN517202;CLNDN...</td>\n",
       "    </tr>\n",
       "    <tr>\n",
       "      <th>2</th>\n",
       "      <td>1</td>\n",
       "      <td>930248</td>\n",
       "      <td>789256</td>\n",
       "      <td>G</td>\n",
       "      <td>A</td>\n",
       "      <td>.</td>\n",
       "      <td>.</td>\n",
       "      <td>AF_ESP=0.00347;AF_EXAC=0.00622;AF_TGP=0.00280;...</td>\n",
       "    </tr>\n",
       "    <tr>\n",
       "      <th>3</th>\n",
       "      <td>1</td>\n",
       "      <td>930275</td>\n",
       "      <td>969662</td>\n",
       "      <td>T</td>\n",
       "      <td>G</td>\n",
       "      <td>.</td>\n",
       "      <td>.</td>\n",
       "      <td>ALLELEID=959432;CLNDISDB=MedGen:CN517202;CLNDN...</td>\n",
       "    </tr>\n",
       "    <tr>\n",
       "      <th>4</th>\n",
       "      <td>1</td>\n",
       "      <td>930336</td>\n",
       "      <td>843786</td>\n",
       "      <td>G</td>\n",
       "      <td>A</td>\n",
       "      <td>.</td>\n",
       "      <td>.</td>\n",
       "      <td>ALLELEID=824439;CLNDISDB=MedGen:CN517202;CLNDN...</td>\n",
       "    </tr>\n",
       "  </tbody>\n",
       "</table>\n",
       "</div>"
      ],
      "text/plain": [
       "   0       1       2  3  4  5  6  \\\n",
       "0  1  930188  846933  G  A  .  .   \n",
       "1  1  930203  972363  C  T  .  .   \n",
       "2  1  930248  789256  G  A  .  .   \n",
       "3  1  930275  969662  T  G  .  .   \n",
       "4  1  930336  843786  G  A  .  .   \n",
       "\n",
       "                                                   7  \n",
       "0  ALLELEID=824438;CLNDISDB=MedGen:CN517202;CLNDN...  \n",
       "1  ALLELEID=959431;CLNDISDB=MedGen:CN517202;CLNDN...  \n",
       "2  AF_ESP=0.00347;AF_EXAC=0.00622;AF_TGP=0.00280;...  \n",
       "3  ALLELEID=959432;CLNDISDB=MedGen:CN517202;CLNDN...  \n",
       "4  ALLELEID=824439;CLNDISDB=MedGen:CN517202;CLNDN...  "
      ]
     },
     "execution_count": 4,
     "metadata": {},
     "output_type": "execute_result"
    }
   ],
   "source": [
    "vcf_data.head()"
   ]
  },
  {
   "cell_type": "code",
   "execution_count": 5,
   "metadata": {},
   "outputs": [
    {
     "data": {
      "text/html": [
       "<div>\n",
       "<style scoped>\n",
       "    .dataframe tbody tr th:only-of-type {\n",
       "        vertical-align: middle;\n",
       "    }\n",
       "\n",
       "    .dataframe tbody tr th {\n",
       "        vertical-align: top;\n",
       "    }\n",
       "\n",
       "    .dataframe thead th {\n",
       "        text-align: right;\n",
       "    }\n",
       "</style>\n",
       "<table border=\"1\" class=\"dataframe\">\n",
       "  <thead>\n",
       "    <tr style=\"text-align: right;\">\n",
       "      <th></th>\n",
       "      <th>CHROM</th>\n",
       "      <th>POS</th>\n",
       "      <th>ID</th>\n",
       "      <th>REF</th>\n",
       "      <th>ALT</th>\n",
       "    </tr>\n",
       "  </thead>\n",
       "  <tbody>\n",
       "    <tr>\n",
       "      <th>0</th>\n",
       "      <td>1</td>\n",
       "      <td>930188</td>\n",
       "      <td>846933</td>\n",
       "      <td>G</td>\n",
       "      <td>A</td>\n",
       "    </tr>\n",
       "    <tr>\n",
       "      <th>1</th>\n",
       "      <td>1</td>\n",
       "      <td>930203</td>\n",
       "      <td>972363</td>\n",
       "      <td>C</td>\n",
       "      <td>T</td>\n",
       "    </tr>\n",
       "    <tr>\n",
       "      <th>2</th>\n",
       "      <td>1</td>\n",
       "      <td>930248</td>\n",
       "      <td>789256</td>\n",
       "      <td>G</td>\n",
       "      <td>A</td>\n",
       "    </tr>\n",
       "    <tr>\n",
       "      <th>3</th>\n",
       "      <td>1</td>\n",
       "      <td>930275</td>\n",
       "      <td>969662</td>\n",
       "      <td>T</td>\n",
       "      <td>G</td>\n",
       "    </tr>\n",
       "    <tr>\n",
       "      <th>4</th>\n",
       "      <td>1</td>\n",
       "      <td>930336</td>\n",
       "      <td>843786</td>\n",
       "      <td>G</td>\n",
       "      <td>A</td>\n",
       "    </tr>\n",
       "  </tbody>\n",
       "</table>\n",
       "</div>"
      ],
      "text/plain": [
       "  CHROM     POS      ID REF ALT\n",
       "0     1  930188  846933   G   A\n",
       "1     1  930203  972363   C   T\n",
       "2     1  930248  789256   G   A\n",
       "3     1  930275  969662   T   G\n",
       "4     1  930336  843786   G   A"
      ]
     },
     "execution_count": 5,
     "metadata": {},
     "output_type": "execute_result"
    }
   ],
   "source": [
    "vcf_data.columns = (\"CHROM\", \"POS\", \"ID\", \"REF\", \"ALT\", \"QUAL\", \"FILTER\", \"INFO\")\n",
    "vcf_data.iloc[:5,:5]\n",
    "\n"
   ]
  },
  {
   "cell_type": "code",
   "execution_count": 6,
   "metadata": {},
   "outputs": [],
   "source": [
    "expression_data = pd.read_csv(gse_file_path, sep = \"\\t\", index_col = 0, comment = \"#\")"
   ]
  },
  {
   "cell_type": "code",
   "execution_count": 7,
   "metadata": {},
   "outputs": [
    {
     "data": {
      "text/html": [
       "<div>\n",
       "<style scoped>\n",
       "    .dataframe tbody tr th:only-of-type {\n",
       "        vertical-align: middle;\n",
       "    }\n",
       "\n",
       "    .dataframe tbody tr th {\n",
       "        vertical-align: top;\n",
       "    }\n",
       "\n",
       "    .dataframe thead th {\n",
       "        text-align: right;\n",
       "    }\n",
       "</style>\n",
       "<table border=\"1\" class=\"dataframe\">\n",
       "  <thead>\n",
       "    <tr style=\"text-align: right;\">\n",
       "      <th></th>\n",
       "      <th>0</th>\n",
       "      <th>3</th>\n",
       "      <th>6</th>\n",
       "      <th>9</th>\n",
       "      <th>12</th>\n",
       "      <th>15</th>\n",
       "      <th>18</th>\n",
       "      <th>21</th>\n",
       "      <th>24</th>\n",
       "      <th>27</th>\n",
       "      <th>30</th>\n",
       "      <th>33</th>\n",
       "      <th>36</th>\n",
       "      <th>39</th>\n",
       "      <th>42</th>\n",
       "      <th>45</th>\n",
       "    </tr>\n",
       "    <tr>\n",
       "      <th>Symbol</th>\n",
       "      <th></th>\n",
       "      <th></th>\n",
       "      <th></th>\n",
       "      <th></th>\n",
       "      <th></th>\n",
       "      <th></th>\n",
       "      <th></th>\n",
       "      <th></th>\n",
       "      <th></th>\n",
       "      <th></th>\n",
       "      <th></th>\n",
       "      <th></th>\n",
       "      <th></th>\n",
       "      <th></th>\n",
       "      <th></th>\n",
       "      <th></th>\n",
       "    </tr>\n",
       "  </thead>\n",
       "  <tbody>\n",
       "    <tr>\n",
       "      <th>ABCA1</th>\n",
       "      <td>7.497117</td>\n",
       "      <td>8.184737</td>\n",
       "      <td>8.384009</td>\n",
       "      <td>8.654385</td>\n",
       "      <td>8.705771</td>\n",
       "      <td>9.266485</td>\n",
       "      <td>9.097249</td>\n",
       "      <td>8.980061</td>\n",
       "      <td>8.911098</td>\n",
       "      <td>9.377178</td>\n",
       "      <td>9.142381</td>\n",
       "      <td>9.314741</td>\n",
       "      <td>9.622010</td>\n",
       "      <td>9.543455</td>\n",
       "      <td>9.559486</td>\n",
       "      <td>10.094392</td>\n",
       "    </tr>\n",
       "    <tr>\n",
       "      <th>ABCC11</th>\n",
       "      <td>9.681143</td>\n",
       "      <td>9.687135</td>\n",
       "      <td>9.498255</td>\n",
       "      <td>9.357438</td>\n",
       "      <td>9.189169</td>\n",
       "      <td>9.049327</td>\n",
       "      <td>8.976153</td>\n",
       "      <td>8.978854</td>\n",
       "      <td>8.967797</td>\n",
       "      <td>8.912375</td>\n",
       "      <td>8.851690</td>\n",
       "      <td>8.787110</td>\n",
       "      <td>8.679719</td>\n",
       "      <td>8.771382</td>\n",
       "      <td>8.633315</td>\n",
       "      <td>8.703377</td>\n",
       "    </tr>\n",
       "    <tr>\n",
       "      <th>ABCC3</th>\n",
       "      <td>12.834826</td>\n",
       "      <td>12.841947</td>\n",
       "      <td>12.924113</td>\n",
       "      <td>12.810950</td>\n",
       "      <td>12.990568</td>\n",
       "      <td>12.791429</td>\n",
       "      <td>12.410250</td>\n",
       "      <td>12.343846</td>\n",
       "      <td>11.682339</td>\n",
       "      <td>11.369507</td>\n",
       "      <td>11.188391</td>\n",
       "      <td>11.105528</td>\n",
       "      <td>11.343285</td>\n",
       "      <td>11.151681</td>\n",
       "      <td>11.214401</td>\n",
       "      <td>10.928790</td>\n",
       "    </tr>\n",
       "    <tr>\n",
       "      <th>ABLIM1</th>\n",
       "      <td>10.786000</td>\n",
       "      <td>10.912505</td>\n",
       "      <td>11.060394</td>\n",
       "      <td>11.091041</td>\n",
       "      <td>11.166662</td>\n",
       "      <td>11.293522</td>\n",
       "      <td>11.355008</td>\n",
       "      <td>11.331177</td>\n",
       "      <td>11.649917</td>\n",
       "      <td>11.622126</td>\n",
       "      <td>11.733842</td>\n",
       "      <td>11.772563</td>\n",
       "      <td>11.909730</td>\n",
       "      <td>11.724674</td>\n",
       "      <td>11.835192</td>\n",
       "      <td>11.720621</td>\n",
       "    </tr>\n",
       "    <tr>\n",
       "      <th>ABP1</th>\n",
       "      <td>7.943247</td>\n",
       "      <td>8.121638</td>\n",
       "      <td>8.293621</td>\n",
       "      <td>8.314716</td>\n",
       "      <td>8.345499</td>\n",
       "      <td>8.414776</td>\n",
       "      <td>8.368459</td>\n",
       "      <td>8.539609</td>\n",
       "      <td>8.649921</td>\n",
       "      <td>8.698824</td>\n",
       "      <td>8.688555</td>\n",
       "      <td>8.762338</td>\n",
       "      <td>9.098345</td>\n",
       "      <td>9.294049</td>\n",
       "      <td>9.323449</td>\n",
       "      <td>9.729671</td>\n",
       "    </tr>\n",
       "  </tbody>\n",
       "</table>\n",
       "</div>"
      ],
      "text/plain": [
       "                0          3          6          9         12         15  \\\n",
       "Symbol                                                                     \n",
       "ABCA1    7.497117   8.184737   8.384009   8.654385   8.705771   9.266485   \n",
       "ABCC11   9.681143   9.687135   9.498255   9.357438   9.189169   9.049327   \n",
       "ABCC3   12.834826  12.841947  12.924113  12.810950  12.990568  12.791429   \n",
       "ABLIM1  10.786000  10.912505  11.060394  11.091041  11.166662  11.293522   \n",
       "ABP1     7.943247   8.121638   8.293621   8.314716   8.345499   8.414776   \n",
       "\n",
       "               18         21         24         27         30         33  \\\n",
       "Symbol                                                                     \n",
       "ABCA1    9.097249   8.980061   8.911098   9.377178   9.142381   9.314741   \n",
       "ABCC11   8.976153   8.978854   8.967797   8.912375   8.851690   8.787110   \n",
       "ABCC3   12.410250  12.343846  11.682339  11.369507  11.188391  11.105528   \n",
       "ABLIM1  11.355008  11.331177  11.649917  11.622126  11.733842  11.772563   \n",
       "ABP1     8.368459   8.539609   8.649921   8.698824   8.688555   8.762338   \n",
       "\n",
       "               36         39         42         45  \n",
       "Symbol                                              \n",
       "ABCA1    9.622010   9.543455   9.559486  10.094392  \n",
       "ABCC11   8.679719   8.771382   8.633315   8.703377  \n",
       "ABCC3   11.343285  11.151681  11.214401  10.928790  \n",
       "ABLIM1  11.909730  11.724674  11.835192  11.720621  \n",
       "ABP1     9.098345   9.294049   9.323449   9.729671  "
      ]
     },
     "execution_count": 7,
     "metadata": {},
     "output_type": "execute_result"
    }
   ],
   "source": [
    "expression_data.head()\n"
   ]
  },
  {
   "cell_type": "code",
   "execution_count": 8,
   "metadata": {},
   "outputs": [],
   "source": [
    "expression_data.columns = \"hour\"+expression_data.columns"
   ]
  },
  {
   "cell_type": "code",
   "execution_count": 9,
   "metadata": {},
   "outputs": [
    {
     "data": {
      "text/html": [
       "<div>\n",
       "<style scoped>\n",
       "    .dataframe tbody tr th:only-of-type {\n",
       "        vertical-align: middle;\n",
       "    }\n",
       "\n",
       "    .dataframe tbody tr th {\n",
       "        vertical-align: top;\n",
       "    }\n",
       "\n",
       "    .dataframe thead th {\n",
       "        text-align: right;\n",
       "    }\n",
       "</style>\n",
       "<table border=\"1\" class=\"dataframe\">\n",
       "  <thead>\n",
       "    <tr style=\"text-align: right;\">\n",
       "      <th></th>\n",
       "      <th>hour0</th>\n",
       "      <th>hour3</th>\n",
       "      <th>hour6</th>\n",
       "      <th>hour9</th>\n",
       "      <th>hour12</th>\n",
       "    </tr>\n",
       "    <tr>\n",
       "      <th>Symbol</th>\n",
       "      <th></th>\n",
       "      <th></th>\n",
       "      <th></th>\n",
       "      <th></th>\n",
       "      <th></th>\n",
       "    </tr>\n",
       "  </thead>\n",
       "  <tbody>\n",
       "    <tr>\n",
       "      <th>ABCA1</th>\n",
       "      <td>7.497117</td>\n",
       "      <td>8.184737</td>\n",
       "      <td>8.384009</td>\n",
       "      <td>8.654385</td>\n",
       "      <td>8.705771</td>\n",
       "    </tr>\n",
       "    <tr>\n",
       "      <th>ABCC11</th>\n",
       "      <td>9.681143</td>\n",
       "      <td>9.687135</td>\n",
       "      <td>9.498255</td>\n",
       "      <td>9.357438</td>\n",
       "      <td>9.189169</td>\n",
       "    </tr>\n",
       "    <tr>\n",
       "      <th>ABCC3</th>\n",
       "      <td>12.834826</td>\n",
       "      <td>12.841947</td>\n",
       "      <td>12.924113</td>\n",
       "      <td>12.810950</td>\n",
       "      <td>12.990568</td>\n",
       "    </tr>\n",
       "    <tr>\n",
       "      <th>ABLIM1</th>\n",
       "      <td>10.786000</td>\n",
       "      <td>10.912505</td>\n",
       "      <td>11.060394</td>\n",
       "      <td>11.091041</td>\n",
       "      <td>11.166662</td>\n",
       "    </tr>\n",
       "    <tr>\n",
       "      <th>ABP1</th>\n",
       "      <td>7.943247</td>\n",
       "      <td>8.121638</td>\n",
       "      <td>8.293621</td>\n",
       "      <td>8.314716</td>\n",
       "      <td>8.345499</td>\n",
       "    </tr>\n",
       "  </tbody>\n",
       "</table>\n",
       "</div>"
      ],
      "text/plain": [
       "            hour0      hour3      hour6      hour9     hour12\n",
       "Symbol                                                       \n",
       "ABCA1    7.497117   8.184737   8.384009   8.654385   8.705771\n",
       "ABCC11   9.681143   9.687135   9.498255   9.357438   9.189169\n",
       "ABCC3   12.834826  12.841947  12.924113  12.810950  12.990568\n",
       "ABLIM1  10.786000  10.912505  11.060394  11.091041  11.166662\n",
       "ABP1     7.943247   8.121638   8.293621   8.314716   8.345499"
      ]
     },
     "execution_count": 9,
     "metadata": {},
     "output_type": "execute_result"
    }
   ],
   "source": [
    "expression_data.iloc[:5,:5]\n",
    "\n"
   ]
  },
  {
   "cell_type": "markdown",
   "metadata": {},
   "source": [
    "______\n",
    "\n",
    "#### - Select only 5 genes of interest TP53, BARD1, BRCA1, MAPK1, CHEK2"
   ]
  },
  {
   "cell_type": "code",
   "execution_count": 10,
   "metadata": {},
   "outputs": [
    {
     "data": {
      "text/plain": [
       "Index(['TFDP1', 'TFF3', 'TGFB3', 'THBS1', 'THBS3', 'THOC4', 'THOP1',\n",
       "       'TIMELESS', 'TIMM8B', 'TJP3', 'TK1', 'TLR5', 'TMC4', 'TMEM106B',\n",
       "       'TMEM106C', 'TMEM115', 'TMEM118', 'TMEM125', 'TMEM127', 'TMEM20',\n",
       "       'TMEM44', 'TMEM45A', 'TMEM48', 'TMEM97', 'TMEM98', 'TMPO', 'TMPRSS2',\n",
       "       'TMSL8', 'TNFRSF18', 'TNFSF10', 'TOM1', 'TOMM40', 'TOP2A', 'TOPBP1',\n",
       "       'TP53', 'TP53INP1', 'TP53TG3', 'TPARL', 'TPX2', 'TRA16', 'TRADD',\n",
       "       'TRAF3', 'TRAP1', 'TRIM2', 'TRIM21', 'TRIM22', 'TRIP13', 'TROAP',\n",
       "       'TRPM4', 'TRPV6', 'TSC22D1', 'TTC32', 'TTF2', 'TTK', 'TTLL12', 'TTYH1',\n",
       "       'TUBA1', 'TUBA1A', 'TUBA6', 'TUBB', 'TUBB2C', 'TUBB3', 'TUBB4Q',\n",
       "       'TUBB6', 'TUBG1', 'TUFT1', 'TXNDC13', 'TYMS', 'TYRO3', 'U2AF1L4',\n",
       "       'UBE2C', 'UBE2T', 'UBQLN2', 'UCHL5IP', 'UCK2', 'UGT2B11', 'UGT2B7',\n",
       "       'UNC84B', 'UNG', 'UPP1', 'USP37', 'VAMP5', 'VARS', 'VAV3', 'VGF',\n",
       "       'VKORC1L1', 'VPS39', 'VRK1', 'VSIG2', 'VSIG8', 'VTCN1', 'VWF', 'WDR12',\n",
       "       'WDR19', 'WDR34', 'WDR4', 'WDR51A', 'WDR57', 'WDR58', 'WDR72'],\n",
       "      dtype='object', name='Symbol')"
      ]
     },
     "execution_count": 10,
     "metadata": {},
     "output_type": "execute_result"
    }
   ],
   "source": [
    "expression_data.index[1050:1150]"
   ]
  },
  {
   "cell_type": "code",
   "execution_count": 11,
   "metadata": {},
   "outputs": [],
   "source": [
    "genes = (\"TP53\", \"BARD1\", \"BRCA1\", \"MAPK1\", \"CHEK2\")\n",
    "genes_data = expression_data.loc[genes,].T"
   ]
  },
  {
   "cell_type": "markdown",
   "metadata": {},
   "source": [
    "#### - Plot the expression of these genes "
   ]
  },
  {
   "cell_type": "code",
   "execution_count": 12,
   "metadata": {},
   "outputs": [
    {
     "data": {
      "text/plain": [
       "<matplotlib.axes._subplots.AxesSubplot at 0x11b221bb0>"
      ]
     },
     "execution_count": 12,
     "metadata": {},
     "output_type": "execute_result"
    },
    {
     "data": {
      "image/png": "[encoded data removed]",
      "text/plain": [
       "<Figure size 432x288 with 1 Axes>"
      ]
     },
     "metadata": {
      "needs_background": "light"
     },
     "output_type": "display_data"
    }
   ],
   "source": [
    "genes_data.plot()"
   ]
  },
  {
   "cell_type": "code",
   "execution_count": 13,
   "metadata": {},
   "outputs": [
    {
     "data": {
      "text/plain": [
       "<matplotlib.axes._subplots.AxesSubplot at 0x11b5293a0>"
      ]
     },
     "execution_count": 13,
     "metadata": {},
     "output_type": "execute_result"
    },
    {
     "data": {
      "image/png": "[encoded data removed]",
      "text/plain": [
       "<Figure size 432x288 with 1 Axes>"
      ]
     },
     "metadata": {
      "needs_background": "light"
     },
     "output_type": "display_data"
    }
   ],
   "source": [
    "genes_data.boxplot()"
   ]
  },
  {
   "cell_type": "code",
   "execution_count": 14,
   "metadata": {},
   "outputs": [
    {
     "data": {
      "text/plain": [
       "<matplotlib.axes._subplots.AxesSubplot at 0x11b627af0>"
      ]
     },
     "execution_count": 14,
     "metadata": {},
     "output_type": "execute_result"
    },
    {
     "data": {
      "image/png": "[encoded data removed]",
      "text/plain": [
       "<Figure size 432x288 with 1 Axes>"
      ]
     },
     "metadata": {
      "needs_background": "light"
     },
     "output_type": "display_data"
    }
   ],
   "source": [
    "expression_data.apply(np.std, axis = 1).hist()"
   ]
  },
  {
   "cell_type": "markdown",
   "metadata": {},
   "source": [
    "______\n",
    "\n",
    "#### - Select only genes that have a standard dev > 0.7 and a change between hour 0 and hour 45 > 1.4 fold.\n"
   ]
  },
  {
   "cell_type": "code",
   "execution_count": 15,
   "metadata": {},
   "outputs": [],
   "source": [
    "cond = (expression_data.apply(np.std, axis = 1) > 0.6) & \\\n",
    "(np.log2(expression_data.hour45/expression_data.hour0).abs()>np.log2(1.4))      \n",
    "    "
   ]
  },
  {
   "cell_type": "code",
   "execution_count": 16,
   "metadata": {},
   "outputs": [],
   "source": [
    "consistent_genes = expression_data[cond]"
   ]
  },
  {
   "cell_type": "code",
   "execution_count": null,
   "metadata": {},
   "outputs": [],
   "source": []
  },
  {
   "cell_type": "markdown",
   "metadata": {},
   "source": [
    "#### - Plot the expression of these genes"
   ]
  },
  {
   "cell_type": "code",
   "execution_count": 17,
   "metadata": {},
   "outputs": [
    {
     "data": {
      "text/plain": [
       "<matplotlib.axes._subplots.AxesSubplot at 0x11b6ae970>"
      ]
     },
     "execution_count": 17,
     "metadata": {},
     "output_type": "execute_result"
    },
    {
     "data": {
      "image/png": "[encoded data removed]",
      "text/plain": [
       "<Figure size 432x288 with 1 Axes>"
      ]
     },
     "metadata": {
      "needs_background": "light"
     },
     "output_type": "display_data"
    }
   ],
   "source": [
    "consistent_genes.T.plot()"
   ]
  },
  {
   "cell_type": "code",
   "execution_count": null,
   "metadata": {},
   "outputs": [],
   "source": []
  },
  {
   "cell_type": "code",
   "execution_count": null,
   "metadata": {},
   "outputs": [],
   "source": []
  },
  {
   "cell_type": "markdown",
   "metadata": {},
   "source": [
    "#### - From the VCF file identify the genes for each variant from the info column GENEINFO key\n"
   ]
  },
  {
   "cell_type": "code",
   "execution_count": 18,
   "metadata": {},
   "outputs": [],
   "source": [
    "def get_genes(info):\n",
    "    genes = set()\n",
    "    info_dict = {}\n",
    "    info_list = info.split(\";\")\n",
    "    for elem in info_list:\n",
    "        key, val = elem.split(\"=\")\n",
    "        info_dict[key] = val\n",
    "    if \"GENEINFO\" in info_dict:\n",
    "        for gene_elem in info_dict[\"GENEINFO\"].split(\"|\"):\n",
    "            genes.add(gene_elem.split(\":\")[0])\n",
    "    return genes"
   ]
  },
  {
   "cell_type": "code",
   "execution_count": 19,
   "metadata": {},
   "outputs": [],
   "source": [
    "genes_data = vcf_data.INFO.apply(get_genes)"
   ]
  },
  {
   "cell_type": "code",
   "execution_count": 20,
   "metadata": {},
   "outputs": [],
   "source": [
    "\n",
    "\n",
    "cond1 = genes_data.apply(lambda x: len(x.intersection(set(genes)))>0)"
   ]
  },
  {
   "cell_type": "markdown",
   "metadata": {},
   "source": [
    "#### - Select only the variants for our genes of interest:"
   ]
  },
  {
   "cell_type": "code",
   "execution_count": 21,
   "metadata": {},
   "outputs": [],
   "source": [
    "genes_data.name = \"GENES\"\n",
    "vcf_data = vcf_data.join(genes_data)"
   ]
  },
  {
   "cell_type": "code",
   "execution_count": 22,
   "metadata": {},
   "outputs": [
    {
     "data": {
      "text/html": [
       "<div>\n",
       "<style scoped>\n",
       "    .dataframe tbody tr th:only-of-type {\n",
       "        vertical-align: middle;\n",
       "    }\n",
       "\n",
       "    .dataframe tbody tr th {\n",
       "        vertical-align: top;\n",
       "    }\n",
       "\n",
       "    .dataframe thead th {\n",
       "        text-align: right;\n",
       "    }\n",
       "</style>\n",
       "<table border=\"1\" class=\"dataframe\">\n",
       "  <thead>\n",
       "    <tr style=\"text-align: right;\">\n",
       "      <th></th>\n",
       "      <th>CHROM</th>\n",
       "      <th>POS</th>\n",
       "      <th>ID</th>\n",
       "      <th>REF</th>\n",
       "      <th>ALT</th>\n",
       "      <th>QUAL</th>\n",
       "      <th>FILTER</th>\n",
       "      <th>INFO</th>\n",
       "      <th>GENES</th>\n",
       "    </tr>\n",
       "  </thead>\n",
       "  <tbody>\n",
       "    <tr>\n",
       "      <th>129497</th>\n",
       "      <td>2</td>\n",
       "      <td>214727991</td>\n",
       "      <td>951555</td>\n",
       "      <td>ATGTACAGAATAAAAATATGTACCATGAGCCTAGTGTTGATTTTTA...</td>\n",
       "      <td>A</td>\n",
       "      <td>.</td>\n",
       "      <td>.</td>\n",
       "      <td>ALLELEID=922543;CLNDISDB=MONDO:MONDO:0016419,M...</td>\n",
       "      <td>{BARD1}</td>\n",
       "    </tr>\n",
       "    <tr>\n",
       "      <th>129498</th>\n",
       "      <td>2</td>\n",
       "      <td>214728537</td>\n",
       "      <td>801873</td>\n",
       "      <td>C</td>\n",
       "      <td>CTT</td>\n",
       "      <td>.</td>\n",
       "      <td>.</td>\n",
       "      <td>ALLELEID=790174;CLNDISDB=MONDO:MONDO:0016419,M...</td>\n",
       "      <td>{BARD1}</td>\n",
       "    </tr>\n",
       "    <tr>\n",
       "      <th>129499</th>\n",
       "      <td>2</td>\n",
       "      <td>214728537</td>\n",
       "      <td>801874</td>\n",
       "      <td>C</td>\n",
       "      <td>CTTT</td>\n",
       "      <td>.</td>\n",
       "      <td>.</td>\n",
       "      <td>ALLELEID=790175;CLNDISDB=MONDO:MONDO:0016419,M...</td>\n",
       "      <td>{BARD1}</td>\n",
       "    </tr>\n",
       "    <tr>\n",
       "      <th>129500</th>\n",
       "      <td>2</td>\n",
       "      <td>214728537</td>\n",
       "      <td>369328</td>\n",
       "      <td>C</td>\n",
       "      <td>CTTTT</td>\n",
       "      <td>.</td>\n",
       "      <td>.</td>\n",
       "      <td>ALLELEID=353557;CLNDISDB=Human_Phenotype_Ontol...</td>\n",
       "      <td>{BARD1}</td>\n",
       "    </tr>\n",
       "    <tr>\n",
       "      <th>129501</th>\n",
       "      <td>2</td>\n",
       "      <td>214728537</td>\n",
       "      <td>801875</td>\n",
       "      <td>CT</td>\n",
       "      <td>C</td>\n",
       "      <td>.</td>\n",
       "      <td>.</td>\n",
       "      <td>ALLELEID=790173;CLNDISDB=MONDO:MONDO:0016419,M...</td>\n",
       "      <td>{BARD1}</td>\n",
       "    </tr>\n",
       "    <tr>\n",
       "      <th>...</th>\n",
       "      <td>...</td>\n",
       "      <td>...</td>\n",
       "      <td>...</td>\n",
       "      <td>...</td>\n",
       "      <td>...</td>\n",
       "      <td>...</td>\n",
       "      <td>...</td>\n",
       "      <td>...</td>\n",
       "      <td>...</td>\n",
       "    </tr>\n",
       "    <tr>\n",
       "      <th>734163</th>\n",
       "      <td>22</td>\n",
       "      <td>28741802</td>\n",
       "      <td>381607</td>\n",
       "      <td>C</td>\n",
       "      <td>G</td>\n",
       "      <td>.</td>\n",
       "      <td>.</td>\n",
       "      <td>ALLELEID=379845;CLNDISDB=MedGen:CN169374;CLNDN...</td>\n",
       "      <td>{CHEK2}</td>\n",
       "    </tr>\n",
       "    <tr>\n",
       "      <th>734164</th>\n",
       "      <td>22</td>\n",
       "      <td>28741806</td>\n",
       "      <td>341057</td>\n",
       "      <td>C</td>\n",
       "      <td>G</td>\n",
       "      <td>.</td>\n",
       "      <td>.</td>\n",
       "      <td>ALLELEID=352332;CLNDISDB=MedGen:CN239278;CLNDN...</td>\n",
       "      <td>{CHEK2}</td>\n",
       "    </tr>\n",
       "    <tr>\n",
       "      <th>734165</th>\n",
       "      <td>22</td>\n",
       "      <td>28741832</td>\n",
       "      <td>803661</td>\n",
       "      <td>T</td>\n",
       "      <td>A</td>\n",
       "      <td>.</td>\n",
       "      <td>.</td>\n",
       "      <td>ALLELEID=792036;CLNDISDB=MONDO:MONDO:0016419,M...</td>\n",
       "      <td>{CHEK2}</td>\n",
       "    </tr>\n",
       "    <tr>\n",
       "      <th>734166</th>\n",
       "      <td>22</td>\n",
       "      <td>28741876</td>\n",
       "      <td>126906</td>\n",
       "      <td>T</td>\n",
       "      <td>C</td>\n",
       "      <td>.</td>\n",
       "      <td>.</td>\n",
       "      <td>ALLELEID=132419;CLNDISDB=MedGen:CN517202;CLNDN...</td>\n",
       "      <td>{CHEK2}</td>\n",
       "    </tr>\n",
       "    <tr>\n",
       "      <th>734167</th>\n",
       "      <td>22</td>\n",
       "      <td>28742014</td>\n",
       "      <td>803662</td>\n",
       "      <td>G</td>\n",
       "      <td>A</td>\n",
       "      <td>.</td>\n",
       "      <td>.</td>\n",
       "      <td>AF_TGP=0.00100;ALLELEID=792037;CLNDISDB=MONDO:...</td>\n",
       "      <td>{HSCB, CHEK2}</td>\n",
       "    </tr>\n",
       "  </tbody>\n",
       "</table>\n",
       "<p>16874 rows × 9 columns</p>\n",
       "</div>"
      ],
      "text/plain": [
       "       CHROM        POS      ID  \\\n",
       "129497     2  214727991  951555   \n",
       "129498     2  214728537  801873   \n",
       "129499     2  214728537  801874   \n",
       "129500     2  214728537  369328   \n",
       "129501     2  214728537  801875   \n",
       "...      ...        ...     ...   \n",
       "734163    22   28741802  381607   \n",
       "734164    22   28741806  341057   \n",
       "734165    22   28741832  803661   \n",
       "734166    22   28741876  126906   \n",
       "734167    22   28742014  803662   \n",
       "\n",
       "                                                      REF    ALT QUAL FILTER  \\\n",
       "129497  ATGTACAGAATAAAAATATGTACCATGAGCCTAGTGTTGATTTTTA...      A    .      .   \n",
       "129498                                                  C    CTT    .      .   \n",
       "129499                                                  C   CTTT    .      .   \n",
       "129500                                                  C  CTTTT    .      .   \n",
       "129501                                                 CT      C    .      .   \n",
       "...                                                   ...    ...  ...    ...   \n",
       "734163                                                  C      G    .      .   \n",
       "734164                                                  C      G    .      .   \n",
       "734165                                                  T      A    .      .   \n",
       "734166                                                  T      C    .      .   \n",
       "734167                                                  G      A    .      .   \n",
       "\n",
       "                                                     INFO          GENES  \n",
       "129497  ALLELEID=922543;CLNDISDB=MONDO:MONDO:0016419,M...        {BARD1}  \n",
       "129498  ALLELEID=790174;CLNDISDB=MONDO:MONDO:0016419,M...        {BARD1}  \n",
       "129499  ALLELEID=790175;CLNDISDB=MONDO:MONDO:0016419,M...        {BARD1}  \n",
       "129500  ALLELEID=353557;CLNDISDB=Human_Phenotype_Ontol...        {BARD1}  \n",
       "129501  ALLELEID=790173;CLNDISDB=MONDO:MONDO:0016419,M...        {BARD1}  \n",
       "...                                                   ...            ...  \n",
       "734163  ALLELEID=379845;CLNDISDB=MedGen:CN169374;CLNDN...        {CHEK2}  \n",
       "734164  ALLELEID=352332;CLNDISDB=MedGen:CN239278;CLNDN...        {CHEK2}  \n",
       "734165  ALLELEID=792036;CLNDISDB=MONDO:MONDO:0016419,M...        {CHEK2}  \n",
       "734166  ALLELEID=132419;CLNDISDB=MedGen:CN517202;CLNDN...        {CHEK2}  \n",
       "734167  AF_TGP=0.00100;ALLELEID=792037;CLNDISDB=MONDO:...  {HSCB, CHEK2}  \n",
       "\n",
       "[16874 rows x 9 columns]"
      ]
     },
     "execution_count": 22,
     "metadata": {},
     "output_type": "execute_result"
    }
   ],
   "source": [
    "vcf_data[cond1]"
   ]
  },
  {
   "cell_type": "code",
   "execution_count": null,
   "metadata": {},
   "outputs": [],
   "source": []
  },
  {
   "cell_type": "code",
   "execution_count": null,
   "metadata": {},
   "outputs": [],
   "source": []
  }
 ],
 "metadata": {
  "kernelspec": {
   "display_name": "Python 3",
   "language": "python",
   "name": "python3"
  },
  "language_info": {
   "codemirror_mode": {
    "name": "ipython",
    "version": 3
   },
   "file_extension": ".py",
   "mimetype": "text/x-python",
   "name": "python",
   "nbconvert_exporter": "python",
   "pygments_lexer": "ipython3",
   "version": "3.8.3"
  }
 },
 "nbformat": 4,
 "nbformat_minor": 4
}
