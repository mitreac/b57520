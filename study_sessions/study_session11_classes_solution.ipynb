{
 "cells": [
  {
   "cell_type": "markdown",
   "metadata": {},
   "source": [
    "## Study session 11 - classes\n",
    "### BIOINF 575 - Fall 2020\n"
   ]
  },
  {
   "cell_type": "markdown",
   "metadata": {},
   "source": [
    "SOLUTION"
   ]
  },
  {
   "cell_type": "markdown",
   "metadata": {},
   "source": [
    "### Resources - classes and object oriented programming\n",
    "\n",
    "https://docs.python.org/3/tutorial/classes.html   \n",
    "https://www.python-course.eu/python3_properties.php   \n",
    "https://www.tutorialspoint.com/python3/python_classes_objects.htm   \n",
    "https://www.w3schools.com/python/python_classes.asp   \n",
    "https://www.geeksforgeeks.org/python-classes-and-objects/  \n",
    "https://www.datacamp.com/community/tutorials/property-getters-setters#property\n"
   ]
  },
  {
   "cell_type": "markdown",
   "metadata": {},
   "source": [
    "____\n",
    "\n",
    "#### Below is the Pileup class to provide functionality for a pileup object that stores information regarding alignment at a specific genomic position.\n"
   ]
  },
  {
   "cell_type": "code",
   "execution_count": 67,
   "metadata": {},
   "outputs": [],
   "source": [
    "# Pileup uses Counter so we need to import before we can create an object of that type\n",
    "# The definition will run with no error bu we will not be able to use it without importing Counter\n",
    "\n",
    "from collections import Counter"
   ]
  },
  {
   "cell_type": "code",
   "execution_count": 68,
   "metadata": {},
   "outputs": [],
   "source": [
    "# Pileup Object\n",
    "class Pileup:\n",
    "    \"\"\"\n",
    "    Contains a counter of nulceotides aligned at a genomic position and \n",
    "    computes depth and consensus for a genomic position\n",
    "    \n",
    "    Attributes:\n",
    "    counts (Counter):  counter of all nucleotides aligned at the genomic position\n",
    "    depth (int): total number of reads aligned at the genomic position\n",
    "    consensus (str): most common nucleotide\n",
    "    \"\"\"\n",
    "    \n",
    "    # method called when we initialize an object of type Pileup\n",
    "    # p = Pileup() or p = Pileup(Counter(\"AAA\")) will call this method\n",
    "    def __init__(self, counts = None):\n",
    "        self.counts = counts\n",
    "        if self.counts == None:\n",
    "            self.counts = Counter()\n",
    "        self.depth = sum(self.counts.values())\n",
    "        if self.depth == 0:\n",
    "            self.__consensus = \"\" # using __ at the beginning of the attribute name makes it inaccessible outside of the class definition \n",
    "        else:\n",
    "            self.__consensus = self.counts.most_common()[0][0]\n",
    "\n",
    "    # see more examples in the last link in RESOURCES\n",
    "    # property (the @property above the function makes it so) \n",
    "    # should be used without () when called for an object e.g. p.consensus\n",
    "    # getter that allows us to display the value of a hidden attribute outside of the class definition\n",
    "    @property\n",
    "    def consensus(self):\n",
    "        \"\"\"\n",
    "        Get the consensus nucleotide for the pileup\n",
    "        \"\"\"\n",
    "        return self.__consensus \n",
    "\n",
    "    # method that implements what the string representation of a Pileup object is\n",
    "    # for a Pileup object p this method is called when print(p) or str(p) are used\n",
    "    def __str__(self):\n",
    "        return f\"Pileup({self.counts})\"\n",
    " \n",
    "\n",
    "    # method that implements what the string representation of a Pileup object is \n",
    "    # and that allows you to create another object idential to the one you are calling it for\n",
    "    # it is called when you use the name of the object to see its value\n",
    "    # typing \n",
    "    # it is called when print(p) or str(p) are used\n",
    "    def __repr__(self):\n",
    "        return f\"Pileup({self.counts})\"\n",
    "    \n",
    "    # used to implement the addition operator\n",
    "    # if p1 and p2 are Pileup objects this is called when we compute p1+p2  \n",
    "    # self will be assigned p1 and p will be assigned p2 in the __add__ method \n",
    "    def __add__(self, p):\n",
    "        c = self.counts.copy() # make a copy otherwise we are updating p1 when we do p1+p2\n",
    "        c.update(p.counts)\n",
    "        return Pileup(c)\n",
    "        \n",
    "    #the first argument of every method in a class (self) will be assigned the value of the object we call it from\n",
    "    # e.g if variable p contains a pileup object the statement p.update(\"AAA\") will call this method below and assign p to self and \"AAA\" to seq\n",
    "    def update(self, seq):\n",
    "        \"\"\"\n",
    "        Update the counts depth and consensus for the pileup\n",
    "        Given a sequence of nucleotides to add to the pileup\n",
    "        \"\"\"\n",
    "        self.counts.update(seq)\n",
    "        self.depth = sum(self.counts.values())\n",
    "        self.__consensus = self.counts.most_common()[0][0]\n",
    "\n"
   ]
  },
  {
   "cell_type": "code",
   "execution_count": null,
   "metadata": {},
   "outputs": [],
   "source": []
  },
  {
   "cell_type": "markdown",
   "metadata": {},
   "source": [
    "### We copied and ran all or part of the below code for each exercise to test we did not break something while trying to implement the exercise requirement"
   ]
  },
  {
   "cell_type": "code",
   "execution_count": 69,
   "metadata": {},
   "outputs": [],
   "source": [
    "p = Pileup()"
   ]
  },
  {
   "cell_type": "code",
   "execution_count": 70,
   "metadata": {},
   "outputs": [
    {
     "data": {
      "text/plain": [
       "Pileup(Counter())"
      ]
     },
     "execution_count": 70,
     "metadata": {},
     "output_type": "execute_result"
    }
   ],
   "source": [
    "p"
   ]
  },
  {
   "cell_type": "code",
   "execution_count": 71,
   "metadata": {},
   "outputs": [
    {
     "ename": "AttributeError",
     "evalue": "'Pileup' object has no attribute '__consensus'",
     "output_type": "error",
     "traceback": [
      "\u001b[0;31m---------------------------------------------------------------------------\u001b[0m",
      "\u001b[0;31mAttributeError\u001b[0m                            Traceback (most recent call last)",
      "\u001b[0;32m<ipython-input-71-7179a53f4cc3>\u001b[0m in \u001b[0;36m<module>\u001b[0;34m\u001b[0m\n\u001b[1;32m      1\u001b[0m \u001b[0;31m# hidden attribute only accesible in the class definition\u001b[0m\u001b[0;34m\u001b[0m\u001b[0;34m\u001b[0m\u001b[0;34m\u001b[0m\u001b[0m\n\u001b[0;32m----> 2\u001b[0;31m \u001b[0mp\u001b[0m\u001b[0;34m.\u001b[0m\u001b[0m__consensus\u001b[0m\u001b[0;34m\u001b[0m\u001b[0;34m\u001b[0m\u001b[0m\n\u001b[0m",
      "\u001b[0;31mAttributeError\u001b[0m: 'Pileup' object has no attribute '__consensus'"
     ]
    }
   ],
   "source": [
    "# hidden attribute only accesible in the class definition\n",
    "p.__consensus"
   ]
  },
  {
   "cell_type": "code",
   "execution_count": 72,
   "metadata": {},
   "outputs": [],
   "source": [
    "#dir(p)"
   ]
  },
  {
   "cell_type": "code",
   "execution_count": 73,
   "metadata": {},
   "outputs": [],
   "source": [
    "# Nothing in Python is truly private; internally\n",
    "p._Pileup__consensus = 3"
   ]
  },
  {
   "cell_type": "code",
   "execution_count": 74,
   "metadata": {},
   "outputs": [
    {
     "data": {
      "text/plain": [
       "3"
      ]
     },
     "execution_count": 74,
     "metadata": {},
     "output_type": "execute_result"
    }
   ],
   "source": [
    "p.consensus"
   ]
  },
  {
   "cell_type": "code",
   "execution_count": 75,
   "metadata": {},
   "outputs": [
    {
     "data": {
      "text/plain": [
       "Counter()"
      ]
     },
     "execution_count": 75,
     "metadata": {},
     "output_type": "execute_result"
    }
   ],
   "source": [
    "p.counts"
   ]
  },
  {
   "cell_type": "code",
   "execution_count": 76,
   "metadata": {},
   "outputs": [
    {
     "data": {
      "text/plain": [
       "0"
      ]
     },
     "execution_count": 76,
     "metadata": {},
     "output_type": "execute_result"
    }
   ],
   "source": [
    "p.depth"
   ]
  },
  {
   "cell_type": "code",
   "execution_count": 77,
   "metadata": {},
   "outputs": [
    {
     "ename": "AttributeError",
     "evalue": "can't set attribute",
     "output_type": "error",
     "traceback": [
      "\u001b[0;31m---------------------------------------------------------------------------\u001b[0m",
      "\u001b[0;31mAttributeError\u001b[0m                            Traceback (most recent call last)",
      "\u001b[0;32m<ipython-input-77-bb208b4ab764>\u001b[0m in \u001b[0;36m<module>\u001b[0;34m\u001b[0m\n\u001b[1;32m      2\u001b[0m \u001b[0;31m# a setter (a way to set the value) was not implemented\u001b[0m\u001b[0;34m\u001b[0m\u001b[0;34m\u001b[0m\u001b[0;34m\u001b[0m\u001b[0m\n\u001b[1;32m      3\u001b[0m \u001b[0;31m# we want this to be changed only internally when the counts change\u001b[0m\u001b[0;34m\u001b[0m\u001b[0;34m\u001b[0m\u001b[0;34m\u001b[0m\u001b[0m\n\u001b[0;32m----> 4\u001b[0;31m \u001b[0mp\u001b[0m\u001b[0;34m.\u001b[0m\u001b[0mconsensus\u001b[0m \u001b[0;34m=\u001b[0m \u001b[0;34m\"T\"\u001b[0m\u001b[0;34m\u001b[0m\u001b[0;34m\u001b[0m\u001b[0m\n\u001b[0m",
      "\u001b[0;31mAttributeError\u001b[0m: can't set attribute"
     ]
    }
   ],
   "source": [
    "# we have only implementerd a getter (a way to retrieve the value)\n",
    "# a setter (a way to set the value) was not implemented \n",
    "# we want this to be changed only internally when the counts change\n",
    "p.consensus = \"T\""
   ]
  },
  {
   "cell_type": "code",
   "execution_count": 78,
   "metadata": {},
   "outputs": [],
   "source": [
    "# we update the counts but the consensus and depth stay the same\n",
    "# we are going to make this a property so we can also update the depth and consensus when we assign a value to the counts\n",
    "# see the class defintion below\n",
    "p.counts = Counter(\"ACGTTTT\")"
   ]
  },
  {
   "cell_type": "code",
   "execution_count": 79,
   "metadata": {},
   "outputs": [
    {
     "data": {
      "text/plain": [
       "Counter({'A': 1, 'C': 1, 'G': 1, 'T': 4})"
      ]
     },
     "execution_count": 79,
     "metadata": {},
     "output_type": "execute_result"
    }
   ],
   "source": [
    "p.counts"
   ]
  },
  {
   "cell_type": "code",
   "execution_count": 80,
   "metadata": {},
   "outputs": [
    {
     "data": {
      "text/plain": [
       "0"
      ]
     },
     "execution_count": 80,
     "metadata": {},
     "output_type": "execute_result"
    }
   ],
   "source": [
    "p.depth"
   ]
  },
  {
   "cell_type": "code",
   "execution_count": 81,
   "metadata": {},
   "outputs": [
    {
     "data": {
      "text/plain": [
       "3"
      ]
     },
     "execution_count": 81,
     "metadata": {},
     "output_type": "execute_result"
    }
   ],
   "source": [
    "p.consensus"
   ]
  },
  {
   "cell_type": "code",
   "execution_count": 82,
   "metadata": {},
   "outputs": [],
   "source": [
    "p.depth = 40"
   ]
  },
  {
   "cell_type": "code",
   "execution_count": 83,
   "metadata": {},
   "outputs": [
    {
     "data": {
      "text/plain": [
       "40"
      ]
     },
     "execution_count": 83,
     "metadata": {},
     "output_type": "execute_result"
    }
   ],
   "source": [
    "p.depth"
   ]
  },
  {
   "cell_type": "code",
   "execution_count": 84,
   "metadata": {},
   "outputs": [],
   "source": [
    "p.update(\"ACGTTGGGG\")"
   ]
  },
  {
   "cell_type": "code",
   "execution_count": 85,
   "metadata": {},
   "outputs": [
    {
     "data": {
      "text/plain": [
       "Counter({'A': 2, 'C': 2, 'G': 6, 'T': 6})"
      ]
     },
     "execution_count": 85,
     "metadata": {},
     "output_type": "execute_result"
    }
   ],
   "source": [
    "p.counts"
   ]
  },
  {
   "cell_type": "code",
   "execution_count": 86,
   "metadata": {},
   "outputs": [
    {
     "data": {
      "text/plain": [
       "'G'"
      ]
     },
     "execution_count": 86,
     "metadata": {},
     "output_type": "execute_result"
    }
   ],
   "source": [
    "p.consensus"
   ]
  },
  {
   "cell_type": "code",
   "execution_count": 87,
   "metadata": {},
   "outputs": [
    {
     "data": {
      "text/plain": [
       "16"
      ]
     },
     "execution_count": 87,
     "metadata": {},
     "output_type": "execute_result"
    }
   ],
   "source": [
    "p.depth"
   ]
  },
  {
   "cell_type": "code",
   "execution_count": null,
   "metadata": {},
   "outputs": [],
   "source": []
  },
  {
   "cell_type": "code",
   "execution_count": null,
   "metadata": {},
   "outputs": [],
   "source": []
  },
  {
   "cell_type": "markdown",
   "metadata": {},
   "source": [
    "### <font color = \"red\">Exercise</font>\n",
    "#### - Make the Pileup attribute depth read only\n",
    "#### - Test the change"
   ]
  },
  {
   "cell_type": "code",
   "execution_count": 88,
   "metadata": {},
   "outputs": [],
   "source": [
    "# Pileup Object\n",
    "class Pileup:\n",
    "    \"\"\"\n",
    "    Contains a counter of nulceotides aligned at a genomic position and \n",
    "    computes depth and consensus for a genomic position\n",
    "    \n",
    "    Attributes:\n",
    "    counts (Counter):  counter of all nucleotides aligned at the genomic position\n",
    "    depth (int): total number of reads aligned at the genomic position\n",
    "    consensus (str): most common nucleotide\n",
    "    \"\"\"\n",
    "    \n",
    "    \n",
    "    def __init__(self, counts = None):\n",
    "        self.__counts = counts\n",
    "        if self.__counts == None:\n",
    "            self.__counts = Counter()\n",
    "        self.__depth = sum(self.__counts.values())\n",
    "        if self.__depth == 0:\n",
    "            self.__consensus = \"\"        \n",
    "        else:\n",
    "            self.__consensus = self.__counts.most_common()[0][0]\n",
    "\n",
    "    @property # getter\n",
    "    def consensus(self):\n",
    "        \"\"\"\n",
    "        Get the consensus nucleotide for the pileup\n",
    "        \"\"\"\n",
    "        return self.__consensus\n",
    "    \n",
    "    @property # getter\n",
    "    def depth(self):\n",
    "        \"\"\"\n",
    "        Get the depth for the pileup - number of reads that aliged at that position\n",
    "        \"\"\"\n",
    "        return self.__depth\n",
    "    \n",
    "    @property # getter\n",
    "    def counts(self):\n",
    "        \"\"\"\n",
    "        Get the counts for the pileup - frequencies of the nucleotides that aligned at that position\n",
    "        \"\"\"\n",
    "        return self.__counts\n",
    "    \n",
    "    @counts.setter # property setter used when we assign a value to the property: p.counts = Counter(\"AACG\")\n",
    "    def counts(self, counts_value):\n",
    "        self.__counts = counts_value\n",
    "        self.__depth = sum(self.__counts.values())\n",
    "        self.__consensus = self.__counts.most_common()[0][0]\n",
    "\n",
    "    def __str__(self):\n",
    "        return f\"Pileup({self.__counts})\"\n",
    "    \n",
    "    def __repr__(self):\n",
    "        return f\"Pileup({self.__counts})\"\n",
    "    \n",
    "    def __add__(self, p):\n",
    "        c = self.__counts.copy()\n",
    "        c.update(p.counts)\n",
    "        return Pileup(c)\n",
    "        \n",
    "        \n",
    "    def update(self, seq):\n",
    "        \"\"\"\n",
    "        Update the counts, depth and consensus nucleotide for the pileup\n",
    "        given a sequence of nucleotides to add to the pileup\n",
    "        \"\"\"\n",
    "        self.__counts.update(seq)\n",
    "        self.__depth = sum(self.__counts.values())\n",
    "        self.__consensus = self.__counts.most_common()[0][0]\n",
    "\n",
    "\n"
   ]
  },
  {
   "cell_type": "markdown",
   "metadata": {},
   "source": [
    "#### We also updated the counts to a property in the class definition above to be able to update the consensus and depth when we set up the counts"
   ]
  },
  {
   "cell_type": "code",
   "execution_count": 89,
   "metadata": {},
   "outputs": [],
   "source": [
    "p = Pileup()"
   ]
  },
  {
   "cell_type": "code",
   "execution_count": 90,
   "metadata": {},
   "outputs": [
    {
     "data": {
      "text/plain": [
       "Pileup(Counter())"
      ]
     },
     "execution_count": 90,
     "metadata": {},
     "output_type": "execute_result"
    }
   ],
   "source": [
    "p"
   ]
  },
  {
   "cell_type": "code",
   "execution_count": 91,
   "metadata": {},
   "outputs": [
    {
     "data": {
      "text/plain": [
       "''"
      ]
     },
     "execution_count": 91,
     "metadata": {},
     "output_type": "execute_result"
    }
   ],
   "source": [
    "p.consensus"
   ]
  },
  {
   "cell_type": "code",
   "execution_count": 92,
   "metadata": {},
   "outputs": [
    {
     "data": {
      "text/plain": [
       "Counter()"
      ]
     },
     "execution_count": 92,
     "metadata": {},
     "output_type": "execute_result"
    }
   ],
   "source": [
    "p.counts"
   ]
  },
  {
   "cell_type": "code",
   "execution_count": 93,
   "metadata": {},
   "outputs": [
    {
     "data": {
      "text/plain": [
       "0"
      ]
     },
     "execution_count": 93,
     "metadata": {},
     "output_type": "execute_result"
    }
   ],
   "source": [
    "p.depth"
   ]
  },
  {
   "cell_type": "code",
   "execution_count": 94,
   "metadata": {},
   "outputs": [
    {
     "ename": "AttributeError",
     "evalue": "can't set attribute",
     "output_type": "error",
     "traceback": [
      "\u001b[0;31m---------------------------------------------------------------------------\u001b[0m",
      "\u001b[0;31mAttributeError\u001b[0m                            Traceback (most recent call last)",
      "\u001b[0;32m<ipython-input-94-5e59c2e79d68>\u001b[0m in \u001b[0;36m<module>\u001b[0;34m\u001b[0m\n\u001b[0;32m----> 1\u001b[0;31m \u001b[0mp\u001b[0m\u001b[0;34m.\u001b[0m\u001b[0mconsensus\u001b[0m \u001b[0;34m=\u001b[0m \u001b[0;34m\"T\"\u001b[0m\u001b[0;34m\u001b[0m\u001b[0;34m\u001b[0m\u001b[0m\n\u001b[0m",
      "\u001b[0;31mAttributeError\u001b[0m: can't set attribute"
     ]
    }
   ],
   "source": [
    "p.consensus = \"T\""
   ]
  },
  {
   "cell_type": "code",
   "execution_count": 95,
   "metadata": {},
   "outputs": [],
   "source": [
    "p.counts = Counter(\"ACGTTTT\")"
   ]
  },
  {
   "cell_type": "code",
   "execution_count": 96,
   "metadata": {},
   "outputs": [
    {
     "data": {
      "text/plain": [
       "Counter({'A': 1, 'C': 1, 'G': 1, 'T': 4})"
      ]
     },
     "execution_count": 96,
     "metadata": {},
     "output_type": "execute_result"
    }
   ],
   "source": [
    "p.counts"
   ]
  },
  {
   "cell_type": "code",
   "execution_count": 97,
   "metadata": {},
   "outputs": [
    {
     "data": {
      "text/plain": [
       "7"
      ]
     },
     "execution_count": 97,
     "metadata": {},
     "output_type": "execute_result"
    }
   ],
   "source": [
    "p.depth"
   ]
  },
  {
   "cell_type": "code",
   "execution_count": 98,
   "metadata": {},
   "outputs": [
    {
     "data": {
      "text/plain": [
       "'T'"
      ]
     },
     "execution_count": 98,
     "metadata": {},
     "output_type": "execute_result"
    }
   ],
   "source": [
    "p.consensus"
   ]
  },
  {
   "cell_type": "code",
   "execution_count": 99,
   "metadata": {},
   "outputs": [
    {
     "ename": "AttributeError",
     "evalue": "can't set attribute",
     "output_type": "error",
     "traceback": [
      "\u001b[0;31m---------------------------------------------------------------------------\u001b[0m",
      "\u001b[0;31mAttributeError\u001b[0m                            Traceback (most recent call last)",
      "\u001b[0;32m<ipython-input-99-e7e5ddf476a4>\u001b[0m in \u001b[0;36m<module>\u001b[0;34m\u001b[0m\n\u001b[1;32m      2\u001b[0m \u001b[0;31m# it can only be computed using the counts and gets updated every time the counts change\u001b[0m\u001b[0;34m\u001b[0m\u001b[0;34m\u001b[0m\u001b[0;34m\u001b[0m\u001b[0m\n\u001b[1;32m      3\u001b[0m \u001b[0;34m\u001b[0m\u001b[0m\n\u001b[0;32m----> 4\u001b[0;31m \u001b[0mp\u001b[0m\u001b[0;34m.\u001b[0m\u001b[0mdepth\u001b[0m \u001b[0;34m=\u001b[0m \u001b[0;36m40\u001b[0m\u001b[0;34m\u001b[0m\u001b[0;34m\u001b[0m\u001b[0m\n\u001b[0m",
      "\u001b[0;31mAttributeError\u001b[0m: can't set attribute"
     ]
    }
   ],
   "source": [
    "# depth is now read only as intended\n",
    "# it can only be computed using the counts and gets updated every time the counts change\n",
    "\n",
    "p.depth = 40"
   ]
  },
  {
   "cell_type": "code",
   "execution_count": 100,
   "metadata": {},
   "outputs": [
    {
     "data": {
      "text/plain": [
       "7"
      ]
     },
     "execution_count": 100,
     "metadata": {},
     "output_type": "execute_result"
    }
   ],
   "source": [
    "p.depth"
   ]
  },
  {
   "cell_type": "code",
   "execution_count": 101,
   "metadata": {},
   "outputs": [],
   "source": [
    "p.update(\"ACGTTGGGG\")"
   ]
  },
  {
   "cell_type": "code",
   "execution_count": 102,
   "metadata": {},
   "outputs": [
    {
     "data": {
      "text/plain": [
       "Counter({'A': 2, 'C': 2, 'G': 6, 'T': 6})"
      ]
     },
     "execution_count": 102,
     "metadata": {},
     "output_type": "execute_result"
    }
   ],
   "source": [
    "p.counts"
   ]
  },
  {
   "cell_type": "code",
   "execution_count": 103,
   "metadata": {},
   "outputs": [
    {
     "data": {
      "text/plain": [
       "'G'"
      ]
     },
     "execution_count": 103,
     "metadata": {},
     "output_type": "execute_result"
    }
   ],
   "source": [
    "p.consensus"
   ]
  },
  {
   "cell_type": "code",
   "execution_count": 104,
   "metadata": {},
   "outputs": [
    {
     "data": {
      "text/plain": [
       "16"
      ]
     },
     "execution_count": 104,
     "metadata": {},
     "output_type": "execute_result"
    }
   ],
   "source": [
    "p.depth"
   ]
  },
  {
   "cell_type": "code",
   "execution_count": null,
   "metadata": {},
   "outputs": [],
   "source": []
  },
  {
   "cell_type": "code",
   "execution_count": null,
   "metadata": {},
   "outputs": [],
   "source": []
  },
  {
   "cell_type": "markdown",
   "metadata": {},
   "source": [
    "### <font color = \"red\">Exercise</font>\n",
    "#### - Implement a dunder method so that we can apply the `len()` function to the pileup object \n",
    "#### - Test the change"
   ]
  },
  {
   "cell_type": "code",
   "execution_count": 105,
   "metadata": {},
   "outputs": [
    {
     "ename": "TypeError",
     "evalue": "object of type 'Pileup' has no len()",
     "output_type": "error",
     "traceback": [
      "\u001b[0;31m---------------------------------------------------------------------------\u001b[0m",
      "\u001b[0;31mTypeError\u001b[0m                                 Traceback (most recent call last)",
      "\u001b[0;32m<ipython-input-105-ad7d50475e2d>\u001b[0m in \u001b[0;36m<module>\u001b[0;34m\u001b[0m\n\u001b[1;32m      1\u001b[0m \u001b[0;31m# we did not tell our class what to do when we apply the function len to our object\u001b[0m\u001b[0;34m\u001b[0m\u001b[0;34m\u001b[0m\u001b[0;34m\u001b[0m\u001b[0m\n\u001b[1;32m      2\u001b[0m \u001b[0;31m# we can do that by implementing the __len__ method see that in the class definition below\u001b[0m\u001b[0;34m\u001b[0m\u001b[0;34m\u001b[0m\u001b[0;34m\u001b[0m\u001b[0m\n\u001b[0;32m----> 3\u001b[0;31m \u001b[0mlen\u001b[0m\u001b[0;34m(\u001b[0m\u001b[0mp\u001b[0m\u001b[0;34m)\u001b[0m\u001b[0;34m\u001b[0m\u001b[0;34m\u001b[0m\u001b[0m\n\u001b[0m",
      "\u001b[0;31mTypeError\u001b[0m: object of type 'Pileup' has no len()"
     ]
    }
   ],
   "source": [
    "# we did not tell our class what to do when we apply the function len to our object\n",
    "# we can do that by implementing the __len__ method see that in the class definition below\n",
    "len(p)"
   ]
  },
  {
   "cell_type": "code",
   "execution_count": null,
   "metadata": {},
   "outputs": [],
   "source": []
  },
  {
   "cell_type": "code",
   "execution_count": 106,
   "metadata": {},
   "outputs": [],
   "source": [
    "# Pileup Object\n",
    "class Pileup:\n",
    "    \"\"\"\n",
    "    Contains a counter of nulceotides aligned at a genomic position and \n",
    "    computes depth and consensus for a genomic position\n",
    "    \n",
    "    Attributes:\n",
    "    counts (Counter):  counter of all nucleotides aligned at the genomic position\n",
    "    depth (int): total number of reads aligned at the genomic position\n",
    "    consensus (str): most common nucleotide\n",
    "    \"\"\"\n",
    "    \n",
    "    \n",
    "    def __init__(self, counts = None):\n",
    "        self.__counts = counts\n",
    "        if self.__counts == None:\n",
    "            self.__counts = Counter()\n",
    "        self.__depth = sum(self.__counts.values())\n",
    "        if self.__depth == 0:\n",
    "            self.__consensus = \"\"        \n",
    "        else:\n",
    "            self.__consensus = self.__counts.most_common()[0][0]\n",
    "\n",
    "    @property # getter\n",
    "    def consensus(self):\n",
    "        \"\"\"\n",
    "        Get the consensus nucleotide for the pileup\n",
    "        \"\"\"\n",
    "        return self.__consensus\n",
    "    \n",
    "    # @set.consensus # property setter\n",
    "    # def consensus(self, cons):\n",
    "    #    self.__consensus = consensus\n",
    "    \n",
    "    @property # getter\n",
    "    def depth(self):\n",
    "        \"\"\"\n",
    "        Get the depth for the pileup - number of reads that aliged at that position\n",
    "        \"\"\"\n",
    "        return self.__depth\n",
    "    \n",
    "    @property # getter\n",
    "    def counts(self):\n",
    "        \"\"\"\n",
    "        Get the counts for the pileup - frequencies of the nucleotides that aligned at that position\n",
    "        \"\"\"\n",
    "        return self.__counts\n",
    "    \n",
    "    @counts.setter # property setter\n",
    "    def counts(self, counts_value):\n",
    "        self.__counts = counts_value\n",
    "        self.__depth = sum(self.__counts.values())\n",
    "        self.__consensus = self.__counts.most_common()[0][0]\n",
    "\n",
    "    def __str__(self):\n",
    "        return f\"Pileup({self.__counts})\"\n",
    "    \n",
    "    def __repr__(self):\n",
    "        return f\"Pileup({self.__counts})\"\n",
    "    \n",
    "    def __add__(self, p):\n",
    "        c = self.__counts.copy()\n",
    "        c.update(p.counts)\n",
    "        return Pileup(c)\n",
    "\n",
    "    # called when the len function is applied to a Pileup object\n",
    "    # e.g. len(p)\n",
    "    def __len__(self):\n",
    "        return self.__depth\n",
    "    \n",
    "    # this is method to test that the first argument in the method is self\n",
    "    def test(arg1, x):\n",
    "        print(x)\n",
    "        \n",
    "        \n",
    "    def update(self, seq):\n",
    "        \"\"\"\n",
    "        Update the counts, depth and consensus nucleotide for the pileup\n",
    "        given a sequence of nucleotides to add to the pileup\n",
    "        \"\"\"\n",
    "        self.__counts.update(seq)\n",
    "        self.__depth = sum(self.__counts.values())\n",
    "        self.__consensus = self.__counts.most_common()[0][0]\n",
    "\n",
    "\n"
   ]
  },
  {
   "cell_type": "code",
   "execution_count": 107,
   "metadata": {},
   "outputs": [],
   "source": [
    "p = Pileup()"
   ]
  },
  {
   "cell_type": "code",
   "execution_count": 108,
   "metadata": {},
   "outputs": [
    {
     "data": {
      "text/plain": [
       "Pileup(Counter())"
      ]
     },
     "execution_count": 108,
     "metadata": {},
     "output_type": "execute_result"
    }
   ],
   "source": [
    "p"
   ]
  },
  {
   "cell_type": "code",
   "execution_count": 109,
   "metadata": {},
   "outputs": [
    {
     "data": {
      "text/plain": [
       "''"
      ]
     },
     "execution_count": 109,
     "metadata": {},
     "output_type": "execute_result"
    }
   ],
   "source": [
    "p.consensus"
   ]
  },
  {
   "cell_type": "code",
   "execution_count": 110,
   "metadata": {},
   "outputs": [
    {
     "data": {
      "text/plain": [
       "Counter()"
      ]
     },
     "execution_count": 110,
     "metadata": {},
     "output_type": "execute_result"
    }
   ],
   "source": [
    "p.counts"
   ]
  },
  {
   "cell_type": "code",
   "execution_count": 111,
   "metadata": {},
   "outputs": [
    {
     "data": {
      "text/plain": [
       "0"
      ]
     },
     "execution_count": 111,
     "metadata": {},
     "output_type": "execute_result"
    }
   ],
   "source": [
    "p.depth"
   ]
  },
  {
   "cell_type": "code",
   "execution_count": 112,
   "metadata": {},
   "outputs": [
    {
     "ename": "AttributeError",
     "evalue": "can't set attribute",
     "output_type": "error",
     "traceback": [
      "\u001b[0;31m---------------------------------------------------------------------------\u001b[0m",
      "\u001b[0;31mAttributeError\u001b[0m                            Traceback (most recent call last)",
      "\u001b[0;32m<ipython-input-112-5e59c2e79d68>\u001b[0m in \u001b[0;36m<module>\u001b[0;34m\u001b[0m\n\u001b[0;32m----> 1\u001b[0;31m \u001b[0mp\u001b[0m\u001b[0;34m.\u001b[0m\u001b[0mconsensus\u001b[0m \u001b[0;34m=\u001b[0m \u001b[0;34m\"T\"\u001b[0m\u001b[0;34m\u001b[0m\u001b[0;34m\u001b[0m\u001b[0m\n\u001b[0m",
      "\u001b[0;31mAttributeError\u001b[0m: can't set attribute"
     ]
    }
   ],
   "source": [
    "p.consensus = \"T\""
   ]
  },
  {
   "cell_type": "code",
   "execution_count": 113,
   "metadata": {},
   "outputs": [],
   "source": [
    "p.counts = Counter(\"ACGTTTT\")"
   ]
  },
  {
   "cell_type": "code",
   "execution_count": 114,
   "metadata": {},
   "outputs": [
    {
     "data": {
      "text/plain": [
       "Counter({'A': 1, 'C': 1, 'G': 1, 'T': 4})"
      ]
     },
     "execution_count": 114,
     "metadata": {},
     "output_type": "execute_result"
    }
   ],
   "source": [
    "p.counts"
   ]
  },
  {
   "cell_type": "code",
   "execution_count": 115,
   "metadata": {},
   "outputs": [
    {
     "data": {
      "text/plain": [
       "7"
      ]
     },
     "execution_count": 115,
     "metadata": {},
     "output_type": "execute_result"
    }
   ],
   "source": [
    "p.depth"
   ]
  },
  {
   "cell_type": "code",
   "execution_count": 116,
   "metadata": {},
   "outputs": [
    {
     "data": {
      "text/plain": [
       "'T'"
      ]
     },
     "execution_count": 116,
     "metadata": {},
     "output_type": "execute_result"
    }
   ],
   "source": [
    "p.consensus"
   ]
  },
  {
   "cell_type": "code",
   "execution_count": 117,
   "metadata": {},
   "outputs": [
    {
     "ename": "AttributeError",
     "evalue": "can't set attribute",
     "output_type": "error",
     "traceback": [
      "\u001b[0;31m---------------------------------------------------------------------------\u001b[0m",
      "\u001b[0;31mAttributeError\u001b[0m                            Traceback (most recent call last)",
      "\u001b[0;32m<ipython-input-117-bf0ee737711b>\u001b[0m in \u001b[0;36m<module>\u001b[0;34m\u001b[0m\n\u001b[0;32m----> 1\u001b[0;31m \u001b[0mp\u001b[0m\u001b[0;34m.\u001b[0m\u001b[0mdepth\u001b[0m \u001b[0;34m=\u001b[0m \u001b[0;36m40\u001b[0m\u001b[0;34m\u001b[0m\u001b[0;34m\u001b[0m\u001b[0m\n\u001b[0m",
      "\u001b[0;31mAttributeError\u001b[0m: can't set attribute"
     ]
    }
   ],
   "source": [
    "p.depth = 40"
   ]
  },
  {
   "cell_type": "code",
   "execution_count": 118,
   "metadata": {},
   "outputs": [
    {
     "data": {
      "text/plain": [
       "7"
      ]
     },
     "execution_count": 118,
     "metadata": {},
     "output_type": "execute_result"
    }
   ],
   "source": [
    "p.depth"
   ]
  },
  {
   "cell_type": "code",
   "execution_count": 119,
   "metadata": {},
   "outputs": [],
   "source": [
    "p.update(\"ACGTTGGGG\")"
   ]
  },
  {
   "cell_type": "code",
   "execution_count": 120,
   "metadata": {},
   "outputs": [
    {
     "data": {
      "text/plain": [
       "Counter({'A': 2, 'C': 2, 'G': 6, 'T': 6})"
      ]
     },
     "execution_count": 120,
     "metadata": {},
     "output_type": "execute_result"
    }
   ],
   "source": [
    "p.counts"
   ]
  },
  {
   "cell_type": "code",
   "execution_count": 121,
   "metadata": {},
   "outputs": [
    {
     "data": {
      "text/plain": [
       "'G'"
      ]
     },
     "execution_count": 121,
     "metadata": {},
     "output_type": "execute_result"
    }
   ],
   "source": [
    "p.consensus"
   ]
  },
  {
   "cell_type": "code",
   "execution_count": 122,
   "metadata": {},
   "outputs": [
    {
     "data": {
      "text/plain": [
       "16"
      ]
     },
     "execution_count": 122,
     "metadata": {},
     "output_type": "execute_result"
    }
   ],
   "source": [
    "p.depth"
   ]
  },
  {
   "cell_type": "code",
   "execution_count": 123,
   "metadata": {},
   "outputs": [
    {
     "data": {
      "text/plain": [
       "16"
      ]
     },
     "execution_count": 123,
     "metadata": {},
     "output_type": "execute_result"
    }
   ],
   "source": [
    "len(p)"
   ]
  },
  {
   "cell_type": "code",
   "execution_count": 124,
   "metadata": {},
   "outputs": [
    {
     "ename": "TypeError",
     "evalue": "object of type 'int' has no len()",
     "output_type": "error",
     "traceback": [
      "\u001b[0;31m---------------------------------------------------------------------------\u001b[0m",
      "\u001b[0;31mTypeError\u001b[0m                                 Traceback (most recent call last)",
      "\u001b[0;32m<ipython-input-124-91fed648bb37>\u001b[0m in \u001b[0;36m<module>\u001b[0;34m\u001b[0m\n\u001b[0;32m----> 1\u001b[0;31m \u001b[0mlen\u001b[0m\u001b[0;34m(\u001b[0m\u001b[0;36m5\u001b[0m\u001b[0;34m)\u001b[0m\u001b[0;34m\u001b[0m\u001b[0;34m\u001b[0m\u001b[0m\n\u001b[0m",
      "\u001b[0;31mTypeError\u001b[0m: object of type 'int' has no len()"
     ]
    }
   ],
   "source": [
    "len(5)"
   ]
  },
  {
   "cell_type": "code",
   "execution_count": 125,
   "metadata": {},
   "outputs": [
    {
     "ename": "TypeError",
     "evalue": "test() missing 1 required positional argument: 'x'",
     "output_type": "error",
     "traceback": [
      "\u001b[0;31m---------------------------------------------------------------------------\u001b[0m",
      "\u001b[0;31mTypeError\u001b[0m                                 Traceback (most recent call last)",
      "\u001b[0;32m<ipython-input-125-4a7eb56bf792>\u001b[0m in \u001b[0;36m<module>\u001b[0;34m\u001b[0m\n\u001b[1;32m      7\u001b[0m \u001b[0;31m# since it is automatically assigned the value of the variable that is being called from in this case p\u001b[0m\u001b[0;34m\u001b[0m\u001b[0;34m\u001b[0m\u001b[0;34m\u001b[0m\u001b[0m\n\u001b[1;32m      8\u001b[0m \u001b[0;34m\u001b[0m\u001b[0m\n\u001b[0;32m----> 9\u001b[0;31m \u001b[0mp\u001b[0m\u001b[0;34m.\u001b[0m\u001b[0mtest\u001b[0m\u001b[0;34m(\u001b[0m\u001b[0;34m)\u001b[0m\u001b[0;34m\u001b[0m\u001b[0;34m\u001b[0m\u001b[0m\n\u001b[0m",
      "\u001b[0;31mTypeError\u001b[0m: test() missing 1 required positional argument: 'x'"
     ]
    }
   ],
   "source": [
    "# from the class we will apply the test method \n",
    "    ## this is method to test that the first argument in the method is self\n",
    "    #  def test(arg1, x):\n",
    "    #    print(x)\n",
    "# The test method only has one argument\n",
    "# the first argument (arg1) is not counted \n",
    "# since it is automatically assigned the value of the variable that is being called from in this case p\n",
    "    \n",
    "p.test()"
   ]
  },
  {
   "cell_type": "code",
   "execution_count": 126,
   "metadata": {},
   "outputs": [
    {
     "name": "stdout",
     "output_type": "stream",
     "text": [
      "5\n"
     ]
    }
   ],
   "source": [
    "p.test(5)"
   ]
  },
  {
   "cell_type": "code",
   "execution_count": 127,
   "metadata": {},
   "outputs": [
    {
     "name": "stdout",
     "output_type": "stream",
     "text": [
      "Pileup(Counter({'G': 6, 'T': 6, 'A': 2, 'C': 2}))\n"
     ]
    }
   ],
   "source": [
    "p.test(p)"
   ]
  },
  {
   "cell_type": "code",
   "execution_count": 128,
   "metadata": {},
   "outputs": [
    {
     "ename": "TypeError",
     "evalue": "test() takes 2 positional arguments but 3 were given",
     "output_type": "error",
     "traceback": [
      "\u001b[0;31m---------------------------------------------------------------------------\u001b[0m",
      "\u001b[0;31mTypeError\u001b[0m                                 Traceback (most recent call last)",
      "\u001b[0;32m<ipython-input-128-92e5ee90c33a>\u001b[0m in \u001b[0;36m<module>\u001b[0;34m\u001b[0m\n\u001b[1;32m      3\u001b[0m \u001b[0;31m# since it is automatically assigned the value of the variable that is being called from\u001b[0m\u001b[0;34m\u001b[0m\u001b[0;34m\u001b[0m\u001b[0;34m\u001b[0m\u001b[0m\n\u001b[1;32m      4\u001b[0m \u001b[0;34m\u001b[0m\u001b[0m\n\u001b[0;32m----> 5\u001b[0;31m \u001b[0mp\u001b[0m\u001b[0;34m.\u001b[0m\u001b[0mtest\u001b[0m\u001b[0;34m(\u001b[0m\u001b[0;36m3\u001b[0m\u001b[0;34m,\u001b[0m\u001b[0;36m4\u001b[0m\u001b[0;34m)\u001b[0m\u001b[0;34m\u001b[0m\u001b[0;34m\u001b[0m\u001b[0m\n\u001b[0m",
      "\u001b[0;31mTypeError\u001b[0m: test() takes 2 positional arguments but 3 were given"
     ]
    }
   ],
   "source": [
    "# The test method only has one argument\n",
    "# the first argument (arg1) is not counted \n",
    "# since it is automatically assigned the value of the variable that is being called from\n",
    "\n",
    "p.test(3,4)"
   ]
  },
  {
   "cell_type": "markdown",
   "metadata": {},
   "source": [
    "### <font color = \"red\">Exercise</font>\n",
    "#### - Create a list of 10 Pileup objects\n",
    "#### - Update the pileup objects with the corresponding sequences fom the following list."
   ]
  },
  {
   "cell_type": "code",
   "execution_count": 129,
   "metadata": {},
   "outputs": [],
   "source": [
    "seq_list = [\"CCCCATTTG\",\"CATTTAG\",\"GGGATC\",\"AACTGA\", \"GCCCTAA\", \"CCCCATTTG\", \"AAAAAC\",\"TTTTTTG\",\"GGGGAT\", \"TTTTA\"]"
   ]
  },
  {
   "cell_type": "code",
   "execution_count": 130,
   "metadata": {},
   "outputs": [],
   "source": [
    "\n",
    "pileup_list = [Pileup(Counter(seq_list[i])) for i in range(10)]"
   ]
  },
  {
   "cell_type": "code",
   "execution_count": 131,
   "metadata": {},
   "outputs": [
    {
     "data": {
      "text/plain": [
       "[Pileup(Counter({'C': 4, 'T': 3, 'A': 1, 'G': 1})),\n",
       " Pileup(Counter({'T': 3, 'A': 2, 'C': 1, 'G': 1})),\n",
       " Pileup(Counter({'G': 3, 'A': 1, 'T': 1, 'C': 1})),\n",
       " Pileup(Counter({'A': 3, 'C': 1, 'T': 1, 'G': 1})),\n",
       " Pileup(Counter({'C': 3, 'A': 2, 'G': 1, 'T': 1})),\n",
       " Pileup(Counter({'C': 4, 'T': 3, 'A': 1, 'G': 1})),\n",
       " Pileup(Counter({'A': 5, 'C': 1})),\n",
       " Pileup(Counter({'T': 6, 'G': 1})),\n",
       " Pileup(Counter({'G': 4, 'A': 1, 'T': 1})),\n",
       " Pileup(Counter({'T': 4, 'A': 1}))]"
      ]
     },
     "execution_count": 131,
     "metadata": {},
     "output_type": "execute_result"
    }
   ],
   "source": [
    "pileup_list"
   ]
  },
  {
   "cell_type": "code",
   "execution_count": 132,
   "metadata": {},
   "outputs": [],
   "source": [
    "# creating a list of empty pileups\n",
    "pileup_list = [Pileup() for i in range(10)]"
   ]
  },
  {
   "cell_type": "code",
   "execution_count": 133,
   "metadata": {},
   "outputs": [
    {
     "data": {
      "text/plain": [
       "[Pileup(Counter()),\n",
       " Pileup(Counter()),\n",
       " Pileup(Counter()),\n",
       " Pileup(Counter()),\n",
       " Pileup(Counter()),\n",
       " Pileup(Counter()),\n",
       " Pileup(Counter()),\n",
       " Pileup(Counter()),\n",
       " Pileup(Counter()),\n",
       " Pileup(Counter())]"
      ]
     },
     "execution_count": 133,
     "metadata": {},
     "output_type": "execute_result"
    }
   ],
   "source": [
    "pileup_list"
   ]
  },
  {
   "cell_type": "code",
   "execution_count": 134,
   "metadata": {},
   "outputs": [],
   "source": [
    "# creating a list of  pileups based on the sequence in seq_list\n",
    "\n",
    "for i in range(10):\n",
    "    pileup_list[i].update(seq_list[i])"
   ]
  },
  {
   "cell_type": "code",
   "execution_count": 135,
   "metadata": {},
   "outputs": [
    {
     "data": {
      "text/plain": [
       "[Pileup(Counter({'C': 4, 'T': 3, 'A': 1, 'G': 1})),\n",
       " Pileup(Counter({'T': 3, 'A': 2, 'C': 1, 'G': 1})),\n",
       " Pileup(Counter({'G': 3, 'A': 1, 'T': 1, 'C': 1})),\n",
       " Pileup(Counter({'A': 3, 'C': 1, 'T': 1, 'G': 1})),\n",
       " Pileup(Counter({'C': 3, 'A': 2, 'G': 1, 'T': 1})),\n",
       " Pileup(Counter({'C': 4, 'T': 3, 'A': 1, 'G': 1})),\n",
       " Pileup(Counter({'A': 5, 'C': 1})),\n",
       " Pileup(Counter({'T': 6, 'G': 1})),\n",
       " Pileup(Counter({'G': 4, 'A': 1, 'T': 1})),\n",
       " Pileup(Counter({'T': 4, 'A': 1}))]"
      ]
     },
     "execution_count": 135,
     "metadata": {},
     "output_type": "execute_result"
    }
   ],
   "source": [
    "pileup_list"
   ]
  },
  {
   "cell_type": "code",
   "execution_count": 136,
   "metadata": {},
   "outputs": [],
   "source": [
    "pileup_list = [Pileup() for i in range(10)]"
   ]
  },
  {
   "cell_type": "code",
   "execution_count": 137,
   "metadata": {},
   "outputs": [
    {
     "data": {
      "text/plain": [
       "[Pileup(Counter()),\n",
       " Pileup(Counter()),\n",
       " Pileup(Counter()),\n",
       " Pileup(Counter()),\n",
       " Pileup(Counter()),\n",
       " Pileup(Counter()),\n",
       " Pileup(Counter()),\n",
       " Pileup(Counter()),\n",
       " Pileup(Counter()),\n",
       " Pileup(Counter())]"
      ]
     },
     "execution_count": 137,
     "metadata": {},
     "output_type": "execute_result"
    }
   ],
   "source": [
    "pileup_list"
   ]
  },
  {
   "cell_type": "code",
   "execution_count": 138,
   "metadata": {},
   "outputs": [
    {
     "data": {
      "text/plain": [
       "[None, None, None, None, None, None, None, None, None, None]"
      ]
     },
     "execution_count": 138,
     "metadata": {},
     "output_type": "execute_result"
    }
   ],
   "source": [
    "list(map(Pileup.update, pileup_list, seq_list))"
   ]
  },
  {
   "cell_type": "code",
   "execution_count": null,
   "metadata": {},
   "outputs": [],
   "source": []
  },
  {
   "cell_type": "code",
   "execution_count": 139,
   "metadata": {},
   "outputs": [
    {
     "data": {
      "text/plain": [
       "[Pileup(Counter({'C': 4, 'T': 3, 'A': 1, 'G': 1})),\n",
       " Pileup(Counter({'T': 3, 'A': 2, 'C': 1, 'G': 1})),\n",
       " Pileup(Counter({'G': 3, 'A': 1, 'T': 1, 'C': 1})),\n",
       " Pileup(Counter({'A': 3, 'C': 1, 'T': 1, 'G': 1})),\n",
       " Pileup(Counter({'C': 3, 'A': 2, 'G': 1, 'T': 1})),\n",
       " Pileup(Counter({'C': 4, 'T': 3, 'A': 1, 'G': 1})),\n",
       " Pileup(Counter({'A': 5, 'C': 1})),\n",
       " Pileup(Counter({'T': 6, 'G': 1})),\n",
       " Pileup(Counter({'G': 4, 'A': 1, 'T': 1})),\n",
       " Pileup(Counter({'T': 4, 'A': 1}))]"
      ]
     },
     "execution_count": 139,
     "metadata": {},
     "output_type": "execute_result"
    }
   ],
   "source": [
    "pileup_list"
   ]
  },
  {
   "cell_type": "code",
   "execution_count": null,
   "metadata": {},
   "outputs": [],
   "source": []
  },
  {
   "cell_type": "code",
   "execution_count": null,
   "metadata": {},
   "outputs": [],
   "source": []
  },
  {
   "cell_type": "markdown",
   "metadata": {},
   "source": [
    "### <font color = \"red\">Exercise</font>\n",
    "#### - Implement a method that compares the pileup it is called for with another given pileup and returns a tuple with the consensus for the two pileups and the ratio of the consensus frequencies available for the consensus in the counts attribute. \n",
    "#### - Test the change"
   ]
  },
  {
   "cell_type": "code",
   "execution_count": 140,
   "metadata": {},
   "outputs": [],
   "source": [
    "# Pileup Object\n",
    "class Pileup:\n",
    "    \"\"\"\n",
    "    Contains a counter of nulceotides aligned at a genomic position and \n",
    "    computes depth and consensus for a genomic position\n",
    "    \n",
    "    Attributes:\n",
    "    counts (Counter):  counter of all nucleotides aligned at the genomic position\n",
    "    depth (int): total number of reads aligned at the genomic position\n",
    "    consensus (str): most common nucleotide\n",
    "    \"\"\"\n",
    "    \n",
    "    \n",
    "    def __init__(self, counts = None):\n",
    "        self.__counts = counts\n",
    "        if self.__counts == None:\n",
    "            self.__counts = Counter()\n",
    "        self.__depth = sum(self.__counts.values())\n",
    "        if self.__depth == 0:\n",
    "            self.__consensus = \"\"        \n",
    "        else:\n",
    "            self.__consensus = self.__counts.most_common()[0][0]\n",
    "\n",
    "    @property # getter\n",
    "    def consensus(self):\n",
    "        \"\"\"\n",
    "        Get the consensus nucleotide for the pileup\n",
    "        \"\"\"\n",
    "        return self.__consensus\n",
    "    \n",
    "    # @set.consensus # property setter\n",
    "    # def consensus(self, cons):\n",
    "    #    self.__consensus = consensus\n",
    "    \n",
    "    @property # getter\n",
    "    def depth(self):\n",
    "        \"\"\"\n",
    "        Get the depth for the pileup - number of reads that aliged at that position\n",
    "        \"\"\"\n",
    "        return self.__depth\n",
    "    \n",
    "    @property # getter\n",
    "    def counts(self):\n",
    "        \"\"\"\n",
    "        Get the counts for the pileup - frequencies of the nucleotides that aligned at that position\n",
    "        \"\"\"\n",
    "        return self.__counts\n",
    "    \n",
    "    @counts.setter # property setter\n",
    "    def counts(self, counts_value):\n",
    "        self.__counts = counts_value\n",
    "        self.__depth = sum(self.__counts.values())\n",
    "        self.__consensus = self.__counts.most_common()[0][0]\n",
    "\n",
    "    def __str__(self):\n",
    "        return f\"Pileup({self.__counts})\"\n",
    "    \n",
    "    def __repr__(self):\n",
    "        return f\"Pileup({self.__counts})\"\n",
    "    \n",
    "    def __add__(self, p):\n",
    "        c = self.__counts.copy()\n",
    "        c.update(p.counts)\n",
    "        return Pileup(c)\n",
    "    \n",
    "    def __len__(self):\n",
    "        return self.__depth\n",
    "        \n",
    "        \n",
    "    def update(self, seq):\n",
    "        \"\"\"\n",
    "        Update the counts, depth and consensus for the pileup\n",
    "        given a sequence of nucleotides to add to the pileup\n",
    "        \"\"\"\n",
    "        self.__counts.update(seq)\n",
    "        self.__depth = sum(self.__counts.values())\n",
    "        self.__consensus = self.__counts.most_common()[0][0]\n",
    "        \n",
    "    def compare_pileup(self, p):\n",
    "        \"\"\"\n",
    "        Creates a tuple with three elements:\n",
    "        - consensus of the pileup we are calling this method for\n",
    "        - consensus of the pileup p given as an argumet\n",
    "        - ration of the frequencies of the consensus in the counts for each of the pileups\n",
    "        \"\"\"\n",
    "        tuple_res = ()\n",
    "        f1 = self.__counts[self.__consensus]\n",
    "        f2 = p.counts[p.consensus]\n",
    "        try: \n",
    "            tuple_res = (self.__consensus, p.consensus, f1/f2)\n",
    "        except ZeroDivisionError:\n",
    "            tuple_res = (self.__consensus, p.consensus, 0)\n",
    "        return tuple_res\n",
    "\n",
    "\n"
   ]
  },
  {
   "cell_type": "code",
   "execution_count": 141,
   "metadata": {},
   "outputs": [
    {
     "ename": "ZeroDivisionError",
     "evalue": "division by zero",
     "output_type": "error",
     "traceback": [
      "\u001b[0;31m---------------------------------------------------------------------------\u001b[0m",
      "\u001b[0;31mZeroDivisionError\u001b[0m                         Traceback (most recent call last)",
      "\u001b[0;32m<ipython-input-141-f6cc6d14333b>\u001b[0m in \u001b[0;36m<module>\u001b[0;34m\u001b[0m\n\u001b[0;32m----> 1\u001b[0;31m \u001b[0;36m3\u001b[0m\u001b[0;34m/\u001b[0m\u001b[0;36m0\u001b[0m\u001b[0;34m\u001b[0m\u001b[0;34m\u001b[0m\u001b[0m\n\u001b[0m",
      "\u001b[0;31mZeroDivisionError\u001b[0m: division by zero"
     ]
    }
   ],
   "source": [
    "3/0"
   ]
  },
  {
   "cell_type": "code",
   "execution_count": null,
   "metadata": {},
   "outputs": [],
   "source": []
  },
  {
   "cell_type": "code",
   "execution_count": null,
   "metadata": {},
   "outputs": [],
   "source": []
  },
  {
   "cell_type": "code",
   "execution_count": 142,
   "metadata": {},
   "outputs": [],
   "source": [
    "p = Pileup()"
   ]
  },
  {
   "cell_type": "code",
   "execution_count": 143,
   "metadata": {},
   "outputs": [
    {
     "data": {
      "text/plain": [
       "Pileup(Counter())"
      ]
     },
     "execution_count": 143,
     "metadata": {},
     "output_type": "execute_result"
    }
   ],
   "source": [
    "p"
   ]
  },
  {
   "cell_type": "code",
   "execution_count": 144,
   "metadata": {},
   "outputs": [
    {
     "data": {
      "text/plain": [
       "''"
      ]
     },
     "execution_count": 144,
     "metadata": {},
     "output_type": "execute_result"
    }
   ],
   "source": [
    "p.consensus"
   ]
  },
  {
   "cell_type": "code",
   "execution_count": 145,
   "metadata": {},
   "outputs": [
    {
     "data": {
      "text/plain": [
       "Counter()"
      ]
     },
     "execution_count": 145,
     "metadata": {},
     "output_type": "execute_result"
    }
   ],
   "source": [
    "p.counts"
   ]
  },
  {
   "cell_type": "code",
   "execution_count": 146,
   "metadata": {},
   "outputs": [
    {
     "data": {
      "text/plain": [
       "0"
      ]
     },
     "execution_count": 146,
     "metadata": {},
     "output_type": "execute_result"
    }
   ],
   "source": [
    "p.depth"
   ]
  },
  {
   "cell_type": "code",
   "execution_count": 147,
   "metadata": {},
   "outputs": [
    {
     "ename": "AttributeError",
     "evalue": "can't set attribute",
     "output_type": "error",
     "traceback": [
      "\u001b[0;31m---------------------------------------------------------------------------\u001b[0m",
      "\u001b[0;31mAttributeError\u001b[0m                            Traceback (most recent call last)",
      "\u001b[0;32m<ipython-input-147-5e59c2e79d68>\u001b[0m in \u001b[0;36m<module>\u001b[0;34m\u001b[0m\n\u001b[0;32m----> 1\u001b[0;31m \u001b[0mp\u001b[0m\u001b[0;34m.\u001b[0m\u001b[0mconsensus\u001b[0m \u001b[0;34m=\u001b[0m \u001b[0;34m\"T\"\u001b[0m\u001b[0;34m\u001b[0m\u001b[0;34m\u001b[0m\u001b[0m\n\u001b[0m",
      "\u001b[0;31mAttributeError\u001b[0m: can't set attribute"
     ]
    }
   ],
   "source": [
    "p.consensus = \"T\""
   ]
  },
  {
   "cell_type": "code",
   "execution_count": 148,
   "metadata": {},
   "outputs": [],
   "source": [
    "p.counts = Counter(\"ACGTTTT\")"
   ]
  },
  {
   "cell_type": "code",
   "execution_count": 149,
   "metadata": {},
   "outputs": [
    {
     "data": {
      "text/plain": [
       "Counter({'A': 1, 'C': 1, 'G': 1, 'T': 4})"
      ]
     },
     "execution_count": 149,
     "metadata": {},
     "output_type": "execute_result"
    }
   ],
   "source": [
    "p.counts"
   ]
  },
  {
   "cell_type": "code",
   "execution_count": 150,
   "metadata": {},
   "outputs": [
    {
     "data": {
      "text/plain": [
       "7"
      ]
     },
     "execution_count": 150,
     "metadata": {},
     "output_type": "execute_result"
    }
   ],
   "source": [
    "p.depth"
   ]
  },
  {
   "cell_type": "code",
   "execution_count": 151,
   "metadata": {},
   "outputs": [
    {
     "data": {
      "text/plain": [
       "'T'"
      ]
     },
     "execution_count": 151,
     "metadata": {},
     "output_type": "execute_result"
    }
   ],
   "source": [
    "p.consensus"
   ]
  },
  {
   "cell_type": "code",
   "execution_count": 152,
   "metadata": {},
   "outputs": [
    {
     "ename": "AttributeError",
     "evalue": "can't set attribute",
     "output_type": "error",
     "traceback": [
      "\u001b[0;31m---------------------------------------------------------------------------\u001b[0m",
      "\u001b[0;31mAttributeError\u001b[0m                            Traceback (most recent call last)",
      "\u001b[0;32m<ipython-input-152-bf0ee737711b>\u001b[0m in \u001b[0;36m<module>\u001b[0;34m\u001b[0m\n\u001b[0;32m----> 1\u001b[0;31m \u001b[0mp\u001b[0m\u001b[0;34m.\u001b[0m\u001b[0mdepth\u001b[0m \u001b[0;34m=\u001b[0m \u001b[0;36m40\u001b[0m\u001b[0;34m\u001b[0m\u001b[0;34m\u001b[0m\u001b[0m\n\u001b[0m",
      "\u001b[0;31mAttributeError\u001b[0m: can't set attribute"
     ]
    }
   ],
   "source": [
    "p.depth = 40"
   ]
  },
  {
   "cell_type": "code",
   "execution_count": 153,
   "metadata": {},
   "outputs": [
    {
     "data": {
      "text/plain": [
       "7"
      ]
     },
     "execution_count": 153,
     "metadata": {},
     "output_type": "execute_result"
    }
   ],
   "source": [
    "p.depth"
   ]
  },
  {
   "cell_type": "code",
   "execution_count": 154,
   "metadata": {},
   "outputs": [],
   "source": [
    "p.update(\"ACGTTGGGG\")"
   ]
  },
  {
   "cell_type": "code",
   "execution_count": 155,
   "metadata": {},
   "outputs": [
    {
     "data": {
      "text/plain": [
       "Counter({'A': 2, 'C': 2, 'G': 6, 'T': 6})"
      ]
     },
     "execution_count": 155,
     "metadata": {},
     "output_type": "execute_result"
    }
   ],
   "source": [
    "p.counts"
   ]
  },
  {
   "cell_type": "code",
   "execution_count": 156,
   "metadata": {},
   "outputs": [
    {
     "data": {
      "text/plain": [
       "'G'"
      ]
     },
     "execution_count": 156,
     "metadata": {},
     "output_type": "execute_result"
    }
   ],
   "source": [
    "p.consensus"
   ]
  },
  {
   "cell_type": "code",
   "execution_count": 157,
   "metadata": {},
   "outputs": [
    {
     "data": {
      "text/plain": [
       "16"
      ]
     },
     "execution_count": 157,
     "metadata": {},
     "output_type": "execute_result"
    }
   ],
   "source": [
    "p.depth"
   ]
  },
  {
   "cell_type": "code",
   "execution_count": 158,
   "metadata": {},
   "outputs": [
    {
     "data": {
      "text/plain": [
       "16"
      ]
     },
     "execution_count": 158,
     "metadata": {},
     "output_type": "execute_result"
    }
   ],
   "source": [
    "len(p)"
   ]
  },
  {
   "cell_type": "code",
   "execution_count": 159,
   "metadata": {},
   "outputs": [
    {
     "ename": "TypeError",
     "evalue": "object of type 'int' has no len()",
     "output_type": "error",
     "traceback": [
      "\u001b[0;31m---------------------------------------------------------------------------\u001b[0m",
      "\u001b[0;31mTypeError\u001b[0m                                 Traceback (most recent call last)",
      "\u001b[0;32m<ipython-input-159-91fed648bb37>\u001b[0m in \u001b[0;36m<module>\u001b[0;34m\u001b[0m\n\u001b[0;32m----> 1\u001b[0;31m \u001b[0mlen\u001b[0m\u001b[0;34m(\u001b[0m\u001b[0;36m5\u001b[0m\u001b[0;34m)\u001b[0m\u001b[0;34m\u001b[0m\u001b[0;34m\u001b[0m\u001b[0m\n\u001b[0m",
      "\u001b[0;31mTypeError\u001b[0m: object of type 'int' has no len()"
     ]
    }
   ],
   "source": [
    "len(5)"
   ]
  },
  {
   "cell_type": "code",
   "execution_count": null,
   "metadata": {},
   "outputs": [],
   "source": []
  },
  {
   "cell_type": "code",
   "execution_count": 163,
   "metadata": {},
   "outputs": [],
   "source": [
    "p1 = Pileup(Counter(\"AACTTTGAAAAA\"))"
   ]
  },
  {
   "cell_type": "code",
   "execution_count": 164,
   "metadata": {},
   "outputs": [
    {
     "data": {
      "text/plain": [
       "Pileup(Counter({'A': 7, 'T': 3, 'C': 1, 'G': 1}))"
      ]
     },
     "execution_count": 164,
     "metadata": {},
     "output_type": "execute_result"
    }
   ],
   "source": [
    "p1"
   ]
  },
  {
   "cell_type": "code",
   "execution_count": 165,
   "metadata": {},
   "outputs": [
    {
     "data": {
      "text/plain": [
       "('G', 'A', 0.8571428571428571)"
      ]
     },
     "execution_count": 165,
     "metadata": {},
     "output_type": "execute_result"
    }
   ],
   "source": [
    "p.compare_pileup(p1)"
   ]
  },
  {
   "cell_type": "code",
   "execution_count": 166,
   "metadata": {},
   "outputs": [
    {
     "data": {
      "text/plain": [
       "('G', '', 0)"
      ]
     },
     "execution_count": 166,
     "metadata": {},
     "output_type": "execute_result"
    }
   ],
   "source": [
    "p.compare_pileup(Pileup())"
   ]
  },
  {
   "cell_type": "code",
   "execution_count": 167,
   "metadata": {},
   "outputs": [],
   "source": [
    "pileup_list = [Pileup(Counter(seq_list[i])) for i in range(10)]"
   ]
  },
  {
   "cell_type": "code",
   "execution_count": 168,
   "metadata": {},
   "outputs": [
    {
     "data": {
      "text/plain": [
       "[Pileup(Counter({'C': 4, 'T': 3, 'A': 1, 'G': 1})),\n",
       " Pileup(Counter({'T': 3, 'A': 2, 'C': 1, 'G': 1})),\n",
       " Pileup(Counter({'G': 3, 'A': 1, 'T': 1, 'C': 1})),\n",
       " Pileup(Counter({'A': 3, 'C': 1, 'T': 1, 'G': 1})),\n",
       " Pileup(Counter({'C': 3, 'A': 2, 'G': 1, 'T': 1})),\n",
       " Pileup(Counter({'C': 4, 'T': 3, 'A': 1, 'G': 1})),\n",
       " Pileup(Counter({'A': 5, 'C': 1})),\n",
       " Pileup(Counter({'T': 6, 'G': 1})),\n",
       " Pileup(Counter({'G': 4, 'A': 1, 'T': 1})),\n",
       " Pileup(Counter({'T': 4, 'A': 1}))]"
      ]
     },
     "execution_count": 168,
     "metadata": {},
     "output_type": "execute_result"
    }
   ],
   "source": [
    "pileup_list"
   ]
  },
  {
   "cell_type": "code",
   "execution_count": 169,
   "metadata": {},
   "outputs": [
    {
     "data": {
      "text/plain": [
       "('C', 'T', 1.3333333333333333)"
      ]
     },
     "execution_count": 169,
     "metadata": {},
     "output_type": "execute_result"
    }
   ],
   "source": [
    "pileup_list[0].compare_pileup(pileup_list[1])"
   ]
  },
  {
   "cell_type": "markdown",
   "metadata": {},
   "source": [
    "### An alternative is to compare the pileups and compute the tuple (variant) in a function outside of the class"
   ]
  },
  {
   "cell_type": "code",
   "execution_count": 170,
   "metadata": {},
   "outputs": [],
   "source": [
    "# Pileup Object\n",
    "class Pileup:\n",
    "    \"\"\"\n",
    "    Contains a counter of nulceotides aligned at a genomic position and \n",
    "    computes depth and consensus for a genomic position\n",
    "    \n",
    "    Attributes:\n",
    "    counts (Counter):  counter of all nucleotides aligned at the genomic position\n",
    "    depth (int): total number of reads aligned at the genomic position\n",
    "    consensus (str): most common nucleotide\n",
    "    \"\"\"\n",
    "    \n",
    "    \n",
    "    def __init__(self, counts = None):\n",
    "        self.__counts = counts\n",
    "        if self.__counts == None:\n",
    "            self.__counts = Counter()\n",
    "        self.__depth = sum(self.__counts.values())\n",
    "        if self.__depth == 0:\n",
    "            self.__consensus = \"\"        \n",
    "        else:\n",
    "            self.__consensus = self.__counts.most_common()[0][0]\n",
    "\n",
    "    @property # getter\n",
    "    def consensus(self):\n",
    "        \"\"\"\n",
    "        Get the consensus nucleotide for the pileup\n",
    "        \"\"\"\n",
    "        return self.__consensus\n",
    "    \n",
    "    # @set.consensus # property setter\n",
    "    # def consensus(self, cons):\n",
    "    #    self.__consensus = consensus\n",
    "    \n",
    "    @property # getter\n",
    "    def depth(self):\n",
    "        \"\"\"\n",
    "        Get the depth for the pileup - number of reads that aliged at that position\n",
    "        \"\"\"\n",
    "        return self.__depth\n",
    "    \n",
    "    @property # getter\n",
    "    def counts(self):\n",
    "        \"\"\"\n",
    "        Get the counts for the pileup - frequencies of the nucleotides that aligned at that position\n",
    "        \"\"\"\n",
    "        return self.__counts\n",
    "    \n",
    "    @counts.setter # property setter\n",
    "    def counts(self, counts_value):\n",
    "        self.__counts = counts_value\n",
    "        self.__depth = sum(self.__counts.values())\n",
    "        self.__consensus = self.__counts.most_common()[0][0]\n",
    "\n",
    "    def __str__(self):\n",
    "        return f\"Pileup({self.__counts})\"\n",
    "    \n",
    "    def __repr__(self):\n",
    "        return f\"Pileup({self.__counts})\"\n",
    "    \n",
    "    def __add__(self, p):\n",
    "        c = self.__counts.copy() \n",
    "        c.update(p.counts)\n",
    "        return Pileup(c)\n",
    "    \n",
    "    def __len__(self):\n",
    "        return self.__depth\n",
    "    \n",
    "    def test(self, x):\n",
    "        print(x)\n",
    "        \n",
    "        \n",
    "    def update(self, seq):\n",
    "        \"\"\"\n",
    "        Update the counts, depth and consensus for the pileup\n",
    "        given a sequence of nucleotides to add to the pileup\n",
    "        \"\"\"\n",
    "        self.__counts.update(seq)\n",
    "        self.__depth = sum(self.__counts.values())\n",
    "        self.__consensus = self.__counts.most_common()[0][0]\n",
    "\n",
    "\n",
    "\n"
   ]
  },
  {
   "cell_type": "code",
   "execution_count": 171,
   "metadata": {},
   "outputs": [],
   "source": [
    "def create_variant(pn,pt):\n",
    "        \"\"\"\n",
    "        Creates a tuple with three elements:\n",
    "        - consensus of the pileup we are calling this method for\n",
    "        - consensus of the pileup p given as an argumet\n",
    "        - ration of the frequencies of the consensus in the counts for each of the pileups\n",
    "        \"\"\"\n",
    "        tuple_res = ()\n",
    "        f1 = pn.counts[pn.consensus]\n",
    "        f2 = pt.counts[pt.consensus]\n",
    "        try: \n",
    "            tuple_res = (pn.consensus, pt.consensus, f1/f2)\n",
    "        except ZeroDivisionError:\n",
    "            tuple_res = (pn.consensus, pt.consensus, 0)\n",
    "        return tuple_res    "
   ]
  },
  {
   "cell_type": "code",
   "execution_count": 172,
   "metadata": {},
   "outputs": [],
   "source": [
    "p1 = Pileup(Counter(\"CCCGT\"))"
   ]
  },
  {
   "cell_type": "code",
   "execution_count": 173,
   "metadata": {},
   "outputs": [
    {
     "data": {
      "text/plain": [
       "('C', '', 0)"
      ]
     },
     "execution_count": 173,
     "metadata": {},
     "output_type": "execute_result"
    }
   ],
   "source": [
    "create_variant(p1, Pileup())"
   ]
  },
  {
   "cell_type": "code",
   "execution_count": 174,
   "metadata": {},
   "outputs": [],
   "source": [
    "p2 = Pileup(Counter(\"GGGGTACGGGG\"))"
   ]
  },
  {
   "cell_type": "code",
   "execution_count": 175,
   "metadata": {},
   "outputs": [
    {
     "data": {
      "text/plain": [
       "('G', 'C', 2.6666666666666665)"
      ]
     },
     "execution_count": 175,
     "metadata": {},
     "output_type": "execute_result"
    }
   ],
   "source": [
    "create_variant(p2, p1)"
   ]
  },
  {
   "cell_type": "code",
   "execution_count": null,
   "metadata": {},
   "outputs": [],
   "source": []
  },
  {
   "cell_type": "code",
   "execution_count": null,
   "metadata": {},
   "outputs": [],
   "source": []
  },
  {
   "cell_type": "markdown",
   "metadata": {},
   "source": [
    "## Unrelated extra example"
   ]
  },
  {
   "cell_type": "markdown",
   "metadata": {},
   "source": [
    "### Passing arguments to a function by value or by reference"
   ]
  },
  {
   "cell_type": "code",
   "execution_count": null,
   "metadata": {},
   "outputs": [],
   "source": []
  },
  {
   "cell_type": "code",
   "execution_count": 229,
   "metadata": {},
   "outputs": [],
   "source": [
    "## By reference - using the variable name for a list, set, dict ..."
   ]
  },
  {
   "cell_type": "code",
   "execution_count": 219,
   "metadata": {},
   "outputs": [],
   "source": [
    "def test(d):\n",
    "    d[\"A\"] = 2120"
   ]
  },
  {
   "cell_type": "code",
   "execution_count": 220,
   "metadata": {},
   "outputs": [],
   "source": [
    "d1 = {\"A\":4, \"B\":5}"
   ]
  },
  {
   "cell_type": "code",
   "execution_count": 221,
   "metadata": {},
   "outputs": [
    {
     "data": {
      "text/plain": [
       "{'A': 4, 'B': 5}"
      ]
     },
     "execution_count": 221,
     "metadata": {},
     "output_type": "execute_result"
    }
   ],
   "source": [
    "d1"
   ]
  },
  {
   "cell_type": "code",
   "execution_count": 222,
   "metadata": {},
   "outputs": [],
   "source": [
    "test(d1)"
   ]
  },
  {
   "cell_type": "code",
   "execution_count": 223,
   "metadata": {},
   "outputs": [
    {
     "data": {
      "text/plain": [
       "{'A': 2120, 'B': 5}"
      ]
     },
     "execution_count": 223,
     "metadata": {},
     "output_type": "execute_result"
    }
   ],
   "source": [
    "d1"
   ]
  },
  {
   "cell_type": "code",
   "execution_count": null,
   "metadata": {},
   "outputs": [],
   "source": []
  },
  {
   "cell_type": "code",
   "execution_count": null,
   "metadata": {},
   "outputs": [],
   "source": [
    "## By value - unpacking the vaariable values using * or ** for a list, set, dict ..."
   ]
  },
  {
   "cell_type": "code",
   "execution_count": 224,
   "metadata": {},
   "outputs": [],
   "source": [
    "def test(**d):\n",
    "    x = d[\"A\"]\n",
    "    x = x + 5\n",
    "    \n",
    "    d[\"A\"] = 4000"
   ]
  },
  {
   "cell_type": "code",
   "execution_count": 225,
   "metadata": {},
   "outputs": [],
   "source": [
    "test(**d1)"
   ]
  },
  {
   "cell_type": "code",
   "execution_count": 226,
   "metadata": {},
   "outputs": [
    {
     "data": {
      "text/plain": [
       "{'A': 2120, 'B': 5}"
      ]
     },
     "execution_count": 226,
     "metadata": {},
     "output_type": "execute_result"
    }
   ],
   "source": [
    "d1"
   ]
  },
  {
   "cell_type": "code",
   "execution_count": null,
   "metadata": {},
   "outputs": [],
   "source": []
  }
 ],
 "metadata": {
  "kernelspec": {
   "display_name": "Python 3",
   "language": "python",
   "name": "python3"
  },
  "language_info": {
   "codemirror_mode": {
    "name": "ipython",
    "version": 3
   },
   "file_extension": ".py",
   "mimetype": "text/x-python",
   "name": "python",
   "nbconvert_exporter": "python",
   "pygments_lexer": "ipython3",
   "version": "3.8.3"
  }
 },
 "nbformat": 4,
 "nbformat_minor": 4
}
